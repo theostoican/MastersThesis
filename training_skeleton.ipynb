{
  "cells": [
    {
      "cell_type": "markdown",
      "metadata": {
        "id": "view-in-github",
        "colab_type": "text"
      },
      "source": [
        "<a href=\"https://colab.research.google.com/github/theostoican/MastersThesis/blob/main/training_skeleton.ipynb\" target=\"_parent\"><img src=\"https://colab.research.google.com/assets/colab-badge.svg\" alt=\"Open In Colab\"/></a>"
      ]
    },
    {
      "cell_type": "code",
      "execution_count": 92,
      "metadata": {
        "id": "4cKo7_tWleLC"
      },
      "outputs": [],
      "source": [
        "import copy\n",
        "import csv\n",
        "import torch.nn as nn\n",
        "import numpy as np\n",
        "import torch\n",
        "from torch.autograd import Variable\n",
        "\n",
        "import matplotlib.pyplot as plt\n",
        "import matplotlib"
      ]
    },
    {
      "cell_type": "markdown",
      "metadata": {
        "id": "w8SjHkIMoI_B"
      },
      "source": [
        "# Various modelling parameters"
      ]
    },
    {
      "cell_type": "code",
      "execution_count": 93,
      "metadata": {
        "id": "F8ktizbMoKWO"
      },
      "outputs": [],
      "source": [
        "#N is batch size; D_in is input dimension;\n",
        "#H is the dimension of the hidden layer; D_out is output dimension.\n",
        "N, D_in, H_teacher, H_student, D_out = 1, 2, 4, 5, 1\n",
        "num_experiments = 1"
      ]
    },
    {
      "cell_type": "markdown",
      "metadata": {
        "id": "0ptEq_k5KeK6"
      },
      "source": [
        "# Dataset creation"
      ]
    },
    {
      "cell_type": "code",
      "execution_count": 94,
      "metadata": {
        "colab": {
          "base_uri": "https://localhost:8080/"
        },
        "id": "z7WSK5OS-_Jb",
        "outputId": "94ab1273-3fdf-45a6-e64c-df8e8b3f6589"
      },
      "outputs": [
        {
          "output_type": "stream",
          "name": "stdout",
          "text": [
            "1681\n"
          ]
        }
      ],
      "source": [
        "def construct_dataset():\n",
        "  data = []\n",
        "  for y in np.arange(-5, 5.1, .25):\n",
        "    for x in np.arange(-5, 5.1, .25):\n",
        "      data.append([x, y])\n",
        "  return data\n",
        "\n",
        "data = torch.Tensor(construct_dataset()) \n",
        "print(len(construct_dataset()))"
      ]
    },
    {
      "cell_type": "markdown",
      "metadata": {
        "id": "L0ZEwEx3Kg9_"
      },
      "source": [
        "# Models"
      ]
    },
    {
      "cell_type": "code",
      "execution_count": 95,
      "metadata": {
        "id": "QLlxqBcnzo2e"
      },
      "outputs": [],
      "source": [
        "class TeacherNetwork(nn.Module):\n",
        "  def __init__(self, D_in, H, D_out):\n",
        "    \"\"\"\n",
        "    In the constructor we instantiate two nn.Linear modules and assign them as\n",
        "    member variables.\n",
        "\n",
        "    D_in: input dimension\n",
        "    H: dimension of hidden layer\n",
        "    D_out: output dimension of the first layer\n",
        "    \"\"\"\n",
        "    super(TeacherNetwork, self).__init__()\n",
        "    self.linear1 = nn.Linear(D_in, H, bias=False) \n",
        "    self.linear2 = nn.Linear(H, D_out, bias=False)\n",
        "    self.linear1.weight = torch.nn.Parameter(torch.transpose(torch.Tensor([[0.6, -0.5, -0.2, 0.1], [0.5, 0.5, -0.6, -0.6]]), 0, 1))\n",
        "    self.linear2.weight = torch.nn.Parameter(torch.transpose(torch.Tensor([[1], [1], [1], [1]]), 0, 1))\n",
        "  def forward(self, x):\n",
        "    \"\"\"\n",
        "    In the forward function we accept a Variable of input data and we must\n",
        "    return a Variable of output data. We can use Modules defined in the\n",
        "    constructor as well as arbitrary operators on Variables.\n",
        "    \"\"\"\n",
        "    h_sigmoid = torch.sigmoid(self.linear1(x))\n",
        "    y_pred = self.linear2(h_sigmoid)\n",
        "    return y_pred"
      ]
    },
    {
      "cell_type": "code",
      "execution_count": 96,
      "metadata": {
        "id": "COkLdjEOmBJV"
      },
      "outputs": [],
      "source": [
        "class StudentNetwork(nn.Module):\n",
        "  def __init__(self, D_in, H, D_out):\n",
        "    \"\"\"\n",
        "    In the constructor we instantiate two nn.Linear modules and assign them as\n",
        "    member variables.\n",
        "\n",
        "    D_in: input dimension\n",
        "    H: dimension of hidden layer\n",
        "    D_out: output dimension of the first layer\n",
        "    \"\"\"\n",
        "    super(StudentNetwork, self).__init__()\n",
        "    self.linear1 = nn.Linear(D_in, H, bias=False) \n",
        "    self.linear2 = nn.Linear(H, D_out, bias=False)\n",
        "    nn.init.xavier_uniform_(self.linear1.weight)\n",
        "    nn.init.xavier_uniform_(self.linear2.weight)\n",
        "  def forward(self, x):\n",
        "    \"\"\"\n",
        "    In the forward function we accept a Variable of input data and we must\n",
        "    return a Variable of output data. We can use Modules defined in the\n",
        "    constructor as well as arbitrary operators on Variables.\n",
        "    \"\"\"\n",
        "    h_sigmoid = torch.sigmoid(self.linear1(x))\n",
        "    y_pred = self.linear2(h_sigmoid)\n",
        "    return y_pred"
      ]
    },
    {
      "cell_type": "markdown",
      "metadata": {
        "id": "Xh4A8WS3HzeU"
      },
      "source": [
        "# Generation of the labels based on the teacher model."
      ]
    },
    {
      "cell_type": "code",
      "execution_count": 97,
      "metadata": {
        "id": "ILSXsIRu3U18"
      },
      "outputs": [],
      "source": [
        "teacher_model = TeacherNetwork(D_in, H_teacher, D_out)\n",
        "y_labels = teacher_model(data).detach()"
      ]
    },
    {
      "cell_type": "markdown",
      "metadata": {
        "id": "RZrYxLLwKk6Q"
      },
      "source": [
        "# Training helper method"
      ]
    },
    {
      "cell_type": "code",
      "execution_count": 98,
      "metadata": {
        "id": "kS2Ri_ya9Npv"
      },
      "outputs": [],
      "source": [
        "def train(model, x, y_labels, N = 1000, Ninner = 10**3, Nstart = 10,\n",
        "          maxtime = 10 ** 3, nlopt_threshold = 1e-7,\n",
        "          collect_history = True):\n",
        "  optimizer = torch.optim.Adam(model.parameters(), lr=0.0001)\n",
        "  loss_fn = nn.MSELoss()\n",
        "  loss_vals = []\n",
        "  trace = []\n",
        "  if collect_history:\n",
        "    trace.append((copy.deepcopy(model.linear1.weight.data.detach().numpy()),\n",
        "                  copy.deepcopy(model.linear2.weight.data.detach().numpy())))\n",
        "  for i in range(N):\n",
        "    loss_tmp = []\n",
        "    for j in range(Ninner):\n",
        "      y = model(x)\n",
        "      loss = loss_fn(y, y_labels)\n",
        "      loss_grad = torch.autograd.grad(loss, model.parameters(), retain_graph=True)\n",
        "      loss_tmp.append(loss.item())\n",
        "      optimizer.zero_grad()\n",
        "      loss.backward(retain_graph=True)\n",
        "      optimizer.step()\n",
        "      if i == 0 and (j % Nstart == 0) and j > 0:\n",
        "        loss_vals.append(np.mean(loss_tmp[j - Nstart : j]))\n",
        "        if collect_history:\n",
        "          trace.append((copy.deepcopy(model.linear1.weight.data.detach().numpy()),\n",
        "                        copy.deepcopy(model.linear2.weight.data.detach().numpy())))\n",
        "    loss_vals.append(np.mean(loss_tmp))\n",
        "    if collect_history:\n",
        "      trace.append((copy.deepcopy(model.linear1.weight.data.detach().numpy()),\n",
        "                    copy.deepcopy(model.linear2.weight.data.detach().numpy())))\n",
        "    # stopping criterion\n",
        "    cnt = 0\n",
        "    for g in loss_grad:\n",
        "        g_vector = g.contiguous().view(-1) if cnt == 0 else torch.cat([g_vector, g.contiguous().view(-1)])\n",
        "        cnt = 1\n",
        "    print(\"Iteration: %d, loss: %s, gradient norm: %s\" % (Ninner * i, np.mean(loss_tmp), torch.norm(g_vector)))\n",
        "    if torch.norm(g_vector) <= 2e-6:\n",
        "      break\n",
        "  return loss_vals, trace"
      ]
    },
    {
      "cell_type": "markdown",
      "metadata": {
        "id": "HlZpml_4MOQD"
      },
      "source": [
        "# Hessian evaluation helper"
      ]
    },
    {
      "cell_type": "code",
      "execution_count": 99,
      "metadata": {
        "id": "mXEHxyklMQgi"
      },
      "outputs": [],
      "source": [
        "# eval Hessian matrix\n",
        "def eval_hessian(loss_grad, model):\n",
        "    cnt = 0\n",
        "    for g in loss_grad:\n",
        "        g_vector = g.contiguous().view(-1) if cnt == 0 else torch.cat([g_vector, g.contiguous().view(-1)])\n",
        "        cnt = 1\n",
        "    grad_norm = torch.norm(g_vector)\n",
        "    l = g_vector.size(0)\n",
        "    hessian = torch.zeros(l, l)\n",
        "    for idx in range(l):\n",
        "        grad2rd = torch.autograd.grad(g_vector[idx], model.parameters(), create_graph=True)\n",
        "        cnt = 0\n",
        "        for g in grad2rd: \n",
        "            g2 = g.contiguous().view(-1) if cnt == 0 else torch.cat([g2, g.contiguous().view(-1)])\n",
        "            cnt = 1\n",
        "        hessian[idx] = g2\n",
        "    return grad_norm.cpu().data.numpy(), hessian.cpu().data.numpy()"
      ]
    },
    {
      "cell_type": "markdown",
      "source": [
        "# Actual training and hessian computation"
      ],
      "metadata": {
        "id": "wV8HjfUxcupO"
      }
    },
    {
      "cell_type": "code",
      "execution_count": 100,
      "metadata": {
        "colab": {
          "base_uri": "https://localhost:8080/"
        },
        "id": "c-4dScUFCP-2",
        "outputId": "91bd704b-bdc6-44f6-d0a4-2ef11096c3c6"
      },
      "outputs": [
        {
          "output_type": "stream",
          "name": "stdout",
          "text": [
            "Iteration: 0, loss: 5.381614420890808, gradient norm: tensor(4.8840)\n",
            "Iteration: 1000, loss: 4.31997736787796, gradient norm: tensor(4.3637)\n",
            "Iteration: 2000, loss: 3.4127987234592436, gradient norm: tensor(3.8608)\n",
            "Iteration: 3000, loss: 2.6329749867916106, gradient norm: tensor(3.3697)\n",
            "Iteration: 4000, loss: 1.9692886668443679, gradient norm: tensor(2.8880)\n",
            "Iteration: 5000, loss: 1.4150544202327728, gradient norm: tensor(2.4175)\n",
            "Iteration: 6000, loss: 0.9649540890455246, gradient norm: tensor(1.9622)\n",
            "Iteration: 7000, loss: 0.6134118512272835, gradient norm: tensor(1.5266)\n",
            "Iteration: 8000, loss: 0.3537576207220554, gradient norm: tensor(1.1177)\n",
            "Iteration: 9000, loss: 0.1773641702979803, gradient norm: tensor(0.7464)\n",
            "Iteration: 10000, loss: 0.07231658436357975, gradient norm: tensor(0.4300)\n",
            "Iteration: 11000, loss: 0.021950983183458447, gradient norm: tensor(0.1932)\n",
            "Iteration: 12000, loss: 0.0050149788314010945, gradient norm: tensor(0.0565)\n",
            "Iteration: 13000, loss: 0.0016218793016159908, gradient norm: tensor(0.0114)\n",
            "Iteration: 14000, loss: 0.0011067317767301575, gradient norm: tensor(0.0072)\n",
            "Iteration: 15000, loss: 0.0009032465619384311, gradient norm: tensor(0.0061)\n",
            "Iteration: 16000, loss: 0.0007477244338369929, gradient norm: tensor(0.0051)\n",
            "Iteration: 17000, loss: 0.0006052344113704749, gradient norm: tensor(0.0041)\n",
            "Iteration: 18000, loss: 0.0004670359096780885, gradient norm: tensor(0.0032)\n",
            "Iteration: 19000, loss: 0.0003367732633196283, gradient norm: tensor(0.0024)\n",
            "Iteration: 20000, loss: 0.00022331259543716442, gradient norm: tensor(0.0017)\n",
            "Iteration: 21000, loss: 0.00012959484611201332, gradient norm: tensor(0.0012)\n",
            "Iteration: 22000, loss: 5.68926573250792e-05, gradient norm: tensor(0.0007)\n",
            "Iteration: 23000, loss: 1.5855681750508667e-05, gradient norm: tensor(0.0003)\n",
            "Iteration: 24000, loss: 3.553729925670268e-06, gradient norm: tensor(6.5109e-05)\n",
            "Iteration: 25000, loss: 1.7410275950169307e-06, gradient norm: tensor(2.4661e-05)\n",
            "Iteration: 26000, loss: 1.3163183427877811e-06, gradient norm: tensor(1.7852e-05)\n",
            "Iteration: 27000, loss: 1.0592053032496552e-06, gradient norm: tensor(1.2062e-05)\n",
            "Iteration: 28000, loss: 8.91841038765051e-07, gradient norm: tensor(2.1377e-05)\n",
            "Iteration: 29000, loss: 7.882269448487023e-07, gradient norm: tensor(5.9026e-06)\n",
            "Iteration: 30000, loss: 7.173917750833425e-07, gradient norm: tensor(1.0640e-05)\n",
            "Iteration: 31000, loss: 6.583299655176234e-07, gradient norm: tensor(9.4948e-06)\n",
            "Iteration: 32000, loss: 6.048983257187501e-07, gradient norm: tensor(2.4340e-06)\n",
            "Iteration: 33000, loss: 5.564888419371528e-07, gradient norm: tensor(1.8971e-06)\n",
            "smallest eigenvalue:  4.3662835e-06\n"
          ]
        }
      ],
      "source": [
        "student_model = StudentNetwork(D_in, H_student, D_out)\n",
        "loss_vals, trace = train(student_model, data, y_labels)\n",
        "last_loss_val = loss_vals[-1]\n",
        "\n",
        "loss_grad = torch.autograd.grad(nn.MSELoss()(student_model(data), y_labels), student_model.parameters(), create_graph=True)\n",
        "grad_norm, hessian = eval_hessian(loss_grad, student_model)\n",
        "smallest_eigenvalue = np.min(np.linalg.eigvals(hessian))\n",
        "\n",
        "print('smallest eigenvalue: ', smallest_eigenvalue)"
      ]
    },
    {
      "cell_type": "markdown",
      "metadata": {
        "id": "9F7kBJPoLS_h"
      },
      "source": [
        "# Plotting"
      ]
    },
    {
      "cell_type": "code",
      "execution_count": 101,
      "metadata": {
        "id": "JYMYC8b5VqT1"
      },
      "outputs": [],
      "source": [
        "teacher_neurons_x = [0.6, -0.5, -0.2, 0.1]\n",
        "teacher_neurons_y = [0.5, 0.5, -0.6, -0.6]"
      ]
    },
    {
      "cell_type": "code",
      "execution_count": 102,
      "metadata": {
        "id": "mflgj_AbLToB",
        "colab": {
          "base_uri": "https://localhost:8080/",
          "height": 282
        },
        "outputId": "6450f7f0-d44b-42fc-be94-8e0d305078d2"
      },
      "outputs": [
        {
          "output_type": "execute_result",
          "data": {
            "text/plain": [
              "<matplotlib.colorbar.Colorbar at 0x7f607249ded0>"
            ]
          },
          "metadata": {},
          "execution_count": 102
        },
        {
          "output_type": "display_data",
          "data": {
            "image/png": "[encoded data removed]",
            "text/plain": [
              "<Figure size 432x288 with 2 Axes>"
            ]
          },
          "metadata": {
            "needs_background": "light"
          }
        }
      ],
      "source": [
        "\n",
        "neuron_0_w_x = []\n",
        "neuron_0_w_y = []\n",
        "neuron_0_a = []\n",
        "\n",
        "neuron_1_w_x = []\n",
        "neuron_1_w_y = []\n",
        "neuron_1_a = []\n",
        "\n",
        "neuron_2_w_x = []\n",
        "neuron_2_w_y = []\n",
        "neuron_2_a = []\n",
        "\n",
        "neuron_3_w_x = []\n",
        "neuron_3_w_y = []\n",
        "neuron_3_a = []\n",
        "\n",
        "neuron_4_w_x = []\n",
        "neuron_4_w_y = []\n",
        "neuron_4_a = []\n",
        "\n",
        "for (inp_weights, out_weights) in trace:\n",
        "  neuron_0_w_x.append(inp_weights[0][0])\n",
        "  neuron_0_w_y.append(inp_weights[0][1])\n",
        "  neuron_0_a.append(out_weights[0][0])\n",
        "\n",
        "  neuron_1_w_x.append(inp_weights[1][0])\n",
        "  neuron_1_w_y.append(inp_weights[1][1])\n",
        "  neuron_1_a.append(out_weights[0][1])\n",
        "\n",
        "  neuron_2_w_x.append(inp_weights[2][0])\n",
        "  neuron_2_w_y.append(inp_weights[2][1])\n",
        "  neuron_2_a.append(out_weights[0][2])\n",
        "\n",
        "  neuron_3_w_x.append(inp_weights[3][0])\n",
        "  neuron_3_w_y.append(inp_weights[3][1])\n",
        "  neuron_3_a.append(out_weights[0][3])\n",
        "\n",
        "  neuron_4_w_x.append(inp_weights[4][0])\n",
        "  neuron_4_w_y.append(inp_weights[4][1])\n",
        "  neuron_4_a.append(out_weights[0][4])\n",
        "\n",
        "plt.plot(neuron_0_w_x, neuron_0_w_y)\n",
        "plt.plot(neuron_1_w_x, neuron_1_w_y)\n",
        "plt.plot(neuron_2_w_x, neuron_2_w_y)\n",
        "plt.plot(neuron_3_w_x, neuron_3_w_y)\n",
        "plt.plot(neuron_4_w_x, neuron_4_w_y)\n",
        "\n",
        "plt.scatter(teacher_neurons_x, teacher_neurons_y, marker=\"*\")\n",
        "\n",
        "outgoing_weights = [neuron_0_a[-1], neuron_1_a[-1], neuron_2_a[-1], neuron_3_a[-1], neuron_4_a[-1]]\n",
        "plt.scatter([neuron_0_w_x[-1], neuron_1_w_x[-1], neuron_2_w_x[-1], neuron_3_w_x[-1], neuron_4_w_x[-1]],\n",
        "            [neuron_0_w_y[-1], neuron_1_w_y[-1], neuron_2_w_y[-1], neuron_3_w_y[-1], neuron_4_w_y[-1]],\n",
        "            c = outgoing_weights,\n",
        "            cmap=matplotlib.cm.jet)\n",
        "plt.colorbar()\n",
        "\n",
        "# Teacher's neurons\n",
        "#[0.6, -0.5, -0.2, 0.1],\n",
        "#[0.5, 0.5, -0.6, -0.6],"
      ]
    }
  ],
  "metadata": {
    "colab": {
      "name": "training_skeleton.ipynb",
      "provenance": [],
      "collapsed_sections": [],
      "toc_visible": true,
      "authorship_tag": "ABX9TyOgAqz2iFMedhiXEfrD8/xB",
      "include_colab_link": true
    },
    "kernelspec": {
      "display_name": "Python 3",
      "name": "python3"
    },
    "language_info": {
      "name": "python"
    }
  },
  "nbformat": 4,
  "nbformat_minor": 0
}