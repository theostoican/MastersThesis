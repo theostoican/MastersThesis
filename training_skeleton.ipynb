{
  "cells": [
    {
      "cell_type": "markdown",
      "metadata": {
        "id": "view-in-github",
        "colab_type": "text"
      },
      "source": [
        "<a href=\"https://colab.research.google.com/github/theostoican/MastersThesis/blob/main/training_skeleton.ipynb\" target=\"_parent\"><img src=\"https://colab.research.google.com/assets/colab-badge.svg\" alt=\"Open In Colab\"/></a>"
      ]
    },
    {
      "cell_type": "code",
      "execution_count": null,
      "metadata": {
        "id": "4cKo7_tWleLC"
      },
      "outputs": [],
      "source": [
        "import copy\n",
        "import csv\n",
        "import torch.nn as nn\n",
        "import numpy as np\n",
        "import torch\n",
        "from torch.autograd import Variable\n",
        "\n",
        "import matplotlib.pyplot as plt\n",
        "import matplotlib"
      ]
    },
    {
      "cell_type": "markdown",
      "metadata": {
        "id": "w8SjHkIMoI_B"
      },
      "source": [
        "# Various modelling parameters"
      ]
    },
    {
      "cell_type": "code",
      "execution_count": null,
      "metadata": {
        "id": "F8ktizbMoKWO"
      },
      "outputs": [],
      "source": [
        "#N is batch size; D_in is input dimension;\n",
        "#H is the dimension of the hidden layer; D_out is output dimension.\n",
        "N, D_in, H_teacher, H_student, D_out = 1, 2, 4, 5, 1\n",
        "num_experiments = 1"
      ]
    },
    {
      "cell_type": "markdown",
      "metadata": {
        "id": "0ptEq_k5KeK6"
      },
      "source": [
        "# Dataset creation"
      ]
    },
    {
      "cell_type": "code",
      "execution_count": null,
      "metadata": {
        "colab": {
          "base_uri": "https://localhost:8080/"
        },
        "id": "z7WSK5OS-_Jb",
        "outputId": "2056bb35-cd0e-489d-a0f6-0e0e4ad31ce9"
      },
      "outputs": [
        {
          "output_type": "stream",
          "name": "stdout",
          "text": [
            "1681\n"
          ]
        }
      ],
      "source": [
        "def construct_dataset():\n",
        "  data = []\n",
        "  for y in np.arange(-5, 5.1, .25):\n",
        "    for x in np.arange(-5, 5.1, .25):\n",
        "      data.append([x, y])\n",
        "  return data\n",
        "\n",
        "data = torch.Tensor(construct_dataset()) \n",
        "print(len(construct_dataset()))"
      ]
    },
    {
      "cell_type": "markdown",
      "metadata": {
        "id": "L0ZEwEx3Kg9_"
      },
      "source": [
        "# Models"
      ]
    },
    {
      "cell_type": "code",
      "execution_count": null,
      "metadata": {
        "id": "QLlxqBcnzo2e"
      },
      "outputs": [],
      "source": [
        "class TeacherNetwork(nn.Module):\n",
        "  def __init__(self, D_in, H, D_out):\n",
        "    \"\"\"\n",
        "    In the constructor we instantiate two nn.Linear modules and assign them as\n",
        "    member variables.\n",
        "\n",
        "    D_in: input dimension\n",
        "    H: dimension of hidden layer\n",
        "    D_out: output dimension of the first layer\n",
        "    \"\"\"\n",
        "    super(TeacherNetwork, self).__init__()\n",
        "    self.linear1 = nn.Linear(D_in, H, bias=False) \n",
        "    self.linear2 = nn.Linear(H, D_out, bias=False)\n",
        "    self.linear1.weight = torch.nn.Parameter(torch.transpose(torch.Tensor([[0.6, -0.5, -0.2, 0.1], [0.5, 0.5, -0.6, -0.6]]), 0, 1))\n",
        "    self.linear2.weight = torch.nn.Parameter(torch.transpose(torch.Tensor([[1], [-1], [1], [-1]]), 0, 1))\n",
        "  def forward(self, x):\n",
        "    \"\"\"\n",
        "    In the forward function we accept a Variable of input data and we must\n",
        "    return a Variable of output data. We can use Modules defined in the\n",
        "    constructor as well as arbitrary operators on Variables.\n",
        "    \"\"\"\n",
        "    h_sigmoid = torch.sigmoid(self.linear1(x))\n",
        "    y_pred = self.linear2(h_sigmoid)\n",
        "    return y_pred"
      ]
    },
    {
      "cell_type": "code",
      "execution_count": null,
      "metadata": {
        "id": "COkLdjEOmBJV"
      },
      "outputs": [],
      "source": [
        "class StudentNetwork(nn.Module):\n",
        "  def __init__(self, D_in, H, D_out):\n",
        "    \"\"\"\n",
        "    In the constructor we instantiate two nn.Linear modules and assign them as\n",
        "    member variables.\n",
        "\n",
        "    D_in: input dimension\n",
        "    H: dimension of hidden layer\n",
        "    D_out: output dimension of the first layer\n",
        "    \"\"\"\n",
        "    super(StudentNetwork, self).__init__()\n",
        "    self.linear1 = nn.Linear(D_in, H, bias=False) \n",
        "    self.linear2 = nn.Linear(H, D_out, bias=False)\n",
        "    nn.init.xavier_uniform_(self.linear1.weight)\n",
        "    nn.init.xavier_uniform_(self.linear2.weight)\n",
        "  def forward(self, x):\n",
        "    \"\"\"\n",
        "    In the forward function we accept a Variable of input data and we must\n",
        "    return a Variable of output data. We can use Modules defined in the\n",
        "    constructor as well as arbitrary operators on Variables.\n",
        "    \"\"\"\n",
        "    h_sigmoid = torch.sigmoid(self.linear1(x))\n",
        "    y_pred = self.linear2(h_sigmoid)\n",
        "    return y_pred"
      ]
    },
    {
      "cell_type": "markdown",
      "metadata": {
        "id": "Xh4A8WS3HzeU"
      },
      "source": [
        "# Generation of the labels based on the teacher model."
      ]
    },
    {
      "cell_type": "code",
      "execution_count": null,
      "metadata": {
        "id": "ILSXsIRu3U18"
      },
      "outputs": [],
      "source": [
        "teacher_model = TeacherNetwork(D_in, H_teacher, D_out)\n",
        "y_labels = teacher_model(data).detach()"
      ]
    },
    {
      "cell_type": "markdown",
      "metadata": {
        "id": "RZrYxLLwKk6Q"
      },
      "source": [
        "# Training helper method"
      ]
    },
    {
      "cell_type": "code",
      "execution_count": null,
      "metadata": {
        "id": "kS2Ri_ya9Npv"
      },
      "outputs": [],
      "source": [
        "def train(model, x, y_labels, N = 1000, Ninner = 10**3, Nstart = 10,\n",
        "          maxtime = 10 ** 3, nlopt_threshold = 1e-7,\n",
        "          collect_history = True):\n",
        "  optimizer = torch.optim.Adam(model.parameters()) #, lr=0.0001)\n",
        "  loss_fn = nn.MSELoss()\n",
        "  loss_vals = []\n",
        "  trace = []\n",
        "  if collect_history:\n",
        "    trace.append((copy.deepcopy(model.linear1.weight.data.detach().numpy()),\n",
        "                  copy.deepcopy(model.linear2.weight.data.detach().numpy())))\n",
        "  for i in range(N):\n",
        "    loss_tmp = []\n",
        "    for j in range(Ninner):\n",
        "      y = model(x)\n",
        "      loss = loss_fn(y, y_labels)\n",
        "      loss_grad = torch.autograd.grad(loss, model.parameters(), retain_graph=True)\n",
        "      loss_tmp.append(loss.item())\n",
        "      optimizer.zero_grad()\n",
        "      loss.backward(retain_graph=True)\n",
        "      optimizer.step()\n",
        "      if i == 0 and (j % Nstart == 0) and j > 0:\n",
        "        loss_vals.append(np.mean(loss_tmp[j - Nstart : j]))\n",
        "        if collect_history:\n",
        "          trace.append((copy.deepcopy(model.linear1.weight.data.detach().numpy()),\n",
        "                        copy.deepcopy(model.linear2.weight.data.detach().numpy())))\n",
        "    loss_vals.append(np.mean(loss_tmp))\n",
        "    if collect_history:\n",
        "      trace.append((copy.deepcopy(model.linear1.weight.data.detach().numpy()),\n",
        "                    copy.deepcopy(model.linear2.weight.data.detach().numpy())))\n",
        "    # stopping criterion\n",
        "    cnt = 0\n",
        "    for g in loss_grad:\n",
        "        g_vector = g.contiguous().view(-1) if cnt == 0 else torch.cat([g_vector, g.contiguous().view(-1)])\n",
        "        cnt = 1\n",
        "    print(\"Iteration: %d, loss: %s, gradient norm: %s\" % (Ninner * i, np.mean(loss_tmp), torch.norm(g_vector)))\n",
        "    if torch.norm(g_vector) <= 2e-6:\n",
        "      break\n",
        "  return loss_vals, trace"
      ]
    },
    {
      "cell_type": "markdown",
      "metadata": {
        "id": "HlZpml_4MOQD"
      },
      "source": [
        "# Hessian evaluation helper"
      ]
    },
    {
      "cell_type": "code",
      "execution_count": null,
      "metadata": {
        "id": "mXEHxyklMQgi"
      },
      "outputs": [],
      "source": [
        "# eval Hessian matrix\n",
        "def eval_hessian(loss_grad, model):\n",
        "    cnt = 0\n",
        "    for g in loss_grad:\n",
        "        g_vector = g.contiguous().view(-1) if cnt == 0 else torch.cat([g_vector, g.contiguous().view(-1)])\n",
        "        cnt = 1\n",
        "    grad_norm = torch.norm(g_vector)\n",
        "    l = g_vector.size(0)\n",
        "    hessian = torch.zeros(l, l)\n",
        "    for idx in range(l):\n",
        "        grad2rd = torch.autograd.grad(g_vector[idx], model.parameters(), create_graph=True)\n",
        "        cnt = 0\n",
        "        for g in grad2rd: \n",
        "            g2 = g.contiguous().view(-1) if cnt == 0 else torch.cat([g2, g.contiguous().view(-1)])\n",
        "            cnt = 1\n",
        "        hessian[idx] = g2\n",
        "    hessian[:, idx] = g2\n",
        "    return grad_norm.cpu().data.numpy(), hessian.cpu().data.numpy()"
      ]
    },
    {
      "cell_type": "markdown",
      "metadata": {
        "id": "wV8HjfUxcupO"
      },
      "source": [
        "# Actual training and hessian computation"
      ]
    },
    {
      "cell_type": "code",
      "execution_count": null,
      "metadata": {
        "colab": {
          "base_uri": "https://localhost:8080/"
        },
        "id": "c-4dScUFCP-2",
        "outputId": "03f503f6-3286-4644-cbb1-e98bc8ddd99f"
      },
      "outputs": [
        {
          "output_type": "stream",
          "name": "stdout",
          "text": [
            "Iteration: 0, loss: 0.24548103631986304, gradient norm: tensor(0.0266)\n",
            "Iteration: 1000, loss: 0.0010985530001344159, gradient norm: tensor(0.0023)\n",
            "Iteration: 2000, loss: 0.0008695869455114007, gradient norm: tensor(0.0021)\n",
            "Iteration: 3000, loss: 0.0006906465235515497, gradient norm: tensor(0.0022)\n",
            "Iteration: 4000, loss: 0.00043477645091479644, gradient norm: tensor(0.0014)\n",
            "Iteration: 5000, loss: 0.0002378844147606287, gradient norm: tensor(0.0005)\n",
            "Iteration: 6000, loss: 0.00018665592998149804, gradient norm: tensor(0.0003)\n",
            "Iteration: 7000, loss: 0.00017110209027305245, gradient norm: tensor(0.0002)\n",
            "Iteration: 8000, loss: 0.000156422028405359, gradient norm: tensor(0.0002)\n",
            "Iteration: 9000, loss: 0.00013900422349979636, gradient norm: tensor(0.0002)\n",
            "Iteration: 10000, loss: 0.0001206938614413957, gradient norm: tensor(9.4079e-05)\n",
            "Iteration: 11000, loss: 0.00010834092066943413, gradient norm: tensor(5.5420e-05)\n",
            "Iteration: 12000, loss: 9.432427717547398e-05, gradient norm: tensor(0.0001)\n",
            "Iteration: 13000, loss: 2.397337723050441e-05, gradient norm: tensor(4.3507e-05)\n",
            "Iteration: 14000, loss: 4.450159975704082e-06, gradient norm: tensor(1.3971e-05)\n",
            "Iteration: 15000, loss: 3.2331717527540603e-06, gradient norm: tensor(1.0615e-05)\n",
            "Iteration: 16000, loss: 2.5370592863964704e-06, gradient norm: tensor(8.1513e-06)\n",
            "Iteration: 17000, loss: 1.9030772388077821e-06, gradient norm: tensor(5.1960e-05)\n",
            "Iteration: 18000, loss: 1.409402969443363e-06, gradient norm: tensor(2.2957e-05)\n",
            "Iteration: 19000, loss: 1.0951093140647572e-06, gradient norm: tensor(8.2973e-05)\n",
            "Iteration: 20000, loss: 8.812280776737679e-07, gradient norm: tensor(1.0077e-05)\n",
            "Iteration: 21000, loss: 7.298509347037907e-07, gradient norm: tensor(0.0007)\n",
            "Iteration: 22000, loss: 6.159178401503596e-07, gradient norm: tensor(2.6894e-06)\n",
            "Iteration: 23000, loss: 5.290976872629471e-07, gradient norm: tensor(8.9825e-05)\n",
            "Iteration: 24000, loss: 4.5763131504372724e-07, gradient norm: tensor(7.7383e-05)\n",
            "Iteration: 25000, loss: 4.023693286683283e-07, gradient norm: tensor(1.4911e-05)\n",
            "Iteration: 26000, loss: 3.5688585927573514e-07, gradient norm: tensor(0.0003)\n",
            "Iteration: 27000, loss: 3.1867486225678475e-07, gradient norm: tensor(5.0151e-05)\n",
            "Iteration: 28000, loss: 2.852385952394343e-07, gradient norm: tensor(1.6269e-06)\n",
            "smallest eigenvalue:  5.6240788e-06\n"
          ]
        }
      ],
      "source": [
        "student_model = StudentNetwork(D_in, H_student, D_out)\n",
        "loss_vals, trace = train(student_model, data, y_labels)\n",
        "last_loss_val = loss_vals[-1]\n",
        "\n",
        "loss_grad = torch.autograd.grad(nn.MSELoss()(student_model(data), y_labels), student_model.parameters(), create_graph=True)\n",
        "grad_norm, hessian = eval_hessian(loss_grad, student_model)\n",
        "smallest_eigenvalue = np.min(np.linalg.eigvals(hessian))\n",
        "\n",
        "print('smallest eigenvalue: ', smallest_eigenvalue)"
      ]
    },
    {
      "cell_type": "markdown",
      "metadata": {
        "id": "9F7kBJPoLS_h"
      },
      "source": [
        "# Plotting"
      ]
    },
    {
      "cell_type": "code",
      "execution_count": null,
      "metadata": {
        "id": "JYMYC8b5VqT1"
      },
      "outputs": [],
      "source": [
        "teacher_neurons_x = [0.6, -0.5, -0.2, 0.1]\n",
        "teacher_neurons_y = [0.5, 0.5, -0.6, -0.6]"
      ]
    },
    {
      "cell_type": "code",
      "execution_count": null,
      "metadata": {
        "colab": {
          "base_uri": "https://localhost:8080/"
        },
        "id": "mflgj_AbLToB",
        "outputId": "3293ea09-cd1b-42a7-f32a-93c52fb00eb9"
      },
      "outputs": [
        {
          "output_type": "execute_result",
          "data": {
            "text/plain": [
              "<matplotlib.colorbar.Colorbar at 0x7fa8f7860c50>"
            ]
          },
          "metadata": {},
          "execution_count": 27
        },
        {
          "output_type": "display_data",
          "data": {
            "image/png": "[encoded data removed]",
            "text/plain": [
              "<Figure size 432x288 with 2 Axes>"
            ]
          },
          "metadata": {
            "needs_background": "light"
          }
        }
      ],
      "source": [
        "\n",
        "neuron_0_w_x = []\n",
        "neuron_0_w_y = []\n",
        "neuron_0_a = []\n",
        "\n",
        "neuron_1_w_x = []\n",
        "neuron_1_w_y = []\n",
        "neuron_1_a = []\n",
        "\n",
        "neuron_2_w_x = []\n",
        "neuron_2_w_y = []\n",
        "neuron_2_a = []\n",
        "\n",
        "neuron_3_w_x = []\n",
        "neuron_3_w_y = []\n",
        "neuron_3_a = []\n",
        "\n",
        "neuron_4_w_x = []\n",
        "neuron_4_w_y = []\n",
        "neuron_4_a = []\n",
        "\n",
        "for (inp_weights, out_weights) in trace:\n",
        "  neuron_0_w_x.append(inp_weights[0][0])\n",
        "  neuron_0_w_y.append(inp_weights[0][1])\n",
        "  neuron_0_a.append(out_weights[0][0])\n",
        "\n",
        "  neuron_1_w_x.append(inp_weights[1][0])\n",
        "  neuron_1_w_y.append(inp_weights[1][1])\n",
        "  neuron_1_a.append(out_weights[0][1])\n",
        "\n",
        "  neuron_2_w_x.append(inp_weights[2][0])\n",
        "  neuron_2_w_y.append(inp_weights[2][1])\n",
        "  neuron_2_a.append(out_weights[0][2])\n",
        "\n",
        "  neuron_3_w_x.append(inp_weights[3][0])\n",
        "  neuron_3_w_y.append(inp_weights[3][1])\n",
        "  neuron_3_a.append(out_weights[0][3])\n",
        "\n",
        "  neuron_4_w_x.append(inp_weights[4][0])\n",
        "  neuron_4_w_y.append(inp_weights[4][1])\n",
        "  neuron_4_a.append(out_weights[0][4])\n",
        "\n",
        "plt.plot(neuron_0_w_x, neuron_0_w_y)\n",
        "plt.plot(neuron_1_w_x, neuron_1_w_y)\n",
        "plt.plot(neuron_2_w_x, neuron_2_w_y)\n",
        "plt.plot(neuron_3_w_x, neuron_3_w_y)\n",
        "plt.plot(neuron_4_w_x, neuron_4_w_y)\n",
        "\n",
        "plt.scatter(teacher_neurons_x, teacher_neurons_y, marker=\"*\")\n",
        "\n",
        "outgoing_weights = [neuron_0_a[-1], neuron_1_a[-1], neuron_2_a[-1], neuron_3_a[-1], neuron_4_a[-1]]\n",
        "plt.scatter([neuron_0_w_x[-1], neuron_1_w_x[-1], neuron_2_w_x[-1], neuron_3_w_x[-1], neuron_4_w_x[-1]],\n",
        "            [neuron_0_w_y[-1], neuron_1_w_y[-1], neuron_2_w_y[-1], neuron_3_w_y[-1], neuron_4_w_y[-1]],\n",
        "            c = outgoing_weights,\n",
        "            cmap=matplotlib.cm.jet)\n",
        "plt.colorbar()\n",
        "\n",
        "# Teacher's neurons\n",
        "#[0.6, -0.5, -0.2, 0.1],\n",
        "#[0.5, 0.5, -0.6, -0.6],"
      ]
    },
    {
      "cell_type": "markdown",
      "source": [
        "# Second order optimization"
      ],
      "metadata": {
        "id": "JjTe7aE14Dac"
      }
    },
    {
      "cell_type": "code",
      "source": [
        "!pip install dict_minimize\n",
        "from dict_minimize.torch_api import minimize\n",
        "from collections import OrderedDict"
      ],
      "metadata": {
        "colab": {
          "base_uri": "https://localhost:8080/"
        },
        "id": "5pLtcmr44FIq",
        "outputId": "a1ab5547-8f8d-4bd6-9701-e38c8a5178e7"
      },
      "execution_count": null,
      "outputs": [
        {
          "output_type": "stream",
          "name": "stdout",
          "text": [
            "Requirement already satisfied: dict_minimize in /usr/local/lib/python3.7/dist-packages (0.0.4)\n",
            "Requirement already satisfied: scipy>=1.4.1 in /usr/local/lib/python3.7/dist-packages (from dict_minimize) (1.4.1)\n",
            "Requirement already satisfied: numpy>=1.18.5 in /usr/local/lib/python3.7/dist-packages (from dict_minimize) (1.19.5)\n"
          ]
        }
      ]
    },
    {
      "cell_type": "code",
      "source": [
        "\n",
        "class DummyNetwork(nn.Module):\n",
        "  def __init__(self, D_in, H, D_out, w_in, w_out):\n",
        "    \"\"\"\n",
        "    In the constructor we instantiate two nn.Linear modules and assign them as\n",
        "    member variables.\n",
        "\n",
        "    D_in: input dimension\n",
        "    H: dimension of hidden layer\n",
        "    D_out: output dimension of the first layer\n",
        "    \"\"\"\n",
        "    super(DummyNetwork, self).__init__()\n",
        "    self.linear1 = nn.Linear(D_in, H, bias=False) \n",
        "    self.linear2 = nn.Linear(H, D_out, bias=False)\n",
        "    self.linear1.weight = torch.nn.Parameter(w_in)\n",
        "    self.linear2.weight = torch.nn.Parameter(w_out)\n",
        "  def forward(self, x):\n",
        "    \"\"\"\n",
        "    In the forward function we accept a Variable of input data and we must\n",
        "    return a Variable of output data. We can use Modules defined in the\n",
        "    constructor as well as arbitrary operators on Variables.\n",
        "    \"\"\"\n",
        "    h_sigmoid = torch.sigmoid(self.linear1(x))\n",
        "    y_pred = self.linear2(h_sigmoid)\n",
        "    return y_pred"
      ],
      "metadata": {
        "id": "WDicCa3cV1xM"
      },
      "execution_count": null,
      "outputs": []
    },
    {
      "cell_type": "code",
      "source": [
        "def d_loss(params):\n",
        "    w_in, w_out = params[\"w_in\"], params[\"w_out\"]\n",
        "    dummy_model = DummyNetwork(D_in, H_student, D_out, w_in, w_out)\n",
        "    obj = nn.MSELoss()(dummy_model(data), y_labels)\n",
        "    dw_in, dw_out = torch.autograd.grad(obj, dummy_model.parameters())\n",
        "    d_obj = OrderedDict([(\"w_in\", dw_in), (\"w_out\", dw_out)])\n",
        "    return obj, d_obj"
      ],
      "metadata": {
        "id": "TuACp-6HWtBD"
      },
      "execution_count": null,
      "outputs": []
    },
    {
      "cell_type": "code",
      "source": [
        "params = OrderedDict([(\"w_in\", torch.Tensor(trace[-1][0])), (\"w_out\", torch.Tensor(trace[-1][1]))])\n",
        "lb_dict = OrderedDict([(\"w_in\", torch.Tensor(trace[-1][0] - 1)), (\"w_out\", torch.Tensor(trace[-1][1] - 1))])\n",
        "ub_dict = OrderedDict([(\"w_in\", torch.Tensor(trace[-1][0] + 1)), (\"w_out\", torch.Tensor(trace[-1][1] + 1))])\n",
        "print('old params: ',params)\n",
        "# params = minimize(d_loss, params, method=\"\", lb_dict = lb_dict, ub_dict = ub_dict,\n",
        "#                   options={\"disp\": True , \"maxiter\": 10 ** 3}, tol=1e-8)\n",
        "params = minimize(d_loss, params, method=\"SLSQP\", lb_dict = lb_dict, ub_dict = ub_dict,\n",
        "                  options={\"disp\": True , \"maxiter\": 10 ** 4}, tol=last_loss_val*1e-2)\n",
        "print('new params: ',params)"
      ],
      "metadata": {
        "colab": {
          "base_uri": "https://localhost:8080/"
        },
        "id": "Jm6OGZBNYuV7",
        "outputId": "dfce1851-f359-430c-c9d5-91eb35a347e4"
      },
      "execution_count": null,
      "outputs": [
        {
          "output_type": "stream",
          "name": "stdout",
          "text": [
            "OrderedDict([('w_in', tensor([[ 0.1746, -0.6405],\n",
            "        [ 0.5376, -0.5689],\n",
            "        [ 0.6200,  0.5173],\n",
            "        [-0.4635,  0.3609],\n",
            "        [ 0.2766,  0.6403]])), ('w_out', tensor([[-0.6722,  0.6866,  0.9590, -0.3062, -0.6673]]))])\n",
            "Optimization terminated successfully.    (Exit mode 0)\n",
            "            Current function value: 2.626702269026282e-07\n",
            "            Iterations: 1\n",
            "            Function evaluations: 1\n",
            "            Gradient evaluations: 1\n",
            "OrderedDict([('w_in', tensor([[ 0.1746, -0.6405],\n",
            "        [ 0.5376, -0.5689],\n",
            "        [ 0.6200,  0.5173],\n",
            "        [-0.4635,  0.3609],\n",
            "        [ 0.2766,  0.6403]], requires_grad=True)), ('w_out', tensor([[-0.6722,  0.6866,  0.9590, -0.3062, -0.6673]], requires_grad=True))])\n"
          ]
        }
      ]
    },
    {
      "cell_type": "markdown",
      "source": [
        "# New smallest eigenvalue"
      ],
      "metadata": {
        "id": "9flDuKrBgJ68"
      }
    },
    {
      "cell_type": "code",
      "source": [
        "dummy_model = DummyNetwork(D_in, H_student, D_out, params[\"w_in\"], params[\"w_out\"])\n",
        "print(nn.MSELoss()(dummy_model(data), y_labels))\n",
        "loss_grad = torch.autograd.grad(nn.MSELoss()(dummy_model(data), y_labels), dummy_model.parameters(), create_graph=True)\n",
        "grad_norm, hessian = eval_hessian(loss_grad, dummy_model)\n",
        "print(hessian)\n",
        "smallest_eigenvalue = np.min(np.linalg.eigvals(hessian))\n",
        "print('new smallest eigenvelue:', smallest_eigenvalue)"
      ],
      "metadata": {
        "colab": {
          "base_uri": "https://localhost:8080/"
        },
        "id": "HwNZPkIvek9Y",
        "outputId": "dedacad4-353a-48c9-df77-9f6dec3f8701"
      },
      "execution_count": null,
      "outputs": [
        {
          "output_type": "stream",
          "name": "stdout",
          "text": [
            "tensor(2.6267e-07, grad_fn=<MseLossBackward0>)\n",
            "[[ 1.97744012e-01  5.08105084e-02 -1.57506585e-01 -7.93312490e-02\n",
            "  -1.21183477e-01  3.24766561e-02  7.52863660e-02  3.27221714e-02\n",
            "   1.45985365e-01 -1.09020397e-02 -1.05642555e-02 -1.17316201e-01\n",
            "  -1.73503757e-01  1.23071387e-01 -1.10244505e-01]\n",
            " [ 5.08105122e-02  7.73814768e-02 -7.93312490e-02 -1.02752209e-01\n",
            "   3.24766561e-02 -8.97042006e-02  3.27221751e-02  5.36568202e-02\n",
            "  -1.09020406e-02  5.92272058e-02  1.06434211e-01  5.88403791e-02\n",
            "  -9.68245268e-02 -3.33285704e-02 -1.18424512e-01]\n",
            " [-1.57506585e-01 -7.93312490e-02  1.78587526e-01  1.35018915e-01\n",
            "   7.28310123e-02 -1.31847744e-03 -8.13459232e-02 -6.01198450e-02\n",
            "  -8.60339403e-02 -1.36302020e-02 -5.40331192e-02  5.27823269e-02\n",
            "   1.69969931e-01 -7.44742900e-02  1.35939300e-01]\n",
            " [-7.93312490e-02 -1.02752194e-01  1.35018915e-01  1.68476075e-01\n",
            "  -1.31847686e-03  7.95122012e-02 -6.01198412e-02 -8.57245401e-02\n",
            "  -1.36302020e-02 -5.64389043e-02 -1.36252329e-01 -6.09476790e-02\n",
            "   1.57095402e-01  2.06916332e-02  1.64943308e-01]\n",
            " [-1.21183477e-01  3.24766561e-02  7.28310123e-02 -1.31847768e-03\n",
            "   2.92324662e-01 -2.51673937e-01 -4.55881245e-02  1.15280123e-02\n",
            "  -2.03476384e-01  1.25874683e-01  1.59120843e-01  2.09006459e-01\n",
            "   9.35953557e-02 -1.96117684e-01 -4.87530492e-02]\n",
            " [ 3.24766561e-02 -8.97042006e-02 -1.31847756e-03  7.95122012e-02\n",
            "  -2.51673937e-01  3.53861392e-01  1.15280123e-02 -5.77490814e-02\n",
            "   1.25874683e-01 -1.65100351e-01 -2.33455852e-01 -2.32382551e-01\n",
            "   5.84070943e-02  2.00114742e-01  1.82295471e-01]\n",
            " [ 7.52863660e-02  3.27221751e-02 -8.13459158e-02 -6.01198487e-02\n",
            "  -4.55881245e-02  1.15280123e-02  3.81880477e-02  2.68031694e-02\n",
            "   4.87386882e-02  1.48507825e-05  1.69309713e-02 -3.20908874e-02\n",
            "  -8.08274597e-02  4.14626785e-02 -5.90081811e-02]\n",
            " [ 3.27221751e-02  5.36568202e-02 -6.01198487e-02 -8.57245401e-02\n",
            "   1.15280114e-02 -5.77490814e-02  2.68031694e-02  4.63079512e-02\n",
            "   1.48508698e-05  3.58317904e-02  8.13981444e-02  4.77267355e-02\n",
            "  -8.16070661e-02 -2.54738070e-02 -9.13207680e-02]\n",
            " [ 1.45985365e-01 -1.09020397e-02 -8.60339478e-02 -1.36302020e-02\n",
            "  -2.03476369e-01  1.25874683e-01  4.87386882e-02  1.48507388e-05\n",
            "   1.91976234e-01 -7.70112798e-02 -1.01533331e-01 -1.64142177e-01\n",
            "  -1.24749914e-01  1.56048894e-01 -1.76180024e-02]\n",
            " [-1.09020397e-02  5.92272058e-02 -1.36302020e-02 -5.64389043e-02\n",
            "   1.25874683e-01 -1.65100351e-01  1.48507097e-05  3.58317904e-02\n",
            "  -7.70112798e-02  9.19961110e-02  1.27150416e-01  1.18867993e-01\n",
            "  -3.10466848e-02 -9.92319658e-02 -9.76518244e-02]\n",
            " [-1.05642481e-02  1.06434137e-01 -5.40330634e-02 -1.36252269e-01\n",
            "   1.59120843e-01 -2.33455196e-01  1.69310085e-02  8.13982040e-02\n",
            "  -1.01533435e-01  1.27150461e-01  7.20068157e-01  6.93078995e-01\n",
            "   4.07189846e-01  3.49834681e-01  3.20383877e-01]\n",
            " [-1.17316164e-01  5.88403828e-02  5.27823418e-02 -6.09478988e-02\n",
            "   2.09006459e-01 -2.32382834e-01 -3.20908874e-02  4.77266014e-02\n",
            "  -1.64142281e-01  1.18867904e-01  6.93078995e-01  7.33257890e-01\n",
            "   5.16418815e-01  2.98359036e-01  4.05367941e-01]\n",
            " [-1.73503757e-01 -9.68245268e-02  1.69969946e-01  1.57095417e-01\n",
            "   9.35952663e-02  5.84070683e-02 -8.08274671e-02 -8.16070437e-02\n",
            "  -1.24749862e-01 -3.10466643e-02  4.07189846e-01  5.16418815e-01\n",
            "   7.40002513e-01  4.50906664e-01  6.96073711e-01]\n",
            " [ 1.23071194e-01 -3.33285294e-02 -7.44741857e-02  2.06915624e-02\n",
            "  -1.96117595e-01  2.00114757e-01  4.14626710e-02 -2.54738256e-02\n",
            "   1.56048819e-01 -9.92320031e-02  3.49834681e-01  2.98359036e-01\n",
            "   4.50906664e-01  6.81378961e-01  5.53316593e-01]\n",
            " [-1.10244505e-01 -1.18424512e-01  1.35939300e-01  1.64943308e-01\n",
            "  -4.87530492e-02  1.82295471e-01 -5.90081811e-02 -9.13207680e-02\n",
            "  -1.76180024e-02 -9.76518244e-02  3.20383877e-01  4.05367941e-01\n",
            "   6.96073711e-01  5.53316593e-01  7.24269629e-01]]\n",
            "5.6240788e-06\n"
          ]
        }
      ]
    }
  ],
  "metadata": {
    "colab": {
      "collapsed_sections": [],
      "name": "training_skeleton.ipynb",
      "provenance": [],
      "toc_visible": true,
      "authorship_tag": "ABX9TyM5VdDh9/UtohHjP8evzpJc",
      "include_colab_link": true
    },
    "kernelspec": {
      "display_name": "Python 3",
      "name": "python3"
    },
    "language_info": {
      "name": "python"
    }
  },
  "nbformat": 4,
  "nbformat_minor": 0
}