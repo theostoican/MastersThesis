{
  "cells": [
    {
      "cell_type": "markdown",
      "metadata": {
        "id": "view-in-github",
        "colab_type": "text"
      },
      "source": [
        "<a href=\"https://colab.research.google.com/github/theostoican/MastersThesis/blob/main/training_skeleton.ipynb\" target=\"_parent\"><img src=\"https://colab.research.google.com/assets/colab-badge.svg\" alt=\"Open In Colab\"/></a>"
      ]
    },
    {
      "cell_type": "code",
      "execution_count": 16,
      "metadata": {
        "id": "4cKo7_tWleLC",
        "colab": {
          "base_uri": "https://localhost:8080/"
        },
        "outputId": "16b79c81-b3fd-4d31-d2f9-c4995a3ad66f"
      },
      "outputs": [
        {
          "output_type": "stream",
          "name": "stdout",
          "text": [
            "Requirement already satisfied: dict_minimize in /usr/local/lib/python3.7/dist-packages (0.0.4)\n",
            "Requirement already satisfied: numpy>=1.18.5 in /usr/local/lib/python3.7/dist-packages (from dict_minimize) (1.19.5)\n",
            "Requirement already satisfied: scipy>=1.4.1 in /usr/local/lib/python3.7/dist-packages (from dict_minimize) (1.4.1)\n"
          ]
        }
      ],
      "source": [
        "import copy\n",
        "import csv\n",
        "import torch.nn as nn\n",
        "import numpy as np\n",
        "import torch\n",
        "from torch.autograd import Variable\n",
        "\n",
        "import matplotlib.pyplot as plt\n",
        "import matplotlib\n",
        "\n",
        "!pip install dict_minimize\n",
        "from dict_minimize.torch_api import minimize\n",
        "from collections import OrderedDict"
      ]
    },
    {
      "cell_type": "markdown",
      "metadata": {
        "id": "w8SjHkIMoI_B"
      },
      "source": [
        "# Various modelling parameters"
      ]
    },
    {
      "cell_type": "code",
      "execution_count": 17,
      "metadata": {
        "id": "F8ktizbMoKWO"
      },
      "outputs": [],
      "source": [
        "#N is batch size; D_in is input dimension;\n",
        "#H is the dimension of the hidden layer; D_out is output dimension.\n",
        "N, D_in, H_teacher, H_student, D_out = 1, 2, 4, 5, 1\n",
        "num_experiments = 1"
      ]
    },
    {
      "cell_type": "markdown",
      "metadata": {
        "id": "0ptEq_k5KeK6"
      },
      "source": [
        "# Dataset creation"
      ]
    },
    {
      "cell_type": "code",
      "execution_count": 18,
      "metadata": {
        "colab": {
          "base_uri": "https://localhost:8080/"
        },
        "id": "z7WSK5OS-_Jb",
        "outputId": "bd0c1809-bb0b-403f-8bcc-13ef3f22736f"
      },
      "outputs": [
        {
          "output_type": "stream",
          "name": "stdout",
          "text": [
            "1681\n"
          ]
        }
      ],
      "source": [
        "def construct_dataset():\n",
        "  data = []\n",
        "  for y in np.arange(-5, 5.1, .25):\n",
        "    for x in np.arange(-5, 5.1, .25):\n",
        "      data.append([x, y])\n",
        "  return data\n",
        "\n",
        "data = torch.Tensor(construct_dataset()) \n",
        "print(len(construct_dataset()))"
      ]
    },
    {
      "cell_type": "markdown",
      "metadata": {
        "id": "L0ZEwEx3Kg9_"
      },
      "source": [
        "# Models"
      ]
    },
    {
      "cell_type": "code",
      "execution_count": 19,
      "metadata": {
        "id": "QLlxqBcnzo2e"
      },
      "outputs": [],
      "source": [
        "class TeacherNetwork(nn.Module):\n",
        "  def __init__(self, D_in, H, D_out):\n",
        "    \"\"\"\n",
        "    In the constructor we instantiate two nn.Linear modules and assign them as\n",
        "    member variables.\n",
        "\n",
        "    D_in: input dimension\n",
        "    H: dimension of hidden layer\n",
        "    D_out: output dimension of the first layer\n",
        "    \"\"\"\n",
        "    super(TeacherNetwork, self).__init__()\n",
        "    self.linear1 = nn.Linear(D_in, H, bias=False) \n",
        "    self.linear2 = nn.Linear(H, D_out, bias=False)\n",
        "    self.linear1.weight = torch.nn.Parameter(torch.transpose(torch.Tensor([[0.6, -0.5, -0.2, 0.1], [0.5, 0.5, -0.6, -0.6]]), 0, 1))\n",
        "    self.linear2.weight = torch.nn.Parameter(torch.transpose(torch.Tensor([[1], [-1], [1], [-1]]), 0, 1))\n",
        "  def forward(self, x):\n",
        "    \"\"\"\n",
        "    In the forward function we accept a Variable of input data and we must\n",
        "    return a Variable of output data. We can use Modules defined in the\n",
        "    constructor as well as arbitrary operators on Variables.\n",
        "    \"\"\"\n",
        "    h_sigmoid = torch.sigmoid(self.linear1(x))\n",
        "    y_pred = self.linear2(h_sigmoid)\n",
        "    return y_pred"
      ]
    },
    {
      "cell_type": "code",
      "execution_count": 20,
      "metadata": {
        "id": "COkLdjEOmBJV"
      },
      "outputs": [],
      "source": [
        "class StudentNetwork(nn.Module):\n",
        "  def __init__(self, D_in, H, D_out):\n",
        "    \"\"\"\n",
        "    In the constructor we instantiate two nn.Linear modules and assign them as\n",
        "    member variables.\n",
        "\n",
        "    D_in: input dimension\n",
        "    H: dimension of hidden layer\n",
        "    D_out: output dimension of the first layer\n",
        "    \"\"\"\n",
        "    super(StudentNetwork, self).__init__()\n",
        "    self.linear1 = nn.Linear(D_in, H, bias=False) \n",
        "    self.linear2 = nn.Linear(H, D_out, bias=False)\n",
        "    nn.init.xavier_uniform_(self.linear1.weight)\n",
        "    nn.init.xavier_uniform_(self.linear2.weight)\n",
        "  def forward(self, x):\n",
        "    \"\"\"\n",
        "    In the forward function we accept a Variable of input data and we must\n",
        "    return a Variable of output data. We can use Modules defined in the\n",
        "    constructor as well as arbitrary operators on Variables.\n",
        "    \"\"\"\n",
        "    h_sigmoid = torch.sigmoid(self.linear1(x))\n",
        "    y_pred = self.linear2(h_sigmoid)\n",
        "    return y_pred"
      ]
    },
    {
      "cell_type": "markdown",
      "metadata": {
        "id": "Xh4A8WS3HzeU"
      },
      "source": [
        "# Generation of the labels based on the teacher model."
      ]
    },
    {
      "cell_type": "code",
      "execution_count": 21,
      "metadata": {
        "id": "ILSXsIRu3U18"
      },
      "outputs": [],
      "source": [
        "teacher_model = TeacherNetwork(D_in, H_teacher, D_out)\n",
        "y_labels = teacher_model(data).detach()"
      ]
    },
    {
      "cell_type": "markdown",
      "metadata": {
        "id": "RZrYxLLwKk6Q"
      },
      "source": [
        "# Training helper method"
      ]
    },
    {
      "cell_type": "code",
      "execution_count": 22,
      "metadata": {
        "id": "kS2Ri_ya9Npv"
      },
      "outputs": [],
      "source": [
        "def train(model, x, y_labels, N = 1000, Ninner = 10**3, Nstart = 10,\n",
        "          maxtime = 10 ** 3, nlopt_threshold = 1e-7,\n",
        "          collect_history = True):\n",
        "  optimizer = torch.optim.Adam(model.parameters()) #, lr=0.0001)\n",
        "  loss_fn = nn.MSELoss()\n",
        "  loss_vals = []\n",
        "  trace = []\n",
        "  if collect_history:\n",
        "    trace.append((copy.deepcopy(model.linear1.weight.data.detach().numpy()),\n",
        "                  copy.deepcopy(model.linear2.weight.data.detach().numpy())))\n",
        "  for i in range(N):\n",
        "    loss_tmp = []\n",
        "    for j in range(Ninner):\n",
        "      y = model(x)\n",
        "      loss = loss_fn(y, y_labels)\n",
        "      loss_grad = torch.autograd.grad(loss, model.parameters(), retain_graph=True)\n",
        "      loss_tmp.append(loss.item())\n",
        "      optimizer.zero_grad()\n",
        "      loss.backward(retain_graph=True)\n",
        "      optimizer.step()\n",
        "      if i == 0 and (j % Nstart == 0) and j > 0:\n",
        "        loss_vals.append(np.mean(loss_tmp[j - Nstart : j]))\n",
        "        if collect_history:\n",
        "          trace.append((copy.deepcopy(model.linear1.weight.data.detach().numpy()),\n",
        "                        copy.deepcopy(model.linear2.weight.data.detach().numpy())))\n",
        "    loss_vals.append(np.mean(loss_tmp))\n",
        "    if collect_history:\n",
        "      trace.append((copy.deepcopy(model.linear1.weight.data.detach().numpy()),\n",
        "                    copy.deepcopy(model.linear2.weight.data.detach().numpy())))\n",
        "    # stopping criterion\n",
        "    cnt = 0\n",
        "    for g in loss_grad:\n",
        "        g_vector = g.contiguous().view(-1) if cnt == 0 else torch.cat([g_vector, g.contiguous().view(-1)])\n",
        "        cnt = 1\n",
        "    print(\"Iteration: %d, loss: %s, gradient norm: %s\" % (Ninner * i, np.mean(loss_tmp), torch.norm(g_vector)))\n",
        "    if torch.norm(g_vector) <= 2e-6:\n",
        "      break\n",
        "  return loss_vals, trace"
      ]
    },
    {
      "cell_type": "markdown",
      "metadata": {
        "id": "HlZpml_4MOQD"
      },
      "source": [
        "# Hessian evaluation helper"
      ]
    },
    {
      "cell_type": "code",
      "execution_count": 23,
      "metadata": {
        "id": "mXEHxyklMQgi"
      },
      "outputs": [],
      "source": [
        "def eval_hessian(loss_grad, model):\n",
        "    cnt = 0\n",
        "    for g in loss_grad:\n",
        "        g_vector = g.contiguous().view(-1) if cnt == 0 else torch.cat([g_vector, g.contiguous().view(-1)])\n",
        "        cnt = 1\n",
        "    grad_norm = torch.norm(g_vector)\n",
        "    l = g_vector.size(0)\n",
        "    hessian = torch.zeros(l, l)\n",
        "    for idx in range(l):\n",
        "        grad2rd = torch.autograd.grad(g_vector[idx], model.parameters(), create_graph=True)\n",
        "        cnt = 0\n",
        "        for g in grad2rd: \n",
        "            g2 = g.contiguous().view(-1) if cnt == 0 else torch.cat([g2, g.contiguous().view(-1)])\n",
        "            cnt = 1\n",
        "        hessian[idx] = g2\n",
        "    hessian[:, idx] = g2\n",
        "    return grad_norm.cpu().data.numpy(), hessian.cpu().data.numpy()"
      ]
    },
    {
      "cell_type": "markdown",
      "metadata": {
        "id": "wV8HjfUxcupO"
      },
      "source": [
        "# Actual training and hessian computation"
      ]
    },
    {
      "cell_type": "code",
      "execution_count": 24,
      "metadata": {
        "colab": {
          "base_uri": "https://localhost:8080/"
        },
        "id": "c-4dScUFCP-2",
        "outputId": "4d797395-a430-435b-dfc7-f47d400cfe23"
      },
      "outputs": [
        {
          "output_type": "stream",
          "name": "stdout",
          "text": [
            "Iteration: 0, loss: 0.03345492475561332, gradient norm: tensor(0.0066)\n",
            "Iteration: 1000, loss: 0.0008598318077856675, gradient norm: tensor(0.0028)\n",
            "Iteration: 2000, loss: 0.00035909458450623786, gradient norm: tensor(0.0011)\n",
            "Iteration: 3000, loss: 0.0002629026825306937, gradient norm: tensor(0.0007)\n",
            "Iteration: 4000, loss: 0.00023224779403244612, gradient norm: tensor(0.0005)\n",
            "Iteration: 5000, loss: 0.0002025335907092085, gradient norm: tensor(0.0004)\n",
            "Iteration: 6000, loss: 0.0001730091286735842, gradient norm: tensor(0.0003)\n",
            "Iteration: 7000, loss: 0.00014120709798589814, gradient norm: tensor(0.0002)\n",
            "Iteration: 8000, loss: 0.00011983784068434034, gradient norm: tensor(3.7106e-05)\n",
            "Iteration: 9000, loss: 0.00011608801779948407, gradient norm: tensor(3.0726e-05)\n",
            "Iteration: 10000, loss: 0.00011109463268803665, gradient norm: tensor(4.6454e-05)\n",
            "Iteration: 11000, loss: 0.00010254112136317417, gradient norm: tensor(4.7536e-05)\n",
            "Iteration: 12000, loss: 8.330993527670217e-05, gradient norm: tensor(0.0001)\n",
            "Iteration: 13000, loss: 1.5120902598027897e-05, gradient norm: tensor(3.5461e-05)\n",
            "Iteration: 14000, loss: 3.167458837197046e-06, gradient norm: tensor(0.0001)\n",
            "Iteration: 15000, loss: 1.1337428082924816e-06, gradient norm: tensor(7.2077e-06)\n",
            "Iteration: 16000, loss: 9.309973019639984e-07, gradient norm: tensor(0.0003)\n",
            "Iteration: 17000, loss: 8.215033338387911e-07, gradient norm: tensor(6.1871e-05)\n",
            "Iteration: 18000, loss: 7.38862642492677e-07, gradient norm: tensor(6.2658e-05)\n",
            "Iteration: 19000, loss: 6.713666043083322e-07, gradient norm: tensor(7.9855e-05)\n",
            "Iteration: 20000, loss: 6.142154912822662e-07, gradient norm: tensor(9.5245e-05)\n",
            "Iteration: 21000, loss: 5.653331256780803e-07, gradient norm: tensor(0.0001)\n",
            "Iteration: 22000, loss: 5.216468169351174e-07, gradient norm: tensor(5.9167e-06)\n",
            "Iteration: 23000, loss: 4.843629395168137e-07, gradient norm: tensor(0.0003)\n",
            "Iteration: 24000, loss: 4.5006040107864465e-07, gradient norm: tensor(0.0002)\n",
            "Iteration: 25000, loss: 4.1991783601247336e-07, gradient norm: tensor(0.0008)\n",
            "Iteration: 26000, loss: 3.908759466924039e-07, gradient norm: tensor(0.0007)\n",
            "Iteration: 27000, loss: 3.689182529740265e-07, gradient norm: tensor(0.0001)\n",
            "Iteration: 28000, loss: 3.442244032783037e-07, gradient norm: tensor(3.5117e-05)\n",
            "Iteration: 29000, loss: 3.2394729839779757e-07, gradient norm: tensor(6.4087e-05)\n",
            "Iteration: 30000, loss: 3.066014042474308e-07, gradient norm: tensor(0.0002)\n",
            "Iteration: 31000, loss: 2.862120199438323e-07, gradient norm: tensor(2.3305e-05)\n",
            "Iteration: 32000, loss: 2.7205053510215295e-07, gradient norm: tensor(0.0004)\n",
            "Iteration: 33000, loss: 2.5655461917040157e-07, gradient norm: tensor(0.0002)\n",
            "Iteration: 34000, loss: 2.423886998741409e-07, gradient norm: tensor(0.0001)\n",
            "Iteration: 35000, loss: 2.310565471219661e-07, gradient norm: tensor(2.9750e-05)\n",
            "Iteration: 36000, loss: 2.1999548690132542e-07, gradient norm: tensor(7.1424e-05)\n",
            "Iteration: 37000, loss: 2.0756458604864746e-07, gradient norm: tensor(0.0002)\n",
            "Iteration: 38000, loss: 1.9808390858599979e-07, gradient norm: tensor(0.0002)\n",
            "Iteration: 39000, loss: 1.8964448584313232e-07, gradient norm: tensor(0.0002)\n",
            "Iteration: 40000, loss: 1.8028471122022437e-07, gradient norm: tensor(0.0001)\n",
            "Iteration: 41000, loss: 1.7137737695804845e-07, gradient norm: tensor(1.3859e-06)\n",
            "smallest eigenvalue:  2.3438884e-06\n"
          ]
        }
      ],
      "source": [
        "student_model = StudentNetwork(D_in, H_student, D_out)\n",
        "loss_vals, trace = train(student_model, data, y_labels)\n",
        "last_loss_val = loss_vals[-1]\n",
        "\n",
        "loss_grad = torch.autograd.grad(nn.MSELoss()(student_model(data), y_labels), student_model.parameters(), create_graph=True)\n",
        "grad_norm, hessian = eval_hessian(loss_grad, student_model)\n",
        "smallest_eigenvalue = np.min(np.linalg.eigvals(hessian))\n",
        "\n",
        "print('smallest eigenvalue: ', smallest_eigenvalue)"
      ]
    },
    {
      "cell_type": "markdown",
      "metadata": {
        "id": "9F7kBJPoLS_h"
      },
      "source": [
        "# Plotting"
      ]
    },
    {
      "cell_type": "code",
      "execution_count": 25,
      "metadata": {
        "id": "JYMYC8b5VqT1"
      },
      "outputs": [],
      "source": [
        "teacher_neurons_x = [0.6, -0.5, -0.2, 0.1]\n",
        "teacher_neurons_y = [0.5, 0.5, -0.6, -0.6]"
      ]
    },
    {
      "cell_type": "code",
      "execution_count": 26,
      "metadata": {
        "colab": {
          "base_uri": "https://localhost:8080/",
          "height": 282
        },
        "id": "mflgj_AbLToB",
        "outputId": "9a72ffe9-aeb0-4e19-e1bb-603ab5ec872b"
      },
      "outputs": [
        {
          "output_type": "execute_result",
          "data": {
            "text/plain": [
              "<matplotlib.colorbar.Colorbar at 0x7fd1387f0910>"
            ]
          },
          "metadata": {},
          "execution_count": 26
        },
        {
          "output_type": "display_data",
          "data": {
            "image/png": "[encoded data removed]",
            "text/plain": [
              "<Figure size 432x288 with 2 Axes>"
            ]
          },
          "metadata": {
            "needs_background": "light"
          }
        }
      ],
      "source": [
        "\n",
        "neuron_0_w_x = []\n",
        "neuron_0_w_y = []\n",
        "neuron_0_a = []\n",
        "\n",
        "neuron_1_w_x = []\n",
        "neuron_1_w_y = []\n",
        "neuron_1_a = []\n",
        "\n",
        "neuron_2_w_x = []\n",
        "neuron_2_w_y = []\n",
        "neuron_2_a = []\n",
        "\n",
        "neuron_3_w_x = []\n",
        "neuron_3_w_y = []\n",
        "neuron_3_a = []\n",
        "\n",
        "neuron_4_w_x = []\n",
        "neuron_4_w_y = []\n",
        "neuron_4_a = []\n",
        "\n",
        "for (inp_weights, out_weights) in trace:\n",
        "  neuron_0_w_x.append(inp_weights[0][0])\n",
        "  neuron_0_w_y.append(inp_weights[0][1])\n",
        "  neuron_0_a.append(out_weights[0][0])\n",
        "\n",
        "  neuron_1_w_x.append(inp_weights[1][0])\n",
        "  neuron_1_w_y.append(inp_weights[1][1])\n",
        "  neuron_1_a.append(out_weights[0][1])\n",
        "\n",
        "  neuron_2_w_x.append(inp_weights[2][0])\n",
        "  neuron_2_w_y.append(inp_weights[2][1])\n",
        "  neuron_2_a.append(out_weights[0][2])\n",
        "\n",
        "  neuron_3_w_x.append(inp_weights[3][0])\n",
        "  neuron_3_w_y.append(inp_weights[3][1])\n",
        "  neuron_3_a.append(out_weights[0][3])\n",
        "\n",
        "  neuron_4_w_x.append(inp_weights[4][0])\n",
        "  neuron_4_w_y.append(inp_weights[4][1])\n",
        "  neuron_4_a.append(out_weights[0][4])\n",
        "\n",
        "plt.plot(neuron_0_w_x, neuron_0_w_y)\n",
        "plt.plot(neuron_1_w_x, neuron_1_w_y)\n",
        "plt.plot(neuron_2_w_x, neuron_2_w_y)\n",
        "plt.plot(neuron_3_w_x, neuron_3_w_y)\n",
        "plt.plot(neuron_4_w_x, neuron_4_w_y)\n",
        "\n",
        "plt.scatter(teacher_neurons_x, teacher_neurons_y, marker=\"*\")\n",
        "\n",
        "outgoing_weights = [neuron_0_a[-1], neuron_1_a[-1], neuron_2_a[-1], neuron_3_a[-1], neuron_4_a[-1]]\n",
        "plt.scatter([neuron_0_w_x[-1], neuron_1_w_x[-1], neuron_2_w_x[-1], neuron_3_w_x[-1], neuron_4_w_x[-1]],\n",
        "            [neuron_0_w_y[-1], neuron_1_w_y[-1], neuron_2_w_y[-1], neuron_3_w_y[-1], neuron_4_w_y[-1]],\n",
        "            c = outgoing_weights,\n",
        "            cmap=matplotlib.cm.jet)\n",
        "plt.colorbar()\n",
        "\n",
        "# Teacher's neurons\n",
        "#[0.6, -0.5, -0.2, 0.1],\n",
        "#[0.5, 0.5, -0.6, -0.6],"
      ]
    },
    {
      "cell_type": "markdown",
      "source": [
        "# Second order optimization"
      ],
      "metadata": {
        "id": "JjTe7aE14Dac"
      }
    },
    {
      "cell_type": "code",
      "source": [
        "class DummyNetwork(nn.Module):\n",
        "  def __init__(self, D_in, H, D_out, w_in, w_out):\n",
        "    \"\"\"\n",
        "    In the constructor we instantiate two nn.Linear modules and assign them as\n",
        "    member variables.\n",
        "\n",
        "    D_in: input dimension\n",
        "    H: dimension of hidden layer\n",
        "    D_out: output dimension of the first layer\n",
        "    \"\"\"\n",
        "    super(DummyNetwork, self).__init__()\n",
        "    self.linear1 = nn.Linear(D_in, H, bias=False) \n",
        "    self.linear2 = nn.Linear(H, D_out, bias=False)\n",
        "    self.linear1.weight = torch.nn.Parameter(w_in)\n",
        "    self.linear2.weight = torch.nn.Parameter(w_out)\n",
        "  def forward(self, x):\n",
        "    \"\"\"\n",
        "    In the forward function we accept a Variable of input data and we must\n",
        "    return a Variable of output data. We can use Modules defined in the\n",
        "    constructor as well as arbitrary operators on Variables.\n",
        "    \"\"\"\n",
        "    h_sigmoid = torch.sigmoid(self.linear1(x))\n",
        "    y_pred = self.linear2(h_sigmoid)\n",
        "    return y_pred"
      ],
      "metadata": {
        "id": "WDicCa3cV1xM"
      },
      "execution_count": 27,
      "outputs": []
    },
    {
      "cell_type": "code",
      "source": [
        "def d_loss(params):\n",
        "  w_in, w_out = params[\"w_in\"], params[\"w_out\"]\n",
        "  dummy_model = DummyNetwork(D_in, H_student, D_out, w_in, w_out)\n",
        "  obj = nn.MSELoss()(dummy_model(data), y_labels)\n",
        "  dw_in, dw_out = torch.autograd.grad(obj, dummy_model.parameters())\n",
        "  d_obj = OrderedDict([(\"w_in\", dw_in), (\"w_out\", dw_out)])\n",
        "  return obj, d_obj"
      ],
      "metadata": {
        "id": "TuACp-6HWtBD"
      },
      "execution_count": 28,
      "outputs": []
    },
    {
      "cell_type": "code",
      "source": [
        "params = OrderedDict([(\"w_in\", torch.Tensor(trace[-1][0])), (\"w_out\", torch.Tensor(trace[-1][1]))])\n",
        "lb_dict = OrderedDict([(\"w_in\", torch.Tensor(trace[-1][0] - 1)), (\"w_out\", torch.Tensor(trace[-1][1] - 1))])\n",
        "ub_dict = OrderedDict([(\"w_in\", torch.Tensor(trace[-1][0] + 1)), (\"w_out\", torch.Tensor(trace[-1][1] + 1))])\n",
        "print('old params: ',params)\n",
        "# params = minimize(d_loss, params, method=\"\", lb_dict = lb_dict, ub_dict = ub_dict,\n",
        "#                   options={\"disp\": True , \"maxiter\": 10 ** 3}, tol=1e-8)\n",
        "params = minimize(d_loss, params, method=\"SLSQP\", lb_dict = lb_dict, ub_dict = ub_dict,\n",
        "                  options={\"disp\": True , \"maxiter\": 10 ** 4}, tol=1e-40)\n",
        "print('new params: ',params)"
      ],
      "metadata": {
        "colab": {
          "base_uri": "https://localhost:8080/"
        },
        "id": "Jm6OGZBNYuV7",
        "outputId": "f8124ebc-7e5b-4771-c956-4ec688dab56d"
      },
      "execution_count": 34,
      "outputs": [
        {
          "output_type": "stream",
          "name": "stdout",
          "text": [
            "old params:  OrderedDict([('w_in', tensor([[-2.4470e-01, -6.2086e-01],\n",
            "        [-6.1159e-01, -5.0734e-01],\n",
            "        [ 5.1418e-01, -5.0806e-01],\n",
            "        [-2.8453e-03, -1.9095e-04],\n",
            "        [-1.3787e-01,  6.2348e-01]])), ('w_out', tensor([[ 0.7732, -0.9763,  0.9600, -1.5138,  0.7570]]))])\n",
            "Optimization terminated successfully.    (Exit mode 0)\n",
            "            Current function value: 1.5222880733745114e-07\n",
            "            Iterations: 1\n",
            "            Function evaluations: 1\n",
            "            Gradient evaluations: 1\n",
            "new params:  OrderedDict([('w_in', tensor([[-2.4470e-01, -6.2086e-01],\n",
            "        [-6.1159e-01, -5.0734e-01],\n",
            "        [ 5.1418e-01, -5.0806e-01],\n",
            "        [-2.8453e-03, -1.9095e-04],\n",
            "        [-1.3787e-01,  6.2348e-01]], requires_grad=True)), ('w_out', tensor([[ 0.7732, -0.9763,  0.9600, -1.5138,  0.7570]], requires_grad=True))])\n"
          ]
        }
      ]
    },
    {
      "cell_type": "markdown",
      "source": [
        "# New smallest eigenvalue"
      ],
      "metadata": {
        "id": "9flDuKrBgJ68"
      }
    },
    {
      "cell_type": "code",
      "source": [
        "dummy_model = DummyNetwork(D_in, H_student, D_out, params[\"w_in\"], params[\"w_out\"])\n",
        "print(nn.MSELoss()(dummy_model(data), y_labels))\n",
        "loss_grad = torch.autograd.grad(nn.MSELoss()(dummy_model(data), y_labels), dummy_model.parameters(), create_graph=True)\n",
        "grad_norm, hessian = eval_hessian(loss_grad, dummy_model)\n",
        "print(hessian)\n",
        "smallest_eigenvalue = np.min(np.linalg.eigvals(hessian))\n",
        "print('new smallest eigenvelue:', smallest_eigenvalue)"
      ],
      "metadata": {
        "colab": {
          "base_uri": "https://localhost:8080/"
        },
        "id": "HwNZPkIvek9Y",
        "outputId": "42442871-ae2e-4550-9a03-55ef819e0d2a"
      },
      "execution_count": 30,
      "outputs": [
        {
          "output_type": "stream",
          "name": "stdout",
          "text": [
            "tensor(1.5223e-07, grad_fn=<MseLossBackward0>)\n",
            "[[ 2.66191810e-01 -9.68889147e-02 -2.42168635e-01  1.44997969e-01\n",
            "   1.59882918e-01  2.42555756e-02 -7.12640941e-01  2.01739103e-01\n",
            "   2.12254941e-01 -1.69030502e-02 -1.97368022e-02 -1.51785880e-01\n",
            "   1.90139294e-01 -1.31407147e-03 -1.04171313e-01]\n",
            " [-9.68889147e-02  1.24728888e-01  1.44997969e-01 -1.96210340e-01\n",
            "   2.42555719e-02  1.08888745e-01  2.01739103e-01 -4.65421617e-01\n",
            "  -1.69030484e-02  8.57481584e-02 -1.19125381e-01 -4.17125449e-02\n",
            "  -1.31749272e-01  3.20505205e-04  1.47695005e-01]\n",
            " [-2.42168635e-01  1.44997969e-01  3.05977076e-01 -2.61726409e-01\n",
            "  -1.16374664e-01  7.95138720e-03  6.78760588e-01 -4.20444369e-01\n",
            "  -1.52438313e-01  4.53380160e-02 -5.46782464e-02  9.73710790e-02\n",
            "  -2.11166993e-01  1.22272724e-03  1.54134229e-01]\n",
            " [ 1.44997969e-01 -1.96210355e-01 -2.61726409e-01  3.71663243e-01\n",
            "   7.95138814e-03 -1.33401722e-01 -4.20444369e-01  7.70907760e-01\n",
            "   4.53380160e-02 -1.13516875e-01  1.89496532e-01  6.03227280e-02\n",
            "   2.30605781e-01 -6.93103299e-04 -2.35882223e-01]\n",
            " [ 1.59882918e-01  2.42555719e-02 -1.16374664e-01  7.95138720e-03\n",
            "   3.59857410e-01  2.70624071e-01 -7.70384252e-01 -4.18897182e-01\n",
            "   2.51339644e-01  1.17016695e-01 -1.84306964e-01 -2.42947340e-01\n",
            "   8.82261917e-02 -1.50081166e-03  8.12662989e-02]\n",
            " [ 2.42555719e-02  1.08888760e-01  7.95138720e-03 -1.33401722e-01\n",
            "   2.70624101e-01  3.63921165e-01 -4.18897182e-01 -7.76036501e-01\n",
            "   1.17016695e-01  1.68284506e-01 -2.43162945e-01 -2.29988813e-01\n",
            "  -8.57657120e-02 -8.85100395e-04  2.10266799e-01]\n",
            " [-7.12640941e-01  2.01739103e-01  6.78760588e-01 -4.20444369e-01\n",
            "  -7.70384192e-01 -4.18897182e-01  2.50638342e+00 -1.15223229e-05\n",
            "  -7.14535952e-01 -1.15721457e-01  2.31482580e-01  5.86155891e-01\n",
            "  -5.12855887e-01  4.71047265e-03  1.31145731e-01]\n",
            " [ 2.01739088e-01 -4.65421617e-01 -4.20444369e-01  7.70907760e-01\n",
            "  -4.18897182e-01 -7.76036441e-01 -1.15334988e-05  2.50645590e+00\n",
            "  -1.15721449e-01 -4.29845482e-01  6.86811626e-01  4.62249249e-01\n",
            "   5.05260348e-01  3.16961494e-04 -7.10569203e-01]\n",
            " [ 2.12254941e-01 -1.69030502e-02 -1.52438328e-01  4.53380160e-02\n",
            "   2.51339644e-01  1.17016695e-01 -7.14535952e-01 -1.15721457e-01\n",
            "   2.57889450e-01  5.35233915e-02 -1.11433238e-01 -1.95897669e-01\n",
            "   1.42227739e-01 -1.35761686e-03 -1.02109909e-02]\n",
            " [-1.69030502e-02  8.57481509e-02  4.53380160e-02 -1.13516882e-01\n",
            "   1.17016695e-01  1.68284506e-01 -1.15721449e-01 -4.29845452e-01\n",
            "   5.35233915e-02  9.91297662e-02 -1.33205071e-01 -1.05084382e-01\n",
            "  -6.62199184e-02 -2.71735218e-04  1.25107750e-01]\n",
            " [-1.97368003e-02 -1.19125448e-01 -5.46783060e-02  1.89496607e-01\n",
            "  -1.84306845e-01 -2.43162975e-01  2.31482580e-01  6.86810374e-01\n",
            "  -1.11433096e-01 -1.33204758e-01  7.16778874e-01  6.87520385e-01\n",
            "   5.88661015e-01  5.00521660e-01  3.16779733e-01]\n",
            " [-1.51785821e-01 -4.17124927e-02  9.73710790e-02  6.03229068e-02\n",
            "  -2.42947370e-01 -2.29988918e-01  5.86155653e-01  4.62249875e-01\n",
            "  -1.95897609e-01 -1.05084531e-01  6.87520385e-01  7.37116516e-01\n",
            "   4.74645674e-01  5.01160324e-01  4.01161224e-01]\n",
            " [ 1.90139100e-01 -1.31749243e-01 -2.11167172e-01  2.30605736e-01\n",
            "   8.82263109e-02 -8.57655108e-02 -5.12855887e-01  5.05259395e-01\n",
            "   1.42227799e-01 -6.62199706e-02  5.88661015e-01  4.74645674e-01\n",
            "   7.18450725e-01  4.99099940e-01  3.25849950e-01]\n",
            " [-1.31403119e-03  3.20478808e-04  1.22274365e-03 -6.93030655e-04\n",
            "  -1.50085613e-03 -8.85264948e-04  4.71047126e-03  3.16485763e-04\n",
            "  -1.35763967e-03 -2.71739438e-04  5.00521660e-01  5.01160264e-01\n",
            "   4.99099910e-01  5.00008941e-01  5.00156820e-01]\n",
            " [-1.04171313e-01  1.47695005e-01  1.54134229e-01 -2.35882223e-01\n",
            "   8.12662989e-02  2.10266799e-01  1.31145731e-01 -7.10569203e-01\n",
            "  -1.02109909e-02  1.25107750e-01  3.16779733e-01  4.01161224e-01\n",
            "   3.25849950e-01  5.00156820e-01  7.13481247e-01]]\n",
            "new smallest eigenvelue: 2.3438884e-06\n"
          ]
        }
      ]
    }
  ],
  "metadata": {
    "colab": {
      "collapsed_sections": [],
      "name": "training_skeleton.ipynb",
      "provenance": [],
      "toc_visible": true,
      "authorship_tag": "ABX9TyOoX5wzJJqfav5tJyLCmOI2",
      "include_colab_link": true
    },
    "kernelspec": {
      "display_name": "Python 3",
      "name": "python3"
    },
    "language_info": {
      "name": "python"
    }
  },
  "nbformat": 4,
  "nbformat_minor": 0
}