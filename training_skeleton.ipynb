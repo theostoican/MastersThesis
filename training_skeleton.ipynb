{
  "cells": [
    {
      "cell_type": "markdown",
      "metadata": {
        "id": "view-in-github",
        "colab_type": "text"
      },
      "source": [
        "<a href=\"https://colab.research.google.com/github/theostoican/MastersThesis/blob/main/training_skeleton.ipynb\" target=\"_parent\"><img src=\"https://colab.research.google.com/assets/colab-badge.svg\" alt=\"Open In Colab\"/></a>"
      ]
    },
    {
      "cell_type": "code",
      "execution_count": 106,
      "metadata": {
        "id": "4cKo7_tWleLC",
        "colab": {
          "base_uri": "https://localhost:8080/"
        },
        "outputId": "2c30cee4-1a2c-468d-abe3-9d6bbf3ee087"
      },
      "outputs": [
        {
          "output_type": "stream",
          "name": "stdout",
          "text": [
            "Requirement already satisfied: dict_minimize in /usr/local/lib/python3.7/dist-packages (0.0.4)\n",
            "Requirement already satisfied: numpy>=1.18.5 in /usr/local/lib/python3.7/dist-packages (from dict_minimize) (1.19.5)\n",
            "Requirement already satisfied: scipy>=1.4.1 in /usr/local/lib/python3.7/dist-packages (from dict_minimize) (1.4.1)\n"
          ]
        }
      ],
      "source": [
        "import copy\n",
        "import csv\n",
        "import torch.nn as nn\n",
        "import numpy as np\n",
        "import torch\n",
        "from torch.autograd import Variable\n",
        "\n",
        "import matplotlib.pyplot as plt\n",
        "import matplotlib\n",
        "\n",
        "!pip install dict_minimize\n",
        "from dict_minimize.torch_api import minimize\n",
        "from collections import OrderedDict"
      ]
    },
    {
      "cell_type": "markdown",
      "metadata": {
        "id": "w8SjHkIMoI_B"
      },
      "source": [
        "# Various modelling parameters"
      ]
    },
    {
      "cell_type": "code",
      "execution_count": 107,
      "metadata": {
        "id": "F8ktizbMoKWO"
      },
      "outputs": [],
      "source": [
        "#N is batch size; D_in is input dimension;\n",
        "#H is the dimension of the hidden layer; D_out is output dimension.\n",
        "N, D_in, H_teacher, H_student, D_out = 1, 2, 4, 5, 1\n",
        "num_experiments = 1"
      ]
    },
    {
      "cell_type": "markdown",
      "metadata": {
        "id": "0ptEq_k5KeK6"
      },
      "source": [
        "# Dataset creation"
      ]
    },
    {
      "cell_type": "code",
      "execution_count": 108,
      "metadata": {
        "colab": {
          "base_uri": "https://localhost:8080/"
        },
        "id": "z7WSK5OS-_Jb",
        "outputId": "9bdf6dda-859e-4ec9-9bb7-2c323e8121b7"
      },
      "outputs": [
        {
          "output_type": "stream",
          "name": "stdout",
          "text": [
            "1681\n"
          ]
        }
      ],
      "source": [
        "def construct_dataset():\n",
        "  data = []\n",
        "  for y in np.arange(-5, 5.1, .25):\n",
        "    for x in np.arange(-5, 5.1, .25):\n",
        "      data.append([x, y])\n",
        "  return data\n",
        "\n",
        "data = torch.Tensor(construct_dataset()) \n",
        "print(len(construct_dataset()))"
      ]
    },
    {
      "cell_type": "markdown",
      "metadata": {
        "id": "L0ZEwEx3Kg9_"
      },
      "source": [
        "# Models"
      ]
    },
    {
      "cell_type": "code",
      "execution_count": 109,
      "metadata": {
        "id": "QLlxqBcnzo2e"
      },
      "outputs": [],
      "source": [
        "class TeacherNetwork(nn.Module):\n",
        "  def __init__(self, D_in, H, D_out):\n",
        "    \"\"\"\n",
        "    In the constructor we instantiate two nn.Linear modules and assign them as\n",
        "    member variables.\n",
        "\n",
        "    D_in: input dimension\n",
        "    H: dimension of hidden layer\n",
        "    D_out: output dimension of the first layer\n",
        "    \"\"\"\n",
        "    super(TeacherNetwork, self).__init__()\n",
        "    self.linear1 = nn.Linear(D_in, H, bias=False) \n",
        "    self.linear2 = nn.Linear(H, D_out, bias=False)\n",
        "    self.linear1.weight = torch.nn.Parameter(torch.transpose(torch.Tensor([[0.6, -0.5, -0.2, 0.1], [0.5, 0.5, -0.6, -0.6]]), 0, 1))\n",
        "    self.linear2.weight = torch.nn.Parameter(torch.transpose(torch.Tensor([[1], [-1], [1], [-1]]), 0, 1))\n",
        "  def forward(self, x):\n",
        "    \"\"\"\n",
        "    In the forward function we accept a Variable of input data and we must\n",
        "    return a Variable of output data. We can use Modules defined in the\n",
        "    constructor as well as arbitrary operators on Variables.\n",
        "    \"\"\"\n",
        "    h_sigmoid = torch.sigmoid(self.linear1(x))\n",
        "    y_pred = self.linear2(h_sigmoid)\n",
        "    return y_pred"
      ]
    },
    {
      "cell_type": "code",
      "execution_count": 110,
      "metadata": {
        "id": "COkLdjEOmBJV"
      },
      "outputs": [],
      "source": [
        "class StudentNetwork(nn.Module):\n",
        "  def __init__(self, D_in, H, D_out):\n",
        "    \"\"\"\n",
        "    In the constructor we instantiate two nn.Linear modules and assign them as\n",
        "    member variables.\n",
        "\n",
        "    D_in: input dimension\n",
        "    H: dimension of hidden layer\n",
        "    D_out: output dimension of the first layer\n",
        "    \"\"\"\n",
        "    super(StudentNetwork, self).__init__()\n",
        "    self.linear1 = nn.Linear(D_in, H, bias=False) \n",
        "    self.linear2 = nn.Linear(H, D_out, bias=False)\n",
        "    nn.init.xavier_uniform_(self.linear1.weight)\n",
        "    nn.init.xavier_uniform_(self.linear2.weight)\n",
        "  def forward(self, x):\n",
        "    \"\"\"\n",
        "    In the forward function we accept a Variable of input data and we must\n",
        "    return a Variable of output data. We can use Modules defined in the\n",
        "    constructor as well as arbitrary operators on Variables.\n",
        "    \"\"\"\n",
        "    h_sigmoid = torch.sigmoid(self.linear1(x))\n",
        "    y_pred = self.linear2(h_sigmoid)\n",
        "    return y_pred"
      ]
    },
    {
      "cell_type": "markdown",
      "metadata": {
        "id": "Xh4A8WS3HzeU"
      },
      "source": [
        "# Generation of the labels based on the teacher model."
      ]
    },
    {
      "cell_type": "code",
      "execution_count": 111,
      "metadata": {
        "id": "ILSXsIRu3U18"
      },
      "outputs": [],
      "source": [
        "teacher_model = TeacherNetwork(D_in, H_teacher, D_out)\n",
        "y_labels = teacher_model(data).detach()"
      ]
    },
    {
      "cell_type": "markdown",
      "metadata": {
        "id": "RZrYxLLwKk6Q"
      },
      "source": [
        "# Training helper method"
      ]
    },
    {
      "cell_type": "code",
      "execution_count": 112,
      "metadata": {
        "id": "kS2Ri_ya9Npv"
      },
      "outputs": [],
      "source": [
        "def train(model, x, y_labels, N = 1000, Ninner = 10**3, Nstart = 10,\n",
        "          maxtime = 10 ** 3, nlopt_threshold = 1e-7,\n",
        "          collect_history = True):\n",
        "  optimizer = torch.optim.Adam(model.parameters(), lr=0.0001)\n",
        "  loss_fn = nn.MSELoss()\n",
        "  loss_vals = []\n",
        "  trace = []\n",
        "  if collect_history:\n",
        "    trace.append((copy.deepcopy(model.linear1.weight.data.detach().numpy()),\n",
        "                  copy.deepcopy(model.linear2.weight.data.detach().numpy())))\n",
        "  for i in range(N):\n",
        "    loss_tmp = []\n",
        "    for j in range(Ninner):\n",
        "      y = model(x)\n",
        "      loss = loss_fn(y, y_labels)\n",
        "      loss_grad = torch.autograd.grad(loss, model.parameters(), retain_graph=True)\n",
        "      loss_tmp.append(loss.item())\n",
        "      optimizer.zero_grad()\n",
        "      loss.backward(retain_graph=True)\n",
        "      optimizer.step()\n",
        "      if i == 0 and (j % Nstart == 0) and j > 0:\n",
        "        loss_vals.append(np.mean(loss_tmp[j - Nstart : j]))\n",
        "        if collect_history:\n",
        "          trace.append((copy.deepcopy(model.linear1.weight.data.detach().numpy()),\n",
        "                        copy.deepcopy(model.linear2.weight.data.detach().numpy())))\n",
        "    loss_vals.append(np.mean(loss_tmp))\n",
        "    if collect_history:\n",
        "      trace.append((copy.deepcopy(model.linear1.weight.data.detach().numpy()),\n",
        "                    copy.deepcopy(model.linear2.weight.data.detach().numpy())))\n",
        "    # stopping criterion\n",
        "    cnt = 0\n",
        "    for g in loss_grad:\n",
        "        g_vector = g.contiguous().view(-1) if cnt == 0 else torch.cat([g_vector, g.contiguous().view(-1)])\n",
        "        cnt = 1\n",
        "    print(\"Iteration: %d, loss: %s, gradient norm: %s\" % (Ninner * i, np.mean(loss_tmp), torch.norm(g_vector)))\n",
        "    if torch.norm(g_vector) <= 2e-6:\n",
        "      break\n",
        "  return loss_vals, trace"
      ]
    },
    {
      "cell_type": "markdown",
      "metadata": {
        "id": "HlZpml_4MOQD"
      },
      "source": [
        "# Hessian evaluation helper"
      ]
    },
    {
      "cell_type": "code",
      "execution_count": 113,
      "metadata": {
        "id": "mXEHxyklMQgi"
      },
      "outputs": [],
      "source": [
        "def eval_hessian(loss_grad, model):\n",
        "  cnt = 0\n",
        "  for g in loss_grad:\n",
        "      g_vector = g.contiguous().view(-1) if cnt == 0 else torch.cat([g_vector, g.contiguous().view(-1)])\n",
        "      cnt = 1\n",
        "  grad_norm = torch.norm(g_vector)\n",
        "  l = g_vector.size(0)\n",
        "  hessian = torch.zeros(l, l)\n",
        "  for idx in range(l):\n",
        "      grad2rd = torch.autograd.grad(g_vector[idx], model.parameters(), create_graph=True)\n",
        "      cnt = 0\n",
        "      for g in grad2rd: \n",
        "          g2 = g.contiguous().view(-1) if cnt == 0 else torch.cat([g2, g.contiguous().view(-1)])\n",
        "          cnt = 1\n",
        "      hessian[idx] = g2\n",
        "  # Symmetrize the Hessian.\n",
        "  hessian = (hessian + hessian.T) / 2\n",
        "  return grad_norm.cpu().data.numpy(), hessian.cpu().data.numpy()"
      ]
    },
    {
      "cell_type": "markdown",
      "metadata": {
        "id": "wV8HjfUxcupO"
      },
      "source": [
        "# Actual training and hessian computation"
      ]
    },
    {
      "cell_type": "code",
      "execution_count": 114,
      "metadata": {
        "colab": {
          "base_uri": "https://localhost:8080/"
        },
        "id": "c-4dScUFCP-2",
        "outputId": "b285221f-f2eb-4bea-a4f0-c410a2375f04"
      },
      "outputs": [
        {
          "output_type": "stream",
          "name": "stdout",
          "text": [
            "Iteration: 0, loss: 0.197742076843977, gradient norm: tensor(0.4996)\n",
            "Iteration: 1000, loss: 0.07966146493330598, gradient norm: tensor(0.1781)\n",
            "Iteration: 2000, loss: 0.04707760410383344, gradient norm: tensor(0.1130)\n",
            "Iteration: 3000, loss: 0.025782784240320326, gradient norm: tensor(0.0891)\n",
            "Iteration: 4000, loss: 0.011106316794175654, gradient norm: tensor(0.0481)\n",
            "Iteration: 5000, loss: 0.005551547456067055, gradient norm: tensor(0.0238)\n",
            "Iteration: 6000, loss: 0.0033425123922061176, gradient norm: tensor(0.0152)\n",
            "Iteration: 7000, loss: 0.001939776205108501, gradient norm: tensor(0.0094)\n",
            "Iteration: 8000, loss: 0.0011133711663424038, gradient norm: tensor(0.0055)\n",
            "Iteration: 9000, loss: 0.0006310332672437653, gradient norm: tensor(0.0034)\n",
            "Iteration: 10000, loss: 0.0003393747188092675, gradient norm: tensor(0.0019)\n",
            "Iteration: 11000, loss: 0.00019524677406297997, gradient norm: tensor(0.0009)\n",
            "Iteration: 12000, loss: 0.00014309749263338744, gradient norm: tensor(0.0004)\n",
            "Iteration: 13000, loss: 0.00012549573585420148, gradient norm: tensor(0.0002)\n",
            "Iteration: 14000, loss: 0.00011711790655681398, gradient norm: tensor(0.0002)\n",
            "Iteration: 15000, loss: 0.00011058462012442761, gradient norm: tensor(0.0001)\n",
            "Iteration: 16000, loss: 0.00010418745695642429, gradient norm: tensor(8.6146e-05)\n",
            "Iteration: 17000, loss: 9.814141394599573e-05, gradient norm: tensor(5.6957e-05)\n",
            "Iteration: 18000, loss: 9.345336713886354e-05, gradient norm: tensor(2.9142e-05)\n",
            "Iteration: 19000, loss: 9.099382245767629e-05, gradient norm: tensor(2.1006e-05)\n",
            "Iteration: 20000, loss: 8.925183723476949e-05, gradient norm: tensor(1.6121e-05)\n",
            "Iteration: 21000, loss: 8.746780714864144e-05, gradient norm: tensor(9.0413e-06)\n",
            "Iteration: 22000, loss: 8.635502843389986e-05, gradient norm: tensor(1.4483e-05)\n",
            "Iteration: 23000, loss: 8.592440566280857e-05, gradient norm: tensor(2.9496e-06)\n",
            "Iteration: 24000, loss: 8.574005238915561e-05, gradient norm: tensor(3.1147e-06)\n",
            "Iteration: 25000, loss: 8.542522136121988e-05, gradient norm: tensor(5.7325e-06)\n",
            "Iteration: 26000, loss: 8.43394636613084e-05, gradient norm: tensor(1.4973e-05)\n",
            "Iteration: 27000, loss: 8.229164619115182e-05, gradient norm: tensor(1.2598e-05)\n",
            "Iteration: 28000, loss: 8.041977147513535e-05, gradient norm: tensor(7.0921e-05)\n",
            "Iteration: 29000, loss: 7.951672161289025e-05, gradient norm: tensor(2.4556e-05)\n",
            "Iteration: 30000, loss: 7.912315047724405e-05, gradient norm: tensor(3.4971e-06)\n",
            "Iteration: 31000, loss: 7.889978488674387e-05, gradient norm: tensor(2.4816e-05)\n",
            "Iteration: 32000, loss: 7.869313476112438e-05, gradient norm: tensor(4.5513e-06)\n",
            "Iteration: 33000, loss: 7.824751552107045e-05, gradient norm: tensor(7.8814e-06)\n",
            "Iteration: 34000, loss: 7.708518424624345e-05, gradient norm: tensor(1.6663e-05)\n",
            "Iteration: 35000, loss: 7.571763813029975e-05, gradient norm: tensor(2.2949e-05)\n",
            "Iteration: 36000, loss: 7.47101861416013e-05, gradient norm: tensor(1.2778e-05)\n",
            "Iteration: 37000, loss: 7.409250605996931e-05, gradient norm: tensor(1.1814e-05)\n",
            "Iteration: 38000, loss: 7.37712539776112e-05, gradient norm: tensor(2.3907e-05)\n",
            "Iteration: 39000, loss: 7.363454301957972e-05, gradient norm: tensor(2.7333e-05)\n",
            "Iteration: 40000, loss: 7.358695084258216e-05, gradient norm: tensor(1.3201e-05)\n",
            "Iteration: 41000, loss: 7.356882938620401e-05, gradient norm: tensor(2.3870e-05)\n",
            "Iteration: 42000, loss: 7.355676982842851e-05, gradient norm: tensor(1.4764e-05)\n",
            "Iteration: 43000, loss: 7.354581580148079e-05, gradient norm: tensor(2.0976e-05)\n",
            "Iteration: 44000, loss: 7.353535811853363e-05, gradient norm: tensor(1.9148e-06)\n",
            "smallest eigenvalue:  -1.9506363e-06\n"
          ]
        }
      ],
      "source": [
        "student_model = StudentNetwork(D_in, H_student, D_out)\n",
        "loss_vals, trace = train(student_model, data, y_labels)\n",
        "last_loss_val = loss_vals[-1]\n",
        "\n",
        "loss_grad = torch.autograd.grad(nn.MSELoss()(student_model(data), y_labels), student_model.parameters(), create_graph=True)\n",
        "grad_norm, hessian = eval_hessian(loss_grad, student_model)\n",
        "smallest_eigenvalue = np.min(np.linalg.eigvals(hessian))\n",
        "\n",
        "print('smallest eigenvalue: ', smallest_eigenvalue)"
      ]
    },
    {
      "cell_type": "markdown",
      "metadata": {
        "id": "9F7kBJPoLS_h"
      },
      "source": [
        "# Plotting"
      ]
    },
    {
      "cell_type": "code",
      "execution_count": 115,
      "metadata": {
        "id": "JYMYC8b5VqT1"
      },
      "outputs": [],
      "source": [
        "teacher_neurons_x = [0.6, -0.5, -0.2, 0.1]\n",
        "teacher_neurons_y = [0.5, 0.5, -0.6, -0.6]"
      ]
    },
    {
      "cell_type": "code",
      "execution_count": 116,
      "metadata": {
        "colab": {
          "base_uri": "https://localhost:8080/",
          "height": 282
        },
        "id": "mflgj_AbLToB",
        "outputId": "9f8f7640-ffad-4132-b314-1bf0c97bee8b"
      },
      "outputs": [
        {
          "output_type": "execute_result",
          "data": {
            "text/plain": [
              "<matplotlib.colorbar.Colorbar at 0x7f9f91974cd0>"
            ]
          },
          "metadata": {},
          "execution_count": 116
        },
        {
          "output_type": "display_data",
          "data": {
            "image/png": "[encoded data removed]",
            "text/plain": [
              "<Figure size 432x288 with 2 Axes>"
            ]
          },
          "metadata": {
            "needs_background": "light"
          }
        }
      ],
      "source": [
        "\n",
        "neuron_0_w_x = []\n",
        "neuron_0_w_y = []\n",
        "neuron_0_a = []\n",
        "\n",
        "neuron_1_w_x = []\n",
        "neuron_1_w_y = []\n",
        "neuron_1_a = []\n",
        "\n",
        "neuron_2_w_x = []\n",
        "neuron_2_w_y = []\n",
        "neuron_2_a = []\n",
        "\n",
        "neuron_3_w_x = []\n",
        "neuron_3_w_y = []\n",
        "neuron_3_a = []\n",
        "\n",
        "neuron_4_w_x = []\n",
        "neuron_4_w_y = []\n",
        "neuron_4_a = []\n",
        "\n",
        "for (inp_weights, out_weights) in trace:\n",
        "  neuron_0_w_x.append(inp_weights[0][0])\n",
        "  neuron_0_w_y.append(inp_weights[0][1])\n",
        "  neuron_0_a.append(out_weights[0][0])\n",
        "\n",
        "  neuron_1_w_x.append(inp_weights[1][0])\n",
        "  neuron_1_w_y.append(inp_weights[1][1])\n",
        "  neuron_1_a.append(out_weights[0][1])\n",
        "\n",
        "  neuron_2_w_x.append(inp_weights[2][0])\n",
        "  neuron_2_w_y.append(inp_weights[2][1])\n",
        "  neuron_2_a.append(out_weights[0][2])\n",
        "\n",
        "  neuron_3_w_x.append(inp_weights[3][0])\n",
        "  neuron_3_w_y.append(inp_weights[3][1])\n",
        "  neuron_3_a.append(out_weights[0][3])\n",
        "\n",
        "  neuron_4_w_x.append(inp_weights[4][0])\n",
        "  neuron_4_w_y.append(inp_weights[4][1])\n",
        "  neuron_4_a.append(out_weights[0][4])\n",
        "\n",
        "plt.plot(neuron_0_w_x, neuron_0_w_y)\n",
        "plt.plot(neuron_1_w_x, neuron_1_w_y)\n",
        "plt.plot(neuron_2_w_x, neuron_2_w_y)\n",
        "plt.plot(neuron_3_w_x, neuron_3_w_y)\n",
        "plt.plot(neuron_4_w_x, neuron_4_w_y)\n",
        "\n",
        "plt.scatter(teacher_neurons_x, teacher_neurons_y, marker=\"*\")\n",
        "\n",
        "outgoing_weights = [neuron_0_a[-1], neuron_1_a[-1], neuron_2_a[-1], neuron_3_a[-1], neuron_4_a[-1]]\n",
        "plt.scatter([neuron_0_w_x[-1], neuron_1_w_x[-1], neuron_2_w_x[-1], neuron_3_w_x[-1], neuron_4_w_x[-1]],\n",
        "            [neuron_0_w_y[-1], neuron_1_w_y[-1], neuron_2_w_y[-1], neuron_3_w_y[-1], neuron_4_w_y[-1]],\n",
        "            c = outgoing_weights,\n",
        "            cmap=matplotlib.cm.jet)\n",
        "plt.colorbar()\n",
        "\n",
        "# Teacher's neurons\n",
        "#[0.6, -0.5, -0.2, 0.1],\n",
        "#[0.5, 0.5, -0.6, -0.6],"
      ]
    },
    {
      "cell_type": "markdown",
      "source": [
        "# Second order optimization"
      ],
      "metadata": {
        "id": "JjTe7aE14Dac"
      }
    },
    {
      "cell_type": "code",
      "source": [
        "class DummyNetwork(nn.Module):\n",
        "  def __init__(self, D_in, H, D_out, w_in, w_out):\n",
        "    \"\"\"\n",
        "    In the constructor we instantiate two nn.Linear modules and assign them as\n",
        "    member variables.\n",
        "\n",
        "    D_in: input dimension\n",
        "    H: dimension of hidden layer\n",
        "    D_out: output dimension of the first layer\n",
        "    \"\"\"\n",
        "    super(DummyNetwork, self).__init__()\n",
        "    self.linear1 = nn.Linear(D_in, H, bias=False) \n",
        "    self.linear2 = nn.Linear(H, D_out, bias=False)\n",
        "    self.linear1.weight = torch.nn.Parameter(w_in)\n",
        "    self.linear2.weight = torch.nn.Parameter(w_out)\n",
        "  def forward(self, x):\n",
        "    \"\"\"\n",
        "    In the forward function we accept a Variable of input data and we must\n",
        "    return a Variable of output data. We can use Modules defined in the\n",
        "    constructor as well as arbitrary operators on Variables.\n",
        "    \"\"\"\n",
        "    h_sigmoid = torch.sigmoid(self.linear1(x))\n",
        "    y_pred = self.linear2(h_sigmoid)\n",
        "    return y_pred"
      ],
      "metadata": {
        "id": "WDicCa3cV1xM"
      },
      "execution_count": 117,
      "outputs": []
    },
    {
      "cell_type": "code",
      "source": [
        "def d_loss(params):\n",
        "  w_in, w_out = params[\"w_in\"], params[\"w_out\"]\n",
        "  dummy_model = DummyNetwork(D_in, H_student, D_out, w_in, w_out)\n",
        "  obj = nn.MSELoss()(dummy_model(data), y_labels)\n",
        "  dw_in, dw_out = torch.autograd.grad(obj, dummy_model.parameters())\n",
        "  d_obj = OrderedDict([(\"w_in\", dw_in), (\"w_out\", dw_out)])\n",
        "  return obj, d_obj"
      ],
      "metadata": {
        "id": "TuACp-6HWtBD"
      },
      "execution_count": 118,
      "outputs": []
    },
    {
      "cell_type": "code",
      "source": [
        "params = OrderedDict([(\"w_in\", torch.Tensor(trace[-1][0])), (\"w_out\", torch.Tensor(trace[-1][1]))])\n",
        "lb_dict = OrderedDict([(\"w_in\", torch.Tensor(trace[-1][0] - 1)), (\"w_out\", torch.Tensor(trace[-1][1] - 1))])\n",
        "ub_dict = OrderedDict([(\"w_in\", torch.Tensor(trace[-1][0] + 1)), (\"w_out\", torch.Tensor(trace[-1][1] + 1))])\n",
        "print('old params: ',params)\n",
        "# params = minimize(d_loss, params, method=\"\", lb_dict = lb_dict, ub_dict = ub_dict,\n",
        "#                   options={\"disp\": True , \"maxiter\": 10 ** 3}, tol=1e-8)\n",
        "params = minimize(d_loss, params, method=\"SLSQP\", lb_dict = lb_dict, ub_dict = ub_dict,\n",
        "                  options={\"disp\": True , \"maxiter\": 10 ** 4}, tol=1e-40)\n",
        "print('new params: ',params)"
      ],
      "metadata": {
        "colab": {
          "base_uri": "https://localhost:8080/"
        },
        "id": "Jm6OGZBNYuV7",
        "outputId": "7d434a2a-0741-4b71-b148-ae8c2ca45d00"
      },
      "execution_count": 119,
      "outputs": [
        {
          "output_type": "stream",
          "name": "stdout",
          "text": [
            "old params:  OrderedDict([('w_in', tensor([[ 1.5433, -1.1807],\n",
            "        [-0.4119,  0.1066],\n",
            "        [ 0.8458,  1.0005],\n",
            "        [ 1.9352, -1.4094],\n",
            "        [ 0.8392,  0.8046]])), ('w_out', tensor([[ 0.6462, -0.6348, -0.5418, -0.4183,  0.9488]]))])\n",
            "Optimization terminated successfully.    (Exit mode 0)\n",
            "            Current function value: 7.35301582608372e-05\n",
            "            Iterations: 2\n",
            "            Function evaluations: 15\n",
            "            Gradient evaluations: 2\n",
            "new params:  OrderedDict([('w_in', tensor([[ 1.5433, -1.1807],\n",
            "        [-0.4119,  0.1066],\n",
            "        [ 0.8458,  1.0005],\n",
            "        [ 1.9352, -1.4094],\n",
            "        [ 0.8392,  0.8046]], requires_grad=True)), ('w_out', tensor([[ 0.6462, -0.6348, -0.5418, -0.4183,  0.9488]], requires_grad=True))])\n"
          ]
        }
      ]
    },
    {
      "cell_type": "markdown",
      "source": [
        "# New smallest eigenvalue"
      ],
      "metadata": {
        "id": "9flDuKrBgJ68"
      }
    },
    {
      "cell_type": "code",
      "source": [
        "dummy_model = DummyNetwork(D_in, H_student, D_out, params[\"w_in\"], params[\"w_out\"])\n",
        "print(nn.MSELoss()(dummy_model(data), y_labels))\n",
        "loss_grad = torch.autograd.grad(nn.MSELoss()(dummy_model(data), y_labels), dummy_model.parameters(), create_graph=True)\n",
        "grad_norm, hessian = eval_hessian(loss_grad, dummy_model)\n",
        "print(hessian)\n",
        "smallest_eigenvalue = np.min(np.linalg.eigvals(hessian))\n",
        "print('new smallest eigenvelue:', smallest_eigenvalue)"
      ],
      "metadata": {
        "colab": {
          "base_uri": "https://localhost:8080/"
        },
        "id": "HwNZPkIvek9Y",
        "outputId": "1d2922fc-a7ef-465b-b7b6-5645bd4903c6"
      },
      "execution_count": 120,
      "outputs": [
        {
          "output_type": "stream",
          "name": "stdout",
          "text": [
            "tensor(7.3530e-05, grad_fn=<MseLossBackward0>)\n",
            "[[ 4.88998219e-02  5.82427867e-02 -5.73380068e-02 -6.36745468e-02\n",
            "  -3.16338986e-03 -1.26569753e-03 -2.60320939e-02 -3.22904661e-02\n",
            "   6.89016422e-03  3.75220878e-03  2.11953651e-02 -3.16399708e-02\n",
            "   7.52925947e-02  2.90156864e-02  7.46478736e-02]\n",
            " [ 5.82427867e-02  7.66534060e-02 -6.36745468e-02 -9.06984136e-02\n",
            "  -1.26569741e-03 -4.06327797e-03 -3.22904661e-02 -4.35579196e-02\n",
            "   3.75220901e-03  1.02691706e-02 -3.81092401e-03 -3.06939967e-02\n",
            "   9.42766815e-02  3.47003620e-03  9.24869329e-02]\n",
            " [-5.73380068e-02 -6.36745468e-02  1.57354772e-01  4.91884835e-02\n",
            "   6.02696575e-02 -4.15553786e-02  2.82220375e-02  3.40568870e-02\n",
            "  -1.09081358e-01  8.02298486e-02 -1.68886065e-01  1.31886140e-01\n",
            "  -1.46005660e-01 -1.78707600e-01 -1.61174983e-01]\n",
            " [-6.36745468e-02 -9.06984136e-02  4.91884835e-02  2.55653799e-01\n",
            "  -4.15553823e-02  5.64750731e-02  3.40568870e-02  4.91619036e-02\n",
            "   8.02298561e-02 -1.32523641e-01  1.50550902e-01 -2.10709795e-02\n",
            "  -2.26223320e-01  1.44791961e-01 -2.02946275e-01]\n",
            " [-3.16338986e-03 -1.26569741e-03  6.02696575e-02 -4.15553823e-02\n",
            "   7.67202228e-02 -6.17400296e-02  1.37172325e-03  8.52831814e-04\n",
            "  -1.30940124e-01  1.12015255e-01 -1.11698121e-01  7.49039277e-02\n",
            "  -1.40640531e-02 -1.12800047e-01 -3.61497253e-02]\n",
            " [-1.26569753e-03 -4.06327797e-03 -4.15553786e-02  5.64750731e-02\n",
            "  -6.17400296e-02  6.03119880e-02  8.52831814e-04  2.03518942e-03\n",
            "   1.12015262e-01 -1.18436605e-01  9.66233611e-02 -5.92888370e-02\n",
            "  -2.88251732e-02  9.70889032e-02 -6.21195510e-03]\n",
            " [-2.60320939e-02 -3.22904661e-02  2.82220375e-02  3.40568870e-02\n",
            "   1.37172325e-03  8.52831814e-04  1.45312557e-02  1.85348280e-02\n",
            "  -3.10793216e-03 -2.36854586e-03 -5.96476579e-03  1.46475947e-02\n",
            "  -3.79322469e-02 -9.86226648e-03 -3.75224650e-02]\n",
            " [-3.22904661e-02 -4.35579196e-02  3.40568870e-02  4.91619036e-02\n",
            "   8.52831814e-04  2.03518942e-03  1.85348280e-02  2.54026391e-02\n",
            "  -2.36854586e-03 -5.18881902e-03  4.61359043e-03  1.59167890e-02\n",
            "  -5.01244962e-02  8.00890208e-04 -4.92210686e-02]\n",
            " [ 6.89016422e-03  3.75220901e-03 -1.09081358e-01  8.02298561e-02\n",
            "  -1.30940124e-01  1.12015262e-01 -3.10793216e-03 -2.36854586e-03\n",
            "   2.34751970e-01 -2.15246424e-01  2.02335179e-01 -1.34660468e-01\n",
            "   8.24767351e-03  2.04489946e-01  4.96032387e-02]\n",
            " [ 3.75220878e-03  1.02691706e-02  8.02298486e-02 -1.32523641e-01\n",
            "   1.12015255e-01 -1.18436605e-01 -2.36854586e-03 -5.18881902e-03\n",
            "  -2.15246424e-01  2.48313129e-01 -2.01027304e-01  1.17767610e-01\n",
            "   8.83056968e-02 -2.01960310e-01  4.22868580e-02]\n",
            " [ 2.11953651e-02 -3.81092401e-03 -1.68886065e-01  1.50550902e-01\n",
            "  -1.11698121e-01  9.66233611e-02 -5.96476579e-03  4.61359043e-03\n",
            "   2.02335179e-01 -2.01027304e-01  8.76570463e-01  3.05031270e-01\n",
            "   5.20228863e-01  8.87395918e-01  5.57173669e-01]\n",
            " [-3.16399708e-02 -3.06939967e-02  1.31886140e-01 -2.10709795e-02\n",
            "   7.49039277e-02 -5.92888370e-02  1.46475947e-02  1.59167890e-02\n",
            "  -1.34660468e-01  1.17767610e-01  3.05031270e-01  6.32164478e-01\n",
            "   4.20049936e-01  2.98533440e-01  3.97942334e-01]\n",
            " [ 7.52925947e-02  9.42766815e-02 -1.46005660e-01 -2.26223320e-01\n",
            "  -1.40640531e-02 -2.88251732e-02 -3.79322469e-02 -5.01244962e-02\n",
            "   8.24767351e-03  8.83056968e-02  5.20228863e-01  4.20049936e-01\n",
            "   8.21724772e-01  5.30263007e-01  8.07408869e-01]\n",
            " [ 2.90156864e-02  3.47003620e-03 -1.78707600e-01  1.44791961e-01\n",
            "  -1.12800047e-01  9.70889032e-02 -9.86226648e-03  8.00890208e-04\n",
            "   2.04489946e-01 -2.01960310e-01  8.87395918e-01  2.98533440e-01\n",
            "   5.30263007e-01  9.00073171e-01  5.67374229e-01]\n",
            " [ 7.46478736e-02  9.24869329e-02 -1.61174983e-01 -2.02946275e-01\n",
            "  -3.61497253e-02 -6.21195510e-03 -3.75224650e-02 -4.92210686e-02\n",
            "   4.96032387e-02  4.22868580e-02  5.57173669e-01  3.97942334e-01\n",
            "   8.07408869e-01  5.67374229e-01  8.01735222e-01]]\n",
            "new smallest eigenvelue: -1.9409463e-06\n"
          ]
        }
      ]
    }
  ],
  "metadata": {
    "colab": {
      "collapsed_sections": [],
      "name": "training_skeleton.ipynb",
      "provenance": [],
      "toc_visible": true,
      "authorship_tag": "ABX9TyMVchwr5OG/wA3v8jKmk6Z8",
      "include_colab_link": true
    },
    "kernelspec": {
      "display_name": "Python 3",
      "name": "python3"
    },
    "language_info": {
      "name": "python"
    }
  },
  "nbformat": 4,
  "nbformat_minor": 0
}