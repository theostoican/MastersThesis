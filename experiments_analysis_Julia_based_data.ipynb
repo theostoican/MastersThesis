{
  "nbformat": 4,
  "nbformat_minor": 0,
  "metadata": {
    "colab": {
      "name": "experiments_analysis-Julia-based_data.ipynb",
      "provenance": [],
      "collapsed_sections": [],
      "authorship_tag": "ABX9TyNcmA3pKxg8qSYV52UpiFRA",
      "include_colab_link": true
    },
    "kernelspec": {
      "name": "python3",
      "display_name": "Python 3"
    },
    "language_info": {
      "name": "python"
    }
  },
  "cells": [
    {
      "cell_type": "markdown",
      "metadata": {
        "id": "view-in-github",
        "colab_type": "text"
      },
      "source": [
        "<a href=\"https://colab.research.google.com/github/theostoican/MastersThesis/blob/main/experiments_analysis_Julia_based_data.ipynb\" target=\"_parent\"><img src=\"https://colab.research.google.com/assets/colab-badge.svg\" alt=\"Open In Colab\"/></a>"
      ]
    },
    {
      "cell_type": "code",
      "execution_count": 142,
      "metadata": {
        "id": "HR-JuDus4Dgg"
      },
      "outputs": [],
      "source": [
        "import matplotlib.pyplot as plt\n",
        "import matplotlib\n",
        "import pandas as pd\n",
        "import numpy as np\n",
        "\n",
        "import torch\n",
        "import torch.nn as nn\n",
        "from torch.autograd import Variable"
      ]
    },
    {
      "cell_type": "markdown",
      "source": [
        "# Helpers for plotting the trajectories of the weights of the neurons"
      ],
      "metadata": {
        "id": "MKMT2fhjFIW6"
      }
    },
    {
      "cell_type": "code",
      "source": [
        "def plot_trajectories(data_row):\n",
        "  convergence_neurons_incoming_x = []\n",
        "  convergence_neurons_incoming_y = []\n",
        "  convergence_neurons_outgoing = []\n",
        "\n",
        "  for i in range(0, int(data_row['student size'])):\n",
        "    neuron_traj_x = np.fromstring(data_row['neuron_' + str(i) + '_traj_x'].values[0][1:-1], dtype=float, sep=',')\n",
        "    neuron_traj_y = np.fromstring(data_row['neuron_' + str(i) + '_traj_y'].values[0][1:-1], dtype=float, sep=',')\n",
        "    plt.plot(neuron_traj_x, neuron_traj_y)\n",
        "  \n",
        "    convergence_neurons_incoming_x.append(neuron_traj_x[-1])\n",
        "    convergence_neurons_incoming_y.append(neuron_traj_y[-1])\n",
        "\n",
        "    neuron_a = float(data_row['neuron_' + str(i) + '_a'].values[0])\n",
        "    convergence_neurons_outgoing.append(neuron_a)\n",
        "\n",
        "  teacher_neurons_x = np.fromstring(data_row['teacher_neurons_x'].values[0][1 : -1], dtype=float, sep=',')\n",
        "  teacher_neurons_y = np.fromstring(data_row['teacher_neurons_y'].values[0][1 : -1], dtype=float, sep=',')\n",
        "  plt.scatter(teacher_neurons_x, teacher_neurons_y, marker=\"*\")\n",
        "\n",
        "  plt.scatter(convergence_neurons_incoming_x,\n",
        "            convergence_neurons_incoming_y,\n",
        "            c = convergence_neurons_outgoing,\n",
        "            cmap=matplotlib.cm.jet)\n",
        "  plt.colorbar()"
      ],
      "metadata": {
        "id": "cyh_igQ37r0u"
      },
      "execution_count": 143,
      "outputs": []
    },
    {
      "cell_type": "markdown",
      "source": [
        "# Read the data from the .csv file"
      ],
      "metadata": {
        "id": "_xd7SAYBFB-c"
      }
    },
    {
      "cell_type": "code",
      "source": [
        "data = pd.read_csv('fixed_points.csv', float_precision='round_trip')\n",
        "\n",
        "len(data)"
      ],
      "metadata": {
        "colab": {
          "base_uri": "https://localhost:8080/"
        },
        "id": "QiMGa1Ib64YR",
        "outputId": "b1716f73-6130-4e10-e611-4c4daa4ed2ed"
      },
      "execution_count": 144,
      "outputs": [
        {
          "output_type": "execute_result",
          "data": {
            "text/plain": [
              "1000"
            ]
          },
          "metadata": {},
          "execution_count": 144
        }
      ]
    },
    {
      "cell_type": "code",
      "source": [
        "data.head()"
      ],
      "metadata": {
        "colab": {
          "base_uri": "https://localhost:8080/",
          "height": 357
        },
        "id": "Lz-VFq2mPBIw",
        "outputId": "5d639d43-370d-4b25-a408-b4dce609e996"
      },
      "execution_count": 145,
      "outputs": [
        {
          "output_type": "execute_result",
          "data": {
            "text/html": [
              "\n",
              "  <div id=\"df-2f1f1718-5e39-4013-90aa-df31d7a9576f\">\n",
              "    <div class=\"colab-df-container\">\n",
              "      <div>\n",
              "<style scoped>\n",
              "    .dataframe tbody tr th:only-of-type {\n",
              "        vertical-align: middle;\n",
              "    }\n",
              "\n",
              "    .dataframe tbody tr th {\n",
              "        vertical-align: top;\n",
              "    }\n",
              "\n",
              "    .dataframe thead th {\n",
              "        text-align: right;\n",
              "    }\n",
              "</style>\n",
              "<table border=\"1\" class=\"dataframe\">\n",
              "  <thead>\n",
              "    <tr style=\"text-align: right;\">\n",
              "      <th></th>\n",
              "      <th>activation</th>\n",
              "      <th>N</th>\n",
              "      <th>Ninner</th>\n",
              "      <th>seed</th>\n",
              "      <th>maxtime</th>\n",
              "      <th>loss</th>\n",
              "      <th>smallest_heg</th>\n",
              "      <th>gradient_norm</th>\n",
              "      <th>w11</th>\n",
              "      <th>w21</th>\n",
              "      <th>w31</th>\n",
              "      <th>w41</th>\n",
              "      <th>w51</th>\n",
              "      <th>w12</th>\n",
              "      <th>w22</th>\n",
              "      <th>w32</th>\n",
              "      <th>w42</th>\n",
              "      <th>w52</th>\n",
              "      <th>a1</th>\n",
              "      <th>a2</th>\n",
              "      <th>a3</th>\n",
              "      <th>a4</th>\n",
              "      <th>a5</th>\n",
              "    </tr>\n",
              "  </thead>\n",
              "  <tbody>\n",
              "    <tr>\n",
              "      <th>0</th>\n",
              "      <td>sigmoid</td>\n",
              "      <td>10</td>\n",
              "      <td>100000</td>\n",
              "      <td>1</td>\n",
              "      <td>3600</td>\n",
              "      <td>7.340982e-05</td>\n",
              "      <td>9.070762e-12</td>\n",
              "      <td>8.036297e-10</td>\n",
              "      <td>-1.296618</td>\n",
              "      <td>-0.902262</td>\n",
              "      <td>-1.277936</td>\n",
              "      <td>0.194223</td>\n",
              "      <td>-0.730563</td>\n",
              "      <td>1.042003</td>\n",
              "      <td>-0.585449</td>\n",
              "      <td>1.029128</td>\n",
              "      <td>-0.054116</td>\n",
              "      <td>1.487154</td>\n",
              "      <td>1.097378e+01</td>\n",
              "      <td>-0.454981</td>\n",
              "      <td>-11.366674</td>\n",
              "      <td>0.776118</td>\n",
              "      <td>7.176519e-02</td>\n",
              "    </tr>\n",
              "    <tr>\n",
              "      <th>1</th>\n",
              "      <td>sigmoid</td>\n",
              "      <td>10</td>\n",
              "      <td>100000</td>\n",
              "      <td>10</td>\n",
              "      <td>3600</td>\n",
              "      <td>3.064903e-31</td>\n",
              "      <td>-7.535396e-17</td>\n",
              "      <td>3.620881e-16</td>\n",
              "      <td>-0.200000</td>\n",
              "      <td>-0.500000</td>\n",
              "      <td>-0.500001</td>\n",
              "      <td>-0.100000</td>\n",
              "      <td>-0.600000</td>\n",
              "      <td>-0.600000</td>\n",
              "      <td>0.500000</td>\n",
              "      <td>0.500000</td>\n",
              "      <td>0.600000</td>\n",
              "      <td>-0.500000</td>\n",
              "      <td>1.000000e+00</td>\n",
              "      <td>-0.920254</td>\n",
              "      <td>-0.079746</td>\n",
              "      <td>1.000000</td>\n",
              "      <td>-1.000000e+00</td>\n",
              "    </tr>\n",
              "    <tr>\n",
              "      <th>2</th>\n",
              "      <td>sigmoid</td>\n",
              "      <td>10</td>\n",
              "      <td>100000</td>\n",
              "      <td>100</td>\n",
              "      <td>3600</td>\n",
              "      <td>1.701555e-32</td>\n",
              "      <td>-8.088575e-19</td>\n",
              "      <td>2.537475e-17</td>\n",
              "      <td>0.441250</td>\n",
              "      <td>-0.600000</td>\n",
              "      <td>-0.500000</td>\n",
              "      <td>-0.100000</td>\n",
              "      <td>-0.200000</td>\n",
              "      <td>-0.603799</td>\n",
              "      <td>-0.500000</td>\n",
              "      <td>0.500000</td>\n",
              "      <td>0.600000</td>\n",
              "      <td>-0.600000</td>\n",
              "      <td>1.779090e-14</td>\n",
              "      <td>-1.000000</td>\n",
              "      <td>-1.000000</td>\n",
              "      <td>1.000000</td>\n",
              "      <td>1.000000e+00</td>\n",
              "    </tr>\n",
              "    <tr>\n",
              "      <th>3</th>\n",
              "      <td>sigmoid</td>\n",
              "      <td>10</td>\n",
              "      <td>100000</td>\n",
              "      <td>1000</td>\n",
              "      <td>3600</td>\n",
              "      <td>1.510018e-32</td>\n",
              "      <td>1.942791e-19</td>\n",
              "      <td>7.187402e-17</td>\n",
              "      <td>-0.500000</td>\n",
              "      <td>-0.100000</td>\n",
              "      <td>-0.600000</td>\n",
              "      <td>-0.200000</td>\n",
              "      <td>0.510745</td>\n",
              "      <td>0.500000</td>\n",
              "      <td>0.600000</td>\n",
              "      <td>-0.500000</td>\n",
              "      <td>-0.600000</td>\n",
              "      <td>-0.408655</td>\n",
              "      <td>-1.000000e+00</td>\n",
              "      <td>1.000000</td>\n",
              "      <td>-1.000000</td>\n",
              "      <td>1.000000</td>\n",
              "      <td>-3.185828e-15</td>\n",
              "    </tr>\n",
              "    <tr>\n",
              "      <th>4</th>\n",
              "      <td>sigmoid</td>\n",
              "      <td>10</td>\n",
              "      <td>100000</td>\n",
              "      <td>101</td>\n",
              "      <td>3600</td>\n",
              "      <td>9.824220e-05</td>\n",
              "      <td>1.479210e-10</td>\n",
              "      <td>1.013867e-09</td>\n",
              "      <td>1.420720</td>\n",
              "      <td>1.946299</td>\n",
              "      <td>-0.805450</td>\n",
              "      <td>-0.009467</td>\n",
              "      <td>-1.455685</td>\n",
              "      <td>-0.961272</td>\n",
              "      <td>1.627585</td>\n",
              "      <td>-0.480423</td>\n",
              "      <td>0.002230</td>\n",
              "      <td>0.980023</td>\n",
              "      <td>6.941624e+00</td>\n",
              "      <td>0.047830</td>\n",
              "      <td>-0.435888</td>\n",
              "      <td>-13.146253</td>\n",
              "      <td>6.592686e+00</td>\n",
              "    </tr>\n",
              "  </tbody>\n",
              "</table>\n",
              "</div>\n",
              "      <button class=\"colab-df-convert\" onclick=\"convertToInteractive('df-2f1f1718-5e39-4013-90aa-df31d7a9576f')\"\n",
              "              title=\"Convert this dataframe to an interactive table.\"\n",
              "              style=\"display:none;\">\n",
              "        \n",
              "  <svg xmlns=\"http://www.w3.org/2000/svg\" height=\"24px\"viewBox=\"0 0 24 24\"\n",
              "       width=\"24px\">\n",
              "    <path d=\"M0 0h24v24H0V0z\" fill=\"none\"/>\n",
              "    <path d=\"M18.56 5.44l.94 2.06.94-2.06 2.06-.94-2.06-.94-.94-2.06-.94 2.06-2.06.94zm-11 1L8.5 8.5l.94-2.06 2.06-.94-2.06-.94L8.5 2.5l-.94 2.06-2.06.94zm10 10l.94 2.06.94-2.06 2.06-.94-2.06-.94-.94-2.06-.94 2.06-2.06.94z\"/><path d=\"M17.41 7.96l-1.37-1.37c-.4-.4-.92-.59-1.43-.59-.52 0-1.04.2-1.43.59L10.3 9.45l-7.72 7.72c-.78.78-.78 2.05 0 2.83L4 21.41c.39.39.9.59 1.41.59.51 0 1.02-.2 1.41-.59l7.78-7.78 2.81-2.81c.8-.78.8-2.07 0-2.86zM5.41 20L4 18.59l7.72-7.72 1.47 1.35L5.41 20z\"/>\n",
              "  </svg>\n",
              "      </button>\n",
              "      \n",
              "  <style>\n",
              "    .colab-df-container {\n",
              "      display:flex;\n",
              "      flex-wrap:wrap;\n",
              "      gap: 12px;\n",
              "    }\n",
              "\n",
              "    .colab-df-convert {\n",
              "      background-color: #E8F0FE;\n",
              "      border: none;\n",
              "      border-radius: 50%;\n",
              "      cursor: pointer;\n",
              "      display: none;\n",
              "      fill: #1967D2;\n",
              "      height: 32px;\n",
              "      padding: 0 0 0 0;\n",
              "      width: 32px;\n",
              "    }\n",
              "\n",
              "    .colab-df-convert:hover {\n",
              "      background-color: #E2EBFA;\n",
              "      box-shadow: 0px 1px 2px rgba(60, 64, 67, 0.3), 0px 1px 3px 1px rgba(60, 64, 67, 0.15);\n",
              "      fill: #174EA6;\n",
              "    }\n",
              "\n",
              "    [theme=dark] .colab-df-convert {\n",
              "      background-color: #3B4455;\n",
              "      fill: #D2E3FC;\n",
              "    }\n",
              "\n",
              "    [theme=dark] .colab-df-convert:hover {\n",
              "      background-color: #434B5C;\n",
              "      box-shadow: 0px 1px 3px 1px rgba(0, 0, 0, 0.15);\n",
              "      filter: drop-shadow(0px 1px 2px rgba(0, 0, 0, 0.3));\n",
              "      fill: #FFFFFF;\n",
              "    }\n",
              "  </style>\n",
              "\n",
              "      <script>\n",
              "        const buttonEl =\n",
              "          document.querySelector('#df-2f1f1718-5e39-4013-90aa-df31d7a9576f button.colab-df-convert');\n",
              "        buttonEl.style.display =\n",
              "          google.colab.kernel.accessAllowed ? 'block' : 'none';\n",
              "\n",
              "        async function convertToInteractive(key) {\n",
              "          const element = document.querySelector('#df-2f1f1718-5e39-4013-90aa-df31d7a9576f');\n",
              "          const dataTable =\n",
              "            await google.colab.kernel.invokeFunction('convertToInteractive',\n",
              "                                                     [key], {});\n",
              "          if (!dataTable) return;\n",
              "\n",
              "          const docLinkHtml = 'Like what you see? Visit the ' +\n",
              "            '<a target=\"_blank\" href=https://colab.research.google.com/notebooks/data_table.ipynb>data table notebook</a>'\n",
              "            + ' to learn more about interactive tables.';\n",
              "          element.innerHTML = '';\n",
              "          dataTable['output_type'] = 'display_data';\n",
              "          await google.colab.output.renderOutput(dataTable, element);\n",
              "          const docLink = document.createElement('div');\n",
              "          docLink.innerHTML = docLinkHtml;\n",
              "          element.appendChild(docLink);\n",
              "        }\n",
              "      </script>\n",
              "    </div>\n",
              "  </div>\n",
              "  "
            ],
            "text/plain": [
              "  activation   N  Ninner  seed  ...        a2         a3         a4            a5\n",
              "0    sigmoid  10  100000     1  ... -0.454981 -11.366674   0.776118  7.176519e-02\n",
              "1    sigmoid  10  100000    10  ... -0.920254  -0.079746   1.000000 -1.000000e+00\n",
              "2    sigmoid  10  100000   100  ... -1.000000  -1.000000   1.000000  1.000000e+00\n",
              "3    sigmoid  10  100000  1000  ...  1.000000  -1.000000   1.000000 -3.185828e-15\n",
              "4    sigmoid  10  100000   101  ...  0.047830  -0.435888 -13.146253  6.592686e+00\n",
              "\n",
              "[5 rows x 23 columns]"
            ]
          },
          "metadata": {},
          "execution_count": 145
        }
      ]
    },
    {
      "cell_type": "markdown",
      "source": [
        "# Models"
      ],
      "metadata": {
        "id": "KiYPQo928tIe"
      }
    },
    {
      "cell_type": "markdown",
      "source": [
        "A dummy network that receives as input the precomputed incoming and outgoing weights and sets them directly."
      ],
      "metadata": {
        "id": "-nq_zF38llaS"
      }
    },
    {
      "cell_type": "code",
      "source": [
        "torch.set_default_dtype(torch.float64)\n",
        "class DummyNetwork(nn.Module):\n",
        "  def __init__(self, D_in, H, D_out, w_in, w_out):\n",
        "    \"\"\"\n",
        "    In the constructor we instantiate two nn.Linear modules and assign them as\n",
        "    member variables.\n",
        "\n",
        "    D_in: input dimension\n",
        "    H: dimension of hidden layer\n",
        "    D_out: output dimension of the first layer\n",
        "    \"\"\"\n",
        "    super(DummyNetwork, self).__init__()\n",
        "    self.linear1 = nn.Linear(D_in, H, bias=False)\n",
        "    self.linear2 = nn.Linear(H, D_out, bias=False)\n",
        "    self.linear1.weight = torch.nn.Parameter(w_in)\n",
        "    self.linear2.weight = torch.nn.Parameter(w_out)\n",
        "  def forward(self, x):\n",
        "    \"\"\"\n",
        "    In the forward function we accept a Variable of input data and we must\n",
        "    return a Variable of output data. We can use Modules defined in the\n",
        "    constructor as well as arbitrary operators on Variables.\n",
        "    \"\"\"\n",
        "    h_sigmoid = torch.sigmoid(self.linear1(x))\n",
        "    y_pred = self.linear2(h_sigmoid)\n",
        "    return y_pred"
      ],
      "metadata": {
        "id": "9mR9ZDc-li1t"
      },
      "execution_count": 146,
      "outputs": []
    },
    {
      "cell_type": "markdown",
      "source": [
        "Teacher model"
      ],
      "metadata": {
        "id": "efinskp8bpTr"
      }
    },
    {
      "cell_type": "code",
      "source": [
        "class TeacherNetwork(nn.Module):\n",
        "  def __init__(self, D_in, H, D_out):\n",
        "    \"\"\"\n",
        "    In the constructor we instantiate two nn.Linear modules and assign them as\n",
        "    member variables.\n",
        "\n",
        "    D_in: input dimension\n",
        "    H: dimension of hidden layer\n",
        "    D_out: output dimension of the first layer\n",
        "    \"\"\"\n",
        "    super(TeacherNetwork, self).__init__()\n",
        "    self.linear1 = nn.Linear(D_in, H, bias=False)\n",
        "    self.linear2 = nn.Linear(H, D_out, bias=False)\n",
        "    self.linear1.weight = torch.nn.Parameter(torch.transpose(torch.DoubleTensor([[0.6, -0.5, -0.2, 0.1], [0.5, 0.5, -0.6, -0.6]]), 0, 1))\n",
        "    self.linear2.weight = torch.nn.Parameter(torch.transpose(torch.DoubleTensor([[1], [-1], [1], [-1]]), 0, 1))\n",
        "  def forward(self, x):\n",
        "    \"\"\"\n",
        "    In the forward function we accept a Variable of input data and we must\n",
        "    return a Variable of output data. We can use Modules defined in the\n",
        "    constructor as well as arbitrary operators on Variables.\n",
        "    \"\"\"\n",
        "    h_sigmoid = torch.sigmoid(self.linear1(x))\n",
        "    y_pred = self.linear2(h_sigmoid)\n",
        "    return y_pred"
      ],
      "metadata": {
        "id": "Hqwok2Kyc771"
      },
      "execution_count": 147,
      "outputs": []
    },
    {
      "cell_type": "markdown",
      "source": [
        "# Dataset"
      ],
      "metadata": {
        "id": "agSXav339FMW"
      }
    },
    {
      "cell_type": "code",
      "source": [
        "D_in, H_teacher, H_student, D_out = 2, 4, 5, 1\n",
        "\n",
        "def construct_dataset():\n",
        "  data = []\n",
        "  for y in np.arange(-5, 5.1, .25):\n",
        "    for x in np.arange(-5, 5.1, .25):\n",
        "      data.append([x, y])\n",
        "  return data\n",
        "\n",
        "dataset = torch.DoubleTensor(construct_dataset()) \n",
        "print(len(construct_dataset()))"
      ],
      "metadata": {
        "colab": {
          "base_uri": "https://localhost:8080/"
        },
        "id": "B_ahyjA-bu_O",
        "outputId": "e2ffd040-3a33-4ff9-c209-d387274ddc1d"
      },
      "execution_count": 148,
      "outputs": [
        {
          "output_type": "stream",
          "name": "stdout",
          "text": [
            "1681\n"
          ]
        }
      ]
    },
    {
      "cell_type": "markdown",
      "source": [
        "# Labels"
      ],
      "metadata": {
        "id": "loCS9I5L9Htc"
      }
    },
    {
      "cell_type": "code",
      "source": [
        "teacher_model = TeacherNetwork(D_in, H_teacher, D_out)\n",
        "y_labels = teacher_model(dataset).detach()"
      ],
      "metadata": {
        "id": "vQjZ7UIfdBbT"
      },
      "execution_count": 149,
      "outputs": []
    },
    {
      "cell_type": "markdown",
      "source": [
        "# Pytorch-based helper for computing the Hessian"
      ],
      "metadata": {
        "id": "Xw4duwCNddQb"
      }
    },
    {
      "cell_type": "code",
      "source": [
        "def eval_hessian(loss_grad, model):\n",
        "  cnt = 0\n",
        "  for g in loss_grad:\n",
        "      g_vector = g.contiguous().view(-1) if cnt == 0 else torch.cat([g_vector, g.contiguous().view(-1)])\n",
        "      cnt = 1\n",
        "  grad_norm = torch.norm(g_vector)\n",
        "  l = g_vector.size(0)\n",
        "  hessian = torch.zeros((l, l), dtype = torch.float64)\n",
        "  for idx in range(l):\n",
        "      grad2rd = torch.autograd.grad(g_vector[idx], model.parameters(), create_graph=True)\n",
        "      cnt = 0\n",
        "      for g in grad2rd: \n",
        "          g2 = g.contiguous().view(-1) if cnt == 0 else torch.cat([g2, g.contiguous().view(-1)])\n",
        "          cnt = 1\n",
        "      hessian[idx] = g2\n",
        "  # Symmetrize the Hessian.\n",
        "  hessian = (hessian + hessian.T) / 2\n",
        "  return grad_norm.detach().numpy(), hessian.detach().numpy()"
      ],
      "metadata": {
        "id": "kr6e_Wpbdctf"
      },
      "execution_count": 150,
      "outputs": []
    },
    {
      "cell_type": "markdown",
      "source": [
        "# Selection of high loss points"
      ],
      "metadata": {
        "id": "YQzVmzY59Ty1"
      }
    },
    {
      "cell_type": "code",
      "source": [
        "max_loss_data = data[data['loss'] >= 1e-5]\n",
        "len(max_loss_data)"
      ],
      "metadata": {
        "colab": {
          "base_uri": "https://localhost:8080/"
        },
        "id": "yOgIvE2mCrvQ",
        "outputId": "71a4db53-a151-47d9-87e7-ac82b57b0f7d"
      },
      "execution_count": 151,
      "outputs": [
        {
          "output_type": "execute_result",
          "data": {
            "text/plain": [
              "434"
            ]
          },
          "metadata": {},
          "execution_count": 151
        }
      ]
    },
    {
      "cell_type": "markdown",
      "source": [
        "## Select the point with minimum eigenvalue (in magnitude)"
      ],
      "metadata": {
        "id": "O6Yy6DFJ9jE7"
      }
    },
    {
      "cell_type": "markdown",
      "source": [
        "### Helper for extracting the weights from one data point."
      ],
      "metadata": {
        "id": "ueyRqoqF2bNm"
      }
    },
    {
      "cell_type": "code",
      "source": [
        "def extract_weights(data_point):\n",
        "  incoming_weights_x = [data_point['w11'],\n",
        "                      data_point['w21'],\n",
        "                      data_point['w31'],\n",
        "                      data_point['w41'],\n",
        "                      data_point['w51']]\n",
        "  incoming_weights_y = [data_point['w12'],\n",
        "                      data_point['w22'],\n",
        "                      data_point['w32'],\n",
        "                      data_point['w42'],\n",
        "                      data_point['w52']]\n",
        "  outgoing_weights = [data_point['a1'],\n",
        "                    data_point['a2'],\n",
        "                    data_point['a3'],\n",
        "                    data_point['a4'],\n",
        "                    data_point['a5']]\n",
        "  return incoming_weights_x, incoming_weights_y, outgoing_weights"
      ],
      "metadata": {
        "id": "cVYwzm-w24Go"
      },
      "execution_count": 152,
      "outputs": []
    },
    {
      "cell_type": "code",
      "source": [
        "# sample_point = max_loss_data[max_loss_data['smallest_heg'] == min(abs(max_loss_data['smallest_heg']))]\n",
        "sample_point = max_loss_data.sample()\n",
        "for _, sample_point in max_loss_data.sample().iterrows():\n",
        "  pass\n",
        "sample_point"
      ],
      "metadata": {
        "colab": {
          "base_uri": "https://localhost:8080/"
        },
        "id": "id_-izg-DQsu",
        "outputId": "1f9a2ed3-0e26-4a51-b932-eabf780a1862"
      },
      "execution_count": 153,
      "outputs": [
        {
          "output_type": "execute_result",
          "data": {
            "text/plain": [
              "activation         sigmoid\n",
              "N                       10\n",
              "Ninner              100000\n",
              "seed                   907\n",
              "maxtime               3600\n",
              "loss              0.000089\n",
              "smallest_heg           0.0\n",
              "gradient_norm          0.0\n",
              "w11              -1.358076\n",
              "w21              -1.372302\n",
              "w31               1.382491\n",
              "w41               1.353239\n",
              "w51              -0.024168\n",
              "w12               0.907609\n",
              "w22               -0.75352\n",
              "w32              -0.920404\n",
              "w42                0.74613\n",
              "w52               0.002718\n",
              "a1               -9.733964\n",
              "a2               12.012083\n",
              "a3               -9.362612\n",
              "a4               12.443897\n",
              "a5               -5.359404\n",
              "Name: 898, dtype: object"
            ]
          },
          "metadata": {},
          "execution_count": 153
        }
      ]
    },
    {
      "cell_type": "code",
      "source": [
        "sample_point['loss']"
      ],
      "metadata": {
        "colab": {
          "base_uri": "https://localhost:8080/"
        },
        "id": "eOevC2rJxGlY",
        "outputId": "59b40d7c-8d3d-4549-870e-999e0726ca61"
      },
      "execution_count": 154,
      "outputs": [
        {
          "output_type": "execute_result",
          "data": {
            "text/plain": [
              "8.924282844200977e-05"
            ]
          },
          "metadata": {},
          "execution_count": 154
        }
      ]
    },
    {
      "cell_type": "code",
      "source": [
        "sample_point['gradient_norm']"
      ],
      "metadata": {
        "colab": {
          "base_uri": "https://localhost:8080/"
        },
        "id": "uyBNM1RhxbGt",
        "outputId": "06c595f8-eb97-47f3-8a11-fa0143bf513c"
      },
      "execution_count": 155,
      "outputs": [
        {
          "output_type": "execute_result",
          "data": {
            "text/plain": [
              "6.307713671237436e-10"
            ]
          },
          "metadata": {},
          "execution_count": 155
        }
      ]
    },
    {
      "cell_type": "code",
      "source": [
        "sample_point['smallest_heg']"
      ],
      "metadata": {
        "colab": {
          "base_uri": "https://localhost:8080/"
        },
        "id": "R15JPuXiZPNg",
        "outputId": "c35872af-7e4b-4a8f-eeab-5422c62f7b5f"
      },
      "execution_count": 156,
      "outputs": [
        {
          "output_type": "execute_result",
          "data": {
            "text/plain": [
              "3.928354127473552e-11"
            ]
          },
          "metadata": {},
          "execution_count": 156
        }
      ]
    },
    {
      "cell_type": "code",
      "source": [
        "incoming_weights_x, incoming_weights_y, outgoing_weights = extract_weights(sample_point)\n",
        "print(incoming_weights_x)\n",
        "print(incoming_weights_y)\n",
        "print(outgoing_weights)"
      ],
      "metadata": {
        "colab": {
          "base_uri": "https://localhost:8080/"
        },
        "id": "qIoT_UQPFaC4",
        "outputId": "1c128492-bc1a-40d0-aed0-751ac03907ca"
      },
      "execution_count": 157,
      "outputs": [
        {
          "output_type": "stream",
          "name": "stdout",
          "text": [
            "[-1.3580762171526273, -1.3723016233887468, 1.3824913882021972, 1.3532385861710006, -0.024168212233134194]\n",
            "[0.9076091056945502, -0.7535196701999834, -0.9204044435154144, 0.7461300150102391, 0.0027176951275051904]\n",
            "[-9.73396366651389, 12.01208294155789, -9.362611982507469, 12.443897145358966, -5.359404438373932]\n"
          ]
        }
      ]
    },
    {
      "cell_type": "code",
      "source": [
        "teacher_neurons_x = [0.6, -0.5, -0.2, 0.1]\n",
        "teacher_neurons_y = [0.5, 0.5, -0.6, -0.6]"
      ],
      "metadata": {
        "id": "jv4zxr2KIpVw"
      },
      "execution_count": 158,
      "outputs": []
    },
    {
      "cell_type": "markdown",
      "source": [
        "## Plotting of the neuron point"
      ],
      "metadata": {
        "id": "TW8LtUQe9uaF"
      }
    },
    {
      "cell_type": "code",
      "source": [
        "plt.scatter(teacher_neurons_x, teacher_neurons_y, marker=\"*\")\n",
        "\n",
        "plt.scatter(incoming_weights_x,\n",
        "            incoming_weights_y,\n",
        "            c = outgoing_weights,\n",
        "            cmap = matplotlib.cm.jet)\n",
        "\n",
        "plt.colorbar()\n",
        "plt.xlabel('w1')\n",
        "plt.ylabel('w2')"
      ],
      "metadata": {
        "colab": {
          "base_uri": "https://localhost:8080/",
          "height": 297
        },
        "id": "ufXZMb0kIST2",
        "outputId": "3428c248-1f5e-4756-834d-ee2e26fbb86d"
      },
      "execution_count": 159,
      "outputs": [
        {
          "output_type": "execute_result",
          "data": {
            "text/plain": [
              "Text(0, 0.5, 'w2')"
            ]
          },
          "metadata": {},
          "execution_count": 159
        },
        {
          "output_type": "display_data",
          "data": {
            "image/png": "[encoded data removed]",
            "text/plain": [
              "<Figure size 432x288 with 2 Axes>"
            ]
          },
          "metadata": {
            "needs_background": "light"
          }
        }
      ]
    },
    {
      "cell_type": "code",
      "source": [
        "# max_loss_data[abs(max_loss_data['w31'] - teacher_neurons_x[0]) == min(abs(max_loss_data['w31'] - teacher_neurons_x[0]) )]\n",
        "# sample_point = max_loss_data[max_loss_data['smallest_heg'] == min(abs(max_loss_data['smallest_heg']))]"
      ],
      "metadata": {
        "id": "Rw2OVgmsJQzm"
      },
      "execution_count": 160,
      "outputs": []
    },
    {
      "cell_type": "code",
      "source": [
        "\n",
        "\n",
        "# for index, row in max_loss_data.iterrows():\n",
        "#   incoming_weights_x, incoming_weights_y, outgoing_weights = extract_weights(row)\n",
        "\n",
        "#   plt.scatter(teacher_neurons_x, teacher_neurons_y, marker=\"*\")\n",
        "#   plt.scatter(incoming_weights_x,\n",
        "#             incoming_weights_y,\n",
        "#             c = outgoing_weights,\n",
        "#             cmap = matplotlib.cm.jet)\n",
        "\n",
        "#   plt.colorbar()\n",
        "#   plt.xlabel('w1')\n",
        "#   plt.ylabel('w2')\n"
      ],
      "metadata": {
        "id": "f6zMwaEvH-bF"
      },
      "execution_count": 161,
      "outputs": []
    },
    {
      "cell_type": "markdown",
      "source": [
        "## Pytorch-based eigenvalue computation"
      ],
      "metadata": {
        "id": "SOyq5Fcz91mF"
      }
    },
    {
      "cell_type": "code",
      "source": [
        "w_in = torch.DoubleTensor([[incoming_weights_x[0], incoming_weights_y[0]],\n",
        "                           [incoming_weights_x[1], incoming_weights_y[1]],\n",
        "                           [incoming_weights_x[2], incoming_weights_y[2]],\n",
        "                           [incoming_weights_x[3], incoming_weights_y[3]],\n",
        "                           [incoming_weights_x[4], incoming_weights_y[4]]])\n",
        "w_out = torch.DoubleTensor([outgoing_weights])\n",
        "dummy_model = DummyNetwork(D_in, H_student, D_out, w_in, w_out)\n",
        "loss_grad = torch.autograd.grad(nn.MSELoss()(dummy_model(dataset), y_labels), dummy_model.parameters(), create_graph=True)\n",
        "grad_norm, hessian = eval_hessian(loss_grad, dummy_model)\n",
        "smallest_eigenvalue = np.min(np.linalg.eigvals(hessian))\n",
        "\n",
        "print('loss at the end: ', nn.MSELoss()(dummy_model(dataset), y_labels))\n",
        "print('gradient norm at the end: ', grad_norm)\n",
        "print('smallest eigenvalue at the end: ', smallest_eigenvalue)"
      ],
      "metadata": {
        "colab": {
          "base_uri": "https://localhost:8080/"
        },
        "id": "MNXhL8UhNF5q",
        "outputId": "84c154a9-020f-4da9-efc8-cc1cee9b3b2b"
      },
      "execution_count": 162,
      "outputs": [
        {
          "output_type": "stream",
          "name": "stdout",
          "text": [
            "loss at the end:  tensor(8.9243e-05, grad_fn=<MseLossBackward0>)\n",
            "gradient norm at the end:  6.307713597335806e-10\n",
            "smallest eigenvalue at the end:  3.927168251440034e-11\n"
          ]
        }
      ]
    },
    {
      "cell_type": "markdown",
      "source": [
        "## Smallest eigenvalue using JAX"
      ],
      "metadata": {
        "id": "prjlJN2MQXmu"
      }
    },
    {
      "cell_type": "code",
      "source": [
        "import jax.numpy as jnp\n",
        "from jax import nn as jax_nn\n",
        "from jax.config import config; config.update(\"jax_enable_x64\", True)\n",
        "jnp.set_printoptions(precision=32)\n",
        "\n",
        "jnp_inputs = jnp.array(construct_dataset(), dtype=jnp.float64)\n",
        "jnp_labels = jnp.array(teacher_model(dataset).detach(), dtype=jnp.float64)\n",
        "\n",
        "def predict(w_in, w_out):\n",
        "  return w_out @ jnp.transpose(jax_nn.sigmoid(jnp_inputs @ jnp.transpose(w_in)))\n",
        "\n",
        "w_in = jnp.array([[incoming_weights_x[0], incoming_weights_y[0]],\n",
        "                  [incoming_weights_x[1], incoming_weights_y[1]],\n",
        "                  [incoming_weights_x[2], incoming_weights_y[2]],\n",
        "                  [incoming_weights_x[3], incoming_weights_y[3]],\n",
        "                  [incoming_weights_x[4], incoming_weights_y[4]]], dtype=jnp.float64)\n",
        "w_out = jnp.array(outgoing_weights, dtype=jnp.float64)"
      ],
      "metadata": {
        "id": "rWPIRfmUQNyA"
      },
      "execution_count": 163,
      "outputs": []
    },
    {
      "cell_type": "markdown",
      "source": [
        "### Loss in JAX"
      ],
      "metadata": {
        "id": "ILeF_n5o-O3o"
      }
    },
    {
      "cell_type": "markdown",
      "source": [
        "Loss of the network computed in JAX."
      ],
      "metadata": {
        "id": "QPLHmUvy-D_H"
      }
    },
    {
      "cell_type": "code",
      "source": [
        "def loss(w):\n",
        "  w_in = w[0 : 2 * H_student].reshape(D_in, H_student).T\n",
        "  w_out = w[2 * H_student : ].reshape(1, H_student)\n",
        "  preds = predict(w_in, w_out).T\n",
        "  return jnp.mean(jnp.mean(jnp.square(preds - jnp_labels)))\n",
        "print(loss(jnp.append(w_in.T.reshape(D_in * H_student), w_out.reshape(H_student))))"
      ],
      "metadata": {
        "colab": {
          "base_uri": "https://localhost:8080/"
        },
        "id": "99LA0Y8IGrZK",
        "outputId": "63a37e2d-363b-415b-a781-d936d0af8595"
      },
      "execution_count": 164,
      "outputs": [
        {
          "output_type": "stream",
          "name": "stdout",
          "text": [
            "8.924282844201164e-05\n"
          ]
        }
      ]
    },
    {
      "cell_type": "markdown",
      "source": [
        "### Hessian in JAX"
      ],
      "metadata": {
        "id": "JbhAScdX-RFY"
      }
    },
    {
      "cell_type": "code",
      "source": [
        "from jax import jacfwd, jacrev\n",
        "import jax\n",
        "\n",
        "def hessian(f):\n",
        "    return jacfwd(jacrev(f))\n",
        "\n",
        "H = hessian(loss)(jnp.append(w_in.T.reshape(D_in * H_student), w_out.reshape(H_student)))"
      ],
      "metadata": {
        "id": "nzcFUBhol-tR"
      },
      "execution_count": 165,
      "outputs": []
    },
    {
      "cell_type": "markdown",
      "source": [
        "### Eigenvalues in JAX"
      ],
      "metadata": {
        "id": "vC-S4CtX-W0X"
      }
    },
    {
      "cell_type": "code",
      "source": [
        "evals, evectors = jnp.linalg.eig(H)\n",
        "\n",
        "# Sanity check\n",
        "for eval in jnp.array([jax.lax.imag(eval) for eval in evals]):\n",
        "  assert eval == 0\n",
        "\n",
        "evals = jnp.array([jax.lax.real(eval) for eval in evals])\n",
        "print(evals)\n",
        "smallest_evector = jnp.array([jax.lax.real(elem) for elem in evectors[:, jnp.argmin(evals)]])"
      ],
      "metadata": {
        "colab": {
          "base_uri": "https://localhost:8080/"
        },
        "id": "to7UcBE-sW6w",
        "outputId": "f226739f-0366-4553-99a4-9688880909e0"
      },
      "execution_count": 166,
      "outputs": [
        {
          "output_type": "stream",
          "name": "stdout",
          "text": [
            "[1.0466660259695443e+02 7.5202124321886970e+01 1.6951435851833246e+01\n",
            " 5.5694107560052712e+00 3.2579001509258392e+00 1.6540217665665808e+00\n",
            " 2.4999918879778074e+00 2.5395296268117335e-02 2.0174322494318459e-02\n",
            " 1.1113953964907034e-03 9.3199296053710252e-04 3.9742008769751100e-05\n",
            " 3.1799269843201323e-05 3.9271869537682491e-11 1.1134727328349828e-10]\n"
          ]
        }
      ]
    },
    {
      "cell_type": "markdown",
      "source": [
        "## Perturbation (based on JAX evectors)"
      ],
      "metadata": {
        "id": "2OID6WjL-c2i"
      }
    },
    {
      "cell_type": "markdown",
      "source": [
        "### For one random element"
      ],
      "metadata": {
        "id": "XdVQa6t6iETd"
      }
    },
    {
      "cell_type": "code",
      "source": [
        "old_loss = loss(jnp.append(w_in.T.reshape(D_in * H_student), w_out.reshape(H_student)))\n",
        "\n",
        "perturb_lower_bound = -4.0\n",
        "perturb_upper_bound = 4.0\n",
        "perturb_step = 0.01\n",
        "\n",
        "perturb_losses = []\n",
        "perturb_evals = []\n",
        "\n",
        "weights = jnp.append(w_in.T.reshape(D_in * H_student), w_out.reshape(H_student))\n",
        "for eps in np.arange(perturb_lower_bound, perturb_upper_bound, perturb_step):\n",
        "  new_weights = weights + eps * smallest_evector\n",
        "  \n",
        "  H = hessian(loss)(new_weights)\n",
        "  H = (H + H.T) / 2\n",
        "  evals, _ = jnp.linalg.eig(H)\n",
        "\n",
        "  perturb_evals.append(min(evals))\n",
        "  perturb_losses.append(loss(new_weights))\n",
        "\n",
        "fig, (ax1, ax2) = plt.subplots(1, 2)\n",
        "fig.set_size_inches(14.5, 6.5)\n",
        "fig.suptitle('Evolution of loss and smallest eval under perturbation')\n",
        "ax1.plot(np.arange(perturb_lower_bound, perturb_upper_bound, perturb_step), perturb_losses)\n",
        "ax1.ticklabel_format(useOffset=False)\n",
        "ax1.set_xlabel('perturbation factor')\n",
        "ax1.set_ylabel('loss')\n",
        "\n",
        "ax2.plot(np.arange(perturb_lower_bound, perturb_upper_bound, perturb_step), perturb_evals)\n",
        "ax2.set_xlabel('perturbation factor')\n",
        "ax2.set_ylabel('smallest eval')"
      ],
      "metadata": {
        "colab": {
          "base_uri": "https://localhost:8080/",
          "height": 535
        },
        "id": "epGcpd0xxPA8",
        "outputId": "076dbc8d-9e20-4505-e1c5-42cd748173a2"
      },
      "execution_count": 167,
      "outputs": [
        {
          "output_type": "stream",
          "name": "stderr",
          "text": [
            "/usr/local/lib/python3.7/dist-packages/matplotlib/cbook/__init__.py:1317: ComplexWarning: Casting complex values to real discards the imaginary part\n",
            "  return np.asarray(x, float)\n"
          ]
        },
        {
          "output_type": "execute_result",
          "data": {
            "text/plain": [
              "Text(0, 0.5, 'smallest eval')"
            ]
          },
          "metadata": {},
          "execution_count": 167
        },
        {
          "output_type": "display_data",
          "data": {
            "image/png": "[encoded data removed]",
            "text/plain": [
              "<Figure size 1044x468 with 2 Axes>"
            ]
          },
          "metadata": {
            "needs_background": "light"
          }
        }
      ]
    },
    {
      "cell_type": "markdown",
      "source": [
        "### For the entire set of high loss points"
      ],
      "metadata": {
        "id": "UJ6PKfeuiGUu"
      }
    },
    {
      "cell_type": "code",
      "source": [
        "num_saddles = 0\n",
        "num_local_minima = 0\n",
        "num_total = len(max_loss_data)\n",
        "max_diff = -float(\"inf\")\n",
        "max_abs_smallest_eval_arr = []\n",
        "\n",
        "for index, row in max_loss_data.iterrows():\n",
        "  old_loss = row['loss']\n",
        "  incoming_weights_x, incoming_weights_y, outgoing_weights = extract_weights(row)\n",
        "\n",
        "  w_in = jnp.array([[incoming_weights_x[0], incoming_weights_y[0]],\n",
        "                  [incoming_weights_x[1], incoming_weights_y[1]],\n",
        "                  [incoming_weights_x[2], incoming_weights_y[2]],\n",
        "                  [incoming_weights_x[3], incoming_weights_y[3]],\n",
        "                  [incoming_weights_x[4], incoming_weights_y[4]]], dtype=jnp.float64)\n",
        "  w_out = jnp.array(outgoing_weights, dtype=jnp.float64)\n",
        "  weights = jnp.append(w_in.T.reshape(D_in * H_student), w_out.reshape(H_student))\n",
        "\n",
        "  H = hessian(loss)(jnp.append(w_in.T.reshape(D_in * H_student), w_out.reshape(H_student)))\n",
        "  H = (H + H.T) / 2\n",
        "  evals, evectors = jnp.linalg.eig(H)\n",
        "\n",
        "  # Sanity check\n",
        "  for eval in jnp.array([jax.lax.imag(eval) for eval in evals]):\n",
        "    assert eval == 0\n",
        "\n",
        "  evals = jnp.array([jax.lax.real(eval) for eval in evals])\n",
        "  smallest_evector = jnp.array([jax.lax.real(elem) for elem in evectors[:, jnp.argmin(evals)]])\n",
        "\n",
        "  max_abs_smallest_eval = -float(\"inf\")\n",
        "\n",
        "  for eps in np.arange(perturb_lower_bound, perturb_upper_bound, perturb_step):\n",
        "    new_weights = weights + eps * smallest_evector\n",
        "    # print(old_loss, loss(new_weights))\n",
        "    # print(old_loss - loss(new_weights) - old_loss / 100.0)\n",
        "    perturbed_H = hessian(loss)(new_weights)\n",
        "    perturbed_H = (perturbed_H + perturbed_H.T) / 2\n",
        "    perturbed_evals, _ = jnp.linalg.eig(perturbed_H)\n",
        "\n",
        "    max_diff = max(max_diff, old_loss - loss(new_weights))\n",
        "    max_abs_smallest_eval = max(abs(min(perturbed_evals)), max_abs_smallest_eval)\n",
        "  max_abs_smallest_eval_arr.append(max_abs_smallest_eval)\n",
        "\n",
        "print('max diff between the original loss and the computed loss: ', max_diff)\n",
        "print(max_abs_smallest_eval_arr)"
      ],
      "metadata": {
        "colab": {
          "base_uri": "https://localhost:8080/"
        },
        "id": "fCTD9QI2iLaa",
        "outputId": "cb371e73-a8b4-4231-df96-3776714501b6"
      },
      "execution_count": 168,
      "outputs": [
        {
          "output_type": "stream",
          "name": "stdout",
          "text": [
            "max diff between the original loss and the computed loss:  1.8234059951635672e-09\n",
            "[0.0003622814381708245, 0.00037518078599885034, 0.0022263135809755335, 0.00021952060424445987, 0.0031471030533393634, 0.0005609614899872041, 0.00018292963610190923, 0.001209698098608257, 0.4529053315345673, 7.98554596000129e-06, 0.04847874615282142, 6.8674643390898, 0.0003853945043350802, 0.0030619057052124503, 0.0032766553344846915, 3.007716212221499e-10, 0.015662827068595394, 0.0007344303495509127, 8.390235188135596e-06, 7.7881815101076715, 0.0037707302804205803, 0.003542434934062559, 0.003066270579757977, 1.0221367787069364, 0.002206274263533207, 5.8548217926004095e-05, 9.608084936204879, 0.0019230684790011718, 0.0011301769485182905, 0.000283369793138171, 5.558350380216582, 0.0037929129446457816, 1.3627716079852336e-05, 0.00018302264837310263, 0.000998067894598562, 0.0039582864083476735, 1.8194875798326285e-05, 0.003806963445136479, 0.00011557189162067994, 0.000559807086203534, 0.0840438153809316, 0.0002481030444349384, 0.015831095413971468, 9.566328172174366, 0.7633322069261343, 0.003803317756905218, 0.0025304721449304637, 0.0012636213176799094, 0.0005385948202175978, 9.566328554335392, 9.958980695847886e-12, 0.0001829501285481906, 0.0006187068934423742, 1.3524810019986874e-05, 0.0001829801619035619, 5.558343134070435, 4.0034288039363535, 0.002324979194690357, 0.00024291911772544763, 4.003435869878918, 9.566327457049066, 0.0016984564401015558, 7.92646705245989e-10, 5.4894579509437535e-05, 4.1828365880229705e-05, 0.0006442622362860869, 0.0004445933348983784, 0.0005876379243442655, 0.00016784605825936828, 0.0012136357861133843, 9.896105240266451e-05, 0.0003439975795735632, 0.00017722814035480003, 0.0016600238058765051, 0.000242730670769057, 0.0018537891722583213, 0.003800843993374818, 0.0011277836252362706, 0.003809159298543093, 1.050344157527428e-05, 0.048222108087214895, 0.00122157065682688, 5.581804190992139e-05, 5.608432012282851, 0.00044771070150217, 7.620115956459199e-05, 0.00839068340932956, 1.022137197972422, 8.916891976433833e-06, 0.0030578675220187075, 7.788183500693653, 0.000961188733052027, 0.0032809709667900614, 1.0221371623010367, 6.86745306707311, 7.788183907812339, 6.985504726558964e-06, 0.000351282054776634, 1.0221369353779608, 0.0002194751800762113, 5.60842886467233, 0.00023681597925191697, 8.414314866526538e-06, 0.015664563830084452, 0.0001443827140764014, 0.0003337272403655939, 0.0023913683086874203, 0.00036412357869698307, 0.0007305084170292092, 0.00042023000118974313, 0.0002121460478922147, 5.608433552843474, 0.0012114298413146444, 0.00018462746185265587, 0.00044487658147332937, 0.00037497537944407517, 0.006766061877904042, 0.003809159576892109, 0.00036756103448344293, 9.566322597999266, 0.0015334734437385774, 0.007500597740825893, 0.0051942345739825835, 0.0013507745531469684, 6.8674608136030315, 0.00020685315780294314, 0.00327474638032478, 0.00012385105950119324, 0.006759049709395375, 0.0012108893006839369, 4.55058620191323e-08, 1.3594141070011235e-05, 0.00017996576159748343, 8.355082380929583e-06, 5.558344256843394, 2.7091863690023766e-06, 3.232389191404213e-05, 0.0023239865642646095, 0.00018189381804536433, 0.005194233557430191, 0.0158410050777909, 0.00025108768019118527, 0.001207263194620722, 9.608086166802133, 0.0033677327469361085, 9.380775771696041e-07, 2.929049484794336e-11, 0.00033417236890321915, 0.0007285402656609532, 5.55835860206412, 0.0025282898791347997, 0.006769353093212606, 0.1609110377987755, 0.00126240017635797, 0.0069889187880498, 0.001417265441220847, 0.0003650586607544331, 0.0012112985514567277, 0.010224258205373534, 3.237589531441409e-05, 0.00042128029937846126, 0.0018016231593367515, 8.429162634036153e-06, 5.677467822302285, 0.015651798380072267, 0.0006057898514509106, 0.004338413258603257, 2.6607457540940764, 0.002497019727339256, 0.0010089594494603516, 0.9094308699168545, 0.0006821572496272976, 0.0002057325809833192, 0.4529053765886773, 0.0005642791100510839, 0.0011196838843068025, 0.00014949739173738072, 0.003538088331090975, 0.0038100636914147764, 0.0003338882525438192, 0.000351898962848775, 0.7309518872905686, 5.4245991456754145e-05, 0.0012114752649155286, 0.03113859860638521, 0.0037993174590276193, 0.0012130744220434056, 9.047049216189565e-06, 1.0249949829173763, 0.00011333021214236833, 0.00021522517133139735, 5.558351354283157, 5.677511865057126, 0.0018301456174876815, 0.00017730132513494378, 0.0035347636083166256, 0.0003342806918399059, 0.003539019301636957, 5.558347784624477, 1.9387553436076727e-05, 0.0017002703903815236, 0.003576257567273083, 0.00035019409025068785, 0.0005494406060038914, 0.0008065046231332453, 0.04822210812037187, 2.5594690489313853e-06, 0.0004865145700812355, 0.04822210561940372, 0.0001252197104326682, 4.00343046154374, 6.853549449491413, 0.00112351481503686, 6.85353661759872, 5.629737459119174e-05, 0.0013462492258507857, 5.608400257078656, 0.000963921109091214, 0.0038093908810707504, 6.867460791849082, 1.730554458535627e-05, 0.00018239137311001587, 2.3929615742526634e-11, 0.9128796206970553, 9.566328339158758, 0.0013409500557211768, 0.00839418369094178, 1.6134662762482506e-08, 0.00034729554296433453, 0.0013698066744699487, 1.0249953417861606, 5.608434542715536, 0.0012131376959326826, 0.0003625112640211494, 0.0001813051985063145, 0.04847874564732414, 0.7633322314615436, 0.003783132774703648, 0.0010115611850241874, 0.7663463719027763, 0.003929668234877547, 0.001212883164022235, 3.093300123597763e-06, 8.885960587636219e-06, 0.0007283485457233763, 0.01585065020035939, 0.00018240810714761335, 0.003536531452919735, 2.400347736894071, 0.0012114806204592539, 0.0002097221199707852, 0.00012234092686905703, 0.003280985408739058, 0.00024270511148738702, 0.001368278708148771, 6.867442747989017, 3.1045738226684486e-12, 0.006728073746477666, 0.0039301725868765265, 0.003608597015097905, 0.00043888303311266034, 0.002394164043356959, 0.0019261247715251265, 0.002204453531790384, 0.0003675525135031172, 0.00027014942604732645, 0.006992838760026765, 0.001198875677817503, 1.0871052230878286e-07, 0.01566290220446151, 0.41599455470293517, 0.00020719981067604767, 0.0071202414323675535, 0.00043900883458020395, 0.0012120013160613983, 1.349090676640266e-05, 8.742993133999138e-06, 5.3950488295355894e-05, 0.003826205566345647, 0.015848758544510226, 0.0035390503321194094, 0.001262418796144576, 0.015851517383361036, 0.0011297151831677471, 0.00194621620545824, 0.00020588512819422425, 0.00018412356418103342, 5.694162551092927, 0.0035924717666366087, 0.005374394976739508, 0.0005426944842611236, 0.0007300805203412882, 0.0035391599777775044, 0.0032790166323755153, 0.00379458602065253, 0.0004445427586574162, 0.003793082875387542, 7.767332560558273, 0.08750825923805061, 0.728758763595007, 1.3555833743047808e-05, 0.001370587503952689, 3.767221425991196e-07, 8.386612281695265e-06, 0.0014121476505278446, 0.0004389101898785681, 0.7633322154302599, 0.010125928961306097, 0.0003671750396315196, 0.00359835906271167, 5.494621247768471e-05, 0.0035377166314839495, 0.001921507365043244, 0.01565445364948625, 0.00379166551371775, 5.558348711333076, 0.008083561789896972, 1.0925590873139629e-07, 0.003511985235434276, 0.0002425669112296753, 0.0030630500553682047, 0.00885830862168059, 0.0038182444841988734, 0.0012113631408849368, 0.00014568534302003235, 0.0038174117343731813, 1.3631812093187876e-05, 0.0008061891244128159, 0.0005449137701891514, 9.566328678369839, 0.048222107765950074, 0.0019063104574325472, 0.0008056856998107663, 0.008380080283378624, 0.0017062516805741957, 5.495865649696971e-05, 1.0249950035247335, 0.008082965125045399, 9.608085818684838, 0.001659236582528944, 0.0020479426381000273, 0.0001456711554202099, 0.00382883750423684, 0.7287587886875516, 0.008418650552964266, 0.0007302520412378625, 0.9128796011245564, 0.008364953070438575, 0.0012642117197528048, 5.694277349764365, 0.0002368847436176199, 0.003808672301072473, 3.061209737052394e-06, 5.558349496844903, 0.17941420501026487, 0.0023932696955373213, 0.0012116261361836413, 4.003444526235945, 2.6607359459761137, 0.003062390050026038, 0.0013473344314915532, 0.0004214266673379574, 0.0032782431935491933, 0.7287587613633361, 0.0003510888466369322, 1.5769767764994526e-05, 0.0012118569955004764, 0.00018260843838339283, 0.0017057451543413167, 0.0013683832880126818, 0.04760919114310326, 0.003060883492816732, 0.7633322348341538, 1.0249950463159507, 9.566330167841759, 1.1368180981523362e-08, 0.0013960461482114394, 0.0004507240823033879, 0.0038154229863556002, 0.0002367355147516394, 5.548497407609205e-05, 9.739686486221383e-05, 0.0005087636970393248, 0.0030420242958464584, 0.003066523848146257, 0.006765725488368442, 0.00044061777094498176, 0.0015351100251138614, 0.0003342387676774346, 0.001206554207448823, 0.002209251193988084, 8.393467639383574e-06, 3.7985300667482633e-07, 0.0012143677113653224, 0.0012109554415592834, 1.3691377114090362e-05, 8.200640508245423, 5.558358593866629, 0.002052090893727945, 2.9705781482239122e-09, 0.0001771663652146467, 0.00021932763936585793, 0.003538473854991854, 0.00011570010371443493, 0.7633322561010011, 6.150228375857155e-06, 2.660745296206595, 0.025042221345119308, 0.0038011119395272405, 0.006760604045695126, 0.00012352537664511118, 0.048222109876818194, 0.0003646025181913837, 0.0032788835936829806, 0.005529275886004624, 0.0010110664914838277, 0.003538259060824403, 0.003537558325703797, 0.0037546831431174653, 0.0038072839292539904, 0.0007349367333840844, 5.60843321318349, 0.7287587671802842, 5.515042082171726e-05, 0.001011629425209829, 0.03167670474613741, 0.008856547816187898, 8.396776719030978e-06, 4.9463686510221735e-05, 0.002058647993990171, 1.08928690730441e-07, 0.003790591296589398, 0.03196680953138321, 0.0038097344081428736]\n"
          ]
        }
      ]
    },
    {
      "cell_type": "code",
      "source": [
        "print(len(max_abs_smallest_eval_arr))"
      ],
      "metadata": {
        "id": "DMK8Egxx5OCU",
        "outputId": "bc4917cd-72e6-4ce4-d44c-c306ff1c2d25",
        "colab": {
          "base_uri": "https://localhost:8080/"
        }
      },
      "execution_count": 169,
      "outputs": [
        {
          "output_type": "stream",
          "name": "stdout",
          "text": [
            "434\n"
          ]
        }
      ]
    }
  ]
}