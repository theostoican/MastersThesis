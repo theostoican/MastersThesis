{
  "nbformat": 4,
  "nbformat_minor": 0,
  "metadata": {
    "colab": {
      "name": "experiments_analysis-Julia-based_data.ipynb",
      "provenance": [],
      "collapsed_sections": [],
      "authorship_tag": "ABX9TyM/Va7+I+qEXTkPJwJoDxA/",
      "include_colab_link": true
    },
    "kernelspec": {
      "name": "python3",
      "display_name": "Python 3"
    },
    "language_info": {
      "name": "python"
    }
  },
  "cells": [
    {
      "cell_type": "markdown",
      "metadata": {
        "id": "view-in-github",
        "colab_type": "text"
      },
      "source": [
        "<a href=\"https://colab.research.google.com/github/theostoican/MastersThesis/blob/main/experiments_analysis_Julia_based_data.ipynb\" target=\"_parent\"><img src=\"https://colab.research.google.com/assets/colab-badge.svg\" alt=\"Open In Colab\"/></a>"
      ]
    },
    {
      "cell_type": "code",
      "execution_count": 1,
      "metadata": {
        "id": "HR-JuDus4Dgg"
      },
      "outputs": [],
      "source": [
        "import matplotlib.pyplot as plt\n",
        "import matplotlib\n",
        "import pandas as pd\n",
        "import numpy as np\n",
        "\n",
        "import torch\n",
        "import torch.nn as nn\n",
        "from torch.autograd import Variable"
      ]
    },
    {
      "cell_type": "markdown",
      "source": [
        "# Helpers for plotting the trajectories of the weights of the neurons"
      ],
      "metadata": {
        "id": "MKMT2fhjFIW6"
      }
    },
    {
      "cell_type": "code",
      "source": [
        "def plot_trajectories(data_row):\n",
        "  convergence_neurons_incoming_x = []\n",
        "  convergence_neurons_incoming_y = []\n",
        "  convergence_neurons_outgoing = []\n",
        "\n",
        "  for i in range(0, int(data_row['student size'])):\n",
        "    neuron_traj_x = np.fromstring(data_row['neuron_' + str(i) + '_traj_x'].values[0][1:-1], dtype=float, sep=',')\n",
        "    neuron_traj_y = np.fromstring(data_row['neuron_' + str(i) + '_traj_y'].values[0][1:-1], dtype=float, sep=',')\n",
        "    plt.plot(neuron_traj_x, neuron_traj_y)\n",
        "  \n",
        "    convergence_neurons_incoming_x.append(neuron_traj_x[-1])\n",
        "    convergence_neurons_incoming_y.append(neuron_traj_y[-1])\n",
        "\n",
        "    neuron_a = float(data_row['neuron_' + str(i) + '_a'].values[0])\n",
        "    convergence_neurons_outgoing.append(neuron_a)\n",
        "\n",
        "  teacher_neurons_x = np.fromstring(data_row['teacher_neurons_x'].values[0][1 : -1], dtype=float, sep=',')\n",
        "  teacher_neurons_y = np.fromstring(data_row['teacher_neurons_y'].values[0][1 : -1], dtype=float, sep=',')\n",
        "  plt.scatter(teacher_neurons_x, teacher_neurons_y, marker=\"*\")\n",
        "\n",
        "  plt.scatter(convergence_neurons_incoming_x,\n",
        "            convergence_neurons_incoming_y,\n",
        "            c = convergence_neurons_outgoing,\n",
        "            cmap=matplotlib.cm.jet)\n",
        "  plt.colorbar()"
      ],
      "metadata": {
        "id": "cyh_igQ37r0u"
      },
      "execution_count": 2,
      "outputs": []
    },
    {
      "cell_type": "markdown",
      "source": [
        "# Read the data from the .csv file"
      ],
      "metadata": {
        "id": "_xd7SAYBFB-c"
      }
    },
    {
      "cell_type": "code",
      "source": [
        "data = pd.read_csv('fixed_points.csv', float_precision='round_trip')\n",
        "\n",
        "len(data)"
      ],
      "metadata": {
        "colab": {
          "base_uri": "https://localhost:8080/"
        },
        "id": "QiMGa1Ib64YR",
        "outputId": "5fb6d68b-2824-4f02-bd81-8fd59fac29de"
      },
      "execution_count": 3,
      "outputs": [
        {
          "output_type": "execute_result",
          "data": {
            "text/plain": [
              "1000"
            ]
          },
          "metadata": {},
          "execution_count": 3
        }
      ]
    },
    {
      "cell_type": "code",
      "source": [
        "data.head()"
      ],
      "metadata": {
        "colab": {
          "base_uri": "https://localhost:8080/",
          "height": 357
        },
        "id": "Lz-VFq2mPBIw",
        "outputId": "305e8750-ff38-497d-e475-32a01dcf4bfb"
      },
      "execution_count": 4,
      "outputs": [
        {
          "output_type": "execute_result",
          "data": {
            "text/html": [
              "\n",
              "  <div id=\"df-470bddd5-47db-4e84-8101-e854a5267f46\">\n",
              "    <div class=\"colab-df-container\">\n",
              "      <div>\n",
              "<style scoped>\n",
              "    .dataframe tbody tr th:only-of-type {\n",
              "        vertical-align: middle;\n",
              "    }\n",
              "\n",
              "    .dataframe tbody tr th {\n",
              "        vertical-align: top;\n",
              "    }\n",
              "\n",
              "    .dataframe thead th {\n",
              "        text-align: right;\n",
              "    }\n",
              "</style>\n",
              "<table border=\"1\" class=\"dataframe\">\n",
              "  <thead>\n",
              "    <tr style=\"text-align: right;\">\n",
              "      <th></th>\n",
              "      <th>activation</th>\n",
              "      <th>N</th>\n",
              "      <th>Ninner</th>\n",
              "      <th>seed</th>\n",
              "      <th>maxtime</th>\n",
              "      <th>loss</th>\n",
              "      <th>smallest_heg</th>\n",
              "      <th>gradient_norm</th>\n",
              "      <th>w11</th>\n",
              "      <th>w21</th>\n",
              "      <th>w31</th>\n",
              "      <th>w41</th>\n",
              "      <th>w51</th>\n",
              "      <th>w12</th>\n",
              "      <th>w22</th>\n",
              "      <th>w32</th>\n",
              "      <th>w42</th>\n",
              "      <th>w52</th>\n",
              "      <th>a1</th>\n",
              "      <th>a2</th>\n",
              "      <th>a3</th>\n",
              "      <th>a4</th>\n",
              "      <th>a5</th>\n",
              "    </tr>\n",
              "  </thead>\n",
              "  <tbody>\n",
              "    <tr>\n",
              "      <th>0</th>\n",
              "      <td>sigmoid</td>\n",
              "      <td>10</td>\n",
              "      <td>100000</td>\n",
              "      <td>1</td>\n",
              "      <td>3600</td>\n",
              "      <td>7.340982e-05</td>\n",
              "      <td>9.070762e-12</td>\n",
              "      <td>8.036297e-10</td>\n",
              "      <td>-1.296618</td>\n",
              "      <td>-0.902262</td>\n",
              "      <td>-1.277936</td>\n",
              "      <td>0.194223</td>\n",
              "      <td>-0.730563</td>\n",
              "      <td>1.042003</td>\n",
              "      <td>-0.585449</td>\n",
              "      <td>1.029128</td>\n",
              "      <td>-0.054116</td>\n",
              "      <td>1.487154</td>\n",
              "      <td>1.097378e+01</td>\n",
              "      <td>-0.454981</td>\n",
              "      <td>-11.366674</td>\n",
              "      <td>0.776118</td>\n",
              "      <td>7.176519e-02</td>\n",
              "    </tr>\n",
              "    <tr>\n",
              "      <th>1</th>\n",
              "      <td>sigmoid</td>\n",
              "      <td>10</td>\n",
              "      <td>100000</td>\n",
              "      <td>10</td>\n",
              "      <td>3600</td>\n",
              "      <td>3.064903e-31</td>\n",
              "      <td>-7.535396e-17</td>\n",
              "      <td>3.620881e-16</td>\n",
              "      <td>-0.200000</td>\n",
              "      <td>-0.500000</td>\n",
              "      <td>-0.500001</td>\n",
              "      <td>-0.100000</td>\n",
              "      <td>-0.600000</td>\n",
              "      <td>-0.600000</td>\n",
              "      <td>0.500000</td>\n",
              "      <td>0.500000</td>\n",
              "      <td>0.600000</td>\n",
              "      <td>-0.500000</td>\n",
              "      <td>1.000000e+00</td>\n",
              "      <td>-0.920254</td>\n",
              "      <td>-0.079746</td>\n",
              "      <td>1.000000</td>\n",
              "      <td>-1.000000e+00</td>\n",
              "    </tr>\n",
              "    <tr>\n",
              "      <th>2</th>\n",
              "      <td>sigmoid</td>\n",
              "      <td>10</td>\n",
              "      <td>100000</td>\n",
              "      <td>100</td>\n",
              "      <td>3600</td>\n",
              "      <td>1.701555e-32</td>\n",
              "      <td>-8.088575e-19</td>\n",
              "      <td>2.537475e-17</td>\n",
              "      <td>0.441250</td>\n",
              "      <td>-0.600000</td>\n",
              "      <td>-0.500000</td>\n",
              "      <td>-0.100000</td>\n",
              "      <td>-0.200000</td>\n",
              "      <td>-0.603799</td>\n",
              "      <td>-0.500000</td>\n",
              "      <td>0.500000</td>\n",
              "      <td>0.600000</td>\n",
              "      <td>-0.600000</td>\n",
              "      <td>1.779090e-14</td>\n",
              "      <td>-1.000000</td>\n",
              "      <td>-1.000000</td>\n",
              "      <td>1.000000</td>\n",
              "      <td>1.000000e+00</td>\n",
              "    </tr>\n",
              "    <tr>\n",
              "      <th>3</th>\n",
              "      <td>sigmoid</td>\n",
              "      <td>10</td>\n",
              "      <td>100000</td>\n",
              "      <td>1000</td>\n",
              "      <td>3600</td>\n",
              "      <td>1.510018e-32</td>\n",
              "      <td>1.942791e-19</td>\n",
              "      <td>7.187402e-17</td>\n",
              "      <td>-0.500000</td>\n",
              "      <td>-0.100000</td>\n",
              "      <td>-0.600000</td>\n",
              "      <td>-0.200000</td>\n",
              "      <td>0.510745</td>\n",
              "      <td>0.500000</td>\n",
              "      <td>0.600000</td>\n",
              "      <td>-0.500000</td>\n",
              "      <td>-0.600000</td>\n",
              "      <td>-0.408655</td>\n",
              "      <td>-1.000000e+00</td>\n",
              "      <td>1.000000</td>\n",
              "      <td>-1.000000</td>\n",
              "      <td>1.000000</td>\n",
              "      <td>-3.185828e-15</td>\n",
              "    </tr>\n",
              "    <tr>\n",
              "      <th>4</th>\n",
              "      <td>sigmoid</td>\n",
              "      <td>10</td>\n",
              "      <td>100000</td>\n",
              "      <td>101</td>\n",
              "      <td>3600</td>\n",
              "      <td>9.824220e-05</td>\n",
              "      <td>1.479210e-10</td>\n",
              "      <td>1.013867e-09</td>\n",
              "      <td>1.420720</td>\n",
              "      <td>1.946299</td>\n",
              "      <td>-0.805450</td>\n",
              "      <td>-0.009467</td>\n",
              "      <td>-1.455685</td>\n",
              "      <td>-0.961272</td>\n",
              "      <td>1.627585</td>\n",
              "      <td>-0.480423</td>\n",
              "      <td>0.002230</td>\n",
              "      <td>0.980023</td>\n",
              "      <td>6.941624e+00</td>\n",
              "      <td>0.047830</td>\n",
              "      <td>-0.435888</td>\n",
              "      <td>-13.146253</td>\n",
              "      <td>6.592686e+00</td>\n",
              "    </tr>\n",
              "  </tbody>\n",
              "</table>\n",
              "</div>\n",
              "      <button class=\"colab-df-convert\" onclick=\"convertToInteractive('df-470bddd5-47db-4e84-8101-e854a5267f46')\"\n",
              "              title=\"Convert this dataframe to an interactive table.\"\n",
              "              style=\"display:none;\">\n",
              "        \n",
              "  <svg xmlns=\"http://www.w3.org/2000/svg\" height=\"24px\"viewBox=\"0 0 24 24\"\n",
              "       width=\"24px\">\n",
              "    <path d=\"M0 0h24v24H0V0z\" fill=\"none\"/>\n",
              "    <path d=\"M18.56 5.44l.94 2.06.94-2.06 2.06-.94-2.06-.94-.94-2.06-.94 2.06-2.06.94zm-11 1L8.5 8.5l.94-2.06 2.06-.94-2.06-.94L8.5 2.5l-.94 2.06-2.06.94zm10 10l.94 2.06.94-2.06 2.06-.94-2.06-.94-.94-2.06-.94 2.06-2.06.94z\"/><path d=\"M17.41 7.96l-1.37-1.37c-.4-.4-.92-.59-1.43-.59-.52 0-1.04.2-1.43.59L10.3 9.45l-7.72 7.72c-.78.78-.78 2.05 0 2.83L4 21.41c.39.39.9.59 1.41.59.51 0 1.02-.2 1.41-.59l7.78-7.78 2.81-2.81c.8-.78.8-2.07 0-2.86zM5.41 20L4 18.59l7.72-7.72 1.47 1.35L5.41 20z\"/>\n",
              "  </svg>\n",
              "      </button>\n",
              "      \n",
              "  <style>\n",
              "    .colab-df-container {\n",
              "      display:flex;\n",
              "      flex-wrap:wrap;\n",
              "      gap: 12px;\n",
              "    }\n",
              "\n",
              "    .colab-df-convert {\n",
              "      background-color: #E8F0FE;\n",
              "      border: none;\n",
              "      border-radius: 50%;\n",
              "      cursor: pointer;\n",
              "      display: none;\n",
              "      fill: #1967D2;\n",
              "      height: 32px;\n",
              "      padding: 0 0 0 0;\n",
              "      width: 32px;\n",
              "    }\n",
              "\n",
              "    .colab-df-convert:hover {\n",
              "      background-color: #E2EBFA;\n",
              "      box-shadow: 0px 1px 2px rgba(60, 64, 67, 0.3), 0px 1px 3px 1px rgba(60, 64, 67, 0.15);\n",
              "      fill: #174EA6;\n",
              "    }\n",
              "\n",
              "    [theme=dark] .colab-df-convert {\n",
              "      background-color: #3B4455;\n",
              "      fill: #D2E3FC;\n",
              "    }\n",
              "\n",
              "    [theme=dark] .colab-df-convert:hover {\n",
              "      background-color: #434B5C;\n",
              "      box-shadow: 0px 1px 3px 1px rgba(0, 0, 0, 0.15);\n",
              "      filter: drop-shadow(0px 1px 2px rgba(0, 0, 0, 0.3));\n",
              "      fill: #FFFFFF;\n",
              "    }\n",
              "  </style>\n",
              "\n",
              "      <script>\n",
              "        const buttonEl =\n",
              "          document.querySelector('#df-470bddd5-47db-4e84-8101-e854a5267f46 button.colab-df-convert');\n",
              "        buttonEl.style.display =\n",
              "          google.colab.kernel.accessAllowed ? 'block' : 'none';\n",
              "\n",
              "        async function convertToInteractive(key) {\n",
              "          const element = document.querySelector('#df-470bddd5-47db-4e84-8101-e854a5267f46');\n",
              "          const dataTable =\n",
              "            await google.colab.kernel.invokeFunction('convertToInteractive',\n",
              "                                                     [key], {});\n",
              "          if (!dataTable) return;\n",
              "\n",
              "          const docLinkHtml = 'Like what you see? Visit the ' +\n",
              "            '<a target=\"_blank\" href=https://colab.research.google.com/notebooks/data_table.ipynb>data table notebook</a>'\n",
              "            + ' to learn more about interactive tables.';\n",
              "          element.innerHTML = '';\n",
              "          dataTable['output_type'] = 'display_data';\n",
              "          await google.colab.output.renderOutput(dataTable, element);\n",
              "          const docLink = document.createElement('div');\n",
              "          docLink.innerHTML = docLinkHtml;\n",
              "          element.appendChild(docLink);\n",
              "        }\n",
              "      </script>\n",
              "    </div>\n",
              "  </div>\n",
              "  "
            ],
            "text/plain": [
              "  activation   N  Ninner  seed  ...        a2         a3         a4            a5\n",
              "0    sigmoid  10  100000     1  ... -0.454981 -11.366674   0.776118  7.176519e-02\n",
              "1    sigmoid  10  100000    10  ... -0.920254  -0.079746   1.000000 -1.000000e+00\n",
              "2    sigmoid  10  100000   100  ... -1.000000  -1.000000   1.000000  1.000000e+00\n",
              "3    sigmoid  10  100000  1000  ...  1.000000  -1.000000   1.000000 -3.185828e-15\n",
              "4    sigmoid  10  100000   101  ...  0.047830  -0.435888 -13.146253  6.592686e+00\n",
              "\n",
              "[5 rows x 23 columns]"
            ]
          },
          "metadata": {},
          "execution_count": 4
        }
      ]
    },
    {
      "cell_type": "markdown",
      "source": [
        "# Models"
      ],
      "metadata": {
        "id": "KiYPQo928tIe"
      }
    },
    {
      "cell_type": "markdown",
      "source": [
        "A dummy network that receives as input the precomputed incoming and outgoing weights and sets them directly."
      ],
      "metadata": {
        "id": "-nq_zF38llaS"
      }
    },
    {
      "cell_type": "code",
      "source": [
        "torch.set_default_dtype(torch.float64)\n",
        "class DummyNetwork(nn.Module):\n",
        "  def __init__(self, D_in, H, D_out, w_in, w_out):\n",
        "    \"\"\"\n",
        "    In the constructor we instantiate two nn.Linear modules and assign them as\n",
        "    member variables.\n",
        "\n",
        "    D_in: input dimension\n",
        "    H: dimension of hidden layer\n",
        "    D_out: output dimension of the first layer\n",
        "    \"\"\"\n",
        "    super(DummyNetwork, self).__init__()\n",
        "    self.linear1 = nn.Linear(D_in, H, bias=False)\n",
        "    self.linear2 = nn.Linear(H, D_out, bias=False)\n",
        "    self.linear1.weight = torch.nn.Parameter(w_in)\n",
        "    self.linear2.weight = torch.nn.Parameter(w_out)\n",
        "  def forward(self, x):\n",
        "    \"\"\"\n",
        "    In the forward function we accept a Variable of input data and we must\n",
        "    return a Variable of output data. We can use Modules defined in the\n",
        "    constructor as well as arbitrary operators on Variables.\n",
        "    \"\"\"\n",
        "    h_sigmoid = torch.sigmoid(self.linear1(x))\n",
        "    y_pred = self.linear2(h_sigmoid)\n",
        "    return y_pred"
      ],
      "metadata": {
        "id": "9mR9ZDc-li1t"
      },
      "execution_count": 5,
      "outputs": []
    },
    {
      "cell_type": "markdown",
      "source": [
        "Teacher model"
      ],
      "metadata": {
        "id": "efinskp8bpTr"
      }
    },
    {
      "cell_type": "code",
      "source": [
        "class TeacherNetwork(nn.Module):\n",
        "  def __init__(self, D_in, H, D_out):\n",
        "    \"\"\"\n",
        "    In the constructor we instantiate two nn.Linear modules and assign them as\n",
        "    member variables.\n",
        "\n",
        "    D_in: input dimension\n",
        "    H: dimension of hidden layer\n",
        "    D_out: output dimension of the first layer\n",
        "    \"\"\"\n",
        "    super(TeacherNetwork, self).__init__()\n",
        "    self.linear1 = nn.Linear(D_in, H, bias=False)\n",
        "    self.linear2 = nn.Linear(H, D_out, bias=False)\n",
        "    self.linear1.weight = torch.nn.Parameter(torch.transpose(torch.DoubleTensor([[0.6, -0.5, -0.2, 0.1], [0.5, 0.5, -0.6, -0.6]]), 0, 1))\n",
        "    self.linear2.weight = torch.nn.Parameter(torch.transpose(torch.DoubleTensor([[1], [-1], [1], [-1]]), 0, 1))\n",
        "  def forward(self, x):\n",
        "    \"\"\"\n",
        "    In the forward function we accept a Variable of input data and we must\n",
        "    return a Variable of output data. We can use Modules defined in the\n",
        "    constructor as well as arbitrary operators on Variables.\n",
        "    \"\"\"\n",
        "    h_sigmoid = torch.sigmoid(self.linear1(x))\n",
        "    y_pred = self.linear2(h_sigmoid)\n",
        "    return y_pred"
      ],
      "metadata": {
        "id": "Hqwok2Kyc771"
      },
      "execution_count": 6,
      "outputs": []
    },
    {
      "cell_type": "markdown",
      "source": [
        "# Dataset"
      ],
      "metadata": {
        "id": "agSXav339FMW"
      }
    },
    {
      "cell_type": "code",
      "source": [
        "D_in, H_teacher, H_student, D_out = 2, 4, 5, 1\n",
        "\n",
        "def construct_dataset():\n",
        "  data = []\n",
        "  for y in np.arange(-5, 5.1, .25):\n",
        "    for x in np.arange(-5, 5.1, .25):\n",
        "      data.append([x, y])\n",
        "  return data\n",
        "\n",
        "dataset = torch.DoubleTensor(construct_dataset()) \n",
        "print(len(construct_dataset()))"
      ],
      "metadata": {
        "colab": {
          "base_uri": "https://localhost:8080/"
        },
        "id": "B_ahyjA-bu_O",
        "outputId": "a9f73bba-c197-4375-9900-7c18b984b2da"
      },
      "execution_count": 7,
      "outputs": [
        {
          "output_type": "stream",
          "name": "stdout",
          "text": [
            "1681\n"
          ]
        }
      ]
    },
    {
      "cell_type": "markdown",
      "source": [
        "# Labels"
      ],
      "metadata": {
        "id": "loCS9I5L9Htc"
      }
    },
    {
      "cell_type": "code",
      "source": [
        "teacher_model = TeacherNetwork(D_in, H_teacher, D_out)\n",
        "y_labels = teacher_model(dataset).detach()"
      ],
      "metadata": {
        "id": "vQjZ7UIfdBbT"
      },
      "execution_count": 8,
      "outputs": []
    },
    {
      "cell_type": "markdown",
      "source": [
        "# Pytorch-based helper for computing the Hessian"
      ],
      "metadata": {
        "id": "Xw4duwCNddQb"
      }
    },
    {
      "cell_type": "code",
      "source": [
        "def eval_hessian(loss_grad, model):\n",
        "  cnt = 0\n",
        "  for g in loss_grad:\n",
        "      g_vector = g.contiguous().view(-1) if cnt == 0 else torch.cat([g_vector, g.contiguous().view(-1)])\n",
        "      cnt = 1\n",
        "  grad_norm = torch.norm(g_vector)\n",
        "  l = g_vector.size(0)\n",
        "  hessian = torch.zeros((l, l), dtype = torch.float64)\n",
        "  for idx in range(l):\n",
        "      grad2rd = torch.autograd.grad(g_vector[idx], model.parameters(), create_graph=True)\n",
        "      cnt = 0\n",
        "      for g in grad2rd: \n",
        "          g2 = g.contiguous().view(-1) if cnt == 0 else torch.cat([g2, g.contiguous().view(-1)])\n",
        "          cnt = 1\n",
        "      hessian[idx] = g2\n",
        "  # Symmetrize the Hessian.\n",
        "  hessian = (hessian + hessian.T) / 2\n",
        "  return grad_norm.detach().numpy(), hessian.detach().numpy()"
      ],
      "metadata": {
        "id": "kr6e_Wpbdctf"
      },
      "execution_count": 9,
      "outputs": []
    },
    {
      "cell_type": "markdown",
      "source": [
        "# Selection of high loss points"
      ],
      "metadata": {
        "id": "YQzVmzY59Ty1"
      }
    },
    {
      "cell_type": "code",
      "source": [
        "max_loss_data = data[data['loss'] >= 1e-5]\n",
        "len(max_loss_data)"
      ],
      "metadata": {
        "colab": {
          "base_uri": "https://localhost:8080/"
        },
        "id": "yOgIvE2mCrvQ",
        "outputId": "42b30781-54c8-4fb3-b197-7e33d5e64403"
      },
      "execution_count": 10,
      "outputs": [
        {
          "output_type": "execute_result",
          "data": {
            "text/plain": [
              "434"
            ]
          },
          "metadata": {},
          "execution_count": 10
        }
      ]
    },
    {
      "cell_type": "markdown",
      "source": [
        "## Select the point with minimum eigenvalue (in magnitude)"
      ],
      "metadata": {
        "id": "O6Yy6DFJ9jE7"
      }
    },
    {
      "cell_type": "markdown",
      "source": [
        "### Helper for extracting the weights from one data point."
      ],
      "metadata": {
        "id": "ueyRqoqF2bNm"
      }
    },
    {
      "cell_type": "code",
      "source": [
        "def extract_weights(data_point):\n",
        "  incoming_weights_x = [data_point['w11'],\n",
        "                      data_point['w21'],\n",
        "                      data_point['w31'],\n",
        "                      data_point['w41'],\n",
        "                      data_point['w51']]\n",
        "  incoming_weights_y = [data_point['w12'],\n",
        "                      data_point['w22'],\n",
        "                      data_point['w32'],\n",
        "                      data_point['w42'],\n",
        "                      data_point['w52']]\n",
        "  outgoing_weights = [data_point['a1'],\n",
        "                    data_point['a2'],\n",
        "                    data_point['a3'],\n",
        "                    data_point['a4'],\n",
        "                    data_point['a5']]\n",
        "  return incoming_weights_x, incoming_weights_y, outgoing_weights"
      ],
      "metadata": {
        "id": "cVYwzm-w24Go"
      },
      "execution_count": 11,
      "outputs": []
    },
    {
      "cell_type": "code",
      "source": [
        "sample_point = max_loss_data.sample()\n",
        "sample_point"
      ],
      "metadata": {
        "id": "cmG-5wC5ruO7",
        "outputId": "3445fb87-1fa0-453a-c6dc-64c0ddcd3dfa",
        "colab": {
          "base_uri": "https://localhost:8080/",
          "height": 144
        }
      },
      "execution_count": 12,
      "outputs": [
        {
          "output_type": "execute_result",
          "data": {
            "text/html": [
              "\n",
              "  <div id=\"df-67a81976-cfda-4f8e-a028-fca72d103923\">\n",
              "    <div class=\"colab-df-container\">\n",
              "      <div>\n",
              "<style scoped>\n",
              "    .dataframe tbody tr th:only-of-type {\n",
              "        vertical-align: middle;\n",
              "    }\n",
              "\n",
              "    .dataframe tbody tr th {\n",
              "        vertical-align: top;\n",
              "    }\n",
              "\n",
              "    .dataframe thead th {\n",
              "        text-align: right;\n",
              "    }\n",
              "</style>\n",
              "<table border=\"1\" class=\"dataframe\">\n",
              "  <thead>\n",
              "    <tr style=\"text-align: right;\">\n",
              "      <th></th>\n",
              "      <th>activation</th>\n",
              "      <th>N</th>\n",
              "      <th>Ninner</th>\n",
              "      <th>seed</th>\n",
              "      <th>maxtime</th>\n",
              "      <th>loss</th>\n",
              "      <th>smallest_heg</th>\n",
              "      <th>gradient_norm</th>\n",
              "      <th>w11</th>\n",
              "      <th>w21</th>\n",
              "      <th>w31</th>\n",
              "      <th>w41</th>\n",
              "      <th>w51</th>\n",
              "      <th>w12</th>\n",
              "      <th>w22</th>\n",
              "      <th>w32</th>\n",
              "      <th>w42</th>\n",
              "      <th>w52</th>\n",
              "      <th>a1</th>\n",
              "      <th>a2</th>\n",
              "      <th>a3</th>\n",
              "      <th>a4</th>\n",
              "      <th>a5</th>\n",
              "    </tr>\n",
              "  </thead>\n",
              "  <tbody>\n",
              "    <tr>\n",
              "      <th>61</th>\n",
              "      <td>sigmoid</td>\n",
              "      <td>10</td>\n",
              "      <td>100000</td>\n",
              "      <td>153</td>\n",
              "      <td>3600</td>\n",
              "      <td>0.000073</td>\n",
              "      <td>2.326088e-08</td>\n",
              "      <td>7.465249e-12</td>\n",
              "      <td>0.067655</td>\n",
              "      <td>0.286712</td>\n",
              "      <td>-1.081961</td>\n",
              "      <td>-0.621355</td>\n",
              "      <td>0.746585</td>\n",
              "      <td>0.048527</td>\n",
              "      <td>0.081155</td>\n",
              "      <td>-0.757241</td>\n",
              "      <td>1.05101</td>\n",
              "      <td>-0.746151</td>\n",
              "      <td>-1.663942</td>\n",
              "      <td>1.195935</td>\n",
              "      <td>-0.306601</td>\n",
              "      <td>0.206521</td>\n",
              "      <td>0.568088</td>\n",
              "    </tr>\n",
              "  </tbody>\n",
              "</table>\n",
              "</div>\n",
              "      <button class=\"colab-df-convert\" onclick=\"convertToInteractive('df-67a81976-cfda-4f8e-a028-fca72d103923')\"\n",
              "              title=\"Convert this dataframe to an interactive table.\"\n",
              "              style=\"display:none;\">\n",
              "        \n",
              "  <svg xmlns=\"http://www.w3.org/2000/svg\" height=\"24px\"viewBox=\"0 0 24 24\"\n",
              "       width=\"24px\">\n",
              "    <path d=\"M0 0h24v24H0V0z\" fill=\"none\"/>\n",
              "    <path d=\"M18.56 5.44l.94 2.06.94-2.06 2.06-.94-2.06-.94-.94-2.06-.94 2.06-2.06.94zm-11 1L8.5 8.5l.94-2.06 2.06-.94-2.06-.94L8.5 2.5l-.94 2.06-2.06.94zm10 10l.94 2.06.94-2.06 2.06-.94-2.06-.94-.94-2.06-.94 2.06-2.06.94z\"/><path d=\"M17.41 7.96l-1.37-1.37c-.4-.4-.92-.59-1.43-.59-.52 0-1.04.2-1.43.59L10.3 9.45l-7.72 7.72c-.78.78-.78 2.05 0 2.83L4 21.41c.39.39.9.59 1.41.59.51 0 1.02-.2 1.41-.59l7.78-7.78 2.81-2.81c.8-.78.8-2.07 0-2.86zM5.41 20L4 18.59l7.72-7.72 1.47 1.35L5.41 20z\"/>\n",
              "  </svg>\n",
              "      </button>\n",
              "      \n",
              "  <style>\n",
              "    .colab-df-container {\n",
              "      display:flex;\n",
              "      flex-wrap:wrap;\n",
              "      gap: 12px;\n",
              "    }\n",
              "\n",
              "    .colab-df-convert {\n",
              "      background-color: #E8F0FE;\n",
              "      border: none;\n",
              "      border-radius: 50%;\n",
              "      cursor: pointer;\n",
              "      display: none;\n",
              "      fill: #1967D2;\n",
              "      height: 32px;\n",
              "      padding: 0 0 0 0;\n",
              "      width: 32px;\n",
              "    }\n",
              "\n",
              "    .colab-df-convert:hover {\n",
              "      background-color: #E2EBFA;\n",
              "      box-shadow: 0px 1px 2px rgba(60, 64, 67, 0.3), 0px 1px 3px 1px rgba(60, 64, 67, 0.15);\n",
              "      fill: #174EA6;\n",
              "    }\n",
              "\n",
              "    [theme=dark] .colab-df-convert {\n",
              "      background-color: #3B4455;\n",
              "      fill: #D2E3FC;\n",
              "    }\n",
              "\n",
              "    [theme=dark] .colab-df-convert:hover {\n",
              "      background-color: #434B5C;\n",
              "      box-shadow: 0px 1px 3px 1px rgba(0, 0, 0, 0.15);\n",
              "      filter: drop-shadow(0px 1px 2px rgba(0, 0, 0, 0.3));\n",
              "      fill: #FFFFFF;\n",
              "    }\n",
              "  </style>\n",
              "\n",
              "      <script>\n",
              "        const buttonEl =\n",
              "          document.querySelector('#df-67a81976-cfda-4f8e-a028-fca72d103923 button.colab-df-convert');\n",
              "        buttonEl.style.display =\n",
              "          google.colab.kernel.accessAllowed ? 'block' : 'none';\n",
              "\n",
              "        async function convertToInteractive(key) {\n",
              "          const element = document.querySelector('#df-67a81976-cfda-4f8e-a028-fca72d103923');\n",
              "          const dataTable =\n",
              "            await google.colab.kernel.invokeFunction('convertToInteractive',\n",
              "                                                     [key], {});\n",
              "          if (!dataTable) return;\n",
              "\n",
              "          const docLinkHtml = 'Like what you see? Visit the ' +\n",
              "            '<a target=\"_blank\" href=https://colab.research.google.com/notebooks/data_table.ipynb>data table notebook</a>'\n",
              "            + ' to learn more about interactive tables.';\n",
              "          element.innerHTML = '';\n",
              "          dataTable['output_type'] = 'display_data';\n",
              "          await google.colab.output.renderOutput(dataTable, element);\n",
              "          const docLink = document.createElement('div');\n",
              "          docLink.innerHTML = docLinkHtml;\n",
              "          element.appendChild(docLink);\n",
              "        }\n",
              "      </script>\n",
              "    </div>\n",
              "  </div>\n",
              "  "
            ],
            "text/plain": [
              "   activation   N  Ninner  seed  ...        a2        a3        a4        a5\n",
              "61    sigmoid  10  100000   153  ...  1.195935 -0.306601  0.206521  0.568088\n",
              "\n",
              "[1 rows x 23 columns]"
            ]
          },
          "metadata": {},
          "execution_count": 12
        }
      ]
    },
    {
      "cell_type": "code",
      "source": [
        "# sample_point = max_loss_data[max_loss_data['smallest_heg'] == min(abs(max_loss_data['smallest_heg']))]\n",
        "for _, sample_point in sample_point.iterrows():\n",
        "  pass\n",
        "sample_point"
      ],
      "metadata": {
        "colab": {
          "base_uri": "https://localhost:8080/"
        },
        "id": "id_-izg-DQsu",
        "outputId": "d47e4c8c-8f4a-4e49-c7c7-a1a76431b237"
      },
      "execution_count": 13,
      "outputs": [
        {
          "output_type": "execute_result",
          "data": {
            "text/plain": [
              "activation        sigmoid\n",
              "N                      10\n",
              "Ninner             100000\n",
              "seed                  153\n",
              "maxtime              3600\n",
              "loss             0.000073\n",
              "smallest_heg          0.0\n",
              "gradient_norm         0.0\n",
              "w11              0.067655\n",
              "w21              0.286712\n",
              "w31             -1.081961\n",
              "w41             -0.621355\n",
              "w51              0.746585\n",
              "w12              0.048527\n",
              "w22              0.081155\n",
              "w32             -0.757241\n",
              "w42               1.05101\n",
              "w52             -0.746151\n",
              "a1              -1.663942\n",
              "a2               1.195935\n",
              "a3              -0.306601\n",
              "a4               0.206521\n",
              "a5               0.568088\n",
              "Name: 61, dtype: object"
            ]
          },
          "metadata": {},
          "execution_count": 13
        }
      ]
    },
    {
      "cell_type": "code",
      "source": [
        "sample_point['loss']"
      ],
      "metadata": {
        "colab": {
          "base_uri": "https://localhost:8080/"
        },
        "id": "eOevC2rJxGlY",
        "outputId": "e94c0c25-92fb-4322-cdd9-f0dea19ebee4"
      },
      "execution_count": 14,
      "outputs": [
        {
          "output_type": "execute_result",
          "data": {
            "text/plain": [
              "7.30924287021985e-05"
            ]
          },
          "metadata": {},
          "execution_count": 14
        }
      ]
    },
    {
      "cell_type": "code",
      "source": [
        "sample_point['gradient_norm']"
      ],
      "metadata": {
        "colab": {
          "base_uri": "https://localhost:8080/"
        },
        "id": "uyBNM1RhxbGt",
        "outputId": "a87b3c6f-4c77-4d19-bec3-70913b4770c4"
      },
      "execution_count": 15,
      "outputs": [
        {
          "output_type": "execute_result",
          "data": {
            "text/plain": [
              "7.465249334925492e-12"
            ]
          },
          "metadata": {},
          "execution_count": 15
        }
      ]
    },
    {
      "cell_type": "code",
      "source": [
        "sample_point['smallest_heg']"
      ],
      "metadata": {
        "colab": {
          "base_uri": "https://localhost:8080/"
        },
        "id": "R15JPuXiZPNg",
        "outputId": "32eaec6d-c95b-4738-9f73-8865d9de31e3"
      },
      "execution_count": 16,
      "outputs": [
        {
          "output_type": "execute_result",
          "data": {
            "text/plain": [
              "2.3260878879043798e-08"
            ]
          },
          "metadata": {},
          "execution_count": 16
        }
      ]
    },
    {
      "cell_type": "code",
      "source": [
        "incoming_weights_x, incoming_weights_y, outgoing_weights = extract_weights(sample_point)\n",
        "print(incoming_weights_x)\n",
        "print(incoming_weights_y)\n",
        "print(outgoing_weights)"
      ],
      "metadata": {
        "colab": {
          "base_uri": "https://localhost:8080/"
        },
        "id": "qIoT_UQPFaC4",
        "outputId": "0d689436-c6bf-4fa0-c515-fbcf2c707996"
      },
      "execution_count": 17,
      "outputs": [
        {
          "output_type": "stream",
          "name": "stdout",
          "text": [
            "[0.06765521662933494, 0.2867117885234066, -1.0819605519893012, -0.6213548699549685, 0.7465847840026163]\n",
            "[0.04852662263341132, 0.0811549653259524, -0.7572408317771089, 1.051009540003974, -0.7461512054328461]\n",
            "[-1.6639417378081816, 1.1959353780419528, -0.3066006484077839, 0.20652060069223535, 0.568088107554784]\n"
          ]
        }
      ]
    },
    {
      "cell_type": "code",
      "source": [
        "teacher_neurons_x = [0.6, -0.5, -0.2, 0.1]\n",
        "teacher_neurons_y = [0.5, 0.5, -0.6, -0.6]"
      ],
      "metadata": {
        "id": "jv4zxr2KIpVw"
      },
      "execution_count": 18,
      "outputs": []
    },
    {
      "cell_type": "markdown",
      "source": [
        "## Plotting of the neuron point"
      ],
      "metadata": {
        "id": "TW8LtUQe9uaF"
      }
    },
    {
      "cell_type": "code",
      "source": [
        "plt.scatter(teacher_neurons_x, teacher_neurons_y, marker=\"*\")\n",
        "\n",
        "plt.scatter(incoming_weights_x,\n",
        "            incoming_weights_y,\n",
        "            c = outgoing_weights,\n",
        "            cmap = matplotlib.cm.jet)\n",
        "\n",
        "plt.colorbar()\n",
        "plt.xlabel('w1')\n",
        "plt.ylabel('w2')"
      ],
      "metadata": {
        "colab": {
          "base_uri": "https://localhost:8080/",
          "height": 297
        },
        "id": "ufXZMb0kIST2",
        "outputId": "5784d2c1-8134-4d71-9298-7f59f810f9e1"
      },
      "execution_count": 19,
      "outputs": [
        {
          "output_type": "execute_result",
          "data": {
            "text/plain": [
              "Text(0, 0.5, 'w2')"
            ]
          },
          "metadata": {},
          "execution_count": 19
        },
        {
          "output_type": "display_data",
          "data": {
            "image/png": "[encoded data removed]",
            "text/plain": [
              "<Figure size 432x288 with 2 Axes>"
            ]
          },
          "metadata": {
            "needs_background": "light"
          }
        }
      ]
    },
    {
      "cell_type": "code",
      "source": [
        "# max_loss_data[abs(max_loss_data['w31'] - teacher_neurons_x[0]) == min(abs(max_loss_data['w31'] - teacher_neurons_x[0]) )]\n",
        "# sample_point = max_loss_data[max_loss_data['smallest_heg'] == min(abs(max_loss_data['smallest_heg']))]"
      ],
      "metadata": {
        "id": "Rw2OVgmsJQzm"
      },
      "execution_count": 20,
      "outputs": []
    },
    {
      "cell_type": "code",
      "source": [
        "\n",
        "\n",
        "# for index, row in max_loss_data.iterrows():\n",
        "#   incoming_weights_x, incoming_weights_y, outgoing_weights = extract_weights(row)\n",
        "\n",
        "#   plt.scatter(teacher_neurons_x, teacher_neurons_y, marker=\"*\")\n",
        "#   plt.scatter(incoming_weights_x,\n",
        "#             incoming_weights_y,\n",
        "#             c = outgoing_weights,\n",
        "#             cmap = matplotlib.cm.jet)\n",
        "\n",
        "#   plt.colorbar()\n",
        "#   plt.xlabel('w1')\n",
        "#   plt.ylabel('w2')\n"
      ],
      "metadata": {
        "id": "f6zMwaEvH-bF"
      },
      "execution_count": 21,
      "outputs": []
    },
    {
      "cell_type": "markdown",
      "source": [
        "## Pytorch-based eigenvalue computation"
      ],
      "metadata": {
        "id": "SOyq5Fcz91mF"
      }
    },
    {
      "cell_type": "code",
      "source": [
        "w_in = torch.DoubleTensor([[incoming_weights_x[0], incoming_weights_y[0]],\n",
        "                           [incoming_weights_x[1], incoming_weights_y[1]],\n",
        "                           [incoming_weights_x[2], incoming_weights_y[2]],\n",
        "                           [incoming_weights_x[3], incoming_weights_y[3]],\n",
        "                           [incoming_weights_x[4], incoming_weights_y[4]]])\n",
        "w_out = torch.DoubleTensor([outgoing_weights])\n",
        "dummy_model = DummyNetwork(D_in, H_student, D_out, w_in, w_out)\n",
        "loss_grad = torch.autograd.grad(nn.MSELoss()(dummy_model(dataset), y_labels), dummy_model.parameters(), create_graph=True)\n",
        "grad_norm, hessian = eval_hessian(loss_grad, dummy_model)\n",
        "smallest_eigenvalue = np.min(np.linalg.eigvals(hessian))\n",
        "\n",
        "print('loss at the end: ', nn.MSELoss()(dummy_model(dataset), y_labels))\n",
        "print('gradient norm at the end: ', grad_norm)\n",
        "print('smallest eigenvalue at the end: ', smallest_eigenvalue)"
      ],
      "metadata": {
        "colab": {
          "base_uri": "https://localhost:8080/"
        },
        "id": "MNXhL8UhNF5q",
        "outputId": "63e44e82-7d1d-4026-e002-f5143568b6be"
      },
      "execution_count": 22,
      "outputs": [
        {
          "output_type": "stream",
          "name": "stdout",
          "text": [
            "loss at the end:  tensor(7.3092e-05, grad_fn=<MseLossBackward0>)\n",
            "gradient norm at the end:  7.465256488049789e-12\n",
            "smallest eigenvalue at the end:  2.3260878922249837e-08\n"
          ]
        }
      ]
    },
    {
      "cell_type": "markdown",
      "source": [
        "## Smallest eigenvalue using JAX"
      ],
      "metadata": {
        "id": "prjlJN2MQXmu"
      }
    },
    {
      "cell_type": "code",
      "source": [
        "import jax.numpy as jnp\n",
        "from jax import nn as jax_nn\n",
        "from jax.config import config; config.update(\"jax_enable_x64\", True)\n",
        "jnp.set_printoptions(precision=32)\n",
        "\n",
        "jnp_inputs = jnp.array(construct_dataset(), dtype=jnp.float64)\n",
        "jnp_labels = jnp.array(teacher_model(dataset).detach(), dtype=jnp.float64)\n",
        "\n",
        "def predict(w_in, w_out):\n",
        "  return w_out @ jnp.transpose(jax_nn.sigmoid(jnp_inputs @ jnp.transpose(w_in)))\n",
        "\n",
        "w_in = jnp.array([[incoming_weights_x[0], incoming_weights_y[0]],\n",
        "                  [incoming_weights_x[1], incoming_weights_y[1]],\n",
        "                  [incoming_weights_x[2], incoming_weights_y[2]],\n",
        "                  [incoming_weights_x[3], incoming_weights_y[3]],\n",
        "                  [incoming_weights_x[4], incoming_weights_y[4]]], dtype=jnp.float64)\n",
        "w_out = jnp.array(outgoing_weights, dtype=jnp.float64)"
      ],
      "metadata": {
        "id": "rWPIRfmUQNyA",
        "outputId": "129e09e8-a33b-49c1-933d-ec7bbcb5c40f",
        "colab": {
          "base_uri": "https://localhost:8080/"
        }
      },
      "execution_count": 23,
      "outputs": [
        {
          "output_type": "stream",
          "name": "stderr",
          "text": [
            "WARNING:absl:No GPU/TPU found, falling back to CPU. (Set TF_CPP_MIN_LOG_LEVEL=0 and rerun for more info.)\n"
          ]
        }
      ]
    },
    {
      "cell_type": "markdown",
      "source": [
        "### Loss in JAX"
      ],
      "metadata": {
        "id": "ILeF_n5o-O3o"
      }
    },
    {
      "cell_type": "markdown",
      "source": [
        "Loss of the network computed in JAX."
      ],
      "metadata": {
        "id": "QPLHmUvy-D_H"
      }
    },
    {
      "cell_type": "code",
      "source": [
        "def loss(w):\n",
        "  w_in = w[0 : 2 * H_student].reshape(D_in, H_student).T\n",
        "  w_out = w[2 * H_student : ].reshape(1, H_student)\n",
        "  preds = predict(w_in, w_out).T\n",
        "  return jnp.mean(jnp.mean(jnp.square(preds - jnp_labels)))\n",
        "print(loss(jnp.append(w_in.T.reshape(D_in * H_student), w_out.reshape(H_student))))"
      ],
      "metadata": {
        "colab": {
          "base_uri": "https://localhost:8080/"
        },
        "id": "99LA0Y8IGrZK",
        "outputId": "264d4b15-379e-472c-efe9-ef18174b3cc8"
      },
      "execution_count": 24,
      "outputs": [
        {
          "output_type": "stream",
          "name": "stdout",
          "text": [
            "7.309242870219883e-05\n"
          ]
        }
      ]
    },
    {
      "cell_type": "markdown",
      "source": [
        "### Hessian in JAX"
      ],
      "metadata": {
        "id": "JbhAScdX-RFY"
      }
    },
    {
      "cell_type": "code",
      "source": [
        "from jax import jacfwd, jacrev\n",
        "import jax\n",
        "\n",
        "def hessian(f):\n",
        "    return jacfwd(jacrev(f))\n",
        "\n",
        "H = hessian(loss)(jnp.append(w_in.T.reshape(D_in * H_student), w_out.reshape(H_student)))"
      ],
      "metadata": {
        "id": "nzcFUBhol-tR"
      },
      "execution_count": 25,
      "outputs": []
    },
    {
      "cell_type": "markdown",
      "source": [
        "### Eigenvalues in JAX"
      ],
      "metadata": {
        "id": "vC-S4CtX-W0X"
      }
    },
    {
      "cell_type": "code",
      "source": [
        "evals, evectors = jnp.linalg.eig(H)\n",
        "\n",
        "# Sanity check\n",
        "for eval in jnp.array([jax.lax.imag(eval) for eval in evals]):\n",
        "  assert eval == 0\n",
        "\n",
        "evals = jnp.array([jax.lax.real(eval) for eval in evals])\n",
        "print(evals)\n",
        "smallest_evector = jnp.array([jax.lax.real(elem) for elem in evectors[:, jnp.argmin(evals)]])"
      ],
      "metadata": {
        "colab": {
          "base_uri": "https://localhost:8080/"
        },
        "id": "to7UcBE-sW6w",
        "outputId": "a666ca71-bada-4c94-e0a9-3251afb05f4e"
      },
      "execution_count": 26,
      "outputs": [
        {
          "output_type": "stream",
          "name": "stdout",
          "text": [
            "[4.7558725651568077e+00 4.1540174864057571e+00 2.5115320030537509e+00\n",
            " 7.3010284830155148e-02 5.8827123489885100e-02 1.7916831304755115e-02\n",
            " 1.2039719021313155e-02 4.1217865283770944e-03 2.3347740359760741e-03\n",
            " 1.4720808028028047e-03 6.1805211819197358e-04 1.3378658926538494e-04\n",
            " 6.3366657805488956e-05 2.3260877680273878e-08 3.7828446388743467e-06]\n"
          ]
        }
      ]
    },
    {
      "cell_type": "markdown",
      "source": [
        "## Perturbation (based on JAX evectors)"
      ],
      "metadata": {
        "id": "2OID6WjL-c2i"
      }
    },
    {
      "cell_type": "markdown",
      "source": [
        "### For one random element"
      ],
      "metadata": {
        "id": "XdVQa6t6iETd"
      }
    },
    {
      "cell_type": "code",
      "source": [
        "old_loss = loss(jnp.append(w_in.T.reshape(D_in * H_student), w_out.reshape(H_student)))\n",
        "\n",
        "perturb_lower_bound = -4.0\n",
        "perturb_upper_bound = 4.0\n",
        "perturb_step = 0.01\n",
        "\n",
        "perturb_losses = []\n",
        "perturb_evals = []\n",
        "\n",
        "weights = jnp.append(w_in.T.reshape(D_in * H_student), w_out.reshape(H_student))\n",
        "for eps in np.arange(perturb_lower_bound, perturb_upper_bound, perturb_step):\n",
        "  new_weights = weights + eps * smallest_evector\n",
        "  \n",
        "  H = hessian(loss)(new_weights)\n",
        "  H = (H + H.T) / 2\n",
        "  evals, _ = jnp.linalg.eig(H)\n",
        "\n",
        "  perturb_evals.append(min(evals))\n",
        "  perturb_losses.append(loss(new_weights))\n",
        "\n",
        "fig, (ax1, ax2) = plt.subplots(1, 2)\n",
        "fig.set_size_inches(14.5, 6.5)\n",
        "fig.suptitle('Evolution of loss and smallest eval under perturbation')\n",
        "ax1.plot(np.arange(perturb_lower_bound, perturb_upper_bound, perturb_step), perturb_losses)\n",
        "ax1.ticklabel_format(useOffset=False)\n",
        "ax1.set_xlabel('perturbation factor')\n",
        "ax1.set_ylabel('loss')\n",
        "\n",
        "ax2.plot(np.arange(perturb_lower_bound, perturb_upper_bound, perturb_step), perturb_evals)\n",
        "ax2.set_xlabel('perturbation factor')\n",
        "ax2.set_ylabel('smallest eval')"
      ],
      "metadata": {
        "colab": {
          "base_uri": "https://localhost:8080/",
          "height": 535
        },
        "id": "epGcpd0xxPA8",
        "outputId": "8e696b3c-1f5e-4474-f532-d04878808cde"
      },
      "execution_count": 27,
      "outputs": [
        {
          "output_type": "stream",
          "name": "stderr",
          "text": [
            "/usr/local/lib/python3.7/dist-packages/matplotlib/cbook/__init__.py:1317: ComplexWarning: Casting complex values to real discards the imaginary part\n",
            "  return np.asarray(x, float)\n"
          ]
        },
        {
          "output_type": "execute_result",
          "data": {
            "text/plain": [
              "Text(0, 0.5, 'smallest eval')"
            ]
          },
          "metadata": {},
          "execution_count": 27
        },
        {
          "output_type": "display_data",
          "data": {
            "image/png": "[encoded data removed]",
            "text/plain": [
              "<Figure size 1044x468 with 2 Axes>"
            ]
          },
          "metadata": {
            "needs_background": "light"
          }
        }
      ]
    },
    {
      "cell_type": "markdown",
      "source": [
        "### For the entire set of high loss points"
      ],
      "metadata": {
        "id": "UJ6PKfeuiGUu"
      }
    },
    {
      "cell_type": "code",
      "source": [
        "# num_saddles = 0\n",
        "# num_local_minima = 0\n",
        "# num_total = len(max_loss_data)\n",
        "# max_diff = -float(\"inf\")\n",
        "# max_abs_smallest_eval_arr = []\n",
        "\n",
        "# for index, row in max_loss_data.iterrows():\n",
        "#   old_loss = row['loss']\n",
        "#   incoming_weights_x, incoming_weights_y, outgoing_weights = extract_weights(row)\n",
        "\n",
        "#   w_in = jnp.array([[incoming_weights_x[0], incoming_weights_y[0]],\n",
        "#                   [incoming_weights_x[1], incoming_weights_y[1]],\n",
        "#                   [incoming_weights_x[2], incoming_weights_y[2]],\n",
        "#                   [incoming_weights_x[3], incoming_weights_y[3]],\n",
        "#                   [incoming_weights_x[4], incoming_weights_y[4]]], dtype=jnp.float64)\n",
        "#   w_out = jnp.array(outgoing_weights, dtype=jnp.float64)\n",
        "#   weights = jnp.append(w_in.T.reshape(D_in * H_student), w_out.reshape(H_student))\n",
        "\n",
        "#   H = hessian(loss)(jnp.append(w_in.T.reshape(D_in * H_student), w_out.reshape(H_student)))\n",
        "#   H = (H + H.T) / 2\n",
        "#   evals, evectors = jnp.linalg.eig(H)\n",
        "\n",
        "#   # Sanity check\n",
        "#   for eval in jnp.array([jax.lax.imag(eval) for eval in evals]):\n",
        "#     assert eval == 0\n",
        "\n",
        "#   evals = jnp.array([jax.lax.real(eval) for eval in evals])\n",
        "#   smallest_evector = jnp.array([jax.lax.real(elem) for elem in evectors[:, jnp.argmin(evals)]])\n",
        "\n",
        "#   max_abs_smallest_eval = -float(\"inf\")\n",
        "\n",
        "#   for eps in np.arange(perturb_lower_bound, perturb_upper_bound, perturb_step):\n",
        "#     new_weights = weights + eps * smallest_evector\n",
        "#     # print(old_loss, loss(new_weights))\n",
        "#     # print(old_loss - loss(new_weights) - old_loss / 100.0)\n",
        "#     perturbed_H = hessian(loss)(new_weights)\n",
        "#     perturbed_H = (perturbed_H + perturbed_H.T) / 2\n",
        "#     perturbed_evals, _ = jnp.linalg.eig(perturbed_H)\n",
        "\n",
        "#     max_diff = max(max_diff, old_loss - loss(new_weights))\n",
        "#     max_abs_smallest_eval = max(abs(min(perturbed_evals)), max_abs_smallest_eval)\n",
        "#   max_abs_smallest_eval_arr.append(max_abs_smallest_eval)\n",
        "\n",
        "# print('max diff between the original loss and the computed loss: ', max_diff)\n",
        "# print(max_abs_smallest_eval_arr)"
      ],
      "metadata": {
        "id": "fCTD9QI2iLaa"
      },
      "execution_count": 28,
      "outputs": []
    },
    {
      "cell_type": "code",
      "source": [
        "# print(len(max_abs_smallest_eval_arr))"
      ],
      "metadata": {
        "id": "DMK8Egxx5OCU"
      },
      "execution_count": 29,
      "outputs": []
    }
  ]
}