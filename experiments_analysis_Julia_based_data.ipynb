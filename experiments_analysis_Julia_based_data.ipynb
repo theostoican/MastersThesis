{
  "nbformat": 4,
  "nbformat_minor": 0,
  "metadata": {
    "colab": {
      "name": "experiments_analysis-Julia-based_data.ipynb",
      "provenance": [],
      "collapsed_sections": [],
      "authorship_tag": "ABX9TyP75pXY1EqtZRkoWQ7kV46v",
      "include_colab_link": true
    },
    "kernelspec": {
      "name": "python3",
      "display_name": "Python 3"
    },
    "language_info": {
      "name": "python"
    }
  },
  "cells": [
    {
      "cell_type": "markdown",
      "metadata": {
        "id": "view-in-github",
        "colab_type": "text"
      },
      "source": [
        "<a href=\"https://colab.research.google.com/github/theostoican/MastersThesis/blob/main/experiments_analysis_Julia_based_data.ipynb\" target=\"_parent\"><img src=\"https://colab.research.google.com/assets/colab-badge.svg\" alt=\"Open In Colab\"/></a>"
      ]
    },
    {
      "cell_type": "code",
      "execution_count": 1106,
      "metadata": {
        "id": "HR-JuDus4Dgg"
      },
      "outputs": [],
      "source": [
        "import matplotlib.pyplot as plt\n",
        "import matplotlib\n",
        "import pandas as pd\n",
        "import numpy as np\n",
        "\n",
        "import torch\n",
        "import torch.nn as nn\n",
        "from torch.autograd import Variable"
      ]
    },
    {
      "cell_type": "markdown",
      "source": [
        "# Helpers for plotting the trajectories of the weights of the neurons"
      ],
      "metadata": {
        "id": "MKMT2fhjFIW6"
      }
    },
    {
      "cell_type": "code",
      "source": [
        "def plot_trajectories(data_row):\n",
        "  convergence_neurons_incoming_x = []\n",
        "  convergence_neurons_incoming_y = []\n",
        "  convergence_neurons_outgoing = []\n",
        "\n",
        "  for i in range(0, int(data_row['student size'])):\n",
        "    neuron_traj_x = np.fromstring(data_row['neuron_' + str(i) + '_traj_x'].values[0][1:-1], dtype=float, sep=',')\n",
        "    neuron_traj_y = np.fromstring(data_row['neuron_' + str(i) + '_traj_y'].values[0][1:-1], dtype=float, sep=',')\n",
        "    plt.plot(neuron_traj_x, neuron_traj_y)\n",
        "  \n",
        "    convergence_neurons_incoming_x.append(neuron_traj_x[-1])\n",
        "    convergence_neurons_incoming_y.append(neuron_traj_y[-1])\n",
        "\n",
        "    neuron_a = float(data_row['neuron_' + str(i) + '_a'].values[0])\n",
        "    convergence_neurons_outgoing.append(neuron_a)\n",
        "\n",
        "  teacher_neurons_x = np.fromstring(data_row['teacher_neurons_x'].values[0][1 : -1], dtype=float, sep=',')\n",
        "  teacher_neurons_y = np.fromstring(data_row['teacher_neurons_y'].values[0][1 : -1], dtype=float, sep=',')\n",
        "  plt.scatter(teacher_neurons_x, teacher_neurons_y, marker=\"*\")\n",
        "\n",
        "  plt.scatter(convergence_neurons_incoming_x,\n",
        "            convergence_neurons_incoming_y,\n",
        "            c = convergence_neurons_outgoing,\n",
        "            cmap=matplotlib.cm.jet)\n",
        "  plt.colorbar()"
      ],
      "metadata": {
        "id": "cyh_igQ37r0u"
      },
      "execution_count": 1107,
      "outputs": []
    },
    {
      "cell_type": "markdown",
      "source": [
        "# Read the data from the .csv file"
      ],
      "metadata": {
        "id": "_xd7SAYBFB-c"
      }
    },
    {
      "cell_type": "code",
      "source": [
        "data = pd.read_csv('fixed_points.csv', float_precision='round_trip')\n",
        "\n",
        "len(data)"
      ],
      "metadata": {
        "colab": {
          "base_uri": "https://localhost:8080/"
        },
        "id": "QiMGa1Ib64YR",
        "outputId": "4e282413-09cf-4d67-f472-5d63d96f23ab"
      },
      "execution_count": 1108,
      "outputs": [
        {
          "output_type": "execute_result",
          "data": {
            "text/plain": [
              "1000"
            ]
          },
          "metadata": {},
          "execution_count": 1108
        }
      ]
    },
    {
      "cell_type": "code",
      "source": [
        "data.head()"
      ],
      "metadata": {
        "colab": {
          "base_uri": "https://localhost:8080/",
          "height": 357
        },
        "id": "Lz-VFq2mPBIw",
        "outputId": "f96118e3-4540-4b06-98d5-c4c593b15a58"
      },
      "execution_count": 1109,
      "outputs": [
        {
          "output_type": "execute_result",
          "data": {
            "text/html": [
              "\n",
              "  <div id=\"df-ae56e062-2768-4570-85b9-1efcc090d78b\">\n",
              "    <div class=\"colab-df-container\">\n",
              "      <div>\n",
              "<style scoped>\n",
              "    .dataframe tbody tr th:only-of-type {\n",
              "        vertical-align: middle;\n",
              "    }\n",
              "\n",
              "    .dataframe tbody tr th {\n",
              "        vertical-align: top;\n",
              "    }\n",
              "\n",
              "    .dataframe thead th {\n",
              "        text-align: right;\n",
              "    }\n",
              "</style>\n",
              "<table border=\"1\" class=\"dataframe\">\n",
              "  <thead>\n",
              "    <tr style=\"text-align: right;\">\n",
              "      <th></th>\n",
              "      <th>activation</th>\n",
              "      <th>N</th>\n",
              "      <th>Ninner</th>\n",
              "      <th>seed</th>\n",
              "      <th>maxtime</th>\n",
              "      <th>loss</th>\n",
              "      <th>smallest_heg</th>\n",
              "      <th>gradient_norm</th>\n",
              "      <th>w11</th>\n",
              "      <th>w21</th>\n",
              "      <th>w31</th>\n",
              "      <th>w41</th>\n",
              "      <th>w51</th>\n",
              "      <th>w12</th>\n",
              "      <th>w22</th>\n",
              "      <th>w32</th>\n",
              "      <th>w42</th>\n",
              "      <th>w52</th>\n",
              "      <th>a1</th>\n",
              "      <th>a2</th>\n",
              "      <th>a3</th>\n",
              "      <th>a4</th>\n",
              "      <th>a5</th>\n",
              "    </tr>\n",
              "  </thead>\n",
              "  <tbody>\n",
              "    <tr>\n",
              "      <th>0</th>\n",
              "      <td>sigmoid</td>\n",
              "      <td>10</td>\n",
              "      <td>100000</td>\n",
              "      <td>1</td>\n",
              "      <td>3600</td>\n",
              "      <td>7.340982e-05</td>\n",
              "      <td>9.070762e-12</td>\n",
              "      <td>8.036297e-10</td>\n",
              "      <td>-1.296618</td>\n",
              "      <td>-0.902262</td>\n",
              "      <td>-1.277936</td>\n",
              "      <td>0.194223</td>\n",
              "      <td>-0.730563</td>\n",
              "      <td>1.042003</td>\n",
              "      <td>-0.585449</td>\n",
              "      <td>1.029128</td>\n",
              "      <td>-0.054116</td>\n",
              "      <td>1.487154</td>\n",
              "      <td>1.097378e+01</td>\n",
              "      <td>-0.454981</td>\n",
              "      <td>-11.366674</td>\n",
              "      <td>0.776118</td>\n",
              "      <td>7.176519e-02</td>\n",
              "    </tr>\n",
              "    <tr>\n",
              "      <th>1</th>\n",
              "      <td>sigmoid</td>\n",
              "      <td>10</td>\n",
              "      <td>100000</td>\n",
              "      <td>10</td>\n",
              "      <td>3600</td>\n",
              "      <td>3.064903e-31</td>\n",
              "      <td>-7.535396e-17</td>\n",
              "      <td>3.620881e-16</td>\n",
              "      <td>-0.200000</td>\n",
              "      <td>-0.500000</td>\n",
              "      <td>-0.500001</td>\n",
              "      <td>-0.100000</td>\n",
              "      <td>-0.600000</td>\n",
              "      <td>-0.600000</td>\n",
              "      <td>0.500000</td>\n",
              "      <td>0.500000</td>\n",
              "      <td>0.600000</td>\n",
              "      <td>-0.500000</td>\n",
              "      <td>1.000000e+00</td>\n",
              "      <td>-0.920254</td>\n",
              "      <td>-0.079746</td>\n",
              "      <td>1.000000</td>\n",
              "      <td>-1.000000e+00</td>\n",
              "    </tr>\n",
              "    <tr>\n",
              "      <th>2</th>\n",
              "      <td>sigmoid</td>\n",
              "      <td>10</td>\n",
              "      <td>100000</td>\n",
              "      <td>100</td>\n",
              "      <td>3600</td>\n",
              "      <td>1.701555e-32</td>\n",
              "      <td>-8.088575e-19</td>\n",
              "      <td>2.537475e-17</td>\n",
              "      <td>0.441250</td>\n",
              "      <td>-0.600000</td>\n",
              "      <td>-0.500000</td>\n",
              "      <td>-0.100000</td>\n",
              "      <td>-0.200000</td>\n",
              "      <td>-0.603799</td>\n",
              "      <td>-0.500000</td>\n",
              "      <td>0.500000</td>\n",
              "      <td>0.600000</td>\n",
              "      <td>-0.600000</td>\n",
              "      <td>1.779090e-14</td>\n",
              "      <td>-1.000000</td>\n",
              "      <td>-1.000000</td>\n",
              "      <td>1.000000</td>\n",
              "      <td>1.000000e+00</td>\n",
              "    </tr>\n",
              "    <tr>\n",
              "      <th>3</th>\n",
              "      <td>sigmoid</td>\n",
              "      <td>10</td>\n",
              "      <td>100000</td>\n",
              "      <td>1000</td>\n",
              "      <td>3600</td>\n",
              "      <td>1.510018e-32</td>\n",
              "      <td>1.942791e-19</td>\n",
              "      <td>7.187402e-17</td>\n",
              "      <td>-0.500000</td>\n",
              "      <td>-0.100000</td>\n",
              "      <td>-0.600000</td>\n",
              "      <td>-0.200000</td>\n",
              "      <td>0.510745</td>\n",
              "      <td>0.500000</td>\n",
              "      <td>0.600000</td>\n",
              "      <td>-0.500000</td>\n",
              "      <td>-0.600000</td>\n",
              "      <td>-0.408655</td>\n",
              "      <td>-1.000000e+00</td>\n",
              "      <td>1.000000</td>\n",
              "      <td>-1.000000</td>\n",
              "      <td>1.000000</td>\n",
              "      <td>-3.185828e-15</td>\n",
              "    </tr>\n",
              "    <tr>\n",
              "      <th>4</th>\n",
              "      <td>sigmoid</td>\n",
              "      <td>10</td>\n",
              "      <td>100000</td>\n",
              "      <td>101</td>\n",
              "      <td>3600</td>\n",
              "      <td>9.824220e-05</td>\n",
              "      <td>1.479210e-10</td>\n",
              "      <td>1.013867e-09</td>\n",
              "      <td>1.420720</td>\n",
              "      <td>1.946299</td>\n",
              "      <td>-0.805450</td>\n",
              "      <td>-0.009467</td>\n",
              "      <td>-1.455685</td>\n",
              "      <td>-0.961272</td>\n",
              "      <td>1.627585</td>\n",
              "      <td>-0.480423</td>\n",
              "      <td>0.002230</td>\n",
              "      <td>0.980023</td>\n",
              "      <td>6.941624e+00</td>\n",
              "      <td>0.047830</td>\n",
              "      <td>-0.435888</td>\n",
              "      <td>-13.146253</td>\n",
              "      <td>6.592686e+00</td>\n",
              "    </tr>\n",
              "  </tbody>\n",
              "</table>\n",
              "</div>\n",
              "      <button class=\"colab-df-convert\" onclick=\"convertToInteractive('df-ae56e062-2768-4570-85b9-1efcc090d78b')\"\n",
              "              title=\"Convert this dataframe to an interactive table.\"\n",
              "              style=\"display:none;\">\n",
              "        \n",
              "  <svg xmlns=\"http://www.w3.org/2000/svg\" height=\"24px\"viewBox=\"0 0 24 24\"\n",
              "       width=\"24px\">\n",
              "    <path d=\"M0 0h24v24H0V0z\" fill=\"none\"/>\n",
              "    <path d=\"M18.56 5.44l.94 2.06.94-2.06 2.06-.94-2.06-.94-.94-2.06-.94 2.06-2.06.94zm-11 1L8.5 8.5l.94-2.06 2.06-.94-2.06-.94L8.5 2.5l-.94 2.06-2.06.94zm10 10l.94 2.06.94-2.06 2.06-.94-2.06-.94-.94-2.06-.94 2.06-2.06.94z\"/><path d=\"M17.41 7.96l-1.37-1.37c-.4-.4-.92-.59-1.43-.59-.52 0-1.04.2-1.43.59L10.3 9.45l-7.72 7.72c-.78.78-.78 2.05 0 2.83L4 21.41c.39.39.9.59 1.41.59.51 0 1.02-.2 1.41-.59l7.78-7.78 2.81-2.81c.8-.78.8-2.07 0-2.86zM5.41 20L4 18.59l7.72-7.72 1.47 1.35L5.41 20z\"/>\n",
              "  </svg>\n",
              "      </button>\n",
              "      \n",
              "  <style>\n",
              "    .colab-df-container {\n",
              "      display:flex;\n",
              "      flex-wrap:wrap;\n",
              "      gap: 12px;\n",
              "    }\n",
              "\n",
              "    .colab-df-convert {\n",
              "      background-color: #E8F0FE;\n",
              "      border: none;\n",
              "      border-radius: 50%;\n",
              "      cursor: pointer;\n",
              "      display: none;\n",
              "      fill: #1967D2;\n",
              "      height: 32px;\n",
              "      padding: 0 0 0 0;\n",
              "      width: 32px;\n",
              "    }\n",
              "\n",
              "    .colab-df-convert:hover {\n",
              "      background-color: #E2EBFA;\n",
              "      box-shadow: 0px 1px 2px rgba(60, 64, 67, 0.3), 0px 1px 3px 1px rgba(60, 64, 67, 0.15);\n",
              "      fill: #174EA6;\n",
              "    }\n",
              "\n",
              "    [theme=dark] .colab-df-convert {\n",
              "      background-color: #3B4455;\n",
              "      fill: #D2E3FC;\n",
              "    }\n",
              "\n",
              "    [theme=dark] .colab-df-convert:hover {\n",
              "      background-color: #434B5C;\n",
              "      box-shadow: 0px 1px 3px 1px rgba(0, 0, 0, 0.15);\n",
              "      filter: drop-shadow(0px 1px 2px rgba(0, 0, 0, 0.3));\n",
              "      fill: #FFFFFF;\n",
              "    }\n",
              "  </style>\n",
              "\n",
              "      <script>\n",
              "        const buttonEl =\n",
              "          document.querySelector('#df-ae56e062-2768-4570-85b9-1efcc090d78b button.colab-df-convert');\n",
              "        buttonEl.style.display =\n",
              "          google.colab.kernel.accessAllowed ? 'block' : 'none';\n",
              "\n",
              "        async function convertToInteractive(key) {\n",
              "          const element = document.querySelector('#df-ae56e062-2768-4570-85b9-1efcc090d78b');\n",
              "          const dataTable =\n",
              "            await google.colab.kernel.invokeFunction('convertToInteractive',\n",
              "                                                     [key], {});\n",
              "          if (!dataTable) return;\n",
              "\n",
              "          const docLinkHtml = 'Like what you see? Visit the ' +\n",
              "            '<a target=\"_blank\" href=https://colab.research.google.com/notebooks/data_table.ipynb>data table notebook</a>'\n",
              "            + ' to learn more about interactive tables.';\n",
              "          element.innerHTML = '';\n",
              "          dataTable['output_type'] = 'display_data';\n",
              "          await google.colab.output.renderOutput(dataTable, element);\n",
              "          const docLink = document.createElement('div');\n",
              "          docLink.innerHTML = docLinkHtml;\n",
              "          element.appendChild(docLink);\n",
              "        }\n",
              "      </script>\n",
              "    </div>\n",
              "  </div>\n",
              "  "
            ],
            "text/plain": [
              "  activation   N  Ninner  seed  ...        a2         a3         a4            a5\n",
              "0    sigmoid  10  100000     1  ... -0.454981 -11.366674   0.776118  7.176519e-02\n",
              "1    sigmoid  10  100000    10  ... -0.920254  -0.079746   1.000000 -1.000000e+00\n",
              "2    sigmoid  10  100000   100  ... -1.000000  -1.000000   1.000000  1.000000e+00\n",
              "3    sigmoid  10  100000  1000  ...  1.000000  -1.000000   1.000000 -3.185828e-15\n",
              "4    sigmoid  10  100000   101  ...  0.047830  -0.435888 -13.146253  6.592686e+00\n",
              "\n",
              "[5 rows x 23 columns]"
            ]
          },
          "metadata": {},
          "execution_count": 1109
        }
      ]
    },
    {
      "cell_type": "markdown",
      "source": [
        "# Models"
      ],
      "metadata": {
        "id": "KiYPQo928tIe"
      }
    },
    {
      "cell_type": "markdown",
      "source": [
        "A dummy network that receives as input the precomputed incoming and outgoing weights and sets them directly."
      ],
      "metadata": {
        "id": "-nq_zF38llaS"
      }
    },
    {
      "cell_type": "code",
      "source": [
        "torch.set_default_dtype(torch.float64)\n",
        "class DummyNetwork(nn.Module):\n",
        "  def __init__(self, D_in, H, D_out, w_in, w_out):\n",
        "    \"\"\"\n",
        "    In the constructor we instantiate two nn.Linear modules and assign them as\n",
        "    member variables.\n",
        "\n",
        "    D_in: input dimension\n",
        "    H: dimension of hidden layer\n",
        "    D_out: output dimension of the first layer\n",
        "    \"\"\"\n",
        "    super(DummyNetwork, self).__init__()\n",
        "    self.linear1 = nn.Linear(D_in, H, bias=False)\n",
        "    self.linear2 = nn.Linear(H, D_out, bias=False)\n",
        "    self.linear1.weight = torch.nn.Parameter(w_in)\n",
        "    self.linear2.weight = torch.nn.Parameter(w_out)\n",
        "  def forward(self, x):\n",
        "    \"\"\"\n",
        "    In the forward function we accept a Variable of input data and we must\n",
        "    return a Variable of output data. We can use Modules defined in the\n",
        "    constructor as well as arbitrary operators on Variables.\n",
        "    \"\"\"\n",
        "    h_sigmoid = torch.sigmoid(self.linear1(x))\n",
        "    y_pred = self.linear2(h_sigmoid)\n",
        "    return y_pred"
      ],
      "metadata": {
        "id": "9mR9ZDc-li1t"
      },
      "execution_count": 1110,
      "outputs": []
    },
    {
      "cell_type": "markdown",
      "source": [
        "Teacher model"
      ],
      "metadata": {
        "id": "efinskp8bpTr"
      }
    },
    {
      "cell_type": "code",
      "source": [
        "class TeacherNetwork(nn.Module):\n",
        "  def __init__(self, D_in, H, D_out):\n",
        "    \"\"\"\n",
        "    In the constructor we instantiate two nn.Linear modules and assign them as\n",
        "    member variables.\n",
        "\n",
        "    D_in: input dimension\n",
        "    H: dimension of hidden layer\n",
        "    D_out: output dimension of the first layer\n",
        "    \"\"\"\n",
        "    super(TeacherNetwork, self).__init__()\n",
        "    self.linear1 = nn.Linear(D_in, H, bias=False)\n",
        "    self.linear2 = nn.Linear(H, D_out, bias=False)\n",
        "    self.linear1.weight = torch.nn.Parameter(torch.transpose(torch.DoubleTensor([[0.6, -0.5, -0.2, 0.1], [0.5, 0.5, -0.6, -0.6]]), 0, 1))\n",
        "    self.linear2.weight = torch.nn.Parameter(torch.transpose(torch.DoubleTensor([[1], [-1], [1], [-1]]), 0, 1))\n",
        "  def forward(self, x):\n",
        "    \"\"\"\n",
        "    In the forward function we accept a Variable of input data and we must\n",
        "    return a Variable of output data. We can use Modules defined in the\n",
        "    constructor as well as arbitrary operators on Variables.\n",
        "    \"\"\"\n",
        "    h_sigmoid = torch.sigmoid(self.linear1(x))\n",
        "    y_pred = self.linear2(h_sigmoid)\n",
        "    return y_pred"
      ],
      "metadata": {
        "id": "Hqwok2Kyc771"
      },
      "execution_count": 1111,
      "outputs": []
    },
    {
      "cell_type": "markdown",
      "source": [
        "# Dataset"
      ],
      "metadata": {
        "id": "agSXav339FMW"
      }
    },
    {
      "cell_type": "code",
      "source": [
        "D_in, H_teacher, H_student, D_out = 2, 4, 5, 1\n",
        "\n",
        "def construct_dataset():\n",
        "  data = []\n",
        "  for y in np.arange(-5, 5.1, .25):\n",
        "    for x in np.arange(-5, 5.1, .25):\n",
        "      data.append([x, y])\n",
        "  return data\n",
        "\n",
        "dataset = torch.DoubleTensor(construct_dataset()) \n",
        "print(len(construct_dataset()))"
      ],
      "metadata": {
        "colab": {
          "base_uri": "https://localhost:8080/"
        },
        "id": "B_ahyjA-bu_O",
        "outputId": "684df0ad-401b-4f41-f7dd-85aab1230686"
      },
      "execution_count": 1112,
      "outputs": [
        {
          "output_type": "stream",
          "name": "stdout",
          "text": [
            "1681\n"
          ]
        }
      ]
    },
    {
      "cell_type": "markdown",
      "source": [
        "# Labels"
      ],
      "metadata": {
        "id": "loCS9I5L9Htc"
      }
    },
    {
      "cell_type": "code",
      "source": [
        "teacher_model = TeacherNetwork(D_in, H_teacher, D_out)\n",
        "y_labels = teacher_model(dataset).detach()"
      ],
      "metadata": {
        "id": "vQjZ7UIfdBbT"
      },
      "execution_count": 1113,
      "outputs": []
    },
    {
      "cell_type": "markdown",
      "source": [
        "# Pytorch-based helper for computing the Hessian"
      ],
      "metadata": {
        "id": "Xw4duwCNddQb"
      }
    },
    {
      "cell_type": "code",
      "source": [
        "def eval_hessian(loss_grad, model):\n",
        "  cnt = 0\n",
        "  for g in loss_grad:\n",
        "      g_vector = g.contiguous().view(-1) if cnt == 0 else torch.cat([g_vector, g.contiguous().view(-1)])\n",
        "      cnt = 1\n",
        "  grad_norm = torch.norm(g_vector)\n",
        "  l = g_vector.size(0)\n",
        "  hessian = torch.zeros((l, l), dtype = torch.float64)\n",
        "  for idx in range(l):\n",
        "      grad2rd = torch.autograd.grad(g_vector[idx], model.parameters(), create_graph=True)\n",
        "      cnt = 0\n",
        "      for g in grad2rd: \n",
        "          g2 = g.contiguous().view(-1) if cnt == 0 else torch.cat([g2, g.contiguous().view(-1)])\n",
        "          cnt = 1\n",
        "      hessian[idx] = g2\n",
        "  # Symmetrize the Hessian.\n",
        "  hessian = (hessian + hessian.T) / 2\n",
        "  return grad_norm.detach().numpy(), hessian.detach().numpy()"
      ],
      "metadata": {
        "id": "kr6e_Wpbdctf"
      },
      "execution_count": 1114,
      "outputs": []
    },
    {
      "cell_type": "markdown",
      "source": [
        "# Selection of high loss points"
      ],
      "metadata": {
        "id": "YQzVmzY59Ty1"
      }
    },
    {
      "cell_type": "code",
      "source": [
        "max_loss_data = data[data['loss'] >= 1e-6]\n",
        "len(max_loss_data)"
      ],
      "metadata": {
        "colab": {
          "base_uri": "https://localhost:8080/"
        },
        "id": "yOgIvE2mCrvQ",
        "outputId": "468236a4-23e5-4c7b-b9ce-0637ceff3d2d"
      },
      "execution_count": 1115,
      "outputs": [
        {
          "output_type": "execute_result",
          "data": {
            "text/plain": [
              "434"
            ]
          },
          "metadata": {},
          "execution_count": 1115
        }
      ]
    },
    {
      "cell_type": "markdown",
      "source": [
        "## Select the point with minimum eigenvalue (in magnitude)"
      ],
      "metadata": {
        "id": "O6Yy6DFJ9jE7"
      }
    },
    {
      "cell_type": "markdown",
      "source": [
        "### Helper for extracting the weights from one data point."
      ],
      "metadata": {
        "id": "ueyRqoqF2bNm"
      }
    },
    {
      "cell_type": "code",
      "source": [
        "def extract_weights(data_point):\n",
        "  incoming_weights_x = [data_point['w11'],\n",
        "                      data_point['w21'],\n",
        "                      data_point['w31'],\n",
        "                      data_point['w41'],\n",
        "                      data_point['w51']]\n",
        "  incoming_weights_y = [data_point['w12'],\n",
        "                      data_point['w22'],\n",
        "                      data_point['w32'],\n",
        "                      data_point['w42'],\n",
        "                      data_point['w52']]\n",
        "  outgoing_weights = [data_point['a1'],\n",
        "                    data_point['a2'],\n",
        "                    data_point['a3'],\n",
        "                    data_point['a4'],\n",
        "                    data_point['a5']]\n",
        "  return incoming_weights_x, incoming_weights_y, outgoing_weights"
      ],
      "metadata": {
        "id": "cVYwzm-w24Go"
      },
      "execution_count": 1116,
      "outputs": []
    },
    {
      "cell_type": "code",
      "source": [
        "# sample_point = max_loss_data[max_loss_data['smallest_heg'] == min(abs(max_loss_data['smallest_heg']))]\n",
        "sample_point = max_loss_data.sample()\n",
        "for _, sample_point in max_loss_data.sample().iterrows():\n",
        "  pass\n",
        "sample_point"
      ],
      "metadata": {
        "colab": {
          "base_uri": "https://localhost:8080/"
        },
        "id": "id_-izg-DQsu",
        "outputId": "d5ee16e6-a846-404e-b550-05d4ebede934"
      },
      "execution_count": 1117,
      "outputs": [
        {
          "output_type": "execute_result",
          "data": {
            "text/plain": [
              "activation         sigmoid\n",
              "N                       10\n",
              "Ninner              100000\n",
              "seed                   657\n",
              "maxtime               3600\n",
              "loss               0.00009\n",
              "smallest_heg           0.0\n",
              "gradient_norm          0.0\n",
              "w11              -1.400478\n",
              "w21               0.196381\n",
              "w31              -1.375707\n",
              "w41              -1.356001\n",
              "w51              -1.380955\n",
              "w12               0.947752\n",
              "w22              -0.023934\n",
              "w32              -0.763668\n",
              "w42              -0.756193\n",
              "w52               0.937517\n",
              "a1               11.336189\n",
              "a2                0.772326\n",
              "a3               11.276441\n",
              "a4              -11.697099\n",
              "a5              -11.687851\n",
              "Name: 620, dtype: object"
            ]
          },
          "metadata": {},
          "execution_count": 1117
        }
      ]
    },
    {
      "cell_type": "code",
      "source": [
        "sample_point['loss']"
      ],
      "metadata": {
        "colab": {
          "base_uri": "https://localhost:8080/"
        },
        "id": "eOevC2rJxGlY",
        "outputId": "b1aec1df-f5fd-4888-ec5b-b0f7d24fee05"
      },
      "execution_count": 1118,
      "outputs": [
        {
          "output_type": "execute_result",
          "data": {
            "text/plain": [
              "8.962082699106193e-05"
            ]
          },
          "metadata": {},
          "execution_count": 1118
        }
      ]
    },
    {
      "cell_type": "code",
      "source": [
        "sample_point['gradient_norm']"
      ],
      "metadata": {
        "colab": {
          "base_uri": "https://localhost:8080/"
        },
        "id": "uyBNM1RhxbGt",
        "outputId": "45a6392f-af25-4793-adac-62b1b8199f42"
      },
      "execution_count": 1119,
      "outputs": [
        {
          "output_type": "execute_result",
          "data": {
            "text/plain": [
              "2.733594897470309e-10"
            ]
          },
          "metadata": {},
          "execution_count": 1119
        }
      ]
    },
    {
      "cell_type": "code",
      "source": [
        "sample_point['smallest_heg']"
      ],
      "metadata": {
        "colab": {
          "base_uri": "https://localhost:8080/"
        },
        "id": "R15JPuXiZPNg",
        "outputId": "0ef07ae3-cdcc-4bb8-d8db-7f5019f6686e"
      },
      "execution_count": 1120,
      "outputs": [
        {
          "output_type": "execute_result",
          "data": {
            "text/plain": [
              "2.5160351351332476e-11"
            ]
          },
          "metadata": {},
          "execution_count": 1120
        }
      ]
    },
    {
      "cell_type": "code",
      "source": [
        "incoming_weights_x, incoming_weights_y, outgoing_weights = extract_weights(sample_point)\n",
        "print(incoming_weights_x)\n",
        "print(incoming_weights_y)\n",
        "print(outgoing_weights)"
      ],
      "metadata": {
        "colab": {
          "base_uri": "https://localhost:8080/"
        },
        "id": "qIoT_UQPFaC4",
        "outputId": "2d7ffe6b-6994-475d-ce76-91735de8a07b"
      },
      "execution_count": 1121,
      "outputs": [
        {
          "output_type": "stream",
          "name": "stdout",
          "text": [
            "[-1.4004782114370877, 0.19638115218812396, -1.3757065397487422, -1.3560013953497982, -1.380954619942356]\n",
            "[0.947752196093478, -0.02393417890046549, -0.7636682955570004, -0.7561928190905864, 0.9375173020382866]\n",
            "[11.33618854716477, 0.7723263235283436, 11.276440998975398, -11.69709872637106, -11.687850547717629]\n"
          ]
        }
      ]
    },
    {
      "cell_type": "code",
      "source": [
        "teacher_neurons_x = [0.6, -0.5, -0.2, 0.1]\n",
        "teacher_neurons_y = [0.5, 0.5, -0.6, -0.6]"
      ],
      "metadata": {
        "id": "jv4zxr2KIpVw"
      },
      "execution_count": 1122,
      "outputs": []
    },
    {
      "cell_type": "markdown",
      "source": [
        "## Plotting of the neuron point"
      ],
      "metadata": {
        "id": "TW8LtUQe9uaF"
      }
    },
    {
      "cell_type": "code",
      "source": [
        "plt.scatter(teacher_neurons_x, teacher_neurons_y, marker=\"*\")\n",
        "\n",
        "plt.scatter(incoming_weights_x,\n",
        "            incoming_weights_y,\n",
        "            c = outgoing_weights,\n",
        "            cmap = matplotlib.cm.jet)\n",
        "\n",
        "plt.colorbar()\n",
        "plt.xlabel('w1')\n",
        "plt.ylabel('w2')"
      ],
      "metadata": {
        "colab": {
          "base_uri": "https://localhost:8080/",
          "height": 297
        },
        "id": "ufXZMb0kIST2",
        "outputId": "390dfaf8-0db7-4144-9eed-d25bc7323389"
      },
      "execution_count": 1123,
      "outputs": [
        {
          "output_type": "execute_result",
          "data": {
            "text/plain": [
              "Text(0, 0.5, 'w2')"
            ]
          },
          "metadata": {},
          "execution_count": 1123
        },
        {
          "output_type": "display_data",
          "data": {
            "image/png": "[encoded data removed]",
            "text/plain": [
              "<Figure size 432x288 with 2 Axes>"
            ]
          },
          "metadata": {
            "needs_background": "light"
          }
        }
      ]
    },
    {
      "cell_type": "markdown",
      "source": [
        "## Pytorch-based eigenvalue computation"
      ],
      "metadata": {
        "id": "SOyq5Fcz91mF"
      }
    },
    {
      "cell_type": "code",
      "source": [
        "w_in = torch.DoubleTensor([[incoming_weights_x[0], incoming_weights_y[0]],\n",
        "                           [incoming_weights_x[1], incoming_weights_y[1]],\n",
        "                           [incoming_weights_x[2], incoming_weights_y[2]],\n",
        "                           [incoming_weights_x[3], incoming_weights_y[3]],\n",
        "                           [incoming_weights_x[4], incoming_weights_y[4]]])\n",
        "w_out = torch.DoubleTensor([outgoing_weights])\n",
        "dummy_model = DummyNetwork(D_in, H_student, D_out, w_in, w_out)\n",
        "loss_grad = torch.autograd.grad(nn.MSELoss()(dummy_model(dataset), y_labels), dummy_model.parameters(), create_graph=True)\n",
        "grad_norm, hessian = eval_hessian(loss_grad, dummy_model)\n",
        "smallest_eigenvalue = np.min(np.linalg.eigvals(hessian))\n",
        "\n",
        "print('loss at the end: ', nn.MSELoss()(dummy_model(dataset), y_labels))\n",
        "print('gradient norm at the end: ', grad_norm)\n",
        "print('smallest eigenvalue at the end: ', smallest_eigenvalue)"
      ],
      "metadata": {
        "colab": {
          "base_uri": "https://localhost:8080/"
        },
        "id": "MNXhL8UhNF5q",
        "outputId": "cd0ace70-78b9-465a-c2f7-f9c074ae74dd"
      },
      "execution_count": 1124,
      "outputs": [
        {
          "output_type": "stream",
          "name": "stdout",
          "text": [
            "loss at the end:  tensor(8.9621e-05, grad_fn=<MseLossBackward0>)\n",
            "gradient norm at the end:  2.73359507671608e-10\n",
            "smallest eigenvalue at the end:  2.5158179872149517e-11\n"
          ]
        }
      ]
    },
    {
      "cell_type": "markdown",
      "source": [
        "## Smallest eigenvalue using JAX"
      ],
      "metadata": {
        "id": "prjlJN2MQXmu"
      }
    },
    {
      "cell_type": "code",
      "source": [
        "import jax.numpy as jnp\n",
        "from jax import nn as jax_nn\n",
        "from jax.config import config; config.update(\"jax_enable_x64\", True)\n",
        "jnp.set_printoptions(precision=32)\n",
        "\n",
        "jnp_inputs = jnp.array(construct_dataset(), dtype=jnp.float64)\n",
        "jnp_labels = jnp.array(teacher_model(dataset).detach(), dtype=jnp.float64)\n",
        "\n",
        "def predict(w_in, w_out):\n",
        "  return w_out @ jnp.transpose(jax_nn.sigmoid(jnp_inputs @ jnp.transpose(w_in)))\n",
        "\n",
        "w_in = jnp.array([[incoming_weights_x[0], incoming_weights_y[0]],\n",
        "                  [incoming_weights_x[1], incoming_weights_y[1]],\n",
        "                  [incoming_weights_x[2], incoming_weights_y[2]],\n",
        "                  [incoming_weights_x[3], incoming_weights_y[3]],\n",
        "                  [incoming_weights_x[4], incoming_weights_y[4]]], dtype=jnp.float64)\n",
        "w_out = jnp.array(outgoing_weights, dtype=jnp.float64)"
      ],
      "metadata": {
        "id": "rWPIRfmUQNyA"
      },
      "execution_count": 1125,
      "outputs": []
    },
    {
      "cell_type": "markdown",
      "source": [
        "### Loss in JAX"
      ],
      "metadata": {
        "id": "ILeF_n5o-O3o"
      }
    },
    {
      "cell_type": "markdown",
      "source": [
        "Loss of the network computed in JAX."
      ],
      "metadata": {
        "id": "QPLHmUvy-D_H"
      }
    },
    {
      "cell_type": "code",
      "source": [
        "def loss(w):\n",
        "  w_in = w[0 : 2 * H_student].reshape(D_in, H_student).T\n",
        "  w_out = w[2 * H_student : ].reshape(1, H_student)\n",
        "  preds = predict(w_in, w_out).T\n",
        "  return jnp.mean(jnp.mean(jnp.square(preds - jnp_labels)))\n",
        "print(loss(jnp.append(w_in.T.reshape(D_in * H_student), w_out.reshape(H_student))))"
      ],
      "metadata": {
        "colab": {
          "base_uri": "https://localhost:8080/"
        },
        "id": "99LA0Y8IGrZK",
        "outputId": "ce03d569-ec0e-4582-9b93-9f82b847ca7e"
      },
      "execution_count": 1126,
      "outputs": [
        {
          "output_type": "stream",
          "name": "stdout",
          "text": [
            "8.962082699106513e-05\n"
          ]
        }
      ]
    },
    {
      "cell_type": "markdown",
      "source": [
        "### Hessian in JAX"
      ],
      "metadata": {
        "id": "JbhAScdX-RFY"
      }
    },
    {
      "cell_type": "code",
      "source": [
        "from jax import jacfwd, jacrev\n",
        "import jax\n",
        "\n",
        "def hessian(f):\n",
        "    return jacfwd(jacrev(f))\n",
        "\n",
        "H = hessian(loss)(jnp.append(w_in.T.reshape(D_in * H_student), w_out.reshape(H_student)))"
      ],
      "metadata": {
        "id": "nzcFUBhol-tR"
      },
      "execution_count": 1127,
      "outputs": []
    },
    {
      "cell_type": "markdown",
      "source": [
        "### Eigenvalues in JAX"
      ],
      "metadata": {
        "id": "vC-S4CtX-W0X"
      }
    },
    {
      "cell_type": "code",
      "source": [
        "evals, evectors = jnp.linalg.eig(H)\n",
        "\n",
        "# Sanity check\n",
        "for eval in jnp.array([jax.lax.imag(eval) for eval in evals]):\n",
        "  assert eval == 0\n",
        "\n",
        "evals = jnp.array([jax.lax.real(eval) for eval in evals])\n",
        "print(evals)\n",
        "smallest_evector = jnp.array([jax.lax.real(elem) for elem in evectors[:, jnp.argmin(evals)]])"
      ],
      "metadata": {
        "colab": {
          "base_uri": "https://localhost:8080/"
        },
        "id": "to7UcBE-sW6w",
        "outputId": "b64f95ae-c4fa-4f08-9707-d0a077fcfeae"
      },
      "execution_count": 1128,
      "outputs": [
        {
          "output_type": "stream",
          "name": "stdout",
          "text": [
            "[8.1519255033762647e+01 7.2643252048520253e+01 3.8765170378257654e+00\n",
            " 3.0476396670442956e+00 2.0871172210315625e+00 3.2641178453165698e-01\n",
            " 1.8081062279158266e-01 1.4919629235713661e-02 2.2249261657328479e-03\n",
            " 9.6026917859817144e-04 6.3247485523421207e-04 3.1771003642851758e-05\n",
            " 2.3051131044726272e-05 2.6218042959446374e-11 2.5156580053183390e-11]\n"
          ]
        }
      ]
    },
    {
      "cell_type": "markdown",
      "source": [
        "## Perturbation (based on JAX evectors)"
      ],
      "metadata": {
        "id": "2OID6WjL-c2i"
      }
    },
    {
      "cell_type": "markdown",
      "source": [
        "### For one random element"
      ],
      "metadata": {
        "id": "XdVQa6t6iETd"
      }
    },
    {
      "cell_type": "code",
      "source": [
        "old_loss = loss(jnp.append(w_in.T.reshape(D_in * H_student), w_out.reshape(H_student)))\n",
        "\n",
        "perturb_losses = []\n",
        "weights = jnp.append(w_in.T.reshape(D_in * H_student), w_out.reshape(H_student))\n",
        "for eps in np.arange(-0.3, 0.4, 0.01):\n",
        "  new_weights = weights + eps * smallest_evector\n",
        "  perturb_losses.append(loss(new_weights))\n",
        "  print(old_loss - loss(new_weights), loss(weights), loss(new_weights))\n",
        "  if old_loss - loss(new_weights) > old_loss / 100:\n",
        "    print('yeah')\n",
        "\n",
        "plt.plot(np.arange(-0.3, 0.4, 0.01), perturb_losses)\n",
        "plt.ticklabel_format(useOffset=False)"
      ],
      "metadata": {
        "colab": {
          "base_uri": "https://localhost:8080/",
          "height": 1000
        },
        "id": "epGcpd0xxPA8",
        "outputId": "178e6a62-089c-4358-b03c-8045a75f35bf"
      },
      "execution_count": 1129,
      "outputs": [
        {
          "output_type": "stream",
          "name": "stdout",
          "text": [
            "-2.802967236027916e-11 8.962082699106513e-05 8.962085502073749e-05\n",
            "-2.0722286652461244e-11 8.962082699106513e-05 8.962084771335178e-05\n",
            "-1.4262195821589975e-11 8.962082699106513e-05 8.962084125326095e-05\n",
            "-8.59215206849926e-12 8.962082699106513e-05 8.96208355832172e-05\n",
            "-3.656910400038661e-12 8.962082699106513e-05 8.962083064797553e-05\n",
            "5.967647437408324e-13 8.962082699106513e-05 8.962082639430039e-05\n",
            "4.220095789746886e-12 8.962082699106513e-05 8.962082277096934e-05\n",
            "7.262293156705575e-12 8.962082699106513e-05 8.962081972877198e-05\n",
            "9.770569607287644e-12 8.962082699106513e-05 8.962081722049552e-05\n",
            "1.1790117113944648e-11 8.962082699106513e-05 8.962081520094802e-05\n",
            "1.3364123162599127e-11 8.962082699106513e-05 8.962081362694197e-05\n",
            "1.453377266355093e-11 8.962082699106513e-05 8.962081245729247e-05\n",
            "1.5338225887963006e-11 8.962082699106513e-05 8.962081165283924e-05\n",
            "1.5814649787751663e-11 8.962082699106513e-05 8.962081117641534e-05\n",
            "1.5998194617477222e-11 8.962082699106513e-05 8.962081099287051e-05\n",
            "1.592200317716754e-11 8.962082699106513e-05 8.962081106906195e-05\n",
            "1.5617208088260053e-11 8.962082699106513e-05 8.962081137385704e-05\n",
            "1.5112933785823256e-11 8.962082699106513e-05 8.962081187813135e-05\n",
            "1.4436296816712317e-11 8.962082699106513e-05 8.962081255476832e-05\n",
            "1.3612401082632036e-11 8.962082699106513e-05 8.962081337866405e-05\n",
            "1.266434559218238e-11 8.962082699106513e-05 8.962081432671954e-05\n",
            "1.161321989365683e-11 8.962082699106513e-05 8.962081537784524e-05\n",
            "1.0478103031497793e-11 8.962082699106513e-05 8.96208165129621e-05\n",
            "9.276062963537932e-12 8.962082699106513e-05 8.962081771500217e-05\n",
            "8.02216192780092e-12 8.962082699106513e-05 8.96208189689032e-05\n",
            "6.729454992381034e-12 8.962082699106513e-05 8.962082026161014e-05\n",
            "5.408983062339147e-12 8.962082699106513e-05 8.962082158208207e-05\n",
            "4.069779493335972e-12 8.962082699106513e-05 8.962082292128564e-05\n",
            "2.7188736830517646e-12 8.962082699106513e-05 8.962082427219145e-05\n",
            "1.3612780472077243e-12 8.962082699106513e-05 8.962082562978708e-05\n",
            "0.0 8.962082699106513e-05 8.962082699106513e-05\n",
            "-1.3639613527169359e-12 8.962082699106513e-05 8.962082835502648e-05\n",
            "-2.731616934601236e-12 8.962082699106513e-05 8.962082972268207e-05\n",
            "-4.105985598181969e-12 8.962082699106513e-05 8.962083109705073e-05\n",
            "-5.49209507353602e-12 8.962082699106513e-05 8.96208324831602e-05\n",
            "-6.8969854783926254e-12 8.962082699106513e-05 8.962083388805061e-05\n",
            "-8.329703205943624e-12 8.962082699106513e-05 8.962083532076834e-05\n",
            "-9.801299393407889e-12 8.962082699106513e-05 8.962083679236453e-05\n",
            "-1.1324846049538644e-11 8.962082699106513e-05 8.962083831591118e-05\n",
            "-1.2915410806265369e-11 8.962082699106513e-05 8.962083990647594e-05\n",
            "-1.4590081042192143e-11 8.962082699106513e-05 8.962084158114617e-05\n",
            "-1.636794282197044e-11 8.962082699106513e-05 8.962084335900795e-05\n",
            "-1.8270102214424343e-11 8.962082699106513e-05 8.962084526116735e-05\n",
            "-2.0319665668491228e-11 8.962082699106513e-05 8.96208473107308e-05\n",
            "-2.254175088234854e-11 8.962082699106513e-05 8.962084953281601e-05\n",
            "-2.496348596315711e-11 8.962082699106513e-05 8.96208519545511e-05\n",
            "-2.7614010470605743e-11 8.962082699106513e-05 8.96208546050756e-05\n",
            "-3.05244663231655e-11 8.962082699106513e-05 8.962085751553146e-05\n",
            "-3.372800676986268e-11 8.962082699106513e-05 8.96208607190719e-05\n",
            "-3.7259798030134586e-11 8.962082699106513e-05 8.962086425086316e-05\n",
            "-4.1157010376266685e-11 8.962082699106513e-05 8.962086814807551e-05\n",
            "-4.5458825248469344e-11 8.962082699106513e-05 8.962087244989038e-05\n",
            "-5.02064372335468e-11 8.962082699106513e-05 8.962087719750237e-05\n",
            "-5.544303777475952e-11 8.962082699106513e-05 8.96208824341029e-05\n",
            "-6.121384051504999e-11 8.962082699106513e-05 8.962088820490565e-05\n",
            "-6.756605862366476e-11 8.962082699106513e-05 8.962089455712376e-05\n",
            "-7.454892078813651e-11 8.962082699106513e-05 8.962090153998592e-05\n",
            "-8.221366218830097e-11 8.962082699106513e-05 8.962090920472732e-05\n",
            "-9.061352522813336e-11 8.962082699106513e-05 8.962091760459036e-05\n",
            "-9.98037636286116e-11 8.962082699106513e-05 8.962092679482876e-05\n",
            "-1.0984163483830113e-10 8.962082699106513e-05 8.962093683269997e-05\n",
            "-1.2078641553744593e-10 8.962082699106513e-05 8.962094777748067e-05\n",
            "-1.3269938193259407e-10 8.962082699106513e-05 8.962095969044706e-05\n",
            "-1.4564382116782557e-10 8.962082699106513e-05 8.96209726348863e-05\n",
            "-1.5968503600037424e-10 8.962082699106513e-05 8.962098667610113e-05\n",
            "-1.7489032677576663e-10 8.962082699106513e-05 8.962100188139191e-05\n",
            "-1.9132901220384607e-10 8.962082699106513e-05 8.962101832007734e-05\n",
            "-2.0907241634834667e-10 8.962082699106513e-05 8.962103606348148e-05\n",
            "-2.2819386980596316e-10 8.962082699106513e-05 8.962105518493494e-05\n",
            "-2.487687164012993e-10 8.962082699106513e-05 8.962107575978153e-05\n"
          ]
        },
        {
          "output_type": "display_data",
          "data": {
            "image/png": "[encoded data removed]",
            "text/plain": [
              "<Figure size 432x288 with 1 Axes>"
            ]
          },
          "metadata": {
            "needs_background": "light"
          }
        }
      ]
    },
    {
      "cell_type": "markdown",
      "source": [
        "### For the entire set of high loss points"
      ],
      "metadata": {
        "id": "UJ6PKfeuiGUu"
      }
    },
    {
      "cell_type": "code",
      "source": [
        "num_saddles = 0\n",
        "num_local_minima = 0\n",
        "num_total = len(max_loss_data)\n",
        "max_diff = -float(\"inf\")\n",
        "\n",
        "for index, row in max_loss_data.iterrows():\n",
        "  old_loss = row['loss']\n",
        "  incoming_weights_x, incoming_weights_y, outgoing_weights = extract_weights(row)\n",
        "\n",
        "  w_in = jnp.array([[incoming_weights_x[0], incoming_weights_y[0]],\n",
        "                  [incoming_weights_x[1], incoming_weights_y[1]],\n",
        "                  [incoming_weights_x[2], incoming_weights_y[2]],\n",
        "                  [incoming_weights_x[3], incoming_weights_y[3]],\n",
        "                  [incoming_weights_x[4], incoming_weights_y[4]]], dtype=jnp.float64)\n",
        "  w_out = jnp.array(outgoing_weights, dtype=jnp.float64)\n",
        "  weights = jnp.append(w_in.T.reshape(D_in * H_student), w_out.reshape(H_student))\n",
        "\n",
        "  H = hessian(loss)(jnp.append(w_in.T.reshape(D_in * H_student), w_out.reshape(H_student)))\n",
        "  H = (H + H.T) / 2\n",
        "  evals, evectors = jnp.linalg.eig(H)\n",
        "\n",
        "  # Sanity check\n",
        "  for eval in jnp.array([jax.lax.imag(eval) for eval in evals]):\n",
        "    assert eval == 0\n",
        "\n",
        "  evals = jnp.array([jax.lax.real(eval) for eval in evals])\n",
        "  smallest_evector = jnp.array([jax.lax.real(elem) for elem in evectors[:, jnp.argmin(evals)]])\n",
        "\n",
        "  for eps in np.arange(-0.3, 0.3, 0.01):\n",
        "    new_weights = weights + eps * smallest_evector\n",
        "    # print(old_loss, loss(new_weights))\n",
        "    # print(old_loss - loss(new_weights) - old_loss / 100.0)\n",
        "    max_diff = max(max_diff, old_loss - loss(new_weights))\n",
        "\n",
        "print('max diff between the original loss and the computed loss: ', max_diff)"
      ],
      "metadata": {
        "colab": {
          "base_uri": "https://localhost:8080/"
        },
        "id": "fCTD9QI2iLaa",
        "outputId": "2421abfe-47f4-410b-d107-056742553630"
      },
      "execution_count": 1130,
      "outputs": [
        {
          "output_type": "stream",
          "name": "stdout",
          "text": [
            "max diff between the original loss and the computed loss:  1.8234059950958045e-09\n"
          ]
        }
      ]
    }
  ]
}