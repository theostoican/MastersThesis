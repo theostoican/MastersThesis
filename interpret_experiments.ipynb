{
 "cells": [
  {
   "cell_type": "code",
   "execution_count": 75,
   "metadata": {
    "colab": {
     "base_uri": "https://localhost:8080/"
    },
    "id": "9MDckeJzbvFC",
    "outputId": "ec48401f-1a95-4386-e42c-ee0b5ada2c15"
   },
   "outputs": [
    {
     "name": "stdout",
     "output_type": "stream",
     "text": [
      "\u001b[33mWARNING: Ignoring invalid distribution -sspec (/Users/tstoican/opt/anaconda3/lib/python3.7/site-packages)\u001b[0m\u001b[33m\n",
      "\u001b[0m\u001b[33mWARNING: Ignoring invalid distribution - (/Users/tstoican/opt/anaconda3/lib/python3.7/site-packages)\u001b[0m\u001b[33m\n",
      "\u001b[0m\u001b[33mWARNING: Ignoring invalid distribution -axlib (/Users/tstoican/opt/anaconda3/lib/python3.7/site-packages)\u001b[0m\u001b[33m\n",
      "\u001b[0m\u001b[33mWARNING: Ignoring invalid distribution -arkupsafe (/Users/tstoican/opt/anaconda3/lib/python3.7/site-packages)\u001b[0m\u001b[33m\n",
      "\u001b[0m\u001b[33mWARNING: Ignoring invalid distribution -sspec (/Users/tstoican/opt/anaconda3/lib/python3.7/site-packages)\u001b[0m\u001b[33m\n",
      "\u001b[0m\u001b[33mWARNING: Ignoring invalid distribution - (/Users/tstoican/opt/anaconda3/lib/python3.7/site-packages)\u001b[0m\u001b[33m\n",
      "\u001b[0m\u001b[33mWARNING: Ignoring invalid distribution -axlib (/Users/tstoican/opt/anaconda3/lib/python3.7/site-packages)\u001b[0m\u001b[33m\n",
      "\u001b[0m\u001b[33mWARNING: Ignoring invalid distribution -arkupsafe (/Users/tstoican/opt/anaconda3/lib/python3.7/site-packages)\u001b[0m\u001b[33m\n",
      "\u001b[0mRequirement already satisfied: nlopt in /Users/tstoican/opt/anaconda3/lib/python3.7/site-packages (2.7.0)\n",
      "Requirement already satisfied: numpy>=1.14 in /Users/tstoican/opt/anaconda3/lib/python3.7/site-packages (from nlopt) (1.21.2)\n",
      "\u001b[33mWARNING: Ignoring invalid distribution -sspec (/Users/tstoican/opt/anaconda3/lib/python3.7/site-packages)\u001b[0m\u001b[33m\n",
      "\u001b[0m\u001b[33mWARNING: Ignoring invalid distribution - (/Users/tstoican/opt/anaconda3/lib/python3.7/site-packages)\u001b[0m\u001b[33m\n",
      "\u001b[0m\u001b[33mWARNING: Ignoring invalid distribution -axlib (/Users/tstoican/opt/anaconda3/lib/python3.7/site-packages)\u001b[0m\u001b[33m\n",
      "\u001b[0m\u001b[33mWARNING: Ignoring invalid distribution -arkupsafe (/Users/tstoican/opt/anaconda3/lib/python3.7/site-packages)\u001b[0m\u001b[33m\n",
      "\u001b[0m\u001b[33mWARNING: Ignoring invalid distribution -sspec (/Users/tstoican/opt/anaconda3/lib/python3.7/site-packages)\u001b[0m\u001b[33m\n",
      "\u001b[0m\u001b[33mWARNING: Ignoring invalid distribution - (/Users/tstoican/opt/anaconda3/lib/python3.7/site-packages)\u001b[0m\u001b[33m\n",
      "\u001b[0m\u001b[33mWARNING: Ignoring invalid distribution -axlib (/Users/tstoican/opt/anaconda3/lib/python3.7/site-packages)\u001b[0m\u001b[33m\n",
      "\u001b[0m\u001b[33mWARNING: Ignoring invalid distribution -arkupsafe (/Users/tstoican/opt/anaconda3/lib/python3.7/site-packages)\u001b[0m\u001b[33m\n",
      "\u001b[0m\u001b[33mWARNING: Ignoring invalid distribution -sspec (/Users/tstoican/opt/anaconda3/lib/python3.7/site-packages)\u001b[0m\u001b[33m\n",
      "\u001b[0m\u001b[33mWARNING: Ignoring invalid distribution - (/Users/tstoican/opt/anaconda3/lib/python3.7/site-packages)\u001b[0m\u001b[33m\n",
      "\u001b[0m\u001b[33mWARNING: Ignoring invalid distribution -axlib (/Users/tstoican/opt/anaconda3/lib/python3.7/site-packages)\u001b[0m\u001b[33m\n",
      "\u001b[0m\u001b[33mWARNING: Ignoring invalid distribution -arkupsafe (/Users/tstoican/opt/anaconda3/lib/python3.7/site-packages)\u001b[0m\u001b[33m\n",
      "\u001b[0m"
     ]
    }
   ],
   "source": [
    "import matplotlib.pyplot as plt\n",
    "import matplotlib\n",
    "import pandas as pd\n",
    "import numpy as np\n",
    "\n",
    "import torch\n",
    "import torch.nn as nn\n",
    "from torch.autograd import Variable\n",
    "\n",
    "from copy import deepcopy\n",
    "\n",
    "!pip install nlopt\n",
    "import nlopt"
   ]
  },
  {
   "cell_type": "markdown",
   "metadata": {
    "id": "qUaY47kc15hI"
   },
   "source": [
    "# Models"
   ]
  },
  {
   "cell_type": "markdown",
   "metadata": {
    "id": "182WjNG218yF"
   },
   "source": [
    "A dummy network that receives as input the precomputed incoming and outgoing weights and sets them directly."
   ]
  },
  {
   "cell_type": "code",
   "execution_count": 76,
   "metadata": {
    "id": "CoW3Kz1x1_KB"
   },
   "outputs": [],
   "source": [
    "torch.set_default_dtype(torch.float64)\n",
    "class DummyNetwork(nn.Module):\n",
    "  def __init__(self, D_in, H, D_out, w_in, w_out):\n",
    "    \"\"\"\n",
    "    In the constructor we instantiate two nn.Linear modules and assign them as\n",
    "    member variables.\n",
    "\n",
    "    D_in: input dimension\n",
    "    H: dimension of hidden layer\n",
    "    D_out: output dimension of the first layer\n",
    "    \"\"\"\n",
    "    super(DummyNetwork, self).__init__()\n",
    "    self.linear1 = nn.Linear(D_in, H, bias=False)\n",
    "    self.linear2 = nn.Linear(H, D_out, bias=False)\n",
    "    self.linear1.weight = torch.nn.Parameter(w_in)\n",
    "    self.linear2.weight = torch.nn.Parameter(w_out)\n",
    "  def forward(self, x):\n",
    "    \"\"\"\n",
    "    In the forward function we accept a Variable of input data and we must\n",
    "    return a Variable of output data. We can use Modules defined in the\n",
    "    constructor as well as arbitrary operators on Variables.\n",
    "    \"\"\"\n",
    "    h_sigmoid = torch.sigmoid(self.linear1(x))\n",
    "    y_pred = self.linear2(h_sigmoid)\n",
    "    return y_pred"
   ]
  },
  {
   "cell_type": "code",
   "execution_count": 77,
   "metadata": {
    "id": "o5cHiIOu2D9f"
   },
   "outputs": [],
   "source": [
    "class TeacherNetwork(nn.Module):\n",
    "  def __init__(self, D_in, H, D_out):\n",
    "    \"\"\"\n",
    "    In the constructor we instantiate two nn.Linear modules and assign them as\n",
    "    member variables.\n",
    "\n",
    "    D_in: input dimension\n",
    "    H: dimension of hidden layer\n",
    "    D_out: output dimension of the first layer\n",
    "    \"\"\"\n",
    "    super(TeacherNetwork, self).__init__()\n",
    "    self.linear1 = nn.Linear(D_in, H, bias=False)\n",
    "    self.linear2 = nn.Linear(H, D_out, bias=False)\n",
    "    self.linear1.weight = torch.nn.Parameter(torch.transpose(torch.DoubleTensor([[0.6, -0.5, -0.2, 0.1], [0.5, 0.5, -0.6, -0.6]]), 0, 1))\n",
    "    self.linear2.weight = torch.nn.Parameter(torch.transpose(torch.DoubleTensor([[1], [-1], [1], [-1]]), 0, 1))\n",
    "  def forward(self, x):\n",
    "    \"\"\"\n",
    "    In the forward function we accept a Variable of input data and we must\n",
    "    return a Variable of output data. We can use Modules defined in the\n",
    "    constructor as well as arbitrary operators on Variables.\n",
    "    \"\"\"\n",
    "    h_sigmoid = torch.sigmoid(self.linear1(x))\n",
    "    y_pred = self.linear2(h_sigmoid)\n",
    "    return y_pred"
   ]
  },
  {
   "cell_type": "markdown",
   "metadata": {
    "id": "XMryNAxQ2GU3"
   },
   "source": [
    "# Dataset"
   ]
  },
  {
   "cell_type": "code",
   "execution_count": 78,
   "metadata": {
    "colab": {
     "base_uri": "https://localhost:8080/"
    },
    "id": "AX_oMWbv2G78",
    "outputId": "b53919ec-dcf1-4f8a-f6b4-50df3f84cbcc"
   },
   "outputs": [
    {
     "name": "stdout",
     "output_type": "stream",
     "text": [
      "1681\n"
     ]
    }
   ],
   "source": [
    "D_in, H_teacher, H_student, D_out = 2, 4, 5, 1\n",
    "\n",
    "def construct_dataset():\n",
    "  data = []\n",
    "  for y in np.arange(-5, 5.1, .25):\n",
    "    for x in np.arange(-5, 5.1, .25):\n",
    "      data.append([x, y])\n",
    "  return data\n",
    "\n",
    "dataset = torch.DoubleTensor(construct_dataset()) \n",
    "print(len(construct_dataset()))"
   ]
  },
  {
   "cell_type": "markdown",
   "metadata": {
    "id": "0qdpnQd32PkB"
   },
   "source": [
    "# Labels"
   ]
  },
  {
   "cell_type": "code",
   "execution_count": 79,
   "metadata": {
    "id": "qO9N58LW2QBm"
   },
   "outputs": [],
   "source": [
    "teacher_model = TeacherNetwork(D_in, H_teacher, D_out)\n",
    "y_labels = teacher_model(dataset).detach()"
   ]
  },
  {
   "cell_type": "code",
   "execution_count": 80,
   "metadata": {
    "colab": {
     "base_uri": "https://localhost:8080/",
     "height": 264
    },
    "id": "RnMJEjtBqvz-",
    "outputId": "b40ea704-0e18-4874-ce23-9c24d77ed418"
   },
   "outputs": [
    {
     "data": {
      "text/plain": [
       "426"
      ]
     },
     "execution_count": 80,
     "metadata": {},
     "output_type": "execute_result"
    }
   ],
   "source": [
    "data = pd.read_csv('experiments_data_student_5_local_min_only.csv', float_precision='round_trip')\n",
    "\n",
    "len(data)"
   ]
  },
  {
   "cell_type": "code",
   "execution_count": 81,
   "metadata": {
    "id": "tU1QGdtLq2mO"
   },
   "outputs": [
    {
     "data": {
      "text/plain": [
       "7.340985286608199e-05"
      ]
     },
     "execution_count": 81,
     "metadata": {},
     "output_type": "execute_result"
    }
   ],
   "source": [
    "sample_point = data.loc[20]\n",
    "sample_point['loss']"
   ]
  },
  {
   "cell_type": "markdown",
   "metadata": {
    "id": "ueyRqoqF2bNm"
   },
   "source": [
    "# Helper for extracting the weights from one data point."
   ]
  },
  {
   "cell_type": "code",
   "execution_count": 82,
   "metadata": {
    "id": "cVYwzm-w24Go"
   },
   "outputs": [],
   "source": [
    "def extract_weights(data_point):\n",
    "  incoming_weights_x = []\n",
    "  incoming_weights_y = []\n",
    "  outgoing_weights = []\n",
    "\n",
    "  for i in range(0, int(data_point['student size'])):\n",
    "    neuron_traj_x = np.fromstring(data_point['neuron_' + str(i) + '_traj_x'][1:-1], dtype=float, sep=',')\n",
    "    neuron_traj_y = np.fromstring(data_point['neuron_' + str(i) + '_traj_y'][1:-1], dtype=float, sep=',')\n",
    "    incoming_weights_x.append(neuron_traj_x[-1])\n",
    "    incoming_weights_y.append(neuron_traj_y[-1])\n",
    "    neuron_traj_out = np.fromstring(data_point['neuron_' + str(i) + '_a'][1:-1], dtype=float, sep=',')\n",
    "    outgoing_weights.append(neuron_traj_out[-1])\n",
    "\n",
    "  return incoming_weights_x, incoming_weights_y, outgoing_weights"
   ]
  },
  {
   "cell_type": "code",
   "execution_count": 83,
   "metadata": {
    "id": "ewEnp0jR0k6_"
   },
   "outputs": [
    {
     "name": "stdout",
     "output_type": "stream",
     "text": [
      "[-1.2775172768176173, -0.7305619998746957, -0.902261813535612, -1.2970533572266183, 0.19422289278673627]\n",
      "[1.0288394419098346, 1.4871552140321722, -0.585449488585722, 1.0423031847131665, -0.05411534809447417]\n",
      "[-10.878693547030105, 0.07176512294046739, -0.45498075571767316, 10.485803314933506, 0.7761178150337397]\n"
     ]
    }
   ],
   "source": [
    "incoming_weights_x, incoming_weights_y, outgoing_weights = extract_weights(sample_point)\n",
    "print(incoming_weights_x)\n",
    "print(incoming_weights_y)\n",
    "print(outgoing_weights)"
   ]
  },
  {
   "cell_type": "code",
   "execution_count": 84,
   "metadata": {
    "id": "jv4zxr2KIpVw"
   },
   "outputs": [],
   "source": [
    "teacher_neurons_x = [0.6, -0.5, -0.2, 0.1]\n",
    "teacher_neurons_y = [0.5, 0.5, -0.6, -0.6]"
   ]
  },
  {
   "cell_type": "markdown",
   "metadata": {
    "id": "TW8LtUQe9uaF"
   },
   "source": [
    "# Plotting of the neuron point"
   ]
  },
  {
   "cell_type": "code",
   "execution_count": 85,
   "metadata": {
    "id": "ufXZMb0kIST2"
   },
   "outputs": [
    {
     "data": {
      "image/png": "[encoded data removed]",
      "text/plain": [
       "<Figure size 432x288 with 2 Axes>"
      ]
     },
     "metadata": {
      "needs_background": "light"
     },
     "output_type": "display_data"
    }
   ],
   "source": [
    "plt.scatter(teacher_neurons_x, teacher_neurons_y, marker=\"*\")\n",
    "\n",
    "plt.scatter(incoming_weights_x,\n",
    "            incoming_weights_y,\n",
    "            c = outgoing_weights,\n",
    "            cmap = matplotlib.cm.jet)\n",
    "\n",
    "plt.colorbar().set_label('Outgoing weight',rotation=270)\n",
    "plt.xlabel('w1')\n",
    "plt.ylabel('w2')\n",
    "\n",
    "plt.show()"
   ]
  },
  {
   "cell_type": "markdown",
   "metadata": {
    "id": "qbFFXAJCAcPw"
   },
   "source": [
    "# JAX helpers for finding an escape route"
   ]
  },
  {
   "cell_type": "markdown",
   "metadata": {
    "id": "prjlJN2MQXmu"
   },
   "source": [
    "## Constructing the network in JAX"
   ]
  },
  {
   "cell_type": "code",
   "execution_count": 86,
   "metadata": {
    "id": "rWPIRfmUQNyA"
   },
   "outputs": [],
   "source": [
    "import jax.numpy as jnp\n",
    "from jax import nn as jax_nn\n",
    "from jax.config import config; config.update(\"jax_enable_x64\", True)\n",
    "jnp.set_printoptions(precision=32) \n",
    "\n",
    "jnp_inputs = jnp.array(construct_dataset(), dtype=jnp.float64)\n",
    "jnp_labels = jnp.array(teacher_model(dataset).detach(), dtype=jnp.float64)\n",
    "\n",
    "def predict(w_in, w_out):\n",
    "  return w_out @ jnp.transpose(jax_nn.sigmoid(jnp_inputs @ jnp.transpose(w_in)))\n",
    "\n",
    "w_in = jnp.array([[incoming_weights_x[0], incoming_weights_y[0]],\n",
    "                  [incoming_weights_x[1], incoming_weights_y[1]],\n",
    "                  [incoming_weights_x[2], incoming_weights_y[2]],\n",
    "                  [incoming_weights_x[3], incoming_weights_y[3]],\n",
    "                  [incoming_weights_x[4], incoming_weights_y[4]]], dtype=jnp.float64)\n",
    "w_out = jnp.array(outgoing_weights, dtype=jnp.float64)"
   ]
  },
  {
   "cell_type": "markdown",
   "metadata": {
    "id": "yRjvShq-4oZc"
   },
   "source": [
    "## Loss in JAX"
   ]
  },
  {
   "cell_type": "markdown",
   "metadata": {
    "id": "-1Hr2t294q7S"
   },
   "source": [
    "Loss of the network computed in JAX."
   ]
  },
  {
   "cell_type": "code",
   "execution_count": 87,
   "metadata": {
    "id": "CQFNY_VC4ou9"
   },
   "outputs": [
    {
     "name": "stdout",
     "output_type": "stream",
     "text": [
      "7.34098528660821e-05\n"
     ]
    }
   ],
   "source": [
    "def loss(w):\n",
    "  network_size = int(len(w) / 3)\n",
    "  w_in = w[0 : 2 * network_size].reshape(network_size, D_in)\n",
    "  w_out = w[2 * network_size : ].reshape(1, network_size)\n",
    "  preds = jnp.transpose(predict(w_in, w_out))\n",
    "  return jnp.mean(jnp.square(preds - jnp_labels))\n",
    "print(loss(jnp.append(w_in.reshape(H_student * D_in), w_out.reshape(H_student))))"
   ]
  },
  {
   "cell_type": "markdown",
   "metadata": {
    "id": "aRVABYEN4xBn"
   },
   "source": [
    "## Hessian in JAX"
   ]
  },
  {
   "cell_type": "code",
   "execution_count": 88,
   "metadata": {
    "id": "p1apyMTV4xaK"
   },
   "outputs": [],
   "source": [
    "from jax import jacfwd, jacrev\n",
    "from jax import grad as jax_grad\n",
    "import jax\n",
    "\n",
    "def hessian(f):\n",
    "  return jacfwd(jacrev(f))\n",
    "\n",
    "H = hessian(loss)(jnp.append(w_in.reshape(D_in * H_student), w_out.reshape(H_student)))\n",
    "H = (H + H.T) / 2"
   ]
  },
  {
   "cell_type": "markdown",
   "metadata": {
    "id": "q9KNg37G4zRi"
   },
   "source": [
    "## Eigenvalues in JAX"
   ]
  },
  {
   "cell_type": "code",
   "execution_count": 89,
   "metadata": {
    "id": "qm9RiKY-400C"
   },
   "outputs": [
    {
     "name": "stdout",
     "output_type": "stream",
     "text": [
      "[1.0769084856041805e-11 4.8867150691374053e-06 2.7672684188909523e-05]\n",
      "[-6.3440338692776301e-04  4.3687266349880938e-04 -7.5853246525467099e-07\n",
      " -1.5877209914003354e-06  4.4140111609873635e-07  2.6440007531088599e-07\n",
      "  6.5930451714313364e-04 -4.5473136859610773e-04  1.4671954859855007e-07\n",
      " -4.0686026372262618e-07 -7.0710607304234319e-01  1.0872426486259374e-07\n",
      " -3.3375639810469296e-07  7.0710661620042758e-01 -3.1782346122772410e-07]\n"
     ]
    }
   ],
   "source": [
    "evals, evectors = jnp.linalg.eigh(H)\n",
    "evals.sort()\n",
    "\n",
    "print(evals[:3])\n",
    "smallest_evector = evectors[:, jnp.argmin(evals)]\n",
    "print(smallest_evector)"
   ]
  },
  {
   "cell_type": "markdown",
   "metadata": {
    "id": "ygRF64EF46OI"
   },
   "source": [
    "## Perturbation (based on JAX evectors) in the dir of smallest evector"
   ]
  },
  {
   "cell_type": "code",
   "execution_count": 90,
   "metadata": {
    "id": "mr1u_WGe490C"
   },
   "outputs": [],
   "source": [
    "old_loss = loss(jnp.append(w_in.reshape(H_student * D_in), w_out.reshape(H_student)))\n",
    "\n",
    "perturb_lower_bound = -8.0\n",
    "perturb_upper_bound = 8.0\n",
    "perturb_step = 0.01\n",
    "\n",
    "perturb_losses = []\n",
    "perturb_evals = []\n",
    "perturb_grads = []\n",
    "\n",
    "weights = jnp.append(w_in.reshape(H_student * D_in), w_out.reshape(H_student))\n",
    "for eps in np.arange(perturb_lower_bound, perturb_upper_bound, perturb_step):\n",
    "  new_weights = weights + eps * smallest_evector\n",
    "  perturb_grads.append(jnp.linalg.norm(jax_grad(loss)(new_weights)))\n",
    "  \n",
    "  H = hessian(loss)(new_weights)\n",
    "  H = (H + H.T) / 2\n",
    "  evals, _ = jnp.linalg.eigh(H)\n",
    "\n",
    "  perturb_evals.append(min(evals))\n",
    "  perturb_losses.append(loss(new_weights))"
   ]
  },
  {
   "cell_type": "markdown",
   "metadata": {
    "id": "HdA40kgaB243"
   },
   "source": [
    "## Plot the result of perturbation"
   ]
  },
  {
   "cell_type": "code",
   "execution_count": 91,
   "metadata": {
    "id": "ZzNtD_tFB5C4"
   },
   "outputs": [
    {
     "data": {
      "text/plain": [
       "Text(0, 0.5, 'gradient norm')"
      ]
     },
     "execution_count": 91,
     "metadata": {},
     "output_type": "execute_result"
    },
    {
     "data": {
      "image/png": "[encoded data removed]",
      "text/plain": [
       "<Figure size 1440x360 with 3 Axes>"
      ]
     },
     "metadata": {
      "needs_background": "light"
     },
     "output_type": "display_data"
    }
   ],
   "source": [
    "fig_escape, axs = plt.subplots(1, 3)\n",
    "fig_escape.set_size_inches(20, 5)\n",
    "fig_escape.suptitle('Evolution of loss, smallest eval, and grad norm under perturbation')\n",
    "\n",
    "axs[0].plot(np.arange(perturb_lower_bound, perturb_upper_bound, perturb_step), perturb_losses)\n",
    "axs[0].ticklabel_format(useOffset=False)\n",
    "axs[0].set_xlabel('perturbation factor')\n",
    "axs[0].set_ylabel('loss')\n",
    "\n",
    "axs[1].plot(np.arange(perturb_lower_bound, perturb_upper_bound, perturb_step), perturb_evals)\n",
    "axs[1].set_xlabel('perturbation factor')\n",
    "axs[1].set_ylabel('smallest eval')\n",
    "\n",
    "axs[2].plot(np.arange(perturb_lower_bound, perturb_upper_bound, perturb_step), perturb_grads)\n",
    "axs[2].set_xlabel('perturbation factor')\n",
    "axs[2].set_ylabel('gradient norm')"
   ]
  },
  {
   "cell_type": "markdown",
   "metadata": {},
   "source": [
    "# Perturbation in the direction of the smallest evectors"
   ]
  },
  {
   "cell_type": "code",
   "execution_count": 92,
   "metadata": {},
   "outputs": [
    {
     "name": "stdout",
     "output_type": "stream",
     "text": [
      "new eps: 0.1\n",
      "new eps: 0.08333333333333334\n",
      "new eps: 0.06944444444444446\n",
      "new eps: 0.057870370370370385\n",
      "new eps: 0.04822530864197532\n",
      "new eps: 0.0401877572016461\n",
      "new eps: 0.03348979766803842\n",
      "new eps: 0.02790816472336535\n",
      "new eps: 0.023256803936137792\n",
      "new eps: 0.019380669946781493\n",
      "new eps: 0.016150558288984578\n",
      "new eps: 0.013458798574153816\n",
      "new eps: 0.011215665478461513\n",
      "new eps: 0.009346387898717928\n",
      "new eps: 0.00778865658226494\n",
      "new eps: 0.00649054715188745\n",
      "new eps: 0.005408789293239542\n",
      "new eps: 0.004507324411032952\n",
      "new eps: 0.0037561036758607933\n",
      "new eps: 0.003130086396550661\n",
      "new eps: 0.0026084053304588845\n",
      "new eps: 0.0021736711087157372\n",
      "new eps: 0.0018113925905964478\n",
      "new eps: 0.0015094938254970399\n",
      "new eps: 0.0012579115212475332\n",
      "1\n",
      "1\n",
      "new eps: 0.001048259601039611\n",
      "1\n",
      "1\n",
      "new eps: 0.0008735496675330093\n",
      "1\n",
      "1\n",
      "2\n",
      "2\n",
      "new eps: 0.0007279580562775077\n",
      "1\n",
      "1\n",
      "2\n",
      "2\n",
      "3\n",
      "3\n",
      "new eps: 0.0006066317135645898\n",
      "1\n",
      "1\n",
      "2\n",
      "2\n",
      "3\n",
      "3\n",
      "4\n",
      "4\n",
      "new eps: 0.0005055264279704916\n",
      "1\n",
      "1\n",
      "2\n",
      "2\n",
      "3\n",
      "3\n",
      "4\n",
      "4\n",
      "5\n",
      "5\n",
      "6\n",
      "6\n",
      "new eps: 0.000421272023308743\n",
      "1\n",
      "1\n",
      "2\n",
      "2\n",
      "3\n",
      "3\n",
      "4\n",
      "4\n",
      "5\n",
      "5\n",
      "6\n",
      "6\n",
      "7\n",
      "7\n",
      "8\n",
      "8\n",
      "9\n",
      "9\n",
      "new eps: 0.0003510600194239525\n",
      "1\n",
      "1\n",
      "2\n",
      "2\n",
      "3\n",
      "3\n",
      "4\n",
      "4\n",
      "5\n",
      "5\n",
      "6\n",
      "6\n",
      "7\n",
      "7\n",
      "8\n",
      "8\n",
      "9\n",
      "9\n",
      "10\n",
      "10\n",
      "11\n",
      "11\n",
      "12\n",
      "12\n",
      "13\n",
      "13\n",
      "new eps: 0.0002925500161866271\n",
      "1\n",
      "1\n",
      "2\n",
      "2\n",
      "3\n",
      "3\n",
      "4\n",
      "4\n",
      "5\n",
      "5\n",
      "6\n",
      "6\n",
      "7\n",
      "7\n",
      "8\n",
      "8\n",
      "9\n",
      "9\n",
      "10\n",
      "10\n",
      "11\n",
      "11\n",
      "12\n",
      "12\n",
      "13\n",
      "13\n",
      "14\n",
      "14\n",
      "15\n",
      "15\n",
      "16\n",
      "16\n",
      "17\n",
      "17\n",
      "18\n",
      "18\n",
      "19\n",
      "19\n",
      "20\n",
      "20\n",
      "new eps: 0.0002437916801555226\n",
      "1\n",
      "1\n",
      "2\n",
      "2\n",
      "3\n",
      "3\n",
      "4\n",
      "4\n",
      "5\n",
      "5\n",
      "6\n",
      "6\n",
      "7\n",
      "7\n",
      "8\n",
      "8\n",
      "9\n",
      "9\n",
      "10\n",
      "10\n",
      "11\n",
      "11\n",
      "12\n",
      "12\n",
      "13\n",
      "13\n",
      "14\n",
      "14\n",
      "15\n",
      "15\n",
      "16\n",
      "16\n",
      "17\n",
      "17\n",
      "18\n",
      "18\n",
      "19\n",
      "19\n",
      "20\n",
      "20\n",
      "21\n",
      "21\n",
      "22\n",
      "22\n",
      "23\n",
      "23\n",
      "24\n",
      "24\n",
      "25\n",
      "25\n",
      "26\n",
      "26\n",
      "27\n",
      "27\n",
      "28\n",
      "28\n",
      "57 7.340985249627651e-05\n"
     ]
    }
   ],
   "source": [
    "from collections import deque\n",
    "\n",
    "def run_perturbation_algo(start_weights,\n",
    "                          perturb_losses,\n",
    "                          eps = 1e-1):\n",
    "  q = deque()\n",
    "  q.append((start_weights, 0))\n",
    "\n",
    "  while len(q) > 0:\n",
    "    current_weights, current_dist = q.popleft()\n",
    "    perturb_losses.append(loss(current_weights))\n",
    "\n",
    "    H = hessian(loss)(current_weights)\n",
    "    H = (H + H.T) / 2\n",
    "    evals, evectors = jnp.linalg.eigh(H)\n",
    "\n",
    "    for idx, eval in enumerate(evals):\n",
    "      if eval >= 1e-10:\n",
    "        continue\n",
    "      \n",
    "      current_evector = evectors[:, idx]\n",
    "\n",
    "      new_weights = current_weights + eps * current_evector\n",
    "      new_dist = round(np.linalg.norm(new_weights - start_weights) / eps)\n",
    "        \n",
    "      if jnp.linalg.norm(jax_grad(loss)(new_weights)) <= 1e-9 and \\\n",
    "         new_dist > current_dist:\n",
    "        print(round(np.linalg.norm(new_weights - start_weights) / eps))\n",
    "        q.append((new_weights, new_dist))\n",
    "\n",
    "      new_weights = current_weights - eps * current_evector\n",
    "      new_dist = round(np.linalg.norm(new_weights - start_weights) / eps)\n",
    "\n",
    "      if jnp.linalg.norm(jax_grad(loss)(new_weights)) <= 1e-9 and \\\n",
    "         new_dist > current_dist:\n",
    "        print(round(np.linalg.norm(new_weights - start_weights) / eps))\n",
    "        q.append((new_weights, new_dist))\n",
    "\n",
    "perturb_losses = []\n",
    "eps = 1e-1\n",
    "while len(perturb_losses) < 50 and eps >= 1e-12:\n",
    "  perturb_losses = []\n",
    "  print('new eps:', eps)\n",
    "  run_perturbation_algo(weights, perturb_losses, eps)\n",
    "  eps /= 1.2\n",
    "  if eps < 1e-12:\n",
    "    break\n",
    "\n",
    "print(len(perturb_losses), min(perturb_losses))"
   ]
  },
  {
   "cell_type": "markdown",
   "metadata": {
    "id": "H6eZrfzQDkmU"
   },
   "source": [
    "# Extract the average of the 2 neurons close to each other."
   ]
  },
  {
   "cell_type": "markdown",
   "metadata": {
    "id": "dmXu3fwL58DO"
   },
   "source": [
    "## Find the two closest neurons"
   ]
  },
  {
   "cell_type": "code",
   "execution_count": 93,
   "metadata": {
    "id": "JVNNffHWcb55"
   },
   "outputs": [],
   "source": [
    "min_dist = np.inf\n",
    "idx_neuron1 = None\n",
    "idx_neuron2 = None\n",
    "\n",
    "for i in range(H_student):\n",
    "  current_neuron = np.array([incoming_weights_x[i], incoming_weights_y[i]])\n",
    "  for j in range(i + 1, H_student):\n",
    "    potential_closest_neuron = np.array([incoming_weights_x[j], incoming_weights_y[j]])\n",
    "    if min_dist > np.linalg.norm(current_neuron - potential_closest_neuron):\n",
    "      min_dist = np.linalg.norm(current_neuron - potential_closest_neuron)\n",
    "      idx_neuron1 = i\n",
    "      idx_neuron2 = j"
   ]
  },
  {
   "cell_type": "markdown",
   "metadata": {
    "id": "Enjt5P697BTE"
   },
   "source": [
    "## Extract the average neuron from the previous 2 ones."
   ]
  },
  {
   "cell_type": "code",
   "execution_count": 94,
   "metadata": {
    "id": "ysTv0xwPD_6h"
   },
   "outputs": [],
   "source": [
    "new_incoming_weights_x = [(incoming_weights_x[idx_neuron1] + incoming_weights_x[idx_neuron2]) / 2.0]\n",
    "new_incoming_weights_y = [(incoming_weights_y[idx_neuron1] + incoming_weights_y[idx_neuron2]) / 2.0]\n",
    "new_outgoing_weights = [(outgoing_weights[idx_neuron1] + outgoing_weights[idx_neuron2])]\n",
    "\n",
    "for i in range(H_student):\n",
    "  if i == idx_neuron1 or i == idx_neuron2:\n",
    "    continue\n",
    "  new_incoming_weights_x.append(incoming_weights_x[i])\n",
    "  new_incoming_weights_y.append(incoming_weights_y[i])\n",
    "  new_outgoing_weights.append(outgoing_weights[i])"
   ]
  },
  {
   "cell_type": "markdown",
   "metadata": {
    "id": "A5SxhfW_JJd6"
   },
   "source": [
    "## Replotting of the lower-size neuron point"
   ]
  },
  {
   "cell_type": "code",
   "execution_count": 95,
   "metadata": {
    "id": "6T2AOcICJGvN"
   },
   "outputs": [
    {
     "data": {
      "image/png": "[encoded data removed]",
      "text/plain": [
       "<Figure size 432x288 with 2 Axes>"
      ]
     },
     "metadata": {
      "needs_background": "light"
     },
     "output_type": "display_data"
    }
   ],
   "source": [
    "plt.scatter(teacher_neurons_x, teacher_neurons_y, marker=\"*\")\n",
    "\n",
    "plt.scatter(new_incoming_weights_x,\n",
    "            new_incoming_weights_y,\n",
    "            c = new_outgoing_weights,\n",
    "            cmap = matplotlib.cm.jet)\n",
    "\n",
    "plt.colorbar().set_label('Outgoing weight',rotation=270)\n",
    "plt.xlabel('w1')\n",
    "plt.ylabel('w2')\n",
    "\n",
    "plt.show()"
   ]
  },
  {
   "cell_type": "markdown",
   "metadata": {
    "id": "V99WyFkAM-od"
   },
   "source": [
    "# Train the model from this point"
   ]
  },
  {
   "cell_type": "markdown",
   "metadata": {
    "id": "3yAgZl7gCRzb"
   },
   "source": [
    "## Create new NN of size 4 after reduction of 1 neuron"
   ]
  },
  {
   "cell_type": "code",
   "execution_count": 96,
   "metadata": {
    "id": "Cz1PiK1JNA07"
   },
   "outputs": [],
   "source": [
    "w_in = torch.DoubleTensor([[new_incoming_weights_x[0], new_incoming_weights_y[0]],\n",
    "                           [new_incoming_weights_x[1], new_incoming_weights_y[1]],\n",
    "                           [new_incoming_weights_x[2], new_incoming_weights_y[2]],\n",
    "                           [new_incoming_weights_x[3], new_incoming_weights_y[3]]])\n",
    "w_out = torch.DoubleTensor([new_outgoing_weights])\n",
    "dummy_model = DummyNetwork(D_in, H_teacher, D_out, w_in, w_out)"
   ]
  },
  {
   "cell_type": "markdown",
   "metadata": {
    "id": "bR7D9AgpCV70"
   },
   "source": [
    "## Define loss objective for second order opt."
   ]
  },
  {
   "cell_type": "code",
   "execution_count": 97,
   "metadata": {
    "id": "IsB5UMjXryYk"
   },
   "outputs": [],
   "source": [
    "def loss_obj(weights, grad):\n",
    "  loss_val = loss(weights)\n",
    "  if grad.size > 0:\n",
    "    grad[:] = np.array(jax_grad(loss)(weights), dtype=np.float64)\n",
    "  return np.float64(loss_val)"
   ]
  },
  {
   "cell_type": "markdown",
   "metadata": {
    "id": "1-4g6TLFN-Xp"
   },
   "source": [
    "## End-to-end training helper method"
   ]
  },
  {
   "cell_type": "code",
   "execution_count": 98,
   "metadata": {
    "id": "cYVtj0mrN_UC"
   },
   "outputs": [],
   "source": [
    "def train(model, x, y_labels, N = 10, Ninner = 10 ** 3, Nstart = 10,\n",
    "          collect_history = True):\n",
    "  optimizer = torch.optim.Adam(model.parameters())\n",
    "  for param_group in optimizer.param_groups:\n",
    "        lr = param_group['lr']\n",
    "\n",
    "  loss_fn = nn.MSELoss()\n",
    "  loss_vals = []\n",
    "  trace = []\n",
    "  if collect_history:\n",
    "    trace.append((deepcopy(model.linear1.weight.data.detach().numpy()),\n",
    "                  deepcopy(model.linear2.weight.data.detach().numpy())))\n",
    "  for i in range(1, N + 1):\n",
    "    loss_tmp = []\n",
    "    for j in range(1, Ninner + 1):\n",
    "      y = model(x)\n",
    "      loss = loss_fn(y, y_labels)\n",
    "      loss_grad = torch.autograd.grad(loss, model.parameters(), retain_graph=True)\n",
    "      loss_tmp.append(loss.item())\n",
    "      optimizer.zero_grad()\n",
    "      loss.backward(retain_graph=True)\n",
    "      optimizer.step()\n",
    "      if i == 1 and (j % Nstart == 0) and j < Ninner:\n",
    "        loss_vals.append(np.mean(loss_tmp[j - Nstart  : j]))\n",
    "        if collect_history:\n",
    "          trace.append((deepcopy(model.linear1.weight.data.detach().numpy()),\n",
    "                        deepcopy(model.linear2.weight.data.detach().numpy())))\n",
    "    loss_vals.append(np.mean(loss_tmp))\n",
    "    if collect_history:\n",
    "      trace.append((deepcopy(model.linear1.weight.data.detach().numpy()),\n",
    "                    deepcopy(model.linear2.weight.data.detach().numpy())))\n",
    "    cnt = 0\n",
    "    for g in loss_grad:\n",
    "        g_vector = g.contiguous().view(-1) if cnt == 0 else torch.cat([g_vector, g.contiguous().view(-1)])\n",
    "        cnt = 1\n",
    "    print(\"Iteration: %d, loss: %s, gradient norm: %s\" % (Ninner * i, np.mean(loss_tmp), torch.norm(g_vector)))\n",
    "    \n",
    "    # Adjust the learning rate.\n",
    "    for param_group in optimizer.param_groups:\n",
    "        param_group['lr'] = lr / (1 + i)\n",
    "    \n",
    "    # stopping criterion\n",
    "    if i == N:\n",
    "        num_neurons = model.linear1.weight.shape[0]\n",
    "        weights = np.append(trace[-1][0].reshape(num_neurons * 2), trace[-1][1][0].reshape(num_neurons))\n",
    "        # opt = nlopt.opt(nlopt.LD_SLSQP, len(weights))\n",
    "        # opt.set_lower_bounds([w - 10 for w in weights])\n",
    "        # opt.set_upper_bounds([w + 10 for w in weights])\n",
    "        # opt.set_min_objective(loss_obj)\n",
    "        # opt.set_maxtime(5)\n",
    "        # final_weights = opt.optimize(weights)\n",
    "        # return loss_vals, trace, final_weights\n",
    "        return loss_vals, trace, weights\n",
    "\n",
    "def train_second_order(model):\n",
    "    num_neurons = model.linear1.weight.shape[0]\n",
    "    weights = np.append(model.linear1.weight.data.detach().numpy().reshape(num_neurons * 2),\n",
    "                        model.linear2.weight.data.detach().numpy().reshape(num_neurons))\n",
    "    lower_bound = weights - 0.5\n",
    "    upper_bound = weights + 0.5\n",
    "    opt = nlopt.opt(nlopt.LD_SLSQP, len(weights))\n",
    "    opt.set_lower_bounds(lower_bound)\n",
    "    opt.set_upper_bounds(upper_bound)\n",
    "    opt.set_min_objective(loss_obj)\n",
    "    opt.set_maxtime(5)\n",
    "    opt.set_xtol_rel(1e-10)\n",
    "    opt.set_initial_step(1e-32)\n",
    "    final_weights = opt.optimize(weights)\n",
    "    return final_weights\n",
    "\n",
    "def perturbed_train_second_order(model):\n",
    "    num_neurons = model.linear1.weight.shape[0]\n",
    "    weights = np.append(model.linear1.weight.data.detach().numpy().reshape(num_neurons * 2),\n",
    "                        model.linear2.weight.data.detach().numpy().reshape(num_neurons))\n",
    "\n",
    "    mu, sigma = 0, 0.5 # mean and standard deviation of the sample Gaussian\n",
    "    num_perturbations = 1\n",
    "    \n",
    "    perturbed_losses = []\n",
    "    perturbed_grads = []\n",
    "    perturbed_final_weights = []\n",
    "    for i in range(num_perturbations):\n",
    "        perturbation = np.random.normal(mu, sigma, len(weights))\n",
    "        perturbed_weights = weights + perturbation\n",
    "        lower_bound = perturbed_weights - 10\n",
    "        upper_bound = perturbed_weights + 10\n",
    "        opt = nlopt.opt(nlopt.LD_SLSQP, len(perturbed_weights))\n",
    "        opt.set_lower_bounds(lower_bound)\n",
    "        opt.set_upper_bounds(upper_bound)\n",
    "        opt.set_min_objective(loss_obj)\n",
    "        opt.set_maxtime(1)\n",
    "        opt.set_xtol_rel(1e-10)\n",
    "        opt.set_initial_step(1e-32)\n",
    "        final_weights = opt.optimize(perturbed_weights)\n",
    "        perturbed_losses.append(loss(final_weights))\n",
    "        perturbed_grads.append(jnp.linalg.norm(jax_grad(loss)(final_weights)))\n",
    "        perturbed_final_weights.append(final_weights)\n",
    "    return perturbed_losses, perturbed_grads, perturbed_final_weights"
   ]
  },
  {
   "cell_type": "code",
   "execution_count": 99,
   "metadata": {
    "id": "jrew73rJR_FT"
   },
   "outputs": [
    {
     "name": "stdout",
     "output_type": "stream",
     "text": [
      "7.969688343304275e-05\n",
      "6.565029923793567e-07\n"
     ]
    }
   ],
   "source": [
    "np.set_printoptions(precision=32)\n",
    "# loss_vals, trace, final_weights = train(dummy_model, dataset, y_labels)\n",
    "final_weights = train_second_order(dummy_model)\n",
    "print(loss(final_weights))\n",
    "print(jnp.linalg.norm(jax_grad(loss)(final_weights)))"
   ]
  },
  {
   "cell_type": "code",
   "execution_count": 100,
   "metadata": {},
   "outputs": [],
   "source": [
    "perturbed_losses, perturbed_grads, perturbed_final_weights = perturbed_train_second_order(dummy_model)"
   ]
  },
  {
   "cell_type": "code",
   "execution_count": 101,
   "metadata": {},
   "outputs": [],
   "source": [
    "perturbed_grads = np.array(perturbed_grads)\n",
    "perturbed_losses = np.array(perturbed_losses)\n",
    "perturbed_final_weights = np.array(perturbed_final_weights)\n",
    "# perturbed_losses = perturbed_losses[perturbed_losses >= 1e-6]"
   ]
  },
  {
   "cell_type": "code",
   "execution_count": 102,
   "metadata": {
    "scrolled": true
   },
   "outputs": [
    {
     "data": {
      "text/plain": [
       "Text(0, 0.5, 'Loss')"
      ]
     },
     "execution_count": 102,
     "metadata": {},
     "output_type": "execute_result"
    },
    {
     "data": {
      "image/png": "[encoded data removed]",
      "text/plain": [
       "<Figure size 432x288 with 1 Axes>"
      ]
     },
     "metadata": {
      "needs_background": "light"
     },
     "output_type": "display_data"
    }
   ],
   "source": [
    "plt.plot(np.arange(0, len(perturbed_losses)), perturbed_losses)\n",
    "plt.xlabel('Perturbation number')\n",
    "plt.ylabel('Loss')"
   ]
  },
  {
   "cell_type": "code",
   "execution_count": 103,
   "metadata": {
    "id": "GKuQPOx8_NQs"
   },
   "outputs": [
    {
     "name": "stdout",
     "output_type": "stream",
     "text": [
      "loss after second order opt.:  7.969688343304276e-05\n",
      "grad norm after second order opt.:  6.565029923787715e-07\n"
     ]
    }
   ],
   "source": [
    "w_in_torch_format = torch.DoubleTensor(final_weights[0 : H_teacher * 2].reshape(H_teacher, 2))\n",
    "w_out_torch_format = torch.DoubleTensor([final_weights[H_teacher * 2 :].reshape(H_teacher)])\n",
    "\n",
    "# dummy_model = DummyNetwork(D_in, H_teacher, D_out,\n",
    "#                            torch.DoubleTensor(trace[-1][0]),\n",
    "#                            torch.DoubleTensor(trace[-1][1]))\n",
    "# loss_val = nn.MSELoss()(dummy_model(dataset), y_labels)\n",
    "# print('loss before second order opt.: ',loss_val.item())\n",
    "# loss_grad = torch.autograd.grad(loss_val, dummy_model.parameters(), create_graph=True)\n",
    "# gradients = loss_grad[0].reshape(H_teacher * 2).detach().numpy()\n",
    "# gradients = np.append(gradients, loss_grad[1][0].detach().numpy())\n",
    "# print('grad norm before second order opt.: ', np.linalg.norm(gradients))\n",
    "\n",
    "dummy_model = DummyNetwork(D_in, H_teacher, D_out, w_in_torch_format, w_out_torch_format)\n",
    "loss_val = nn.MSELoss()(dummy_model(dataset), y_labels)\n",
    "print('loss after second order opt.: ',loss_val.item())\n",
    "loss_grad = torch.autograd.grad(loss_val, dummy_model.parameters(), create_graph=True)\n",
    "gradients = loss_grad[0].reshape(H_teacher * 2).detach().numpy()\n",
    "gradients = np.append(gradients, loss_grad[1][0].detach().numpy())\n",
    "print('grad norm after second order opt.: ', np.linalg.norm(gradients))"
   ]
  },
  {
   "cell_type": "markdown",
   "metadata": {
    "id": "knaE2jzPCkQv"
   },
   "source": [
    "# Replot the neuron points after training"
   ]
  },
  {
   "cell_type": "code",
   "execution_count": 104,
   "metadata": {},
   "outputs": [],
   "source": [
    "total_outgoing_weights = np.concatenate([outgoing_weights, w_out_torch_format[0]], axis=0)\n",
    "min_outgoing_weight, max_outgoing_weight = total_outgoing_weights.min(), total_outgoing_weights.max()"
   ]
  },
  {
   "cell_type": "code",
   "execution_count": 105,
   "metadata": {},
   "outputs": [
    {
     "data": {
      "image/png": "[encoded data removed]",
      "text/plain": [
       "<Figure size 432x288 with 2 Axes>"
      ]
     },
     "metadata": {
      "needs_background": "light"
     },
     "output_type": "display_data"
    }
   ],
   "source": [
    "plt.scatter(teacher_neurons_x, teacher_neurons_y, marker=\"*\")\n",
    "\n",
    "plt.scatter(incoming_weights_x,\n",
    "            incoming_weights_y,\n",
    "            c = outgoing_weights,\n",
    "            cmap = matplotlib.cm.jet)\n",
    "plt.clim(min_outgoing_weight, max_outgoing_weight)\n",
    "\n",
    "plt.colorbar().set_label('Outgoing weight', rotation=270)\n",
    "plt.xlabel('w1')\n",
    "plt.ylabel('w2')\n",
    "plt.show()"
   ]
  },
  {
   "cell_type": "code",
   "execution_count": 106,
   "metadata": {
    "id": "3Ux5AaG5SMGX"
   },
   "outputs": [
    {
     "data": {
      "image/png": "[encoded data removed]",
      "text/plain": [
       "<Figure size 432x288 with 2 Axes>"
      ]
     },
     "metadata": {
      "needs_background": "light"
     },
     "output_type": "display_data"
    }
   ],
   "source": [
    "plt.scatter(teacher_neurons_x, teacher_neurons_y, marker=\"*\")\n",
    "\n",
    "plt.scatter(incoming_weights_x,\n",
    "            incoming_weights_y,\n",
    "            c = outgoing_weights,\n",
    "            cmap = matplotlib.cm.jet)\n",
    "plt.clim(min_outgoing_weight, max_outgoing_weight)\n",
    "\n",
    "# plt.scatter(trace[-1][0][:, 0],\n",
    "#             trace[-1][0][:, 1],\n",
    "#             c = trace[-1][1][0],\n",
    "#             cmap = matplotlib.cm.jet,\n",
    "#             marker=\"+\")\n",
    "\n",
    "plt.scatter(w_in_torch_format[:, 0],\n",
    "            w_in_torch_format[:, 1],\n",
    "            c = w_out_torch_format[0],\n",
    "            cmap = matplotlib.cm.jet,\n",
    "            marker=\">\")\n",
    "plt.clim(min_outgoing_weight, max_outgoing_weight)\n",
    "\n",
    "plt.colorbar().set_label('Outgoing weight', rotation=270)\n",
    "plt.xlabel('w1')\n",
    "plt.ylabel('w2')\n",
    "\n",
    "plt.show()"
   ]
  },
  {
   "cell_type": "code",
   "execution_count": 107,
   "metadata": {
    "id": "3QQueIYMOrp4"
   },
   "outputs": [
    {
     "name": "stdout",
     "output_type": "stream",
     "text": [
      "[ -1.2775172768176173    1.0288394419098346   -0.7305619998746957\n",
      "   1.4871552140321722   -0.902261813535612    -0.585449488585722\n",
      "  -1.2970533572266183    1.0423031847131665    0.19422289278673627\n",
      "  -0.05411534809447417 -10.878693547030105     0.07176512294046739\n",
      "  -0.45498075571767316  10.485803314933506     0.7761178150337397 ]\n"
     ]
    }
   ],
   "source": [
    "local_min = np.array([incoming_weights_x[0], incoming_weights_y[0],\n",
    "             incoming_weights_x[1], incoming_weights_y[1],\n",
    "             incoming_weights_x[2], incoming_weights_y[2],\n",
    "             incoming_weights_x[3], incoming_weights_y[3],\n",
    "             incoming_weights_x[4], incoming_weights_y[4],\n",
    "             outgoing_weights[0], outgoing_weights[1], outgoing_weights[2],\n",
    "             outgoing_weights[3], outgoing_weights[4]])\n",
    "print(local_min)"
   ]
  },
  {
   "cell_type": "markdown",
   "metadata": {
    "id": "A15hNOcuCu24"
   },
   "source": [
    "# Find the SI saddle line and the optimal \\mu"
   ]
  },
  {
   "cell_type": "code",
   "execution_count": 108,
   "metadata": {},
   "outputs": [],
   "source": [
    "def construct_si_saddle(final_weights, mu):\n",
    "    num_neurons = int(len(final_weights) / 3)\n",
    "    w_in_torch_format = torch.DoubleTensor(final_weights[0 : num_neurons * 2].reshape(num_neurons, 2))\n",
    "    w_out_torch_format = torch.DoubleTensor([final_weights[num_neurons * 2 :].reshape(num_neurons)])\n",
    "\n",
    "    si_saddle = np.array([])\n",
    "    teacher_idx = 1\n",
    "\n",
    "    for i in range(H_student):\n",
    "      if i == idx_neuron1 or i == idx_neuron2:\n",
    "        si_saddle = np.append(si_saddle, w_in_torch_format[0][0].item())\n",
    "        si_saddle = np.append(si_saddle, w_in_torch_format[0][1].item())\n",
    "        continue\n",
    "      si_saddle = np.append(si_saddle, w_in_torch_format[teacher_idx][0].item())\n",
    "      si_saddle = np.append(si_saddle, w_in_torch_format[teacher_idx][1].item())\n",
    "      teacher_idx += 1\n",
    "\n",
    "    teacher_idx = 1\n",
    "\n",
    "    for i in range(H_student):\n",
    "      if i == idx_neuron1:\n",
    "        si_saddle = np.append(si_saddle,\n",
    "                              mu * w_out_torch_format[0][0].item())\n",
    "        continue\n",
    "      if i == idx_neuron2:\n",
    "        si_saddle = np.append(si_saddle,\n",
    "                              (1 - mu) * w_out_torch_format[0][0].item())\n",
    "        continue\n",
    "      si_saddle = np.append(si_saddle,\n",
    "                            w_out_torch_format[0][teacher_idx].item())\n",
    "      teacher_idx += 1\n",
    "\n",
    "    return si_saddle"
   ]
  },
  {
   "cell_type": "code",
   "execution_count": 109,
   "metadata": {
    "id": "GKuSu6M_dJS1"
   },
   "outputs": [],
   "source": [
    "def find_saddle_line(final_weights):\n",
    "    saddle_smallest_u = construct_si_saddle(final_weights, -1)\n",
    "    saddle_largest_u = construct_si_saddle(final_weights, 2)\n",
    "    \n",
    "    saddle_line_dir = (saddle_largest_u - saddle_smallest_u) / \\\n",
    "                       np.linalg.norm(saddle_largest_u - saddle_smallest_u)\n",
    "    closest_saddle = saddle_smallest_u + saddle_line_dir * \\\n",
    "                     np.dot(saddle_line_dir, (local_min - saddle_smallest_u))\n",
    "    optimal_mu = closest_saddle[2 * H_student + idx_neuron1] / w_out_torch_format[0][0].item()\n",
    "    directional_vector = local_min - closest_saddle\n",
    "    \n",
    "    return closest_saddle, optimal_mu, directional_vector"
   ]
  },
  {
   "cell_type": "code",
   "execution_count": 110,
   "metadata": {},
   "outputs": [
    {
     "name": "stdout",
     "output_type": "stream",
     "text": [
      "Optimal mu: 24.707089448483906\n",
      "Distance to local min: 0.8591064361832984\n"
     ]
    }
   ],
   "source": [
    "closest_saddle, optimal_mu, directional_vector = find_saddle_line(final_weights)\n",
    "print('Optimal mu:', optimal_mu)\n",
    "print('Distance to local min:', np.linalg.norm(local_min - closest_saddle))\n",
    "\n",
    "dist_min_saddle = np.linalg.norm(local_min - closest_saddle)"
   ]
  },
  {
   "cell_type": "code",
   "execution_count": 111,
   "metadata": {},
   "outputs": [
    {
     "name": "stdout",
     "output_type": "stream",
     "text": [
      "0.8937576690796551\n"
     ]
    },
    {
     "data": {
      "text/plain": [
       "Text(0, 0.5, 'Distance to local min')"
      ]
     },
     "execution_count": 111,
     "metadata": {},
     "output_type": "execute_result"
    },
    {
     "data": {
      "image/png": "[encoded data removed]",
      "text/plain": [
       "<Figure size 432x288 with 1 Axes>"
      ]
     },
     "metadata": {
      "needs_background": "light"
     },
     "output_type": "display_data"
    }
   ],
   "source": [
    "perturbed_distances_to_local_min = []\n",
    "\n",
    "for perturbed_final_weights_sample in perturbed_final_weights:\n",
    "    perturbed_closest_saddle, perturbed_optimal_mu, perturbed_directional_vector = find_saddle_line(perturbed_final_weights_sample)\n",
    "    new_dist_min_saddle = np.linalg.norm(local_min - perturbed_closest_saddle)\n",
    "    if new_dist_min_saddle < dist_min_saddle:\n",
    "        dist_min_saddle = new_dist_min_saddle\n",
    "        closest_saddle = perturbed_closest_saddle\n",
    "        optimal_mu = perturbed_optimal_mu\n",
    "        directional_vector = perturbed_directional_vector\n",
    "    perturbed_distances_to_local_min.append(new_dist_min_saddle)\n",
    "print(min(perturbed_distances_to_local_min))\n",
    "plt.plot(np.arange(0, len(perturbed_distances_to_local_min)), perturbed_distances_to_local_min)\n",
    "plt.xlabel('Pertubation number')\n",
    "plt.ylabel('Distance to local min')"
   ]
  },
  {
   "cell_type": "code",
   "execution_count": 112,
   "metadata": {},
   "outputs": [
    {
     "data": {
      "text/plain": [
       "Text(0, 0.5, 'Distance (L2) to local min')"
      ]
     },
     "execution_count": 112,
     "metadata": {},
     "output_type": "execute_result"
    },
    {
     "data": {
      "image/png": "[encoded data removed]",
      "text/plain": [
       "<Figure size 432x288 with 1 Axes>"
      ]
     },
     "metadata": {
      "needs_background": "light"
     },
     "output_type": "display_data"
    }
   ],
   "source": [
    "plt.scatter(perturbed_losses, perturbed_distances_to_local_min)\n",
    "plt.xlabel('Loss')\n",
    "# plt.xscale('log')\n",
    "plt.ylabel('Distance (L2) to local min')"
   ]
  },
  {
   "cell_type": "markdown",
   "metadata": {},
   "source": [
    "# Eigenspectrum of the closest SI saddle"
   ]
  },
  {
   "cell_type": "code",
   "execution_count": 113,
   "metadata": {
    "scrolled": true
   },
   "outputs": [
    {
     "name": "stdout",
     "output_type": "stream",
     "text": [
      "[-6.5368301962316684e-05  1.4702589269187720e-11  6.3597643025279776e-06\n",
      "  1.1157888918289352e-04  1.9731047935686751e-04  3.2645618504396196e-04\n",
      "  8.1626867931011628e-04  7.7130389459876929e-03  1.2506967104190593e-02\n",
      "  1.7837452588537486e-02  2.0746411883657034e-01  5.3126048406274973e-01\n",
      "  2.6587443220031028e+00  9.5538844119312802e+00  1.2300095904641485e+02]\n"
     ]
    },
    {
     "data": {
      "text/plain": [
       "Text(0, 0.5, 'Eigenvalue')"
      ]
     },
     "execution_count": 113,
     "metadata": {},
     "output_type": "execute_result"
    },
    {
     "data": {
      "image/png": "[encoded data removed]",
      "text/plain": [
       "<Figure size 432x288 with 1 Axes>"
      ]
     },
     "metadata": {
      "needs_background": "light"
     },
     "output_type": "display_data"
    }
   ],
   "source": [
    "H = hessian(loss)(closest_saddle)\n",
    "H = (H + H.T) / 2\n",
    "evals, _ = jnp.linalg.eigh(H)\n",
    "print(evals)\n",
    "plt.scatter(np.arange(len(evals)), evals)\n",
    "plt.xlabel('Index of eigenvalue')\n",
    "plt.ylabel('Eigenvalue')"
   ]
  },
  {
   "cell_type": "markdown",
   "metadata": {
    "id": "Ds6ujTrIC3SD"
   },
   "source": [
    "# Compute loss across the 1D line between local min and closest saddle"
   ]
  },
  {
   "cell_type": "code",
   "execution_count": 114,
   "metadata": {
    "id": "LcaT_R-S6GJ5"
   },
   "outputs": [],
   "source": [
    "def loss_from_flattened_neuron_point(neuron_point):\n",
    "  neuron_point_w_in = torch.DoubleTensor(neuron_point[0 : 2 * H_student].reshape(H_student, 2))\n",
    "  neuron_point_w_out = torch.DoubleTensor([neuron_point[2 * H_student : ].reshape(H_student)])\n",
    "\n",
    "  dummy_model = DummyNetwork(D_in, H_teacher, D_out, neuron_point_w_in, neuron_point_w_out)\n",
    "  loss_val = nn.MSELoss()(dummy_model(dataset), y_labels).item()\n",
    "\n",
    "  return loss_val"
   ]
  },
  {
   "cell_type": "code",
   "execution_count": 115,
   "metadata": {
    "id": "pkUAtLYV743N"
   },
   "outputs": [],
   "source": [
    "def get_losses_across_line(start_si_saddle, directional_vector, eps=1e-4):\n",
    "    line_point = start_si_saddle\n",
    "    distances_to_saddle = [0]\n",
    "    losses_to_min = [loss(start_si_saddle)]\n",
    "\n",
    "    while True:\n",
    "      line_point = line_point + eps * directional_vector\n",
    "\n",
    "      loss_val = loss(line_point)\n",
    "      distances_to_saddle.append(np.linalg.norm(start_si_saddle - line_point))\n",
    "      losses_to_min.append(loss_val)\n",
    "\n",
    "      if np.linalg.norm(line_point - start_si_saddle) >= 1e-1 + np.linalg.norm(local_min - start_si_saddle):\n",
    "        break\n",
    "    return distances_to_saddle, losses_to_min"
   ]
  },
  {
   "cell_type": "code",
   "execution_count": 116,
   "metadata": {},
   "outputs": [],
   "source": [
    "distances_to_saddle, losses_to_min = get_losses_across_line(closest_saddle, directional_vector)"
   ]
  },
  {
   "cell_type": "code",
   "execution_count": 117,
   "metadata": {
    "id": "OGFepytsO1yG"
   },
   "outputs": [
    {
     "name": "stdout",
     "output_type": "stream",
     "text": [
      "7.971948016664126e-05\n",
      "7.340985286608411e-05\n"
     ]
    },
    {
     "data": {
      "text/plain": [
       "<matplotlib.collections.PathCollection at 0x7f997a5815d0>"
      ]
     },
     "execution_count": 117,
     "metadata": {},
     "output_type": "execute_result"
    },
    {
     "data": {
      "image/png": "[encoded data removed]",
      "text/plain": [
       "<Figure size 432x288 with 1 Axes>"
      ]
     },
     "metadata": {
      "needs_background": "light"
     },
     "output_type": "display_data"
    }
   ],
   "source": [
    "plt.plot(distances_to_saddle, losses_to_min)\n",
    "print(max(losses_to_min))\n",
    "print(min(losses_to_min))\n",
    "\n",
    "plt.xlabel('Distance from the symmetry induced saddle')\n",
    "plt.ylabel('Loss value')\n",
    "\n",
    "# Mark the position of the closest saddle in the chart.\n",
    "plt.scatter(distances_to_saddle[0], losses_to_min[0], color='red')\n",
    "plt.yscale('log')\n",
    "\n",
    "# Mark the position of the local min in the chart.\n",
    "local_min_idx = np.argmin(abs(distances_to_saddle - np.linalg.norm(local_min - closest_saddle)))\n",
    "plt.scatter(distances_to_saddle[local_min_idx], losses_to_min[local_min_idx], color='red')"
   ]
  },
  {
   "cell_type": "markdown",
   "metadata": {},
   "source": [
    "# Compute loss across the 1D line for a range of \\mu"
   ]
  },
  {
   "cell_type": "code",
   "execution_count": 118,
   "metadata": {},
   "outputs": [
    {
     "name": "stdout",
     "output_type": "stream",
     "text": [
      "[-5.8908347581809227e-05  1.4352525937161062e-09]\n",
      "[-5.9369729687770304e-05  1.3228171838800805e-09]\n",
      "[-5.9784856014647839e-05  1.2232327768648017e-09]\n",
      "[-6.0159593592624149e-05  1.1345950552816056e-09]\n",
      "[-6.0498925276281147e-05  1.0553423799839865e-09]\n",
      "[-6.0807101901736055e-05  9.8418375510781956e-10]\n",
      "[-6.108776535647456e-05  9.200447424755085e-10]\n",
      "[-6.134404861386429e-05  8.620251895285041e-10]\n",
      "[-6.157865743711978e-05  8.093647893264317e-10]\n",
      "[-6.179393742223365e-05  7.614193733387090e-10]\n"
     ]
    },
    {
     "data": {
      "text/plain": [
       "<matplotlib.legend.Legend at 0x7f99c2f7f090>"
      ]
     },
     "execution_count": 118,
     "metadata": {},
     "output_type": "execute_result"
    },
    {
     "data": {
      "image/png": "[encoded data removed]",
      "text/plain": [
       "<Figure size 432x288 with 1 Axes>"
      ]
     },
     "metadata": {
      "needs_background": "light"
     },
     "output_type": "display_data"
    }
   ],
   "source": [
    "# mu_range = [0, 0.25, 0.5, 0.75, 1, 2, 5, 10]\n",
    "mu_range = np.arange(3, 4, 0.1)\n",
    "# mu_range = [-2.2, -2.1, -1.9, -1.8, -1.7, -1.6, -1.5]\n",
    "# fig_escape, axs = plt.subplots(len(mu_range), 1)\n",
    "# fig_escape.set_size_inches(5, 30)\n",
    "\n",
    "for idx, mu in enumerate(mu_range):\n",
    "    si_saddle = construct_si_saddle(final_weights, mu)\n",
    "    directional_vector = local_min - si_saddle\n",
    "    distances_to_saddle, losses_to_min = get_losses_across_line(si_saddle, directional_vector)\n",
    "    plt.plot(distances_to_saddle, losses_to_min, label=\"mu=\" + str(mu))\n",
    "    \n",
    "    # Mark the position of the closest saddle in the chart.\n",
    "    plt.scatter(distances_to_saddle[0], losses_to_min[0], color='red')\n",
    "    plt.yscale('log')\n",
    "\n",
    "    # Mark the position of the local min in the chart.\n",
    "    local_min_idx = np.argmin(abs(distances_to_saddle - np.linalg.norm(local_min - si_saddle)))\n",
    "    plt.scatter(distances_to_saddle[local_min_idx], losses_to_min[local_min_idx], color='red')\n",
    "    plt.xlabel('Distance from the symmetry induced saddle')\n",
    "    plt.ylabel('Loss value')\n",
    "    \n",
    "    H = hessian(loss)(si_saddle)\n",
    "    H = (H + H.T) / 2\n",
    "    evals, _ = jnp.linalg.eigh(H)\n",
    "    print(evals[:2])\n",
    "\n",
    "plt.legend(loc=\"upper right\")"
   ]
  },
  {
   "cell_type": "markdown",
   "metadata": {
    "id": "NPAMVVjzDGXy"
   },
   "source": [
    "# Compute the 2D plane between the SI saddles line and the local min"
   ]
  },
  {
   "cell_type": "code",
   "execution_count": 119,
   "metadata": {
    "id": "T88RhExFFnpm"
   },
   "outputs": [
    {
     "name": "stdout",
     "output_type": "stream",
     "text": [
      "loss at left saddle limit: 7.969688343304322e-05\n",
      "loss at right saddle limit: 7.969688343304322e-05\n",
      "loss at closest saddle: 7.969688343304322e-05\n",
      "loss at local min: 7.340985286608199e-05\n"
     ]
    }
   ],
   "source": [
    "left_saddle_limit = deepcopy(closest_saddle)\n",
    "right_saddle_limit = deepcopy(closest_saddle)\n",
    "print('loss at left saddle limit:', loss_from_flattened_neuron_point(left_saddle_limit))\n",
    "print('loss at right saddle limit:', loss_from_flattened_neuron_point(right_saddle_limit))\n",
    "print('loss at closest saddle:', loss_from_flattened_neuron_point(closest_saddle))\n",
    "print('loss at local min:', loss_from_flattened_neuron_point(local_min))\n",
    "\n",
    "saddle_line_size = 10\n",
    "left_saddle_limit[2 * H_student + idx_neuron1] += -saddle_line_size / 2\n",
    "left_saddle_limit[2 * H_student + idx_neuron2] += saddle_line_size / 2\n",
    "\n",
    "right_saddle_limit[2 * H_student + idx_neuron1] += saddle_line_size / 2\n",
    "right_saddle_limit[2 * H_student + idx_neuron2] += -saddle_line_size / 2"
   ]
  },
  {
   "cell_type": "code",
   "execution_count": 120,
   "metadata": {
    "id": "y9ZENhigtIZ1"
   },
   "outputs": [
    {
     "name": "stdout",
     "output_type": "stream",
     "text": [
      "301\n"
     ]
    }
   ],
   "source": [
    "x_dist = np.linalg.norm(right_saddle_limit - left_saddle_limit)\n",
    "y_dist = np.linalg.norm(closest_saddle - local_min)\n",
    "\n",
    "direction_x_axis = (right_saddle_limit - left_saddle_limit) / np.linalg.norm(right_saddle_limit - left_saddle_limit)\n",
    "direction_y_axis = (local_min - closest_saddle) / np.linalg.norm(local_min - closest_saddle)\n",
    "\n",
    "num_steps_x_axis = 300\n",
    "step_x_axis = x_dist / num_steps_x_axis\n",
    "offset_oy = 70\n",
    "num_steps_y_axis = 300 - 2 * offset_oy\n",
    "step_y_axis = y_dist / num_steps_y_axis\n",
    "\n",
    "left_saddle_limit = left_saddle_limit - offset_oy * step_y_axis * direction_y_axis\n",
    "right_saddle_limit = right_saddle_limit - offset_oy * step_y_axis * direction_y_axis\n",
    "\n",
    "y_dist = np.linalg.norm(closest_saddle - offset_oy * step_y_axis * direction_y_axis - \\\n",
    "                        local_min - offset_oy * step_y_axis * direction_y_axis)\n",
    "num_steps_y_axis = 300\n",
    "\n",
    "x_axis_points = []\n",
    "y_axis_points= []\n",
    "\n",
    "for num_step in range(num_steps_x_axis + 1):\n",
    "  x_axis_points.append(num_step * step_x_axis * direction_x_axis)\n",
    "\n",
    "for num_step in range(num_steps_y_axis + 1):\n",
    "  y_axis_points.append(num_step * step_y_axis * direction_y_axis)\n",
    "\n",
    "\n",
    "print(len(x_axis_points))\n",
    "\n",
    "loss_values = []\n",
    "neuron_points = [left_saddle_limit + x_axis_point + y_axis_point for y_axis_point in y_axis_points for x_axis_point in x_axis_points]\n",
    "\n",
    "for y_axis_point in y_axis_points:\n",
    "  for x_axis_point in x_axis_points:\n",
    "    neuron_point = left_saddle_limit + x_axis_point + y_axis_point\n",
    "    loss_val = loss_from_flattened_neuron_point(neuron_point)\n",
    "\n",
    "    loss_values.append(np.log(loss_val))"
   ]
  },
  {
   "cell_type": "code",
   "execution_count": 121,
   "metadata": {
    "id": "zIeQxaxvc29L"
   },
   "outputs": [],
   "source": [
    "def find_projection_on_plane(neuron_point, plane_neuron_points):\n",
    "  min_dist = np.inf\n",
    "  row_idx = None\n",
    "  col_idx = None\n",
    "\n",
    "  for idx, plane_neuron_point in enumerate(plane_neuron_points):\n",
    "    if np.linalg.norm(neuron_point - plane_neuron_point) < min_dist:\n",
    "      min_dist = np.linalg.norm(neuron_point - plane_neuron_point)\n",
    "      row_idx = int(idx / (num_steps_x_axis + 1))\n",
    "      col_idx = idx % (num_steps_x_axis + 1)\n",
    "  \n",
    "  return row_idx, col_idx\n",
    "\n",
    "def fetch_trajectories_as_neuron_points(data_row):\n",
    "  traj_neuron_points = []\n",
    "\n",
    "  for i in range(0, int(data_row['student size'])):\n",
    "    neuron_traj_x = np.fromstring(data_row['neuron_' + str(i) + '_traj_x'][1:-1], dtype=float, sep=',')\n",
    "    neuron_traj_y = np.fromstring(data_row['neuron_' + str(i) + '_traj_y'][1:-1], dtype=float, sep=',')\n",
    "    if len(traj_neuron_points) == 0:\n",
    "      for j in range(0, len(neuron_traj_x)):\n",
    "        traj_neuron_points.append([])\n",
    "\n",
    "    for idx, _ in enumerate(neuron_traj_x):\n",
    "      traj_neuron_points[idx].append(neuron_traj_x[idx])\n",
    "      traj_neuron_points[idx].append(neuron_traj_y[idx])\n",
    "\n",
    "  for i in range(0, int(data_row['student size'])):\n",
    "    neuron_a = np.fromstring(data_row['neuron_' + str(i) + '_a'][1:-1], dtype=float, sep=',')\n",
    "    for idx, _ in enumerate(neuron_a):\n",
    "      traj_neuron_points[idx].append(neuron_a[idx])\n",
    "    \n",
    "  return traj_neuron_points\n",
    "\n",
    "def plot_projected_trajectories(data_row):\n",
    "  traj_neuron_points = fetch_trajectories_as_neuron_points(data_row)\n",
    "\n",
    "  projected_points_row = []\n",
    "  projected_points_col = []\n",
    "  # Necessarily include the first point.\n",
    "  row_idx, col_idx = find_projection_on_plane(traj_neuron_points[0], neuron_points)\n",
    "  projected_points_row.append(row_idx)\n",
    "  projected_points_col.append(col_idx)\n",
    "\n",
    "  for idx, traj_neuron_point in enumerate(traj_neuron_points):\n",
    "    if idx >= len(traj_neuron_points) - 2:\n",
    "      break\n",
    "    if idx % 5 == 0:\n",
    "      row_idx, col_idx = find_projection_on_plane(traj_neuron_point, neuron_points)\n",
    "      projected_points_row.append(row_idx)\n",
    "      projected_points_col.append(col_idx)\n",
    "\n",
    "  # Include the second to last point (Adam last point).\n",
    "  row_idx, col_idx = find_projection_on_plane(traj_neuron_points[-2], neuron_points)\n",
    "  projected_points_row.append(row_idx)\n",
    "  projected_points_col.append(col_idx)\n",
    "  plt.scatter([col_idx], [row_idx], marker='+', color='red')\n",
    "  print(row_idx, col_idx)\n",
    "\n",
    "\n",
    "  # Necessarily include the last point.\n",
    "  row_idx, col_idx = find_projection_on_plane(traj_neuron_points[-1], neuron_points)\n",
    "  projected_points_row.append(row_idx)\n",
    "  projected_points_col.append(col_idx)\n",
    "  print(row_idx, col_idx)\n",
    "\n",
    "  plt.plot(projected_points_col, projected_points_row, color='red')\n",
    "  plt.scatter(projected_points_col[0], projected_points_row[0],\n",
    "              marker='*', color='red')\n",
    "  plt.scatter(projected_points_col[-1], projected_points_row[-1],\n",
    "              marker='*', color='red')"
   ]
  },
  {
   "cell_type": "code",
   "execution_count": 122,
   "metadata": {
    "id": "RZNtn2c3yuzQ"
   },
   "outputs": [
    {
     "name": "stdout",
     "output_type": "stream",
     "text": [
      "239 300\n",
      "230 150\n"
     ]
    },
    {
     "data": {
      "image/png": "[encoded data removed]",
      "text/plain": [
       "<Figure size 432x288 with 2 Axes>"
      ]
     },
     "metadata": {
      "needs_background": "light"
     },
     "output_type": "display_data"
    }
   ],
   "source": [
    "closest_saddle_ox_coord = int (num_steps_x_axis / 2)\n",
    "closest_saddle_oy_coord = offset_oy\n",
    "\n",
    "local_min_ox_coord = closest_saddle_ox_coord\n",
    "local_min_oy_coord = num_steps_y_axis - offset_oy\n",
    "\n",
    "np_loss_values = np.array(loss_values).reshape(num_steps_y_axis + 1,\n",
    "                                               num_steps_x_axis + 1)\n",
    "\n",
    "fig_2dplane, ax = plt.subplots(1, 1)\n",
    "\n",
    "ticks_oy = np.linspace(0, num_steps_y_axis, 7)\n",
    "ticks_ox = np.linspace(0, num_steps_x_axis, 7)\n",
    "\n",
    "ticklabels_ox = [\"{:.2f}\".format(np.linalg.norm(neuron_points[int(i)] - neuron_points[0])) for i in ticks_ox]\n",
    "ticklabels_oy = [\"{:.2f}\".format(np.linalg.norm(neuron_points[(num_steps_x_axis + 1) * int(i)] - neuron_points[0])) for i in ticks_oy]\n",
    "\n",
    "grid_img = ax.imshow(np_loss_values, interpolation='bilinear', origin = 'lower')\n",
    "ax.set_xticks(ticks_ox)\n",
    "ax.set_xticklabels(ticklabels_ox)\n",
    "ax.set_yticks(ticks_oy)\n",
    "ax.set_yticklabels(ticklabels_oy)\n",
    "\n",
    "ax.scatter([closest_saddle_ox_coord, local_min_ox_coord],\n",
    "           [closest_saddle_oy_coord, local_min_oy_coord],\n",
    "           marker='x', color='white')\n",
    "\n",
    "ax.plot([0, num_steps_x_axis],\n",
    "        [closest_saddle_oy_coord, closest_saddle_oy_coord], color='red')\n",
    "\n",
    "\n",
    "fig_2dplane.colorbar(grid_img).set_label('log(loss)',rotation=270)\n",
    "# fig_2dplane.suptitle('Loss(log) on the plane formed by local min the SI saddles')\n",
    "\n",
    "plot_projected_trajectories(sample_point)\n",
    "plt.xlabel('L2 distance (SI saddles - local min)')\n",
    "plt.ylabel('L2 distance (SI saddles)')\n",
    "\n",
    "plt.show()"
   ]
  },
  {
   "cell_type": "code",
   "execution_count": 123,
   "metadata": {},
   "outputs": [
    {
     "data": {
      "text/plain": [
       "Text(0, 0.5, 'L2 norm between 2 neurons')"
      ]
     },
     "execution_count": 123,
     "metadata": {},
     "output_type": "execute_result"
    },
    {
     "data": {
      "image/png": "[encoded data removed]",
      "text/plain": [
       "<Figure size 432x288 with 1 Axes>"
      ]
     },
     "metadata": {
      "needs_background": "light"
     },
     "output_type": "display_data"
    }
   ],
   "source": [
    "traj_neuron_points = fetch_trajectories_as_neuron_points(sample_point)\n",
    "traj_neuron_points = np.array(traj_neuron_points)\n",
    "for i in range(H_student):\n",
    "    for j in range(i + 1, H_student):\n",
    "        traj_neuron_i = traj_neuron_points[:, 2 * i : 2 * i + 2]\n",
    "\n",
    "        traj_neuron_j = traj_neuron_points[:, 2 * j : 2 * j + 2]\n",
    "        \n",
    "        inter_neuron_distances = np.sqrt(((traj_neuron_i - traj_neuron_j) ** 2).sum(axis=-1))\n",
    "        color = 'blue'\n",
    "        if i == idx_neuron1 and j == idx_neuron2:\n",
    "            color = 'red'\n",
    "        plt.plot(np.arange(0, len(inter_neuron_distances)), inter_neuron_distances, color=color)\n",
    "\n",
    "plt.xlabel('Iteration')\n",
    "plt.ylabel('L2 norm between 2 neurons')"
   ]
  },
  {
   "cell_type": "markdown",
   "metadata": {},
   "source": [
    "# Finding the SI saddle directly from the local min"
   ]
  },
  {
   "cell_type": "markdown",
   "metadata": {},
   "source": [
    "## Using second order optimization"
   ]
  },
  {
   "cell_type": "code",
   "execution_count": 469,
   "metadata": {},
   "outputs": [],
   "source": [
    "def regularized_loss(w):\n",
    "  network_size = int(len(w) / 3)\n",
    "  w_in = w[0 : 2 * network_size].reshape(network_size, D_in)\n",
    "  w_out = w[2 * network_size : ].reshape(network_size)\n",
    "  # print(w_out)\n",
    "\n",
    "  # Don't add the outgoing weights for now.\n",
    "  neuron_1 = jnp.append(w_in[idx_neuron1, :], w_out[idx_neuron1])\n",
    "  neuron_2 = jnp.append(w_in[idx_neuron2, :], w_out[idx_neuron2])\n",
    "  # neuron_1 = w_in[idx_neuron1, :]\n",
    "  # neuron_2 = w_in[idx_neuron2, :]\n",
    "\n",
    "  preds = jnp.transpose(predict(w_in, w_out))\n",
    "  return jnp.mean(jnp.square(preds - jnp_labels)) + \\\n",
    "         2 * jnp.linalg.norm(w_in[idx_neuron1, :] - w_in[idx_neuron2, :]) + \\\n",
    "         2 * jnp.linalg.norm(w_out[idx_neuron1] - w_out[idx_neuron2])\n"
   ]
  },
  {
   "cell_type": "code",
   "execution_count": 470,
   "metadata": {},
   "outputs": [],
   "source": [
    "def regularized_loss_obj(weights, grad):\n",
    "  loss_val = regularized_loss(jnp.array(weights))\n",
    "  if grad.size > 0:\n",
    "    grad[:] = np.array(jax_grad(regularized_loss)(jnp.array(weights)), dtype=np.float64)\n",
    "  return np.float64(loss_val)"
   ]
  },
  {
   "cell_type": "code",
   "execution_count": 471,
   "metadata": {},
   "outputs": [],
   "source": [
    "incoming_weights_x, incoming_weights_y, outgoing_weights = extract_weights(sample_point)\n",
    "w_in = np.array([[incoming_weights_x[0], incoming_weights_y[0]],\n",
    "                  [incoming_weights_x[1], incoming_weights_y[1]],\n",
    "                  [incoming_weights_x[2], incoming_weights_y[2]],\n",
    "                  [incoming_weights_x[3], incoming_weights_y[3]],\n",
    "                  [incoming_weights_x[4], incoming_weights_y[4]]], dtype=np.float64)\n",
    "w_out = np.array([outgoing_weights], dtype=np.float64)\n",
    "weights = np.append(w_in.reshape(H_student * 2),\n",
    "                    w_out.reshape(H_student))"
   ]
  },
  {
   "cell_type": "code",
   "execution_count": 472,
   "metadata": {},
   "outputs": [],
   "source": [
    "def regularized_second_order_train(weights):\n",
    "    lower_bound = weights - 15\n",
    "    upper_bound = weights + 15\n",
    "    opt = nlopt.opt(nlopt.LD_SLSQP, len(weights))\n",
    "    opt.set_lower_bounds(lower_bound)\n",
    "    opt.set_upper_bounds(upper_bound)\n",
    "    opt.set_min_objective(regularized_loss_obj)\n",
    "    opt.set_maxtime(100)\n",
    "    opt.set_xtol_rel(1e-10)\n",
    "    opt.set_initial_step(1e-32)\n",
    "    final_weights = opt.optimize(weights)\n",
    "    return final_weights"
   ]
  },
  {
   "cell_type": "code",
   "execution_count": 473,
   "metadata": {},
   "outputs": [
    {
     "name": "stdout",
     "output_type": "stream",
     "text": [
      "Gradient at this point: 0.4920517310812006\n"
     ]
    }
   ],
   "source": [
    "final_weights = regularized_second_order_train(weights)\n",
    "print('Gradient at this point:', jnp.linalg.norm(jax_grad(loss)(final_weights)))\n",
    "w_in_torch_format = final_weights[0 : 2 * H_student].reshape(H_student, 2)\n",
    "w_out_torch_format = final_weights[2 * H_student : ].reshape(H_student)"
   ]
  },
  {
   "cell_type": "code",
   "execution_count": 474,
   "metadata": {},
   "outputs": [
    {
     "data": {
      "text/plain": [
       "Text(0, 0.5, 'w2')"
      ]
     },
     "execution_count": 474,
     "metadata": {},
     "output_type": "execute_result"
    },
    {
     "data": {
      "image/png": "[encoded data removed]",
      "text/plain": [
       "<Figure size 432x288 with 2 Axes>"
      ]
     },
     "metadata": {
      "needs_background": "light"
     },
     "output_type": "display_data"
    }
   ],
   "source": [
    "plt.scatter(w_in_torch_format[:, 0],\n",
    "            w_in_torch_format[:, 1],\n",
    "            c = w_out_torch_format,\n",
    "            cmap = matplotlib.cm.jet,\n",
    "            marker=\">\")\n",
    "plt.clim(min_outgoing_weight, max_outgoing_weight)\n",
    "\n",
    "plt.colorbar().set_label('Outgoing weight', rotation=270)\n",
    "plt.xlabel('w1')\n",
    "plt.ylabel('w2')"
   ]
  },
  {
   "cell_type": "code",
   "execution_count": 382,
   "metadata": {},
   "outputs": [],
   "source": [
    "def find_saddle_line_from_reg_saddle(final_weights):\n",
    "    saddle_smallest_u = deepcopy(final_weights)\n",
    "    saddle_smallest_u[2 * H_student + idx_neuron1] -= 1\n",
    "    saddle_smallest_u[2 * H_student + idx_neuron2] += 1\n",
    "\n",
    "    saddle_largest_u = deepcopy(final_weights)\n",
    "\n",
    "    saddle_line_dir = (saddle_largest_u - saddle_smallest_u) / \\\n",
    "                       np.linalg.norm(saddle_largest_u - saddle_smallest_u)\n",
    "    closest_saddle = saddle_smallest_u + saddle_line_dir * \\\n",
    "                     np.dot(saddle_line_dir, (local_min - saddle_smallest_u))\n",
    "    directional_vector = local_min - closest_saddle\n",
    "    \n",
    "    return closest_saddle, directional_vector"
   ]
  },
  {
   "cell_type": "code",
   "execution_count": 383,
   "metadata": {},
   "outputs": [
    {
     "name": "stdout",
     "output_type": "stream",
     "text": [
      "Distance to local min: 2.9759376479514335\n"
     ]
    }
   ],
   "source": [
    "closest_saddle, directional_vector = find_saddle_line_from_reg_saddle(final_weights)\n",
    "print('Distance to local min:', np.linalg.norm(local_min - closest_saddle))\n",
    "\n",
    "dist_min_saddle = np.linalg.norm(local_min - closest_saddle)"
   ]
  },
  {
   "cell_type": "code",
   "execution_count": 384,
   "metadata": {},
   "outputs": [
    {
     "name": "stdout",
     "output_type": "stream",
     "text": [
      "0.1291476554225628\n"
     ]
    }
   ],
   "source": [
    "line_point = closest_saddle\n",
    "distances_to_saddle = [0]\n",
    "losses_to_min = [loss(closest_saddle)]\n",
    "\n",
    "print(loss(line_point))\n",
    "\n",
    "while True:\n",
    "  eps = 1e-4\n",
    "  line_point = line_point + eps * directional_vector\n",
    "\n",
    "  loss_val = loss(line_point)\n",
    "  distances_to_saddle.append(np.linalg.norm(closest_saddle - line_point))\n",
    "  losses_to_min.append(loss_val)\n",
    "\n",
    "  if np.linalg.norm(line_point - closest_saddle) >= 1 + np.linalg.norm(local_min - closest_saddle):\n",
    "    break"
   ]
  },
  {
   "cell_type": "code",
   "execution_count": 385,
   "metadata": {},
   "outputs": [
    {
     "name": "stdout",
     "output_type": "stream",
     "text": [
      "0.14583887834588194\n"
     ]
    },
    {
     "data": {
      "text/plain": [
       "<matplotlib.collections.PathCollection at 0x7f993d727a90>"
      ]
     },
     "execution_count": 385,
     "metadata": {},
     "output_type": "execute_result"
    },
    {
     "data": {
      "image/png": "[encoded data removed]",
      "text/plain": [
       "<Figure size 432x288 with 1 Axes>"
      ]
     },
     "metadata": {
      "needs_background": "light"
     },
     "output_type": "display_data"
    }
   ],
   "source": [
    "plt.plot(distances_to_saddle, losses_to_min)\n",
    "print(max(losses_to_min))\n",
    "plt.xlabel('Distance from the symmetry induced saddle')\n",
    "plt.ylabel('Loss value')\n",
    "\n",
    "# Mark the position of the closest saddle in the chart.\n",
    "plt.scatter(distances_to_saddle[0], losses_to_min[0], color='red')\n",
    "plt.yscale('log')\n",
    "\n",
    "# Mark the position of the local min in the chart.\n",
    "local_min_idx = np.argmin(abs(distances_to_saddle - np.linalg.norm(local_min - closest_saddle)))\n",
    "plt.scatter(distances_to_saddle[local_min_idx], losses_to_min[local_min_idx], color='red')"
   ]
  },
  {
   "cell_type": "markdown",
   "metadata": {},
   "source": [
    "## Using first order optimization"
   ]
  },
  {
   "cell_type": "code",
   "execution_count": 262,
   "metadata": {},
   "outputs": [],
   "source": [
    "incoming_weights_x, incoming_weights_y, outgoing_weights = extract_weights(sample_point)\n",
    "w_in = np.array([[incoming_weights_x[0], incoming_weights_y[0]],\n",
    "                  [incoming_weights_x[1], incoming_weights_y[1]],\n",
    "                  [incoming_weights_x[2], incoming_weights_y[2]],\n",
    "                  [incoming_weights_x[3], incoming_weights_y[3]],\n",
    "                  [incoming_weights_x[4], incoming_weights_y[4]]], dtype=np.float64)\n",
    "w_out = np.array([outgoing_weights], dtype=np.float64)\n",
    "weights = np.append(w_in.reshape(H_student * 2),\n",
    "                    w_out.reshape(H_student))"
   ]
  },
  {
   "cell_type": "code",
   "execution_count": 263,
   "metadata": {},
   "outputs": [],
   "source": [
    "def pytorch_regularized_loss(output, target):\n",
    "    loss = torch.mean((output - target) ** 2)\n",
    "    return loss\n",
    "\n",
    "def regularized_first_order_train(model, x, y_labels,  N = 10, Ninner = 10 ** 3, Nstart = 10):\n",
    "  optimizer = torch.optim.SGD(model.parameters(), lr = 0.001)\n",
    "  psi = 2\n",
    "\n",
    "  loss_vals = []\n",
    "\n",
    "  for i in range(1, N + 1):\n",
    "    loss_tmp = []\n",
    "    for j in range(1, Ninner + 1):\n",
    "      y = model(x)\n",
    "\n",
    "      model_params = []\n",
    "      for param in model.parameters():\n",
    "        model_params.append(param)\n",
    "      model_params_w_in = model_params[0]\n",
    "      model_params_w_out = model_params[1]\n",
    "      \n",
    "      neuron1 = torch.cat((model_params_w_in[idx_neuron1, :], model_params_w_out[:, idx_neuron1]), dim=-1)\n",
    "      neuron2 = torch.cat((model_params_w_in[idx_neuron2, :], model_params_w_out[:, idx_neuron2]), dim=-1)\n",
    "      # print(neuron1, neuron2)\n",
    "      \n",
    "      loss = pytorch_regularized_loss(y, y_labels) + psi * torch.norm(neuron1 - neuron2)\n",
    "\n",
    "      loss_grad = torch.autograd.grad(loss, model.parameters(), retain_graph=True)\n",
    "      loss_tmp.append(loss.item())\n",
    "      optimizer.zero_grad()\n",
    "      loss.backward(retain_graph=True)\n",
    "      optimizer.step()\n",
    "      if i == 1 and (j % Nstart == 0) and j < Ninner:\n",
    "        loss_vals.append(np.mean(loss_tmp[j - Nstart  : j]))\n",
    "\n",
    "    loss_vals.append(np.mean(loss_tmp))\n",
    "\n",
    "    cnt = 0\n",
    "    for g in loss_grad:\n",
    "        g_vector = g.contiguous().view(-1) if cnt == 0 else torch.cat([g_vector, g.contiguous().view(-1)])\n",
    "        cnt = 1\n",
    "    print(\"Iteration: %d, loss: %s, gradient norm: %s\" % (Ninner * i, np.mean(loss_tmp), torch.norm(g_vector)))\n",
    "    \n",
    "#   final_weights = train_second_order(model)\n",
    "#   final_weights = regularized_second_order_train(jnp.append(\n",
    "#                       deepcopy(model.linear1.weight.data.detach().numpy().reshape(H_student * 2)),\n",
    "#                       deepcopy(model.linear2.weight.data.detach().numpy().reshape(H_student))))\n",
    "#   return final_weights\n",
    "  return np.append(deepcopy(model.linear1.weight.data.detach().numpy().reshape(H_student * 2)),\n",
    "                     deepcopy(model.linear2.weight.data.detach().numpy().reshape(H_student)))\n"
   ]
  },
  {
   "cell_type": "code",
   "execution_count": 264,
   "metadata": {},
   "outputs": [],
   "source": [
    "dummy_model = DummyNetwork(D_in, H_student, D_out, torch.DoubleTensor(w_in), torch.DoubleTensor(w_out))"
   ]
  },
  {
   "cell_type": "code",
   "execution_count": 265,
   "metadata": {},
   "outputs": [
    {
     "name": "stdout",
     "output_type": "stream",
     "text": [
      "Iteration: 1000, loss: 38.73310721521072, gradient norm: tensor(2.8284)\n",
      "Iteration: 2000, loss: 30.733161883833027, gradient norm: tensor(2.8284)\n",
      "Iteration: 3000, loss: 22.733267369540183, gradient norm: tensor(2.8284)\n",
      "Iteration: 4000, loss: 14.733457433751457, gradient norm: tensor(2.8284)\n",
      "Iteration: 5000, loss: 6.7337504673463595, gradient norm: tensor(2.8284)\n",
      "Iteration: 6000, loss: 0.4700141460268657, gradient norm: tensor(2.8284)\n",
      "Iteration: 7000, loss: 0.0043226382295720785, gradient norm: tensor(2.8284)\n",
      "Iteration: 8000, loss: 0.004305552815168125, gradient norm: tensor(2.8284)\n",
      "Iteration: 9000, loss: 0.004292082598696657, gradient norm: tensor(2.8284)\n",
      "Iteration: 10000, loss: 0.004280356323754035, gradient norm: tensor(2.8284)\n"
     ]
    }
   ],
   "source": [
    "final_weights = regularized_first_order_train(dummy_model, dataset, y_labels)"
   ]
  },
  {
   "cell_type": "code",
   "execution_count": 266,
   "metadata": {},
   "outputs": [
    {
     "name": "stdout",
     "output_type": "stream",
     "text": [
      "[-1.2823087629281762    1.0368687988127223   -0.7322801632363609\n",
      "  1.4863521358830447   -0.9053195532362283   -0.5831255552975126\n",
      " -1.2823855915739941    1.036836288845331     0.18618102615082885\n",
      " -0.06357192687393524  -0.17894735280678553   0.060380862434177444\n",
      " -0.46350947458961766  -0.1821409280651973    0.7655888281637966  ]\n",
      "Gradient at this point: 0.0032355010352734617\n"
     ]
    }
   ],
   "source": [
    "print(final_weights)\n",
    "print('Gradient at this point:', jnp.linalg.norm(jax_grad(loss)(final_weights)))\n",
    "w_in_torch_format = final_weights[0 : 2 * H_student].reshape(H_student, 2)\n",
    "w_out_torch_format = final_weights[2 * H_student : ].reshape(H_student)"
   ]
  },
  {
   "cell_type": "code",
   "execution_count": 267,
   "metadata": {},
   "outputs": [
    {
     "data": {
      "text/plain": [
       "Text(0, 0.5, 'w2')"
      ]
     },
     "execution_count": 267,
     "metadata": {},
     "output_type": "execute_result"
    },
    {
     "data": {
      "image/png": "[encoded data removed]",
      "text/plain": [
       "<Figure size 432x288 with 2 Axes>"
      ]
     },
     "metadata": {
      "needs_background": "light"
     },
     "output_type": "display_data"
    }
   ],
   "source": [
    "plt.scatter(w_in_torch_format[:, 0],\n",
    "            w_in_torch_format[:, 1],\n",
    "            c = w_out_torch_format,\n",
    "            cmap = matplotlib.cm.jet,\n",
    "            marker=\">\")\n",
    "plt.clim(min_outgoing_weight, max_outgoing_weight)\n",
    "\n",
    "plt.colorbar().set_label('Outgoing weight', rotation=270)\n",
    "plt.xlabel('w1')\n",
    "plt.ylabel('w2')"
   ]
  },
  {
   "cell_type": "code",
   "execution_count": 268,
   "metadata": {},
   "outputs": [
    {
     "name": "stdout",
     "output_type": "stream",
     "text": [
      "Distance to local min: 0.03638388679587352\n"
     ]
    }
   ],
   "source": [
    "closest_saddle, directional_vector = find_saddle_line_from_reg_saddle(final_weights)\n",
    "print('Distance to local min:', np.linalg.norm(local_min - closest_saddle))\n",
    "\n",
    "dist_min_saddle = np.linalg.norm(local_min - closest_saddle)"
   ]
  },
  {
   "cell_type": "code",
   "execution_count": 269,
   "metadata": {},
   "outputs": [
    {
     "name": "stdout",
     "output_type": "stream",
     "text": [
      "0.0002726102525129159\n"
     ]
    }
   ],
   "source": [
    "line_point = closest_saddle\n",
    "distances_to_saddle = [0]\n",
    "losses_to_min = [loss(closest_saddle)]\n",
    "\n",
    "print(loss(line_point))\n",
    "\n",
    "while True:\n",
    "  eps = 1e-4\n",
    "  line_point = line_point + eps * directional_vector\n",
    "\n",
    "  loss_val = loss(line_point)\n",
    "  distances_to_saddle.append(np.linalg.norm(closest_saddle - line_point))\n",
    "  losses_to_min.append(loss_val)\n",
    "\n",
    "  if np.linalg.norm(line_point - closest_saddle) >= 0.01 + np.linalg.norm(local_min - closest_saddle):\n",
    "    break"
   ]
  },
  {
   "cell_type": "code",
   "execution_count": 271,
   "metadata": {},
   "outputs": [
    {
     "name": "stdout",
     "output_type": "stream",
     "text": [
      "0.0002726102525129159\n"
     ]
    },
    {
     "data": {
      "text/plain": [
       "<matplotlib.collections.PathCollection at 0x7f993e696d10>"
      ]
     },
     "execution_count": 271,
     "metadata": {},
     "output_type": "execute_result"
    },
    {
     "data": {
      "image/png": "[encoded data removed]",
      "text/plain": [
       "<Figure size 432x288 with 1 Axes>"
      ]
     },
     "metadata": {
      "needs_background": "light"
     },
     "output_type": "display_data"
    }
   ],
   "source": [
    "plt.plot(distances_to_saddle, losses_to_min)\n",
    "print(max(losses_to_min))\n",
    "plt.xlabel('Distance from the symmetry induced saddle')\n",
    "plt.ylabel('Loss value')\n",
    "\n",
    "# Mark the position of the closest saddle in the chart.\n",
    "plt.scatter(distances_to_saddle[0], losses_to_min[0], color='red')\n",
    "plt.yscale('log')\n",
    "\n",
    "# Mark the position of the local min in the chart.\n",
    "local_min_idx = np.argmin(abs(distances_to_saddle - np.linalg.norm(local_min - closest_saddle)))\n",
    "plt.scatter(distances_to_saddle[local_min_idx], losses_to_min[local_min_idx], color='red')"
   ]
  },
  {
   "cell_type": "code",
   "execution_count": null,
   "metadata": {},
   "outputs": [],
   "source": []
  }
 ],
 "metadata": {
  "colab": {
   "collapsed_sections": [],
   "name": "Python - 86 - Finding a nearby symmetry-induced point.ipynb",
   "provenance": []
  },
  "kernelspec": {
   "display_name": "Python 3 (ipykernel)",
   "language": "python",
   "name": "python3"
  },
  "language_info": {
   "codemirror_mode": {
    "name": "ipython",
    "version": 3
   },
   "file_extension": ".py",
   "mimetype": "text/x-python",
   "name": "python",
   "nbconvert_exporter": "python",
   "pygments_lexer": "ipython3",
   "version": "3.7.12"
  }
 },
 "nbformat": 4,
 "nbformat_minor": 4
}
