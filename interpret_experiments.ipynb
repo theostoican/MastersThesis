{
 "cells": [
  {
   "cell_type": "code",
   "execution_count": 22,
   "metadata": {
    "colab": {
     "base_uri": "https://localhost:8080/"
    },
    "id": "9MDckeJzbvFC",
    "outputId": "ec48401f-1a95-4386-e42c-ee0b5ada2c15"
   },
   "outputs": [
    {
     "name": "stdout",
     "output_type": "stream",
     "text": [
      "\u001b[33mWARNING: Ignoring invalid distribution -sspec (/Users/tstoican/opt/anaconda3/lib/python3.7/site-packages)\u001b[0m\u001b[33m\n",
      "\u001b[0m\u001b[33mWARNING: Ignoring invalid distribution - (/Users/tstoican/opt/anaconda3/lib/python3.7/site-packages)\u001b[0m\u001b[33m\n",
      "\u001b[0m\u001b[33mWARNING: Ignoring invalid distribution -axlib (/Users/tstoican/opt/anaconda3/lib/python3.7/site-packages)\u001b[0m\u001b[33m\n",
      "\u001b[0m\u001b[33mWARNING: Ignoring invalid distribution -arkupsafe (/Users/tstoican/opt/anaconda3/lib/python3.7/site-packages)\u001b[0m\u001b[33m\n",
      "\u001b[0m\u001b[33mWARNING: Ignoring invalid distribution -sspec (/Users/tstoican/opt/anaconda3/lib/python3.7/site-packages)\u001b[0m\u001b[33m\n",
      "\u001b[0m\u001b[33mWARNING: Ignoring invalid distribution - (/Users/tstoican/opt/anaconda3/lib/python3.7/site-packages)\u001b[0m\u001b[33m\n",
      "\u001b[0m\u001b[33mWARNING: Ignoring invalid distribution -axlib (/Users/tstoican/opt/anaconda3/lib/python3.7/site-packages)\u001b[0m\u001b[33m\n",
      "\u001b[0m\u001b[33mWARNING: Ignoring invalid distribution -arkupsafe (/Users/tstoican/opt/anaconda3/lib/python3.7/site-packages)\u001b[0m\u001b[33m\n",
      "\u001b[0mRequirement already satisfied: nlopt in /Users/tstoican/opt/anaconda3/lib/python3.7/site-packages (2.7.0)\n",
      "Requirement already satisfied: numpy>=1.14 in /Users/tstoican/opt/anaconda3/lib/python3.7/site-packages (from nlopt) (1.21.2)\n",
      "\u001b[33mWARNING: Ignoring invalid distribution -sspec (/Users/tstoican/opt/anaconda3/lib/python3.7/site-packages)\u001b[0m\u001b[33m\n",
      "\u001b[0m\u001b[33mWARNING: Ignoring invalid distribution - (/Users/tstoican/opt/anaconda3/lib/python3.7/site-packages)\u001b[0m\u001b[33m\n",
      "\u001b[0m\u001b[33mWARNING: Ignoring invalid distribution -axlib (/Users/tstoican/opt/anaconda3/lib/python3.7/site-packages)\u001b[0m\u001b[33m\n",
      "\u001b[0m\u001b[33mWARNING: Ignoring invalid distribution -arkupsafe (/Users/tstoican/opt/anaconda3/lib/python3.7/site-packages)\u001b[0m\u001b[33m\n",
      "\u001b[0m\u001b[33mWARNING: Ignoring invalid distribution -sspec (/Users/tstoican/opt/anaconda3/lib/python3.7/site-packages)\u001b[0m\u001b[33m\n",
      "\u001b[0m\u001b[33mWARNING: Ignoring invalid distribution - (/Users/tstoican/opt/anaconda3/lib/python3.7/site-packages)\u001b[0m\u001b[33m\n",
      "\u001b[0m\u001b[33mWARNING: Ignoring invalid distribution -axlib (/Users/tstoican/opt/anaconda3/lib/python3.7/site-packages)\u001b[0m\u001b[33m\n",
      "\u001b[0m\u001b[33mWARNING: Ignoring invalid distribution -arkupsafe (/Users/tstoican/opt/anaconda3/lib/python3.7/site-packages)\u001b[0m\u001b[33m\n",
      "\u001b[0m\u001b[33mWARNING: Ignoring invalid distribution -sspec (/Users/tstoican/opt/anaconda3/lib/python3.7/site-packages)\u001b[0m\u001b[33m\n",
      "\u001b[0m\u001b[33mWARNING: Ignoring invalid distribution - (/Users/tstoican/opt/anaconda3/lib/python3.7/site-packages)\u001b[0m\u001b[33m\n",
      "\u001b[0m\u001b[33mWARNING: Ignoring invalid distribution -axlib (/Users/tstoican/opt/anaconda3/lib/python3.7/site-packages)\u001b[0m\u001b[33m\n",
      "\u001b[0m\u001b[33mWARNING: Ignoring invalid distribution -arkupsafe (/Users/tstoican/opt/anaconda3/lib/python3.7/site-packages)\u001b[0m\u001b[33m\n",
      "\u001b[0m\u001b[33mWARNING: Ignoring invalid distribution -sspec (/Users/tstoican/opt/anaconda3/lib/python3.7/site-packages)\u001b[0m\u001b[33m\n",
      "\u001b[0m\u001b[33mWARNING: Ignoring invalid distribution - (/Users/tstoican/opt/anaconda3/lib/python3.7/site-packages)\u001b[0m\u001b[33m\n",
      "\u001b[0m\u001b[33mWARNING: Ignoring invalid distribution -axlib (/Users/tstoican/opt/anaconda3/lib/python3.7/site-packages)\u001b[0m\u001b[33m\n",
      "\u001b[0m\u001b[33mWARNING: Ignoring invalid distribution -arkupsafe (/Users/tstoican/opt/anaconda3/lib/python3.7/site-packages)\u001b[0m\u001b[33m\n",
      "\u001b[0m"
     ]
    }
   ],
   "source": [
    "import matplotlib.pyplot as plt\n",
    "import matplotlib\n",
    "import pandas as pd\n",
    "import numpy as np\n",
    "\n",
    "import torch\n",
    "import torch.nn as nn\n",
    "from torch.autograd import Variable\n",
    "\n",
    "from copy import deepcopy\n",
    "\n",
    "!pip install nlopt\n",
    "import nlopt\n",
    "\n",
    "from utils.models import DummyNetwork, TeacherNetwork\n",
    "from utils.datasets import construct_toy_dataset\n",
    "from utils.jax_helpers import jax_loss, jax_grad, jax_evals\n",
    "\n",
    "import jax.numpy as jnp"
   ]
  },
  {
   "cell_type": "markdown",
   "metadata": {
    "id": "XMryNAxQ2GU3"
   },
   "source": [
    "# Dataset"
   ]
  },
  {
   "cell_type": "code",
   "execution_count": 23,
   "metadata": {
    "colab": {
     "base_uri": "https://localhost:8080/"
    },
    "id": "AX_oMWbv2G78",
    "outputId": "b53919ec-dcf1-4f8a-f6b4-50df3f84cbcc"
   },
   "outputs": [],
   "source": [
    "D_in, H_teacher, H_student, D_out = 2, 4, 5, 1\n",
    "\n",
    "dataset, labels = construct_toy_dataset()"
   ]
  },
  {
   "cell_type": "code",
   "execution_count": 24,
   "metadata": {
    "colab": {
     "base_uri": "https://localhost:8080/",
     "height": 264
    },
    "id": "RnMJEjtBqvz-",
    "outputId": "b40ea704-0e18-4874-ce23-9c24d77ed418"
   },
   "outputs": [
    {
     "data": {
      "text/plain": [
       "1000"
      ]
     },
     "execution_count": 24,
     "metadata": {},
     "output_type": "execute_result"
    }
   ],
   "source": [
    "data = pd.read_csv('experiments_data_student_5.csv', float_precision='round_trip')\n",
    "len(data)"
   ]
  },
  {
   "cell_type": "code",
   "execution_count": 25,
   "metadata": {
    "id": "tU1QGdtLq2mO"
   },
   "outputs": [
    {
     "name": "stdout",
     "output_type": "stream",
     "text": [
      "8.099134926152017e-05\n"
     ]
    },
    {
     "data": {
      "text/plain": [
       "8.919783839937883e-11"
      ]
     },
     "execution_count": 25,
     "metadata": {},
     "output_type": "execute_result"
    }
   ],
   "source": [
    "sample_point = data.loc[267]\n",
    "print(sample_point['loss'])\n",
    "sample_point['gradient norm']"
   ]
  },
  {
   "cell_type": "markdown",
   "metadata": {
    "id": "ueyRqoqF2bNm"
   },
   "source": [
    "# Helper for extracting the weights from one data point."
   ]
  },
  {
   "cell_type": "code",
   "execution_count": 26,
   "metadata": {
    "id": "cVYwzm-w24Go"
   },
   "outputs": [],
   "source": [
    "def extract_weights(data_point):\n",
    "  incoming_weights_x = []\n",
    "  incoming_weights_y = []\n",
    "  outgoing_weights = []\n",
    "\n",
    "  for i in range(0, int(data_point['student size'])):\n",
    "    neuron_traj_x = np.fromstring(data_point['neuron_' + str(i) + '_traj_x'][1:-1], dtype=float, sep=',')\n",
    "    neuron_traj_y = np.fromstring(data_point['neuron_' + str(i) + '_traj_y'][1:-1], dtype=float, sep=',')\n",
    "    incoming_weights_x.append(neuron_traj_x[-1])\n",
    "    incoming_weights_y.append(neuron_traj_y[-1])\n",
    "    neuron_traj_out = np.fromstring(data_point['neuron_' + str(i) + '_a'][1:-1], dtype=float, sep=',')\n",
    "    outgoing_weights.append(neuron_traj_out[-1])\n",
    "\n",
    "  return incoming_weights_x, incoming_weights_y, outgoing_weights"
   ]
  },
  {
   "cell_type": "code",
   "execution_count": 27,
   "metadata": {
    "id": "ewEnp0jR0k6_"
   },
   "outputs": [
    {
     "name": "stdout",
     "output_type": "stream",
     "text": [
      "[0.3195520888581026, -0.7345505945267169, 0.6661511292864194, 0.9814681204937439, -0.7345489746807867]\n",
      "[-0.039923840043947265, 0.8039611632286122, -1.0126555858766897, 0.6580154296957467, 0.8039597629685223]\n",
      "[0.6155369494601918, 0.1433407208654592, -0.34013755116068917, 0.39531142257453944, -0.8140491475825246]\n"
     ]
    }
   ],
   "source": [
    "incoming_weights_x, incoming_weights_y, outgoing_weights = extract_weights(sample_point)\n",
    "print(incoming_weights_x)\n",
    "print(incoming_weights_y)\n",
    "print(outgoing_weights)\n",
    "w_in = np.array([[incoming_weights_x[0], incoming_weights_y[0]],\n",
    "                 [incoming_weights_x[1], incoming_weights_y[1]],\n",
    "                 [incoming_weights_x[2], incoming_weights_y[2]],\n",
    "                 [incoming_weights_x[3], incoming_weights_y[3]],\n",
    "                 [incoming_weights_x[4], incoming_weights_y[4]]])\n",
    "\n",
    "w_out = np.array([outgoing_weights])"
   ]
  },
  {
   "cell_type": "code",
   "execution_count": 28,
   "metadata": {
    "id": "jv4zxr2KIpVw"
   },
   "outputs": [],
   "source": [
    "teacher_neurons_x = [0.6, -0.5, -0.2, 0.1]\n",
    "teacher_neurons_y = [0.5, 0.5, -0.6, -0.6]"
   ]
  },
  {
   "cell_type": "markdown",
   "metadata": {
    "id": "TW8LtUQe9uaF"
   },
   "source": [
    "# Plotting of the neuron point"
   ]
  },
  {
   "cell_type": "code",
   "execution_count": 29,
   "metadata": {
    "id": "ufXZMb0kIST2"
   },
   "outputs": [
    {
     "data": {
      "image/png": "[encoded data removed]",
      "text/plain": [
       "<Figure size 432x288 with 2 Axes>"
      ]
     },
     "metadata": {
      "needs_background": "light"
     },
     "output_type": "display_data"
    }
   ],
   "source": [
    "plt.scatter(teacher_neurons_x, teacher_neurons_y, marker=\"*\")\n",
    "\n",
    "plt.scatter(incoming_weights_x,\n",
    "            incoming_weights_y,\n",
    "            c = outgoing_weights,\n",
    "            cmap = matplotlib.cm.jet)\n",
    "\n",
    "plt.colorbar().set_label('Outgoing weight',rotation=270)\n",
    "plt.xlabel('w1')\n",
    "plt.ylabel('w2')\n",
    "\n",
    "plt.show()"
   ]
  },
  {
   "cell_type": "markdown",
   "metadata": {
    "id": "qbFFXAJCAcPw"
   },
   "source": [
    "# JAX helpers for finding an escape route"
   ]
  },
  {
   "cell_type": "markdown",
   "metadata": {
    "id": "-1Hr2t294q7S"
   },
   "source": [
    "Loss of the network computed in JAX."
   ]
  },
  {
   "cell_type": "code",
   "execution_count": 30,
   "metadata": {
    "id": "CQFNY_VC4ou9"
   },
   "outputs": [
    {
     "name": "stdout",
     "output_type": "stream",
     "text": [
      "8.09913492615202e-05\n"
     ]
    }
   ],
   "source": [
    "print(jax_loss(jnp.append(w_in.reshape(H_student * D_in), w_out.reshape(H_student))))"
   ]
  },
  {
   "cell_type": "markdown",
   "metadata": {
    "id": "q9KNg37G4zRi"
   },
   "source": [
    "## Eigenvalues in JAX"
   ]
  },
  {
   "cell_type": "code",
   "execution_count": 31,
   "metadata": {
    "id": "qm9RiKY-400C"
   },
   "outputs": [
    {
     "name": "stdout",
     "output_type": "stream",
     "text": [
      "[-1.6417970902055648e-16  7.4283561696734014e-07  3.9821019714869349e-05]\n",
      "[ 6.8233814535156711e-14 -2.4255424587878312e-13 -4.3648990811362951e-06\n",
      "  3.9424872501587120e-06  4.2837739084817291e-13 -3.1526702929054275e-13\n",
      "  1.3018870105481578e-14  4.2634011795963564e-14  6.3845773678127683e-07\n",
      " -5.2209864474376301e-07  5.1909858307729202e-13 -7.0710678117406178e-01\n",
      " -5.5260729376171741e-13  5.7654013109122884e-15  7.0710678117408965e-01]\n"
     ]
    }
   ],
   "source": [
    "evals, evectors = jax_evals(jnp.append(w_in.reshape(D_in * H_student), w_out.reshape(H_student)))\n",
    "\n",
    "print(evals[:3])\n",
    "smallest_evector = evectors[:, jnp.argmin(evals)]\n",
    "print(smallest_evector)"
   ]
  },
  {
   "cell_type": "markdown",
   "metadata": {
    "id": "ygRF64EF46OI"
   },
   "source": [
    "## Perturbation (based on JAX evectors) in the dir of smallest evector"
   ]
  },
  {
   "cell_type": "code",
   "execution_count": 32,
   "metadata": {
    "id": "mr1u_WGe490C"
   },
   "outputs": [],
   "source": [
    "old_loss = jax_loss(jnp.append(w_in.reshape(H_student * D_in), w_out.reshape(H_student)))\n",
    "\n",
    "perturb_lower_bound = -8.0\n",
    "perturb_upper_bound = 8.0\n",
    "perturb_step = 0.01\n",
    "\n",
    "perturb_losses = []\n",
    "perturb_evals = []\n",
    "perturb_grads = []\n",
    "\n",
    "weights = jnp.append(w_in.reshape(H_student * D_in), w_out.reshape(H_student))\n",
    "for eps in np.arange(perturb_lower_bound, perturb_upper_bound, perturb_step):\n",
    "  new_weights = weights + eps * smallest_evector\n",
    "  perturb_grads.append(jnp.linalg.norm(jax_grad(new_weights)))\n",
    "  \n",
    "  evals, _ = jax_evals(new_weights)\n",
    "\n",
    "  perturb_evals.append(min(evals))\n",
    "  perturb_losses.append(jax_loss(new_weights))"
   ]
  },
  {
   "cell_type": "markdown",
   "metadata": {
    "id": "HdA40kgaB243"
   },
   "source": [
    "## Plot the result of perturbation"
   ]
  },
  {
   "cell_type": "code",
   "execution_count": 33,
   "metadata": {
    "id": "ZzNtD_tFB5C4"
   },
   "outputs": [
    {
     "data": {
      "text/plain": [
       "Text(0, 0.5, 'gradient norm')"
      ]
     },
     "execution_count": 33,
     "metadata": {},
     "output_type": "execute_result"
    },
    {
     "data": {
      "image/png": "[encoded data removed]",
      "text/plain": [
       "<Figure size 1440x360 with 3 Axes>"
      ]
     },
     "metadata": {
      "needs_background": "light"
     },
     "output_type": "display_data"
    }
   ],
   "source": [
    "fig_escape, axs = plt.subplots(1, 3)\n",
    "fig_escape.set_size_inches(20, 5)\n",
    "fig_escape.suptitle('Evolution of loss, smallest eval, and grad norm under perturbation')\n",
    "\n",
    "axs[0].plot(np.arange(perturb_lower_bound, perturb_upper_bound, perturb_step), perturb_losses)\n",
    "axs[0].ticklabel_format(useOffset=False)\n",
    "axs[0].set_xlabel('perturbation factor')\n",
    "axs[0].set_ylabel('loss')\n",
    "\n",
    "axs[1].plot(np.arange(perturb_lower_bound, perturb_upper_bound, perturb_step), perturb_evals)\n",
    "axs[1].set_xlabel('perturbation factor')\n",
    "axs[1].set_ylabel('smallest eval')\n",
    "\n",
    "axs[2].plot(np.arange(perturb_lower_bound, perturb_upper_bound, perturb_step), perturb_grads)\n",
    "axs[2].set_xlabel('perturbation factor')\n",
    "axs[2].set_ylabel('gradient norm')"
   ]
  },
  {
   "cell_type": "markdown",
   "metadata": {},
   "source": [
    "## Perturbation in the direction of the smallest evectors"
   ]
  },
  {
   "cell_type": "code",
   "execution_count": 34,
   "metadata": {},
   "outputs": [
    {
     "name": "stdout",
     "output_type": "stream",
     "text": [
      "[ 6.8233814535156711e-14 -2.4255424587878312e-13 -4.3648990811362951e-06\n",
      "  3.9424872501587120e-06  4.2837739084817291e-13 -3.1526702929054275e-13\n",
      "  1.3018870105481578e-14  4.2634011795963564e-14  6.3845773678127683e-07\n",
      " -5.2209864474376301e-07  5.1909858307729202e-13 -7.0710678117406178e-01\n",
      " -5.5260729376171741e-13  5.7654013109122884e-15  7.0710678117408965e-01]\n",
      "[ 6.8233814535156711e-14 -2.4255424587878312e-13 -4.3648990811362951e-06\n",
      "  3.9424872501587120e-06  4.2837739084817291e-13 -3.1526702929054275e-13\n",
      "  1.3018870105481578e-14  4.2634011795963564e-14  6.3845773678127683e-07\n",
      " -5.2209864474376301e-07  5.1909858307729202e-13 -7.0710678117406178e-01\n",
      " -5.5260729376171741e-13  5.7654013109122884e-15  7.0710678117408965e-01]\n",
      "[ 6.8233814535156711e-14 -2.4255424587878312e-13 -4.3648990811362951e-06\n",
      "  3.9424872501587120e-06  4.2837739084817291e-13 -3.1526702929054275e-13\n",
      "  1.3018870105481578e-14  4.2634011795963564e-14  6.3845773678127683e-07\n",
      " -5.2209864474376301e-07  5.1909858307729202e-13 -7.0710678117406178e-01\n",
      " -5.5260729376171741e-13  5.7654013109122884e-15  7.0710678117408965e-01]\n",
      "[ 6.8233814535156711e-14 -2.4255424587878312e-13 -4.3648990811362951e-06\n",
      "  3.9424872501587120e-06  4.2837739084817291e-13 -3.1526702929054275e-13\n",
      "  1.3018870105481578e-14  4.2634011795963564e-14  6.3845773678127683e-07\n",
      " -5.2209864474376301e-07  5.1909858307729202e-13 -7.0710678117406178e-01\n",
      " -5.5260729376171741e-13  5.7654013109122884e-15  7.0710678117408965e-01]\n",
      "[ 6.8233814535156711e-14 -2.4255424587878312e-13 -4.3648990811362951e-06\n",
      "  3.9424872501587120e-06  4.2837739084817291e-13 -3.1526702929054275e-13\n",
      "  1.3018870105481578e-14  4.2634011795963564e-14  6.3845773678127683e-07\n",
      " -5.2209864474376301e-07  5.1909858307729202e-13 -7.0710678117406178e-01\n",
      " -5.5260729376171741e-13  5.7654013109122884e-15  7.0710678117408965e-01]\n",
      "[ 2.6317509519738988e-11  3.0605646915329856e-11  2.5396457875521219e-05\n",
      " -2.1070733543719039e-05 -2.2494743501430014e-11 -2.1067347092869139e-11\n",
      "  3.7192319183664137e-11  3.2977058585172536e-11  5.6724591800672189e-06\n",
      " -4.7603617839382018e-06 -3.2779905485845559e-11 -7.0710678077687983e-01\n",
      "  4.9174306328773579e-11 -2.6947874062512577e-11  7.0710678078743106e-01]\n",
      "[ 6.8233814535156711e-14 -2.4255424587878312e-13 -4.3648990811362951e-06\n",
      "  3.9424872501587120e-06  4.2837739084817291e-13 -3.1526702929054275e-13\n",
      "  1.3018870105481578e-14  4.2634011795963564e-14  6.3845773678127683e-07\n",
      " -5.2209864474376301e-07  5.1909858307729202e-13 -7.0710678117406178e-01\n",
      " -5.5260729376171741e-13  5.7654013109122884e-15  7.0710678117408965e-01]\n",
      "[ 1.8288478215890814e-11  2.0974822298515086e-11  1.5905312391709036e-05\n",
      " -1.3087313557757687e-05 -1.5225243685473060e-11 -1.4818619280712550e-11\n",
      "  2.5696299185002164e-11  2.2825324400402894e-11  4.1285428998719046e-06\n",
      " -3.4604354671679018e-06 -2.2371412589154529e-11 -7.0710678102261970e-01\n",
      "  3.3648487084561505e-11 -1.8619670543166317e-11  7.0710678102996083e-01]\n",
      "[-2.5250022473963104e-11 -2.7622548264008342e-11 -3.5799987831110382e-05\n",
      "  2.9823283924073185e-05  1.9606175565479782e-11  2.0790906500555471e-11\n",
      " -3.4605450896483272e-11 -3.0847853671036653e-11 -4.2379925689181880e-06\n",
      "  3.4795046858241519e-06  3.0061814186779306e-11 -7.0710678041350761e-01\n",
      " -4.4706609083272570e-11  2.5002549674651072e-11  7.0710678040315000e-01]\n",
      "[ 6.8233814535156711e-14 -2.4255424587878312e-13 -4.3648990811362951e-06\n",
      "  3.9424872501587120e-06  4.2837739084817291e-13 -3.1526702929054275e-13\n",
      "  1.3018870105481578e-14  4.2634011795963564e-14  6.3845773678127683e-07\n",
      " -5.2209864474376301e-07  5.1909858307729202e-13 -7.0710678117406178e-01\n",
      " -5.5260729376171741e-13  5.7654013109122884e-15  7.0710678117408965e-01]\n",
      "[ 1.2274541883281187e-11  1.4179978131258785e-11  9.4616364839299918e-06\n",
      " -7.6683540489610879e-06 -1.0845978236793446e-11 -9.4604905870509279e-12\n",
      "  1.7172440481762956e-11  1.5239314409872597e-11  3.0594697728005335e-06\n",
      " -2.5603222067912170e-06 -1.5412241422419952e-11 -7.0710678112600400e-01\n",
      "  2.2917142639094790e-11 -1.2456436376013495e-11  7.0710678113095471e-01]\n",
      "[-4.5458903532517842e-12 -4.7697628795693091e-12 -9.4078054563204320e-06\n",
      "  7.9446799362143624e-06  3.0220315487714117e-12  4.0593366208364979e-12\n",
      " -6.2515140585989005e-12 -5.6091019965845688e-12 -8.1426808457533592e-08\n",
      "  3.4772965858115733e-08  4.8754584797466498e-12 -7.0710678113385661e-01\n",
      " -7.5423145141273068e-12  4.5054755338460275e-12  7.0710678113201830e-01]\n",
      "[ 2.0588334622735167e-11  2.3463464314001762e-11  2.0021733316586450e-05\n",
      " -1.6605240557236167e-05 -1.6507971534268857e-11 -1.7164075537862069e-11\n",
      "  2.8750745677138914e-11  2.5542407081358822e-11  4.5578379905520594e-06\n",
      " -3.8378807005501081e-06 -2.5199862701149719e-11 -7.0710678093062806e-01\n",
      "  3.7730815103366958e-11 -2.0835527771389786e-11  7.0710678093893120e-01]\n",
      "[-2.0305692905684024e-11 -2.1777921352165616e-11 -3.1980215637190919e-05\n",
      "  2.6608566616622020e-05  1.4593480972760149e-11  1.7509845812094674e-11\n",
      " -2.7868304598340052e-11 -2.4898406228441132e-11 -3.1750786320301208e-06\n",
      "  2.5865193344171821e-06  2.3070223869719222e-11 -7.0710678057285137e-01\n",
      " -3.4884022307704747e-11  2.0105701313061627e-11  7.0710678056455956e-01]\n",
      "[ 5.6260928676191594e-11  6.8880309424241759e-11  7.2836968854615600e-05\n",
      " -6.0629833805975746e-05 -5.2721149217162238e-11 -4.3408805624003964e-11\n",
      "  8.1426246135844293e-11  7.1779053496711462e-11  1.1449446735084038e-05\n",
      " -9.5863337939571482e-06 -7.3455192954174874e-11 -7.0710677792126886e-01\n",
      "  1.1034982020535292e-10 -5.9116251995589505e-11  7.0710677794348209e-01]\n",
      "661 8.099134926151895e-05\n"
     ]
    }
   ],
   "source": [
    "from collections import deque\n",
    "\n",
    "def run_perturbation_algo(start_weights,\n",
    "                          perturb_losses,\n",
    "                          eps = 1e-1):\n",
    "  q = deque()\n",
    "  q.append((start_weights, 0))\n",
    "\n",
    "  while len(q) > 0:\n",
    "    current_weights, current_dist = q.popleft()\n",
    "    perturb_losses.append(jax_loss(current_weights))\n",
    "\n",
    "    evals, evectors = jax_evals(current_weights)\n",
    "\n",
    "    for idx, eval in enumerate(evals):\n",
    "      if eval >= 1e-10:\n",
    "        continue\n",
    "\n",
    "      if eval <= -1e-8:\n",
    "        print(eval)\n",
    "\n",
    "      current_evector = evectors[:, idx]\n",
    "\n",
    "      new_weights = current_weights + eps * current_evector\n",
    "      new_dist = round(np.linalg.norm(new_weights - start_weights) / eps)\n",
    "\n",
    "      if jnp.linalg.norm(jax_grad(new_weights)) <= 1e-9 and \\\n",
    "         new_dist > current_dist:\n",
    "        print(current_evector)\n",
    "        q.append((new_weights, new_dist))\n",
    "\n",
    "      new_weights = current_weights - eps * current_evector\n",
    "      new_dist = round(np.linalg.norm(new_weights - start_weights) / eps)\n",
    "\n",
    "      if jnp.linalg.norm(jax_grad(new_weights)) <= 1e-9 and \\\n",
    "         new_dist > current_dist:\n",
    "        q.append((new_weights, new_dist))\n",
    "\n",
    "perturb_losses = []\n",
    "eps = 1e-1\n",
    "while len(perturb_losses) < 50 and eps >= 1e-12:\n",
    "  perturb_losses = []\n",
    "  run_perturbation_algo(weights, perturb_losses, eps)\n",
    "  eps /= 1.2\n",
    "  if eps < 1e-12:\n",
    "    break\n",
    "\n",
    "print(len(perturb_losses), min(perturb_losses))"
   ]
  },
  {
   "cell_type": "markdown",
   "metadata": {
    "id": "H6eZrfzQDkmU"
   },
   "source": [
    "# Extract the average of the 2 neurons close to each other."
   ]
  },
  {
   "cell_type": "markdown",
   "metadata": {
    "id": "dmXu3fwL58DO"
   },
   "source": [
    "## Find the two closest neurons"
   ]
  },
  {
   "cell_type": "code",
   "execution_count": 35,
   "metadata": {
    "id": "JVNNffHWcb55"
   },
   "outputs": [],
   "source": [
    "min_dist = np.inf\n",
    "idx_neuron1 = None\n",
    "idx_neuron2 = None\n",
    "\n",
    "for i in range(H_student):\n",
    "  current_neuron = np.array([incoming_weights_x[i], incoming_weights_y[i]])\n",
    "  for j in range(i + 1, H_student):\n",
    "    potential_closest_neuron = np.array([incoming_weights_x[j], incoming_weights_y[j]])\n",
    "    if min_dist > np.linalg.norm(current_neuron - potential_closest_neuron):\n",
    "      min_dist = np.linalg.norm(current_neuron - potential_closest_neuron)\n",
    "      idx_neuron1 = i\n",
    "      idx_neuron2 = j"
   ]
  },
  {
   "cell_type": "markdown",
   "metadata": {
    "id": "Enjt5P697BTE"
   },
   "source": [
    "## Extract the average neuron from the previous 2 ones."
   ]
  },
  {
   "cell_type": "code",
   "execution_count": 36,
   "metadata": {
    "id": "ysTv0xwPD_6h"
   },
   "outputs": [],
   "source": [
    "new_incoming_weights_x = [(incoming_weights_x[idx_neuron1] + incoming_weights_x[idx_neuron2]) / 2.0]\n",
    "new_incoming_weights_y = [(incoming_weights_y[idx_neuron1] + incoming_weights_y[idx_neuron2]) / 2.0]\n",
    "new_outgoing_weights = [(outgoing_weights[idx_neuron1] + outgoing_weights[idx_neuron2])]\n",
    "\n",
    "for i in range(H_student):\n",
    "  if i == idx_neuron1 or i == idx_neuron2:\n",
    "    continue\n",
    "  new_incoming_weights_x.append(incoming_weights_x[i])\n",
    "  new_incoming_weights_y.append(incoming_weights_y[i])\n",
    "  new_outgoing_weights.append(outgoing_weights[i])"
   ]
  },
  {
   "cell_type": "markdown",
   "metadata": {
    "id": "A5SxhfW_JJd6"
   },
   "source": [
    "## Replotting of the lower-size neuron point"
   ]
  },
  {
   "cell_type": "code",
   "execution_count": 37,
   "metadata": {
    "id": "6T2AOcICJGvN"
   },
   "outputs": [
    {
     "data": {
      "image/png": "[encoded data removed]",
      "text/plain": [
       "<Figure size 432x288 with 2 Axes>"
      ]
     },
     "metadata": {
      "needs_background": "light"
     },
     "output_type": "display_data"
    }
   ],
   "source": [
    "plt.scatter(teacher_neurons_x, teacher_neurons_y, marker=\"*\")\n",
    "\n",
    "plt.scatter(new_incoming_weights_x,\n",
    "            new_incoming_weights_y,\n",
    "            c = new_outgoing_weights,\n",
    "            cmap = matplotlib.cm.jet)\n",
    "\n",
    "plt.colorbar().set_label('Outgoing weight',rotation=270)\n",
    "plt.xlabel('w1')\n",
    "plt.ylabel('w2')\n",
    "\n",
    "plt.show()"
   ]
  },
  {
   "cell_type": "markdown",
   "metadata": {
    "id": "V99WyFkAM-od"
   },
   "source": [
    "# Train the model from this point"
   ]
  },
  {
   "cell_type": "markdown",
   "metadata": {
    "id": "3yAgZl7gCRzb"
   },
   "source": [
    "## Create new NN of size 4 after reduction of 1 neuron"
   ]
  },
  {
   "cell_type": "code",
   "execution_count": 38,
   "metadata": {
    "id": "Cz1PiK1JNA07"
   },
   "outputs": [],
   "source": [
    "w_in = torch.DoubleTensor([[new_incoming_weights_x[0], new_incoming_weights_y[0]],\n",
    "                           [new_incoming_weights_x[1], new_incoming_weights_y[1]],\n",
    "                           [new_incoming_weights_x[2], new_incoming_weights_y[2]],\n",
    "                           [new_incoming_weights_x[3], new_incoming_weights_y[3]]])\n",
    "w_out = torch.DoubleTensor([new_outgoing_weights])\n",
    "dummy_model = DummyNetwork(D_in, H_teacher, D_out, w_in, w_out)"
   ]
  },
  {
   "cell_type": "markdown",
   "metadata": {
    "id": "1-4g6TLFN-Xp"
   },
   "source": [
    "## End-to-end training helper method"
   ]
  },
  {
   "cell_type": "code",
   "execution_count": 39,
   "metadata": {
    "id": "cYVtj0mrN_UC"
   },
   "outputs": [],
   "source": [
    "from utils.training import train_first_order, train_second_order, perturbed_train_second_order"
   ]
  },
  {
   "cell_type": "code",
   "execution_count": 40,
   "metadata": {
    "id": "jrew73rJR_FT"
   },
   "outputs": [
    {
     "name": "stdout",
     "output_type": "stream",
     "text": [
      "8.099134926152087e-05\n",
      "3.2316566234225864e-11\n"
     ]
    }
   ],
   "source": [
    "np.set_printoptions(precision=32)\n",
    "# loss_vals, trace, final_weights = train(dummy_model, dataset, y_labels)\n",
    "final_weights = train_second_order(dummy_model)\n",
    "print(jax_loss(final_weights))\n",
    "print(jnp.linalg.norm(jax_grad(final_weights)))"
   ]
  },
  {
   "cell_type": "code",
   "execution_count": 41,
   "metadata": {},
   "outputs": [],
   "source": [
    "perturbed_losses, perturbed_grads, perturbed_final_weights = perturbed_train_second_order(dummy_model)"
   ]
  },
  {
   "cell_type": "code",
   "execution_count": 42,
   "metadata": {},
   "outputs": [],
   "source": [
    "perturbed_grads = np.array(perturbed_grads)\n",
    "perturbed_losses = np.array(perturbed_losses)\n",
    "perturbed_final_weights = np.array(perturbed_final_weights)\n",
    "# perturbed_losses = perturbed_losses[perturbed_losses >= 1e-6]"
   ]
  },
  {
   "cell_type": "code",
   "execution_count": 43,
   "metadata": {
    "scrolled": true
   },
   "outputs": [
    {
     "data": {
      "text/plain": [
       "Text(0, 0.5, 'Loss')"
      ]
     },
     "execution_count": 43,
     "metadata": {},
     "output_type": "execute_result"
    },
    {
     "data": {
      "image/png": "[encoded data removed]",
      "text/plain": [
       "<Figure size 432x288 with 1 Axes>"
      ]
     },
     "metadata": {
      "needs_background": "light"
     },
     "output_type": "display_data"
    }
   ],
   "source": [
    "plt.plot(np.arange(0, len(perturbed_losses)), perturbed_losses)\n",
    "plt.xlabel('Perturbation number')\n",
    "plt.ylabel('Loss')"
   ]
  },
  {
   "cell_type": "code",
   "execution_count": 44,
   "metadata": {
    "id": "GKuQPOx8_NQs"
   },
   "outputs": [
    {
     "name": "stdout",
     "output_type": "stream",
     "text": [
      "loss after second order opt.:  8.09913492615209e-05\n",
      "grad norm after second order opt.:  3.231656637530429e-11\n"
     ]
    }
   ],
   "source": [
    "w_in_torch_format = torch.DoubleTensor(final_weights[0 : H_teacher * 2].reshape(H_teacher, 2))\n",
    "w_out_torch_format = torch.DoubleTensor([final_weights[H_teacher * 2 :].reshape(H_teacher)])\n",
    "\n",
    "# dummy_model = DummyNetwork(D_in, H_teacher, D_out,\n",
    "#                            torch.DoubleTensor(trace[-1][0]),\n",
    "#                            torch.DoubleTensor(trace[-1][1]))\n",
    "# loss_val = nn.MSELoss()(dummy_model(dataset), y_labels)\n",
    "# print('loss before second order opt.: ',loss_val.item())\n",
    "# loss_grad = torch.autograd.grad(loss_val, dummy_model.parameters(), create_graph=True)\n",
    "# gradients = loss_grad[0].reshape(H_teacher * 2).detach().numpy()\n",
    "# gradients = np.append(gradients, loss_grad[1][0].detach().numpy())\n",
    "# print('grad norm before second order opt.: ', np.linalg.norm(gradients))\n",
    "\n",
    "dummy_model = DummyNetwork(D_in, H_teacher, D_out, w_in_torch_format, w_out_torch_format)\n",
    "loss_val = nn.MSELoss()(dummy_model(torch.DoubleTensor(dataset)), torch.DoubleTensor(labels))\n",
    "print('loss after second order opt.: ',loss_val.item())\n",
    "loss_grad = torch.autograd.grad(loss_val, dummy_model.parameters(), create_graph=True)\n",
    "gradients = loss_grad[0].reshape(H_teacher * 2).detach().numpy()\n",
    "gradients = np.append(gradients, loss_grad[1][0].detach().numpy())\n",
    "print('grad norm after second order opt.: ', np.linalg.norm(gradients))"
   ]
  },
  {
   "cell_type": "markdown",
   "metadata": {
    "id": "knaE2jzPCkQv"
   },
   "source": [
    "# Replot the neuron points after training"
   ]
  },
  {
   "cell_type": "code",
   "execution_count": 45,
   "metadata": {},
   "outputs": [],
   "source": [
    "total_outgoing_weights = np.concatenate([outgoing_weights, w_out_torch_format[0]], axis=0)\n",
    "min_outgoing_weight, max_outgoing_weight = total_outgoing_weights.min(), total_outgoing_weights.max()"
   ]
  },
  {
   "cell_type": "code",
   "execution_count": 46,
   "metadata": {},
   "outputs": [
    {
     "data": {
      "image/png": "[encoded data removed]",
      "text/plain": [
       "<Figure size 432x288 with 2 Axes>"
      ]
     },
     "metadata": {
      "needs_background": "light"
     },
     "output_type": "display_data"
    }
   ],
   "source": [
    "plt.scatter(teacher_neurons_x, teacher_neurons_y, marker=\"*\")\n",
    "\n",
    "plt.scatter(incoming_weights_x,\n",
    "            incoming_weights_y,\n",
    "            c = outgoing_weights,\n",
    "            cmap = matplotlib.cm.jet)\n",
    "plt.clim(min_outgoing_weight, max_outgoing_weight)\n",
    "\n",
    "plt.colorbar().set_label('Outgoing weight', rotation=270)\n",
    "plt.xlabel('w1')\n",
    "plt.ylabel('w2')\n",
    "plt.show()"
   ]
  },
  {
   "cell_type": "code",
   "execution_count": 47,
   "metadata": {
    "id": "3Ux5AaG5SMGX"
   },
   "outputs": [
    {
     "data": {
      "image/png": "[encoded data removed]",
      "text/plain": [
       "<Figure size 432x288 with 2 Axes>"
      ]
     },
     "metadata": {
      "needs_background": "light"
     },
     "output_type": "display_data"
    }
   ],
   "source": [
    "plt.scatter(teacher_neurons_x, teacher_neurons_y, marker=\"*\")\n",
    "\n",
    "plt.scatter(incoming_weights_x,\n",
    "            incoming_weights_y,\n",
    "            c = outgoing_weights,\n",
    "            cmap = matplotlib.cm.jet)\n",
    "plt.clim(min_outgoing_weight, max_outgoing_weight)\n",
    "\n",
    "# plt.scatter(trace[-1][0][:, 0],\n",
    "#             trace[-1][0][:, 1],\n",
    "#             c = trace[-1][1][0],\n",
    "#             cmap = matplotlib.cm.jet,\n",
    "#             marker=\"+\")\n",
    "\n",
    "plt.scatter(w_in_torch_format[:, 0],\n",
    "            w_in_torch_format[:, 1],\n",
    "            c = w_out_torch_format[0],\n",
    "            cmap = matplotlib.cm.jet,\n",
    "            marker=\">\")\n",
    "plt.clim(min_outgoing_weight, max_outgoing_weight)\n",
    "\n",
    "plt.colorbar().set_label('Outgoing weight', rotation=270)\n",
    "plt.xlabel('w1')\n",
    "plt.ylabel('w2')\n",
    "\n",
    "plt.show()"
   ]
  },
  {
   "cell_type": "code",
   "execution_count": 48,
   "metadata": {
    "id": "3QQueIYMOrp4"
   },
   "outputs": [
    {
     "name": "stdout",
     "output_type": "stream",
     "text": [
      "[ 0.3195520888581026   -0.039923840043947265 -0.7345505945267169\n",
      "  0.8039611632286122    0.6661511292864194   -1.0126555858766897\n",
      "  0.9814681204937439    0.6580154296957467   -0.7345489746807867\n",
      "  0.8039597629685223    0.6155369494601918    0.1433407208654592\n",
      " -0.34013755116068917   0.39531142257453944  -0.8140491475825246  ]\n"
     ]
    }
   ],
   "source": [
    "local_min = np.array([incoming_weights_x[0], incoming_weights_y[0],\n",
    "             incoming_weights_x[1], incoming_weights_y[1],\n",
    "             incoming_weights_x[2], incoming_weights_y[2],\n",
    "             incoming_weights_x[3], incoming_weights_y[3],\n",
    "             incoming_weights_x[4], incoming_weights_y[4],\n",
    "             outgoing_weights[0], outgoing_weights[1], outgoing_weights[2],\n",
    "             outgoing_weights[3], outgoing_weights[4]])\n",
    "print(local_min)"
   ]
  },
  {
   "cell_type": "markdown",
   "metadata": {
    "id": "A15hNOcuCu24"
   },
   "source": [
    "# Find the SI saddle line and the optimal \\mu"
   ]
  },
  {
   "cell_type": "code",
   "execution_count": 49,
   "metadata": {},
   "outputs": [],
   "source": [
    "def construct_si_saddle(final_weights, mu):\n",
    "    num_neurons = int(len(final_weights) / 3)\n",
    "    w_in_torch_format = final_weights[0 : num_neurons * 2].reshape(num_neurons, 2)\n",
    "    w_out_torch_format = final_weights[num_neurons * 2 :].reshape(num_neurons)\n",
    "\n",
    "    si_saddle = np.array([])\n",
    "    teacher_idx = 1\n",
    "\n",
    "    for i in range(H_student):\n",
    "      if i == idx_neuron1 or i == idx_neuron2:\n",
    "        si_saddle = np.append(si_saddle, w_in_torch_format[0][0])\n",
    "        si_saddle = np.append(si_saddle, w_in_torch_format[0][1])\n",
    "        continue\n",
    "      si_saddle = np.append(si_saddle, w_in_torch_format[teacher_idx][0])\n",
    "      si_saddle = np.append(si_saddle, w_in_torch_format[teacher_idx][1])\n",
    "      teacher_idx += 1\n",
    "\n",
    "    teacher_idx = 1\n",
    "\n",
    "    for i in range(H_student):\n",
    "      if i == idx_neuron1:\n",
    "        si_saddle = np.append(si_saddle,\n",
    "                              mu * w_out_torch_format[0])\n",
    "        continue\n",
    "      if i == idx_neuron2:\n",
    "        si_saddle = np.append(si_saddle,\n",
    "                              (1 - mu) * w_out_torch_format[0])\n",
    "        continue\n",
    "      si_saddle = np.append(si_saddle,\n",
    "                            w_out_torch_format[teacher_idx])\n",
    "      teacher_idx += 1\n",
    "\n",
    "    return si_saddle"
   ]
  },
  {
   "cell_type": "code",
   "execution_count": 50,
   "metadata": {
    "id": "GKuSu6M_dJS1"
   },
   "outputs": [],
   "source": [
    "def find_saddle_line(final_weights):\n",
    "    saddle_smallest_u = construct_si_saddle(final_weights, -1)\n",
    "    saddle_largest_u = construct_si_saddle(final_weights, 2)\n",
    "    \n",
    "    saddle_line_dir = (saddle_largest_u - saddle_smallest_u) / \\\n",
    "                       np.linalg.norm(saddle_largest_u - saddle_smallest_u)\n",
    "    closest_saddle = saddle_smallest_u + saddle_line_dir * \\\n",
    "                     np.dot(saddle_line_dir, (local_min - saddle_smallest_u))\n",
    "    optimal_mu = closest_saddle[2 * H_student + idx_neuron1] / w_out_torch_format[0][0].item()\n",
    "    directional_vector = local_min - closest_saddle\n",
    "    \n",
    "    return closest_saddle, optimal_mu, directional_vector"
   ]
  },
  {
   "cell_type": "code",
   "execution_count": 51,
   "metadata": {},
   "outputs": [
    {
     "name": "stdout",
     "output_type": "stream",
     "text": [
      "Optimal mu: -0.2137154321269197\n",
      "Distance to local min: 2.559139032667169e-06\n"
     ]
    }
   ],
   "source": [
    "closest_saddle, optimal_mu, directional_vector = find_saddle_line(final_weights)\n",
    "print('Optimal mu:', optimal_mu)\n",
    "print('Distance to local min:', np.linalg.norm(local_min - closest_saddle))\n",
    "\n",
    "dist_min_saddle = np.linalg.norm(local_min - closest_saddle)"
   ]
  },
  {
   "cell_type": "code",
   "execution_count": 52,
   "metadata": {},
   "outputs": [
    {
     "name": "stdout",
     "output_type": "stream",
     "text": [
      "0.48731574408856737\n"
     ]
    },
    {
     "data": {
      "text/plain": [
       "Text(0, 0.5, 'Distance to local min')"
      ]
     },
     "execution_count": 52,
     "metadata": {},
     "output_type": "execute_result"
    },
    {
     "data": {
      "image/png": "[encoded data removed]",
      "text/plain": [
       "<Figure size 432x288 with 1 Axes>"
      ]
     },
     "metadata": {
      "needs_background": "light"
     },
     "output_type": "display_data"
    }
   ],
   "source": [
    "perturbed_distances_to_local_min = []\n",
    "\n",
    "for perturbed_final_weights_sample in perturbed_final_weights:\n",
    "    perturbed_closest_saddle, perturbed_optimal_mu, perturbed_directional_vector = find_saddle_line(perturbed_final_weights_sample)\n",
    "    new_dist_min_saddle = np.linalg.norm(local_min - perturbed_closest_saddle)\n",
    "    if new_dist_min_saddle < dist_min_saddle:\n",
    "        dist_min_saddle = new_dist_min_saddle\n",
    "        closest_saddle = perturbed_closest_saddle\n",
    "        optimal_mu = perturbed_optimal_mu\n",
    "        directional_vector = perturbed_directional_vector\n",
    "    perturbed_distances_to_local_min.append(new_dist_min_saddle)\n",
    "print(min(perturbed_distances_to_local_min))\n",
    "plt.plot(np.arange(0, len(perturbed_distances_to_local_min)), perturbed_distances_to_local_min)\n",
    "plt.xlabel('Pertubation number')\n",
    "plt.ylabel('Distance to local min')"
   ]
  },
  {
   "cell_type": "code",
   "execution_count": 53,
   "metadata": {},
   "outputs": [
    {
     "data": {
      "text/plain": [
       "Text(0, 0.5, 'Distance (L2) to local min')"
      ]
     },
     "execution_count": 53,
     "metadata": {},
     "output_type": "execute_result"
    },
    {
     "data": {
      "image/png": "[encoded data removed]",
      "text/plain": [
       "<Figure size 432x288 with 1 Axes>"
      ]
     },
     "metadata": {
      "needs_background": "light"
     },
     "output_type": "display_data"
    }
   ],
   "source": [
    "plt.scatter(perturbed_losses, perturbed_distances_to_local_min)\n",
    "plt.xlabel('Loss')\n",
    "# plt.xscale('log')\n",
    "plt.ylabel('Distance (L2) to local min')"
   ]
  },
  {
   "cell_type": "markdown",
   "metadata": {},
   "source": [
    "# Eigenspectrum of the closest SI saddle"
   ]
  },
  {
   "cell_type": "code",
   "execution_count": 54,
   "metadata": {
    "scrolled": true
   },
   "outputs": [
    {
     "name": "stdout",
     "output_type": "stream",
     "text": [
      "[1.4555647134136164e-17 7.4307505501373810e-07 3.9821285395919832e-05\n",
      " 5.6665753972391384e-05 1.7355689640981913e-04 2.8540938043479210e-04\n",
      " 7.8794062825227995e-04 2.3459573821536070e-03 6.3792512200328347e-03\n",
      " 9.9767072614994588e-03 4.1939338019932902e-02 8.2368467331196946e-02\n",
      " 8.1935156476444471e-01 1.1974789526305434e+00 2.6374884181199230e+00]\n"
     ]
    },
    {
     "data": {
      "text/plain": [
       "Text(0, 0.5, 'Eigenvalue')"
      ]
     },
     "execution_count": 54,
     "metadata": {},
     "output_type": "execute_result"
    },
    {
     "data": {
      "image/png": "[encoded data removed]",
      "text/plain": [
       "<Figure size 432x288 with 1 Axes>"
      ]
     },
     "metadata": {
      "needs_background": "light"
     },
     "output_type": "display_data"
    }
   ],
   "source": [
    "evals, _ = jax_evals(closest_saddle)\n",
    "print(evals)\n",
    "plt.scatter(np.arange(len(evals)), evals)\n",
    "plt.xlabel('Index of eigenvalue')\n",
    "plt.ylabel('Eigenvalue')"
   ]
  },
  {
   "cell_type": "markdown",
   "metadata": {
    "id": "Ds6ujTrIC3SD"
   },
   "source": [
    "# Compute loss across the 1D line between local min and closest saddle"
   ]
  },
  {
   "cell_type": "code",
   "execution_count": 55,
   "metadata": {
    "id": "pkUAtLYV743N"
   },
   "outputs": [],
   "source": [
    "def get_losses_across_line(start_si_saddle, directional_vector, eps=1e-4):\n",
    "    line_point = start_si_saddle\n",
    "    distances_to_saddle = [0]\n",
    "    losses_to_min = [jax_loss(start_si_saddle)]\n",
    "\n",
    "    while True:\n",
    "      line_point = line_point + eps * directional_vector\n",
    "\n",
    "      loss_val = jax_loss(line_point)\n",
    "      distances_to_saddle.append(np.linalg.norm(start_si_saddle - line_point))\n",
    "      losses_to_min.append(loss_val)\n",
    "\n",
    "      if np.linalg.norm(line_point - start_si_saddle) >= 2 * np.linalg.norm(local_min - start_si_saddle):\n",
    "        break\n",
    "    return distances_to_saddle, losses_to_min"
   ]
  },
  {
   "cell_type": "code",
   "execution_count": 56,
   "metadata": {},
   "outputs": [],
   "source": [
    "distances_to_saddle, losses_to_min = get_losses_across_line(closest_saddle, directional_vector)"
   ]
  },
  {
   "cell_type": "code",
   "execution_count": 57,
   "metadata": {
    "id": "OGFepytsO1yG"
   },
   "outputs": [
    {
     "name": "stdout",
     "output_type": "stream",
     "text": [
      "8.099134926153118e-05\n",
      "8.099134926151902e-05\n"
     ]
    },
    {
     "data": {
      "text/plain": [
       "<matplotlib.collections.PathCollection at 0x7f9234b91710>"
      ]
     },
     "execution_count": 57,
     "metadata": {},
     "output_type": "execute_result"
    },
    {
     "data": {
      "image/png": "[encoded data removed]",
      "text/plain": [
       "<Figure size 432x288 with 1 Axes>"
      ]
     },
     "metadata": {
      "needs_background": "light"
     },
     "output_type": "display_data"
    }
   ],
   "source": [
    "plt.plot(distances_to_saddle, losses_to_min)\n",
    "print(max(losses_to_min))\n",
    "print(min(losses_to_min))\n",
    "\n",
    "plt.xlabel('Distance from the symmetry induced saddle')\n",
    "plt.ylabel('Loss value')\n",
    "\n",
    "# Mark the position of the closest saddle in the chart.\n",
    "plt.scatter(distances_to_saddle[0], losses_to_min[0], color='red')\n",
    "plt.yscale('log')\n",
    "\n",
    "# Mark the position of the local min in the chart.\n",
    "local_min_idx = np.argmin(abs(distances_to_saddle - np.linalg.norm(local_min - closest_saddle)))\n",
    "plt.scatter(distances_to_saddle[local_min_idx], losses_to_min[local_min_idx], color='red')"
   ]
  },
  {
   "cell_type": "markdown",
   "metadata": {},
   "source": [
    "# Compute loss across the 1D line for a range of \\mu"
   ]
  },
  {
   "cell_type": "code",
   "execution_count": 58,
   "metadata": {},
   "outputs": [
    {
     "name": "stdout",
     "output_type": "stream",
     "text": [
      "[1.0094004439167268e-16 1.9858983423339182e-06]\n",
      "[-1.1420419221213376e-16  1.9976699832148126e-06]\n",
      "[4.4098624121317943e-17 2.0082123171994993e-06]\n",
      "[-1.7040755035147494e-16  2.0176890761312354e-06]\n",
      "[9.162870328974581e-17 2.026237872354705e-06]\n",
      "[-1.8353091788157609e-16  2.0339749994486483e-06]\n",
      "[-1.4420530390290810e-16  2.0409992378992217e-06]\n",
      "[-1.9241302329933306e-16  2.0473949024973930e-06]\n",
      "[4.2378118903990996e-17 2.0532342921833635e-06]\n",
      "[-1.1986918676581902e-16  2.0585796740975213e-06]\n"
     ]
    },
    {
     "data": {
      "text/plain": [
       "<matplotlib.legend.Legend at 0x7f9234995bd0>"
      ]
     },
     "execution_count": 58,
     "metadata": {},
     "output_type": "execute_result"
    },
    {
     "data": {
      "image/png": "[encoded data removed]",
      "text/plain": [
       "<Figure size 432x288 with 1 Axes>"
      ]
     },
     "metadata": {
      "needs_background": "light"
     },
     "output_type": "display_data"
    }
   ],
   "source": [
    "# mu_range = [0, 0.25, 0.5, 0.75, 1, 2, 5, 10]\n",
    "mu_range = np.arange(3, 4, 0.1)\n",
    "# mu_range = [-2.2, -2.1, -1.9, -1.8, -1.7, -1.6, -1.5]\n",
    "# fig_escape, axs = plt.subplots(len(mu_range), 1)\n",
    "# fig_escape.set_size_inches(5, 30)\n",
    "\n",
    "for idx, mu in enumerate(mu_range):\n",
    "    si_saddle = construct_si_saddle(final_weights, mu)\n",
    "    directional_vector = local_min - si_saddle\n",
    "    distances_to_saddle, losses_to_min = get_losses_across_line(si_saddle, directional_vector)\n",
    "    plt.plot(distances_to_saddle, losses_to_min, label=\"mu=\" + str(mu))\n",
    "    \n",
    "    # Mark the position of the closest saddle in the chart.\n",
    "    plt.scatter(distances_to_saddle[0], losses_to_min[0], color='red')\n",
    "    plt.yscale('log')\n",
    "\n",
    "    # Mark the position of the local min in the chart.\n",
    "    local_min_idx = np.argmin(abs(distances_to_saddle - np.linalg.norm(local_min - si_saddle)))\n",
    "    plt.scatter(distances_to_saddle[local_min_idx], losses_to_min[local_min_idx], color='red')\n",
    "    plt.xlabel('Distance from the symmetry induced saddle')\n",
    "    plt.ylabel('Loss value')\n",
    "\n",
    "    evals, _ = jax_evals(si_saddle)\n",
    "    print(evals[:2])\n",
    "\n",
    "plt.legend(loc=\"upper right\")"
   ]
  },
  {
   "cell_type": "markdown",
   "metadata": {
    "id": "NPAMVVjzDGXy"
   },
   "source": [
    "# Compute the 2D plane between the SI saddles line and the local min"
   ]
  },
  {
   "cell_type": "code",
   "execution_count": 59,
   "metadata": {
    "id": "T88RhExFFnpm"
   },
   "outputs": [
    {
     "name": "stdout",
     "output_type": "stream",
     "text": [
      "loss at left saddle limit: 8.099134926152088e-05\n",
      "loss at right saddle limit: 8.099134926152088e-05\n",
      "loss at closest saddle: 8.099134926152088e-05\n",
      "loss at local min: 8.09913492615202e-05\n"
     ]
    }
   ],
   "source": [
    "left_saddle_limit = deepcopy(closest_saddle)\n",
    "right_saddle_limit = deepcopy(closest_saddle)\n",
    "print('loss at left saddle limit:', jax_loss(left_saddle_limit))\n",
    "print('loss at right saddle limit:', jax_loss(right_saddle_limit))\n",
    "print('loss at closest saddle:', jax_loss(closest_saddle))\n",
    "print('loss at local min:', jax_loss(local_min))\n",
    "\n",
    "saddle_line_size = 10\n",
    "left_saddle_limit[2 * H_student + idx_neuron1] += -saddle_line_size / 2\n",
    "left_saddle_limit[2 * H_student + idx_neuron2] += saddle_line_size / 2\n",
    "\n",
    "right_saddle_limit[2 * H_student + idx_neuron1] += saddle_line_size / 2\n",
    "right_saddle_limit[2 * H_student + idx_neuron2] += -saddle_line_size / 2"
   ]
  },
  {
   "cell_type": "code",
   "execution_count": 60,
   "metadata": {
    "id": "y9ZENhigtIZ1"
   },
   "outputs": [
    {
     "name": "stdout",
     "output_type": "stream",
     "text": [
      "301\n"
     ]
    }
   ],
   "source": [
    "x_dist = np.linalg.norm(right_saddle_limit - left_saddle_limit)\n",
    "y_dist = np.linalg.norm(closest_saddle - local_min)\n",
    "\n",
    "direction_x_axis = (right_saddle_limit - left_saddle_limit) / np.linalg.norm(right_saddle_limit - left_saddle_limit)\n",
    "direction_y_axis = (local_min - closest_saddle) / np.linalg.norm(local_min - closest_saddle)\n",
    "\n",
    "num_steps_x_axis = 300\n",
    "step_x_axis = x_dist / num_steps_x_axis\n",
    "offset_oy = 70\n",
    "num_steps_y_axis = 300 - 2 * offset_oy\n",
    "step_y_axis = y_dist / num_steps_y_axis\n",
    "\n",
    "left_saddle_limit = left_saddle_limit - offset_oy * step_y_axis * direction_y_axis\n",
    "right_saddle_limit = right_saddle_limit - offset_oy * step_y_axis * direction_y_axis\n",
    "\n",
    "y_dist = np.linalg.norm(closest_saddle - offset_oy * step_y_axis * direction_y_axis - \\\n",
    "                        local_min - offset_oy * step_y_axis * direction_y_axis)\n",
    "num_steps_y_axis = 300\n",
    "\n",
    "x_axis_points = []\n",
    "y_axis_points= []\n",
    "\n",
    "for num_step in range(num_steps_x_axis + 1):\n",
    "  x_axis_points.append(num_step * step_x_axis * direction_x_axis)\n",
    "\n",
    "for num_step in range(num_steps_y_axis + 1):\n",
    "  y_axis_points.append(num_step * step_y_axis * direction_y_axis)\n",
    "\n",
    "\n",
    "print(len(x_axis_points))\n",
    "\n",
    "loss_values = []\n",
    "neuron_points = [left_saddle_limit + x_axis_point + y_axis_point for y_axis_point in y_axis_points for x_axis_point in x_axis_points]\n",
    "\n",
    "for y_axis_point in y_axis_points:\n",
    "  for x_axis_point in x_axis_points:\n",
    "    neuron_point = left_saddle_limit + x_axis_point + y_axis_point\n",
    "    loss_val = jax_loss(neuron_point)\n",
    "\n",
    "    loss_values.append(np.log(loss_val))"
   ]
  },
  {
   "cell_type": "code",
   "execution_count": 61,
   "metadata": {
    "id": "zIeQxaxvc29L"
   },
   "outputs": [],
   "source": [
    "def find_projection_on_plane(neuron_point, plane_neuron_points):\n",
    "  min_dist = np.inf\n",
    "  row_idx = None\n",
    "  col_idx = None\n",
    "\n",
    "  for idx, plane_neuron_point in enumerate(plane_neuron_points):\n",
    "    if np.linalg.norm(neuron_point - plane_neuron_point) < min_dist:\n",
    "      min_dist = np.linalg.norm(neuron_point - plane_neuron_point)\n",
    "      row_idx = int(idx / (num_steps_x_axis + 1))\n",
    "      col_idx = idx % (num_steps_x_axis + 1)\n",
    "  \n",
    "  return row_idx, col_idx\n",
    "\n",
    "def fetch_trajectories_as_neuron_points(data_row):\n",
    "  traj_neuron_points = []\n",
    "\n",
    "  for i in range(0, int(data_row['student size'])):\n",
    "    neuron_traj_x = np.fromstring(data_row['neuron_' + str(i) + '_traj_x'][1:-1], dtype=float, sep=',')\n",
    "    neuron_traj_y = np.fromstring(data_row['neuron_' + str(i) + '_traj_y'][1:-1], dtype=float, sep=',')\n",
    "    if len(traj_neuron_points) == 0:\n",
    "      for j in range(0, len(neuron_traj_x)):\n",
    "        traj_neuron_points.append([])\n",
    "\n",
    "    for idx, _ in enumerate(neuron_traj_x):\n",
    "      traj_neuron_points[idx].append(neuron_traj_x[idx])\n",
    "      traj_neuron_points[idx].append(neuron_traj_y[idx])\n",
    "\n",
    "  for i in range(0, int(data_row['student size'])):\n",
    "    neuron_a = np.fromstring(data_row['neuron_' + str(i) + '_a'][1:-1], dtype=float, sep=',')\n",
    "    for idx, _ in enumerate(neuron_a):\n",
    "      traj_neuron_points[idx].append(neuron_a[idx])\n",
    "    \n",
    "  return traj_neuron_points\n",
    "\n",
    "def plot_projected_trajectories(data_row):\n",
    "  traj_neuron_points = fetch_trajectories_as_neuron_points(data_row)\n",
    "\n",
    "  projected_points_row = []\n",
    "  projected_points_col = []\n",
    "  # Necessarily include the first point.\n",
    "  row_idx, col_idx = find_projection_on_plane(traj_neuron_points[0], neuron_points)\n",
    "  projected_points_row.append(row_idx)\n",
    "  projected_points_col.append(col_idx)\n",
    "\n",
    "  for idx, traj_neuron_point in enumerate(traj_neuron_points):\n",
    "    if idx >= len(traj_neuron_points) - 2:\n",
    "      break\n",
    "    if idx % 5 == 0:\n",
    "      row_idx, col_idx = find_projection_on_plane(traj_neuron_point, neuron_points)\n",
    "      projected_points_row.append(row_idx)\n",
    "      projected_points_col.append(col_idx)\n",
    "\n",
    "  # Include the second to last point (Adam last point).\n",
    "  row_idx, col_idx = find_projection_on_plane(traj_neuron_points[-2], neuron_points)\n",
    "  projected_points_row.append(row_idx)\n",
    "  projected_points_col.append(col_idx)\n",
    "  plt.scatter([col_idx], [row_idx], marker='+', color='red')\n",
    "  print(row_idx, col_idx)\n",
    "\n",
    "\n",
    "  # Necessarily include the last point.\n",
    "  row_idx, col_idx = find_projection_on_plane(traj_neuron_points[-1], neuron_points)\n",
    "  projected_points_row.append(row_idx)\n",
    "  projected_points_col.append(col_idx)\n",
    "  print(row_idx, col_idx)\n",
    "\n",
    "  plt.plot(projected_points_col, projected_points_row, color='red')\n",
    "  plt.scatter(projected_points_col[0], projected_points_row[0],\n",
    "              marker='*', color='red')\n",
    "  plt.scatter(projected_points_col[-1], projected_points_row[-1],\n",
    "              marker='*', color='red')"
   ]
  },
  {
   "cell_type": "code",
   "execution_count": 62,
   "metadata": {
    "id": "RZNtn2c3yuzQ"
   },
   "outputs": [
    {
     "name": "stdout",
     "output_type": "stream",
     "text": [
      "234 150\n",
      "230 150\n"
     ]
    },
    {
     "data": {
      "image/png": "[encoded data removed]",
      "text/plain": [
       "<Figure size 432x288 with 2 Axes>"
      ]
     },
     "metadata": {
      "needs_background": "light"
     },
     "output_type": "display_data"
    }
   ],
   "source": [
    "closest_saddle_ox_coord = int (num_steps_x_axis / 2)\n",
    "closest_saddle_oy_coord = offset_oy\n",
    "\n",
    "local_min_ox_coord = closest_saddle_ox_coord\n",
    "local_min_oy_coord = num_steps_y_axis - offset_oy\n",
    "\n",
    "np_loss_values = np.array(loss_values).reshape(num_steps_y_axis + 1,\n",
    "                                               num_steps_x_axis + 1)\n",
    "\n",
    "fig_2dplane, ax = plt.subplots(1, 1)\n",
    "\n",
    "ticks_oy = np.linspace(0, num_steps_y_axis, 7)\n",
    "ticks_ox = np.linspace(0, num_steps_x_axis, 7)\n",
    "\n",
    "ticklabels_ox = [\"{:.2f}\".format(np.linalg.norm(neuron_points[int(i)] - neuron_points[0])) for i in ticks_ox]\n",
    "ticklabels_oy = [\"{:.2f}\".format(np.linalg.norm(neuron_points[(num_steps_x_axis + 1) * int(i)] - neuron_points[0])) for i in ticks_oy]\n",
    "\n",
    "grid_img = ax.imshow(np_loss_values, interpolation='bilinear', origin = 'lower')\n",
    "ax.set_xticks(ticks_ox)\n",
    "ax.set_xticklabels(ticklabels_ox)\n",
    "ax.set_yticks(ticks_oy)\n",
    "ax.set_yticklabels(ticklabels_oy)\n",
    "\n",
    "ax.scatter([closest_saddle_ox_coord, local_min_ox_coord],\n",
    "           [closest_saddle_oy_coord, local_min_oy_coord],\n",
    "           marker='x', color='white')\n",
    "\n",
    "ax.plot([0, num_steps_x_axis],\n",
    "        [closest_saddle_oy_coord, closest_saddle_oy_coord], color='red')\n",
    "\n",
    "\n",
    "fig_2dplane.colorbar(grid_img).set_label('log(loss)',rotation=270)\n",
    "# fig_2dplane.suptitle('Loss(log) on the plane formed by local min the SI saddles')\n",
    "\n",
    "plot_projected_trajectories(sample_point)\n",
    "plt.xlabel('L2 distance (SI saddles - local min)')\n",
    "plt.ylabel('L2 distance (SI saddles)')\n",
    "\n",
    "plt.show()"
   ]
  },
  {
   "cell_type": "code",
   "execution_count": 63,
   "metadata": {},
   "outputs": [
    {
     "data": {
      "text/plain": [
       "Text(0, 0.5, 'L2 norm between 2 neurons')"
      ]
     },
     "execution_count": 63,
     "metadata": {},
     "output_type": "execute_result"
    },
    {
     "data": {
      "image/png": "[encoded data removed]",
      "text/plain": [
       "<Figure size 432x288 with 1 Axes>"
      ]
     },
     "metadata": {
      "needs_background": "light"
     },
     "output_type": "display_data"
    }
   ],
   "source": [
    "traj_neuron_points = fetch_trajectories_as_neuron_points(sample_point)\n",
    "traj_neuron_points = np.array(traj_neuron_points)\n",
    "for i in range(H_student):\n",
    "    for j in range(i + 1, H_student):\n",
    "        traj_neuron_i = traj_neuron_points[:, 2 * i : 2 * i + 2]\n",
    "\n",
    "        traj_neuron_j = traj_neuron_points[:, 2 * j : 2 * j + 2]\n",
    "        \n",
    "        inter_neuron_distances = np.sqrt(((traj_neuron_i - traj_neuron_j) ** 2).sum(axis=-1))\n",
    "        color = 'blue'\n",
    "        if i == idx_neuron1 and j == idx_neuron2:\n",
    "            color = 'red'\n",
    "        plt.plot(np.arange(0, len(inter_neuron_distances)), inter_neuron_distances, color=color)\n",
    "\n",
    "plt.xlabel('Iteration')\n",
    "plt.ylabel('L2 norm between 2 neurons')"
   ]
  },
  {
   "cell_type": "markdown",
   "metadata": {},
   "source": [
    "# Finding the SI saddle directly from the local min"
   ]
  },
  {
   "cell_type": "markdown",
   "metadata": {},
   "source": [
    "## Using second order optimization"
   ]
  },
  {
   "cell_type": "code",
   "execution_count": 64,
   "metadata": {},
   "outputs": [],
   "source": [
    "from utils.training import regularized_second_order_train\n",
    "%load_ext autoreload\n",
    "%autoreload 2"
   ]
  },
  {
   "cell_type": "code",
   "execution_count": 65,
   "metadata": {},
   "outputs": [],
   "source": [
    "incoming_weights_x, incoming_weights_y, outgoing_weights = extract_weights(sample_point)\n",
    "w_in = np.array([[incoming_weights_x[0], incoming_weights_y[0]],\n",
    "                  [incoming_weights_x[1], incoming_weights_y[1]],\n",
    "                  [incoming_weights_x[2], incoming_weights_y[2]],\n",
    "                  [incoming_weights_x[3], incoming_weights_y[3]],\n",
    "                  [incoming_weights_x[4], incoming_weights_y[4]]], dtype=np.float64)\n",
    "w_out = np.array([outgoing_weights], dtype=np.float64)\n",
    "weights = np.append(w_in.reshape(H_student * 2),\n",
    "                    w_out.reshape(H_student))"
   ]
  },
  {
   "cell_type": "code",
   "execution_count": 66,
   "metadata": {},
   "outputs": [
    {
     "name": "stdout",
     "output_type": "stream",
     "text": [
      "Gradient at this point: 0.45961782516276095\n"
     ]
    }
   ],
   "source": [
    "final_weights = regularized_second_order_train(weights)\n",
    "print('Gradient at this point:', jnp.linalg.norm(jax_grad(final_weights)))\n",
    "w_in_torch_format = final_weights[0 : 2 * H_student].reshape(H_student, 2)\n",
    "w_out_torch_format = final_weights[2 * H_student : ].reshape(H_student)"
   ]
  },
  {
   "cell_type": "code",
   "execution_count": 67,
   "metadata": {},
   "outputs": [
    {
     "data": {
      "text/plain": [
       "Text(0, 0.5, 'w2')"
      ]
     },
     "execution_count": 67,
     "metadata": {},
     "output_type": "execute_result"
    },
    {
     "data": {
      "image/png": "[encoded data removed]",
      "text/plain": [
       "<Figure size 432x288 with 2 Axes>"
      ]
     },
     "metadata": {
      "needs_background": "light"
     },
     "output_type": "display_data"
    }
   ],
   "source": [
    "plt.scatter(w_in_torch_format[:, 0],\n",
    "            w_in_torch_format[:, 1],\n",
    "            c = w_out_torch_format,\n",
    "            cmap = matplotlib.cm.jet,\n",
    "            marker=\">\")\n",
    "plt.clim(min_outgoing_weight, max_outgoing_weight)\n",
    "\n",
    "plt.colorbar().set_label('Outgoing weight', rotation=270)\n",
    "plt.xlabel('w1')\n",
    "plt.ylabel('w2')"
   ]
  },
  {
   "cell_type": "code",
   "execution_count": 68,
   "metadata": {},
   "outputs": [],
   "source": [
    "def find_saddle_line_from_reg_saddle(final_weights):\n",
    "    saddle_smallest_u = deepcopy(final_weights)\n",
    "    saddle_smallest_u[2 * H_student + idx_neuron1] -= 1\n",
    "    saddle_smallest_u[2 * H_student + idx_neuron2] += 1\n",
    "\n",
    "    saddle_largest_u = deepcopy(final_weights)\n",
    "\n",
    "    saddle_line_dir = (saddle_largest_u - saddle_smallest_u) / \\\n",
    "                       np.linalg.norm(saddle_largest_u - saddle_smallest_u)\n",
    "    closest_saddle = saddle_smallest_u + saddle_line_dir * \\\n",
    "                     np.dot(saddle_line_dir, (local_min - saddle_smallest_u))\n",
    "    directional_vector = local_min - closest_saddle\n",
    "    \n",
    "    return closest_saddle, directional_vector"
   ]
  },
  {
   "cell_type": "code",
   "execution_count": 69,
   "metadata": {},
   "outputs": [
    {
     "name": "stdout",
     "output_type": "stream",
     "text": [
      "Distance to local min: 0.6318197886219646\n"
     ]
    }
   ],
   "source": [
    "closest_saddle, directional_vector = find_saddle_line_from_reg_saddle(final_weights)\n",
    "print('Distance to local min:', np.linalg.norm(local_min - closest_saddle))\n",
    "\n",
    "dist_min_saddle = np.linalg.norm(local_min - closest_saddle)"
   ]
  },
  {
   "cell_type": "code",
   "execution_count": 70,
   "metadata": {},
   "outputs": [
    {
     "name": "stdout",
     "output_type": "stream",
     "text": [
      "0.12914764490674738\n"
     ]
    }
   ],
   "source": [
    "line_point = closest_saddle\n",
    "distances_to_saddle = [0]\n",
    "losses_to_min = [jax_loss(closest_saddle)]\n",
    "\n",
    "print(jax_loss(line_point))\n",
    "\n",
    "while True:\n",
    "  eps = 1e-4\n",
    "  line_point = line_point + eps * directional_vector\n",
    "\n",
    "  loss_val = jax_loss(line_point)\n",
    "  distances_to_saddle.append(np.linalg.norm(closest_saddle - line_point))\n",
    "  losses_to_min.append(loss_val)\n",
    "\n",
    "  if np.linalg.norm(line_point - closest_saddle) >= 1 + np.linalg.norm(local_min - closest_saddle):\n",
    "    break"
   ]
  },
  {
   "cell_type": "code",
   "execution_count": 71,
   "metadata": {},
   "outputs": [
    {
     "name": "stdout",
     "output_type": "stream",
     "text": [
      "0.35368462388254673\n"
     ]
    },
    {
     "data": {
      "text/plain": [
       "<matplotlib.collections.PathCollection at 0x7f9216ecbed0>"
      ]
     },
     "execution_count": 71,
     "metadata": {},
     "output_type": "execute_result"
    },
    {
     "data": {
      "image/png": "[encoded data removed]",
      "text/plain": [
       "<Figure size 432x288 with 1 Axes>"
      ]
     },
     "metadata": {
      "needs_background": "light"
     },
     "output_type": "display_data"
    }
   ],
   "source": [
    "plt.plot(distances_to_saddle, losses_to_min)\n",
    "print(max(losses_to_min))\n",
    "plt.xlabel('Distance from the symmetry induced saddle')\n",
    "plt.ylabel('Loss value')\n",
    "\n",
    "# Mark the position of the closest saddle in the chart.\n",
    "plt.scatter(distances_to_saddle[0], losses_to_min[0], color='red')\n",
    "plt.yscale('log')\n",
    "\n",
    "# Mark the position of the local min in the chart.\n",
    "local_min_idx = np.argmin(abs(distances_to_saddle - np.linalg.norm(local_min - closest_saddle)))\n",
    "plt.scatter(distances_to_saddle[local_min_idx], losses_to_min[local_min_idx], color='red')"
   ]
  },
  {
   "cell_type": "markdown",
   "metadata": {},
   "source": [
    "## Using first order optimization"
   ]
  },
  {
   "cell_type": "code",
   "execution_count": 72,
   "metadata": {},
   "outputs": [],
   "source": [
    "incoming_weights_x, incoming_weights_y, outgoing_weights = extract_weights(sample_point)\n",
    "w_in = np.array([[incoming_weights_x[0], incoming_weights_y[0]],\n",
    "                  [incoming_weights_x[1], incoming_weights_y[1]],\n",
    "                  [incoming_weights_x[2], incoming_weights_y[2]],\n",
    "                  [incoming_weights_x[3], incoming_weights_y[3]],\n",
    "                  [incoming_weights_x[4], incoming_weights_y[4]]], dtype=np.float64)\n",
    "w_out = np.array([outgoing_weights], dtype=np.float64)\n",
    "weights = np.append(w_in.reshape(H_student * 2),\n",
    "                    w_out.reshape(H_student))"
   ]
  },
  {
   "cell_type": "code",
   "execution_count": 73,
   "metadata": {},
   "outputs": [],
   "source": [
    "def pytorch_regularized_loss(output, target):\n",
    "    loss = torch.mean((output - target) ** 2)\n",
    "    return loss\n",
    "\n",
    "def regularized_first_order_train(model, x, y_labels,  N = 10, Ninner = 10 ** 3, Nstart = 10):\n",
    "  optimizer = torch.optim.SGD(model.parameters(), lr = 0.001)\n",
    "  psi = 1\n",
    "\n",
    "  loss_vals = []\n",
    "\n",
    "  for i in range(1, N + 1):\n",
    "    loss_tmp = []\n",
    "    for j in range(1, Ninner + 1):\n",
    "      y = model(x)\n",
    "\n",
    "      model_params = []\n",
    "      for param in model.parameters():\n",
    "        model_params.append(param)\n",
    "      model_params_w_in = model_params[0]\n",
    "      model_params_w_out = model_params[1]\n",
    "      \n",
    "      neuron1 = torch.cat((model_params_w_in[idx_neuron1, :], model_params_w_out[:, idx_neuron1]), dim=-1)\n",
    "      neuron2 = torch.cat((model_params_w_in[idx_neuron2, :], model_params_w_out[:, idx_neuron2]), dim=-1)\n",
    "      # neuron1 = model_params_w_in[idx_neuron1, :]\n",
    "      # neuron2 = model_params_w_in[idx_neuron2, :]\n",
    "      # print(neuron1, neuron2)\n",
    "      \n",
    "      loss = pytorch_regularized_loss(y, y_labels) + psi * torch.norm(neuron1 - neuron2)\n",
    "    \n",
    "      loss_grad = torch.autograd.grad(loss, model.parameters(), retain_graph=True)\n",
    "\n",
    "      loss_tmp.append(loss.item())\n",
    "      optimizer.zero_grad()\n",
    "      loss.backward(retain_graph=True)\n",
    "      optimizer.step()\n",
    "      if i == 1 and (j % Nstart == 0) and j < Ninner:\n",
    "        loss_vals.append(np.mean(loss_tmp[j - Nstart  : j]))\n",
    "\n",
    "    loss_vals.append(np.mean(loss_tmp))\n",
    "    \n",
    "    cnt = 0\n",
    "    for g in loss_grad:\n",
    "        g_vector = g.contiguous().view(-1) if cnt == 0 else torch.cat([g_vector, g.contiguous().view(-1)])\n",
    "        cnt = 1\n",
    "    # print(g_vector)\n",
    "    print(\"Iteration: %d, loss: %s, gradient norm: %s\" % (Ninner * i, np.mean(loss_tmp), torch.norm(g_vector)))\n",
    "    \n",
    "#   final_weights = train_second_order(model)\n",
    "#   final_weights = regularized_second_order_train(jnp.append(\n",
    "#                       deepcopy(model.linear1.weight.data.detach().numpy().reshape(H_student * 2)),\n",
    "#                       deepcopy(model.linear2.weight.data.detach().numpy().reshape(H_student))))\n",
    "#   return final_weights\n",
    "  return np.append(deepcopy(model.linear1.weight.data.detach().numpy().reshape(H_student * 2)),\n",
    "                     deepcopy(model.linear2.weight.data.detach().numpy().reshape(H_student)))\n"
   ]
  },
  {
   "cell_type": "code",
   "execution_count": 74,
   "metadata": {},
   "outputs": [],
   "source": [
    "dummy_model = DummyNetwork(D_in, H_student, D_out, torch.DoubleTensor(w_in), torch.DoubleTensor(w_out))"
   ]
  },
  {
   "cell_type": "code",
   "execution_count": 75,
   "metadata": {},
   "outputs": [
    {
     "name": "stdout",
     "output_type": "stream",
     "text": [
      "Iteration: 1000, loss: 0.23022934846855864, gradient norm: tensor(1.4142)\n",
      "Iteration: 2000, loss: 0.0010809913492718605, gradient norm: tensor(1.4142)\n",
      "Iteration: 3000, loss: 0.0010809913492706897, gradient norm: tensor(1.4142)\n",
      "Iteration: 4000, loss: 0.0010809913492701385, gradient norm: tensor(1.4142)\n",
      "Iteration: 5000, loss: 0.0010809913492697122, gradient norm: tensor(1.4142)\n",
      "Iteration: 6000, loss: 0.00108099134926933, gradient norm: tensor(1.4142)\n",
      "Iteration: 7000, loss: 0.001080991349268976, gradient norm: tensor(1.4142)\n",
      "Iteration: 8000, loss: 0.0010809913492686452, gradient norm: tensor(1.4142)\n",
      "Iteration: 9000, loss: 0.0010809913492683342, gradient norm: tensor(1.4142)\n",
      "Iteration: 10000, loss: 0.0010809913492680434, gradient norm: tensor(1.4142)\n"
     ]
    }
   ],
   "source": [
    "final_weights = regularized_first_order_train(dummy_model, torch.DoubleTensor(dataset),\n",
    "                                              torch.DoubleTensor(labels))"
   ]
  },
  {
   "cell_type": "code",
   "execution_count": 76,
   "metadata": {},
   "outputs": [
    {
     "name": "stdout",
     "output_type": "stream",
     "text": [
      "[ 0.3195520765528138  -0.03992386948383459 -0.7345496984878737\n",
      "  0.8039604657029311   0.6661512456920103  -1.0126555536360058\n",
      "  0.9814681677851627   0.6580153830654962  -0.7345496965632194\n",
      "  0.8039604636744825   0.615536925224374   -0.3346592029948433\n",
      " -0.34013765164398224  0.39531140165305023 -0.3360490714452381 ]\n",
      "Gradient at this point: 1.6533553630207148e-08\n"
     ]
    }
   ],
   "source": [
    "print(final_weights)\n",
    "print('Gradient at this point:', jnp.linalg.norm(jax_grad(final_weights)))\n",
    "w_in_torch_format = final_weights[0 : 2 * H_student].reshape(H_student, 2)\n",
    "w_out_torch_format = final_weights[2 * H_student : ].reshape(H_student)"
   ]
  },
  {
   "cell_type": "markdown",
   "metadata": {},
   "source": [
    "### Eigenspectrum of the closest SI saddle"
   ]
  },
  {
   "cell_type": "code",
   "execution_count": 77,
   "metadata": {},
   "outputs": [
    {
     "name": "stdout",
     "output_type": "stream",
     "text": [
      "[-1.4570617848354278e-04 -2.1864529786127538e-06  1.1045354621496837e-10\n",
      "  4.1213957209146446e-05  1.1414474937578482e-04  2.6636320034421115e-04\n",
      "  7.1601976449181689e-04  1.7495928580740163e-03  6.2290380900175881e-03\n",
      "  7.5190956210076411e-03  3.5025694761353893e-02  5.1040908538065949e-02\n",
      "  6.2056894009083918e-01  1.1895425393851098e+00  2.6286193930059607e+00]\n"
     ]
    },
    {
     "data": {
      "text/plain": [
       "Text(0, 0.5, 'Eigenvalue')"
      ]
     },
     "execution_count": 77,
     "metadata": {},
     "output_type": "execute_result"
    },
    {
     "data": {
      "image/png": "[encoded data removed]",
      "text/plain": [
       "<Figure size 432x288 with 1 Axes>"
      ]
     },
     "metadata": {
      "needs_background": "light"
     },
     "output_type": "display_data"
    }
   ],
   "source": [
    "evals, _ = jax_evals(final_weights)\n",
    "print(evals)\n",
    "plt.scatter(np.arange(len(evals)), evals)\n",
    "plt.xlabel('Index of eigenvalue')\n",
    "plt.ylabel('Eigenvalue')"
   ]
  },
  {
   "cell_type": "code",
   "execution_count": 78,
   "metadata": {},
   "outputs": [
    {
     "data": {
      "text/plain": [
       "Text(0, 0.5, 'w2')"
      ]
     },
     "execution_count": 78,
     "metadata": {},
     "output_type": "execute_result"
    },
    {
     "data": {
      "image/png": "[encoded data removed]",
      "text/plain": [
       "<Figure size 432x288 with 2 Axes>"
      ]
     },
     "metadata": {
      "needs_background": "light"
     },
     "output_type": "display_data"
    }
   ],
   "source": [
    "plt.scatter(w_in_torch_format[:, 0],\n",
    "            w_in_torch_format[:, 1],\n",
    "            c = w_out_torch_format,\n",
    "            cmap = matplotlib.cm.jet,\n",
    "            marker=\">\")\n",
    "plt.clim(min_outgoing_weight, max_outgoing_weight)\n",
    "\n",
    "plt.colorbar().set_label('Outgoing weight', rotation=270)\n",
    "plt.xlabel('w1')\n",
    "plt.ylabel('w2')"
   ]
  },
  {
   "cell_type": "markdown",
   "metadata": {},
   "source": [
    "### Plotting the 1D distance to the local min"
   ]
  },
  {
   "cell_type": "code",
   "execution_count": 79,
   "metadata": {},
   "outputs": [
    {
     "name": "stdout",
     "output_type": "stream",
     "text": [
      "Distance to local min: 1.5310994736605535e-06\n"
     ]
    }
   ],
   "source": [
    "closest_saddle, directional_vector = find_saddle_line_from_reg_saddle(final_weights)\n",
    "print('Distance to local min:', np.linalg.norm(local_min - closest_saddle))\n",
    "\n",
    "dist_min_saddle = np.linalg.norm(local_min - closest_saddle)"
   ]
  },
  {
   "cell_type": "code",
   "execution_count": 80,
   "metadata": {},
   "outputs": [
    {
     "name": "stdout",
     "output_type": "stream",
     "text": [
      "8.099134926788436e-05\n"
     ]
    }
   ],
   "source": [
    "line_point = closest_saddle\n",
    "distances_to_saddle = [0]\n",
    "losses_to_min = [jax_loss(closest_saddle)]\n",
    "\n",
    "print(jax_loss(line_point))\n",
    "\n",
    "while True:\n",
    "  eps = 1e-4\n",
    "  line_point = line_point + eps * directional_vector\n",
    "\n",
    "  loss_val = jax_loss(line_point)\n",
    "  distances_to_saddle.append(np.linalg.norm(closest_saddle - line_point))\n",
    "  losses_to_min.append(loss_val)\n",
    "\n",
    "  if np.linalg.norm(line_point - closest_saddle) >= 2 * np.linalg.norm(local_min - closest_saddle):\n",
    "    break"
   ]
  },
  {
   "cell_type": "code",
   "execution_count": 81,
   "metadata": {},
   "outputs": [
    {
     "name": "stdout",
     "output_type": "stream",
     "text": [
      "8.099134926788436e-05\n"
     ]
    },
    {
     "data": {
      "text/plain": [
       "<matplotlib.collections.PathCollection at 0x7f921630f750>"
      ]
     },
     "execution_count": 81,
     "metadata": {},
     "output_type": "execute_result"
    },
    {
     "data": {
      "image/png": "[encoded data removed]",
      "text/plain": [
       "<Figure size 432x288 with 1 Axes>"
      ]
     },
     "metadata": {
      "needs_background": "light"
     },
     "output_type": "display_data"
    }
   ],
   "source": [
    "plt.plot(distances_to_saddle, losses_to_min)\n",
    "print(max(losses_to_min))\n",
    "plt.xlabel('Distance from the symmetry induced saddle')\n",
    "plt.ylabel('Loss value')\n",
    "\n",
    "# Mark the position of the closest saddle in the chart.\n",
    "plt.scatter(distances_to_saddle[0], losses_to_min[0], color='red')\n",
    "# plt.yscale('log')\n",
    "\n",
    "# Mark the position of the local min in the chart.\n",
    "local_min_idx = np.argmin(abs(distances_to_saddle - np.linalg.norm(local_min - closest_saddle)))\n",
    "plt.scatter(distances_to_saddle[local_min_idx], losses_to_min[local_min_idx], color='red')"
   ]
  },
  {
   "cell_type": "markdown",
   "metadata": {},
   "source": [
    "### Reapply our own algorithm from this point"
   ]
  },
  {
   "cell_type": "code",
   "execution_count": 82,
   "metadata": {},
   "outputs": [
    {
     "name": "stdout",
     "output_type": "stream",
     "text": [
      "[ 0.3195520765528138  -0.03992386948383459 -0.7345496984878737\n",
      "  0.8039604657029311   0.6661512456920103  -1.0126555536360058\n",
      "  0.9814681677851627   0.6580153830654962  -0.7345496965632194\n",
      "  0.8039604636744825   0.615536925224374   -0.3346592029948433\n",
      " -0.34013765164398224  0.39531140165305023 -0.3360490714452381 ]\n",
      "[-0.7345496975255466, 0.3195520765528138, 0.6661512456920103, 0.9814681677851627] [0.8039604646887069, -0.03992386948383459, -1.0126555536360058, 0.6580153830654962] [-0.6707082744400814, 0.615536925224374, -0.34013765164398224, 0.39531140165305023]\n"
     ]
    }
   ],
   "source": [
    "min_dist = np.inf\n",
    "idx_neuron1 = None\n",
    "idx_neuron2 = None\n",
    "\n",
    "incoming_weights = final_weights[0: 2 * H_student].reshape(H_student, 2)\n",
    "incoming_weights_x = incoming_weights[:, 0]\n",
    "incoming_weights_y = incoming_weights[:, 1]\n",
    "outgoing_weights = final_weights[2 * H_student:]\n",
    "\n",
    "for i in range(H_student):\n",
    "  current_neuron = np.array([incoming_weights_x[i], incoming_weights_y[i]])\n",
    "  for j in range(i + 1, H_student):\n",
    "    potential_closest_neuron = np.array([incoming_weights_x[j], incoming_weights_y[j]])\n",
    "    if min_dist > np.linalg.norm(current_neuron - potential_closest_neuron):\n",
    "      min_dist = np.linalg.norm(current_neuron - potential_closest_neuron)\n",
    "      idx_neuron1 = i\n",
    "      idx_neuron2 = j\n",
    "    \n",
    "new_incoming_weights_x = [(incoming_weights_x[idx_neuron1] + incoming_weights_x[idx_neuron2]) / 2.0]\n",
    "new_incoming_weights_y = [(incoming_weights_y[idx_neuron1] + incoming_weights_y[idx_neuron2]) / 2.0]\n",
    "new_outgoing_weights = [(outgoing_weights[idx_neuron1] + outgoing_weights[idx_neuron2])]\n",
    "\n",
    "\n",
    "for i in range(H_student):\n",
    "  if i == idx_neuron1 or i == idx_neuron2:\n",
    "    continue\n",
    "  new_incoming_weights_x.append(incoming_weights_x[i])\n",
    "  new_incoming_weights_y.append(incoming_weights_y[i])\n",
    "  new_outgoing_weights.append(outgoing_weights[i])\n",
    "\n",
    "print(final_weights)\n",
    "print(new_incoming_weights_x, new_incoming_weights_y, new_outgoing_weights)\n"
   ]
  },
  {
   "cell_type": "code",
   "execution_count": 83,
   "metadata": {},
   "outputs": [
    {
     "data": {
      "image/png": "[encoded data removed]",
      "text/plain": [
       "<Figure size 432x288 with 2 Axes>"
      ]
     },
     "metadata": {
      "needs_background": "light"
     },
     "output_type": "display_data"
    }
   ],
   "source": [
    "plt.scatter(teacher_neurons_x, teacher_neurons_y, marker=\"*\")\n",
    "\n",
    "plt.scatter(new_incoming_weights_x,\n",
    "            new_incoming_weights_y,\n",
    "            c = new_outgoing_weights,\n",
    "            cmap = matplotlib.cm.jet)\n",
    "plt.clim(min_outgoing_weight, max_outgoing_weight)\n",
    "\n",
    "plt.colorbar().set_label('Outgoing weight', rotation=270)\n",
    "plt.xlabel('w1')\n",
    "plt.ylabel('w2')\n",
    "\n",
    "plt.show()"
   ]
  },
  {
   "cell_type": "code",
   "execution_count": 84,
   "metadata": {},
   "outputs": [],
   "source": [
    "w_in = torch.DoubleTensor([[new_incoming_weights_x[0], new_incoming_weights_y[0]],\n",
    "                           [new_incoming_weights_x[1], new_incoming_weights_y[1]],\n",
    "                           [new_incoming_weights_x[2], new_incoming_weights_y[2]],\n",
    "                           [new_incoming_weights_x[3], new_incoming_weights_y[3]]])\n",
    "w_out = torch.DoubleTensor([new_outgoing_weights])\n",
    "dummy_model = DummyNetwork(D_in, H_teacher, D_out, w_in, w_out)"
   ]
  },
  {
   "cell_type": "code",
   "execution_count": 85,
   "metadata": {},
   "outputs": [
    {
     "name": "stdout",
     "output_type": "stream",
     "text": [
      "8.099134926152103e-05\n",
      "3.305059302480889e-11\n"
     ]
    }
   ],
   "source": [
    "final_weights = train_second_order(dummy_model)\n",
    "print(jax_loss(final_weights))\n",
    "print(jnp.linalg.norm(jax_grad(final_weights)))\n",
    "\n",
    "w_in_torch_format = torch.DoubleTensor(final_weights[: H_teacher * 2].reshape(H_teacher, 2))\n",
    "w_out_torch_format = torch.DoubleTensor([final_weights[H_teacher * 2 :].reshape(H_teacher)])"
   ]
  },
  {
   "cell_type": "code",
   "execution_count": 86,
   "metadata": {},
   "outputs": [
    {
     "data": {
      "image/png": "[encoded data removed]",
      "text/plain": [
       "<Figure size 432x288 with 2 Axes>"
      ]
     },
     "metadata": {
      "needs_background": "light"
     },
     "output_type": "display_data"
    }
   ],
   "source": [
    "plt.scatter(incoming_weights_x,\n",
    "            incoming_weights_y,\n",
    "            c = outgoing_weights,\n",
    "            cmap = matplotlib.cm.jet)\n",
    "plt.clim(min_outgoing_weight, max_outgoing_weight)\n",
    "\n",
    "plt.scatter(w_in_torch_format[:, 0],\n",
    "            w_in_torch_format[:, 1],\n",
    "            c = w_out_torch_format[0],\n",
    "            cmap = matplotlib.cm.jet,\n",
    "            marker=\">\")\n",
    "plt.clim(min_outgoing_weight, max_outgoing_weight)\n",
    "\n",
    "plt.colorbar().set_label('Outgoing weight', rotation=270)\n",
    "plt.xlabel('w1')\n",
    "plt.ylabel('w2')\n",
    "\n",
    "plt.show()"
   ]
  },
  {
   "cell_type": "code",
   "execution_count": 87,
   "metadata": {},
   "outputs": [
    {
     "name": "stdout",
     "output_type": "stream",
     "text": [
      "Optimal mu: -0.21371543324728143\n",
      "Distance to local min: 2.5577816379835756e-06\n"
     ]
    }
   ],
   "source": [
    "closest_saddle, optimal_mu, directional_vector = find_saddle_line(final_weights)\n",
    "print('Optimal mu:', optimal_mu)\n",
    "print('Distance to local min:', np.linalg.norm(local_min - closest_saddle))\n",
    "\n",
    "dist_min_saddle = np.linalg.norm(local_min - closest_saddle)"
   ]
  },
  {
   "cell_type": "code",
   "execution_count": 88,
   "metadata": {},
   "outputs": [
    {
     "name": "stdout",
     "output_type": "stream",
     "text": [
      "The autoreload extension is already loaded. To reload it, use:\n",
      "  %reload_ext autoreload\n"
     ]
    }
   ],
   "source": [
    "from utils.utils import TheoremChecker\n",
    "%load_ext autoreload"
   ]
  },
  {
   "cell_type": "code",
   "execution_count": 89,
   "metadata": {},
   "outputs": [],
   "source": [
    "%autoreload 2\n",
    "D_in, H_teacher, D_out = 2, 4, 1\n",
    "theorem_checker = TheoremChecker(D_in, H_teacher, D_out)"
   ]
  },
  {
   "cell_type": "code",
   "execution_count": 90,
   "metadata": {},
   "outputs": [
    {
     "name": "stdout",
     "output_type": "stream",
     "text": [
      "[[-6.407870389784890e-05 -7.106868089442558e-05]\n",
      " [-7.106868089442560e-05 -8.378599873193362e-05]]\n",
      "[-2.1838198212566467e-06+0.j -1.4568088280852588e-04+0.j]\n"
     ]
    }
   ],
   "source": [
    "Y, U = theorem_checker.check_si_saddle_failure_mode(final_weights)\n",
    "\n",
    "print(Y)\n",
    "evals, _ = jnp.linalg.eig(Y)\n",
    "print(evals)"
   ]
  },
  {
   "cell_type": "code",
   "execution_count": null,
   "metadata": {},
   "outputs": [],
   "source": []
  }
 ],
 "metadata": {
  "colab": {
   "collapsed_sections": [],
   "name": "Python - 86 - Finding a nearby symmetry-induced point.ipynb",
   "provenance": []
  },
  "kernelspec": {
   "display_name": "Python 3 (ipykernel)",
   "language": "python",
   "name": "python3"
  },
  "language_info": {
   "codemirror_mode": {
    "name": "ipython",
    "version": 3
   },
   "file_extension": ".py",
   "mimetype": "text/x-python",
   "name": "python",
   "nbconvert_exporter": "python",
   "pygments_lexer": "ipython3",
   "version": "3.7.12"
  }
 },
 "nbformat": 4,
 "nbformat_minor": 4
}
