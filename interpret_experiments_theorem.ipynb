{
 "cells": [
  {
   "cell_type": "code",
   "execution_count": 84,
   "id": "a7b6190a-9356-4d30-a203-4368537e51f6",
   "metadata": {},
   "outputs": [
    {
     "name": "stdout",
     "output_type": "stream",
     "text": [
      "\u001b[33mWARNING: Ignoring invalid distribution -sspec (/Users/tstoican/opt/anaconda3/lib/python3.7/site-packages)\u001b[0m\u001b[33m\n",
      "\u001b[0m\u001b[33mWARNING: Ignoring invalid distribution - (/Users/tstoican/opt/anaconda3/lib/python3.7/site-packages)\u001b[0m\u001b[33m\n",
      "\u001b[0m\u001b[33mWARNING: Ignoring invalid distribution -axlib (/Users/tstoican/opt/anaconda3/lib/python3.7/site-packages)\u001b[0m\u001b[33m\n",
      "\u001b[0m\u001b[33mWARNING: Ignoring invalid distribution -arkupsafe (/Users/tstoican/opt/anaconda3/lib/python3.7/site-packages)\u001b[0m\u001b[33m\n",
      "\u001b[0m\u001b[33mWARNING: Ignoring invalid distribution -sspec (/Users/tstoican/opt/anaconda3/lib/python3.7/site-packages)\u001b[0m\u001b[33m\n",
      "\u001b[0m\u001b[33mWARNING: Ignoring invalid distribution - (/Users/tstoican/opt/anaconda3/lib/python3.7/site-packages)\u001b[0m\u001b[33m\n",
      "\u001b[0m\u001b[33mWARNING: Ignoring invalid distribution -axlib (/Users/tstoican/opt/anaconda3/lib/python3.7/site-packages)\u001b[0m\u001b[33m\n",
      "\u001b[0m\u001b[33mWARNING: Ignoring invalid distribution -arkupsafe (/Users/tstoican/opt/anaconda3/lib/python3.7/site-packages)\u001b[0m\u001b[33m\n",
      "\u001b[0mRequirement already satisfied: nlopt in /Users/tstoican/opt/anaconda3/lib/python3.7/site-packages (2.7.0)\n",
      "Requirement already satisfied: numpy>=1.14 in /Users/tstoican/opt/anaconda3/lib/python3.7/site-packages (from nlopt) (1.21.2)\n",
      "\u001b[33mWARNING: Ignoring invalid distribution -sspec (/Users/tstoican/opt/anaconda3/lib/python3.7/site-packages)\u001b[0m\u001b[33m\n",
      "\u001b[0m\u001b[33mWARNING: Ignoring invalid distribution - (/Users/tstoican/opt/anaconda3/lib/python3.7/site-packages)\u001b[0m\u001b[33m\n",
      "\u001b[0m\u001b[33mWARNING: Ignoring invalid distribution -axlib (/Users/tstoican/opt/anaconda3/lib/python3.7/site-packages)\u001b[0m\u001b[33m\n",
      "\u001b[0m\u001b[33mWARNING: Ignoring invalid distribution -arkupsafe (/Users/tstoican/opt/anaconda3/lib/python3.7/site-packages)\u001b[0m\u001b[33m\n",
      "\u001b[0m\u001b[33mWARNING: Ignoring invalid distribution -sspec (/Users/tstoican/opt/anaconda3/lib/python3.7/site-packages)\u001b[0m\u001b[33m\n",
      "\u001b[0m\u001b[33mWARNING: Ignoring invalid distribution - (/Users/tstoican/opt/anaconda3/lib/python3.7/site-packages)\u001b[0m\u001b[33m\n",
      "\u001b[0m\u001b[33mWARNING: Ignoring invalid distribution -axlib (/Users/tstoican/opt/anaconda3/lib/python3.7/site-packages)\u001b[0m\u001b[33m\n",
      "\u001b[0m\u001b[33mWARNING: Ignoring invalid distribution -arkupsafe (/Users/tstoican/opt/anaconda3/lib/python3.7/site-packages)\u001b[0m\u001b[33m\n",
      "\u001b[0m\u001b[33mWARNING: Ignoring invalid distribution -sspec (/Users/tstoican/opt/anaconda3/lib/python3.7/site-packages)\u001b[0m\u001b[33m\n",
      "\u001b[0m\u001b[33mWARNING: Ignoring invalid distribution - (/Users/tstoican/opt/anaconda3/lib/python3.7/site-packages)\u001b[0m\u001b[33m\n",
      "\u001b[0m\u001b[33mWARNING: Ignoring invalid distribution -axlib (/Users/tstoican/opt/anaconda3/lib/python3.7/site-packages)\u001b[0m\u001b[33m\n",
      "\u001b[0m\u001b[33mWARNING: Ignoring invalid distribution -arkupsafe (/Users/tstoican/opt/anaconda3/lib/python3.7/site-packages)\u001b[0m\u001b[33m\n",
      "\u001b[0m\u001b[33mWARNING: Ignoring invalid distribution -sspec (/Users/tstoican/opt/anaconda3/lib/python3.7/site-packages)\u001b[0m\u001b[33m\n",
      "\u001b[0m\u001b[33mWARNING: Ignoring invalid distribution - (/Users/tstoican/opt/anaconda3/lib/python3.7/site-packages)\u001b[0m\u001b[33m\n",
      "\u001b[0m\u001b[33mWARNING: Ignoring invalid distribution -axlib (/Users/tstoican/opt/anaconda3/lib/python3.7/site-packages)\u001b[0m\u001b[33m\n",
      "\u001b[0m\u001b[33mWARNING: Ignoring invalid distribution -arkupsafe (/Users/tstoican/opt/anaconda3/lib/python3.7/site-packages)\u001b[0m\u001b[33m\n",
      "\u001b[0m"
     ]
    }
   ],
   "source": [
    "import matplotlib.pyplot as plt\n",
    "import matplotlib\n",
    "import pandas as pd\n",
    "import numpy as np\n",
    "\n",
    "\n",
    "import jax\n",
    "import jax.numpy as jnp\n",
    "from jax import nn as jax_nn\n",
    "from jax.config import config; config.update(\"jax_enable_x64\", True)\n",
    "jnp.set_printoptions(precision=32) \n",
    "from jax import jacfwd, jacrev\n",
    "from jax import grad as jax_grad\n",
    "\n",
    "import torch\n",
    "import torch.nn as nn\n",
    "from torch.autograd import Variable\n",
    "\n",
    "from copy import deepcopy\n",
    "\n",
    "!pip install nlopt\n",
    "import nlopt\n",
    "\n",
    "from utils.datasets import construct_toy_dataset\n",
    "from utils.utils import TheoremChecker"
   ]
  },
  {
   "cell_type": "code",
   "execution_count": 85,
   "id": "3a74ea6e-3a99-4a0f-a9d8-b84bce70bcbc",
   "metadata": {},
   "outputs": [],
   "source": [
    "torch.set_default_dtype(torch.float64)\n",
    "class DummyNetwork(nn.Module):\n",
    "  def __init__(self, D_in, H, D_out, w_in, w_out):\n",
    "    \"\"\"\n",
    "    In the constructor we instantiate two nn.Linear modules and assign them as\n",
    "    member variables.\n",
    "\n",
    "    D_in: input dimension\n",
    "    H: dimension of hidden layer\n",
    "    D_out: output dimension of the first layer\n",
    "    \"\"\"\n",
    "    super(DummyNetwork, self).__init__()\n",
    "    self.linear1 = nn.Linear(D_in, H, bias=False)\n",
    "    self.linear2 = nn.Linear(H, D_out, bias=False)\n",
    "    self.linear1.weight = torch.nn.Parameter(w_in)\n",
    "    self.linear2.weight = torch.nn.Parameter(w_out)\n",
    "  def forward(self, x):\n",
    "    \"\"\"\n",
    "    In the forward function we accept a Variable of input data and we must\n",
    "    return a Variable of output data. We can use Modules defined in the\n",
    "    constructor as well as arbitrary operators on Variables.\n",
    "    \"\"\"\n",
    "    h_sigmoid = torch.sigmoid(self.linear1(x))\n",
    "    y_pred = self.linear2(h_sigmoid)\n",
    "    return y_pred"
   ]
  },
  {
   "cell_type": "code",
   "execution_count": 86,
   "id": "775dfe32-e619-4927-917c-1cd86cc7ef85",
   "metadata": {},
   "outputs": [],
   "source": [
    "class TeacherNetwork(nn.Module):\n",
    "  def __init__(self, D_in, H, D_out):\n",
    "    \"\"\"\n",
    "    In the constructor we instantiate two nn.Linear modules and assign them as\n",
    "    member variables.\n",
    "\n",
    "    D_in: input dimension\n",
    "    H: dimension of hidden layer\n",
    "    D_out: output dimension of the first layer\n",
    "    \"\"\"\n",
    "    super(TeacherNetwork, self).__init__()\n",
    "    self.linear1 = nn.Linear(D_in, H, bias=False)\n",
    "    self.linear2 = nn.Linear(H, D_out, bias=False)\n",
    "    self.linear1.weight = torch.nn.Parameter(torch.transpose(torch.DoubleTensor([[0.6, -0.5, -0.2, 0.1], [0.5, 0.5, -0.6, -0.6]]), 0, 1))\n",
    "    self.linear2.weight = torch.nn.Parameter(torch.transpose(torch.DoubleTensor([[1], [-1], [1], [-1]]), 0, 1))\n",
    "  def forward(self, x):\n",
    "    \"\"\"\n",
    "    In the forward function we accept a Variable of input data and we must\n",
    "    return a Variable of output data. We can use Modules defined in the\n",
    "    constructor as well as arbitrary operators on Variables.\n",
    "    \"\"\"\n",
    "    h_sigmoid = torch.sigmoid(self.linear1(x))\n",
    "    y_pred = self.linear2(h_sigmoid)\n",
    "    return y_pred"
   ]
  },
  {
   "cell_type": "code",
   "execution_count": 87,
   "id": "1cf22dca-c5f8-4fba-90a8-b2e2aecc7a83",
   "metadata": {},
   "outputs": [],
   "source": [
    "D_in, H_teacher, H_student, D_out = 2, 4, 5, 1\n",
    "dataset, labels = construct_toy_dataset()\n",
    "tensor_dataset, tensor_labels = torch.DoubleTensor(dataset), torch.DoubleTensor(labels)\n",
    "\n",
    "teacher_model = TeacherNetwork(D_in, H_teacher, D_out)\n",
    "y_labels = teacher_model(tensor_dataset).detach()"
   ]
  },
  {
   "cell_type": "code",
   "execution_count": 88,
   "id": "f0c57750-015d-4712-b908-dbc29f034c1a",
   "metadata": {},
   "outputs": [],
   "source": [
    "jnp_inputs = jnp.array(dataset, dtype=jnp.float64)\n",
    "jnp_labels = jnp.array(labels, dtype=jnp.float64)\n",
    "\n",
    "def predict(w_in, w_out):\n",
    "  return w_out @ jnp.transpose(jax_nn.sigmoid(jnp_inputs @ jnp.transpose(w_in)))\n",
    "\n",
    "def loss(w):\n",
    "  network_size = int(len(w) / 3)\n",
    "  w_in = w[0 : 2 * network_size].reshape(network_size, D_in)\n",
    "  w_out = w[2 * network_size : ].reshape(1, network_size)\n",
    "  preds = jnp.transpose(predict(w_in, w_out))\n",
    "  return jnp.mean(jnp.square(preds - jnp_labels))\n",
    "\n",
    "def hessian(f):\n",
    "  return jacfwd(jacrev(f))\n",
    "\n",
    "def third_order_tensor(f):\n",
    "    return jacfwd(jacrev(jacfwd(f)))\n",
    "\n",
    "def fourth_order_tensor(f):\n",
    "    return jacfwd(jacfwd(jacfwd(jax_grad(f))))"
   ]
  },
  {
   "cell_type": "code",
   "execution_count": 89,
   "id": "3a4d91f5-295a-422b-826e-e4a3b0e1a7f7",
   "metadata": {},
   "outputs": [
    {
     "data": {
      "text/plain": [
       "1000"
      ]
     },
     "execution_count": 89,
     "metadata": {},
     "output_type": "execute_result"
    }
   ],
   "source": [
    "data = pd.read_csv('experiments_data_student_5.csv', float_precision='round_trip')\n",
    "len(data)"
   ]
  },
  {
   "cell_type": "code",
   "execution_count": 90,
   "id": "b709b84b-fff7-404f-8070-8f1a6b9dd445",
   "metadata": {},
   "outputs": [
    {
     "data": {
      "text/plain": [
       "9.595196601969155e-11"
      ]
     },
     "execution_count": 90,
     "metadata": {},
     "output_type": "execute_result"
    }
   ],
   "source": [
    "sample_point = data.loc[24]\n",
    "sample_point['gradient norm']"
   ]
  },
  {
   "cell_type": "code",
   "execution_count": 91,
   "id": "4c4f4674-7c49-4889-856c-98cd194ee62f",
   "metadata": {},
   "outputs": [
    {
     "data": {
      "text/plain": [
       "0.00011474520184703572"
      ]
     },
     "execution_count": 91,
     "metadata": {},
     "output_type": "execute_result"
    }
   ],
   "source": [
    "sample_point['loss']"
   ]
  },
  {
   "cell_type": "code",
   "execution_count": 92,
   "id": "1d01795e-db06-4b89-81b6-01fbac5a577d",
   "metadata": {},
   "outputs": [],
   "source": [
    "def extract_weights(data_point):\n",
    "  incoming_weights_x = []\n",
    "  incoming_weights_y = []\n",
    "  outgoing_weights = []\n",
    "\n",
    "  for i in range(0, int(data_point['student size'])):\n",
    "    neuron_traj_x = np.fromstring(data_point['neuron_' + str(i) + '_traj_x'][1:-1], dtype=float, sep=',')\n",
    "    neuron_traj_y = np.fromstring(data_point['neuron_' + str(i) + '_traj_y'][1:-1], dtype=float, sep=',')\n",
    "    incoming_weights_x.append(neuron_traj_x[-1])\n",
    "    incoming_weights_y.append(neuron_traj_y[-1])\n",
    "    neuron_traj_out = np.fromstring(data_point['neuron_' + str(i) + '_a'][1:-1], dtype=float, sep=',')\n",
    "    outgoing_weights.append(neuron_traj_out[-1])\n",
    "\n",
    "  return incoming_weights_x, incoming_weights_y, outgoing_weights"
   ]
  },
  {
   "cell_type": "code",
   "execution_count": 93,
   "id": "7d0a8878-0d9d-4ea3-b364-bc4fb3c59863",
   "metadata": {},
   "outputs": [],
   "source": [
    "incoming_weights_x, incoming_weights_y, outgoing_weights = extract_weights(sample_point)\n",
    "local_min = np.array([incoming_weights_x[0], incoming_weights_y[0],\n",
    "             incoming_weights_x[1], incoming_weights_y[1],\n",
    "             incoming_weights_x[2], incoming_weights_y[2],\n",
    "             incoming_weights_x[3], incoming_weights_y[3],\n",
    "             incoming_weights_x[4], incoming_weights_y[4],\n",
    "             outgoing_weights[0], outgoing_weights[1], outgoing_weights[2],\n",
    "             outgoing_weights[3], outgoing_weights[4]])"
   ]
  },
  {
   "cell_type": "code",
   "execution_count": 94,
   "id": "01d3151c-c98b-4ade-9976-fce81a6b3297",
   "metadata": {},
   "outputs": [
    {
     "name": "stdout",
     "output_type": "stream",
     "text": [
      "0.00011474520184703579\n"
     ]
    }
   ],
   "source": [
    "min_dist = np.inf\n",
    "idx_neuron1 = None\n",
    "idx_neuron2 = None\n",
    "\n",
    "for i in range(H_student):\n",
    "  current_neuron = np.array([incoming_weights_x[i], incoming_weights_y[i]])\n",
    "  for j in range(i + 1, H_student):\n",
    "    potential_closest_neuron = np.array([incoming_weights_x[j], incoming_weights_y[j]])\n",
    "    if min_dist > np.linalg.norm(current_neuron - potential_closest_neuron):\n",
    "      min_dist = np.linalg.norm(current_neuron - potential_closest_neuron)\n",
    "      idx_neuron1 = i\n",
    "      idx_neuron2 = j\n",
    "\n",
    "w_in = np.array([[incoming_weights_x[0], incoming_weights_y[0]],\n",
    "                  [incoming_weights_x[1], incoming_weights_y[1]],\n",
    "                  [incoming_weights_x[2], incoming_weights_y[2]],\n",
    "                  [incoming_weights_x[3], incoming_weights_y[3]],\n",
    "                  [incoming_weights_x[4], incoming_weights_y[4]]], dtype=np.float64)\n",
    "w_out = np.array([outgoing_weights], dtype=np.float64)\n",
    "print(loss(jnp.append(w_in.reshape(H_student * D_in), w_out.reshape(H_student))))"
   ]
  },
  {
   "cell_type": "code",
   "execution_count": 95,
   "id": "ece32d58-cf33-4f42-9327-acec62e0b1f3",
   "metadata": {},
   "outputs": [],
   "source": [
    "def pytorch_regularized_loss(output, target):\n",
    "    loss = torch.mean((output - target) ** 2)\n",
    "    return loss\n",
    "\n",
    "def regularized_first_order_train(model, x, y_labels,  N = 10, Ninner = 10 ** 3, Nstart = 10):\n",
    "  optimizer = torch.optim.SGD(model.parameters(), lr = 0.001)\n",
    "  psi = 1\n",
    "\n",
    "  loss_vals = []\n",
    "\n",
    "  for i in range(1, N + 1):\n",
    "    loss_tmp = []\n",
    "    for j in range(1, Ninner + 1):\n",
    "      y = model(x)\n",
    "\n",
    "      model_params = []\n",
    "      for param in model.parameters():\n",
    "        model_params.append(param)\n",
    "      model_params_w_in = model_params[0]\n",
    "      model_params_w_out = model_params[1]\n",
    "      \n",
    "      neuron1 = torch.cat((model_params_w_in[idx_neuron1, :], model_params_w_out[:, idx_neuron1]), dim=-1)\n",
    "      neuron2 = torch.cat((model_params_w_in[idx_neuron2, :], model_params_w_out[:, idx_neuron2]), dim=-1)\n",
    "      # neuron1 = model_params_w_in[idx_neuron1, :]\n",
    "      # neuron2 = model_params_w_in[idx_neuron2, :]\n",
    "      # print(neuron1, neuron2)\n",
    "      \n",
    "      loss = pytorch_regularized_loss(y, y_labels) + psi * torch.norm(neuron1 - neuron2)\n",
    "    \n",
    "      loss_grad = torch.autograd.grad(loss, model.parameters(), retain_graph=True)\n",
    "\n",
    "      loss_tmp.append(loss.item())\n",
    "      optimizer.zero_grad()\n",
    "      loss.backward(retain_graph=True)\n",
    "      optimizer.step()\n",
    "      if i == 1 and (j % Nstart == 0) and j < Ninner:\n",
    "        loss_vals.append(np.mean(loss_tmp[j - Nstart  : j]))\n",
    "\n",
    "    loss_vals.append(np.mean(loss_tmp))\n",
    "    \n",
    "    cnt = 0\n",
    "    for g in loss_grad:\n",
    "        g_vector = g.contiguous().view(-1) if cnt == 0 else torch.cat([g_vector, g.contiguous().view(-1)])\n",
    "        cnt = 1\n",
    "    # print(g_vector)\n",
    "    print(\"Iteration: %d, loss: %s, gradient norm: %s\" % (Ninner * i, np.mean(loss_tmp), torch.norm(g_vector)))\n",
    "    \n",
    "#   final_weights = train_second_order(model)\n",
    "#   final_weights = regularized_second_order_train(jnp.append(\n",
    "#                       deepcopy(model.linear1.weight.data.detach().numpy().reshape(H_student * 2)),\n",
    "#                       deepcopy(model.linear2.weight.data.detach().numpy().reshape(H_student))))\n",
    "#   return final_weights\n",
    "  return np.append(deepcopy(model.linear1.weight.data.detach().numpy().reshape(H_student * 2)),\n",
    "                     deepcopy(model.linear2.weight.data.detach().numpy().reshape(H_student)))"
   ]
  },
  {
   "cell_type": "code",
   "execution_count": 96,
   "id": "60dae43a-36f4-4cb9-bb4f-846beae8a88a",
   "metadata": {},
   "outputs": [],
   "source": [
    "dummy_model = DummyNetwork(D_in, H_student, D_out, torch.DoubleTensor(w_in), torch.DoubleTensor(w_out))"
   ]
  },
  {
   "cell_type": "code",
   "execution_count": 97,
   "id": "50414ff0-488a-4b9e-876d-6446ac3b9371",
   "metadata": {},
   "outputs": [
    {
     "name": "stdout",
     "output_type": "stream",
     "text": [
      "Iteration: 1000, loss: 0.04491015061296411, gradient norm: tensor(1.4142)\n",
      "Iteration: 2000, loss: 0.00111474520184704, gradient norm: tensor(1.4142)\n",
      "Iteration: 3000, loss: 0.0011147452018470368, gradient norm: tensor(1.4142)\n",
      "Iteration: 4000, loss: 0.0011147452018470355, gradient norm: tensor(1.4142)\n",
      "Iteration: 5000, loss: 0.0011147452018470366, gradient norm: tensor(1.4142)\n",
      "Iteration: 6000, loss: 0.0011147452018470357, gradient norm: tensor(1.4142)\n",
      "Iteration: 7000, loss: 0.0011147452018470361, gradient norm: tensor(1.4142)\n",
      "Iteration: 8000, loss: 0.0011147452018470357, gradient norm: tensor(1.4142)\n",
      "Iteration: 9000, loss: 0.0011147452018470361, gradient norm: tensor(1.4142)\n",
      "Iteration: 10000, loss: 0.0011147452018470366, gradient norm: tensor(1.4142)\n"
     ]
    }
   ],
   "source": [
    "final_weights = regularized_first_order_train(dummy_model, tensor_dataset, y_labels)"
   ]
  },
  {
   "cell_type": "code",
   "execution_count": 98,
   "id": "3ca85b40-3f82-4ea7-8ec1-3ac541454e1a",
   "metadata": {},
   "outputs": [
    {
     "name": "stdout",
     "output_type": "stream",
     "text": [
      "[-0.19225111866532213  0.02987191263390313  0.8385350315782469\n",
      "  0.5129560725746176   2.039106557956889    1.7149326387520243\n",
      " -0.19225111879001194  0.02987191264482412  0.9181671272899552\n",
      " -0.7294739966673347  -0.39832456806155214  0.40956756506275455\n",
      "  0.04216836140669694 -0.3968741176382985   0.34345317633166206]\n",
      "Gradient at this point: 9.567774924932299e-11\n"
     ]
    }
   ],
   "source": [
    "print(final_weights)\n",
    "print('Gradient at this point:', jnp.linalg.norm(jax_grad(loss)(final_weights)))\n",
    "w_in_torch_format = final_weights[0 : 2 * H_student].reshape(H_student, 2)\n",
    "w_out_torch_format = final_weights[2 * H_student : ].reshape(H_student)"
   ]
  },
  {
   "cell_type": "code",
   "execution_count": 99,
   "id": "46fa4b36-98b6-4a60-b007-8805cea5ae24",
   "metadata": {},
   "outputs": [],
   "source": [
    "# incoming_weights_x = w_in_torch_format[:, 0]\n",
    "# incoming_weights_y = w_in_torch_format[:, 1]\n",
    "# outgoing_weights = w_out_torch_format"
   ]
  },
  {
   "cell_type": "code",
   "execution_count": 100,
   "id": "78115d5c-152b-4afc-bb29-d1c2a429d0ea",
   "metadata": {},
   "outputs": [
    {
     "name": "stdout",
     "output_type": "stream",
     "text": [
      "[-0.19225111866532213  0.02987191263390313  0.8385350315782469\n",
      "  0.5129560725746176   2.039106557956889    1.7149326387520243\n",
      " -0.19225111879001194  0.02987191264482412  0.9181671272899552\n",
      " -0.7294739966673347  -0.39832456806155214  0.40956756506275455\n",
      "  0.04216836140669694 -0.3968741176382985   0.34345317633166206]\n",
      "[-0.1922511226098793, 0.8385350328345572, 2.039106558025516, 0.918167128377758] [0.029871912975843535, 0.5129560709167732, 1.714932638668418, -0.7294739956399938] [-0.795198692814431, 0.40956756746079054, 0.04216836280729857, 0.3434531795243844]\n"
     ]
    }
   ],
   "source": [
    "new_incoming_weights_x = [(incoming_weights_x[idx_neuron1] + incoming_weights_x[idx_neuron2]) / 2.0]\n",
    "new_incoming_weights_y = [(incoming_weights_y[idx_neuron1] + incoming_weights_y[idx_neuron2]) / 2.0]\n",
    "new_outgoing_weights = [(outgoing_weights[idx_neuron1] + outgoing_weights[idx_neuron2])]\n",
    "\n",
    "\n",
    "for i in range(H_student):\n",
    "  if i == idx_neuron1 or i == idx_neuron2:\n",
    "    continue\n",
    "  new_incoming_weights_x.append(incoming_weights_x[i])\n",
    "  new_incoming_weights_y.append(incoming_weights_y[i])\n",
    "  new_outgoing_weights.append(outgoing_weights[i])\n",
    "\n",
    "print(final_weights)\n",
    "print(new_incoming_weights_x, new_incoming_weights_y, new_outgoing_weights)"
   ]
  },
  {
   "cell_type": "code",
   "execution_count": 101,
   "id": "b8e654c3-4d1d-47b2-936d-798dabc62570",
   "metadata": {},
   "outputs": [
    {
     "data": {
      "text/plain": [
       "Text(0, 0.5, 'w2')"
      ]
     },
     "execution_count": 101,
     "metadata": {},
     "output_type": "execute_result"
    },
    {
     "data": {
      "image/png": "[encoded data removed]",
      "text/plain": [
       "<Figure size 432x288 with 2 Axes>"
      ]
     },
     "metadata": {
      "needs_background": "light"
     },
     "output_type": "display_data"
    }
   ],
   "source": [
    "plt.scatter(new_incoming_weights_x,\n",
    "            new_incoming_weights_y,\n",
    "            c = new_outgoing_weights,\n",
    "            cmap = matplotlib.cm.jet)\n",
    "\n",
    "plt.colorbar().set_label('Outgoing weight', rotation=270)\n",
    "plt.xlabel('w1')\n",
    "plt.ylabel('w2')"
   ]
  },
  {
   "cell_type": "code",
   "execution_count": 102,
   "id": "448a89ca-0879-4fbd-8dcd-abad2e49fb5d",
   "metadata": {},
   "outputs": [],
   "source": [
    "w_in = torch.DoubleTensor([[new_incoming_weights_x[0], new_incoming_weights_y[0]],\n",
    "                           [new_incoming_weights_x[1], new_incoming_weights_y[1]],\n",
    "                           [new_incoming_weights_x[2], new_incoming_weights_y[2]],\n",
    "                           [new_incoming_weights_x[3], new_incoming_weights_y[3]]])\n",
    "w_out = torch.DoubleTensor([new_outgoing_weights])\n",
    "dummy_model = DummyNetwork(D_in, H_teacher, D_out, w_in, w_out)"
   ]
  },
  {
   "cell_type": "code",
   "execution_count": 135,
   "id": "c0958e18-006e-4b92-92b6-8c80f6ce4058",
   "metadata": {},
   "outputs": [],
   "source": [
    "def loss_obj(weights, grad):\n",
    "  loss_val = loss(weights)\n",
    "  if grad.size > 0:\n",
    "    grad[:] = np.array(jax_grad(loss)(weights), dtype=np.float64)\n",
    "  return np.float64(loss_val)\n",
    "\n",
    "# def train_second_order(model):\n",
    "#     num_neurons = model.linear1.weight.shape[0]\n",
    "#     weights = np.append(model.linear1.weight.data.detach().numpy().reshape(num_neurons * 2),\n",
    "#                         model.linear2.weight.data.detach().numpy().reshape(num_neurons))\n",
    "#     lower_bound = weights - 0.5\n",
    "#     upper_bound = weights + 0.5\n",
    "#     opt = nlopt.opt(nlopt.LD_SLSQP, len(weights))\n",
    "#     opt.set_lower_bounds(lower_bound)\n",
    "#     opt.set_upper_bounds(upper_bound)\n",
    "#     opt.set_min_objective(loss_obj)\n",
    "#     opt.set_maxtime(5)\n",
    "#     opt.set_xtol_rel(1e-10)\n",
    "#     opt.set_initial_step(1e-32)\n",
    "#     final_weights = opt.optimize(weights)\n",
    "#     return final_weights\n",
    "\n",
    "def train_second_order(model):\n",
    "    num_neurons = model.linear1.weight.shape[0]\n",
    "    weights = np.append(model.linear1.weight.data.detach().numpy().reshape(num_neurons * 2),\n",
    "                        model.linear2.weight.data.detach().numpy().reshape(num_neurons))\n",
    "    lower_bound = weights - 10\n",
    "    upper_bound = weights + 10\n",
    "    opt = nlopt.opt(nlopt.LD_SLSQP, len(weights))\n",
    "    opt.set_lower_bounds(lower_bound)\n",
    "    opt.set_upper_bounds(upper_bound)\n",
    "    opt.set_min_objective(loss_obj)\n",
    "    opt.set_maxtime(100)\n",
    "    opt.set_xtol_rel(1e-20)\n",
    "    opt.set_initial_step(1e-32)\n",
    "    final_weights = opt.optimize(weights)\n",
    "    return final_weights\n"
   ]
  },
  {
   "cell_type": "code",
   "execution_count": 136,
   "id": "8a967e8b-e5db-4b01-b558-f22e127e5fcc",
   "metadata": {},
   "outputs": [
    {
     "name": "stdout",
     "output_type": "stream",
     "text": [
      "0.00011474520184703579\n",
      "7.397032905996531e-11\n"
     ]
    }
   ],
   "source": [
    "final_weights = train_second_order(dummy_model)\n",
    "print(loss(final_weights))\n",
    "print(jnp.linalg.norm(jax_grad(loss)(final_weights)))\n",
    "\n",
    "w_in_torch_format = torch.DoubleTensor(final_weights[: H_teacher * 2].reshape(H_teacher, 2))\n",
    "w_out_torch_format = torch.DoubleTensor([final_weights[H_teacher * 2 :].reshape(H_teacher)])"
   ]
  },
  {
   "cell_type": "code",
   "execution_count": 137,
   "id": "3fd6ba46-8eab-47ad-8b6a-eb66a2be7776",
   "metadata": {},
   "outputs": [
    {
     "data": {
      "image/png": "[encoded data removed]",
      "text/plain": [
       "<Figure size 432x288 with 2 Axes>"
      ]
     },
     "metadata": {
      "needs_background": "light"
     },
     "output_type": "display_data"
    }
   ],
   "source": [
    "plt.scatter(incoming_weights_x,\n",
    "            incoming_weights_y,\n",
    "            c = outgoing_weights,\n",
    "            cmap = matplotlib.cm.jet)\n",
    "\n",
    "plt.scatter(w_in_torch_format[:, 0],\n",
    "            w_in_torch_format[:, 1],\n",
    "            c = w_out_torch_format[0],\n",
    "            cmap = matplotlib.cm.jet,\n",
    "            marker=\">\")\n",
    "\n",
    "plt.colorbar().set_label('Outgoing weight', rotation=270)\n",
    "plt.xlabel('w1')\n",
    "plt.ylabel('w2')\n",
    "\n",
    "plt.show()"
   ]
  },
  {
   "cell_type": "code",
   "execution_count": 138,
   "id": "0fc32bd4-93fa-460b-8f06-f17c212d2b79",
   "metadata": {},
   "outputs": [],
   "source": [
    "theorem_checker = TheoremChecker(D_in, H_teacher, D_out)"
   ]
  },
  {
   "cell_type": "code",
   "execution_count": 139,
   "id": "e6950275-20ae-4293-a69c-68d5d41f62fa",
   "metadata": {},
   "outputs": [
    {
     "name": "stdout",
     "output_type": "stream",
     "text": [
      "[0.00012701817460273582+0.j 0.00018465617112666492+0.j]\n",
      "[ 4.8459245077253816e-12 -3.0119105803590005e-11]\n"
     ]
    }
   ],
   "source": [
    "Y, U = theorem_checker.check_si_saddle_failure_mode(final_weights)\n",
    "\n",
    "evals, _ = jnp.linalg.eig(Y)\n",
    "print(evals)\n",
    "print(U)"
   ]
  },
  {
   "cell_type": "code",
   "execution_count": 108,
   "id": "a3945d8e-8ce8-4f0a-bc9b-717499dd032b",
   "metadata": {},
   "outputs": [],
   "source": [
    "def construct_si_saddle(final_weights, mu):\n",
    "    num_neurons = int(len(final_weights) / 3)\n",
    "    w_in_torch_format = torch.DoubleTensor(final_weights[0 : num_neurons * 2].reshape(num_neurons, 2))\n",
    "    w_out_torch_format = torch.DoubleTensor([final_weights[num_neurons * 2 :].reshape(num_neurons)])\n",
    "\n",
    "    si_saddle = np.array([])\n",
    "    teacher_idx = 1\n",
    "\n",
    "    for i in range(H_student):\n",
    "      if i == idx_neuron1 or i == idx_neuron2:\n",
    "        si_saddle = np.append(si_saddle, w_in_torch_format[0][0].item())\n",
    "        si_saddle = np.append(si_saddle, w_in_torch_format[0][1].item())\n",
    "        continue\n",
    "      si_saddle = np.append(si_saddle, w_in_torch_format[teacher_idx][0].item())\n",
    "      si_saddle = np.append(si_saddle, w_in_torch_format[teacher_idx][1].item())\n",
    "      teacher_idx += 1\n",
    "\n",
    "    teacher_idx = 1\n",
    "\n",
    "    for i in range(H_student):\n",
    "      if i == idx_neuron1:\n",
    "        si_saddle = np.append(si_saddle,\n",
    "                              mu * w_out_torch_format[0][0].item())\n",
    "        continue\n",
    "      if i == idx_neuron2:\n",
    "        si_saddle = np.append(si_saddle,\n",
    "                              (1 - mu) * w_out_torch_format[0][0].item())\n",
    "        continue\n",
    "      si_saddle = np.append(si_saddle,\n",
    "                            w_out_torch_format[0][teacher_idx].item())\n",
    "      teacher_idx += 1\n",
    "\n",
    "    return si_saddle\n",
    "\n",
    "def find_saddle_line(final_weights):\n",
    "    saddle_smallest_u = construct_si_saddle(final_weights, -1)\n",
    "    saddle_largest_u = construct_si_saddle(final_weights, 2)\n",
    "    \n",
    "    saddle_line_dir = (saddle_largest_u - saddle_smallest_u) / \\\n",
    "                       np.linalg.norm(saddle_largest_u - saddle_smallest_u)\n",
    "    closest_saddle = saddle_smallest_u + saddle_line_dir * \\\n",
    "                     np.dot(saddle_line_dir, (local_min - saddle_smallest_u))\n",
    "    optimal_mu = closest_saddle[2 * H_student + idx_neuron1] / w_out_torch_format[0][0].item()\n",
    "    directional_vector = local_min - closest_saddle\n",
    "    \n",
    "    return closest_saddle, optimal_mu, directional_vector"
   ]
  },
  {
   "cell_type": "code",
   "execution_count": 140,
   "id": "8690debd-d393-4b4b-9268-f1edd7fb067a",
   "metadata": {},
   "outputs": [
    {
     "name": "stdout",
     "output_type": "stream",
     "text": [
      "0.23682706263030986\n"
     ]
    }
   ],
   "source": [
    "closest_saddle, optimal_mu, directional_vector = find_saddle_line(final_weights)\n",
    "print(optimal_mu)"
   ]
  },
  {
   "cell_type": "code",
   "execution_count": 141,
   "id": "c450a035-dfbc-4096-a3dd-2a20ee3a4c60",
   "metadata": {},
   "outputs": [
    {
     "name": "stdout",
     "output_type": "stream",
     "text": [
      "[2.2957265517388563e-05+0.j 3.3374757299400526e-05+0.j]\n"
     ]
    }
   ],
   "source": [
    "evals, _ = jnp.linalg.eig(optimal_mu * (1 - optimal_mu) * Y)\n",
    "print(evals)"
   ]
  },
  {
   "cell_type": "code",
   "execution_count": 111,
   "id": "6f6c1628-a11a-4a91-8bf7-d73c38d7237d",
   "metadata": {},
   "outputs": [],
   "source": [
    "mus = []\n",
    "second_derivs = []\n",
    "third_derivs = []\n",
    "fourth_derivs = []\n",
    "ratios_second_third = []\n",
    "\n",
    "for mu in np.arange(optimal_mu - 1, optimal_mu + 1, 0.01):\n",
    "    saddle = construct_si_saddle(final_weights, mu)\n",
    "    H = hessian(loss)(saddle)\n",
    "    H = (H + H.T) / 2\n",
    "    evals, evectors = jnp.linalg.eigh(H)\n",
    "    smallest_evector = evectors[:, jnp.argmin(evals)]\n",
    "                \n",
    "    first_dir_deriv = lambda weights, evector: jnp.dot(jax_grad(loss)(weights),\n",
    "                                               evector)\n",
    "    second_dir_deriv = lambda weights, evector: jnp.dot(jax_grad(first_dir_deriv)(weights,\n",
    "                                                                                 evector),\n",
    "                                                evector)\n",
    "    third_dir_deriv = lambda weights, evector: jnp.dot(jax_grad(second_dir_deriv)(weights,\n",
    "                                                                                 evector),\n",
    "                                               evector)\n",
    "    fourth_dir_deriv = lambda weights, evector: jnp.dot(jax_grad(third_dir_deriv)(weights,\n",
    "                                                                                 evector),\n",
    "                                               evector)\n",
    "\n",
    "    third_deriv_pos = third_dir_deriv(saddle, smallest_evector)\n",
    "    third_deriv_neg = third_dir_deriv(saddle, -smallest_evector)\n",
    "    \n",
    "    mus.append(mu)\n",
    "    if third_deriv_pos <= 0:\n",
    "        smallest_evector = -smallest_evector\n",
    "    \n",
    "    second_deriv = second_dir_deriv(saddle, smallest_evector)\n",
    "    third_deriv = third_dir_deriv(saddle, smallest_evector)\n",
    "    fourth_deriv = fourth_dir_deriv(saddle, smallest_evector)\n",
    "        \n",
    "    second_derivs.append(second_deriv)\n",
    "    third_derivs.append(third_deriv)\n",
    "    fourth_derivs.append(fourth_deriv)\n",
    "    ratios_second_third.append(second_deriv / third_deriv)"
   ]
  },
  {
   "cell_type": "code",
   "execution_count": 112,
   "id": "8927275d-3cd0-4344-90f5-1cb1cb5f0fba",
   "metadata": {},
   "outputs": [
    {
     "data": {
      "image/png": "[encoded data removed]",
      "text/plain": [
       "<Figure size 432x288 with 1 Axes>"
      ]
     },
     "metadata": {
      "needs_background": "light"
     },
     "output_type": "display_data"
    }
   ],
   "source": [
    "plt.plot(mus, second_derivs, label='Second deriv')\n",
    "plt.plot(mus, third_derivs, label='Third deriv')\n",
    "plt.xlabel('Mu')\n",
    "plt.legend()\n",
    "plt.show()"
   ]
  },
  {
   "cell_type": "code",
   "execution_count": 113,
   "id": "3e58377d-f50c-44b1-b32b-c441e52c474b",
   "metadata": {},
   "outputs": [
    {
     "data": {
      "image/png": "[encoded data removed]",
      "text/plain": [
       "<Figure size 432x288 with 1 Axes>"
      ]
     },
     "metadata": {
      "needs_background": "light"
     },
     "output_type": "display_data"
    }
   ],
   "source": [
    "plt.plot(mus, fourth_derivs, label='Fourth deriv')\n",
    "plt.xlabel('Mu')\n",
    "plt.legend()\n",
    "plt.show()"
   ]
  },
  {
   "cell_type": "code",
   "execution_count": 114,
   "id": "d7e3738c-26cf-49c1-b99c-92d130bb96ec",
   "metadata": {},
   "outputs": [
    {
     "data": {
      "image/png": "[encoded data removed]",
      "text/plain": [
       "<Figure size 432x288 with 1 Axes>"
      ]
     },
     "metadata": {
      "needs_background": "light"
     },
     "output_type": "display_data"
    }
   ],
   "source": [
    "plt.plot(mus, ratios_second_third, label='Ratio(second to third)')\n",
    "plt.xlabel('Mu')\n",
    "plt.legend()\n",
    "plt.show()"
   ]
  },
  {
   "cell_type": "code",
   "execution_count": 115,
   "id": "5066fb74-711c-422c-abd0-0d258849ef96",
   "metadata": {},
   "outputs": [
    {
     "name": "stdout",
     "output_type": "stream",
     "text": [
      "15\n",
      "(15, 15, 15)\n"
     ]
    }
   ],
   "source": [
    "m = 10\n",
    "n = 5\n",
    "np.random.seed(1)\n",
    "A = np.random.randn(m, n)\n",
    "b = np.random.randn(m)\n",
    "\n",
    "first_dir_deriv = lambda weights, evector: jnp.dot(jax_grad(loss)(weights),\n",
    "                                               evector)\n",
    "second_dir_deriv = lambda weights, evector: jnp.dot(jax_grad(first_dir_deriv)(weights,\n",
    "                                                                             evector),\n",
    "                                            evector)\n",
    "third_dir_deriv = lambda weights, evector: jnp.dot(jax_grad(second_dir_deriv)(weights,\n",
    "                                                                             evector),\n",
    "                                           evector)\n",
    "fourth_dir_deriv = lambda weights, evector: jnp.dot(jax_grad(third_dir_deriv)(weights,\n",
    "                                                                             evector),\n",
    "                                           evector)\n",
    "\n",
    "print(len(closest_saddle))\n",
    "print(third_order_tensor(loss)(closest_saddle).shape)\n",
    "# Construct the problem.\n",
    "A = third_order_tensor(loss)(closest_saddle)"
   ]
  },
  {
   "cell_type": "code",
   "execution_count": 116,
   "id": "42349641-f2f3-440a-a147-8ca40e1cdb1e",
   "metadata": {},
   "outputs": [
    {
     "name": "stdout",
     "output_type": "stream",
     "text": [
      "The autoreload extension is already loaded. To reload it, use:\n",
      "  %reload_ext autoreload\n"
     ]
    }
   ],
   "source": [
    "from utils.training import BSolver, FourthOrderSolver\n",
    "%load_ext autoreload\n",
    "%autoreload 2"
   ]
  },
  {
   "cell_type": "code",
   "execution_count": 117,
   "id": "e2014bb4-d478-4c62-8f10-d44707cc7a5d",
   "metadata": {},
   "outputs": [],
   "source": [
    "H = hessian(loss)(closest_saddle)\n",
    "H = (H + H.T) / 2\n",
    "evals, evectors = jnp.linalg.eigh(H)\n",
    "smallest_evector = evectors[:, jnp.argmin(evals)]\n",
    "second_smallest_evector = evectors[:, jnp.argmin(evals)]"
   ]
  },
  {
   "cell_type": "code",
   "execution_count": 118,
   "id": "c3a2c793-77a3-4a94-aabc-94899070f9f7",
   "metadata": {},
   "outputs": [],
   "source": [
    "bsolver = BSolver(A, H, evectors[:, 1])"
   ]
  },
  {
   "cell_type": "code",
   "execution_count": 119,
   "id": "597db668-d0f1-4af0-9824-a6da3f9fc47b",
   "metadata": {},
   "outputs": [],
   "source": [
    "sol = bsolver.compute_B(smallest_evector)"
   ]
  },
  {
   "cell_type": "code",
   "execution_count": 120,
   "id": "285d23a5-fb66-4a64-90b0-698ca52055b6",
   "metadata": {},
   "outputs": [
    {
     "name": "stdout",
     "output_type": "stream",
     "text": [
      "1.0\n"
     ]
    }
   ],
   "source": [
    "print(jnp.linalg.norm(sol))\n",
    "if third_dir_deriv(closest_saddle, -sol) > 0:\n",
    "    sol = -sol"
   ]
  },
  {
   "cell_type": "code",
   "execution_count": 121,
   "id": "ed865635-b225-4dbb-98de-66075fb000f7",
   "metadata": {},
   "outputs": [
    {
     "name": "stdout",
     "output_type": "stream",
     "text": [
      "third dir derivative (smallest evector) and third dir deriv (sol):\n",
      "-1.9061740580334038e-16\n",
      "8.973643025393482e-22\n",
      "smallest eval: -2.6428721105509822e-17\n",
      "sol.T @ H @ sol: 9.694354521363118e-20\n",
      "smallest evector: [-3.6402807131817517e-07 -3.4537583211639282e-07 -2.1816603921944988e-12\n",
      " -2.1200442834646321e-12 -2.4038970020509499e-11 -2.4013876526594844e-11\n",
      "  1.1296560654808428e-07  1.0717675580284994e-07  1.1194136077104717e-13\n",
      " -7.3875376096076704e-14  7.0710678118607884e-01 -4.4537813324386848e-13\n",
      "  1.1707102443818045e-12 -7.0710678118682069e-01  1.6940861072641939e-14]\n",
      "sol [ 3.6391328161900646e-07  3.4505514818852970e-07  4.9121377251242709e-11\n",
      " -4.6024470061315850e-11  2.6610977498116029e-11  2.1115794590684188e-11\n",
      " -1.1308172755015671e-07 -1.0678975559786323e-07  2.6248378232675183e-11\n",
      "  1.6765099215768032e-11 -7.0710678127157711e-01  1.0007541499544809e-10\n",
      "  8.6857345776305124e-11  7.0710678110132308e-01  1.4494385821896144e-10]\n"
     ]
    }
   ],
   "source": [
    "print (\"third dir derivative (smallest evector) and third dir deriv (sol):\")\n",
    "print(third_dir_deriv(closest_saddle, smallest_evector))\n",
    "print(third_dir_deriv(closest_saddle, sol))\n",
    "print(\"smallest eval:\", evals[0])\n",
    "print(\"sol.T @ H @ sol:\", sol.T @ H @ sol)\n",
    "print(\"smallest evector:\", smallest_evector)\n",
    "print(\"sol\", sol)"
   ]
  },
  {
   "cell_type": "markdown",
   "id": "09c2e3ac-b30f-467c-9381-b9d86713bdf5",
   "metadata": {},
   "source": [
    "## Second, third, and forth derivs. in the dir. of local_min - closest_saddle"
   ]
  },
  {
   "cell_type": "code",
   "execution_count": 122,
   "id": "5da2a1b9-e661-4586-8b30-73b69bd85d51",
   "metadata": {},
   "outputs": [
    {
     "name": "stdout",
     "output_type": "stream",
     "text": [
      "Second deriv.: 0.0002652202577231706\n",
      "Third deriv.: 0.0025934370907542362\n",
      "Fourth deriv.: 0.3184638021568301\n"
     ]
    }
   ],
   "source": [
    "u = (local_min - closest_saddle) / np.linalg.norm(local_min - closest_saddle)\n",
    "print ('Second deriv.:', second_dir_deriv(closest_saddle, u))\n",
    "print ('Third deriv.:', third_dir_deriv(closest_saddle, u))\n",
    "print ('Fourth deriv.:', fourth_dir_deriv(closest_saddle, u))"
   ]
  },
  {
   "cell_type": "markdown",
   "id": "34ea0ffe-a414-4d49-8a48-bbe63437ae21",
   "metadata": {},
   "source": [
    "## Minimizing forth dir. deriv. at the closest saddle"
   ]
  },
  {
   "cell_type": "code",
   "execution_count": 123,
   "id": "379ce3d1-2549-4f37-9458-b068cc45443b",
   "metadata": {},
   "outputs": [],
   "source": [
    "fot = fourth_order_tensor(loss)(closest_saddle)\n",
    "fourth_solver = FourthOrderSolver(fot, H, evectors[:, 1])"
   ]
  },
  {
   "cell_type": "code",
   "execution_count": 124,
   "id": "ba98e598-c04e-4723-8bbf-4916043d892a",
   "metadata": {},
   "outputs": [
    {
     "name": "stdout",
     "output_type": "stream",
     "text": [
      "[-4.9619778419921912e-06 -5.3232463630733368e-06  5.2250935192721566e-14\n",
      " -7.4569815510383268e-15  4.3136230308401173e-16 -4.8493180933468600e-16\n",
      "  4.9619765265226353e-06  5.3232454891427160e-06  3.3563757006046682e-13\n",
      "  3.2539668091710056e-13  4.8425798011902944e-12  8.9927255725573351e-13\n",
      "  9.1580196784179075e-13 -1.9115345147151588e-12  5.0582049431477750e-13]\n",
      "[ 9.8859171852673202e-05  1.1929012015522605e-04 -1.0769267716415188e-12\n",
      "  2.1187594994054593e-13 -9.6665184057659676e-15  1.2067408995151268e-14\n",
      " -9.8857954742522501e-05 -1.1928930325374551e-04 -7.0681312337808720e-12\n",
      " -6.8879607785716323e-12  1.4890545385868667e-09 -1.8602042885036635e-11\n",
      " -1.8848802045106978e-11 -1.5514396638462601e-09 -1.0351893699295885e-11]\n",
      "[-2.9659369507760536e-07  2.7646633162000167e-07  1.5165785617593978e-15\n",
      "  2.4120545928802654e-15 -2.3291185520613596e-17  8.1850475743902233e-17\n",
      "  2.9659361297856569e-07 -2.7646636366947931e-07  2.9715637764484029e-15\n",
      "  1.2947538994335346e-15  9.4432196971885199e-15  2.3027005191926091e-14\n",
      "  2.7726098008061573e-14 -1.3691056126685560e-14  1.7919477202236143e-14]\n",
      "[ 5.6556592282191670e-06 -5.2917042100296245e-06 -1.9179848840790094e-13\n",
      "  1.6502044707710381e-13 -1.0136698434654715e-13  1.1605145469640863e-13\n",
      " -5.6556538320065570e-06  5.2917013868649573e-06 -3.7635949696237637e-14\n",
      " -2.4758758621199937e-15  4.2308276372443054e-12 -3.5766651607665570e-13\n",
      " -4.5472958548938196e-13 -4.2089011393607398e-12 -3.1219898598051742e-13]\n",
      "[ 3.1419077972967776e-09 -3.9281437780178407e-09 -1.8591105197454050e-17\n",
      " -2.3284673689892308e-17 -2.9715724666261123e-18  2.7918415412896560e-18\n",
      " -3.1419070567562080e-09  3.9281438018553595e-09 -2.5283195290334274e-18\n",
      "  1.7247845085890229e-17  1.7280690678590285e-16 -1.9046294687664658e-16\n",
      " -2.4677178847153105e-16  1.6931049972962512e-16 -1.6814434822278504e-16]\n",
      "[-7.6782906265148537e-09 -1.2351027493723001e-08  5.3746438252552114e-17\n",
      "  1.4426210120916900e-16 -3.8958807231147256e-17  5.7473039026148594e-17\n",
      "  7.6782852496003858e-09  1.2351023502698415e-08  5.2196752837383309e-16\n",
      "  5.6735076011797267e-16  2.4176819016949125e-15  1.3663634888355823e-15\n",
      "  1.3459657374199573e-15  2.3912319246521917e-15  9.1740027684833978e-16]\n",
      "[-4.7464281034696876e-09 -6.5569098291525528e-09  3.6239484273221725e-17\n",
      "  9.0223675299628348e-17 -1.9011655383494687e-17  3.1365417068935714e-17\n",
      "  4.7464253587318111e-09  6.5569076062766365e-09  1.6775293191882539e-16\n",
      "  1.9703399541672548e-16  1.1507638455149858e-15  6.9525824516467846e-16\n",
      "  6.8248124957682155e-16  1.1425203947736192e-15  5.6108060024286949e-16]\n",
      "[-1.0417682513425225e-10 -5.6599657936519758e-10 -7.0506615327902008e-18\n",
      "  1.5101866497885202e-17 -6.1943702674647428e-18  7.7588993770556264e-18\n",
      "  1.0417671977303567e-10  5.6599643260226381e-10  5.2411822478569316e-18\n",
      "  7.2176302542260483e-18  6.0013947190356063e-17  2.9735527144142326e-17\n",
      "  2.5374607092394858e-17  5.9972812836745371e-17  2.5782096064186989e-17]\n",
      "[ 5.1108968184880713e-11 -1.9684824988519579e-09 -4.7902371373220521e-17\n",
      "  7.4441785180493206e-17 -2.8655777196230320e-17  3.4866192125398048e-17\n",
      " -5.1109078802272223e-11  1.9684819818554703e-09 -4.0562040400924538e-18\n",
      " -4.3146636939066098e-19  1.2106159772656884e-16  5.9994033008298361e-17\n",
      "  3.8806102118909205e-17  1.2057240803759287e-16  6.0781697045789842e-17]\n",
      "[-6.9993383169000059e-11 -8.7471901624871476e-10 -1.4683591321709003e-17\n",
      "  2.6411153187690292e-17 -1.0976285103851317e-17  1.3529638555266908e-17\n",
      "  6.9993263979389560e-11  8.7471879713768851e-10  5.3060903238927801e-18\n",
      "  7.9616988692643859e-18  7.9368874090778668e-17  3.7325400653546063e-17\n",
      "  2.9540019899444977e-17  7.9272646412989395e-17  3.3153884799903992e-17]\n",
      "[-4.6155999992757391e-11 -8.7730170093430239e-09 -2.0267250107988904e-16\n",
      "  3.2007975954920407e-16 -6.2773464248570113e-17  7.6158611819084583e-17\n",
      "  4.6155513713627804e-11  8.7730149863103892e-09  2.2770217414822777e-17\n",
      "  6.9240709711819842e-17  5.1749689221608314e-16  2.6787006696267818e-16\n",
      "  1.9580293928139873e-16  5.0781587524855379e-16  2.6709383551111577e-16]\n",
      "[-5.8349713203807835e-11 -4.7321910902469495e-09 -9.8818183951114026e-17\n",
      "  1.6058962234744762e-16 -4.9149780593235613e-17  5.9935006479046694e-17\n",
      "  5.8349308978705598e-11  4.7321899704889353e-09  2.0210321250172289e-17\n",
      "  3.9298767933951804e-17  3.4307204742477634e-16  1.6234305006385475e-16\n",
      "  1.2043413336449197e-16  3.4025686022238714e-16  1.5064299727262568e-16]\n",
      "[-1.3875988102868264e-09 -5.7543585988052517e-09 -9.2610306262063775e-17\n",
      "  2.1392905045710829e-16 -2.8413902507538529e-17  3.5694638793835136e-17\n",
      "  1.3875981753245756e-09  5.7543573720602720e-09  1.4865537668570618e-17\n",
      "  7.5331706609650817e-17  3.6520333585898491e-16  2.2353544328138577e-16\n",
      "  2.0717902673262863e-16  3.6085837380472161e-16  3.3437787705953908e-16]\n",
      "[-2.7307193091144294e-09 -5.1039875538274697e-10  1.0102316537201643e-16\n",
      " -5.5532624895177785e-17  6.6613890090680823e-18 -6.9729587419536645e-18\n",
      "  2.7307184762007418e-09  5.1039855979847938e-10 -5.5374013472357987e-19\n",
      "  2.2469670708363593e-17  2.1516571066283607e-16  1.7150052549974095e-16\n",
      "  1.9496387514064538e-16  2.1408783213921665e-16  2.9058373342788512e-16]\n",
      "[-1.6242097665333122e-10 -9.5105859228646540e-11  4.3277874365021723e-18\n",
      " -2.3068888491664419e-19 -4.8113139273218960e-22 -6.5160846992538396e-22\n",
      "  1.6242092839138132e-10  9.5105837294977999e-11  6.9642704122222264e-19\n",
      "  3.0930202706941710e-18  1.3909466986196448e-17  1.0303151340426698e-17\n",
      "  1.1673492150505414e-17  1.3904760537365073e-17  1.9926871643479555e-17]\n",
      "[-1.9619111675023963e-09 -3.3346636709622085e-09 -4.4568923514097704e-18\n",
      "  9.4794735456621886e-17 -4.6812961936922401e-18  6.5790960649223091e-18\n",
      "  1.9619105208002821e-09  3.3346629670930197e-09  2.9830238339680153e-17\n",
      "  6.2949123382968932e-17  2.4446525068958224e-16  1.7818343226560684e-16\n",
      "  1.7951191218023191e-16  2.4259658225895414e-16  2.3191090055178024e-16]\n",
      "[-4.1434118591413492e-10 -5.4862916762851353e-10  3.5637681596010369e-18\n",
      "  1.3147177033435806e-17 -3.4789705527156214e-20  4.5226733071927330e-20\n",
      "  4.1434105527543045e-10  5.4862905616205799e-10  4.0357159614296829e-18\n",
      "  1.3925510696559163e-17  4.5510066569589874e-17  3.0877710105662570e-17\n",
      "  3.4387370327111277e-17  4.5450486052710044e-17  6.0682623895411831e-17]\n",
      "[-2.4381732570745038e-09 -4.3932009351959978e-09 -1.0984162075056991e-17\n",
      "  1.3822946899872062e-16  3.2010512701738833e-18 -4.7626491416082350e-18\n",
      "  2.4381725802950665e-09  4.3932001230609949e-09  6.9199712762277070e-17\n",
      "  1.2016621710546195e-16  2.3115358984642945e-16  1.7364770911876742e-16\n",
      "  1.8492100883970169e-16  2.2800727541442998e-16  2.5529105006253528e-16]\n",
      "[-1.7692112313515340e-09 -1.9872699914018470e-09  2.8017719608199401e-17\n",
      "  4.2237848347547204e-17  2.4406665418410422e-19 -7.0614046471126354e-19\n",
      "  1.7692107385487608e-09  1.9872695972876166e-09  4.9577839691398770e-17\n",
      "  5.5568779123895720e-17  1.4023805141696911e-16  1.0107199094001954e-16\n",
      "  1.1555169735427048e-16  1.3933768890691820e-16  8.7810182972361043e-17]\n",
      "[-2.2490906999663995e-09 -3.7131634056826153e-09 -1.2917185478930235e-19\n",
      "  1.1179731083561600e-16  2.2411416372508306e-18 -3.4542180293836537e-18\n",
      "  2.2490900723925395e-09  3.7131627089000966e-09  6.4944588039975476e-17\n",
      "  9.9832470284151604e-17  2.0532133252372557e-16  1.5292892913272464e-16\n",
      "  1.6482577654291712e-16  2.0296652786086766e-16  1.9550348546278965e-16]\n",
      "[-7.4590257506830389e-10  1.6679066229162365e-09  9.1010823530775158e-17\n",
      " -1.2121210581768883e-16 -9.5829377097908858e-18  1.1489016254034997e-17\n",
      "  7.4590238994894628e-10 -1.6679063466677167e-09 -7.7882822555609765e-18\n",
      " -1.8991071306177934e-17  2.4444433070982989e-17  7.3527626207323178e-18\n",
      "  2.1032303793615590e-17  2.4000130481372665e-17  4.8247059336006569e-17]\n",
      "[-9.5425796110157501e-10  1.2109568324496183e-09  8.0606372846161698e-17\n",
      " -9.7667923915699367e-17 -6.8902309501685248e-18  8.1466753866092571e-18\n",
      "  9.5425773289946718e-10 -1.2109566415909194e-09 -7.5271734675968097e-19\n",
      " -8.9931728790960886e-18  3.4414274112275184e-17  2.8935623009983834e-17\n",
      "  3.5508280401081553e-17  3.4086138737700298e-17  5.2339373754886321e-17]\n",
      "[-1.6249956739047491e-09 -1.1252955532969898e-09  4.2933595954947343e-17\n",
      "  1.0468321723366014e-17 -1.4483578776129116e-18  1.1641664953755995e-18\n",
      "  1.6249952949905523e-09  1.1252953592671145e-09  2.8389736032685093e-17\n",
      "  3.2592233623638024e-17  1.0179394149119607e-16  7.0899925483328253e-17\n",
      "  8.7795390259896853e-17  1.0128058315937706e-16  8.5961207106937383e-17]\n",
      "[-1.1070189735256881e-09  6.7887327260081264e-10  7.1468453353275035e-17\n",
      " -7.2856919385461148e-17 -5.4964440448448315e-18  6.3550412474248444e-18\n",
      "  1.1070187136720797e-09 -6.7887317257581873e-10  5.6952607394495412e-18\n",
      "  6.7914730404401866e-19  4.8102220916805925e-17  3.9377892354769680e-17\n",
      "  4.7288360963801694e-17  4.7860654607142261e-17  6.0860098891878198e-17]\n",
      "[-1.1463200380907406e-09 -2.3204991527300564e-09 -1.1147423620184865e-17\n",
      "  9.1478928503288638e-17  3.1454159442459414e-18 -4.4141602197076878e-18\n",
      "  1.1463197863620670e-09  2.3204987991105488e-09  3.0990409901625211e-17\n",
      "  4.0101482967098309e-17  8.0501647949212615e-17  4.7215710182759327e-17\n",
      "  6.7637458748260083e-17  7.9668940517259216e-17  4.9790980871269679e-17]\n",
      "[-1.1172980475850285e-09 -1.0561007678720989e-10  4.9371272365536502e-17\n",
      " -3.0251736190057443e-17 -3.1057676333914084e-18  3.3735422957214967e-18\n",
      "  1.1172977892528970e-09  1.0561005323791662e-10  1.2738969960430594e-17\n",
      "  1.2233904419829255e-17  5.7817891537970179e-17  4.3593568934062729e-17\n",
      "  5.3316711476991093e-17  5.7640140430637983e-17  6.0256097330002119e-17]\n",
      "[-2.5672094882962204e-09 -4.0717704201487479e-09  7.2460473998354132e-18\n",
      "  1.4699606350015773e-16  7.3575797226891150e-18 -1.1117992106157781e-17\n",
      "  2.5672090813697212e-09  4.0717699219184940e-09  8.5042190834511618e-17\n",
      "  8.3787224680154296e-17  8.7797529683137469e-17  6.0033937908846866e-17\n",
      "  1.0280964950549791e-16  8.4898514258608213e-17 -2.2633312518338726e-20]\n",
      "[-1.4164472788314493e-09 -9.2391968821836237e-10  4.0784284654141192e-17\n",
      "  4.9165681131082116e-18 -1.8765195391332237e-18  1.5991397061087311e-18\n",
      "  1.4164469665035261e-09  9.2391954616667041e-10  2.5087720349359445e-17\n",
      "  2.7300619855797453e-17  7.7031131720593405e-17  5.3907645994360776e-17\n",
      "  6.9630702772738594e-17  7.6653765978685748e-17  6.6321078368387170e-17]\n",
      "[-1.0379704253302532e-08 -1.2861076497193239e-08  1.2698145918129982e-16\n",
      "  2.4331632017368799e-16  9.2163287520480195e-19 -2.0477337326757671e-18\n",
      "  1.0379702262886279e-08  1.2861074741759466e-08  2.6612796841431589e-16\n",
      "  3.4013125026286353e-16  5.7601664039003024e-16  3.6944356048694475e-16\n",
      "  4.8533396893986769e-16  5.4146651123198738e-16  4.8609103614149325e-16]\n",
      "[-4.1670942652371215e-09 -4.5871974998455605e-09  6.5885553240261844e-17\n",
      "  1.0453722043559673e-16  6.7316974173818708e-19 -2.4422602859316735e-18\n",
      "  4.1670933851517293e-09  4.5871968216868565e-09  9.3801607600557034e-17\n",
      "  1.1279569247543190e-16  2.3903730879614218e-16  1.5881942307385895e-16\n",
      "  2.1041409842214515e-16  2.3414668027952672e-16  1.9085686352260954e-16]\n",
      "[-1.0797917216982829e-08 -1.2311022017852729e-08  1.4357525692191960e-16\n",
      "  2.4210639058094686e-16  4.6393378107649896e-19 -1.2955868983817711e-18\n",
      "  1.0797915569060986e-08  1.2311020699984586e-08  1.9989923157667881e-16\n",
      "  2.3658763263109453e-16  4.6130871971928812e-16  2.2750486879706064e-16\n",
      "  3.9428796382631476e-16  4.2723295593454730e-16  3.4127645778875518e-16]\n",
      "[-3.3530530436711198e-09 -5.8195927450924998e-09  2.0754172512586925e-17\n",
      "  1.1205331322662931e-16 -3.8800210532045087e-18  5.4146933802138931e-18\n",
      "  3.3530526874166371e-09  5.8195923006038626e-09  6.5017667252262616e-17\n",
      "  8.1805765893855768e-17  9.9920830991927091e-17  1.1223753645851344e-17\n",
      "  9.1747349735795367e-17  9.4292787569962154e-17  6.3269086860758504e-17]\n",
      "[-3.2081175260564853e-09 -7.7105364716432509e-09  8.6097836139611095e-18\n",
      "  1.3942175476737933e-16 -1.1248421642590922e-17  1.4817069706949807e-17\n",
      "  3.2081172646960438e-09  7.7105359349714308e-09  7.6601209221268396e-17\n",
      "  9.5802396086321443e-17  6.1318820146234628e-17 -4.3936374662541290e-17\n",
      "  7.4091828492982538e-17  5.2669444548671188e-17  1.4415645812722416e-17]\n",
      "[-3.3233277395628026e-09 -6.2074114354213903e-09  1.7087384876394164e-17\n",
      "  1.1909660771923043e-16 -5.0951856286379684e-18  6.9781476078912878e-18\n",
      "  3.3233274013234310e-09  6.2074109708093885e-09  6.7383835739896207e-17\n",
      "  8.4885804824946071e-17  9.3313659183446688e-17  1.7895314830182972e-18\n",
      "  8.8661899395538707e-17  8.7140348400083312e-17  5.4469638978862284e-17]\n",
      "[-2.8635887954029310e-09 -6.3000396019362937e-09  8.7876575242838224e-18\n",
      "  1.0876303838906518e-16 -8.4429525019799035e-18  1.1261183805536929e-17\n",
      "  2.8635885317329867e-09  6.3000391279563384e-09  6.9834788950413348e-17\n",
      "  8.8000706387099313e-17  6.1320170589280030e-17 -2.0513979923551984e-17\n",
      "  7.3838589347399917e-17  5.5374941661468447e-17  2.9416491885725497e-17]\n",
      "[-7.2917497704453377e-09 -9.1941754552643064e-09  7.1125315059751150e-17\n",
      "  1.5021602856153463e-16 -2.6986567771005472e-18  4.9190645887500526e-18\n",
      "  7.2917490303565576e-09  9.1941747924892619e-09  1.1952236391151267e-16\n",
      "  1.3364281699171656e-16  1.9380978771704653e-16  4.1318133021691173e-17\n",
      "  1.7563227043699898e-16  1.7640767691901052e-16  1.1249937285767793e-16]\n",
      "[-4.7095974453100005e-09 -7.5065451105446796e-09  3.1624425994493192e-17\n",
      "  1.2655507338846133e-16 -5.7063756660340318e-18  8.3172225290830380e-18\n",
      "  4.7095969783622557e-09  7.5065445619402448e-09  9.2177706202668464e-17\n",
      "  1.0883204652898001e-16  1.1516215459124579e-16  7.6100903492948479e-18\n",
      "  1.1741032281846385e-16  1.0533831460176062e-16  6.5935606385812618e-17]\n",
      "[-1.7932818130382932e-08 -2.0714809253276195e-08  1.7818485408985107e-16\n",
      "  2.8923912405874152e-16 -2.7421164380626895e-18  6.4032326651273894e-18\n",
      "  1.7932816484095410e-08  2.0714807949678403e-08  2.1211413882644282e-16\n",
      "  2.9394134314134777e-16  4.8381455498151061e-16  1.2834716735752166e-16\n",
      "  4.0712643976221220e-16  3.8849290748577314e-16  5.1202432534713390e-16]\n",
      "[-6.0319194716547776e-09 -8.8273715417564805e-09  4.5712118858781603e-17\n",
      "  1.4426198370697537e-16 -5.3528120956644710e-18  8.1997645863251579e-18\n",
      "  6.0319188736842096e-09  8.8273709079576208e-09  1.0997538659423276e-16\n",
      "  1.2992679251740381e-16  1.4937322604357126e-16  1.9489175496327167e-17\n",
      "  1.4806084534612458e-16  1.3502721612549825e-16  9.7041982427573505e-17]\n",
      "[-2.9075294558148723e-08 -3.4048137543748442e-08  2.2812331213882017e-16\n",
      "  4.0550396576803770e-16 -7.0573283419852251e-18  1.5402499831449318e-17\n",
      "  2.9075292196006773e-08  3.4048135611603377e-08  3.7614879717986568e-16\n",
      "  4.1500810245619816e-16  7.0912749433579253e-16  1.5967276906565032e-16\n",
      "  5.6461950362078871e-16  4.5477696062487696e-16  3.8627083781451801e-16]\n",
      "[-1.8210491395079801e-08 -2.2156708724484833e-08  1.5247865416632922e-16\n",
      "  3.0120979385161628e-16 -6.2203598473183375e-18  1.2237779951155140e-17\n",
      "  1.8210489749197078e-08  2.2156707317530173e-08  2.7068415983405791e-16\n",
      "  3.0408829640053048e-16  4.4683105608955813e-16  9.8610443245033071e-17\n",
      "  3.9372212141102094e-16  3.4268661526175018e-16  2.7228597798732703e-16]\n",
      "[-2.4567784941999108e-08 -2.8018053578463354e-08  1.7967690104548089e-16\n",
      "  3.0486247453919014e-16 -4.7706927573830837e-18  1.1446102132887756e-17\n",
      "  2.4567783126820965e-08  2.8018052140721127e-08  2.8508546933874158e-16\n",
      "  3.1249733218576903e-16  5.3877694922409752e-16  1.1967122443530152e-16\n",
      "  4.3129085191643679e-16  3.6232573923371944e-16  2.9848281556010111e-16]\n",
      "[-1.4689828080423031e-08 -1.6972870257786716e-08  6.9613171749033983e-17\n",
      "  1.1606197549368909e-16 -2.2915178169629493e-18  4.6389994561616351e-18\n",
      "  1.4689827487877542e-08  1.6972869776391158e-08  9.6192528592250947e-17\n",
      "  9.7621228893721900e-17  1.7254419105844667e-16  2.2791269595515209e-17\n",
      "  1.3046204628959910e-16  1.0856432335833156e-16  6.5209090428698960e-17]\n",
      "[ 1.4798005454602812e-08  1.7161587754268092e-08 -1.7123642685196331e-17\n",
      " -1.6070965569428765e-17  2.2404800581113083e-18 -4.1142593270087333e-18\n",
      " -1.4798005365470447e-08 -1.7161587684985753e-08  3.3777844651723547e-17\n",
      "  3.1075289002857242e-17 -4.0329085742374773e-18  4.4054081109603811e-18\n",
      "  2.1407185392927780e-18 -6.9221952177483118e-17 -4.4918489824724782e-17]\n",
      "[-4.2294903292268042e-09 -4.8642173157677404e-09  1.4717673155576793e-17\n",
      "  2.3030369772770215e-17 -6.3625296397505270e-19  1.2548757327493123e-18\n",
      "  4.2294902100961531e-09  4.8642172197783785e-09  1.4421778923657950e-17\n",
      "  1.4952393005598847e-17  3.2438947020314078e-17  3.8418783307706428e-18\n",
      "  2.4178682467351015e-17  2.7161749244166969e-17  1.6694466320320981e-17]\n",
      "[-6.4604709158227657e-09 -9.4367248855293822e-09  1.5686504086073080e-17\n",
      "  3.7007080163118413e-17 -2.1484276844610235e-18  3.5866959876864336e-18\n",
      "  6.4604707821469550e-09  9.4367247481155762e-09  1.4758058281133775e-17\n",
      "  1.5852143975015720e-17  4.6635912748114388e-17 -1.3577389629284955e-18\n",
      "  1.5932924277566888e-17  3.0219929983778500e-17  1.9368047535758773e-17]\n",
      "[-7.0843654310144966e-09 -1.0524511196782398e-08  1.4967866441224899e-17\n",
      "  3.5295456921039593e-17 -1.9475743956988946e-18  3.2894029071362615e-18\n",
      "  7.0843653081633137e-09  1.0524511071474046e-08  1.0578329604910527e-17\n",
      "  1.2997168296597015e-17  4.8187648168733806e-17 -1.7394484866591988e-18\n",
      "  1.1449785302536006e-17  2.7999479478361110e-17  2.5548993531220484e-17]\n",
      "[-6.6304040798911734e-09 -9.7330105066443153e-09  1.5517440885790093e-17\n",
      "  3.6673536297446006e-17 -2.1077247533225109e-18  3.5258622425867199e-18\n",
      "  6.6304039487660271e-09  9.7330103719443929e-09  1.3727238568189327e-17\n",
      "  1.5162374924323933e-17  4.7107760755645713e-17 -1.4755405256065180e-18\n",
      "  1.4796337029063707e-17  2.9703206636715821e-17  2.0952498179700290e-17]\n",
      "[-8.0367338092645691e-09 -1.1074381766503081e-08  1.8353639851515260e-17\n",
      "  4.0958733077873842e-17 -1.6598600412912558e-18  2.8641344465552289e-18\n",
      "  8.0367336453627425e-09  1.1074381608831661e-08  1.6563743267992178e-17\n",
      "  1.8468468660317706e-17  6.0202341862876731e-17  5.4324820365604016e-18\n",
      "  2.5019981559207857e-17  3.6642746196319169e-17  2.8223814187308848e-17]\n",
      "[-7.3778914999340159e-09 -9.1387185438967393e-09  1.4793038605935720e-17\n",
      "  2.5168936764552415e-17 -9.0784710985084326e-19  1.6478335053450424e-18\n",
      "  7.3778913930420802e-09  9.1387184513458745e-09  1.0269011716023747e-17\n",
      "  1.0967362616819165e-17  3.9817243178355417e-17  1.4867825453500624e-18\n",
      "  1.8735820409980742e-17  2.2367709380908907e-17  1.7741610436822216e-17]\n",
      "[-4.6086332768043277e-09 -5.5648352910978038e-09  4.7934339775476634e-18\n",
      "  7.5959663122900411e-18 -2.2346085391237110e-19  3.9966908504874042e-19\n",
      "  4.6086332440751930e-09  5.5648352637943932e-09  1.0427031246417746e-18\n",
      "  1.3332635204827551e-18  1.4335649332077277e-17  1.7066674286150307e-18\n",
      "  5.7207910522257545e-18  7.7228534631016424e-18  7.3677761831790947e-18]\n",
      "[-2.7631387202910118e-09 -3.7188303696664397e-09  1.5886727025914734e-18\n",
      "  3.1558274769588831e-18 -9.2841087652497410e-20  1.7271192011132899e-19\n",
      "  2.7631387100870176e-09  3.7188303604989243e-09 -1.9135262296708192e-19\n",
      " -1.6141952763947491e-19  5.2766286534781300e-18  2.5890831333776841e-19\n",
      "  1.1068955122970253e-18  2.5727527140406102e-18  2.5686631684910493e-18]\n",
      "[-1.5942357312592171e-09 -2.2081841206080851e-09  5.0365278986335667e-19\n",
      "  9.8695543732817885e-19 -2.9363219356184113e-20  5.7499614098947021e-20\n",
      "  1.5942357289938378e-09  2.2081841186504501e-09 -4.1180261031828173e-19\n",
      " -4.5342078267255497e-19  1.5838945392261731e-18 -1.2093153631465785e-19\n",
      "  6.3498176294000508e-20  6.5073508110379461e-19  7.4430509866852832e-19]\n",
      "[-9.4147456549624553e-10 -1.2973883204467356e-09  1.7972392638142755e-19\n",
      "  3.0727529658034311e-19 -9.9881424861369975e-21  2.0736725995218383e-20\n",
      "  9.4147456519929244e-10  1.2973883202727156e-09 -3.1734174541078668e-19\n",
      " -3.5741042763121279e-19  4.6860803164692476e-19 -1.4701122318897429e-19\n",
      " -8.8414831621915603e-20  1.4527278821594542e-19  2.1179868622819174e-19]\n",
      "[-5.6788717918052358e-10 -7.8104308557117216e-10  7.1532805294935376e-20\n",
      "  1.0240703313537879e-19 -4.0645849732780995e-21  8.9304690946730271e-21\n",
      "  5.6788717930021620e-10  7.8104308574431791e-10 -2.0816548989283335e-19\n",
      " -2.3716231767273418e-19  1.3743264038144224e-19 -1.1041486481675714e-19\n",
      " -8.6856774596300725e-20  2.0081387929453406e-20  5.6129318808710783e-20]\n",
      "[-3.5724033843248882e-10 -4.9115513103134689e-10  3.3408183997586246e-20\n",
      "  3.9196642268587656e-20 -2.0628971016357008e-21  4.6878732810722045e-21\n",
      "  3.5724033859167534e-10  4.9115513121738394e-10 -1.3366967530456134e-19\n",
      " -1.5345617342476868e-19  4.0564757212820362e-20 -7.5545477604100485e-20\n",
      " -6.2625922578815297e-20 -5.8535406659442822e-21  1.2431021763353913e-20]\n",
      "[-2.3840121144158167e-10 -3.2771299915133288e-10  1.8582847691567456e-20\n",
      "  1.8404063516921636e-20 -1.2729455777232395e-21  2.9163754991119410e-21\n",
      "  2.3840121156997504e-10  3.2771299929531979e-10 -8.8824678096182677e-20\n",
      " -1.0252472458672431e-19  1.2130688235204199e-20 -5.2005423939085319e-20\n",
      " -4.3067726066344032e-20 -8.5370527720326262e-21  7.3995612118805703e-22]\n",
      "[-1.7051950891817384e-10 -2.3436524402853593e-10  1.2109444561351413e-20\n",
      "  1.0887251744185845e-20 -9.0929149342649654e-22  2.0685664717291772e-21\n",
      "  1.7051950901425668e-10  2.3436524413492790e-10 -6.2658175026987676e-20\n",
      " -7.2613876270689427e-20  3.7617507097019222e-21 -3.7488035669061922e-20\n",
      " -3.0443377845189195e-20 -6.8098520857427149e-21 -2.0208591579371672e-21]\n",
      "[-1.3082962947614813e-10 -1.7979699896491110e-10  8.9626744695951552e-21\n",
      "  7.8702639730350991e-21 -7.2186377061133560e-22  1.6208745834066535e-21\n",
      "  1.3082962954887214e-10  1.7979699904523558e-10 -4.7245399807401095e-20\n",
      " -5.4927211777732520e-20  1.3986387273488836e-21 -2.8675278121859110e-20\n",
      " -2.2664983266845314e-20 -4.8236604233611152e-21 -2.3728507781171012e-21]\n",
      "2.1999149652289447e-21\n"
     ]
    }
   ],
   "source": [
    "sol = fourth_solver.compute_min(smallest_evector)\n",
    "print(fourth_solver.compute_loss(sol))"
   ]
  },
  {
   "cell_type": "code",
   "execution_count": 125,
   "id": "ee6c61e6-8aed-4887-b65e-f719c326e2ed",
   "metadata": {},
   "outputs": [
    {
     "name": "stdout",
     "output_type": "stream",
     "text": [
      "Norm of sol: 1.0\n",
      "Dot product (sol and smallest evector): 0.9999999999998618\n",
      "Dot product (sol and second smallest evector): -1.781255285246894e-19\n",
      "sol @ H @ sol: -2.2419364904294915e-22\n"
     ]
    }
   ],
   "source": [
    "print('Norm of sol:', jnp.linalg.norm(sol))\n",
    "print('Dot product (sol and smallest evector):', jnp.dot(sol, evectors[:, 0]))\n",
    "print('Dot product (sol and second smallest evector):', jnp.dot(sol, evectors[:, 1]))\n",
    "print('sol @ H @ sol:', sol @ H @ sol)"
   ]
  },
  {
   "cell_type": "markdown",
   "id": "527c4a9a-e9b0-4175-a38b-4e861d97136c",
   "metadata": {},
   "source": [
    "## Sampling u vectors for the fourth dir. deriv. at si saddle"
   ]
  },
  {
   "cell_type": "code",
   "execution_count": 126,
   "id": "b0f85ad6-004a-423b-a72c-ff66c104a440",
   "metadata": {},
   "outputs": [
    {
     "ename": "ZeroDivisionError",
     "evalue": "division by zero",
     "output_type": "error",
     "traceback": [
      "\u001b[0;31m---------------------------------------------------------------------------\u001b[0m",
      "\u001b[0;31mZeroDivisionError\u001b[0m                         Traceback (most recent call last)",
      "\u001b[0;32m/var/folders/jl/gw5k1zqx70q43fv5n0sr35pc0000gn/T/ipykernel_98192/184605066.py\u001b[0m in \u001b[0;36m<module>\u001b[0;34m\u001b[0m\n\u001b[1;32m     17\u001b[0m             \u001b[0mnum_neg_fourth_deriv\u001b[0m \u001b[0;34m+=\u001b[0m \u001b[0;36m1\u001b[0m\u001b[0;34m\u001b[0m\u001b[0;34m\u001b[0m\u001b[0m\n\u001b[1;32m     18\u001b[0m \u001b[0;34m\u001b[0m\u001b[0m\n\u001b[0;32m---> 19\u001b[0;31m \u001b[0mprint\u001b[0m\u001b[0;34m(\u001b[0m\u001b[0mnum_neg_fourth_deriv\u001b[0m \u001b[0;34m/\u001b[0m \u001b[0mnum_total\u001b[0m\u001b[0;34m)\u001b[0m\u001b[0;34m\u001b[0m\u001b[0;34m\u001b[0m\u001b[0m\n\u001b[0m",
      "\u001b[0;31mZeroDivisionError\u001b[0m: division by zero"
     ]
    }
   ],
   "source": [
    "num_neg_fourth_deriv = 0\n",
    "num_total = 0\n",
    "\n",
    "# temp = smallest_evector + 0.001\n",
    "# temp /= np.linalg.norm(temp)\n",
    "# print(temp @ H @ temp)\n",
    "\n",
    "for i in range(10):\n",
    "    mu, sigma = 0, 1\n",
    "    n = len(closest_saddle)\n",
    "    u = np.random.normal(mu, sigma, n)\n",
    "    u /= np.linalg.norm(u)\n",
    "    if second_dir_deriv(closest_saddle, u) <= 0:\n",
    "        num_total += 1\n",
    "        if fourth_dir_deriv(closest_saddle, u) < 0:\n",
    "            print('negative')\n",
    "            num_neg_fourth_deriv += 1\n",
    "\n",
    "print(num_neg_fourth_deriv / num_total)"
   ]
  },
  {
   "cell_type": "markdown",
   "id": "275a537f-9b01-4a82-90e5-b37136467b2f",
   "metadata": {},
   "source": [
    "## Sampling on the ball of radius R"
   ]
  },
  {
   "cell_type": "code",
   "execution_count": null,
   "id": "5286b315-17d5-42e0-902e-5d1a010489a2",
   "metadata": {},
   "outputs": [],
   "source": [
    "R = np.linalg.norm(local_min - closest_saddle)\n",
    "print(R)"
   ]
  },
  {
   "cell_type": "code",
   "execution_count": null,
   "id": "064efc96-587d-42df-a6e8-28d17abd2a6b",
   "metadata": {},
   "outputs": [],
   "source": [
    "for i in range(500):\n",
    "    mu, sigma = 0, 1\n",
    "    n = len(closest_saddle)\n",
    "    normal_array = np.random.normal(mu, sigma, n)\n",
    "    normal_array /= np.linalg.norm(normal_array)\n",
    "    uniform_val = np.random.uniform() \n",
    "    \n",
    "    normal_array *= R * (uniform_val ** (1/n))\n",
    "    \n",
    "    csi = jnp.array(normal_array) + closest_saddle"
   ]
  },
  {
   "cell_type": "code",
   "execution_count": null,
   "id": "2ab009f0-242b-4290-9547-28f51662aa11",
   "metadata": {},
   "outputs": [],
   "source": [
    "R = np.linalg.norm(local_min - closest_saddle)"
   ]
  },
  {
   "cell_type": "code",
   "execution_count": null,
   "id": "68de57af-c902-4f45-9bff-62a982466f13",
   "metadata": {},
   "outputs": [],
   "source": [
    "print(R)"
   ]
  },
  {
   "cell_type": "code",
   "execution_count": null,
   "id": "b705a72f-0b68-487d-bae3-cc7df6f954fb",
   "metadata": {},
   "outputs": [],
   "source": [
    "for i in range(500):\n",
    "    mu, sigma = 0, 1\n",
    "    n = len(closest_saddle)\n",
    "    normal_array = np.random.normal(mu, sigma, n)\n",
    "    normal_array /= np.linalg.norm(normal_array)\n",
    "    uniform_val = np.random.uniform()\n",
    "    \n",
    "    normal_array *= R * (uniform_val ** (1/n))\n",
    "    \n",
    "    csi = jnp.array(normal_array) + closest_saddle\n",
    "    H_csi = hessian(loss)(csi)\n",
    "    H_csi = (H_csi + H_csi.T) / 2\n",
    "    evals, evectors = jnp.linalg.eigh(H_csi)\n",
    "    smallest_evector = evectors[:, jnp.argmin(evals)]\n",
    "    \n",
    "    fot = fourth_order_tensor(loss)(csi)\n",
    "    fourth_order_solver = FourthOrderSolver(fot, H, second_smallest_evector)\n",
    "    print(fot.shape)\n",
    "    \n",
    "    fourth_order_u = fourth_order_solver.compute_min(smallest_evector)\n",
    "\n",
    "    print(second_dir_deriv(closest_saddle, fourth_order_u),\n",
    "          fourth_dir_deriv(closest_saddle, fourth_order_u))\n",
    "    \n",
    "    # print(jnp.linalg.norm(csi - closest_saddle))"
   ]
  },
  {
   "cell_type": "raw",
   "id": "35627925-784d-441b-a29b-251794a7985b",
   "metadata": {},
   "source": []
  }
 ],
 "metadata": {
  "kernelspec": {
   "display_name": "Python 3 (ipykernel)",
   "language": "python",
   "name": "python3"
  },
  "language_info": {
   "codemirror_mode": {
    "name": "ipython",
    "version": 3
   },
   "file_extension": ".py",
   "mimetype": "text/x-python",
   "name": "python",
   "nbconvert_exporter": "python",
   "pygments_lexer": "ipython3",
   "version": "3.7.12"
  }
 },
 "nbformat": 4,
 "nbformat_minor": 5
}
