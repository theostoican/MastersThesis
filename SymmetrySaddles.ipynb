{
  "nbformat": 4,
  "nbformat_minor": 0,
  "metadata": {
    "colab": {
      "name": "SymmetrySaddles.ipynb",
      "provenance": [],
      "authorship_tag": "ABX9TyMxN8AFWOg54cffBsT86mAo",
      "include_colab_link": true
    },
    "kernelspec": {
      "name": "python3",
      "display_name": "Python 3"
    },
    "language_info": {
      "name": "python"
    }
  },
  "cells": [
    {
      "cell_type": "markdown",
      "metadata": {
        "id": "view-in-github",
        "colab_type": "text"
      },
      "source": [
        "<a href=\"https://colab.research.google.com/github/theostoican/MastersThesis/blob/main/SymmetrySaddles.ipynb\" target=\"_parent\"><img src=\"https://colab.research.google.com/assets/colab-badge.svg\" alt=\"Open In Colab\"/></a>"
      ]
    },
    {
      "cell_type": "code",
      "metadata": {
        "id": "4cKo7_tWleLC"
      },
      "source": [
        "import torch.nn as nn\n",
        "import numpy as np\n",
        "import torch\n",
        "from torch.autograd import Variable\n",
        "\n",
        "import matplotlib.pyplot as plt\n",
        "import matplotlib"
      ],
      "execution_count": 1,
      "outputs": []
    },
    {
      "cell_type": "markdown",
      "metadata": {
        "id": "0ptEq_k5KeK6"
      },
      "source": [
        "Dataset creation"
      ]
    },
    {
      "cell_type": "code",
      "metadata": {
        "colab": {
          "base_uri": "https://localhost:8080/"
        },
        "id": "z7WSK5OS-_Jb",
        "outputId": "17f5467b-9381-4f69-dffa-39bb3994b6c6"
      },
      "source": [
        "def construct_dataset():\n",
        "  data = []\n",
        "  for y in np.arange(-5, 5.1, .25):\n",
        "    for x in np.arange(-5, 5.1, .25):\n",
        "      data.append([x, y])\n",
        "  return data\n",
        "\n",
        "#N is batch size; D_in is input dimension;\n",
        "#H is the dimension of the hidden layer; D_out is output dimension.\n",
        "N, D_in, H_teacher, H_student, D_out = 1, 2, 4, 5, 1\n",
        "\n",
        "\n",
        "#Create random Tensors to hold inputs and outputs, and wrap them in Variables\n",
        "data = torch.Tensor(construct_dataset()) \n",
        "print(len(construct_dataset()))"
      ],
      "execution_count": 2,
      "outputs": [
        {
          "output_type": "stream",
          "name": "stdout",
          "text": [
            "1681\n"
          ]
        }
      ]
    },
    {
      "cell_type": "markdown",
      "metadata": {
        "id": "L0ZEwEx3Kg9_"
      },
      "source": [
        "Models"
      ]
    },
    {
      "cell_type": "code",
      "metadata": {
        "id": "QLlxqBcnzo2e"
      },
      "source": [
        "class TeacherNetwork(nn.Module):\n",
        "  def __init__(self, D_in, H, D_out):\n",
        "    \"\"\"\n",
        "    In the constructor we instantiate two nn.Linear modules and assign them as\n",
        "    member variables.\n",
        "\n",
        "    D_in: input dimension\n",
        "    H: dimension of hidden layer\n",
        "    D_out: output dimension of the first layer\n",
        "    \"\"\"\n",
        "    super(TeacherNetwork, self).__init__()\n",
        "    self.linear1 = nn.Linear(D_in, H, bias=False) \n",
        "    self.linear2 = nn.Linear(H, D_out, bias=False)\n",
        "    self.linear1.weight = torch.nn.Parameter(torch.transpose(torch.Tensor([[0.6, -0.5, -0.2, 0.1], [0.5, 0.5, -0.6, -0.6]]), 0, 1))\n",
        "    self.linear2.weight = torch.nn.Parameter(torch.transpose(torch.Tensor([[1], [1], [1], [1]]), 0, 1))\n",
        "  def forward(self, x):\n",
        "    \"\"\"\n",
        "    In the forward function we accept a Variable of input data and we must\n",
        "    return a Variable of output data. We can use Modules defined in the\n",
        "    constructor as well as arbitrary operators on Variables.\n",
        "    \"\"\"\n",
        "    h_sigmoid = torch.sigmoid(self.linear1(x))\n",
        "    y_pred = self.linear2(h_sigmoid)\n",
        "    return y_pred"
      ],
      "execution_count": 3,
      "outputs": []
    },
    {
      "cell_type": "code",
      "metadata": {
        "id": "COkLdjEOmBJV"
      },
      "source": [
        "class StudentNetwork(nn.Module):\n",
        "  def __init__(self, D_in, H, D_out):\n",
        "    \"\"\"\n",
        "    In the constructor we instantiate two nn.Linear modules and assign them as\n",
        "    member variables.\n",
        "\n",
        "    D_in: input dimension\n",
        "    H: dimension of hidden layer\n",
        "    D_out: output dimension of the first layer\n",
        "    \"\"\"\n",
        "    super(StudentNetwork, self).__init__()\n",
        "    self.linear1 = nn.Linear(D_in, H, bias=False) \n",
        "    self.linear2 = nn.Linear(H, D_out, bias=False)\n",
        "    nn.init.xavier_uniform_(self.linear1.weight)\n",
        "    nn.init.xavier_uniform_(self.linear2.weight)\n",
        "  def forward(self, x):\n",
        "    \"\"\"\n",
        "    In the forward function we accept a Variable of input data and we must\n",
        "    return a Variable of output data. We can use Modules defined in the\n",
        "    constructor as well as arbitrary operators on Variables.\n",
        "    \"\"\"\n",
        "    h_sigmoid = torch.sigmoid(self.linear1(x))\n",
        "    y_pred = self.linear2(h_sigmoid)\n",
        "    return y_pred"
      ],
      "execution_count": 4,
      "outputs": []
    },
    {
      "cell_type": "code",
      "metadata": {
        "id": "ILSXsIRu3U18",
        "colab": {
          "base_uri": "https://localhost:8080/"
        },
        "outputId": "e3a719bb-c830-44c3-e61b-ecf96ded3c1f"
      },
      "source": [
        "teacher_model = TeacherNetwork(D_in, H_teacher, D_out)\n",
        "student_model = StudentNetwork(D_in, H_student, D_out)\n",
        "print(student_model)\n",
        "\n",
        "y_labels = teacher_model(data).detach()"
      ],
      "execution_count": 5,
      "outputs": [
        {
          "output_type": "stream",
          "name": "stdout",
          "text": [
            "StudentNetwork(\n",
            "  (linear1): Linear(in_features=2, out_features=5, bias=False)\n",
            "  (linear2): Linear(in_features=5, out_features=1, bias=False)\n",
            ")\n"
          ]
        }
      ]
    },
    {
      "cell_type": "markdown",
      "metadata": {
        "id": "RZrYxLLwKk6Q"
      },
      "source": [
        "Training"
      ]
    },
    {
      "cell_type": "code",
      "metadata": {
        "id": "kS2Ri_ya9Npv"
      },
      "source": [
        "import copy\n",
        "\n",
        "def train(model, x, y_labels, N = 10, Ninner = 10**3, Nstart = 10,\n",
        "          maxtime = 10 ** 3, nlopt_threshold = 1e-7,\n",
        "          collect_history = True):\n",
        "  optimizer = torch.optim.Adam(model.parameters())\n",
        "  loss_fn = nn.MSELoss()\n",
        "  loss_vals = []\n",
        "  trace = []\n",
        "  if collect_history:\n",
        "    trace.append((copy.deepcopy(model.linear1.weight.data.detach().numpy()),\n",
        "                  copy.deepcopy(model.linear2.weight.data.detach().numpy())))\n",
        "  for i in range(N):\n",
        "    loss_tmp = []\n",
        "    for j in range(Ninner):\n",
        "      y = model(x)\n",
        "      loss = loss_fn(y, y_labels)\n",
        "      loss_tmp.append(loss.item())\n",
        "      optimizer.zero_grad()\n",
        "      loss.backward()\n",
        "      optimizer.step()\n",
        "      if i == 0 and (j % Nstart == 0) and j > 0:\n",
        "        loss_vals.append(np.mean(loss_tmp[j - Nstart : j]))\n",
        "        if collect_history:\n",
        "          trace.append((copy.deepcopy(model.linear1.weight.data.detach().numpy()),\n",
        "                        copy.deepcopy(model.linear2.weight.data.detach().numpy())))\n",
        "    if collect_history:\n",
        "      trace.append((copy.deepcopy(model.linear1.weight.data.detach().numpy()),\n",
        "                    copy.deepcopy(model.linear2.weight.data.detach().numpy())))\n",
        "    print(\"Iteration: %d, loss: %s\" % (Ninner * i, np.mean(loss_tmp)))\n",
        "    #if mean(loss_tmp) < nlopt_threshold or i == N - 1:\n",
        "  return loss_vals, trace"
      ],
      "execution_count": 6,
      "outputs": []
    },
    {
      "cell_type": "code",
      "metadata": {
        "colab": {
          "base_uri": "https://localhost:8080/"
        },
        "id": "c-4dScUFCP-2",
        "outputId": "d343e9a9-b1e2-458e-f869-afd3ccd5739a"
      },
      "source": [
        "loss_vals, trace = train(student_model, data, y_labels)"
      ],
      "execution_count": 7,
      "outputs": [
        {
          "output_type": "stream",
          "name": "stdout",
          "text": [
            "Iteration: 0, loss: 1.2835629432946443\n",
            "Iteration: 1000, loss: 0.021371449656784534\n",
            "Iteration: 2000, loss: 0.0021266729402123017\n",
            "Iteration: 3000, loss: 0.001197212822851725\n",
            "Iteration: 4000, loss: 0.0010991660646395758\n",
            "Iteration: 5000, loss: 0.0009344646343379282\n",
            "Iteration: 6000, loss: 0.0003839895397541113\n",
            "Iteration: 7000, loss: 0.00010202662154915743\n",
            "Iteration: 8000, loss: 7.141975983540761e-05\n",
            "Iteration: 9000, loss: 5.3976609371602535e-05\n"
          ]
        }
      ]
    },
    {
      "cell_type": "markdown",
      "metadata": {
        "id": "9F7kBJPoLS_h"
      },
      "source": [
        "Plotting"
      ]
    },
    {
      "cell_type": "code",
      "metadata": {
        "id": "JYMYC8b5VqT1"
      },
      "source": [
        "teacher_neurons_x = [0.6, -0.5, -0.2, 0.1]\n",
        "teacher_neurons_y = [0.5, 0.5, -0.6, -0.6]"
      ],
      "execution_count": 8,
      "outputs": []
    },
    {
      "cell_type": "code",
      "metadata": {
        "colab": {
          "base_uri": "https://localhost:8080/",
          "height": 282
        },
        "id": "mflgj_AbLToB",
        "outputId": "c2df72d7-37da-48d4-c69b-6e50acbd6f29"
      },
      "source": [
        "\n",
        "neuron_0_w_x = []\n",
        "neuron_0_w_y = []\n",
        "neuron_0_a = []\n",
        "\n",
        "neuron_1_w_x = []\n",
        "neuron_1_w_y = []\n",
        "neuron_1_a = []\n",
        "\n",
        "neuron_2_w_x = []\n",
        "neuron_2_w_y = []\n",
        "neuron_2_a = []\n",
        "\n",
        "neuron_3_w_x = []\n",
        "neuron_3_w_y = []\n",
        "neuron_3_a = []\n",
        "\n",
        "neuron_4_w_x = []\n",
        "neuron_4_w_y = []\n",
        "neuron_4_a = []\n",
        "\n",
        "for (inp_weights, out_weights) in trace:\n",
        "  neuron_0_w_x.append(inp_weights[0][0])\n",
        "  neuron_0_w_y.append(inp_weights[0][1])\n",
        "  neuron_0_a.append(out_weights[0][0])\n",
        "\n",
        "  neuron_1_w_x.append(inp_weights[1][0])\n",
        "  neuron_1_w_y.append(inp_weights[1][1])\n",
        "  neuron_1_a.append(out_weights[0][1])\n",
        "\n",
        "  neuron_2_w_x.append(inp_weights[2][0])\n",
        "  neuron_2_w_y.append(inp_weights[2][1])\n",
        "  neuron_2_a.append(out_weights[0][2])\n",
        "\n",
        "  neuron_3_w_x.append(inp_weights[3][0])\n",
        "  neuron_3_w_y.append(inp_weights[3][1])\n",
        "  neuron_3_a.append(out_weights[0][3])\n",
        "\n",
        "  neuron_4_w_x.append(inp_weights[4][0])\n",
        "  neuron_4_w_y.append(inp_weights[4][1])\n",
        "  neuron_4_a.append(out_weights[0][4])\n",
        "\n",
        "plt.plot(neuron_0_w_x, neuron_0_w_y)\n",
        "plt.plot(neuron_1_w_x, neuron_1_w_y)\n",
        "plt.plot(neuron_2_w_x, neuron_2_w_y)\n",
        "plt.plot(neuron_3_w_x, neuron_3_w_y)\n",
        "plt.plot(neuron_4_w_x, neuron_4_w_y)\n",
        "\n",
        "plt.scatter(teacher_neurons_x, teacher_neurons_y, marker=\"*\")\n",
        "\n",
        "outgoing_weights = [neuron_0_a[-1], neuron_1_a[-1], neuron_2_a[-1], neuron_3_a[-1], neuron_4_a[-1]]\n",
        "plt.scatter([neuron_0_w_x[-1], neuron_1_w_x[-1], neuron_2_w_x[-1], neuron_3_w_x[-1], neuron_4_w_x[-1]],\n",
        "            [neuron_0_w_y[-1], neuron_1_w_y[-1], neuron_2_w_y[-1], neuron_3_w_y[-1], neuron_4_w_y[-1]],\n",
        "            c = outgoing_weights,\n",
        "            cmap=matplotlib.cm.jet)\n",
        "plt.colorbar()\n",
        "\n",
        "# Teacher's neurons\n",
        "#[0.6, -0.5, -0.2, 0.1],\n",
        "#[0.5, 0.5, -0.6, -0.6],"
      ],
      "execution_count": 9,
      "outputs": [
        {
          "output_type": "execute_result",
          "data": {
            "text/plain": [
              "<matplotlib.colorbar.Colorbar at 0x7f871dec3210>"
            ]
          },
          "metadata": {},
          "execution_count": 9
        },
        {
          "output_type": "display_data",
          "data": {
            "image/png": "[encoded data removed]",
            "text/plain": [
              "<Figure size 432x288 with 2 Axes>"
            ]
          },
          "metadata": {
            "needs_background": "light"
          }
        }
      ]
    }
  ]
}