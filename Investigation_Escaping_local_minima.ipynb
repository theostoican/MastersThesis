{
  "cells": [
    {
      "cell_type": "markdown",
      "metadata": {
        "id": "view-in-github",
        "colab_type": "text"
      },
      "source": [
        "<a href=\"https://colab.research.google.com/github/theostoican/MastersThesis/blob/main/Investigation_Escaping_local_minima.ipynb\" target=\"_parent\"><img src=\"https://colab.research.google.com/assets/colab-badge.svg\" alt=\"Open In Colab\"/></a>"
      ]
    },
    {
      "cell_type": "code",
      "execution_count": 110,
      "metadata": {
        "id": "1jRTYpl-n3n_"
      },
      "outputs": [],
      "source": [
        "import matplotlib.pyplot as plt\n",
        "import matplotlib\n",
        "import pandas as pd\n",
        "import numpy as np\n",
        "\n",
        "import torch\n",
        "import torch.nn as nn\n",
        "from torch.autograd import Variable"
      ]
    },
    {
      "cell_type": "markdown",
      "metadata": {
        "id": "qUaY47kc15hI"
      },
      "source": [
        "# Models"
      ]
    },
    {
      "cell_type": "markdown",
      "metadata": {
        "id": "182WjNG218yF"
      },
      "source": [
        "A dummy network that receives as input the precomputed incoming and outgoing weights and sets them directly."
      ]
    },
    {
      "cell_type": "code",
      "execution_count": 111,
      "metadata": {
        "id": "CoW3Kz1x1_KB"
      },
      "outputs": [],
      "source": [
        "torch.set_default_dtype(torch.float64)\n",
        "class DummyNetwork(nn.Module):\n",
        "  def __init__(self, D_in, H, D_out, w_in, w_out):\n",
        "    \"\"\"\n",
        "    In the constructor we instantiate two nn.Linear modules and assign them as\n",
        "    member variables.\n",
        "\n",
        "    D_in: input dimension\n",
        "    H: dimension of hidden layer\n",
        "    D_out: output dimension of the first layer\n",
        "    \"\"\"\n",
        "    super(DummyNetwork, self).__init__()\n",
        "    self.linear1 = nn.Linear(D_in, H, bias=False)\n",
        "    self.linear2 = nn.Linear(H, D_out, bias=False)\n",
        "    self.linear1.weight = torch.nn.Parameter(w_in)\n",
        "    self.linear2.weight = torch.nn.Parameter(w_out)\n",
        "  def forward(self, x):\n",
        "    \"\"\"\n",
        "    In the forward function we accept a Variable of input data and we must\n",
        "    return a Variable of output data. We can use Modules defined in the\n",
        "    constructor as well as arbitrary operators on Variables.\n",
        "    \"\"\"\n",
        "    h_sigmoid = torch.sigmoid(self.linear1(x))\n",
        "    y_pred = self.linear2(h_sigmoid)\n",
        "    return y_pred"
      ]
    },
    {
      "cell_type": "code",
      "execution_count": 112,
      "metadata": {
        "id": "o5cHiIOu2D9f"
      },
      "outputs": [],
      "source": [
        "class TeacherNetwork(nn.Module):\n",
        "  def __init__(self, D_in, H, D_out):\n",
        "    \"\"\"\n",
        "    In the constructor we instantiate two nn.Linear modules and assign them as\n",
        "    member variables.\n",
        "\n",
        "    D_in: input dimension\n",
        "    H: dimension of hidden layer\n",
        "    D_out: output dimension of the first layer\n",
        "    \"\"\"\n",
        "    super(TeacherNetwork, self).__init__()\n",
        "    self.linear1 = nn.Linear(D_in, H, bias=False)\n",
        "    self.linear2 = nn.Linear(H, D_out, bias=False)\n",
        "    self.linear1.weight = torch.nn.Parameter(torch.transpose(torch.DoubleTensor([[0.6, -0.5, -0.2, 0.1], [0.5, 0.5, -0.6, -0.6]]), 0, 1))\n",
        "    self.linear2.weight = torch.nn.Parameter(torch.transpose(torch.DoubleTensor([[1], [-1], [1], [-1]]), 0, 1))\n",
        "  def forward(self, x):\n",
        "    \"\"\"\n",
        "    In the forward function we accept a Variable of input data and we must\n",
        "    return a Variable of output data. We can use Modules defined in the\n",
        "    constructor as well as arbitrary operators on Variables.\n",
        "    \"\"\"\n",
        "    h_sigmoid = torch.sigmoid(self.linear1(x))\n",
        "    y_pred = self.linear2(h_sigmoid)\n",
        "    return y_pred"
      ]
    },
    {
      "cell_type": "markdown",
      "metadata": {
        "id": "XMryNAxQ2GU3"
      },
      "source": [
        "# Dataset"
      ]
    },
    {
      "cell_type": "code",
      "execution_count": 113,
      "metadata": {
        "colab": {
          "base_uri": "https://localhost:8080/"
        },
        "id": "AX_oMWbv2G78",
        "outputId": "c179e5e3-6559-4d4c-9aa1-e23da8dc6c77"
      },
      "outputs": [
        {
          "output_type": "stream",
          "name": "stdout",
          "text": [
            "1681\n"
          ]
        }
      ],
      "source": [
        "D_in, H_teacher, H_student, D_out = 2, 4, 5, 1\n",
        "\n",
        "def construct_dataset():\n",
        "  data = []\n",
        "  for y in np.arange(-5, 5.1, .25):\n",
        "    for x in np.arange(-5, 5.1, .25):\n",
        "      data.append([x, y])\n",
        "  return data\n",
        "\n",
        "dataset = torch.DoubleTensor(construct_dataset()) \n",
        "print(len(construct_dataset()))"
      ]
    },
    {
      "cell_type": "markdown",
      "metadata": {
        "id": "0qdpnQd32PkB"
      },
      "source": [
        "# Labels"
      ]
    },
    {
      "cell_type": "code",
      "execution_count": 114,
      "metadata": {
        "id": "qO9N58LW2QBm"
      },
      "outputs": [],
      "source": [
        "teacher_model = TeacherNetwork(D_in, H_teacher, D_out)\n",
        "y_labels = teacher_model(dataset).detach()"
      ]
    },
    {
      "cell_type": "code",
      "execution_count": 115,
      "metadata": {
        "colab": {
          "base_uri": "https://localhost:8080/"
        },
        "id": "RnMJEjtBqvz-",
        "outputId": "7089a587-57fa-4459-f3c8-c032a8bfa904"
      },
      "outputs": [
        {
          "output_type": "execute_result",
          "data": {
            "text/plain": [
              "434"
            ]
          },
          "metadata": {},
          "execution_count": 115
        }
      ],
      "source": [
        "data = pd.read_csv('fixed_points.csv', float_precision='round_trip')\n",
        "data = data[data['loss'] >= 1e-6]\n",
        "len(data)"
      ]
    },
    {
      "cell_type": "code",
      "execution_count": 116,
      "metadata": {
        "colab": {
          "base_uri": "https://localhost:8080/"
        },
        "id": "tU1QGdtLq2mO",
        "outputId": "138ec921-b37e-4a7c-f310-e06c9e7a27b3"
      },
      "outputs": [
        {
          "output_type": "stream",
          "name": "stdout",
          "text": [
            "2.2199816911715864e-10\n",
            "7.186693917245406e-05\n"
          ]
        }
      ],
      "source": [
        "# 607 is the initial point that we tried on\n",
        "sample_point = data.sample()\n",
        "for _, sample_point in sample_point.iterrows():\n",
        "  pass\n",
        "print(sample_point['gradient_norm'])\n",
        "print(sample_point['loss'])"
      ]
    },
    {
      "cell_type": "markdown",
      "metadata": {
        "id": "ueyRqoqF2bNm"
      },
      "source": [
        "### Helper for extracting the weights from one data point."
      ]
    },
    {
      "cell_type": "code",
      "execution_count": 117,
      "metadata": {
        "id": "cVYwzm-w24Go"
      },
      "outputs": [],
      "source": [
        "def extract_weights(data_point):\n",
        "  incoming_weights_x = [data_point['w11'],\n",
        "                      data_point['w21'],\n",
        "                      data_point['w31'],\n",
        "                      data_point['w41'],\n",
        "                      data_point['w51']]\n",
        "  incoming_weights_y = [data_point['w12'],\n",
        "                      data_point['w22'],\n",
        "                      data_point['w32'],\n",
        "                      data_point['w42'],\n",
        "                      data_point['w52']]\n",
        "  outgoing_weights = [data_point['a1'],\n",
        "                    data_point['a2'],\n",
        "                    data_point['a3'],\n",
        "                    data_point['a4'],\n",
        "                    data_point['a5']]\n",
        "  return incoming_weights_x, incoming_weights_y, outgoing_weights"
      ]
    },
    {
      "cell_type": "code",
      "execution_count": 118,
      "metadata": {
        "colab": {
          "base_uri": "https://localhost:8080/"
        },
        "id": "ewEnp0jR0k6_",
        "outputId": "30bde915-f1bc-40da-ddbb-dded0162088b"
      },
      "outputs": [
        {
          "output_type": "stream",
          "name": "stdout",
          "text": [
            "[1.0642926159034056, -0.6388435375735875, -0.2044854635376129, -0.6452718990856442, -0.18452984932564703]\n",
            "[0.7449805020881858, 0.7812943559561835, -0.09295294227482198, 0.7749972001612204, -0.09134363142013682]\n",
            "[0.30798652520423475, 11.012091750857037, -11.775349891073175, -11.373422135714963, 11.828682992235544]\n"
          ]
        }
      ],
      "source": [
        "incoming_weights_x, incoming_weights_y, outgoing_weights = extract_weights(sample_point)\n",
        "print(incoming_weights_x)\n",
        "print(incoming_weights_y)\n",
        "print(outgoing_weights)"
      ]
    },
    {
      "cell_type": "markdown",
      "metadata": {
        "id": "prjlJN2MQXmu"
      },
      "source": [
        "## Smallest eigenvalue using JAX"
      ]
    },
    {
      "cell_type": "code",
      "execution_count": 119,
      "metadata": {
        "id": "rWPIRfmUQNyA"
      },
      "outputs": [],
      "source": [
        "import jax.numpy as jnp\n",
        "from jax import nn as jax_nn\n",
        "from jax.config import config; config.update(\"jax_enable_x64\", True)\n",
        "jnp.set_printoptions(precision=32) \n",
        "\n",
        "jnp_inputs = jnp.array(construct_dataset(), dtype=jnp.float64)\n",
        "jnp_labels = jnp.array(teacher_model(dataset).detach(), dtype=jnp.float64)\n",
        "\n",
        "def predict(w_in, w_out):\n",
        "  return w_out @ jnp.transpose(jax_nn.sigmoid(jnp_inputs @ jnp.transpose(w_in)))\n",
        "\n",
        "w_in = jnp.array([[incoming_weights_x[0], incoming_weights_y[0]],\n",
        "                  [incoming_weights_x[1], incoming_weights_y[1]],\n",
        "                  [incoming_weights_x[2], incoming_weights_y[2]],\n",
        "                  [incoming_weights_x[3], incoming_weights_y[3]],\n",
        "                  [incoming_weights_x[4], incoming_weights_y[4]]], dtype=jnp.float64)\n",
        "w_out = jnp.array(outgoing_weights, dtype=jnp.float64)"
      ]
    },
    {
      "cell_type": "markdown",
      "metadata": {
        "id": "yRjvShq-4oZc"
      },
      "source": [
        "### Loss in JAX"
      ]
    },
    {
      "cell_type": "markdown",
      "metadata": {
        "id": "-1Hr2t294q7S"
      },
      "source": [
        "Loss of the network computed in JAX."
      ]
    },
    {
      "cell_type": "code",
      "execution_count": 120,
      "metadata": {
        "colab": {
          "base_uri": "https://localhost:8080/"
        },
        "id": "CQFNY_VC4ou9",
        "outputId": "14739110-a23f-42ec-d88f-367c8b0b78f7"
      },
      "outputs": [
        {
          "output_type": "stream",
          "name": "stdout",
          "text": [
            "7.186693917245474e-05\n"
          ]
        }
      ],
      "source": [
        "def loss(w):\n",
        "  w_in = w[0 : 2 * H_student].reshape(D_in, H_student).T\n",
        "  w_out = w[2 * H_student : ].reshape(1, H_student)\n",
        "  preds = predict(w_in, w_out).T\n",
        "  return jnp.mean(jnp.mean(jnp.square(preds - jnp_labels)))\n",
        "print(loss(jnp.append(w_in.T.reshape(D_in * H_student), w_out.reshape(H_student))))"
      ]
    },
    {
      "cell_type": "markdown",
      "metadata": {
        "id": "aRVABYEN4xBn"
      },
      "source": [
        "### Hessian in JAX"
      ]
    },
    {
      "cell_type": "code",
      "execution_count": 121,
      "metadata": {
        "id": "p1apyMTV4xaK"
      },
      "outputs": [],
      "source": [
        "from jax import jacfwd, jacrev, grad\n",
        "import jax\n",
        "\n",
        "def hessian(f):\n",
        "  return jacfwd(jacrev(f))\n",
        "\n",
        "H = hessian(loss)(jnp.append(w_in.T.reshape(D_in * H_student), w_out.reshape(H_student)))"
      ]
    },
    {
      "cell_type": "markdown",
      "metadata": {
        "id": "q9KNg37G4zRi"
      },
      "source": [
        "### Eigenvalues in JAX"
      ]
    },
    {
      "cell_type": "code",
      "execution_count": 122,
      "metadata": {
        "colab": {
          "base_uri": "https://localhost:8080/"
        },
        "id": "qm9RiKY-400C",
        "outputId": "3d79d087-7324-4215-a38f-5f3edc943737"
      },
      "outputs": [
        {
          "output_type": "stream",
          "name": "stdout",
          "text": [
            "[2.4565571293260932e-11 1.4543709124135564e-11]\n",
            "[ 3.4643950009520001e-06  1.9649888115236787e-04 -5.1517849612759491e-07\n",
            " -2.0925122167484063e-04  7.8192875406220461e-07  2.4977998579645946e-06\n",
            "  2.1591884273987628e-04  3.0296387435027621e-06 -1.8251974558878740e-04\n",
            "  3.2054815340416437e-06 -7.4691055600106860e-07 -7.0710686819937785e-01\n",
            "  7.0165863063078064e-04  7.0710588482271719e-01 -6.9992720932106507e-04]\n"
          ]
        }
      ],
      "source": [
        "evals, evectors = jnp.linalg.eig(H)\n",
        "\n",
        "# Sanity check\n",
        "for eval in jnp.array([jax.lax.imag(eval) for eval in evals]):\n",
        "  assert eval == 0\n",
        "\n",
        "evals = jnp.array([jax.lax.real(eval) for eval in evals])\n",
        "evals.sort()\n",
        "\n",
        "print(evals[-2: ])\n",
        "smallest_evector = jnp.array([jax.lax.real(elem) for elem in evectors[:, jnp.argmin(evals)]])\n",
        "print(smallest_evector)"
      ]
    },
    {
      "cell_type": "markdown",
      "metadata": {
        "id": "ygRF64EF46OI"
      },
      "source": [
        "## Perturbation (based on JAX evectors)"
      ]
    },
    {
      "cell_type": "code",
      "execution_count": 123,
      "metadata": {
        "id": "mr1u_WGe490C"
      },
      "outputs": [],
      "source": [
        "old_loss = loss(jnp.append(w_in.T.reshape(D_in * H_student), w_out.reshape(H_student)))\n",
        "\n",
        "perturb_lower_bound = -8.0\n",
        "perturb_upper_bound = 8.0\n",
        "perturb_step = 0.01\n",
        "\n",
        "perturb_losses = []\n",
        "perturb_evals = []\n",
        "perturb_grads = []\n",
        "\n",
        "weights = jnp.append(w_in.T.reshape(D_in * H_student), w_out.reshape(H_student))\n",
        "for eps in np.arange(perturb_lower_bound, perturb_upper_bound, perturb_step):\n",
        "  new_weights = weights + eps * smallest_evector\n",
        "  sign = 1 if eps > 0 else -1\n",
        "  perturb_grads.append(jnp.linalg.norm(grad(loss)(new_weights)))\n",
        "  \n",
        "  H = hessian(loss)(new_weights)\n",
        "  H = (H + H.T) / 2\n",
        "  evals, _ = jnp.linalg.eig(H)\n",
        "\n",
        "  perturb_evals.append(min(evals))\n",
        "  perturb_losses.append(loss(new_weights))"
      ]
    },
    {
      "cell_type": "markdown",
      "metadata": {
        "id": "TOgEv-Tt9t52"
      },
      "source": [
        "Check the smallest eigenvectors at perturbation factor \\in {-1, 1}."
      ]
    },
    {
      "cell_type": "code",
      "execution_count": 124,
      "metadata": {
        "colab": {
          "base_uri": "https://localhost:8080/"
        },
        "id": "TaKHBuCq9ymq",
        "outputId": "9df61f44-bcd8-46c4-959b-5143172f0cc9"
      },
      "outputs": [
        {
          "output_type": "execute_result",
          "data": {
            "text/plain": [
              "DeviceArray([-3.7619738186357639e-04,  2.4555576847108321e-04,\n",
              "              4.4727621649602773e-05,  6.1303335274414045e-04,\n",
              "              5.1586323910560270e-05, -3.6711268791531342e-04,\n",
              "             -7.1838441362915520e-04, -1.8575735014925016e-04,\n",
              "             -3.3181822490393386e-04, -1.8988641410009461e-04,\n",
              "              1.6628459000454576e-04,  7.0693540051139636e-01,\n",
              "              1.4439943084588775e-02, -7.0697972649933383e-01,\n",
              "             -1.4562019375497249e-02], dtype=float64)"
            ]
          },
          "metadata": {},
          "execution_count": 124
        }
      ],
      "source": [
        "new_weights = weights - 0.4 * smallest_evector\n",
        "H = hessian(loss)(new_weights)\n",
        "H = (H + H.T) / 2\n",
        "evals, evectors = jnp.linalg.eig(H)\n",
        "# Sanity check\n",
        "for eval in jnp.array([jax.lax.imag(eval) for eval in evals]):\n",
        "  assert eval == 0\n",
        "\n",
        "evals = jnp.array([jax.lax.real(eval) for eval in evals])\n",
        "smallest_evector_left = jnp.array([jax.lax.real(elem) for elem in evectors[:, jnp.argmin(evals)]])\n",
        "smallest_evector_left"
      ]
    },
    {
      "cell_type": "code",
      "execution_count": 125,
      "metadata": {
        "colab": {
          "base_uri": "https://localhost:8080/"
        },
        "id": "r_eQeddkAgrs",
        "outputId": "1ef995c5-032a-4d41-9962-0450593b573e"
      },
      "outputs": [
        {
          "output_type": "stream",
          "name": "stdout",
          "text": [
            "(2.8924945049441847e-08+0j)\n",
            "2.8924945049441847e-08\n",
            "2.8924945049441847e-08\n"
          ]
        },
        {
          "output_type": "execute_result",
          "data": {
            "text/plain": [
              "DeviceArray([-4.3282913679857694e-04,  2.5895647054367880e-04,\n",
              "              4.9068951148915182e-05,  6.6477732297788236e-04,\n",
              "              6.1520840178646226e-05, -4.1906208544000684e-04,\n",
              "             -7.8560990302550143e-04, -1.9832692421030011e-04,\n",
              "             -3.5727016831186567e-04, -2.0291105693157676e-04,\n",
              "              1.9378678188412523e-04,  7.0682216481897597e-01,\n",
              "              1.9144264483370910e-02, -7.0686772321162161e-01,\n",
              "             -1.9292623485106700e-02], dtype=float64)"
            ]
          },
          "metadata": {},
          "execution_count": 125
        }
      ],
      "source": [
        "new_weights = weights + 0.4 * smallest_evector\n",
        "H = hessian(loss)(new_weights)\n",
        "H = (H + H.T) / 2\n",
        "evals, evectors = jnp.linalg.eig(H)\n",
        "# Sanity check\n",
        "for eval in jnp.array([jax.lax.imag(eval) for eval in evals]):\n",
        "  assert eval == 0\n",
        "print(min(evals))\n",
        "evals = jnp.array([jax.lax.real(eval) for eval in evals])\n",
        "print(min(evals))\n",
        "\n",
        "smallest_evector_right = jnp.array([jax.lax.real(elem) for elem in evectors[:, jnp.argmin(evals)]])\n",
        "print(min(evals))\n",
        "smallest_evector_right"
      ]
    },
    {
      "cell_type": "code",
      "execution_count": 1,
      "metadata": {
        "id": "HszHKa---8Pz",
        "colab": {
          "base_uri": "https://localhost:8080/",
          "height": 240
        },
        "outputId": "7ab01ab3-53ee-4ee7-a098-6a06f693b94a"
      },
      "outputs": [
        {
          "output_type": "error",
          "ename": "NameError",
          "evalue": "ignored",
          "traceback": [
            "\u001b[0;31m---------------------------------------------------------------------------\u001b[0m",
            "\u001b[0;31mNameError\u001b[0m                                 Traceback (most recent call last)",
            "\u001b[0;32m<ipython-input-1-04a6abd0b656>\u001b[0m in \u001b[0;36m<module>\u001b[0;34m()\u001b[0m\n\u001b[1;32m     41\u001b[0m \u001b[0;31m# pos_perturb_smallest_eval = []\u001b[0m\u001b[0;34m\u001b[0m\u001b[0;34m\u001b[0m\u001b[0;34m\u001b[0m\u001b[0m\n\u001b[1;32m     42\u001b[0m \u001b[0;31m# pos_distances_to_start = []\u001b[0m\u001b[0;34m\u001b[0m\u001b[0;34m\u001b[0m\u001b[0;34m\u001b[0m\u001b[0m\n\u001b[0;32m---> 43\u001b[0;31m \u001b[0mrun_perturbation_algo\u001b[0m\u001b[0;34m(\u001b[0m\u001b[0mweights\u001b[0m\u001b[0;34m,\u001b[0m \u001b[0mpos_perturb_losses\u001b[0m\u001b[0;34m)\u001b[0m\u001b[0;34m\u001b[0m\u001b[0;34m\u001b[0m\u001b[0m\n\u001b[0m\u001b[1;32m     44\u001b[0m \u001b[0;34m\u001b[0m\u001b[0m\n\u001b[1;32m     45\u001b[0m \u001b[0mneg_perturb_losses\u001b[0m \u001b[0;34m=\u001b[0m \u001b[0;34m[\u001b[0m\u001b[0;34m]\u001b[0m\u001b[0;34m\u001b[0m\u001b[0;34m\u001b[0m\u001b[0m\n",
            "\u001b[0;31mNameError\u001b[0m: name 'weights' is not defined"
          ]
        }
      ],
      "source": [
        "from collections import deque\n",
        "import math\n",
        "\n",
        "def run_perturbation_algo(start_weights,\n",
        "                          perturb_losses,\n",
        "                          eps = 5*1e-2):\n",
        "  q = deque()\n",
        "  q.append((start_weights, np.zeros(len(start_weights))))\n",
        "\n",
        "  while len(q) > 0:\n",
        "    current_weights, weights_identifier = q.popleft()\n",
        "    perturb_losses.append(loss(current_weights))\n",
        "\n",
        "    H = hessian(loss)(current_weights)\n",
        "    H = (H + H.T) / 2\n",
        "    evals, evectors = jnp.linalg.eig(H)\n",
        "    evals = jnp.array([jax.lax.real(eval) for eval in evals])\n",
        "\n",
        "    for idx, eval in enumerate(evals):\n",
        "      if eval >= 1e-10:\n",
        "        continue\n",
        "      \n",
        "      current_evector = np.array([jax.lax.real(elem) for elem in evectors[:, idx]])\n",
        "\n",
        "      new_weights = current_weights + eps * current_evector\n",
        "      new_weights_identifier = tuple(np.array([elem for elem in (np.asarray(weights_identifier) + current_evector)]))\n",
        "\n",
        "      if jnp.linalg.norm(grad(loss)(new_weights)) <= 1e-9:\n",
        "        q.append((new_weights, new_weights_identifier))\n",
        "\n",
        "      new_weights = current_weights - eps * current_evector\n",
        "      new_weights_identifier = tuple(np.array([elem for elem in (np.asarray(weights_identifier) - current_evector)]))\n",
        "\n",
        "      if jnp.linalg.norm(grad(loss)(new_weights)) <= 1e-9:\n",
        "        q.append((new_weights, new_weights_identifier))\n",
        "\n",
        "\n",
        "\n",
        "pos_perturb_losses = []\n",
        "run_perturbation_algo(weights, pos_perturb_losses)\n",
        "\n",
        "neg_perturb_losses = []\n",
        "run_perturbation_algo(weights, pos_perturb_losses)\n",
        "\n",
        "\n",
        "print(pos_perturb_losses)\n",
        "print(neg_perturb_losses)\n",
        "\n",
        "print(min(pos_perturb_losses))"
      ]
    },
    {
      "cell_type": "code",
      "execution_count": 127,
      "metadata": {
        "id": "7ZCyDk0eXAim",
        "colab": {
          "base_uri": "https://localhost:8080/",
          "height": 843
        },
        "outputId": "417dab9c-6827-4a4d-8c34-810b42d58664"
      },
      "outputs": [
        {
          "output_type": "stream",
          "name": "stderr",
          "text": [
            "/usr/local/lib/python3.7/dist-packages/matplotlib/cbook/__init__.py:1317: ComplexWarning: Casting complex values to real discards the imaginary part\n",
            "  return np.asarray(x, float)\n"
          ]
        },
        {
          "output_type": "execute_result",
          "data": {
            "text/plain": [
              "Text(0, 0.5, 'gradient norm')"
            ]
          },
          "metadata": {},
          "execution_count": 127
        },
        {
          "output_type": "display_data",
          "data": {
            "text/plain": [
              "<Figure size 1440x1008 with 9 Axes>"
            ],
            "image/png": "[encoded data removed]"
          },
          "metadata": {
            "needs_background": "light"
          }
        }
      ],
      "source": [
        "fig, axs = plt.subplots(3, 3)\n",
        "fig.set_size_inches(20, 14)\n",
        "fig.suptitle('Evolution of loss, smallest eval, and grad norm under perturbation')\n",
        "\n",
        "axs[0, 0].plot(np.arange(perturb_lower_bound, perturb_upper_bound, perturb_step), perturb_losses)\n",
        "axs[0, 0].ticklabel_format(useOffset=False)\n",
        "axs[0, 0].set_xlabel('perturbation factor')\n",
        "axs[0, 0].set_ylabel('loss')\n",
        "\n",
        "axs[0, 1].plot(np.arange(perturb_lower_bound, perturb_upper_bound, perturb_step), perturb_evals)\n",
        "axs[0, 1].set_xlabel('perturbation factor')\n",
        "axs[0, 1].set_ylabel('smallest eval')\n",
        "\n",
        "axs[0, 2].plot(np.arange(perturb_lower_bound, perturb_upper_bound, perturb_step), perturb_grads)\n",
        "axs[0, 2].set_xlabel('perturbation factor')\n",
        "axs[0, 2].set_ylabel('gradient norm')\n"
      ]
    }
  ],
  "metadata": {
    "colab": {
      "collapsed_sections": [],
      "name": "Investigation - Escaping local minima.ipynb",
      "provenance": [],
      "authorship_tag": "ABX9TyPXRYoyuFFJ0HG6/40mgTdk",
      "include_colab_link": true
    },
    "kernelspec": {
      "display_name": "Python 3",
      "name": "python3"
    },
    "language_info": {
      "name": "python"
    }
  },
  "nbformat": 4,
  "nbformat_minor": 0
}