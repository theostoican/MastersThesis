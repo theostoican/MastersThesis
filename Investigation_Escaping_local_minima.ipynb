{
  "nbformat": 4,
  "nbformat_minor": 0,
  "metadata": {
    "colab": {
      "name": "Investigation - Escaping local minima.ipynb",
      "provenance": [],
      "authorship_tag": "ABX9TyO9Xhv9w72slEsOqlcwwhqp",
      "include_colab_link": true
    },
    "kernelspec": {
      "name": "python3",
      "display_name": "Python 3"
    },
    "language_info": {
      "name": "python"
    }
  },
  "cells": [
    {
      "cell_type": "markdown",
      "metadata": {
        "id": "view-in-github",
        "colab_type": "text"
      },
      "source": [
        "<a href=\"https://colab.research.google.com/github/theostoican/MastersThesis/blob/main/Investigation_Escaping_local_minima.ipynb\" target=\"_parent\"><img src=\"https://colab.research.google.com/assets/colab-badge.svg\" alt=\"Open In Colab\"/></a>"
      ]
    },
    {
      "cell_type": "code",
      "execution_count": 1,
      "metadata": {
        "id": "1jRTYpl-n3n_"
      },
      "outputs": [],
      "source": [
        "import matplotlib.pyplot as plt\n",
        "import matplotlib\n",
        "import pandas as pd\n",
        "import numpy as np\n",
        "\n",
        "import torch\n",
        "import torch.nn as nn\n",
        "from torch.autograd import Variable"
      ]
    },
    {
      "cell_type": "markdown",
      "source": [
        "# Models"
      ],
      "metadata": {
        "id": "qUaY47kc15hI"
      }
    },
    {
      "cell_type": "markdown",
      "source": [
        "A dummy network that receives as input the precomputed incoming and outgoing weights and sets them directly."
      ],
      "metadata": {
        "id": "182WjNG218yF"
      }
    },
    {
      "cell_type": "code",
      "source": [
        "torch.set_default_dtype(torch.float64)\n",
        "class DummyNetwork(nn.Module):\n",
        "  def __init__(self, D_in, H, D_out, w_in, w_out):\n",
        "    \"\"\"\n",
        "    In the constructor we instantiate two nn.Linear modules and assign them as\n",
        "    member variables.\n",
        "\n",
        "    D_in: input dimension\n",
        "    H: dimension of hidden layer\n",
        "    D_out: output dimension of the first layer\n",
        "    \"\"\"\n",
        "    super(DummyNetwork, self).__init__()\n",
        "    self.linear1 = nn.Linear(D_in, H, bias=False)\n",
        "    self.linear2 = nn.Linear(H, D_out, bias=False)\n",
        "    self.linear1.weight = torch.nn.Parameter(w_in)\n",
        "    self.linear2.weight = torch.nn.Parameter(w_out)\n",
        "  def forward(self, x):\n",
        "    \"\"\"\n",
        "    In the forward function we accept a Variable of input data and we must\n",
        "    return a Variable of output data. We can use Modules defined in the\n",
        "    constructor as well as arbitrary operators on Variables.\n",
        "    \"\"\"\n",
        "    h_sigmoid = torch.sigmoid(self.linear1(x))\n",
        "    y_pred = self.linear2(h_sigmoid)\n",
        "    return y_pred"
      ],
      "metadata": {
        "id": "CoW3Kz1x1_KB"
      },
      "execution_count": 2,
      "outputs": []
    },
    {
      "cell_type": "code",
      "source": [
        "class TeacherNetwork(nn.Module):\n",
        "  def __init__(self, D_in, H, D_out):\n",
        "    \"\"\"\n",
        "    In the constructor we instantiate two nn.Linear modules and assign them as\n",
        "    member variables.\n",
        "\n",
        "    D_in: input dimension\n",
        "    H: dimension of hidden layer\n",
        "    D_out: output dimension of the first layer\n",
        "    \"\"\"\n",
        "    super(TeacherNetwork, self).__init__()\n",
        "    self.linear1 = nn.Linear(D_in, H, bias=False)\n",
        "    self.linear2 = nn.Linear(H, D_out, bias=False)\n",
        "    self.linear1.weight = torch.nn.Parameter(torch.transpose(torch.DoubleTensor([[0.6, -0.5, -0.2, 0.1], [0.5, 0.5, -0.6, -0.6]]), 0, 1))\n",
        "    self.linear2.weight = torch.nn.Parameter(torch.transpose(torch.DoubleTensor([[1], [-1], [1], [-1]]), 0, 1))\n",
        "  def forward(self, x):\n",
        "    \"\"\"\n",
        "    In the forward function we accept a Variable of input data and we must\n",
        "    return a Variable of output data. We can use Modules defined in the\n",
        "    constructor as well as arbitrary operators on Variables.\n",
        "    \"\"\"\n",
        "    h_sigmoid = torch.sigmoid(self.linear1(x))\n",
        "    y_pred = self.linear2(h_sigmoid)\n",
        "    return y_pred"
      ],
      "metadata": {
        "id": "o5cHiIOu2D9f"
      },
      "execution_count": 3,
      "outputs": []
    },
    {
      "cell_type": "markdown",
      "source": [
        "# Dataset"
      ],
      "metadata": {
        "id": "XMryNAxQ2GU3"
      }
    },
    {
      "cell_type": "code",
      "source": [
        "D_in, H_teacher, H_student, D_out = 2, 4, 5, 1\n",
        "\n",
        "def construct_dataset():\n",
        "  data = []\n",
        "  for y in np.arange(-5, 5.1, .25):\n",
        "    for x in np.arange(-5, 5.1, .25):\n",
        "      data.append([x, y])\n",
        "  return data\n",
        "\n",
        "dataset = torch.DoubleTensor(construct_dataset()) \n",
        "print(len(construct_dataset()))"
      ],
      "metadata": {
        "colab": {
          "base_uri": "https://localhost:8080/"
        },
        "id": "AX_oMWbv2G78",
        "outputId": "0b3ce39c-807c-4774-df1b-7d191d0c8b02"
      },
      "execution_count": 4,
      "outputs": [
        {
          "output_type": "stream",
          "name": "stdout",
          "text": [
            "1681\n"
          ]
        }
      ]
    },
    {
      "cell_type": "markdown",
      "source": [
        "# Labels"
      ],
      "metadata": {
        "id": "0qdpnQd32PkB"
      }
    },
    {
      "cell_type": "code",
      "source": [
        "teacher_model = TeacherNetwork(D_in, H_teacher, D_out)\n",
        "y_labels = teacher_model(dataset).detach()"
      ],
      "metadata": {
        "id": "qO9N58LW2QBm"
      },
      "execution_count": 5,
      "outputs": []
    },
    {
      "cell_type": "code",
      "source": [
        "data = pd.read_csv('fixed_points.csv', float_precision='round_trip')\n",
        "\n",
        "len(data)"
      ],
      "metadata": {
        "colab": {
          "base_uri": "https://localhost:8080/"
        },
        "id": "RnMJEjtBqvz-",
        "outputId": "aee44a2e-b4ac-450d-aff0-135cbf982c0f"
      },
      "execution_count": 6,
      "outputs": [
        {
          "output_type": "execute_result",
          "data": {
            "text/plain": [
              "1000"
            ]
          },
          "metadata": {},
          "execution_count": 6
        }
      ]
    },
    {
      "cell_type": "code",
      "source": [
        "sample_point = data.loc[607]\n",
        "sample_point['gradient_norm']"
      ],
      "metadata": {
        "colab": {
          "base_uri": "https://localhost:8080/"
        },
        "id": "tU1QGdtLq2mO",
        "outputId": "21330956-89ff-4b2e-d207-a365d2404804"
      },
      "execution_count": 7,
      "outputs": [
        {
          "output_type": "execute_result",
          "data": {
            "text/plain": [
              "4.670743975388682e-10"
            ]
          },
          "metadata": {},
          "execution_count": 7
        }
      ]
    },
    {
      "cell_type": "markdown",
      "source": [
        "### Helper for extracting the weights from one data point."
      ],
      "metadata": {
        "id": "ueyRqoqF2bNm"
      }
    },
    {
      "cell_type": "code",
      "source": [
        "def extract_weights(data_point):\n",
        "  incoming_weights_x = [data_point['w11'],\n",
        "                      data_point['w21'],\n",
        "                      data_point['w31'],\n",
        "                      data_point['w41'],\n",
        "                      data_point['w51']]\n",
        "  incoming_weights_y = [data_point['w12'],\n",
        "                      data_point['w22'],\n",
        "                      data_point['w32'],\n",
        "                      data_point['w42'],\n",
        "                      data_point['w52']]\n",
        "  outgoing_weights = [data_point['a1'],\n",
        "                    data_point['a2'],\n",
        "                    data_point['a3'],\n",
        "                    data_point['a4'],\n",
        "                    data_point['a5']]\n",
        "  return incoming_weights_x, incoming_weights_y, outgoing_weights"
      ],
      "metadata": {
        "id": "cVYwzm-w24Go"
      },
      "execution_count": 8,
      "outputs": []
    },
    {
      "cell_type": "code",
      "source": [
        "incoming_weights_x, incoming_weights_y, outgoing_weights = extract_weights(sample_point)\n",
        "print(incoming_weights_x)\n",
        "print(incoming_weights_y)\n",
        "print(outgoing_weights)"
      ],
      "metadata": {
        "colab": {
          "base_uri": "https://localhost:8080/"
        },
        "id": "ewEnp0jR0k6_",
        "outputId": "37a501f0-c757-4c44-d48c-952f5103239f"
      },
      "execution_count": 9,
      "outputs": [
        {
          "output_type": "stream",
          "name": "stdout",
          "text": [
            "[-0.721622376427556, 0.009981938316047396, -0.7895573911224271, 0.931906112443716, 0.7159194363005216]\n",
            "[0.9723139083711508, -0.002084526713388381, 0.4291065153145603, 0.610372897939371, -0.9829965483176891]\n",
            "[-6.4472439242073, 12.448757337236426, -0.18947619090330503, 0.435027748482749, -6.247064970775467]\n"
          ]
        }
      ]
    },
    {
      "cell_type": "markdown",
      "source": [
        "# Helper for computing the norm of the gradient."
      ],
      "metadata": {
        "id": "_5NDHQ0CcX2s"
      }
    },
    {
      "cell_type": "code",
      "source": [
        "def eval_grad_norm(loss_grad, model):\n",
        "  cnt = 0\n",
        "  for g in loss_grad:\n",
        "      g_vector = g.contiguous().view(-1) if cnt == 0 else torch.cat([g_vector, g.contiguous().view(-1)])\n",
        "      cnt = 1\n",
        "  grad_norm = torch.norm(g_vector)\n",
        "  return grad_norm.detach().numpy()"
      ],
      "metadata": {
        "id": "JNinsdYncaFu"
      },
      "execution_count": 10,
      "outputs": []
    },
    {
      "cell_type": "markdown",
      "source": [
        "## Smallest eigenvalue using JAX"
      ],
      "metadata": {
        "id": "prjlJN2MQXmu"
      }
    },
    {
      "cell_type": "code",
      "source": [
        "import jax.numpy as jnp\n",
        "from jax import nn as jax_nn\n",
        "from jax.config import config; config.update(\"jax_enable_x64\", True)\n",
        "jnp.set_printoptions(precision=32) \n",
        "\n",
        "jnp_inputs = jnp.array(construct_dataset(), dtype=jnp.float64)\n",
        "jnp_labels = jnp.array(teacher_model(dataset).detach(), dtype=jnp.float64)\n",
        "\n",
        "def predict(w_in, w_out):\n",
        "  return w_out @ jnp.transpose(jax_nn.sigmoid(jnp_inputs @ jnp.transpose(w_in)))\n",
        "\n",
        "w_in = jnp.array([[incoming_weights_x[0], incoming_weights_y[0]],\n",
        "                  [incoming_weights_x[1], incoming_weights_y[1]],\n",
        "                  [incoming_weights_x[2], incoming_weights_y[2]],\n",
        "                  [incoming_weights_x[3], incoming_weights_y[3]],\n",
        "                  [incoming_weights_x[4], incoming_weights_y[4]]], dtype=jnp.float64)\n",
        "w_out = jnp.array(outgoing_weights, dtype=jnp.float64)"
      ],
      "metadata": {
        "id": "rWPIRfmUQNyA",
        "colab": {
          "base_uri": "https://localhost:8080/"
        },
        "outputId": "477669f5-3c05-4a47-cb67-74a441989dbc"
      },
      "execution_count": 11,
      "outputs": [
        {
          "output_type": "stream",
          "name": "stderr",
          "text": [
            "WARNING:absl:No GPU/TPU found, falling back to CPU. (Set TF_CPP_MIN_LOG_LEVEL=0 and rerun for more info.)\n"
          ]
        }
      ]
    },
    {
      "cell_type": "markdown",
      "source": [
        "### Loss in JAX"
      ],
      "metadata": {
        "id": "yRjvShq-4oZc"
      }
    },
    {
      "cell_type": "markdown",
      "source": [
        "Loss of the network computed in JAX."
      ],
      "metadata": {
        "id": "-1Hr2t294q7S"
      }
    },
    {
      "cell_type": "code",
      "source": [
        "def loss(w):\n",
        "  w_in = w[0 : 2 * H_student].reshape(D_in, H_student).T\n",
        "  w_out = w[2 * H_student : ].reshape(1, H_student)\n",
        "  preds = predict(w_in, w_out).T\n",
        "  return jnp.mean(jnp.mean(jnp.square(preds - jnp_labels)))\n",
        "print(loss(jnp.append(w_in.T.reshape(D_in * H_student), w_out.reshape(H_student))))"
      ],
      "metadata": {
        "colab": {
          "base_uri": "https://localhost:8080/"
        },
        "id": "CQFNY_VC4ou9",
        "outputId": "5af8e911-deb4-409f-8b52-e89b95661b3d"
      },
      "execution_count": 12,
      "outputs": [
        {
          "output_type": "stream",
          "name": "stdout",
          "text": [
            "7.587703102877081e-05\n"
          ]
        }
      ]
    },
    {
      "cell_type": "markdown",
      "source": [
        "### Hessian in JAX"
      ],
      "metadata": {
        "id": "aRVABYEN4xBn"
      }
    },
    {
      "cell_type": "code",
      "source": [
        "from jax import jacfwd, jacrev, grad\n",
        "import jax\n",
        "\n",
        "def hessian(f):\n",
        "  return jacfwd(jacrev(f))\n",
        "\n",
        "H = hessian(loss)(jnp.append(w_in.T.reshape(D_in * H_student), w_out.reshape(H_student)))"
      ],
      "metadata": {
        "id": "p1apyMTV4xaK"
      },
      "execution_count": 13,
      "outputs": []
    },
    {
      "cell_type": "markdown",
      "source": [
        "### Eigenvalues in JAX"
      ],
      "metadata": {
        "id": "q9KNg37G4zRi"
      }
    },
    {
      "cell_type": "code",
      "source": [
        "evals, evectors = jnp.linalg.eig(H)\n",
        "\n",
        "# Sanity check\n",
        "for eval in jnp.array([jax.lax.imag(eval) for eval in evals]):\n",
        "  assert eval == 0\n",
        "\n",
        "evals = jnp.array([jax.lax.real(eval) for eval in evals])\n",
        "print(evals)\n",
        "smallest_evector = jnp.array([jax.lax.real(elem) for elem in evectors[:, jnp.argmin(evals)]])\n",
        "print(smallest_evector)"
      ],
      "metadata": {
        "colab": {
          "base_uri": "https://localhost:8080/"
        },
        "id": "qm9RiKY-400C",
        "outputId": "5a951407-52af-4c56-92f0-843205c39ca2"
      },
      "execution_count": 14,
      "outputs": [
        {
          "output_type": "stream",
          "name": "stdout",
          "text": [
            "[1.9661510566454228e+02 1.7067565618577737e+02 8.2240063335935503e+00\n",
            " 1.6456484611399178e+00 2.5053325852619071e+00 2.2758157324449094e-02\n",
            " 2.1665944640038608e-02 1.5000696958789391e-02 2.7700169575399177e-03\n",
            " 1.4904480165225682e-03 3.5998575570423113e-04 8.4739859937360893e-05\n",
            " 7.8386779375810232e-05 7.3419441055136274e-06 7.4832480919459265e-11]\n",
            "[-1.8751378443591056e-04  6.5548468972196499e-04 -1.6872547684918539e-05\n",
            "  6.1674460032795214e-06 -1.7888689159182121e-04 -3.2986518636348111e-04\n",
            " -1.3679126375992339e-04  7.6639344632622640e-06  5.9385449093489760e-06\n",
            " -3.5842037042500510e-04  4.0823915242585868e-01 -8.1650106640113707e-01\n",
            "  1.9497189426836680e-05 -5.1176041642132899e-06  4.0824753441900763e-01]\n"
          ]
        }
      ]
    },
    {
      "cell_type": "markdown",
      "source": [
        "## Perturbation (based on JAX evectors)"
      ],
      "metadata": {
        "id": "ygRF64EF46OI"
      }
    },
    {
      "cell_type": "code",
      "source": [
        "old_loss = loss(jnp.append(w_in.T.reshape(D_in * H_student), w_out.reshape(H_student)))\n",
        "\n",
        "perturb_lower_bound = -4.0\n",
        "perturb_upper_bound = 4.0\n",
        "perturb_step = 0.01\n",
        "\n",
        "perturb_losses = []\n",
        "perturb_evals = []\n",
        "perturb_grads = []\n",
        "\n",
        "weights = jnp.append(w_in.T.reshape(D_in * H_student), w_out.reshape(H_student))\n",
        "for eps in np.arange(perturb_lower_bound, perturb_upper_bound, perturb_step):\n",
        "  new_weights = weights + eps * smallest_evector\n",
        "  # print(new_weights[0 : D_in * H_student].reshape(D_in, H_student).T)\n",
        "  # w_in = torch.DoubleTensor(new_weights[0 : D_in * H_student].reshape(D_in, H_student).T)\n",
        "  # w_out = torch.DoubleTensor([new_weights[D_in * H_student:]])\n",
        "  # dummy_model = DummyNetwork(D_in, H_student, D_out, w_in, w_out)\n",
        "  # loss_grad = torch.autograd.grad(nn.MSELoss()(dummy_model(dataset),\n",
        "  #                                              y_labels),\n",
        "  #                                 dummy_model.parameters(),\n",
        "  #                                 create_graph=True)\n",
        "  sign = 1 if eps > 0 else -1\n",
        "  # perturb_grads.append(jnp.dot(grad(loss)(new_weights), sign * smallest_evector))\n",
        "  perturb_grads.append(jnp.linalg.norm(grad(loss)(new_weights)))\n",
        "  \n",
        "  H = hessian(loss)(new_weights)\n",
        "  H = (H + H.T) / 2\n",
        "  evals, _ = jnp.linalg.eig(H)\n",
        "\n",
        "  perturb_evals.append(min(evals))\n",
        "  perturb_losses.append(loss(new_weights))\n",
        "\n",
        "fig, (ax1, ax2, ax3) = plt.subplots(1, 3)\n",
        "fig.set_size_inches(17, 3.5)\n",
        "fig.suptitle('Evolution of loss and smallest eval under perturbation')\n",
        "\n",
        "ax1.plot(np.arange(perturb_lower_bound, perturb_upper_bound, perturb_step), perturb_losses)\n",
        "ax1.ticklabel_format(useOffset=False)\n",
        "ax1.set_xlabel('perturbation factor')\n",
        "ax1.set_ylabel('loss')\n",
        "\n",
        "ax2.plot(np.arange(perturb_lower_bound, perturb_upper_bound, perturb_step), perturb_evals)\n",
        "ax2.set_xlabel('perturbation factor')\n",
        "ax2.set_ylabel('smallest eval')\n",
        "\n",
        "ax3.plot(np.arange(perturb_lower_bound, perturb_upper_bound, perturb_step), perturb_grads)\n",
        "ax3.set_xlabel('perturbation factor')\n",
        "ax3.set_ylabel('gradient norm')"
      ],
      "metadata": {
        "colab": {
          "base_uri": "https://localhost:8080/",
          "height": 348
        },
        "id": "mr1u_WGe490C",
        "outputId": "84c55e33-8dd0-4237-c005-022eb326cfa4"
      },
      "execution_count": 15,
      "outputs": [
        {
          "output_type": "stream",
          "name": "stderr",
          "text": [
            "/usr/local/lib/python3.7/dist-packages/matplotlib/cbook/__init__.py:1317: ComplexWarning: Casting complex values to real discards the imaginary part\n",
            "  return np.asarray(x, float)\n"
          ]
        },
        {
          "output_type": "execute_result",
          "data": {
            "text/plain": [
              "Text(0, 0.5, 'gradient norm')"
            ]
          },
          "metadata": {},
          "execution_count": 15
        },
        {
          "output_type": "display_data",
          "data": {
            "image/png": "[encoded data removed]",
            "text/plain": [
              "<Figure size 1224x252 with 3 Axes>"
            ]
          },
          "metadata": {
            "needs_background": "light"
          }
        }
      ]
    },
    {
      "cell_type": "markdown",
      "source": [
        "Check the smallest eigenvectors at perturbation factor \\in {-1, 1}."
      ],
      "metadata": {
        "id": "TOgEv-Tt9t52"
      }
    },
    {
      "cell_type": "code",
      "source": [
        "new_weights = weights - 0.4 * smallest_evector\n",
        "H = hessian(loss)(new_weights)\n",
        "H = (H + H.T) / 2\n",
        "evals, evectors = jnp.linalg.eig(H)\n",
        "# Sanity check\n",
        "for eval in jnp.array([jax.lax.imag(eval) for eval in evals]):\n",
        "  assert eval == 0\n",
        "\n",
        "evals = jnp.array([jax.lax.real(eval) for eval in evals])\n",
        "smallest_evector_left = jnp.array([jax.lax.real(elem) for elem in evectors[:, jnp.argmin(evals)]])\n",
        "smallest_evector_left"
      ],
      "metadata": {
        "colab": {
          "base_uri": "https://localhost:8080/"
        },
        "id": "TaKHBuCq9ymq",
        "outputId": "26b24bc0-22e1-4f5e-d61a-179f7a9f59f9"
      },
      "execution_count": 16,
      "outputs": [
        {
          "output_type": "execute_result",
          "data": {
            "text/plain": [
              "DeviceArray([-2.1399963703306601e-03,  5.4972816657006393e-04,\n",
              "              6.3326206204000687e-03, -1.9116188460432753e-03,\n",
              "              1.8466796041539323e-03,  5.0576318994964417e-03,\n",
              "             -1.3289597222773610e-04,  4.8561581604073447e-03,\n",
              "             -1.6185232550214930e-03, -5.5407753288447617e-03,\n",
              "              4.1321088585186327e-01, -8.1447702869298921e-01,\n",
              "             -7.2114205913908977e-03,  1.4206590390472378e-03,\n",
              "              4.0705695292141708e-01], dtype=float64)"
            ]
          },
          "metadata": {},
          "execution_count": 16
        }
      ]
    },
    {
      "cell_type": "code",
      "source": [
        "new_weights = weights + 0.4 * smallest_evector\n",
        "H = hessian(loss)(new_weights)\n",
        "H = (H + H.T) / 2\n",
        "evals, evectors = jnp.linalg.eig(H)\n",
        "# Sanity check\n",
        "for eval in jnp.array([jax.lax.imag(eval) for eval in evals]):\n",
        "  assert eval == 0\n",
        "print(min(evals))\n",
        "evals = jnp.array([jax.lax.real(eval) for eval in evals])\n",
        "print(min(evals))\n",
        "\n",
        "smallest_evector_right = jnp.array([jax.lax.real(elem) for elem in evectors[:, jnp.argmin(evals)]])\n",
        "print(min(evals))\n",
        "smallest_evector_right"
      ],
      "metadata": {
        "colab": {
          "base_uri": "https://localhost:8080/"
        },
        "id": "r_eQeddkAgrs",
        "outputId": "4b0c8074-1cf2-4cf2-c71b-9e299896c3d2"
      },
      "execution_count": 17,
      "outputs": [
        {
          "output_type": "stream",
          "name": "stdout",
          "text": [
            "(1.4937008327532528e-07+0j)\n",
            "1.4937008327532528e-07\n",
            "1.4937008327532528e-07\n"
          ]
        },
        {
          "output_type": "execute_result",
          "data": {
            "text/plain": [
              "DeviceArray([-2.2701649608114307e-03,  6.1056150304198700e-04,\n",
              "              6.6817358057679075e-03, -2.0138242775562237e-03,\n",
              "              1.9453232583187781e-03,  5.3374842952437340e-03,\n",
              "             -1.4757760317406454e-04,  5.1319417031620183e-03,\n",
              "             -1.7052416901839247e-03, -5.8728427938148616e-03,\n",
              "              4.1348816192381771e-01, -8.1435757485357541e-01,\n",
              "             -7.6149206019209166e-03,  1.4969244194340721e-03,\n",
              "              4.0698746314278506e-01], dtype=float64)"
            ]
          },
          "metadata": {},
          "execution_count": 17
        }
      ]
    },
    {
      "cell_type": "code",
      "source": [
        "perturb_losses_new_smallest_evector = []\n",
        "perturb_evals_new_smallest_evector = []\n",
        "\n",
        "weights_new_smallest_evector = weights - 0.4 * smallest_evector\n",
        "for eps in np.arange(perturb_lower_bound, perturb_upper_bound, perturb_step):\n",
        "  new_weights = weights_new_smallest_evector + eps * smallest_evector_left\n",
        "  \n",
        "  H = hessian(loss)(new_weights)\n",
        "  H = (H + H.T) / 2\n",
        "  evals, _ = jnp.linalg.eig(H)\n",
        "\n",
        "  perturb_evals_new_smallest_evector.append(min(evals))\n",
        "  perturb_losses_new_smallest_evector.append(loss(new_weights))\n",
        "\n",
        "fig, (ax1, ax2) = plt.subplots(1, 2)\n",
        "fig.set_size_inches(14.5, 6.5)\n",
        "fig.suptitle('Evolution of loss and smallest eval under perturbation')\n",
        "ax1.plot(np.arange(perturb_lower_bound, perturb_upper_bound, perturb_step), perturb_losses_new_smallest_evector)\n",
        "ax1.ticklabel_format(useOffset=False)\n",
        "ax1.set_xlabel('perturbation factor')\n",
        "ax1.set_ylabel('loss')\n",
        "\n",
        "ax2.plot(np.arange(perturb_lower_bound, perturb_upper_bound, perturb_step), perturb_evals_new_smallest_evector)\n",
        "ax2.set_xlabel('perturbation factor')\n",
        "ax2.set_ylabel('smallest eval')"
      ],
      "metadata": {
        "colab": {
          "base_uri": "https://localhost:8080/",
          "height": 535
        },
        "id": "Py9UFsBUCDCZ",
        "outputId": "601cf42f-c393-4ea1-d794-8e0222d0d366"
      },
      "execution_count": 18,
      "outputs": [
        {
          "output_type": "stream",
          "name": "stderr",
          "text": [
            "/usr/local/lib/python3.7/dist-packages/matplotlib/cbook/__init__.py:1317: ComplexWarning: Casting complex values to real discards the imaginary part\n",
            "  return np.asarray(x, float)\n"
          ]
        },
        {
          "output_type": "execute_result",
          "data": {
            "text/plain": [
              "Text(0, 0.5, 'smallest eval')"
            ]
          },
          "metadata": {},
          "execution_count": 18
        },
        {
          "output_type": "display_data",
          "data": {
            "image/png": "[encoded data removed]",
            "text/plain": [
              "<Figure size 1044x468 with 2 Axes>"
            ]
          },
          "metadata": {
            "needs_background": "light"
          }
        }
      ]
    },
    {
      "cell_type": "code",
      "source": [
        "def run_perturbation_algo():\n",
        "  perturb_losses = []\n",
        "  eps = 1e-10\n",
        "\n",
        "  current_weights = weights\n",
        "  perturb_losses.append(loss(current_weights))\n",
        "  current_evector = smallest_evector\n",
        "  # print(current_evector)\n",
        "  while True:\n",
        "    current_weights = current_weights + eps * current_evector\n",
        "    # print(abs(jnp.dot(grad(loss)(current_weights), current_evector)))\n",
        "    if jnp.linalg.norm(grad(loss)(current_weights)) >= 1e-9:\n",
        "      break\n",
        "    \n",
        "    H = hessian(loss)(new_weights)\n",
        "    H = (H + H.T) / 2\n",
        "    evals, evectors = jnp.linalg.eig(H)\n",
        "    evals = jnp.array([jax.lax.real(eval) for eval in evals])\n",
        "    current_evector = jnp.array([jax.lax.real(elem) for elem in evectors[:, jnp.argmin(evals)]])\n",
        "    perturb_losses.append(loss(current_weights))\n",
        "  \n",
        "  return perturb_losses\n",
        "\n",
        "losses = run_perturbation_algo()\n",
        "print(losses)\n",
        "print(min(losses))"
      ],
      "metadata": {
        "colab": {
          "base_uri": "https://localhost:8080/"
        },
        "id": "HszHKa---8Pz",
        "outputId": "654969d8-1582-4542-d679-7d4fd68e3ce6"
      },
      "execution_count": 20,
      "outputs": [
        {
          "output_type": "stream",
          "name": "stdout",
          "text": [
            "[DeviceArray(7.587703102877081e-05, dtype=float64), DeviceArray(7.587703102877038e-05, dtype=float64), DeviceArray(7.587703102877045e-05, dtype=float64), DeviceArray(7.587703102877096e-05, dtype=float64), DeviceArray(7.587703102877034e-05, dtype=float64), DeviceArray(7.587703102877173e-05, dtype=float64), DeviceArray(7.587703102877066e-05, dtype=float64), DeviceArray(7.587703102877096e-05, dtype=float64), DeviceArray(7.58770310287708e-05, dtype=float64), DeviceArray(7.587703102877053e-05, dtype=float64), DeviceArray(7.587703102877088e-05, dtype=float64)]\n",
            "7.587703102877034e-05\n"
          ]
        }
      ]
    }
  ]
}