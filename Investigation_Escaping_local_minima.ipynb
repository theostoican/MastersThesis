{
  "nbformat": 4,
  "nbformat_minor": 0,
  "metadata": {
    "colab": {
      "name": "Investigation - Escaping local minima.ipynb",
      "provenance": [],
      "collapsed_sections": [],
      "authorship_tag": "ABX9TyPsQC9ChUSvV45rnxh5Rtie",
      "include_colab_link": true
    },
    "kernelspec": {
      "name": "python3",
      "display_name": "Python 3"
    },
    "language_info": {
      "name": "python"
    }
  },
  "cells": [
    {
      "cell_type": "markdown",
      "metadata": {
        "id": "view-in-github",
        "colab_type": "text"
      },
      "source": [
        "<a href=\"https://colab.research.google.com/github/theostoican/MastersThesis/blob/main/Investigation_Escaping_local_minima.ipynb\" target=\"_parent\"><img src=\"https://colab.research.google.com/assets/colab-badge.svg\" alt=\"Open In Colab\"/></a>"
      ]
    },
    {
      "cell_type": "code",
      "execution_count": 43,
      "metadata": {
        "id": "1jRTYpl-n3n_"
      },
      "outputs": [],
      "source": [
        "import matplotlib.pyplot as plt\n",
        "import matplotlib\n",
        "import pandas as pd\n",
        "import numpy as np\n",
        "\n",
        "import torch\n",
        "import torch.nn as nn\n",
        "from torch.autograd import Variable"
      ]
    },
    {
      "cell_type": "markdown",
      "source": [
        "# Models"
      ],
      "metadata": {
        "id": "qUaY47kc15hI"
      }
    },
    {
      "cell_type": "markdown",
      "source": [
        "A dummy network that receives as input the precomputed incoming and outgoing weights and sets them directly."
      ],
      "metadata": {
        "id": "182WjNG218yF"
      }
    },
    {
      "cell_type": "code",
      "source": [
        "torch.set_default_dtype(torch.float64)\n",
        "class DummyNetwork(nn.Module):\n",
        "  def __init__(self, D_in, H, D_out, w_in, w_out):\n",
        "    \"\"\"\n",
        "    In the constructor we instantiate two nn.Linear modules and assign them as\n",
        "    member variables.\n",
        "\n",
        "    D_in: input dimension\n",
        "    H: dimension of hidden layer\n",
        "    D_out: output dimension of the first layer\n",
        "    \"\"\"\n",
        "    super(DummyNetwork, self).__init__()\n",
        "    self.linear1 = nn.Linear(D_in, H, bias=False)\n",
        "    self.linear2 = nn.Linear(H, D_out, bias=False)\n",
        "    self.linear1.weight = torch.nn.Parameter(w_in)\n",
        "    self.linear2.weight = torch.nn.Parameter(w_out)\n",
        "  def forward(self, x):\n",
        "    \"\"\"\n",
        "    In the forward function we accept a Variable of input data and we must\n",
        "    return a Variable of output data. We can use Modules defined in the\n",
        "    constructor as well as arbitrary operators on Variables.\n",
        "    \"\"\"\n",
        "    h_sigmoid = torch.sigmoid(self.linear1(x))\n",
        "    y_pred = self.linear2(h_sigmoid)\n",
        "    return y_pred"
      ],
      "metadata": {
        "id": "CoW3Kz1x1_KB"
      },
      "execution_count": 44,
      "outputs": []
    },
    {
      "cell_type": "code",
      "source": [
        "class TeacherNetwork(nn.Module):\n",
        "  def __init__(self, D_in, H, D_out):\n",
        "    \"\"\"\n",
        "    In the constructor we instantiate two nn.Linear modules and assign them as\n",
        "    member variables.\n",
        "\n",
        "    D_in: input dimension\n",
        "    H: dimension of hidden layer\n",
        "    D_out: output dimension of the first layer\n",
        "    \"\"\"\n",
        "    super(TeacherNetwork, self).__init__()\n",
        "    self.linear1 = nn.Linear(D_in, H, bias=False)\n",
        "    self.linear2 = nn.Linear(H, D_out, bias=False)\n",
        "    self.linear1.weight = torch.nn.Parameter(torch.transpose(torch.DoubleTensor([[0.6, -0.5, -0.2, 0.1], [0.5, 0.5, -0.6, -0.6]]), 0, 1))\n",
        "    self.linear2.weight = torch.nn.Parameter(torch.transpose(torch.DoubleTensor([[1], [-1], [1], [-1]]), 0, 1))\n",
        "  def forward(self, x):\n",
        "    \"\"\"\n",
        "    In the forward function we accept a Variable of input data and we must\n",
        "    return a Variable of output data. We can use Modules defined in the\n",
        "    constructor as well as arbitrary operators on Variables.\n",
        "    \"\"\"\n",
        "    h_sigmoid = torch.sigmoid(self.linear1(x))\n",
        "    y_pred = self.linear2(h_sigmoid)\n",
        "    return y_pred"
      ],
      "metadata": {
        "id": "o5cHiIOu2D9f"
      },
      "execution_count": 45,
      "outputs": []
    },
    {
      "cell_type": "markdown",
      "source": [
        "# Dataset"
      ],
      "metadata": {
        "id": "XMryNAxQ2GU3"
      }
    },
    {
      "cell_type": "code",
      "source": [
        "D_in, H_teacher, H_student, D_out = 2, 4, 5, 1\n",
        "\n",
        "def construct_dataset():\n",
        "  data = []\n",
        "  for y in np.arange(-5, 5.1, .25):\n",
        "    for x in np.arange(-5, 5.1, .25):\n",
        "      data.append([x, y])\n",
        "  return data\n",
        "\n",
        "dataset = torch.DoubleTensor(construct_dataset()) \n",
        "print(len(construct_dataset()))"
      ],
      "metadata": {
        "colab": {
          "base_uri": "https://localhost:8080/"
        },
        "id": "AX_oMWbv2G78",
        "outputId": "a5a069a0-afe4-4079-b4b6-00d2a7e66892"
      },
      "execution_count": 46,
      "outputs": [
        {
          "output_type": "stream",
          "name": "stdout",
          "text": [
            "1681\n"
          ]
        }
      ]
    },
    {
      "cell_type": "markdown",
      "source": [
        "# Labels"
      ],
      "metadata": {
        "id": "0qdpnQd32PkB"
      }
    },
    {
      "cell_type": "code",
      "source": [
        "teacher_model = TeacherNetwork(D_in, H_teacher, D_out)\n",
        "y_labels = teacher_model(dataset).detach()"
      ],
      "metadata": {
        "id": "qO9N58LW2QBm"
      },
      "execution_count": 47,
      "outputs": []
    },
    {
      "cell_type": "code",
      "source": [
        "data = pd.read_csv('fixed_points.csv', float_precision='round_trip')\n",
        "data = data[data['loss'] >= 1e-6]\n",
        "len(data)"
      ],
      "metadata": {
        "colab": {
          "base_uri": "https://localhost:8080/"
        },
        "id": "RnMJEjtBqvz-",
        "outputId": "b44d98f5-aefa-46b6-b110-809478c01220"
      },
      "execution_count": 48,
      "outputs": [
        {
          "output_type": "execute_result",
          "data": {
            "text/plain": [
              "434"
            ]
          },
          "metadata": {},
          "execution_count": 48
        }
      ]
    },
    {
      "cell_type": "code",
      "source": [
        "# 607 is the initial point that we tried on\n",
        "sample_point = data.sample()\n",
        "for _, sample_point in sample_point.iterrows():\n",
        "  pass\n",
        "print(sample_point['gradient_norm'])\n",
        "print(sample_point['loss'])"
      ],
      "metadata": {
        "colab": {
          "base_uri": "https://localhost:8080/"
        },
        "id": "tU1QGdtLq2mO",
        "outputId": "0ef2b011-cff8-4c69-f2bb-e36da73612c8"
      },
      "execution_count": 49,
      "outputs": [
        {
          "output_type": "stream",
          "name": "stdout",
          "text": [
            "2.357978689950524e-10\n",
            "7.671387694296752e-05\n"
          ]
        }
      ]
    },
    {
      "cell_type": "markdown",
      "source": [
        "### Helper for extracting the weights from one data point."
      ],
      "metadata": {
        "id": "ueyRqoqF2bNm"
      }
    },
    {
      "cell_type": "code",
      "source": [
        "def extract_weights(data_point):\n",
        "  incoming_weights_x = [data_point['w11'],\n",
        "                      data_point['w21'],\n",
        "                      data_point['w31'],\n",
        "                      data_point['w41'],\n",
        "                      data_point['w51']]\n",
        "  incoming_weights_y = [data_point['w12'],\n",
        "                      data_point['w22'],\n",
        "                      data_point['w32'],\n",
        "                      data_point['w42'],\n",
        "                      data_point['w52']]\n",
        "  outgoing_weights = [data_point['a1'],\n",
        "                    data_point['a2'],\n",
        "                    data_point['a3'],\n",
        "                    data_point['a4'],\n",
        "                    data_point['a5']]\n",
        "  return incoming_weights_x, incoming_weights_y, outgoing_weights"
      ],
      "metadata": {
        "id": "cVYwzm-w24Go"
      },
      "execution_count": 50,
      "outputs": []
    },
    {
      "cell_type": "code",
      "source": [
        "incoming_weights_x, incoming_weights_y, outgoing_weights = extract_weights(sample_point)\n",
        "print(incoming_weights_x)\n",
        "print(incoming_weights_y)\n",
        "print(outgoing_weights)"
      ],
      "metadata": {
        "colab": {
          "base_uri": "https://localhost:8080/"
        },
        "id": "ewEnp0jR0k6_",
        "outputId": "6533b268-636c-4aad-ffb4-f40aebc800da"
      },
      "execution_count": 51,
      "outputs": [
        {
          "output_type": "stream",
          "name": "stdout",
          "text": [
            "[0.9492248169199246, 0.9443888841217009, 0.9119601335935497, -0.15197651191714742, 0.736390280516203]\n",
            "[-1.5095051946475906, -1.5055973510405456, 0.5898832051968873, 0.029251186916807097, -0.6331990593078719]\n",
            "[10.65434642842536, -10.729718842280024, 0.4508017834007489, -0.8396700187430116, 0.46423755803116834]\n"
          ]
        }
      ]
    },
    {
      "cell_type": "markdown",
      "source": [
        "# Helper for computing the norm of the gradient."
      ],
      "metadata": {
        "id": "_5NDHQ0CcX2s"
      }
    },
    {
      "cell_type": "code",
      "source": [
        "def eval_grad_norm(loss_grad, model):\n",
        "  cnt = 0\n",
        "  for g in loss_grad:\n",
        "      g_vector = g.contiguous().view(-1) if cnt == 0 else torch.cat([g_vector, g.contiguous().view(-1)])\n",
        "      cnt = 1\n",
        "  grad_norm = torch.norm(g_vector)\n",
        "  return grad_norm.detach().numpy()"
      ],
      "metadata": {
        "id": "JNinsdYncaFu"
      },
      "execution_count": 52,
      "outputs": []
    },
    {
      "cell_type": "markdown",
      "source": [
        "## Smallest eigenvalue using JAX"
      ],
      "metadata": {
        "id": "prjlJN2MQXmu"
      }
    },
    {
      "cell_type": "code",
      "source": [
        "import jax.numpy as jnp\n",
        "from jax import nn as jax_nn\n",
        "from jax.config import config; config.update(\"jax_enable_x64\", True)\n",
        "jnp.set_printoptions(precision=32) \n",
        "\n",
        "jnp_inputs = jnp.array(construct_dataset(), dtype=jnp.float64)\n",
        "jnp_labels = jnp.array(teacher_model(dataset).detach(), dtype=jnp.float64)\n",
        "\n",
        "def predict(w_in, w_out):\n",
        "  return w_out @ jnp.transpose(jax_nn.sigmoid(jnp_inputs @ jnp.transpose(w_in)))\n",
        "\n",
        "w_in = jnp.array([[incoming_weights_x[0], incoming_weights_y[0]],\n",
        "                  [incoming_weights_x[1], incoming_weights_y[1]],\n",
        "                  [incoming_weights_x[2], incoming_weights_y[2]],\n",
        "                  [incoming_weights_x[3], incoming_weights_y[3]],\n",
        "                  [incoming_weights_x[4], incoming_weights_y[4]]], dtype=jnp.float64)\n",
        "w_out = jnp.array(outgoing_weights, dtype=jnp.float64)"
      ],
      "metadata": {
        "id": "rWPIRfmUQNyA"
      },
      "execution_count": 53,
      "outputs": []
    },
    {
      "cell_type": "markdown",
      "source": [
        "### Loss in JAX"
      ],
      "metadata": {
        "id": "yRjvShq-4oZc"
      }
    },
    {
      "cell_type": "markdown",
      "source": [
        "Loss of the network computed in JAX."
      ],
      "metadata": {
        "id": "-1Hr2t294q7S"
      }
    },
    {
      "cell_type": "code",
      "source": [
        "def loss(w):\n",
        "  w_in = w[0 : 2 * H_student].reshape(D_in, H_student).T\n",
        "  w_out = w[2 * H_student : ].reshape(1, H_student)\n",
        "  preds = predict(w_in, w_out).T\n",
        "  return jnp.mean(jnp.mean(jnp.square(preds - jnp_labels)))\n",
        "print(loss(jnp.append(w_in.T.reshape(D_in * H_student), w_out.reshape(H_student))))"
      ],
      "metadata": {
        "colab": {
          "base_uri": "https://localhost:8080/"
        },
        "id": "CQFNY_VC4ou9",
        "outputId": "d7eb346e-18ae-4084-bcdc-51eaaa6d9aff"
      },
      "execution_count": 54,
      "outputs": [
        {
          "output_type": "stream",
          "name": "stdout",
          "text": [
            "7.671387694296954e-05\n"
          ]
        }
      ]
    },
    {
      "cell_type": "markdown",
      "source": [
        "### Hessian in JAX"
      ],
      "metadata": {
        "id": "aRVABYEN4xBn"
      }
    },
    {
      "cell_type": "code",
      "source": [
        "from jax import jacfwd, jacrev, grad\n",
        "import jax\n",
        "\n",
        "def hessian(f):\n",
        "  return jacfwd(jacrev(f))\n",
        "\n",
        "H = hessian(loss)(jnp.append(w_in.T.reshape(D_in * H_student), w_out.reshape(H_student)))"
      ],
      "metadata": {
        "id": "p1apyMTV4xaK"
      },
      "execution_count": 55,
      "outputs": []
    },
    {
      "cell_type": "markdown",
      "source": [
        "### Eigenvalues in JAX"
      ],
      "metadata": {
        "id": "q9KNg37G4zRi"
      }
    },
    {
      "cell_type": "code",
      "source": [
        "evals, evectors = jnp.linalg.eig(H)\n",
        "\n",
        "# Sanity check\n",
        "for eval in jnp.array([jax.lax.imag(eval) for eval in evals]):\n",
        "  assert eval == 0\n",
        "\n",
        "evals = jnp.array([jax.lax.real(eval) for eval in evals])\n",
        "print(evals)\n",
        "smallest_evector = jnp.array([jax.lax.real(elem) for elem in evectors[:, jnp.argmin(evals)]])\n",
        "print(smallest_evector)"
      ],
      "metadata": {
        "colab": {
          "base_uri": "https://localhost:8080/"
        },
        "id": "qm9RiKY-400C",
        "outputId": "36a54534-477b-4f33-dd4c-be3a08b63106"
      },
      "execution_count": 56,
      "outputs": [
        {
          "output_type": "stream",
          "name": "stdout",
          "text": [
            "[6.1377754766218430e+01 3.6566073918276571e+00 1.8392486764739380e+00\n",
            " 7.5953340981421458e-01 4.6995694705141910e-01 2.9525506396259255e-02\n",
            " 2.4984059710213120e-02 7.0341764135906076e-03 4.4836490119899612e-03\n",
            " 3.7508179384908996e-04 3.2988851637643447e-04 1.4273807902867445e-04\n",
            " 1.0237261024780247e-04 1.5114305921016419e-06 1.3776775904768860e-12]\n",
            "[ 1.6209973964624995e-04 -1.5772921098494109e-04  8.4906933307472989e-09\n",
            " -8.5444109476894232e-08  3.3972259173304328e-07 -1.3362803898015938e-04\n",
            "  1.2484784837366603e-04 -2.9528162537714012e-08 -1.5394326715643470e-08\n",
            " -5.2226432744631113e-07 -7.0710685493896597e-01  7.0710664761380571e-01\n",
            " -1.3882313162214051e-08  1.0803314057753974e-07  1.1319151206186410e-07]\n"
          ]
        }
      ]
    },
    {
      "cell_type": "markdown",
      "source": [
        "## Perturbation (based on JAX evectors)"
      ],
      "metadata": {
        "id": "ygRF64EF46OI"
      }
    },
    {
      "cell_type": "code",
      "source": [
        "old_loss = loss(jnp.append(w_in.T.reshape(D_in * H_student), w_out.reshape(H_student)))\n",
        "\n",
        "perturb_lower_bound = -4.0\n",
        "perturb_upper_bound = 4.0\n",
        "perturb_step = 0.01\n",
        "\n",
        "perturb_losses = []\n",
        "perturb_evals = []\n",
        "perturb_grads = []\n",
        "\n",
        "weights = jnp.append(w_in.T.reshape(D_in * H_student), w_out.reshape(H_student))\n",
        "for eps in np.arange(perturb_lower_bound, perturb_upper_bound, perturb_step):\n",
        "  new_weights = weights + eps * smallest_evector\n",
        "  # print(new_weights[0 : D_in * H_student].reshape(D_in, H_student).T)\n",
        "  # w_in = torch.DoubleTensor(new_weights[0 : D_in * H_student].reshape(D_in, H_student).T)\n",
        "  # w_out = torch.DoubleTensor([new_weights[D_in * H_student:]])\n",
        "  # dummy_model = DummyNetwork(D_in, H_student, D_out, w_in, w_out)\n",
        "  # loss_grad = torch.autograd.grad(nn.MSELoss()(dummy_model(dataset),\n",
        "  #                                              y_labels),\n",
        "  #                                 dummy_model.parameters(),\n",
        "  #                                 create_graph=True)\n",
        "  sign = 1 if eps > 0 else -1\n",
        "  # perturb_grads.append(jnp.dot(grad(loss)(new_weights), sign * smallest_evector))\n",
        "  perturb_grads.append(jnp.linalg.norm(grad(loss)(new_weights)))\n",
        "  \n",
        "  H = hessian(loss)(new_weights)\n",
        "  H = (H + H.T) / 2\n",
        "  evals, _ = jnp.linalg.eig(H)\n",
        "\n",
        "  perturb_evals.append(min(evals))\n",
        "  perturb_losses.append(loss(new_weights))"
      ],
      "metadata": {
        "id": "mr1u_WGe490C"
      },
      "execution_count": 57,
      "outputs": []
    },
    {
      "cell_type": "markdown",
      "source": [
        "Check the smallest eigenvectors at perturbation factor \\in {-1, 1}."
      ],
      "metadata": {
        "id": "TOgEv-Tt9t52"
      }
    },
    {
      "cell_type": "code",
      "source": [
        "new_weights = weights - 0.4 * smallest_evector\n",
        "H = hessian(loss)(new_weights)\n",
        "H = (H + H.T) / 2\n",
        "evals, evectors = jnp.linalg.eig(H)\n",
        "# Sanity check\n",
        "for eval in jnp.array([jax.lax.imag(eval) for eval in evals]):\n",
        "  assert eval == 0\n",
        "\n",
        "evals = jnp.array([jax.lax.real(eval) for eval in evals])\n",
        "smallest_evector_left = jnp.array([jax.lax.real(elem) for elem in evectors[:, jnp.argmin(evals)]])\n",
        "smallest_evector_left"
      ],
      "metadata": {
        "colab": {
          "base_uri": "https://localhost:8080/"
        },
        "id": "TaKHBuCq9ymq",
        "outputId": "99cb22f9-88b2-4aa2-f9f6-fd1cac372b2e"
      },
      "execution_count": 58,
      "outputs": [
        {
          "output_type": "execute_result",
          "data": {
            "text/plain": [
              "DeviceArray([-8.3549873280326301e-04, -5.2676880837826379e-04,\n",
              "              2.4793828411043134e-05,  1.5774998972441503e-05,\n",
              "             -1.3537385649746724e-04,  1.9788477165438747e-03,\n",
              "              1.7099087316102823e-03,  4.2848535482157199e-05,\n",
              "              1.0750900546487467e-05,  3.1753445979692835e-04,\n",
              "              7.0722084980820910e-01, -7.0698705093594494e-01,\n",
              "             -1.7073830816788702e-05, -1.2224028173620714e-05,\n",
              "             -2.0451274813278265e-04], dtype=float64)"
            ]
          },
          "metadata": {},
          "execution_count": 58
        }
      ]
    },
    {
      "cell_type": "code",
      "source": [
        "new_weights = weights + 0.4 * smallest_evector\n",
        "H = hessian(loss)(new_weights)\n",
        "H = (H + H.T) / 2\n",
        "evals, evectors = jnp.linalg.eig(H)\n",
        "# Sanity check\n",
        "for eval in jnp.array([jax.lax.imag(eval) for eval in evals]):\n",
        "  assert eval == 0\n",
        "print(min(evals))\n",
        "evals = jnp.array([jax.lax.real(eval) for eval in evals])\n",
        "print(min(evals))\n",
        "\n",
        "smallest_evector_right = jnp.array([jax.lax.real(elem) for elem in evectors[:, jnp.argmin(evals)]])\n",
        "print(min(evals))\n",
        "smallest_evector_right"
      ],
      "metadata": {
        "colab": {
          "base_uri": "https://localhost:8080/"
        },
        "id": "r_eQeddkAgrs",
        "outputId": "3a295c97-cece-4181-b211-2bd9c84475ec"
      },
      "execution_count": 59,
      "outputs": [
        {
          "output_type": "stream",
          "name": "stdout",
          "text": [
            "(9.106439881807625e-10+0j)\n",
            "9.106439881807625e-10\n",
            "9.106439881807625e-10\n"
          ]
        },
        {
          "output_type": "execute_result",
          "data": {
            "text/plain": [
              "DeviceArray([ 8.9002658152711502e-04,  5.4682734054654751e-04,\n",
              "             -2.6140993788379887e-05, -1.6642068490674406e-05,\n",
              "              1.4277212390873383e-04, -2.0946674695723009e-03,\n",
              "             -1.7956965610424125e-03, -4.5181619473395045e-05,\n",
              "             -1.1337351365994280e-05, -3.3485706025144065e-04,\n",
              "             -7.0722689501129965e-01,  7.0698036253574870e-01,\n",
              "              1.8000614010077026e-05,  1.2900318424065273e-05,\n",
              "              2.1564391788178000e-04], dtype=float64)"
            ]
          },
          "metadata": {},
          "execution_count": 59
        }
      ]
    },
    {
      "cell_type": "code",
      "source": [
        "perturb_losses_new_smallest_evector = []\n",
        "perturb_evals_new_smallest_evector = []\n",
        "\n",
        "weights_new_smallest_evector = weights - 0.4 * smallest_evector\n",
        "for eps in np.arange(perturb_lower_bound, perturb_upper_bound, perturb_step):\n",
        "  new_weights = weights_new_smallest_evector + eps * smallest_evector_left\n",
        "  \n",
        "  H = hessian(loss)(new_weights)\n",
        "  H = (H + H.T) / 2\n",
        "  evals, _ = jnp.linalg.eig(H)\n",
        "\n",
        "  perturb_evals_new_smallest_evector.append(min(evals))\n",
        "  perturb_losses_new_smallest_evector.append(loss(new_weights))\n",
        "\n",
        "fig, (ax1, ax2) = plt.subplots(1, 2)\n",
        "fig.set_size_inches(14.5, 6.5)\n",
        "fig.suptitle('Evolution of loss and smallest eval under perturbation')\n",
        "ax1.plot(np.arange(perturb_lower_bound, perturb_upper_bound, perturb_step), perturb_losses_new_smallest_evector)\n",
        "ax1.ticklabel_format(useOffset=False)\n",
        "ax1.set_xlabel('perturbation factor')\n",
        "ax1.set_ylabel('loss')\n",
        "\n",
        "ax2.plot(np.arange(perturb_lower_bound, perturb_upper_bound, perturb_step), perturb_evals_new_smallest_evector)\n",
        "ax2.set_xlabel('perturbation factor')\n",
        "ax2.set_ylabel('smallest eval')"
      ],
      "metadata": {
        "colab": {
          "base_uri": "https://localhost:8080/",
          "height": 535
        },
        "id": "Py9UFsBUCDCZ",
        "outputId": "54446ae2-aba4-4c02-88df-76a9a04d8187"
      },
      "execution_count": 60,
      "outputs": [
        {
          "output_type": "stream",
          "name": "stderr",
          "text": [
            "/usr/local/lib/python3.7/dist-packages/matplotlib/cbook/__init__.py:1317: ComplexWarning: Casting complex values to real discards the imaginary part\n",
            "  return np.asarray(x, float)\n"
          ]
        },
        {
          "output_type": "execute_result",
          "data": {
            "text/plain": [
              "Text(0, 0.5, 'smallest eval')"
            ]
          },
          "metadata": {},
          "execution_count": 60
        },
        {
          "output_type": "display_data",
          "data": {
            "image/png": "[encoded data removed]",
            "text/plain": [
              "<Figure size 1044x468 with 2 Axes>"
            ]
          },
          "metadata": {
            "needs_background": "light"
          }
        }
      ]
    },
    {
      "cell_type": "code",
      "source": [
        "def run_perturbation_algo(start_evector,\n",
        "                          direction_evector,\n",
        "                          start_weights,\n",
        "                          perturb_losses,\n",
        "                          perturb_norm_grads,\n",
        "                          perturb_smallest_eval,\n",
        "                          eps = 1e-5):\n",
        "  current_weights = start_weights\n",
        "  current_evector = direction_evector * start_evector\n",
        "\n",
        "  perturb_losses.append(loss(current_weights))\n",
        "  perturb_norm_grads.append(jnp.linalg.norm(grad(loss)(current_weights)))\n",
        "\n",
        "  H = hessian(loss)(current_weights)\n",
        "  H = (H + H.T) / 2\n",
        "  evals, evectors = jnp.linalg.eig(H)\n",
        "  evals = jnp.array([jax.lax.real(eval) for eval in evals])\n",
        "\n",
        "  perturb_smallest_eval.append(jnp.min(evals))\n",
        "\n",
        "  while True:\n",
        "    current_weights = current_weights + eps * current_evector\n",
        "\n",
        "    H = hessian(loss)(current_weights)\n",
        "    H = (H + H.T) / 2\n",
        "    evals, evectors = jnp.linalg.eig(H)\n",
        "    evals = jnp.array([jax.lax.real(eval) for eval in evals])\n",
        "\n",
        "    last_evector = current_evector\n",
        "    current_evector = jnp.array([jax.lax.real(elem) for elem in evectors[:, jnp.argmin(evals)]])\n",
        "\n",
        "    if jnp.linalg.norm(grad(loss)(current_weights)) >= 1e-9:\n",
        "      break\n",
        "    if abs(jnp.dot(direction_evector * current_evector, last_evector)) < 0.99:\n",
        "      print(direction_evector, jnp.dot(direction_evector * current_evector, last_evector))\n",
        "      run_perturbation_algo(current_evector, -direction_evector, current_weights, perturb_losses,\n",
        "                            perturb_norm_grads, perturb_smallest_eval, eps)\n",
        "    \n",
        "    perturb_losses.append(loss(current_weights))\n",
        "    perturb_norm_grads.append(jnp.linalg.norm(grad(loss)(current_weights)))\n",
        "    perturb_smallest_eval.append(jnp.min(evals))\n",
        "\n",
        "    current_evector *= direction_evector\n",
        "\n",
        "  # last_evector = start_evector\n",
        "  # while True:\n",
        "  #   current_weights = current_weights + eps * current_evector\n",
        "  #   # print(abs(jnp.dot(grad(loss)(current_weights), current_evector)))\n",
        "  #   if jnp.linalg.norm(grad(loss)(current_weights)) >= 1e-9:\n",
        "  #     break\n",
        "    \n",
        "  #   H = hessian(loss)(new_weights)\n",
        "  #   H = (H + H.T) / 2\n",
        "  #   evals, evectors = jnp.linalg.eig(H)\n",
        "  #   evals = jnp.array([jax.lax.real(eval) for eval in evals])\n",
        "  #   current_evector = jnp.array([jax.lax.real(elem) for elem in evectors[:, jnp.argmin(evals)]])\n",
        "  #   print(jnp.dot(current_evector, last_evector))\n",
        "  #   last_evector = current_evector\n",
        "\n",
        "  #   perturb_losses.append(loss(current_weights))\n",
        "  #   perturb_smallest_eval.append(jnp.min(evals))\n",
        "  #   perturb_norm_grads.append(jnp.linalg.norm(grad(loss)(current_weights)))\n",
        "  \n",
        "  # return perturb_losses, perturb_norm_grads, perturb_smallest_eval, last_evector\n",
        "\n",
        "dyn_perturb_losses = []\n",
        "dyn_perturb_norm_grads = []\n",
        "dyn_perturb_smallest_eval = []\n",
        "run_perturbation_algo(smallest_evector, 1, weights, dyn_perturb_losses,\n",
        "                      dyn_perturb_norm_grads, dyn_perturb_smallest_eval)\n",
        "dyn_perturb_losses.reverse()\n",
        "dyn_perturb_norm_grads.reverse()\n",
        "dyn_perturb_smallest_eval.reverse()\n",
        "run_perturbation_algo(smallest_evector, -1, weights, dyn_perturb_losses,\n",
        "                      dyn_perturb_norm_grads, dyn_perturb_smallest_eval)\n",
        "# dyn_perturb_losses, dyn_perturb_norm_grads, dyn_perturb_smallest_eval = run_perturbation_algo(smallest_evector, weights)\n",
        "\n",
        "print(perturb_losses)\n",
        "print(min(perturb_losses))\n",
        "\n",
        "# dynamic_fig, (ax1, ax2, ax3) = plt.subplots(1, 3)\n",
        "# dynamic_fig.set_size_inches(20, 3.5)\n",
        "# dynamic_fig.suptitle('Evolution of loss, smallest eval, and grad norm under perturbation')\n",
        "\n",
        "# ax1.plot(np.arange(perturb_lower_bound, perturb_upper_bound, perturb_step), perturb_losses)\n",
        "# ax1.ticklabel_format(useOffset=False)\n",
        "# ax1.set_xlabel('perturbation factor')\n",
        "# ax1.set_ylabel('loss')\n",
        "\n",
        "# ax2.plot(np.arange(perturb_lower_bound, perturb_upper_bound, perturb_step), perturb_evals)\n",
        "# ax2.set_xlabel('perturbation factor')\n",
        "# ax2.set_ylabel('smallest eval')\n",
        "\n",
        "# ax3.plot(np.arange(perturb_lower_bound, perturb_upper_bound, perturb_step), perturb_grads)\n",
        "# ax3.set_xlabel('perturbation factor')\n",
        "# ax3.set_ylabel('gradient norm')"
      ],
      "metadata": {
        "id": "HszHKa---8Pz"
      },
      "execution_count": null,
      "outputs": []
    },
    {
      "cell_type": "code",
      "source": [
        "fig, axs = plt.subplots(2, 3)\n",
        "fig.set_size_inches(20, 7)\n",
        "fig.suptitle('Evolution of loss, smallest eval, and grad norm under perturbation')\n",
        "\n",
        "axs[0, 0].plot(np.arange(perturb_lower_bound, perturb_upper_bound, perturb_step), perturb_losses)\n",
        "axs[0, 0].ticklabel_format(useOffset=False)\n",
        "axs[0, 0].set_xlabel('perturbation factor')\n",
        "axs[0, 0].set_ylabel('loss')\n",
        "\n",
        "axs[0, 1].plot(np.arange(perturb_lower_bound, perturb_upper_bound, perturb_step), perturb_evals)\n",
        "axs[0, 1].set_xlabel('perturbation factor')\n",
        "axs[0, 1].set_ylabel('smallest eval')\n",
        "\n",
        "axs[0, 2].plot(np.arange(perturb_lower_bound, perturb_upper_bound, perturb_step), perturb_grads)\n",
        "axs[0, 2].set_xlabel('perturbation factor')\n",
        "axs[0, 2].set_ylabel('gradient norm')\n",
        "\n",
        "axs[1, 0].plot(np.arange(len(dyn_perturb_losses)), dyn_perturb_losses)\n",
        "axs[1, 0].ticklabel_format(useOffset=False)\n",
        "axs[1, 0].set_xlabel('step')\n",
        "axs[1, 0].set_ylabel('loss')\n",
        "\n",
        "axs[1, 1].plot(np.arange(len(dyn_perturb_smallest_eval)), dyn_perturb_smallest_eval)\n",
        "axs[1, 1].set_xlabel('step')\n",
        "axs[1, 1].set_ylabel('smallest eval')\n",
        "\n",
        "axs[1, 2].plot(np.arange(len(dyn_perturb_norm_grads)), dyn_perturb_norm_grads)\n",
        "axs[1, 2].set_xlabel('step')\n",
        "axs[1, 2].set_ylabel('gradient norm')"
      ],
      "metadata": {
        "id": "7ZCyDk0eXAim"
      },
      "execution_count": null,
      "outputs": []
    },
    {
      "cell_type": "code",
      "source": [
        "dynamic_fig, (ax1, ax2, ax3) = plt.subplots(1, 3)\n",
        "dynamic_fig.set_size_inches(20, 3.5)\n",
        "dynamic_fig.suptitle('Evolution of loss, smallest eval, and grad norm under perturbation')\n",
        "\n",
        "ax1.plot(np.arange(len(dyn_perturb_losses)), dyn_perturb_losses)\n",
        "ax1.ticklabel_format(useOffset=False)\n",
        "ax1.set_xlabel('step')\n",
        "ax1.set_ylabel('loss')\n",
        "\n",
        "ax2.plot(np.arange(len(dyn_perturb_smallest_eval)), dyn_perturb_smallest_eval)\n",
        "ax2.set_xlabel('step')\n",
        "ax2.set_ylabel('smallest eval')\n",
        "\n",
        "ax3.plot(np.arange(len(dyn_perturb_norm_grads)), dyn_perturb_norm_grads)\n",
        "ax3.set_xlabel('step')\n",
        "ax3.set_ylabel('gradient norm')"
      ],
      "metadata": {
        "id": "dxkiSiPH231P"
      },
      "execution_count": null,
      "outputs": []
    }
  ]
}