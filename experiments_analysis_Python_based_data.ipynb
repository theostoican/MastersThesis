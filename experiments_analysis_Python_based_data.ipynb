{
 "cells": [
  {
   "cell_type": "code",
   "execution_count": 424,
   "metadata": {
    "id": "HR-JuDus4Dgg"
   },
   "outputs": [],
   "source": [
    "import matplotlib.pyplot as plt\n",
    "import matplotlib\n",
    "import pandas as pd\n",
    "import numpy as np\n",
    "\n",
    "import torch\n",
    "import torch.nn as nn\n",
    "from torch.autograd import Variable"
   ]
  },
  {
   "cell_type": "markdown",
   "metadata": {
    "id": "MKMT2fhjFIW6"
   },
   "source": [
    "# Helpers for plotting the trajectories of the weights of the neurons"
   ]
  },
  {
   "cell_type": "code",
   "execution_count": 425,
   "metadata": {
    "id": "cyh_igQ37r0u"
   },
   "outputs": [],
   "source": [
    "def plot_trajectories(data_row):\n",
    "  convergence_neurons_incoming_x = []\n",
    "  convergence_neurons_incoming_y = []\n",
    "  convergence_neurons_outgoing = []\n",
    "\n",
    "  for i in range(0, int(data_row['student size'])):\n",
    "    neuron_traj_x = np.fromstring(data_row['neuron_' + str(i) + '_traj_x'][0][1:-1], dtype=float, sep=',')\n",
    "    neuron_traj_y = np.fromstring(data_row['neuron_' + str(i) + '_traj_y'][0][1:-1], dtype=float, sep=',')\n",
    "    plt.plot(neuron_traj_x, neuron_traj_y)\n",
    "  \n",
    "    convergence_neurons_incoming_x.append(neuron_traj_x[-1])\n",
    "    convergence_neurons_incoming_y.append(neuron_traj_y[-1])\n",
    "\n",
    "    neuron_a = float(data_row['neuron_' + str(i) + '_a'][0])\n",
    "    convergence_neurons_outgoing.append(neuron_a)\n",
    "\n",
    "  teacher_neurons_x = np.fromstring(data_row['teacher_neurons_x'][0][1 : -1], dtype=float, sep=',')\n",
    "  teacher_neurons_y = np.fromstring(data_row['teacher_neurons_y'][0][1 : -1], dtype=float, sep=',')\n",
    "  plt.scatter(teacher_neurons_x, teacher_neurons_y, marker=\"*\")\n",
    "\n",
    "  plt.scatter(convergence_neurons_incoming_x,\n",
    "            convergence_neurons_incoming_y,\n",
    "            c = convergence_neurons_outgoing,\n",
    "            cmap=matplotlib.cm.jet)\n",
    "  plt.colorbar()"
   ]
  },
  {
   "cell_type": "markdown",
   "metadata": {
    "id": "_xd7SAYBFB-c"
   },
   "source": [
    "# Read the data from the .csv file"
   ]
  },
  {
   "cell_type": "code",
   "execution_count": 426,
   "metadata": {
    "colab": {
     "base_uri": "https://localhost:8080/",
     "height": 371
    },
    "id": "QiMGa1Ib64YR",
    "outputId": "32c2cb4c-d2a3-4661-ce71-72467758c3fe"
   },
   "outputs": [
    {
     "data": {
      "text/plain": [
       "1000"
      ]
     },
     "execution_count": 426,
     "metadata": {},
     "output_type": "execute_result"
    }
   ],
   "source": [
    "data = pd.read_csv('experiments_data.csv', float_precision='round_trip')\n",
    "\n",
    "len(data)"
   ]
  },
  {
   "cell_type": "code",
   "execution_count": 427,
   "metadata": {
    "id": "Lz-VFq2mPBIw"
   },
   "outputs": [
    {
     "data": {
      "text/html": [
       "<div>\n",
       "<style scoped>\n",
       "    .dataframe tbody tr th:only-of-type {\n",
       "        vertical-align: middle;\n",
       "    }\n",
       "\n",
       "    .dataframe tbody tr th {\n",
       "        vertical-align: top;\n",
       "    }\n",
       "\n",
       "    .dataframe thead th {\n",
       "        text-align: right;\n",
       "    }\n",
       "</style>\n",
       "<table border=\"1\" class=\"dataframe\">\n",
       "  <thead>\n",
       "    <tr style=\"text-align: right;\">\n",
       "      <th></th>\n",
       "      <th>loss</th>\n",
       "      <th>gradient norm</th>\n",
       "      <th>student size</th>\n",
       "      <th>neuron_0_traj_x</th>\n",
       "      <th>neuron_0_traj_y</th>\n",
       "      <th>neuron_0_a</th>\n",
       "      <th>neuron_1_traj_x</th>\n",
       "      <th>neuron_1_traj_y</th>\n",
       "      <th>neuron_1_a</th>\n",
       "      <th>neuron_2_traj_x</th>\n",
       "      <th>neuron_2_traj_y</th>\n",
       "      <th>neuron_2_a</th>\n",
       "      <th>neuron_3_traj_x</th>\n",
       "      <th>neuron_3_traj_y</th>\n",
       "      <th>neuron_3_a</th>\n",
       "      <th>neuron_4_traj_x</th>\n",
       "      <th>neuron_4_traj_y</th>\n",
       "      <th>neuron_4_a</th>\n",
       "      <th>teacher_neurons_x</th>\n",
       "      <th>teacher_neurons_y</th>\n",
       "    </tr>\n",
       "  </thead>\n",
       "  <tbody>\n",
       "    <tr>\n",
       "      <th>0</th>\n",
       "      <td>7.762151e-31</td>\n",
       "      <td>1.512900e-16</td>\n",
       "      <td>5</td>\n",
       "      <td>[-0.6514537846346138, -0.6613901468723918, -0....</td>\n",
       "      <td>[-0.18499486502349527, -0.17499569685743316, -...</td>\n",
       "      <td>[-0.4924871653015548, -0.5024540176639839, -0....</td>\n",
       "      <td>[-0.4478209455390824, -0.45782150500423524, -0...</td>\n",
       "      <td>[-0.33042139409697746, -0.32040192608532253, -...</td>\n",
       "      <td>[-0.12321484564576601, -0.13317165629139227, -...</td>\n",
       "      <td>[0.9133165346080767, 0.9033023056129078, 0.893...</td>\n",
       "      <td>[-0.14210072267696994, -0.15209691927336091, -...</td>\n",
       "      <td>[0.8773813043769291, 0.8674064077077142, 0.857...</td>\n",
       "      <td>[-0.3901061580047561, -0.40011432188214907, -0...</td>\n",
       "      <td>[0.9023765967521633, 0.8923734851140437, 0.882...</td>\n",
       "      <td>[0.8985326758943212, 0.888549328200647, 0.8786...</td>\n",
       "      <td>[-0.08146624588700624, -0.09148276213940347, -...</td>\n",
       "      <td>[-0.6320223581727991, -0.6220146222724071, -0....</td>\n",
       "      <td>[-0.46955732204498024, -0.4788629582213706, -0...</td>\n",
       "      <td>[0.6, -0.5, -0.2, 0.1]</td>\n",
       "      <td>[0.5, 0.5, -0.6, -0.6]</td>\n",
       "    </tr>\n",
       "    <tr>\n",
       "      <th>1</th>\n",
       "      <td>1.141050e-04</td>\n",
       "      <td>4.060677e-10</td>\n",
       "      <td>5</td>\n",
       "      <td>[0.25902753986908955, 0.24904284296335286, 0.2...</td>\n",
       "      <td>[0.8962326797704556, 0.9061870683382779, 0.915...</td>\n",
       "      <td>[-0.8586567493563299, -0.8486623988356045, -0....</td>\n",
       "      <td>[-0.47261132395471644, -0.4825820061178115, -0...</td>\n",
       "      <td>[0.1558246561988308, 0.14588128862340502, 0.13...</td>\n",
       "      <td>[-0.33255176725246116, -0.3225569850675661, -0...</td>\n",
       "      <td>[-0.41729059817171255, -0.4272726399226728, -0...</td>\n",
       "      <td>[-0.5711813189370029, -0.561193924685258, -0.5...</td>\n",
       "      <td>[-0.7176906578592621, -0.7076961265119293, -0....</td>\n",
       "      <td>[-0.6033631337213354, -0.6133351835050077, -0....</td>\n",
       "      <td>[-0.037621091574681964, -0.027682692873146224,...</td>\n",
       "      <td>[-0.3847866361030847, -0.3747914193398116, -0....</td>\n",
       "      <td>[0.5447934254375777, 0.5347979046937044, 0.524...</td>\n",
       "      <td>[-0.2676555794709, -0.2776532676193942, -0.287...</td>\n",
       "      <td>[-0.90526646287519, -0.8952726096132514, -0.88...</td>\n",
       "      <td>[0.6, -0.5, -0.2, 0.1]</td>\n",
       "      <td>[0.5, 0.5, -0.6, -0.6]</td>\n",
       "    </tr>\n",
       "    <tr>\n",
       "      <th>2</th>\n",
       "      <td>1.406676e-32</td>\n",
       "      <td>5.495767e-17</td>\n",
       "      <td>5</td>\n",
       "      <td>[0.2938811494591882, 0.2838901949095491, 0.273...</td>\n",
       "      <td>[0.25973641861404984, 0.24970927063968004, 0.2...</td>\n",
       "      <td>[-0.6671172651658142, -0.6571482189181184, -0....</td>\n",
       "      <td>[0.6422832982226669, 0.6323364175675436, 0.622...</td>\n",
       "      <td>[0.42277954405314677, 0.43275796861768434, 0.4...</td>\n",
       "      <td>[-0.07098094973996072, -0.06100612968391575, -...</td>\n",
       "      <td>[0.6244432507895041, 0.6344350223482547, 0.644...</td>\n",
       "      <td>[-0.8271803775327384, -0.8171824274750428, -0....</td>\n",
       "      <td>[0.614342217680062, 0.6243168679269107, 0.6341...</td>\n",
       "      <td>[0.48182082569562157, 0.4718443777930093, 0.46...</td>\n",
       "      <td>[-0.8208963187251731, -0.8308653499925115, -0....</td>\n",
       "      <td>[-0.4127978655943836, -0.4028392054564854, -0....</td>\n",
       "      <td>[-0.17762550869422278, -0.167609188789303, -0....</td>\n",
       "      <td>[0.24549847650152112, 0.2555081782225608, 0.26...</td>\n",
       "      <td>[0.11068671047432999, 0.12065188530342981, 0.1...</td>\n",
       "      <td>[0.6, -0.5, -0.2, 0.1]</td>\n",
       "      <td>[0.5, 0.5, -0.6, -0.6]</td>\n",
       "    </tr>\n",
       "    <tr>\n",
       "      <th>3</th>\n",
       "      <td>1.546066e-32</td>\n",
       "      <td>2.785131e-17</td>\n",
       "      <td>5</td>\n",
       "      <td>[0.3244850794760572, 0.3144863990663584, 0.304...</td>\n",
       "      <td>[0.1730601335397981, 0.16307526867184047, 0.15...</td>\n",
       "      <td>[-0.936681500194125, -0.9266886495988869, -0.9...</td>\n",
       "      <td>[0.9236904969391342, 0.9136893427992884, 0.903...</td>\n",
       "      <td>[0.40377262778498224, 0.39382281441864114, 0.3...</td>\n",
       "      <td>[-0.9308086251247442, -0.9208149417707447, -0....</td>\n",
       "      <td>[-0.7464521242901787, -0.7564307992956282, -0....</td>\n",
       "      <td>[0.003187626256278886, -0.006777421164232556, ...</td>\n",
       "      <td>[-0.8460986294507157, -0.8361049106988461, -0....</td>\n",
       "      <td>[0.5510289117407168, 0.5410544171290782, 0.531...</td>\n",
       "      <td>[0.7746646256741603, 0.7846470018882555, 0.794...</td>\n",
       "      <td>[-0.14687090574462935, -0.136878266395576, -0....</td>\n",
       "      <td>[-0.10855191227305117, -0.11852445875255753, -...</td>\n",
       "      <td>[-0.1621753623082901, -0.17211670559951053, -0...</td>\n",
       "      <td>[-0.20459419207217922, -0.1946012857907619, -0...</td>\n",
       "      <td>[0.6, -0.5, -0.2, 0.1]</td>\n",
       "      <td>[0.5, 0.5, -0.6, -0.6]</td>\n",
       "    </tr>\n",
       "    <tr>\n",
       "      <th>4</th>\n",
       "      <td>3.115151e-31</td>\n",
       "      <td>6.061996e-17</td>\n",
       "      <td>5</td>\n",
       "      <td>[-0.2506188156930773, -0.2406361254934707, -0....</td>\n",
       "      <td>[0.38814473226513746, 0.3981734997265581, 0.40...</td>\n",
       "      <td>[0.47661594787602757, 0.466636432381076, 0.456...</td>\n",
       "      <td>[-0.3547220787390164, -0.3447337909021713, -0....</td>\n",
       "      <td>[0.12209538430954003, 0.11210895568632777, 0.1...</td>\n",
       "      <td>[0.4728231016664185, 0.4628425101742749, 0.452...</td>\n",
       "      <td>[-0.5812379146808492, -0.5912171246973127, -0....</td>\n",
       "      <td>[-0.2879158187131131, -0.2779415622049374, -0....</td>\n",
       "      <td>[-0.8896194113286507, -0.8996064555783428, -0....</td>\n",
       "      <td>[-0.44030687544530067, -0.43031876432052957, -...</td>\n",
       "      <td>[-0.3015053483074758, -0.3114836853247931, -0....</td>\n",
       "      <td>[0.9253406038067883, 0.9153598273110514, 0.905...</td>\n",
       "      <td>[0.6832410369747159, 0.6731972297874452, 0.662...</td>\n",
       "      <td>[-0.08905824480847835, -0.07901920388369182, -...</td>\n",
       "      <td>[-0.05963631982232642, -0.06961190742913544, -...</td>\n",
       "      <td>[0.6, -0.5, -0.2, 0.1]</td>\n",
       "      <td>[0.5, 0.5, -0.6, -0.6]</td>\n",
       "    </tr>\n",
       "  </tbody>\n",
       "</table>\n",
       "</div>"
      ],
      "text/plain": [
       "           loss  gradient norm  student size  \\\n",
       "0  7.762151e-31   1.512900e-16             5   \n",
       "1  1.141050e-04   4.060677e-10             5   \n",
       "2  1.406676e-32   5.495767e-17             5   \n",
       "3  1.546066e-32   2.785131e-17             5   \n",
       "4  3.115151e-31   6.061996e-17             5   \n",
       "\n",
       "                                     neuron_0_traj_x  \\\n",
       "0  [-0.6514537846346138, -0.6613901468723918, -0....   \n",
       "1  [0.25902753986908955, 0.24904284296335286, 0.2...   \n",
       "2  [0.2938811494591882, 0.2838901949095491, 0.273...   \n",
       "3  [0.3244850794760572, 0.3144863990663584, 0.304...   \n",
       "4  [-0.2506188156930773, -0.2406361254934707, -0....   \n",
       "\n",
       "                                     neuron_0_traj_y  \\\n",
       "0  [-0.18499486502349527, -0.17499569685743316, -...   \n",
       "1  [0.8962326797704556, 0.9061870683382779, 0.915...   \n",
       "2  [0.25973641861404984, 0.24970927063968004, 0.2...   \n",
       "3  [0.1730601335397981, 0.16307526867184047, 0.15...   \n",
       "4  [0.38814473226513746, 0.3981734997265581, 0.40...   \n",
       "\n",
       "                                          neuron_0_a  \\\n",
       "0  [-0.4924871653015548, -0.5024540176639839, -0....   \n",
       "1  [-0.8586567493563299, -0.8486623988356045, -0....   \n",
       "2  [-0.6671172651658142, -0.6571482189181184, -0....   \n",
       "3  [-0.936681500194125, -0.9266886495988869, -0.9...   \n",
       "4  [0.47661594787602757, 0.466636432381076, 0.456...   \n",
       "\n",
       "                                     neuron_1_traj_x  \\\n",
       "0  [-0.4478209455390824, -0.45782150500423524, -0...   \n",
       "1  [-0.47261132395471644, -0.4825820061178115, -0...   \n",
       "2  [0.6422832982226669, 0.6323364175675436, 0.622...   \n",
       "3  [0.9236904969391342, 0.9136893427992884, 0.903...   \n",
       "4  [-0.3547220787390164, -0.3447337909021713, -0....   \n",
       "\n",
       "                                     neuron_1_traj_y  \\\n",
       "0  [-0.33042139409697746, -0.32040192608532253, -...   \n",
       "1  [0.1558246561988308, 0.14588128862340502, 0.13...   \n",
       "2  [0.42277954405314677, 0.43275796861768434, 0.4...   \n",
       "3  [0.40377262778498224, 0.39382281441864114, 0.3...   \n",
       "4  [0.12209538430954003, 0.11210895568632777, 0.1...   \n",
       "\n",
       "                                          neuron_1_a  \\\n",
       "0  [-0.12321484564576601, -0.13317165629139227, -...   \n",
       "1  [-0.33255176725246116, -0.3225569850675661, -0...   \n",
       "2  [-0.07098094973996072, -0.06100612968391575, -...   \n",
       "3  [-0.9308086251247442, -0.9208149417707447, -0....   \n",
       "4  [0.4728231016664185, 0.4628425101742749, 0.452...   \n",
       "\n",
       "                                     neuron_2_traj_x  \\\n",
       "0  [0.9133165346080767, 0.9033023056129078, 0.893...   \n",
       "1  [-0.41729059817171255, -0.4272726399226728, -0...   \n",
       "2  [0.6244432507895041, 0.6344350223482547, 0.644...   \n",
       "3  [-0.7464521242901787, -0.7564307992956282, -0....   \n",
       "4  [-0.5812379146808492, -0.5912171246973127, -0....   \n",
       "\n",
       "                                     neuron_2_traj_y  \\\n",
       "0  [-0.14210072267696994, -0.15209691927336091, -...   \n",
       "1  [-0.5711813189370029, -0.561193924685258, -0.5...   \n",
       "2  [-0.8271803775327384, -0.8171824274750428, -0....   \n",
       "3  [0.003187626256278886, -0.006777421164232556, ...   \n",
       "4  [-0.2879158187131131, -0.2779415622049374, -0....   \n",
       "\n",
       "                                          neuron_2_a  \\\n",
       "0  [0.8773813043769291, 0.8674064077077142, 0.857...   \n",
       "1  [-0.7176906578592621, -0.7076961265119293, -0....   \n",
       "2  [0.614342217680062, 0.6243168679269107, 0.6341...   \n",
       "3  [-0.8460986294507157, -0.8361049106988461, -0....   \n",
       "4  [-0.8896194113286507, -0.8996064555783428, -0....   \n",
       "\n",
       "                                     neuron_3_traj_x  \\\n",
       "0  [-0.3901061580047561, -0.40011432188214907, -0...   \n",
       "1  [-0.6033631337213354, -0.6133351835050077, -0....   \n",
       "2  [0.48182082569562157, 0.4718443777930093, 0.46...   \n",
       "3  [0.5510289117407168, 0.5410544171290782, 0.531...   \n",
       "4  [-0.44030687544530067, -0.43031876432052957, -...   \n",
       "\n",
       "                                     neuron_3_traj_y  \\\n",
       "0  [0.9023765967521633, 0.8923734851140437, 0.882...   \n",
       "1  [-0.037621091574681964, -0.027682692873146224,...   \n",
       "2  [-0.8208963187251731, -0.8308653499925115, -0....   \n",
       "3  [0.7746646256741603, 0.7846470018882555, 0.794...   \n",
       "4  [-0.3015053483074758, -0.3114836853247931, -0....   \n",
       "\n",
       "                                          neuron_3_a  \\\n",
       "0  [0.8985326758943212, 0.888549328200647, 0.8786...   \n",
       "1  [-0.3847866361030847, -0.3747914193398116, -0....   \n",
       "2  [-0.4127978655943836, -0.4028392054564854, -0....   \n",
       "3  [-0.14687090574462935, -0.136878266395576, -0....   \n",
       "4  [0.9253406038067883, 0.9153598273110514, 0.905...   \n",
       "\n",
       "                                     neuron_4_traj_x  \\\n",
       "0  [-0.08146624588700624, -0.09148276213940347, -...   \n",
       "1  [0.5447934254375777, 0.5347979046937044, 0.524...   \n",
       "2  [-0.17762550869422278, -0.167609188789303, -0....   \n",
       "3  [-0.10855191227305117, -0.11852445875255753, -...   \n",
       "4  [0.6832410369747159, 0.6731972297874452, 0.662...   \n",
       "\n",
       "                                     neuron_4_traj_y  \\\n",
       "0  [-0.6320223581727991, -0.6220146222724071, -0....   \n",
       "1  [-0.2676555794709, -0.2776532676193942, -0.287...   \n",
       "2  [0.24549847650152112, 0.2555081782225608, 0.26...   \n",
       "3  [-0.1621753623082901, -0.17211670559951053, -0...   \n",
       "4  [-0.08905824480847835, -0.07901920388369182, -...   \n",
       "\n",
       "                                          neuron_4_a       teacher_neurons_x  \\\n",
       "0  [-0.46955732204498024, -0.4788629582213706, -0...  [0.6, -0.5, -0.2, 0.1]   \n",
       "1  [-0.90526646287519, -0.8952726096132514, -0.88...  [0.6, -0.5, -0.2, 0.1]   \n",
       "2  [0.11068671047432999, 0.12065188530342981, 0.1...  [0.6, -0.5, -0.2, 0.1]   \n",
       "3  [-0.20459419207217922, -0.1946012857907619, -0...  [0.6, -0.5, -0.2, 0.1]   \n",
       "4  [-0.05963631982232642, -0.06961190742913544, -...  [0.6, -0.5, -0.2, 0.1]   \n",
       "\n",
       "        teacher_neurons_y  \n",
       "0  [0.5, 0.5, -0.6, -0.6]  \n",
       "1  [0.5, 0.5, -0.6, -0.6]  \n",
       "2  [0.5, 0.5, -0.6, -0.6]  \n",
       "3  [0.5, 0.5, -0.6, -0.6]  \n",
       "4  [0.5, 0.5, -0.6, -0.6]  "
      ]
     },
     "execution_count": 427,
     "metadata": {},
     "output_type": "execute_result"
    }
   ],
   "source": [
    "data.head()"
   ]
  },
  {
   "cell_type": "markdown",
   "metadata": {
    "id": "KiYPQo928tIe"
   },
   "source": [
    "# Models"
   ]
  },
  {
   "cell_type": "markdown",
   "metadata": {
    "id": "-nq_zF38llaS"
   },
   "source": [
    "A dummy network that receives as input the precomputed incoming and outgoing weights and sets them directly."
   ]
  },
  {
   "cell_type": "code",
   "execution_count": 428,
   "metadata": {
    "id": "9mR9ZDc-li1t"
   },
   "outputs": [],
   "source": [
    "torch.set_default_dtype(torch.float64)\n",
    "class DummyNetwork(nn.Module):\n",
    "  def __init__(self, D_in, H, D_out, w_in, w_out):\n",
    "    \"\"\"\n",
    "    In the constructor we instantiate two nn.Linear modules and assign them as\n",
    "    member variables.\n",
    "\n",
    "    D_in: input dimension\n",
    "    H: dimension of hidden layer\n",
    "    D_out: output dimension of the first layer\n",
    "    \"\"\"\n",
    "    super(DummyNetwork, self).__init__()\n",
    "    self.linear1 = nn.Linear(D_in, H, bias=False)\n",
    "    self.linear2 = nn.Linear(H, D_out, bias=False)\n",
    "    self.linear1.weight = torch.nn.Parameter(w_in)\n",
    "    self.linear2.weight = torch.nn.Parameter(w_out)\n",
    "  def forward(self, x):\n",
    "    \"\"\"\n",
    "    In the forward function we accept a Variable of input data and we must\n",
    "    return a Variable of output data. We can use Modules defined in the\n",
    "    constructor as well as arbitrary operators on Variables.\n",
    "    \"\"\"\n",
    "    h_sigmoid = torch.sigmoid(self.linear1(x))\n",
    "    y_pred = self.linear2(h_sigmoid)\n",
    "    return y_pred"
   ]
  },
  {
   "cell_type": "markdown",
   "metadata": {
    "id": "efinskp8bpTr"
   },
   "source": [
    "Teacher model"
   ]
  },
  {
   "cell_type": "code",
   "execution_count": 429,
   "metadata": {
    "id": "Hqwok2Kyc771"
   },
   "outputs": [],
   "source": [
    "class TeacherNetwork(nn.Module):\n",
    "  def __init__(self, D_in, H, D_out):\n",
    "    \"\"\"\n",
    "    In the constructor we instantiate two nn.Linear modules and assign them as\n",
    "    member variables.\n",
    "\n",
    "    D_in: input dimension\n",
    "    H: dimension of hidden layer\n",
    "    D_out: output dimension of the first layer\n",
    "    \"\"\"\n",
    "    super(TeacherNetwork, self).__init__()\n",
    "    self.linear1 = nn.Linear(D_in, H, bias=False)\n",
    "    self.linear2 = nn.Linear(H, D_out, bias=False)\n",
    "    self.linear1.weight = torch.nn.Parameter(torch.transpose(torch.DoubleTensor([[0.6, -0.5, -0.2, 0.1], [0.5, 0.5, -0.6, -0.6]]), 0, 1))\n",
    "    self.linear2.weight = torch.nn.Parameter(torch.transpose(torch.DoubleTensor([[1], [-1], [1], [-1]]), 0, 1))\n",
    "  def forward(self, x):\n",
    "    \"\"\"\n",
    "    In the forward function we accept a Variable of input data and we must\n",
    "    return a Variable of output data. We can use Modules defined in the\n",
    "    constructor as well as arbitrary operators on Variables.\n",
    "    \"\"\"\n",
    "    h_sigmoid = torch.sigmoid(self.linear1(x))\n",
    "    y_pred = self.linear2(h_sigmoid)\n",
    "    return y_pred"
   ]
  },
  {
   "cell_type": "markdown",
   "metadata": {
    "id": "agSXav339FMW"
   },
   "source": [
    "# Dataset"
   ]
  },
  {
   "cell_type": "code",
   "execution_count": 430,
   "metadata": {
    "id": "B_ahyjA-bu_O"
   },
   "outputs": [
    {
     "name": "stdout",
     "output_type": "stream",
     "text": [
      "1681\n"
     ]
    }
   ],
   "source": [
    "D_in, H_teacher, H_student, D_out = 2, 4, 5, 1\n",
    "\n",
    "def construct_dataset():\n",
    "  data = []\n",
    "  for y in np.arange(-5, 5.1, .25):\n",
    "    for x in np.arange(-5, 5.1, .25):\n",
    "      data.append([x, y])\n",
    "  return data\n",
    "\n",
    "dataset = torch.DoubleTensor(construct_dataset()) \n",
    "print(len(construct_dataset()))"
   ]
  },
  {
   "cell_type": "markdown",
   "metadata": {
    "id": "loCS9I5L9Htc"
   },
   "source": [
    "# Labels"
   ]
  },
  {
   "cell_type": "code",
   "execution_count": 431,
   "metadata": {
    "id": "vQjZ7UIfdBbT"
   },
   "outputs": [],
   "source": [
    "teacher_model = TeacherNetwork(D_in, H_teacher, D_out)\n",
    "y_labels = teacher_model(dataset).detach()"
   ]
  },
  {
   "cell_type": "markdown",
   "metadata": {
    "id": "Xw4duwCNddQb"
   },
   "source": [
    "# Pytorch-based helper for computing the Hessian"
   ]
  },
  {
   "cell_type": "code",
   "execution_count": 432,
   "metadata": {
    "id": "kr6e_Wpbdctf"
   },
   "outputs": [],
   "source": [
    "def eval_hessian(loss_grad, model):\n",
    "  cnt = 0\n",
    "  for g in loss_grad:\n",
    "      g_vector = g.contiguous().view(-1) if cnt == 0 else torch.cat([g_vector, g.contiguous().view(-1)])\n",
    "      cnt = 1\n",
    "  grad_norm = torch.norm(g_vector)\n",
    "  l = g_vector.size(0)\n",
    "  hessian = torch.zeros((l, l), dtype = torch.float64)\n",
    "  for idx in range(l):\n",
    "      grad2rd = torch.autograd.grad(g_vector[idx], model.parameters(), create_graph=True)\n",
    "      cnt = 0\n",
    "      for g in grad2rd: \n",
    "          g2 = g.contiguous().view(-1) if cnt == 0 else torch.cat([g2, g.contiguous().view(-1)])\n",
    "          cnt = 1\n",
    "      hessian[idx] = g2\n",
    "  # Symmetrize the Hessian.\n",
    "  hessian = (hessian + hessian.T) / 2\n",
    "  return grad_norm.detach().numpy(), hessian.detach().numpy()"
   ]
  },
  {
   "cell_type": "markdown",
   "metadata": {
    "id": "YQzVmzY59Ty1"
   },
   "source": [
    "# Selection of high loss points"
   ]
  },
  {
   "cell_type": "code",
   "execution_count": 433,
   "metadata": {
    "id": "yOgIvE2mCrvQ"
   },
   "outputs": [
    {
     "data": {
      "text/plain": [
       "426"
      ]
     },
     "execution_count": 433,
     "metadata": {},
     "output_type": "execute_result"
    }
   ],
   "source": [
    "max_loss_data = data[data['loss'] >= 1e-5]\n",
    "len(max_loss_data)"
   ]
  },
  {
   "cell_type": "code",
   "execution_count": 434,
   "metadata": {},
   "outputs": [],
   "source": [
    "# max_loss_data.to_csv('experiments_local_min.csv')"
   ]
  },
  {
   "cell_type": "markdown",
   "metadata": {
    "id": "O6Yy6DFJ9jE7"
   },
   "source": [
    "## Select the point with minimum eigenvalue (in magnitude)"
   ]
  },
  {
   "cell_type": "markdown",
   "metadata": {
    "id": "ueyRqoqF2bNm"
   },
   "source": [
    "### Helper for extracting the weights from one data point."
   ]
  },
  {
   "cell_type": "code",
   "execution_count": 435,
   "metadata": {
    "id": "cVYwzm-w24Go"
   },
   "outputs": [],
   "source": [
    "def extract_weights(data_point):\n",
    "  incoming_weights_x = []\n",
    "  incoming_weights_y = []\n",
    "  outgoing_weights = []\n",
    "\n",
    "  for i in range(0, int(data_point['student size'])):\n",
    "    neuron_traj_x = np.fromstring(data_point['neuron_' + str(i) + '_traj_x'][1:-1], dtype=float, sep=',')\n",
    "    neuron_traj_y = np.fromstring(data_point['neuron_' + str(i) + '_traj_y'][1:-1], dtype=float, sep=',')\n",
    "    incoming_weights_x.append(neuron_traj_x[-1])\n",
    "    incoming_weights_y.append(neuron_traj_y[-1])\n",
    "\n",
    "    neuron_traj_out = np.fromstring(data_point['neuron_' + str(i) + '_a'][1:-1], dtype=float, sep=',')\n",
    "\n",
    "    outgoing_weights.append(neuron_traj_out[-1])\n",
    "\n",
    "  return incoming_weights_x, incoming_weights_y, outgoing_weights"
   ]
  },
  {
   "cell_type": "code",
   "execution_count": 436,
   "metadata": {
    "id": "id_-izg-DQsu"
   },
   "outputs": [
    {
     "data": {
      "text/html": [
       "<div>\n",
       "<style scoped>\n",
       "    .dataframe tbody tr th:only-of-type {\n",
       "        vertical-align: middle;\n",
       "    }\n",
       "\n",
       "    .dataframe tbody tr th {\n",
       "        vertical-align: top;\n",
       "    }\n",
       "\n",
       "    .dataframe thead th {\n",
       "        text-align: right;\n",
       "    }\n",
       "</style>\n",
       "<table border=\"1\" class=\"dataframe\">\n",
       "  <thead>\n",
       "    <tr style=\"text-align: right;\">\n",
       "      <th></th>\n",
       "      <th>loss</th>\n",
       "      <th>gradient norm</th>\n",
       "      <th>student size</th>\n",
       "      <th>neuron_0_traj_x</th>\n",
       "      <th>neuron_0_traj_y</th>\n",
       "      <th>neuron_0_a</th>\n",
       "      <th>neuron_1_traj_x</th>\n",
       "      <th>neuron_1_traj_y</th>\n",
       "      <th>neuron_1_a</th>\n",
       "      <th>neuron_2_traj_x</th>\n",
       "      <th>neuron_2_traj_y</th>\n",
       "      <th>neuron_2_a</th>\n",
       "      <th>neuron_3_traj_x</th>\n",
       "      <th>neuron_3_traj_y</th>\n",
       "      <th>neuron_3_a</th>\n",
       "      <th>neuron_4_traj_x</th>\n",
       "      <th>neuron_4_traj_y</th>\n",
       "      <th>neuron_4_a</th>\n",
       "      <th>teacher_neurons_x</th>\n",
       "      <th>teacher_neurons_y</th>\n",
       "    </tr>\n",
       "  </thead>\n",
       "  <tbody>\n",
       "    <tr>\n",
       "      <th>554</th>\n",
       "      <td>0.000098</td>\n",
       "      <td>1.456077e-09</td>\n",
       "      <td>5</td>\n",
       "      <td>[0.029438853469671122, 0.03943104624978412, 0....</td>\n",
       "      <td>[0.0845151211773385, 0.09449931162900915, 0.10...</td>\n",
       "      <td>[0.4244643637563562, 0.43444141096843913, 0.44...</td>\n",
       "      <td>[0.9131714780143656, 0.923151530819263, 0.9330...</td>\n",
       "      <td>[0.02840385042721083, 0.038387662608634895, 0....</td>\n",
       "      <td>[0.4001589942359115, 0.4101367416224403, 0.419...</td>\n",
       "      <td>[0.43519416467128, 0.44519534447872217, 0.4551...</td>\n",
       "      <td>[0.5681585436017709, 0.5781098255212015, 0.587...</td>\n",
       "      <td>[0.1700401093699503, 0.18001644104202252, 0.18...</td>\n",
       "      <td>[0.8795288041806852, 0.8695352485000605, 0.859...</td>\n",
       "      <td>[0.7410030065906386, 0.7310398324637591, 0.721...</td>\n",
       "      <td>[-0.7221097008256196, -0.7121341923135196, -0....</td>\n",
       "      <td>[0.14151475097768018, 0.13152562035912851, 0.1...</td>\n",
       "      <td>[0.5015550235608282, 0.4915618444288001, 0.481...</td>\n",
       "      <td>[-0.7009683350228368, -0.6910016451660572, -0....</td>\n",
       "      <td>[0.6, -0.5, -0.2, 0.1]</td>\n",
       "      <td>[0.5, 0.5, -0.6, -0.6]</td>\n",
       "    </tr>\n",
       "  </tbody>\n",
       "</table>\n",
       "</div>"
      ],
      "text/plain": [
       "         loss  gradient norm  student size  \\\n",
       "554  0.000098   1.456077e-09             5   \n",
       "\n",
       "                                       neuron_0_traj_x  \\\n",
       "554  [0.029438853469671122, 0.03943104624978412, 0....   \n",
       "\n",
       "                                       neuron_0_traj_y  \\\n",
       "554  [0.0845151211773385, 0.09449931162900915, 0.10...   \n",
       "\n",
       "                                            neuron_0_a  \\\n",
       "554  [0.4244643637563562, 0.43444141096843913, 0.44...   \n",
       "\n",
       "                                       neuron_1_traj_x  \\\n",
       "554  [0.9131714780143656, 0.923151530819263, 0.9330...   \n",
       "\n",
       "                                       neuron_1_traj_y  \\\n",
       "554  [0.02840385042721083, 0.038387662608634895, 0....   \n",
       "\n",
       "                                            neuron_1_a  \\\n",
       "554  [0.4001589942359115, 0.4101367416224403, 0.419...   \n",
       "\n",
       "                                       neuron_2_traj_x  \\\n",
       "554  [0.43519416467128, 0.44519534447872217, 0.4551...   \n",
       "\n",
       "                                       neuron_2_traj_y  \\\n",
       "554  [0.5681585436017709, 0.5781098255212015, 0.587...   \n",
       "\n",
       "                                            neuron_2_a  \\\n",
       "554  [0.1700401093699503, 0.18001644104202252, 0.18...   \n",
       "\n",
       "                                       neuron_3_traj_x  \\\n",
       "554  [0.8795288041806852, 0.8695352485000605, 0.859...   \n",
       "\n",
       "                                       neuron_3_traj_y  \\\n",
       "554  [0.7410030065906386, 0.7310398324637591, 0.721...   \n",
       "\n",
       "                                            neuron_3_a  \\\n",
       "554  [-0.7221097008256196, -0.7121341923135196, -0....   \n",
       "\n",
       "                                       neuron_4_traj_x  \\\n",
       "554  [0.14151475097768018, 0.13152562035912851, 0.1...   \n",
       "\n",
       "                                       neuron_4_traj_y  \\\n",
       "554  [0.5015550235608282, 0.4915618444288001, 0.481...   \n",
       "\n",
       "                                            neuron_4_a  \\\n",
       "554  [-0.7009683350228368, -0.6910016451660572, -0....   \n",
       "\n",
       "          teacher_neurons_x       teacher_neurons_y  \n",
       "554  [0.6, -0.5, -0.2, 0.1]  [0.5, 0.5, -0.6, -0.6]  "
      ]
     },
     "execution_count": 436,
     "metadata": {},
     "output_type": "execute_result"
    }
   ],
   "source": [
    "sample_point = max_loss_data.sample()\n",
    "sample_point"
   ]
  },
  {
   "cell_type": "code",
   "execution_count": 437,
   "metadata": {
    "id": "SxWnWsztfrS2"
   },
   "outputs": [],
   "source": [
    "for idx, sample_point in sample_point.iterrows():\n",
    "    pass"
   ]
  },
  {
   "cell_type": "code",
   "execution_count": 438,
   "metadata": {
    "id": "eOevC2rJxGlY"
   },
   "outputs": [
    {
     "data": {
      "text/plain": [
       "9.824400349850165e-05"
      ]
     },
     "execution_count": 438,
     "metadata": {},
     "output_type": "execute_result"
    }
   ],
   "source": [
    "sample_point['loss']"
   ]
  },
  {
   "cell_type": "code",
   "execution_count": 439,
   "metadata": {
    "id": "uyBNM1RhxbGt"
   },
   "outputs": [
    {
     "data": {
      "text/plain": [
       "1.456077366509556e-09"
      ]
     },
     "execution_count": 439,
     "metadata": {},
     "output_type": "execute_result"
    }
   ],
   "source": [
    "sample_point['gradient norm']"
   ]
  },
  {
   "cell_type": "code",
   "execution_count": 440,
   "metadata": {
    "id": "qIoT_UQPFaC4"
   },
   "outputs": [
    {
     "name": "stdout",
     "output_type": "stream",
     "text": [
      "[0.010757629797588755, 0.8054606105591517, 1.9462998594549623, 1.4579361574868825, -1.418673511576729]\n",
      "[-0.0025339474620476535, 0.4804371057503569, 1.6275843313069003, -0.9812559069154805, 0.9601993822686231]\n",
      "[11.570444911846787, 0.4358765290685335, 0.04782891229293919, -5.85261462660909, -6.201535728101241]\n"
     ]
    }
   ],
   "source": [
    "incoming_weights_x, incoming_weights_y, outgoing_weights = extract_weights(sample_point)\n",
    "print(incoming_weights_x)\n",
    "print(incoming_weights_y)\n",
    "print(outgoing_weights)"
   ]
  },
  {
   "cell_type": "code",
   "execution_count": 441,
   "metadata": {
    "id": "jv4zxr2KIpVw"
   },
   "outputs": [],
   "source": [
    "teacher_neurons_x = [0.6, -0.5, -0.2, 0.1]\n",
    "teacher_neurons_y = [0.5, 0.5, -0.6, -0.6]"
   ]
  },
  {
   "cell_type": "markdown",
   "metadata": {
    "id": "TW8LtUQe9uaF"
   },
   "source": [
    "## Plotting of the neuron point"
   ]
  },
  {
   "cell_type": "code",
   "execution_count": 442,
   "metadata": {
    "id": "ufXZMb0kIST2"
   },
   "outputs": [
    {
     "data": {
      "text/plain": [
       "Text(0, 0.5, 'w2')"
      ]
     },
     "execution_count": 442,
     "metadata": {},
     "output_type": "execute_result"
    },
    {
     "data": {
      "image/png": "[encoded data removed]",
      "text/plain": [
       "<Figure size 432x288 with 2 Axes>"
      ]
     },
     "metadata": {
      "needs_background": "light"
     },
     "output_type": "display_data"
    }
   ],
   "source": [
    "plt.scatter(teacher_neurons_x, teacher_neurons_y, marker=\"*\")\n",
    "\n",
    "plt.scatter(incoming_weights_x,\n",
    "            incoming_weights_y,\n",
    "            c = outgoing_weights,\n",
    "            cmap = matplotlib.cm.jet)\n",
    "\n",
    "plt.colorbar()\n",
    "plt.xlabel('w1')\n",
    "plt.ylabel('w2')"
   ]
  },
  {
   "cell_type": "code",
   "execution_count": 443,
   "metadata": {
    "id": "Rw2OVgmsJQzm"
   },
   "outputs": [],
   "source": [
    "# max_loss_data[abs(max_loss_data['w31'] - teacher_neurons_x[0]) == min(abs(max_loss_data['w31'] - teacher_neurons_x[0]) )]\n",
    "# sample_point = max_loss_data[max_loss_data['smallest_heg'] == min(abs(max_loss_data['smallest_heg']))]"
   ]
  },
  {
   "cell_type": "code",
   "execution_count": 444,
   "metadata": {
    "id": "f6zMwaEvH-bF"
   },
   "outputs": [],
   "source": [
    "\n",
    "\n",
    "# for index, row in max_loss_data.iterrows():\n",
    "#   incoming_weights_x, incoming_weights_y, outgoing_weights = extract_weights(row)\n",
    "\n",
    "#   plt.scatter(teacher_neurons_x, teacher_neurons_y, marker=\"*\")\n",
    "#   plt.scatter(incoming_weights_x,\n",
    "#             incoming_weights_y,\n",
    "#             c = outgoing_weights,\n",
    "#             cmap = matplotlib.cm.jet)\n",
    "\n",
    "#   plt.colorbar()\n",
    "#   plt.xlabel('w1')\n",
    "#   plt.ylabel('w2')\n"
   ]
  },
  {
   "cell_type": "markdown",
   "metadata": {
    "id": "SOyq5Fcz91mF"
   },
   "source": [
    "## Pytorch-based eigenvalue computation"
   ]
  },
  {
   "cell_type": "code",
   "execution_count": 445,
   "metadata": {
    "id": "MNXhL8UhNF5q"
   },
   "outputs": [
    {
     "name": "stdout",
     "output_type": "stream",
     "text": [
      "loss at the end:  tensor(9.8244e-05, grad_fn=<MseLossBackward>)\n",
      "gradient norm at the end:  1.456077366509556e-09\n",
      "smallest eigenvalue at the end:  2.405309439313363e-10\n"
     ]
    }
   ],
   "source": [
    "w_in = torch.DoubleTensor([[incoming_weights_x[0], incoming_weights_y[0]],\n",
    "                           [incoming_weights_x[1], incoming_weights_y[1]],\n",
    "                           [incoming_weights_x[2], incoming_weights_y[2]],\n",
    "                           [incoming_weights_x[3], incoming_weights_y[3]],\n",
    "                           [incoming_weights_x[4], incoming_weights_y[4]]])\n",
    "w_out = torch.DoubleTensor([outgoing_weights])\n",
    "dummy_model = DummyNetwork(D_in, H_student, D_out, w_in, w_out)\n",
    "loss_grad = torch.autograd.grad(nn.MSELoss()(dummy_model(dataset), y_labels), dummy_model.parameters(), create_graph=True)\n",
    "grad_norm, hessian = eval_hessian(loss_grad, dummy_model)\n",
    "smallest_eigenvalue = np.min(np.linalg.eigvals(hessian))\n",
    "\n",
    "print('loss at the end: ', nn.MSELoss()(dummy_model(dataset), y_labels))\n",
    "print('gradient norm at the end: ', grad_norm)\n",
    "print('smallest eigenvalue at the end: ', smallest_eigenvalue)"
   ]
  },
  {
   "cell_type": "markdown",
   "metadata": {
    "id": "prjlJN2MQXmu"
   },
   "source": [
    "## Smallest eigenvalue using JAX"
   ]
  },
  {
   "cell_type": "code",
   "execution_count": 446,
   "metadata": {
    "id": "rWPIRfmUQNyA"
   },
   "outputs": [],
   "source": [
    "import jax.numpy as jnp\n",
    "from jax import nn as jax_nn\n",
    "from jax.config import config; config.update(\"jax_enable_x64\", True)\n",
    "jnp.set_printoptions(precision=32)\n",
    "\n",
    "jnp_inputs = jnp.array(construct_dataset(), dtype=jnp.float64)\n",
    "jnp_labels = jnp.array(teacher_model(dataset).detach(), dtype=jnp.float64)\n",
    "\n",
    "def predict(w_in, w_out):\n",
    "  return w_out @ jnp.transpose(jax_nn.sigmoid(jnp_inputs @ jnp.transpose(w_in)))\n",
    "\n",
    "w_in = jnp.array([[incoming_weights_x[0], incoming_weights_y[0]],\n",
    "                  [incoming_weights_x[1], incoming_weights_y[1]],\n",
    "                  [incoming_weights_x[2], incoming_weights_y[2]],\n",
    "                  [incoming_weights_x[3], incoming_weights_y[3]],\n",
    "                  [incoming_weights_x[4], incoming_weights_y[4]]], dtype=jnp.float64)\n",
    "w_out = jnp.array(outgoing_weights, dtype=jnp.float64)"
   ]
  },
  {
   "cell_type": "markdown",
   "metadata": {
    "id": "ILeF_n5o-O3o"
   },
   "source": [
    "### Loss in JAX"
   ]
  },
  {
   "cell_type": "markdown",
   "metadata": {
    "id": "QPLHmUvy-D_H"
   },
   "source": [
    "Loss of the network computed in JAX."
   ]
  },
  {
   "cell_type": "code",
   "execution_count": 447,
   "metadata": {
    "id": "99LA0Y8IGrZK"
   },
   "outputs": [
    {
     "name": "stdout",
     "output_type": "stream",
     "text": [
      "9.824400349850147e-05\n"
     ]
    }
   ],
   "source": [
    "def loss(w):\n",
    "  w_in = w[0 : 2 * H_student].reshape(D_in, H_student).T\n",
    "  w_out = w[2 * H_student : ].reshape(1, H_student)\n",
    "  preds = predict(w_in, w_out).T\n",
    "  return jnp.mean(jnp.mean(jnp.square(preds - jnp_labels)))\n",
    "print(loss(jnp.append(w_in.T.reshape(D_in * H_student), w_out.reshape(H_student))))"
   ]
  },
  {
   "cell_type": "markdown",
   "metadata": {
    "id": "JbhAScdX-RFY"
   },
   "source": [
    "### Hessian in JAX"
   ]
  },
  {
   "cell_type": "code",
   "execution_count": 448,
   "metadata": {
    "id": "nzcFUBhol-tR"
   },
   "outputs": [],
   "source": [
    "from jax import jacfwd, jacrev, jit\n",
    "import jax\n",
    "\n",
    "def hessian(f):\n",
    "    return jacfwd(jacrev(f))\n",
    "\n",
    "H = hessian(loss)(jnp.append(w_in.T.reshape(D_in * H_student), w_out.reshape(H_student)))\n",
    "H = (H + H.T) / 2"
   ]
  },
  {
   "cell_type": "markdown",
   "metadata": {
    "id": "vC-S4CtX-W0X"
   },
   "source": [
    "### Eigenvalues in JAX"
   ]
  },
  {
   "cell_type": "code",
   "execution_count": 449,
   "metadata": {
    "id": "to7UcBE-sW6w"
   },
   "outputs": [
    {
     "name": "stdout",
     "output_type": "stream",
     "text": [
      "[2.4053122059143466e-10 3.8025342732490667e-07 3.4331439771679698e-05\n",
      " 1.4524088424214553e-04 3.2140105200760224e-04 7.7431548301523363e-04\n",
      " 1.8103889445149088e-03 1.3993360144315540e-02 2.6655205496672555e-02\n",
      " 6.8017393974100199e-02 6.8968042222945625e-01 2.5309219640493734e+00\n",
      " 8.5081663020864227e+00 1.4709793471541735e+02 1.5951827710251399e+02]\n"
     ]
    }
   ],
   "source": [
    "evals, evectors = jnp.linalg.eigh(H)\n",
    "\n",
    "print(evals)\n",
    "smallest_evector = evectors[:, jnp.argmin(evals)]"
   ]
  },
  {
   "cell_type": "markdown",
   "metadata": {},
   "source": [
    "### Plot smallest eval w.r.t. loss for entire dataset"
   ]
  },
  {
   "cell_type": "code",
   "execution_count": 455,
   "metadata": {},
   "outputs": [
    {
     "name": "stdout",
     "output_type": "stream",
     "text": [
      "8 8.368025624534006e-05\n",
      "18 8.380062138528419e-05\n",
      "42 6.224794159624118e-05\n",
      "46 6.872466655934685e-05\n",
      "65 8.368025624534002e-05\n",
      "67 8.368025624534004e-05\n",
      "71 7.316832781245215e-05\n",
      "74 6.268626268395804e-05\n",
      "75 8.368025624533997e-05\n",
      "81 8.376307418341267e-05\n",
      "86 7.309242870219874e-05\n",
      "136 8.37525918459234e-05\n",
      "150 6.22479415962407e-05\n",
      "166 6.846796496885735e-05\n",
      "171 6.846796496885746e-05\n",
      "178 8.380062138528424e-05\n",
      "192 8.380062138528423e-05\n",
      "211 7.787867813255612e-05\n",
      "232 6.224794159624389e-05\n",
      "238 7.309242870219874e-05\n",
      "241 8.368025624534004e-05\n",
      "249 6.224794159624062e-05\n",
      "252 6.22479415962406e-05\n",
      "256 4.4689090165136315e-05\n",
      "279 8.380062138528419e-05\n",
      "284 8.375259184592345e-05\n",
      "293 8.215076701029652e-05\n",
      "296 6.872466655934694e-05\n",
      "300 8.157146234378563e-05\n",
      "306 7.309242870219864e-05\n",
      "314 7.309242870219868e-05\n",
      "347 7.739613156188255e-05\n",
      "354 6.872466655934716e-05\n",
      "379 7.309242870219876e-05\n",
      "380 8.368025624534004e-05\n",
      "383 8.215076701029663e-05\n",
      "386 6.224794159624073e-05\n",
      "387 8.380062138528423e-05\n",
      "388 6.84679649688588e-05\n",
      "389 8.373841131342552e-05\n",
      "396 8.375259184592303e-05\n",
      "405 7.309242870219872e-05\n",
      "409 7.30924287021987e-05\n",
      "422 8.375259184592335e-05\n",
      "433 6.846796496885694e-05\n",
      "445 8.368025624534006e-05\n",
      "473 6.846796496885715e-05\n",
      "475 6.268626268395787e-05\n",
      "499 6.872466655934689e-05\n",
      "540 8.368025624534006e-05\n",
      "544 8.380062138528419e-05\n",
      "582 6.224794159624112e-05\n",
      "606 6.268626268395764e-05\n",
      "614 8.380062138528424e-05\n",
      "618 6.872466655934942e-05\n",
      "622 8.37384113134255e-05\n",
      "625 8.380062138528419e-05\n",
      "655 8.548772831303414e-05\n",
      "661 7.309242870219875e-05\n",
      "679 6.846796496885842e-05\n",
      "709 8.380062138528419e-05\n",
      "720 8.157146234378563e-05\n",
      "730 6.268626268395804e-05\n",
      "740 7.309242870219871e-05\n",
      "754 7.309242870219872e-05\n",
      "782 7.316832781245219e-05\n",
      "789 6.872466655934688e-05\n",
      "792 6.872466655934693e-05\n",
      "799 7.309242870219876e-05\n",
      "811 8.548772831303471e-05\n",
      "824 7.309242870219874e-05\n",
      "830 8.368025624534002e-05\n",
      "831 6.846796496885884e-05\n",
      "833 6.872466655934697e-05\n",
      "843 8.157146234378561e-05\n",
      "853 8.375259184592335e-05\n",
      "855 6.846796496886139e-05\n",
      "870 8.548772831303434e-05\n",
      "874 8.368025624534e-05\n",
      "885 8.157146234378561e-05\n",
      "894 6.224794159624064e-05\n",
      "899 8.548772831303619e-05\n",
      "907 6.872466655934688e-05\n",
      "909 7.739613156188292e-05\n",
      "920 8.376307418341267e-05\n",
      "923 6.872466655934701e-05\n",
      "924 7.309242870219867e-05\n",
      "925 8.157146234378558e-05\n",
      "931 8.548772831303456e-05\n",
      "938 8.529955400574651e-05\n",
      "957 7.73961315618837e-05\n",
      "965 8.368025624534002e-05\n",
      "967 6.846796496885952e-05\n",
      "970 8.376307418341269e-05\n",
      "978 7.316832781245217e-05\n"
     ]
    }
   ],
   "source": [
    "losses = []\n",
    "smallest_evals = []\n",
    "\n",
    "for index, row in data.iterrows():\n",
    "    incoming_weights_x, incoming_weights_y, outgoing_weights = extract_weights(row)\n",
    "    w_in_row = jnp.array([[incoming_weights_x[0], incoming_weights_y[0]],\n",
    "                  [incoming_weights_x[1], incoming_weights_y[1]],\n",
    "                  [incoming_weights_x[2], incoming_weights_y[2]],\n",
    "                  [incoming_weights_x[3], incoming_weights_y[3]],\n",
    "                  [incoming_weights_x[4], incoming_weights_y[4]]], dtype=jnp.float64)\n",
    "    w_out_row = jnp.array(outgoing_weights, dtype=jnp.float64)\n",
    "    H = hessian(loss)(jnp.append(w_in_row.T.reshape(D_in * H_student), w_out_row.reshape(H_student)))\n",
    "    H = (H + jnp.transpose(H)) / 2.0\n",
    "    evals, evectors = jnp.linalg.eigh(H)\n",
    "\n",
    "    evals.sort()\n",
    "    \n",
    "    smallest_evals.append(evals[0])\n",
    "    if evals[0] >= 1e-8 and loss(jnp.append(w_in_row.T.reshape(D_in * H_student), w_out_row.reshape(H_student))) >= 1e-6:\n",
    "        print(index, loss(jnp.append(w_in_row.T.reshape(D_in * H_student), w_out_row.reshape(H_student))))\n",
    "    losses.append(loss(jnp.append(w_in_row.T.reshape(D_in * H_student), w_out_row.reshape(H_student))))"
   ]
  },
  {
   "cell_type": "code",
   "execution_count": 451,
   "metadata": {},
   "outputs": [
    {
     "data": {
      "text/plain": [
       "Text(0, 0.5, 'Smallest eigenvalue')"
      ]
     },
     "execution_count": 451,
     "metadata": {},
     "output_type": "execute_result"
    },
    {
     "data": {
      "image/png": "[encoded data removed]",
      "text/plain": [
       "<Figure size 432x288 with 1 Axes>"
      ]
     },
     "metadata": {
      "needs_background": "light"
     },
     "output_type": "display_data"
    }
   ],
   "source": [
    "plt.scatter(losses, smallest_evals)\n",
    "plt.xlim(-1e-5, 1e-4, 4)\n",
    "plt.ylim(-1e-6, 1e-5)\n",
    "plt.xlabel('Loss')\n",
    "plt.ylabel('Smallest eigenvalue')"
   ]
  },
  {
   "cell_type": "markdown",
   "metadata": {
    "id": "2OID6WjL-c2i"
   },
   "source": [
    "## Perturbation (based on JAX evectors)"
   ]
  },
  {
   "cell_type": "markdown",
   "metadata": {
    "id": "XdVQa6t6iETd"
   },
   "source": [
    "### For one random element"
   ]
  },
  {
   "cell_type": "code",
   "execution_count": 452,
   "metadata": {
    "id": "epGcpd0xxPA8"
   },
   "outputs": [
    {
     "data": {
      "text/plain": [
       "Text(0, 0.5, 'smallest eval')"
      ]
     },
     "execution_count": 452,
     "metadata": {},
     "output_type": "execute_result"
    },
    {
     "data": {
      "image/png": "[encoded data removed]",
      "text/plain": [
       "<Figure size 1044x468 with 2 Axes>"
      ]
     },
     "metadata": {
      "needs_background": "light"
     },
     "output_type": "display_data"
    }
   ],
   "source": [
    "old_loss = loss(jnp.append(w_in.T.reshape(D_in * H_student), w_out.reshape(H_student)))\n",
    "\n",
    "perturb_lower_bound = -4.0\n",
    "perturb_upper_bound = 4.0\n",
    "perturb_step = 0.01\n",
    "\n",
    "perturb_losses = []\n",
    "perturb_evals = []\n",
    "\n",
    "weights = jnp.append(w_in.T.reshape(D_in * H_student), w_out.reshape(H_student))\n",
    "for eps in np.arange(perturb_lower_bound, perturb_upper_bound, perturb_step):\n",
    "  new_weights = weights + eps * smallest_evector\n",
    "  \n",
    "  H = hessian(loss)(new_weights)\n",
    "  H = (H + H.T) / 2\n",
    "  evals, _ = jnp.linalg.eigh(H)\n",
    "\n",
    "  perturb_evals.append(min(evals))\n",
    "  perturb_losses.append(loss(new_weights))\n",
    "\n",
    "fig, (ax1, ax2) = plt.subplots(1, 2)\n",
    "fig.set_size_inches(14.5, 6.5)\n",
    "fig.suptitle('Evolution of loss and smallest eval under perturbation')\n",
    "ax1.plot(np.arange(perturb_lower_bound, perturb_upper_bound, perturb_step), perturb_losses)\n",
    "ax1.ticklabel_format(useOffset=False)\n",
    "ax1.set_xlabel('perturbation factor')\n",
    "ax1.set_ylabel('loss')\n",
    "\n",
    "ax2.plot(np.arange(perturb_lower_bound, perturb_upper_bound, perturb_step), perturb_evals)\n",
    "ax2.set_xlabel('perturbation factor')\n",
    "ax2.set_ylabel('smallest eval')"
   ]
  },
  {
   "cell_type": "markdown",
   "metadata": {
    "id": "UJ6PKfeuiGUu"
   },
   "source": [
    "### For the entire set of high loss points"
   ]
  },
  {
   "cell_type": "code",
   "execution_count": 453,
   "metadata": {
    "id": "fCTD9QI2iLaa"
   },
   "outputs": [],
   "source": [
    "# num_saddles = 0\n",
    "# num_local_minima = 0\n",
    "# num_total = len(max_loss_data)\n",
    "# max_diff = -float(\"inf\")\n",
    "# max_abs_smallest_eval_arr = []\n",
    "\n",
    "# for index, row in max_loss_data.iterrows():\n",
    "#   old_loss = row['loss']\n",
    "#   incoming_weights_x, incoming_weights_y, outgoing_weights = extract_weights(row)\n",
    "\n",
    "#   w_in = jnp.array([[incoming_weights_x[0], incoming_weights_y[0]],\n",
    "#                   [incoming_weights_x[1], incoming_weights_y[1]],\n",
    "#                   [incoming_weights_x[2], incoming_weights_y[2]],\n",
    "#                   [incoming_weights_x[3], incoming_weights_y[3]],\n",
    "#                   [incoming_weights_x[4], incoming_weights_y[4]]], dtype=jnp.float64)\n",
    "#   w_out = jnp.array(outgoing_weights, dtype=jnp.float64)\n",
    "#   weights = jnp.append(w_in.T.reshape(D_in * H_student), w_out.reshape(H_student))\n",
    "\n",
    "#   H = hessian(loss)(jnp.append(w_in.T.reshape(D_in * H_student), w_out.reshape(H_student)))\n",
    "#   H = (H + H.T) / 2\n",
    "#   evals, evectors = jnp.linalg.eig(H)\n",
    "\n",
    "#   # Sanity check\n",
    "#   for eval in jnp.array([jax.lax.imag(eval) for eval in evals]):\n",
    "#     assert eval == 0\n",
    "\n",
    "#   evals = jnp.array([jax.lax.real(eval) for eval in evals])\n",
    "#   smallest_evector = jnp.array([jax.lax.real(elem) for elem in evectors[:, jnp.argmin(evals)]])\n",
    "\n",
    "#   max_abs_smallest_eval = -float(\"inf\")\n",
    "\n",
    "#   for eps in np.arange(perturb_lower_bound, perturb_upper_bound, perturb_step):\n",
    "#     new_weights = weights + eps * smallest_evector\n",
    "#     # print(old_loss, loss(new_weights))\n",
    "#     # print(old_loss - loss(new_weights) - old_loss / 100.0)\n",
    "#     perturbed_H = hessian(loss)(new_weights)\n",
    "#     perturbed_H = (perturbed_H + perturbed_H.T) / 2\n",
    "#     perturbed_evals, _ = jnp.linalg.eig(perturbed_H)\n",
    "\n",
    "#     max_diff = max(max_diff, old_loss - loss(new_weights))\n",
    "#     max_abs_smallest_eval = max(abs(min(perturbed_evals)), max_abs_smallest_eval)\n",
    "#   max_abs_smallest_eval_arr.append(max_abs_smallest_eval)\n",
    "\n",
    "# print('max diff between the original loss and the computed loss: ', max_diff)\n",
    "# print(max_abs_smallest_eval_arr)"
   ]
  },
  {
   "cell_type": "code",
   "execution_count": 454,
   "metadata": {
    "id": "DMK8Egxx5OCU"
   },
   "outputs": [],
   "source": [
    "# print(len(max_abs_smallest_eval_arr))"
   ]
  }
 ],
 "metadata": {
  "colab": {
   "collapsed_sections": [],
   "name": "experiments_analysis-Python-based_data.ipynb",
   "provenance": []
  },
  "kernelspec": {
   "display_name": "Python 3 (ipykernel)",
   "language": "python",
   "name": "python3"
  },
  "language_info": {
   "codemirror_mode": {
    "name": "ipython",
    "version": 3
   },
   "file_extension": ".py",
   "mimetype": "text/x-python",
   "name": "python",
   "nbconvert_exporter": "python",
   "pygments_lexer": "ipython3",
   "version": "3.7.12"
  }
 },
 "nbformat": 4,
 "nbformat_minor": 1
}
