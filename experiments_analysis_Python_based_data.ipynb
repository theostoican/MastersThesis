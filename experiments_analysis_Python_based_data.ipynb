{
  "nbformat": 4,
  "nbformat_minor": 0,
  "metadata": {
    "colab": {
      "name": "experiments_analysis-Python-based_data.ipynb",
      "provenance": [],
      "collapsed_sections": [],
      "authorship_tag": "ABX9TyMB0tH5VR7NEzsO3z8pThf7",
      "include_colab_link": true
    },
    "kernelspec": {
      "name": "python3",
      "display_name": "Python 3"
    },
    "language_info": {
      "name": "python"
    }
  },
  "cells": [
    {
      "cell_type": "markdown",
      "metadata": {
        "id": "view-in-github",
        "colab_type": "text"
      },
      "source": [
        "<a href=\"https://colab.research.google.com/github/theostoican/MastersThesis/blob/main/experiments_analysis_Python_based_data.ipynb\" target=\"_parent\"><img src=\"https://colab.research.google.com/assets/colab-badge.svg\" alt=\"Open In Colab\"/></a>"
      ]
    },
    {
      "cell_type": "code",
      "execution_count": 4,
      "metadata": {
        "id": "HR-JuDus4Dgg"
      },
      "outputs": [],
      "source": [
        "import matplotlib.pyplot as plt\n",
        "import matplotlib\n",
        "import pandas as pd\n",
        "import numpy as np\n",
        "\n",
        "import torch\n",
        "import torch.nn as nn\n",
        "from torch.autograd import Variable"
      ]
    },
    {
      "cell_type": "markdown",
      "source": [
        "# Helpers for plotting the trajectories of the weights of the neurons"
      ],
      "metadata": {
        "id": "MKMT2fhjFIW6"
      }
    },
    {
      "cell_type": "code",
      "source": [
        "def plot_trajectories(data_row):\n",
        "  convergence_neurons_incoming_x = []\n",
        "  convergence_neurons_incoming_y = []\n",
        "  convergence_neurons_outgoing = []\n",
        "\n",
        "  for i in range(0, int(data_row['student size'])):\n",
        "    neuron_traj_x = np.fromstring(data_row['neuron_' + str(i) + '_traj_x'].values[0][1:-1], dtype=float, sep=',')\n",
        "    neuron_traj_y = np.fromstring(data_row['neuron_' + str(i) + '_traj_y'].values[0][1:-1], dtype=float, sep=',')\n",
        "    plt.plot(neuron_traj_x, neuron_traj_y)\n",
        "  \n",
        "    convergence_neurons_incoming_x.append(neuron_traj_x[-1])\n",
        "    convergence_neurons_incoming_y.append(neuron_traj_y[-1])\n",
        "\n",
        "    neuron_a = float(data_row['neuron_' + str(i) + '_a'].values[0])\n",
        "    convergence_neurons_outgoing.append(neuron_a)\n",
        "\n",
        "  teacher_neurons_x = np.fromstring(data_row['teacher_neurons_x'].values[0][1 : -1], dtype=float, sep=',')\n",
        "  teacher_neurons_y = np.fromstring(data_row['teacher_neurons_y'].values[0][1 : -1], dtype=float, sep=',')\n",
        "  plt.scatter(teacher_neurons_x, teacher_neurons_y, marker=\"*\")\n",
        "\n",
        "  plt.scatter(convergence_neurons_incoming_x,\n",
        "            convergence_neurons_incoming_y,\n",
        "            c = convergence_neurons_outgoing,\n",
        "            cmap=matplotlib.cm.jet)\n",
        "  plt.colorbar()"
      ],
      "metadata": {
        "id": "cyh_igQ37r0u"
      },
      "execution_count": 5,
      "outputs": []
    },
    {
      "cell_type": "markdown",
      "source": [
        "# Read the data from the .csv file"
      ],
      "metadata": {
        "id": "_xd7SAYBFB-c"
      }
    },
    {
      "cell_type": "code",
      "source": [
        "data = pd.read_csv('experiments_data.csv', float_precision='round_trip')\n",
        "\n",
        "len(data)"
      ],
      "metadata": {
        "colab": {
          "base_uri": "https://localhost:8080/"
        },
        "id": "QiMGa1Ib64YR",
        "outputId": "000d4f55-8d27-4d8d-8916-d9b5c24ece4e"
      },
      "execution_count": 6,
      "outputs": [
        {
          "output_type": "execute_result",
          "data": {
            "text/plain": [
              "1000"
            ]
          },
          "metadata": {},
          "execution_count": 6
        }
      ]
    },
    {
      "cell_type": "code",
      "source": [
        "data.head()"
      ],
      "metadata": {
        "colab": {
          "base_uri": "https://localhost:8080/",
          "height": 461
        },
        "id": "Lz-VFq2mPBIw",
        "outputId": "136d7ca4-46a6-49c6-b60d-117b87ed482a"
      },
      "execution_count": 7,
      "outputs": [
        {
          "output_type": "execute_result",
          "data": {
            "text/plain": [
              "           loss  gradient norm  student size  \\\n",
              "0  1.823707e-30   1.804750e-16             5   \n",
              "1  1.141050e-04   1.589330e-10             5   \n",
              "2  1.406676e-32   5.495767e-17             5   \n",
              "3  1.546066e-32   2.785131e-17             5   \n",
              "4  4.008314e-31   1.415618e-16             5   \n",
              "\n",
              "                                     neuron_0_traj_x  \\\n",
              "0  [-0.6514537846346138, -0.6613901468723918, -0....   \n",
              "1  [0.25902753986908955, 0.24904284296335286, 0.2...   \n",
              "2  [0.2938811494591882, 0.2838901949095491, 0.273...   \n",
              "3  [0.3244850794760572, 0.3144863990663584, 0.304...   \n",
              "4  [-0.2506188156930773, -0.2406361254934707, -0....   \n",
              "\n",
              "                                     neuron_0_traj_y    neuron_0_a  \\\n",
              "0  [-0.18499486502349527, -0.17499569685743316, -... -1.000000e+00   \n",
              "1  [0.8962326797704556, 0.9061870683382779, 0.915... -4.211406e-01   \n",
              "2  [0.25973641861404984, 0.24970927063968004, 0.2... -2.685859e-15   \n",
              "3  [0.1730601335397981, 0.16307526867184047, 0.15...  2.744949e-17   \n",
              "4  [0.38814473226513746, 0.3981734997265581, 0.40...  1.000000e+00   \n",
              "\n",
              "                                     neuron_1_traj_x  \\\n",
              "0  [-0.4478209455390824, -0.45782150500423524, -0...   \n",
              "1  [-0.47261132395471644, -0.4825820061178115, -0...   \n",
              "2  [0.6422832982226669, 0.6323364175675436, 0.622...   \n",
              "3  [0.9236904969391342, 0.9136893427992884, 0.903...   \n",
              "4  [-0.3547220787390164, -0.3447337909021713, -0....   \n",
              "\n",
              "                                     neuron_1_traj_y  neuron_1_a  \\\n",
              "0  [-0.33042139409697746, -0.32040192608532253, -...   -0.512990   \n",
              "1  [0.1558246561988308, 0.14588128862340502, 0.13...    0.366066   \n",
              "2  [0.42277954405314677, 0.43275796861768434, 0.4...    1.000000   \n",
              "3  [0.40377262778498224, 0.39382281441864114, 0.3...   -1.000000   \n",
              "4  [0.12209538430954003, 0.11210895568632777, 0.1...    1.000000   \n",
              "\n",
              "                                     neuron_2_traj_x  \\\n",
              "0  [0.9133165346080767, 0.9033023056129078, 0.893...   \n",
              "1  [-0.41729059817171255, -0.4272726399226728, -0...   \n",
              "2  [0.6244432507895041, 0.6344350223482547, 0.644...   \n",
              "3  [-0.7464521242901787, -0.7564307992956282, -0....   \n",
              "4  [-0.5812379146808492, -0.5912171246973127, -0....   \n",
              "\n",
              "                                     neuron_2_traj_y  neuron_2_a  \\\n",
              "0  [-0.14210072267696994, -0.15209691927336091, -...    1.000000   \n",
              "1  [-0.5711813189370029, -0.561193924685258, -0.5...   -0.042692   \n",
              "2  [-0.8271803775327384, -0.8171824274750428, -0....    1.000000   \n",
              "3  [0.003187626256278886, -0.006777421164232556, ...   -1.000000   \n",
              "4  [-0.2879158187131131, -0.2779415622049374, -0....   -2.000000   \n",
              "\n",
              "                                     neuron_3_traj_x  \\\n",
              "0  [-0.3901061580047561, -0.40011432188214907, -0...   \n",
              "1  [-0.6033631337213354, -0.6133351835050077, -0....   \n",
              "2  [0.48182082569562157, 0.4718443777930093, 0.46...   \n",
              "3  [0.5510289117407168, 0.5410544171290782, 0.531...   \n",
              "4  [-0.44030687544530067, -0.43031876432052957, -...   \n",
              "\n",
              "                                     neuron_3_traj_y  neuron_3_a  \\\n",
              "0  [0.9023765967521633, 0.8923734851140437, 0.882...    1.000000   \n",
              "1  [-0.037621091574681964, -0.027682692873146224,...   10.797476   \n",
              "2  [-0.8208963187251731, -0.8308653499925115, -0....   -1.000000   \n",
              "3  [0.7746646256741603, 0.7846470018882555, 0.794...    1.000000   \n",
              "4  [-0.3015053483074758, -0.3114836853247931, -0....    1.000000   \n",
              "\n",
              "                                     neuron_4_traj_x  \\\n",
              "0  [-0.08146624588700624, -0.09148276213940347, -...   \n",
              "1  [0.5447934254375777, 0.5347979046937044, 0.524...   \n",
              "2  [-0.17762550869422278, -0.167609188789303, -0....   \n",
              "3  [-0.10855191227305117, -0.11852445875255753, -...   \n",
              "4  [0.6832410369747159, 0.6731972297874452, 0.662...   \n",
              "\n",
              "                                     neuron_4_traj_y  neuron_4_a  \\\n",
              "0  [-0.6320223581727991, -0.6220146222724071, -0....   -0.487010   \n",
              "1  [-0.2676555794709, -0.2776532676193942, -0.287...  -10.699709   \n",
              "2  [0.24549847650152112, 0.2555081782225608, 0.26...   -1.000000   \n",
              "3  [-0.1621753623082901, -0.17211670559951053, -0...    1.000000   \n",
              "4  [-0.08905824480847835, -0.07901920388369182, -...   -1.000000   \n",
              "\n",
              "        teacher_neurons_x       teacher_neurons_y  \n",
              "0  [0.6, -0.5, -0.2, 0.1]  [0.5, 0.5, -0.6, -0.6]  \n",
              "1  [0.6, -0.5, -0.2, 0.1]  [0.5, 0.5, -0.6, -0.6]  \n",
              "2  [0.6, -0.5, -0.2, 0.1]  [0.5, 0.5, -0.6, -0.6]  \n",
              "3  [0.6, -0.5, -0.2, 0.1]  [0.5, 0.5, -0.6, -0.6]  \n",
              "4  [0.6, -0.5, -0.2, 0.1]  [0.5, 0.5, -0.6, -0.6]  "
            ],
            "text/html": [
              "\n",
              "  <div id=\"df-029ca9e9-6a36-458c-a4ea-dcd7e91dafea\">\n",
              "    <div class=\"colab-df-container\">\n",
              "      <div>\n",
              "<style scoped>\n",
              "    .dataframe tbody tr th:only-of-type {\n",
              "        vertical-align: middle;\n",
              "    }\n",
              "\n",
              "    .dataframe tbody tr th {\n",
              "        vertical-align: top;\n",
              "    }\n",
              "\n",
              "    .dataframe thead th {\n",
              "        text-align: right;\n",
              "    }\n",
              "</style>\n",
              "<table border=\"1\" class=\"dataframe\">\n",
              "  <thead>\n",
              "    <tr style=\"text-align: right;\">\n",
              "      <th></th>\n",
              "      <th>loss</th>\n",
              "      <th>gradient norm</th>\n",
              "      <th>student size</th>\n",
              "      <th>neuron_0_traj_x</th>\n",
              "      <th>neuron_0_traj_y</th>\n",
              "      <th>neuron_0_a</th>\n",
              "      <th>neuron_1_traj_x</th>\n",
              "      <th>neuron_1_traj_y</th>\n",
              "      <th>neuron_1_a</th>\n",
              "      <th>neuron_2_traj_x</th>\n",
              "      <th>neuron_2_traj_y</th>\n",
              "      <th>neuron_2_a</th>\n",
              "      <th>neuron_3_traj_x</th>\n",
              "      <th>neuron_3_traj_y</th>\n",
              "      <th>neuron_3_a</th>\n",
              "      <th>neuron_4_traj_x</th>\n",
              "      <th>neuron_4_traj_y</th>\n",
              "      <th>neuron_4_a</th>\n",
              "      <th>teacher_neurons_x</th>\n",
              "      <th>teacher_neurons_y</th>\n",
              "    </tr>\n",
              "  </thead>\n",
              "  <tbody>\n",
              "    <tr>\n",
              "      <th>0</th>\n",
              "      <td>1.823707e-30</td>\n",
              "      <td>1.804750e-16</td>\n",
              "      <td>5</td>\n",
              "      <td>[-0.6514537846346138, -0.6613901468723918, -0....</td>\n",
              "      <td>[-0.18499486502349527, -0.17499569685743316, -...</td>\n",
              "      <td>-1.000000e+00</td>\n",
              "      <td>[-0.4478209455390824, -0.45782150500423524, -0...</td>\n",
              "      <td>[-0.33042139409697746, -0.32040192608532253, -...</td>\n",
              "      <td>-0.512990</td>\n",
              "      <td>[0.9133165346080767, 0.9033023056129078, 0.893...</td>\n",
              "      <td>[-0.14210072267696994, -0.15209691927336091, -...</td>\n",
              "      <td>1.000000</td>\n",
              "      <td>[-0.3901061580047561, -0.40011432188214907, -0...</td>\n",
              "      <td>[0.9023765967521633, 0.8923734851140437, 0.882...</td>\n",
              "      <td>1.000000</td>\n",
              "      <td>[-0.08146624588700624, -0.09148276213940347, -...</td>\n",
              "      <td>[-0.6320223581727991, -0.6220146222724071, -0....</td>\n",
              "      <td>-0.487010</td>\n",
              "      <td>[0.6, -0.5, -0.2, 0.1]</td>\n",
              "      <td>[0.5, 0.5, -0.6, -0.6]</td>\n",
              "    </tr>\n",
              "    <tr>\n",
              "      <th>1</th>\n",
              "      <td>1.141050e-04</td>\n",
              "      <td>1.589330e-10</td>\n",
              "      <td>5</td>\n",
              "      <td>[0.25902753986908955, 0.24904284296335286, 0.2...</td>\n",
              "      <td>[0.8962326797704556, 0.9061870683382779, 0.915...</td>\n",
              "      <td>-4.211406e-01</td>\n",
              "      <td>[-0.47261132395471644, -0.4825820061178115, -0...</td>\n",
              "      <td>[0.1558246561988308, 0.14588128862340502, 0.13...</td>\n",
              "      <td>0.366066</td>\n",
              "      <td>[-0.41729059817171255, -0.4272726399226728, -0...</td>\n",
              "      <td>[-0.5711813189370029, -0.561193924685258, -0.5...</td>\n",
              "      <td>-0.042692</td>\n",
              "      <td>[-0.6033631337213354, -0.6133351835050077, -0....</td>\n",
              "      <td>[-0.037621091574681964, -0.027682692873146224,...</td>\n",
              "      <td>10.797476</td>\n",
              "      <td>[0.5447934254375777, 0.5347979046937044, 0.524...</td>\n",
              "      <td>[-0.2676555794709, -0.2776532676193942, -0.287...</td>\n",
              "      <td>-10.699709</td>\n",
              "      <td>[0.6, -0.5, -0.2, 0.1]</td>\n",
              "      <td>[0.5, 0.5, -0.6, -0.6]</td>\n",
              "    </tr>\n",
              "    <tr>\n",
              "      <th>2</th>\n",
              "      <td>1.406676e-32</td>\n",
              "      <td>5.495767e-17</td>\n",
              "      <td>5</td>\n",
              "      <td>[0.2938811494591882, 0.2838901949095491, 0.273...</td>\n",
              "      <td>[0.25973641861404984, 0.24970927063968004, 0.2...</td>\n",
              "      <td>-2.685859e-15</td>\n",
              "      <td>[0.6422832982226669, 0.6323364175675436, 0.622...</td>\n",
              "      <td>[0.42277954405314677, 0.43275796861768434, 0.4...</td>\n",
              "      <td>1.000000</td>\n",
              "      <td>[0.6244432507895041, 0.6344350223482547, 0.644...</td>\n",
              "      <td>[-0.8271803775327384, -0.8171824274750428, -0....</td>\n",
              "      <td>1.000000</td>\n",
              "      <td>[0.48182082569562157, 0.4718443777930093, 0.46...</td>\n",
              "      <td>[-0.8208963187251731, -0.8308653499925115, -0....</td>\n",
              "      <td>-1.000000</td>\n",
              "      <td>[-0.17762550869422278, -0.167609188789303, -0....</td>\n",
              "      <td>[0.24549847650152112, 0.2555081782225608, 0.26...</td>\n",
              "      <td>-1.000000</td>\n",
              "      <td>[0.6, -0.5, -0.2, 0.1]</td>\n",
              "      <td>[0.5, 0.5, -0.6, -0.6]</td>\n",
              "    </tr>\n",
              "    <tr>\n",
              "      <th>3</th>\n",
              "      <td>1.546066e-32</td>\n",
              "      <td>2.785131e-17</td>\n",
              "      <td>5</td>\n",
              "      <td>[0.3244850794760572, 0.3144863990663584, 0.304...</td>\n",
              "      <td>[0.1730601335397981, 0.16307526867184047, 0.15...</td>\n",
              "      <td>2.744949e-17</td>\n",
              "      <td>[0.9236904969391342, 0.9136893427992884, 0.903...</td>\n",
              "      <td>[0.40377262778498224, 0.39382281441864114, 0.3...</td>\n",
              "      <td>-1.000000</td>\n",
              "      <td>[-0.7464521242901787, -0.7564307992956282, -0....</td>\n",
              "      <td>[0.003187626256278886, -0.006777421164232556, ...</td>\n",
              "      <td>-1.000000</td>\n",
              "      <td>[0.5510289117407168, 0.5410544171290782, 0.531...</td>\n",
              "      <td>[0.7746646256741603, 0.7846470018882555, 0.794...</td>\n",
              "      <td>1.000000</td>\n",
              "      <td>[-0.10855191227305117, -0.11852445875255753, -...</td>\n",
              "      <td>[-0.1621753623082901, -0.17211670559951053, -0...</td>\n",
              "      <td>1.000000</td>\n",
              "      <td>[0.6, -0.5, -0.2, 0.1]</td>\n",
              "      <td>[0.5, 0.5, -0.6, -0.6]</td>\n",
              "    </tr>\n",
              "    <tr>\n",
              "      <th>4</th>\n",
              "      <td>4.008314e-31</td>\n",
              "      <td>1.415618e-16</td>\n",
              "      <td>5</td>\n",
              "      <td>[-0.2506188156930773, -0.2406361254934707, -0....</td>\n",
              "      <td>[0.38814473226513746, 0.3981734997265581, 0.40...</td>\n",
              "      <td>1.000000e+00</td>\n",
              "      <td>[-0.3547220787390164, -0.3447337909021713, -0....</td>\n",
              "      <td>[0.12209538430954003, 0.11210895568632777, 0.1...</td>\n",
              "      <td>1.000000</td>\n",
              "      <td>[-0.5812379146808492, -0.5912171246973127, -0....</td>\n",
              "      <td>[-0.2879158187131131, -0.2779415622049374, -0....</td>\n",
              "      <td>-2.000000</td>\n",
              "      <td>[-0.44030687544530067, -0.43031876432052957, -...</td>\n",
              "      <td>[-0.3015053483074758, -0.3114836853247931, -0....</td>\n",
              "      <td>1.000000</td>\n",
              "      <td>[0.6832410369747159, 0.6731972297874452, 0.662...</td>\n",
              "      <td>[-0.08905824480847835, -0.07901920388369182, -...</td>\n",
              "      <td>-1.000000</td>\n",
              "      <td>[0.6, -0.5, -0.2, 0.1]</td>\n",
              "      <td>[0.5, 0.5, -0.6, -0.6]</td>\n",
              "    </tr>\n",
              "  </tbody>\n",
              "</table>\n",
              "</div>\n",
              "      <button class=\"colab-df-convert\" onclick=\"convertToInteractive('df-029ca9e9-6a36-458c-a4ea-dcd7e91dafea')\"\n",
              "              title=\"Convert this dataframe to an interactive table.\"\n",
              "              style=\"display:none;\">\n",
              "        \n",
              "  <svg xmlns=\"http://www.w3.org/2000/svg\" height=\"24px\"viewBox=\"0 0 24 24\"\n",
              "       width=\"24px\">\n",
              "    <path d=\"M0 0h24v24H0V0z\" fill=\"none\"/>\n",
              "    <path d=\"M18.56 5.44l.94 2.06.94-2.06 2.06-.94-2.06-.94-.94-2.06-.94 2.06-2.06.94zm-11 1L8.5 8.5l.94-2.06 2.06-.94-2.06-.94L8.5 2.5l-.94 2.06-2.06.94zm10 10l.94 2.06.94-2.06 2.06-.94-2.06-.94-.94-2.06-.94 2.06-2.06.94z\"/><path d=\"M17.41 7.96l-1.37-1.37c-.4-.4-.92-.59-1.43-.59-.52 0-1.04.2-1.43.59L10.3 9.45l-7.72 7.72c-.78.78-.78 2.05 0 2.83L4 21.41c.39.39.9.59 1.41.59.51 0 1.02-.2 1.41-.59l7.78-7.78 2.81-2.81c.8-.78.8-2.07 0-2.86zM5.41 20L4 18.59l7.72-7.72 1.47 1.35L5.41 20z\"/>\n",
              "  </svg>\n",
              "      </button>\n",
              "      \n",
              "  <style>\n",
              "    .colab-df-container {\n",
              "      display:flex;\n",
              "      flex-wrap:wrap;\n",
              "      gap: 12px;\n",
              "    }\n",
              "\n",
              "    .colab-df-convert {\n",
              "      background-color: #E8F0FE;\n",
              "      border: none;\n",
              "      border-radius: 50%;\n",
              "      cursor: pointer;\n",
              "      display: none;\n",
              "      fill: #1967D2;\n",
              "      height: 32px;\n",
              "      padding: 0 0 0 0;\n",
              "      width: 32px;\n",
              "    }\n",
              "\n",
              "    .colab-df-convert:hover {\n",
              "      background-color: #E2EBFA;\n",
              "      box-shadow: 0px 1px 2px rgba(60, 64, 67, 0.3), 0px 1px 3px 1px rgba(60, 64, 67, 0.15);\n",
              "      fill: #174EA6;\n",
              "    }\n",
              "\n",
              "    [theme=dark] .colab-df-convert {\n",
              "      background-color: #3B4455;\n",
              "      fill: #D2E3FC;\n",
              "    }\n",
              "\n",
              "    [theme=dark] .colab-df-convert:hover {\n",
              "      background-color: #434B5C;\n",
              "      box-shadow: 0px 1px 3px 1px rgba(0, 0, 0, 0.15);\n",
              "      filter: drop-shadow(0px 1px 2px rgba(0, 0, 0, 0.3));\n",
              "      fill: #FFFFFF;\n",
              "    }\n",
              "  </style>\n",
              "\n",
              "      <script>\n",
              "        const buttonEl =\n",
              "          document.querySelector('#df-029ca9e9-6a36-458c-a4ea-dcd7e91dafea button.colab-df-convert');\n",
              "        buttonEl.style.display =\n",
              "          google.colab.kernel.accessAllowed ? 'block' : 'none';\n",
              "\n",
              "        async function convertToInteractive(key) {\n",
              "          const element = document.querySelector('#df-029ca9e9-6a36-458c-a4ea-dcd7e91dafea');\n",
              "          const dataTable =\n",
              "            await google.colab.kernel.invokeFunction('convertToInteractive',\n",
              "                                                     [key], {});\n",
              "          if (!dataTable) return;\n",
              "\n",
              "          const docLinkHtml = 'Like what you see? Visit the ' +\n",
              "            '<a target=\"_blank\" href=https://colab.research.google.com/notebooks/data_table.ipynb>data table notebook</a>'\n",
              "            + ' to learn more about interactive tables.';\n",
              "          element.innerHTML = '';\n",
              "          dataTable['output_type'] = 'display_data';\n",
              "          await google.colab.output.renderOutput(dataTable, element);\n",
              "          const docLink = document.createElement('div');\n",
              "          docLink.innerHTML = docLinkHtml;\n",
              "          element.appendChild(docLink);\n",
              "        }\n",
              "      </script>\n",
              "    </div>\n",
              "  </div>\n",
              "  "
            ]
          },
          "metadata": {},
          "execution_count": 7
        }
      ]
    },
    {
      "cell_type": "markdown",
      "source": [
        "# Models"
      ],
      "metadata": {
        "id": "KiYPQo928tIe"
      }
    },
    {
      "cell_type": "markdown",
      "source": [
        "A dummy network that receives as input the precomputed incoming and outgoing weights and sets them directly."
      ],
      "metadata": {
        "id": "-nq_zF38llaS"
      }
    },
    {
      "cell_type": "code",
      "source": [
        "torch.set_default_dtype(torch.float64)\n",
        "class DummyNetwork(nn.Module):\n",
        "  def __init__(self, D_in, H, D_out, w_in, w_out):\n",
        "    \"\"\"\n",
        "    In the constructor we instantiate two nn.Linear modules and assign them as\n",
        "    member variables.\n",
        "\n",
        "    D_in: input dimension\n",
        "    H: dimension of hidden layer\n",
        "    D_out: output dimension of the first layer\n",
        "    \"\"\"\n",
        "    super(DummyNetwork, self).__init__()\n",
        "    self.linear1 = nn.Linear(D_in, H, bias=False)\n",
        "    self.linear2 = nn.Linear(H, D_out, bias=False)\n",
        "    self.linear1.weight = torch.nn.Parameter(w_in)\n",
        "    self.linear2.weight = torch.nn.Parameter(w_out)\n",
        "  def forward(self, x):\n",
        "    \"\"\"\n",
        "    In the forward function we accept a Variable of input data and we must\n",
        "    return a Variable of output data. We can use Modules defined in the\n",
        "    constructor as well as arbitrary operators on Variables.\n",
        "    \"\"\"\n",
        "    h_sigmoid = torch.sigmoid(self.linear1(x))\n",
        "    y_pred = self.linear2(h_sigmoid)\n",
        "    return y_pred"
      ],
      "metadata": {
        "id": "9mR9ZDc-li1t"
      },
      "execution_count": 8,
      "outputs": []
    },
    {
      "cell_type": "markdown",
      "source": [
        "Teacher model"
      ],
      "metadata": {
        "id": "efinskp8bpTr"
      }
    },
    {
      "cell_type": "code",
      "source": [
        "class TeacherNetwork(nn.Module):\n",
        "  def __init__(self, D_in, H, D_out):\n",
        "    \"\"\"\n",
        "    In the constructor we instantiate two nn.Linear modules and assign them as\n",
        "    member variables.\n",
        "\n",
        "    D_in: input dimension\n",
        "    H: dimension of hidden layer\n",
        "    D_out: output dimension of the first layer\n",
        "    \"\"\"\n",
        "    super(TeacherNetwork, self).__init__()\n",
        "    self.linear1 = nn.Linear(D_in, H, bias=False)\n",
        "    self.linear2 = nn.Linear(H, D_out, bias=False)\n",
        "    self.linear1.weight = torch.nn.Parameter(torch.transpose(torch.DoubleTensor([[0.6, -0.5, -0.2, 0.1], [0.5, 0.5, -0.6, -0.6]]), 0, 1))\n",
        "    self.linear2.weight = torch.nn.Parameter(torch.transpose(torch.DoubleTensor([[1], [-1], [1], [-1]]), 0, 1))\n",
        "  def forward(self, x):\n",
        "    \"\"\"\n",
        "    In the forward function we accept a Variable of input data and we must\n",
        "    return a Variable of output data. We can use Modules defined in the\n",
        "    constructor as well as arbitrary operators on Variables.\n",
        "    \"\"\"\n",
        "    h_sigmoid = torch.sigmoid(self.linear1(x))\n",
        "    y_pred = self.linear2(h_sigmoid)\n",
        "    return y_pred"
      ],
      "metadata": {
        "id": "Hqwok2Kyc771"
      },
      "execution_count": 9,
      "outputs": []
    },
    {
      "cell_type": "markdown",
      "source": [
        "# Dataset"
      ],
      "metadata": {
        "id": "agSXav339FMW"
      }
    },
    {
      "cell_type": "code",
      "source": [
        "D_in, H_teacher, H_student, D_out = 2, 4, 5, 1\n",
        "\n",
        "def construct_dataset():\n",
        "  data = []\n",
        "  for y in np.arange(-5, 5.1, .25):\n",
        "    for x in np.arange(-5, 5.1, .25):\n",
        "      data.append([x, y])\n",
        "  return data\n",
        "\n",
        "dataset = torch.DoubleTensor(construct_dataset()) \n",
        "print(len(construct_dataset()))"
      ],
      "metadata": {
        "colab": {
          "base_uri": "https://localhost:8080/"
        },
        "id": "B_ahyjA-bu_O",
        "outputId": "c7af3b3d-629f-4495-ce7f-d13fba0ff406"
      },
      "execution_count": 10,
      "outputs": [
        {
          "output_type": "stream",
          "name": "stdout",
          "text": [
            "1681\n"
          ]
        }
      ]
    },
    {
      "cell_type": "markdown",
      "source": [
        "# Labels"
      ],
      "metadata": {
        "id": "loCS9I5L9Htc"
      }
    },
    {
      "cell_type": "code",
      "source": [
        "teacher_model = TeacherNetwork(D_in, H_teacher, D_out)\n",
        "y_labels = teacher_model(dataset).detach()"
      ],
      "metadata": {
        "id": "vQjZ7UIfdBbT"
      },
      "execution_count": 11,
      "outputs": []
    },
    {
      "cell_type": "markdown",
      "source": [
        "# Pytorch-based helper for computing the Hessian"
      ],
      "metadata": {
        "id": "Xw4duwCNddQb"
      }
    },
    {
      "cell_type": "code",
      "source": [
        "def eval_hessian(loss_grad, model):\n",
        "  cnt = 0\n",
        "  for g in loss_grad:\n",
        "      g_vector = g.contiguous().view(-1) if cnt == 0 else torch.cat([g_vector, g.contiguous().view(-1)])\n",
        "      cnt = 1\n",
        "  grad_norm = torch.norm(g_vector)\n",
        "  l = g_vector.size(0)\n",
        "  hessian = torch.zeros((l, l), dtype = torch.float64)\n",
        "  for idx in range(l):\n",
        "      grad2rd = torch.autograd.grad(g_vector[idx], model.parameters(), create_graph=True)\n",
        "      cnt = 0\n",
        "      for g in grad2rd: \n",
        "          g2 = g.contiguous().view(-1) if cnt == 0 else torch.cat([g2, g.contiguous().view(-1)])\n",
        "          cnt = 1\n",
        "      hessian[idx] = g2\n",
        "  # Symmetrize the Hessian.\n",
        "  hessian = (hessian + hessian.T) / 2\n",
        "  return grad_norm.detach().numpy(), hessian.detach().numpy()"
      ],
      "metadata": {
        "id": "kr6e_Wpbdctf"
      },
      "execution_count": 12,
      "outputs": []
    },
    {
      "cell_type": "markdown",
      "source": [
        "# Selection of high loss points"
      ],
      "metadata": {
        "id": "YQzVmzY59Ty1"
      }
    },
    {
      "cell_type": "code",
      "source": [
        "max_loss_data = data[data['loss'] >= 1e-5]\n",
        "len(max_loss_data)"
      ],
      "metadata": {
        "colab": {
          "base_uri": "https://localhost:8080/"
        },
        "id": "yOgIvE2mCrvQ",
        "outputId": "87240ea5-8a36-411a-f97d-4c993b601547"
      },
      "execution_count": 13,
      "outputs": [
        {
          "output_type": "execute_result",
          "data": {
            "text/plain": [
              "426"
            ]
          },
          "metadata": {},
          "execution_count": 13
        }
      ]
    },
    {
      "cell_type": "markdown",
      "source": [
        "## Select the point with minimum eigenvalue (in magnitude)"
      ],
      "metadata": {
        "id": "O6Yy6DFJ9jE7"
      }
    },
    {
      "cell_type": "markdown",
      "source": [
        "### Helper for extracting the weights from one data point."
      ],
      "metadata": {
        "id": "ueyRqoqF2bNm"
      }
    },
    {
      "cell_type": "code",
      "source": [
        "def extract_weights(data_point):\n",
        "  incoming_weights_x = []\n",
        "  incoming_weights_y = []\n",
        "  outgoing_weights = []\n",
        "\n",
        "  for i in range(0, int(data_point['student size'])):\n",
        "    neuron_traj_x = np.fromstring(data_point['neuron_' + str(i) + '_traj_x'].values[0][1:-1], dtype=float, sep=',')\n",
        "    neuron_traj_y = np.fromstring(data_point['neuron_' + str(i) + '_traj_y'].values[0][1:-1], dtype=float, sep=',')\n",
        "    print(neuron_traj_x[-1])\n",
        "    incoming_weights_x.append(neuron_traj_x[-1])\n",
        "    incoming_weights_y.append(neuron_traj_y[-1])\n",
        "\n",
        "    outgoing_weights.append(float(data_point['neuron_' + str(i) + '_a'].values[0]))\n",
        "\n",
        "  return incoming_weights_x, incoming_weights_y, outgoing_weights"
      ],
      "metadata": {
        "id": "cVYwzm-w24Go"
      },
      "execution_count": 14,
      "outputs": []
    },
    {
      "cell_type": "code",
      "source": [
        "sample_point = max_loss_data.sample()"
      ],
      "metadata": {
        "id": "id_-izg-DQsu"
      },
      "execution_count": 15,
      "outputs": []
    },
    {
      "cell_type": "code",
      "source": [
        "sample_point"
      ],
      "metadata": {
        "id": "SxWnWsztfrS2",
        "outputId": "93a5c840-97e9-4db1-bb0c-2f3d697571ce",
        "colab": {
          "base_uri": "https://localhost:8080/",
          "height": 197
        }
      },
      "execution_count": 16,
      "outputs": [
        {
          "output_type": "execute_result",
          "data": {
            "text/plain": [
              "         loss  gradient norm  student size  \\\n",
              "998  0.000083   5.545644e-10             5   \n",
              "\n",
              "                                       neuron_0_traj_x  \\\n",
              "998  [0.02709958598885609, 0.01710616066471931, 0.0...   \n",
              "\n",
              "                                       neuron_0_traj_y  neuron_0_a  \\\n",
              "998  [0.37682504418140517, 0.36684758872692025, 0.3...  -11.337971   \n",
              "\n",
              "                                       neuron_1_traj_x  \\\n",
              "998  [-0.884338953164589, -0.8943027454867136, -0.9...   \n",
              "\n",
              "                                       neuron_1_traj_y  neuron_1_a  \\\n",
              "998  [-0.4311035534981714, -0.42112330529353614, -0...   10.886453   \n",
              "\n",
              "                                       neuron_2_traj_x  \\\n",
              "998  [0.8856449784237215, 0.8955777438125171, 0.905...   \n",
              "\n",
              "                                       neuron_2_traj_y  neuron_2_a  \\\n",
              "998  [0.04116303983010905, 0.05114191170165615, 0.0...    0.731911   \n",
              "\n",
              "                                       neuron_3_traj_x  \\\n",
              "998  [0.43365452001322047, 0.4436177083645535, 0.45...   \n",
              "\n",
              "                                       neuron_3_traj_y  neuron_3_a  \\\n",
              "998  [0.771160059016651, 0.7611812951611233, 0.7513...   -0.106863   \n",
              "\n",
              "                                       neuron_4_traj_x  \\\n",
              "998  [-0.5001264494935529, -0.5101153899481958, -0....   \n",
              "\n",
              "                                       neuron_4_traj_y  neuron_4_a  \\\n",
              "998  [0.8303334006956768, 0.820341789113525, 0.8103...   -0.173534   \n",
              "\n",
              "          teacher_neurons_x       teacher_neurons_y  \n",
              "998  [0.6, -0.5, -0.2, 0.1]  [0.5, 0.5, -0.6, -0.6]  "
            ],
            "text/html": [
              "\n",
              "  <div id=\"df-7548e0d4-0161-4bbf-b06d-50944c4c0f25\">\n",
              "    <div class=\"colab-df-container\">\n",
              "      <div>\n",
              "<style scoped>\n",
              "    .dataframe tbody tr th:only-of-type {\n",
              "        vertical-align: middle;\n",
              "    }\n",
              "\n",
              "    .dataframe tbody tr th {\n",
              "        vertical-align: top;\n",
              "    }\n",
              "\n",
              "    .dataframe thead th {\n",
              "        text-align: right;\n",
              "    }\n",
              "</style>\n",
              "<table border=\"1\" class=\"dataframe\">\n",
              "  <thead>\n",
              "    <tr style=\"text-align: right;\">\n",
              "      <th></th>\n",
              "      <th>loss</th>\n",
              "      <th>gradient norm</th>\n",
              "      <th>student size</th>\n",
              "      <th>neuron_0_traj_x</th>\n",
              "      <th>neuron_0_traj_y</th>\n",
              "      <th>neuron_0_a</th>\n",
              "      <th>neuron_1_traj_x</th>\n",
              "      <th>neuron_1_traj_y</th>\n",
              "      <th>neuron_1_a</th>\n",
              "      <th>neuron_2_traj_x</th>\n",
              "      <th>neuron_2_traj_y</th>\n",
              "      <th>neuron_2_a</th>\n",
              "      <th>neuron_3_traj_x</th>\n",
              "      <th>neuron_3_traj_y</th>\n",
              "      <th>neuron_3_a</th>\n",
              "      <th>neuron_4_traj_x</th>\n",
              "      <th>neuron_4_traj_y</th>\n",
              "      <th>neuron_4_a</th>\n",
              "      <th>teacher_neurons_x</th>\n",
              "      <th>teacher_neurons_y</th>\n",
              "    </tr>\n",
              "  </thead>\n",
              "  <tbody>\n",
              "    <tr>\n",
              "      <th>998</th>\n",
              "      <td>0.000083</td>\n",
              "      <td>5.545644e-10</td>\n",
              "      <td>5</td>\n",
              "      <td>[0.02709958598885609, 0.01710616066471931, 0.0...</td>\n",
              "      <td>[0.37682504418140517, 0.36684758872692025, 0.3...</td>\n",
              "      <td>-11.337971</td>\n",
              "      <td>[-0.884338953164589, -0.8943027454867136, -0.9...</td>\n",
              "      <td>[-0.4311035534981714, -0.42112330529353614, -0...</td>\n",
              "      <td>10.886453</td>\n",
              "      <td>[0.8856449784237215, 0.8955777438125171, 0.905...</td>\n",
              "      <td>[0.04116303983010905, 0.05114191170165615, 0.0...</td>\n",
              "      <td>0.731911</td>\n",
              "      <td>[0.43365452001322047, 0.4436177083645535, 0.45...</td>\n",
              "      <td>[0.771160059016651, 0.7611812951611233, 0.7513...</td>\n",
              "      <td>-0.106863</td>\n",
              "      <td>[-0.5001264494935529, -0.5101153899481958, -0....</td>\n",
              "      <td>[0.8303334006956768, 0.820341789113525, 0.8103...</td>\n",
              "      <td>-0.173534</td>\n",
              "      <td>[0.6, -0.5, -0.2, 0.1]</td>\n",
              "      <td>[0.5, 0.5, -0.6, -0.6]</td>\n",
              "    </tr>\n",
              "  </tbody>\n",
              "</table>\n",
              "</div>\n",
              "      <button class=\"colab-df-convert\" onclick=\"convertToInteractive('df-7548e0d4-0161-4bbf-b06d-50944c4c0f25')\"\n",
              "              title=\"Convert this dataframe to an interactive table.\"\n",
              "              style=\"display:none;\">\n",
              "        \n",
              "  <svg xmlns=\"http://www.w3.org/2000/svg\" height=\"24px\"viewBox=\"0 0 24 24\"\n",
              "       width=\"24px\">\n",
              "    <path d=\"M0 0h24v24H0V0z\" fill=\"none\"/>\n",
              "    <path d=\"M18.56 5.44l.94 2.06.94-2.06 2.06-.94-2.06-.94-.94-2.06-.94 2.06-2.06.94zm-11 1L8.5 8.5l.94-2.06 2.06-.94-2.06-.94L8.5 2.5l-.94 2.06-2.06.94zm10 10l.94 2.06.94-2.06 2.06-.94-2.06-.94-.94-2.06-.94 2.06-2.06.94z\"/><path d=\"M17.41 7.96l-1.37-1.37c-.4-.4-.92-.59-1.43-.59-.52 0-1.04.2-1.43.59L10.3 9.45l-7.72 7.72c-.78.78-.78 2.05 0 2.83L4 21.41c.39.39.9.59 1.41.59.51 0 1.02-.2 1.41-.59l7.78-7.78 2.81-2.81c.8-.78.8-2.07 0-2.86zM5.41 20L4 18.59l7.72-7.72 1.47 1.35L5.41 20z\"/>\n",
              "  </svg>\n",
              "      </button>\n",
              "      \n",
              "  <style>\n",
              "    .colab-df-container {\n",
              "      display:flex;\n",
              "      flex-wrap:wrap;\n",
              "      gap: 12px;\n",
              "    }\n",
              "\n",
              "    .colab-df-convert {\n",
              "      background-color: #E8F0FE;\n",
              "      border: none;\n",
              "      border-radius: 50%;\n",
              "      cursor: pointer;\n",
              "      display: none;\n",
              "      fill: #1967D2;\n",
              "      height: 32px;\n",
              "      padding: 0 0 0 0;\n",
              "      width: 32px;\n",
              "    }\n",
              "\n",
              "    .colab-df-convert:hover {\n",
              "      background-color: #E2EBFA;\n",
              "      box-shadow: 0px 1px 2px rgba(60, 64, 67, 0.3), 0px 1px 3px 1px rgba(60, 64, 67, 0.15);\n",
              "      fill: #174EA6;\n",
              "    }\n",
              "\n",
              "    [theme=dark] .colab-df-convert {\n",
              "      background-color: #3B4455;\n",
              "      fill: #D2E3FC;\n",
              "    }\n",
              "\n",
              "    [theme=dark] .colab-df-convert:hover {\n",
              "      background-color: #434B5C;\n",
              "      box-shadow: 0px 1px 3px 1px rgba(0, 0, 0, 0.15);\n",
              "      filter: drop-shadow(0px 1px 2px rgba(0, 0, 0, 0.3));\n",
              "      fill: #FFFFFF;\n",
              "    }\n",
              "  </style>\n",
              "\n",
              "      <script>\n",
              "        const buttonEl =\n",
              "          document.querySelector('#df-7548e0d4-0161-4bbf-b06d-50944c4c0f25 button.colab-df-convert');\n",
              "        buttonEl.style.display =\n",
              "          google.colab.kernel.accessAllowed ? 'block' : 'none';\n",
              "\n",
              "        async function convertToInteractive(key) {\n",
              "          const element = document.querySelector('#df-7548e0d4-0161-4bbf-b06d-50944c4c0f25');\n",
              "          const dataTable =\n",
              "            await google.colab.kernel.invokeFunction('convertToInteractive',\n",
              "                                                     [key], {});\n",
              "          if (!dataTable) return;\n",
              "\n",
              "          const docLinkHtml = 'Like what you see? Visit the ' +\n",
              "            '<a target=\"_blank\" href=https://colab.research.google.com/notebooks/data_table.ipynb>data table notebook</a>'\n",
              "            + ' to learn more about interactive tables.';\n",
              "          element.innerHTML = '';\n",
              "          dataTable['output_type'] = 'display_data';\n",
              "          await google.colab.output.renderOutput(dataTable, element);\n",
              "          const docLink = document.createElement('div');\n",
              "          docLink.innerHTML = docLinkHtml;\n",
              "          element.appendChild(docLink);\n",
              "        }\n",
              "      </script>\n",
              "    </div>\n",
              "  </div>\n",
              "  "
            ]
          },
          "metadata": {},
          "execution_count": 16
        }
      ]
    },
    {
      "cell_type": "code",
      "source": [
        "sample_point['loss']"
      ],
      "metadata": {
        "colab": {
          "base_uri": "https://localhost:8080/"
        },
        "id": "eOevC2rJxGlY",
        "outputId": "e99930c2-634d-4c38-cea4-f7945aaf26e9"
      },
      "execution_count": 17,
      "outputs": [
        {
          "output_type": "execute_result",
          "data": {
            "text/plain": [
              "998    0.000083\n",
              "Name: loss, dtype: float64"
            ]
          },
          "metadata": {},
          "execution_count": 17
        }
      ]
    },
    {
      "cell_type": "code",
      "source": [
        "sample_point['gradient norm']"
      ],
      "metadata": {
        "colab": {
          "base_uri": "https://localhost:8080/"
        },
        "id": "uyBNM1RhxbGt",
        "outputId": "3aa9b372-af24-41e9-f4e0-06c64f0cb320"
      },
      "execution_count": 18,
      "outputs": [
        {
          "output_type": "execute_result",
          "data": {
            "text/plain": [
              "998    5.545644e-10\n",
              "Name: gradient norm, dtype: float64"
            ]
          },
          "metadata": {},
          "execution_count": 18
        }
      ]
    },
    {
      "cell_type": "code",
      "source": [
        "incoming_weights_x, incoming_weights_y, outgoing_weights = extract_weights(sample_point)\n",
        "print(incoming_weights_x)\n",
        "print(incoming_weights_y)\n",
        "print(outgoing_weights)"
      ],
      "metadata": {
        "colab": {
          "base_uri": "https://localhost:8080/"
        },
        "id": "qIoT_UQPFaC4",
        "outputId": "ffb8e3f7-dc04-43ed-eedf-90b91ff258b7"
      },
      "execution_count": 19,
      "outputs": [
        {
          "output_type": "stream",
          "name": "stdout",
          "text": [
            "-0.5255056204506978\n",
            "-0.5313284984110886\n",
            "0.746624626992336\n",
            "0.8427938138087145\n",
            "-1.2246064226269724\n",
            "[-0.5255056204506978, -0.5313284984110886, 0.746624626992336, 0.8427938138087145, -1.2246064226269724]\n",
            "[0.05857502971294169, 0.04708095818727199, 0.5465264434739221, 1.3164712051336125, 1.0883211498954992]\n",
            "[-11.33797091734763, 10.88645339123378, 0.7319108666356517, -0.10686313229667506, -0.17353433056700945]\n"
          ]
        }
      ]
    },
    {
      "cell_type": "code",
      "source": [
        "teacher_neurons_x = [0.6, -0.5, -0.2, 0.1]\n",
        "teacher_neurons_y = [0.5, 0.5, -0.6, -0.6]"
      ],
      "metadata": {
        "id": "jv4zxr2KIpVw"
      },
      "execution_count": 20,
      "outputs": []
    },
    {
      "cell_type": "markdown",
      "source": [
        "## Plotting of the neuron point"
      ],
      "metadata": {
        "id": "TW8LtUQe9uaF"
      }
    },
    {
      "cell_type": "code",
      "source": [
        "plt.scatter(teacher_neurons_x, teacher_neurons_y, marker=\"*\")\n",
        "\n",
        "plt.scatter(incoming_weights_x,\n",
        "            incoming_weights_y,\n",
        "            c = outgoing_weights,\n",
        "            cmap = matplotlib.cm.jet)\n",
        "\n",
        "plt.colorbar()\n",
        "plt.xlabel('w1')\n",
        "plt.ylabel('w2')"
      ],
      "metadata": {
        "colab": {
          "base_uri": "https://localhost:8080/",
          "height": 297
        },
        "id": "ufXZMb0kIST2",
        "outputId": "723ccaa4-70cc-4765-8f9a-011dcc3a4b25"
      },
      "execution_count": 21,
      "outputs": [
        {
          "output_type": "execute_result",
          "data": {
            "text/plain": [
              "Text(0, 0.5, 'w2')"
            ]
          },
          "metadata": {},
          "execution_count": 21
        },
        {
          "output_type": "display_data",
          "data": {
            "text/plain": [
              "<Figure size 432x288 with 2 Axes>"
            ],
            "image/png": "[encoded data removed]"
          },
          "metadata": {
            "needs_background": "light"
          }
        }
      ]
    },
    {
      "cell_type": "code",
      "source": [
        "# max_loss_data[abs(max_loss_data['w31'] - teacher_neurons_x[0]) == min(abs(max_loss_data['w31'] - teacher_neurons_x[0]) )]\n",
        "# sample_point = max_loss_data[max_loss_data['smallest_heg'] == min(abs(max_loss_data['smallest_heg']))]"
      ],
      "metadata": {
        "id": "Rw2OVgmsJQzm"
      },
      "execution_count": 22,
      "outputs": []
    },
    {
      "cell_type": "code",
      "source": [
        "\n",
        "\n",
        "# for index, row in max_loss_data.iterrows():\n",
        "#   incoming_weights_x, incoming_weights_y, outgoing_weights = extract_weights(row)\n",
        "\n",
        "#   plt.scatter(teacher_neurons_x, teacher_neurons_y, marker=\"*\")\n",
        "#   plt.scatter(incoming_weights_x,\n",
        "#             incoming_weights_y,\n",
        "#             c = outgoing_weights,\n",
        "#             cmap = matplotlib.cm.jet)\n",
        "\n",
        "#   plt.colorbar()\n",
        "#   plt.xlabel('w1')\n",
        "#   plt.ylabel('w2')\n"
      ],
      "metadata": {
        "id": "f6zMwaEvH-bF"
      },
      "execution_count": 23,
      "outputs": []
    },
    {
      "cell_type": "markdown",
      "source": [
        "## Pytorch-based eigenvalue computation"
      ],
      "metadata": {
        "id": "SOyq5Fcz91mF"
      }
    },
    {
      "cell_type": "code",
      "source": [
        "w_in = torch.DoubleTensor([[incoming_weights_x[0], incoming_weights_y[0]],\n",
        "                           [incoming_weights_x[1], incoming_weights_y[1]],\n",
        "                           [incoming_weights_x[2], incoming_weights_y[2]],\n",
        "                           [incoming_weights_x[3], incoming_weights_y[3]],\n",
        "                           [incoming_weights_x[4], incoming_weights_y[4]]])\n",
        "w_out = torch.DoubleTensor([outgoing_weights])\n",
        "dummy_model = DummyNetwork(D_in, H_student, D_out, w_in, w_out)\n",
        "loss_grad = torch.autograd.grad(nn.MSELoss()(dummy_model(dataset), y_labels), dummy_model.parameters(), create_graph=True)\n",
        "grad_norm, hessian = eval_hessian(loss_grad, dummy_model)\n",
        "smallest_eigenvalue = np.min(np.linalg.eigvals(hessian))\n",
        "\n",
        "print('loss at the end: ', nn.MSELoss()(dummy_model(dataset), y_labels))\n",
        "print('gradient norm at the end: ', grad_norm)\n",
        "print('smallest eigenvalue at the end: ', smallest_eigenvalue)"
      ],
      "metadata": {
        "colab": {
          "base_uri": "https://localhost:8080/"
        },
        "id": "MNXhL8UhNF5q",
        "outputId": "9010ba64-b795-4803-b60a-cc3ec34dc420"
      },
      "execution_count": 24,
      "outputs": [
        {
          "output_type": "stream",
          "name": "stdout",
          "text": [
            "loss at the end:  tensor(8.2961e-05, grad_fn=<MseLossBackward0>)\n",
            "gradient norm at the end:  5.54564355228769e-10\n",
            "smallest eigenvalue at the end:  7.707873871300661e-11\n"
          ]
        }
      ]
    },
    {
      "cell_type": "markdown",
      "source": [
        "## Smallest eigenvalue using JAX"
      ],
      "metadata": {
        "id": "prjlJN2MQXmu"
      }
    },
    {
      "cell_type": "code",
      "source": [
        "import jax.numpy as jnp\n",
        "from jax import nn as jax_nn\n",
        "from jax.config import config; config.update(\"jax_enable_x64\", True)\n",
        "jnp.set_printoptions(precision=32)\n",
        "\n",
        "jnp_inputs = jnp.array(construct_dataset(), dtype=jnp.float64)\n",
        "jnp_labels = jnp.array(teacher_model(dataset).detach(), dtype=jnp.float64)\n",
        "\n",
        "def predict(w_in, w_out):\n",
        "  return w_out @ jnp.transpose(jax_nn.sigmoid(jnp_inputs @ jnp.transpose(w_in)))\n",
        "\n",
        "w_in = jnp.array([[incoming_weights_x[0], incoming_weights_y[0]],\n",
        "                  [incoming_weights_x[1], incoming_weights_y[1]],\n",
        "                  [incoming_weights_x[2], incoming_weights_y[2]],\n",
        "                  [incoming_weights_x[3], incoming_weights_y[3]],\n",
        "                  [incoming_weights_x[4], incoming_weights_y[4]]], dtype=jnp.float64)\n",
        "w_out = jnp.array(outgoing_weights, dtype=jnp.float64)"
      ],
      "metadata": {
        "id": "rWPIRfmUQNyA",
        "outputId": "55add395-4b40-473f-e3e8-606a76a97a2b",
        "colab": {
          "base_uri": "https://localhost:8080/"
        }
      },
      "execution_count": 25,
      "outputs": [
        {
          "output_type": "stream",
          "name": "stderr",
          "text": [
            "WARNING:absl:No GPU/TPU found, falling back to CPU. (Set TF_CPP_MIN_LOG_LEVEL=0 and rerun for more info.)\n"
          ]
        }
      ]
    },
    {
      "cell_type": "markdown",
      "source": [
        "### Loss in JAX"
      ],
      "metadata": {
        "id": "ILeF_n5o-O3o"
      }
    },
    {
      "cell_type": "markdown",
      "source": [
        "Loss of the network computed in JAX."
      ],
      "metadata": {
        "id": "QPLHmUvy-D_H"
      }
    },
    {
      "cell_type": "code",
      "source": [
        "def loss(w):\n",
        "  w_in = w[0 : 2 * H_student].reshape(D_in, H_student).T\n",
        "  w_out = w[2 * H_student : ].reshape(1, H_student)\n",
        "  preds = predict(w_in, w_out).T\n",
        "  return jnp.mean(jnp.mean(jnp.square(preds - jnp_labels)))\n",
        "print(loss(jnp.append(w_in.T.reshape(D_in * H_student), w_out.reshape(H_student))))"
      ],
      "metadata": {
        "colab": {
          "base_uri": "https://localhost:8080/"
        },
        "id": "99LA0Y8IGrZK",
        "outputId": "3f946052-7fd9-45a1-e49c-0966334be6f9"
      },
      "execution_count": 26,
      "outputs": [
        {
          "output_type": "stream",
          "name": "stdout",
          "text": [
            "8.296136315843013e-05\n"
          ]
        }
      ]
    },
    {
      "cell_type": "markdown",
      "source": [
        "### Hessian in JAX"
      ],
      "metadata": {
        "id": "JbhAScdX-RFY"
      }
    },
    {
      "cell_type": "code",
      "source": [
        "from jax import jacfwd, jacrev\n",
        "import jax\n",
        "\n",
        "def hessian(f):\n",
        "    return jacfwd(jacrev(f))\n",
        "\n",
        "H = hessian(loss)(jnp.append(w_in.T.reshape(D_in * H_student), w_out.reshape(H_student)))"
      ],
      "metadata": {
        "id": "nzcFUBhol-tR"
      },
      "execution_count": 27,
      "outputs": []
    },
    {
      "cell_type": "markdown",
      "source": [
        "### Eigenvalues in JAX"
      ],
      "metadata": {
        "id": "vC-S4CtX-W0X"
      }
    },
    {
      "cell_type": "code",
      "source": [
        "evals, evectors = jnp.linalg.eig(H)\n",
        "\n",
        "# Sanity check\n",
        "for eval in jnp.array([jax.lax.imag(eval) for eval in evals]):\n",
        "  assert eval == 0\n",
        "\n",
        "evals = jnp.array([jax.lax.real(eval) for eval in evals])\n",
        "print(evals)\n",
        "smallest_evector = jnp.array([jax.lax.real(elem) for elem in evectors[:, jnp.argmin(evals)]])"
      ],
      "metadata": {
        "colab": {
          "base_uri": "https://localhost:8080/"
        },
        "id": "to7UcBE-sW6w",
        "outputId": "ebdebfb8-1ffd-4c65-900f-0cc6c332c2c0"
      },
      "execution_count": 28,
      "outputs": [
        {
          "output_type": "stream",
          "name": "stdout",
          "text": [
            "[1.3224358381085221e+02 5.6970817732878153e+01 2.5114436717641357e+00\n",
            " 1.5544081760884612e-01 7.1901991139353569e-02 1.6199973289082549e-02\n",
            " 8.6182820262358777e-03 4.3257220535546032e-03 2.6664117218716185e-03\n",
            " 8.7817041656811047e-04 5.0369492564762718e-04 1.6794974872358156e-04\n",
            " 9.3533583100810346e-06 7.3843785835886937e-06 7.7080897604067242e-11]\n"
          ]
        }
      ]
    },
    {
      "cell_type": "markdown",
      "source": [
        "## Perturbation (based on JAX evectors)"
      ],
      "metadata": {
        "id": "2OID6WjL-c2i"
      }
    },
    {
      "cell_type": "markdown",
      "source": [
        "### For one random element"
      ],
      "metadata": {
        "id": "XdVQa6t6iETd"
      }
    },
    {
      "cell_type": "code",
      "source": [
        "old_loss = loss(jnp.append(w_in.T.reshape(D_in * H_student), w_out.reshape(H_student)))\n",
        "\n",
        "perturb_lower_bound = -4.0\n",
        "perturb_upper_bound = 4.0\n",
        "perturb_step = 0.01\n",
        "\n",
        "perturb_losses = []\n",
        "perturb_evals = []\n",
        "\n",
        "weights = jnp.append(w_in.T.reshape(D_in * H_student), w_out.reshape(H_student))\n",
        "for eps in np.arange(perturb_lower_bound, perturb_upper_bound, perturb_step):\n",
        "  new_weights = weights + eps * smallest_evector\n",
        "  \n",
        "  H = hessian(loss)(new_weights)\n",
        "  H = (H + H.T) / 2\n",
        "  evals, _ = jnp.linalg.eig(H)\n",
        "\n",
        "  perturb_evals.append(min(evals))\n",
        "  perturb_losses.append(loss(new_weights))\n",
        "\n",
        "fig, (ax1, ax2) = plt.subplots(1, 2)\n",
        "fig.set_size_inches(14.5, 6.5)\n",
        "fig.suptitle('Evolution of loss and smallest eval under perturbation')\n",
        "ax1.plot(np.arange(perturb_lower_bound, perturb_upper_bound, perturb_step), perturb_losses)\n",
        "ax1.ticklabel_format(useOffset=False)\n",
        "ax1.set_xlabel('perturbation factor')\n",
        "ax1.set_ylabel('loss')\n",
        "\n",
        "ax2.plot(np.arange(perturb_lower_bound, perturb_upper_bound, perturb_step), perturb_evals)\n",
        "ax2.set_xlabel('perturbation factor')\n",
        "ax2.set_ylabel('smallest eval')"
      ],
      "metadata": {
        "colab": {
          "base_uri": "https://localhost:8080/",
          "height": 535
        },
        "id": "epGcpd0xxPA8",
        "outputId": "1514ed6a-7092-42aa-c05e-845608cc17df"
      },
      "execution_count": 29,
      "outputs": [
        {
          "output_type": "stream",
          "name": "stderr",
          "text": [
            "/usr/local/lib/python3.7/dist-packages/matplotlib/cbook/__init__.py:1317: ComplexWarning: Casting complex values to real discards the imaginary part\n",
            "  return np.asarray(x, float)\n"
          ]
        },
        {
          "output_type": "execute_result",
          "data": {
            "text/plain": [
              "Text(0, 0.5, 'smallest eval')"
            ]
          },
          "metadata": {},
          "execution_count": 29
        },
        {
          "output_type": "display_data",
          "data": {
            "text/plain": [
              "<Figure size 1044x468 with 2 Axes>"
            ],
            "image/png": "[encoded data removed]"
          },
          "metadata": {
            "needs_background": "light"
          }
        }
      ]
    },
    {
      "cell_type": "markdown",
      "source": [
        "### For the entire set of high loss points"
      ],
      "metadata": {
        "id": "UJ6PKfeuiGUu"
      }
    },
    {
      "cell_type": "code",
      "source": [
        "# num_saddles = 0\n",
        "# num_local_minima = 0\n",
        "# num_total = len(max_loss_data)\n",
        "# max_diff = -float(\"inf\")\n",
        "# max_abs_smallest_eval_arr = []\n",
        "\n",
        "# for index, row in max_loss_data.iterrows():\n",
        "#   old_loss = row['loss']\n",
        "#   incoming_weights_x, incoming_weights_y, outgoing_weights = extract_weights(row)\n",
        "\n",
        "#   w_in = jnp.array([[incoming_weights_x[0], incoming_weights_y[0]],\n",
        "#                   [incoming_weights_x[1], incoming_weights_y[1]],\n",
        "#                   [incoming_weights_x[2], incoming_weights_y[2]],\n",
        "#                   [incoming_weights_x[3], incoming_weights_y[3]],\n",
        "#                   [incoming_weights_x[4], incoming_weights_y[4]]], dtype=jnp.float64)\n",
        "#   w_out = jnp.array(outgoing_weights, dtype=jnp.float64)\n",
        "#   weights = jnp.append(w_in.T.reshape(D_in * H_student), w_out.reshape(H_student))\n",
        "\n",
        "#   H = hessian(loss)(jnp.append(w_in.T.reshape(D_in * H_student), w_out.reshape(H_student)))\n",
        "#   H = (H + H.T) / 2\n",
        "#   evals, evectors = jnp.linalg.eig(H)\n",
        "\n",
        "#   # Sanity check\n",
        "#   for eval in jnp.array([jax.lax.imag(eval) for eval in evals]):\n",
        "#     assert eval == 0\n",
        "\n",
        "#   evals = jnp.array([jax.lax.real(eval) for eval in evals])\n",
        "#   smallest_evector = jnp.array([jax.lax.real(elem) for elem in evectors[:, jnp.argmin(evals)]])\n",
        "\n",
        "#   max_abs_smallest_eval = -float(\"inf\")\n",
        "\n",
        "#   for eps in np.arange(perturb_lower_bound, perturb_upper_bound, perturb_step):\n",
        "#     new_weights = weights + eps * smallest_evector\n",
        "#     # print(old_loss, loss(new_weights))\n",
        "#     # print(old_loss - loss(new_weights) - old_loss / 100.0)\n",
        "#     perturbed_H = hessian(loss)(new_weights)\n",
        "#     perturbed_H = (perturbed_H + perturbed_H.T) / 2\n",
        "#     perturbed_evals, _ = jnp.linalg.eig(perturbed_H)\n",
        "\n",
        "#     max_diff = max(max_diff, old_loss - loss(new_weights))\n",
        "#     max_abs_smallest_eval = max(abs(min(perturbed_evals)), max_abs_smallest_eval)\n",
        "#   max_abs_smallest_eval_arr.append(max_abs_smallest_eval)\n",
        "\n",
        "# print('max diff between the original loss and the computed loss: ', max_diff)\n",
        "# print(max_abs_smallest_eval_arr)"
      ],
      "metadata": {
        "id": "fCTD9QI2iLaa"
      },
      "execution_count": 30,
      "outputs": []
    },
    {
      "cell_type": "code",
      "source": [
        "# print(len(max_abs_smallest_eval_arr))"
      ],
      "metadata": {
        "id": "DMK8Egxx5OCU"
      },
      "execution_count": 31,
      "outputs": []
    }
  ]
}