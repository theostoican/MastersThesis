{
 "cells": [
  {
   "cell_type": "code",
   "execution_count": 6,
   "id": "7324a795-efd5-4273-9473-73392c442056",
   "metadata": {},
   "outputs": [
    {
     "name": "stdout",
     "output_type": "stream",
     "text": [
      "\u001b[33mWARNING: Ignoring invalid distribution -sspec (/Users/tstoican/opt/anaconda3/lib/python3.7/site-packages)\u001b[0m\u001b[33m\n",
      "\u001b[0m\u001b[33mWARNING: Ignoring invalid distribution - (/Users/tstoican/opt/anaconda3/lib/python3.7/site-packages)\u001b[0m\u001b[33m\n",
      "\u001b[0m\u001b[33mWARNING: Ignoring invalid distribution -axlib (/Users/tstoican/opt/anaconda3/lib/python3.7/site-packages)\u001b[0m\u001b[33m\n",
      "\u001b[0m\u001b[33mWARNING: Ignoring invalid distribution -arkupsafe (/Users/tstoican/opt/anaconda3/lib/python3.7/site-packages)\u001b[0m\u001b[33m\n",
      "\u001b[0m\u001b[33mWARNING: Ignoring invalid distribution -sspec (/Users/tstoican/opt/anaconda3/lib/python3.7/site-packages)\u001b[0m\u001b[33m\n",
      "\u001b[0m\u001b[33mWARNING: Ignoring invalid distribution - (/Users/tstoican/opt/anaconda3/lib/python3.7/site-packages)\u001b[0m\u001b[33m\n",
      "\u001b[0m\u001b[33mWARNING: Ignoring invalid distribution -axlib (/Users/tstoican/opt/anaconda3/lib/python3.7/site-packages)\u001b[0m\u001b[33m\n",
      "\u001b[0m\u001b[33mWARNING: Ignoring invalid distribution -arkupsafe (/Users/tstoican/opt/anaconda3/lib/python3.7/site-packages)\u001b[0m\u001b[33m\n",
      "\u001b[0mRequirement already satisfied: nlopt in /Users/tstoican/opt/anaconda3/lib/python3.7/site-packages (2.7.0)\n",
      "Requirement already satisfied: numpy>=1.14 in /Users/tstoican/opt/anaconda3/lib/python3.7/site-packages (from nlopt) (1.21.2)\n",
      "\u001b[33mWARNING: Ignoring invalid distribution -sspec (/Users/tstoican/opt/anaconda3/lib/python3.7/site-packages)\u001b[0m\u001b[33m\n",
      "\u001b[0m\u001b[33mWARNING: Ignoring invalid distribution - (/Users/tstoican/opt/anaconda3/lib/python3.7/site-packages)\u001b[0m\u001b[33m\n",
      "\u001b[0m\u001b[33mWARNING: Ignoring invalid distribution -axlib (/Users/tstoican/opt/anaconda3/lib/python3.7/site-packages)\u001b[0m\u001b[33m\n",
      "\u001b[0m\u001b[33mWARNING: Ignoring invalid distribution -arkupsafe (/Users/tstoican/opt/anaconda3/lib/python3.7/site-packages)\u001b[0m\u001b[33m\n",
      "\u001b[0m\u001b[33mWARNING: Ignoring invalid distribution -sspec (/Users/tstoican/opt/anaconda3/lib/python3.7/site-packages)\u001b[0m\u001b[33m\n",
      "\u001b[0m\u001b[33mWARNING: Ignoring invalid distribution - (/Users/tstoican/opt/anaconda3/lib/python3.7/site-packages)\u001b[0m\u001b[33m\n",
      "\u001b[0m\u001b[33mWARNING: Ignoring invalid distribution -axlib (/Users/tstoican/opt/anaconda3/lib/python3.7/site-packages)\u001b[0m\u001b[33m\n",
      "\u001b[0m\u001b[33mWARNING: Ignoring invalid distribution -arkupsafe (/Users/tstoican/opt/anaconda3/lib/python3.7/site-packages)\u001b[0m\u001b[33m\n",
      "\u001b[0m\u001b[33mWARNING: Ignoring invalid distribution -sspec (/Users/tstoican/opt/anaconda3/lib/python3.7/site-packages)\u001b[0m\u001b[33m\n",
      "\u001b[0m\u001b[33mWARNING: Ignoring invalid distribution - (/Users/tstoican/opt/anaconda3/lib/python3.7/site-packages)\u001b[0m\u001b[33m\n",
      "\u001b[0m\u001b[33mWARNING: Ignoring invalid distribution -axlib (/Users/tstoican/opt/anaconda3/lib/python3.7/site-packages)\u001b[0m\u001b[33m\n",
      "\u001b[0m\u001b[33mWARNING: Ignoring invalid distribution -arkupsafe (/Users/tstoican/opt/anaconda3/lib/python3.7/site-packages)\u001b[0m\u001b[33m\n",
      "\u001b[0m\u001b[33mWARNING: Ignoring invalid distribution -sspec (/Users/tstoican/opt/anaconda3/lib/python3.7/site-packages)\u001b[0m\u001b[33m\n",
      "\u001b[0m\u001b[33mWARNING: Ignoring invalid distribution - (/Users/tstoican/opt/anaconda3/lib/python3.7/site-packages)\u001b[0m\u001b[33m\n",
      "\u001b[0m\u001b[33mWARNING: Ignoring invalid distribution -axlib (/Users/tstoican/opt/anaconda3/lib/python3.7/site-packages)\u001b[0m\u001b[33m\n",
      "\u001b[0m\u001b[33mWARNING: Ignoring invalid distribution -arkupsafe (/Users/tstoican/opt/anaconda3/lib/python3.7/site-packages)\u001b[0m\u001b[33m\n",
      "\u001b[0m"
     ]
    }
   ],
   "source": [
    "import matplotlib.pyplot as plt\n",
    "import matplotlib\n",
    "import pandas as pd\n",
    "import numpy as np\n",
    "\n",
    "\n",
    "import jax\n",
    "import jax.numpy as jnp\n",
    "from jax import nn as jax_nn\n",
    "from jax.config import config; config.update(\"jax_enable_x64\", True)\n",
    "jnp.set_printoptions(precision=32) \n",
    "from jax import jacfwd, jacrev\n",
    "from jax import grad as jax_grad\n",
    "\n",
    "import torch\n",
    "import torch.nn as nn\n",
    "from torch.autograd import Variable\n",
    "\n",
    "from copy import deepcopy\n",
    "\n",
    "!pip install nlopt\n",
    "import nlopt\n",
    "\n",
    "from utils.datasets import construct_toy_dataset\n",
    "from utils.utils import TheoremChecker, find_closest_neurons\n",
    "from utils.models import TeacherNetwork, DummyNetwork\n",
    "from utils.training import train_second_order\n",
    "from utils.jax_helpers import jax_loss, jax_grad"
   ]
  },
  {
   "cell_type": "code",
   "execution_count": 7,
   "id": "762b0c8c-a4c6-4243-ae16-29b9e8b80b7e",
   "metadata": {},
   "outputs": [],
   "source": [
    "D_in, H_teacher, H_student, D_out = 2, 4, 5, 1\n",
    "dataset, labels = construct_toy_dataset()\n",
    "tensor_dataset, tensor_labels = torch.DoubleTensor(dataset), torch.DoubleTensor(labels)\n",
    "\n",
    "teacher_model = TeacherNetwork()\n",
    "y_labels = teacher_model(tensor_dataset).detach()"
   ]
  },
  {
   "cell_type": "code",
   "execution_count": 8,
   "id": "66973861-6db6-4390-9063-82c461812b28",
   "metadata": {},
   "outputs": [
    {
     "data": {
      "text/plain": [
       "426"
      ]
     },
     "execution_count": 8,
     "metadata": {},
     "output_type": "execute_result"
    }
   ],
   "source": [
    "data = pd.read_csv('experiments_data_student_5_local_min_only.csv', float_precision='round_trip')\n",
    "len(data)"
   ]
  },
  {
   "cell_type": "code",
   "execution_count": 53,
   "id": "c1743e24-1efd-466e-ad8e-bee1a59d57e0",
   "metadata": {},
   "outputs": [
    {
     "data": {
      "text/plain": [
       "0     0.000114\n",
       "1     0.000084\n",
       "2     0.000098\n",
       "3     0.000100\n",
       "4     0.000084\n",
       "5     0.000115\n",
       "6     0.000114\n",
       "7     0.000102\n",
       "8     0.000114\n",
       "9     0.000081\n",
       "10    0.000077\n",
       "11    0.000050\n",
       "12    0.000062\n",
       "13    0.000115\n",
       "14    0.000077\n",
       "15    0.000069\n",
       "16    0.000080\n",
       "17    0.000114\n",
       "18    0.000077\n",
       "19    0.000072\n",
       "20    0.000073\n",
       "21    0.000105\n",
       "22    0.000076\n",
       "23    0.000073\n",
       "24    0.000076\n",
       "25    0.000084\n",
       "26    0.000077\n",
       "27    0.000084\n",
       "28    0.000073\n",
       "29    0.000116\n",
       "Name: loss, dtype: float64"
      ]
     },
     "execution_count": 53,
     "metadata": {},
     "output_type": "execute_result"
    }
   ],
   "source": [
    "data['loss'][:30]"
   ]
  },
  {
   "cell_type": "code",
   "execution_count": 67,
   "id": "511a5103-be6a-47ed-9e89-f16ee07b6ca4",
   "metadata": {},
   "outputs": [
    {
     "data": {
      "text/plain": [
       "0.00011474520184703572"
      ]
     },
     "execution_count": 67,
     "metadata": {},
     "output_type": "execute_result"
    }
   ],
   "source": [
    "data.loc[5]['loss']"
   ]
  },
  {
   "cell_type": "code",
   "execution_count": 76,
   "id": "139a4ee5-7e67-4710-a873-de7c4326868c",
   "metadata": {},
   "outputs": [],
   "source": [
    "def extract_weights(data_point):\n",
    "  incoming_weights_x = []\n",
    "  incoming_weights_y = []\n",
    "  outgoing_weights = []\n",
    "\n",
    "  for i in range(0, int(data_point['student size'])):\n",
    "    neuron_traj_x = np.fromstring(data_point['neuron_' + str(i) + '_traj_x'][1:-1], dtype=float, sep=',')\n",
    "    neuron_traj_y = np.fromstring(data_point['neuron_' + str(i) + '_traj_y'][1:-1], dtype=float, sep=',')\n",
    "    incoming_weights_x.append(neuron_traj_x[-1])\n",
    "    incoming_weights_y.append(neuron_traj_y[-1])\n",
    "    neuron_traj_out = np.fromstring(data_point['neuron_' + str(i) + '_a'][1:-1], dtype=float, sep=',')\n",
    "    outgoing_weights.append(neuron_traj_out[-1])\n",
    "\n",
    "  return incoming_weights_x, incoming_weights_y, outgoing_weights\n",
    "\n",
    "def construct_si_saddle(final_weights, mu):\n",
    "    num_neurons = int(len(final_weights) / 3)\n",
    "    w_in_torch_format = torch.DoubleTensor(final_weights[0 : num_neurons * 2].reshape(num_neurons, 2))\n",
    "    w_out_torch_format = torch.DoubleTensor([final_weights[num_neurons * 2 :].reshape(num_neurons)])\n",
    "\n",
    "    si_saddle = np.array([])\n",
    "    teacher_idx = 1\n",
    "\n",
    "    for i in range(H_student):\n",
    "      if i == idx_neuron1 or i == idx_neuron2:\n",
    "        si_saddle = np.append(si_saddle, w_in_torch_format[0][0].item())\n",
    "        si_saddle = np.append(si_saddle, w_in_torch_format[0][1].item())\n",
    "        continue\n",
    "      si_saddle = np.append(si_saddle, w_in_torch_format[teacher_idx][0].item())\n",
    "      si_saddle = np.append(si_saddle, w_in_torch_format[teacher_idx][1].item())\n",
    "      teacher_idx += 1\n",
    "\n",
    "    teacher_idx = 1\n",
    "\n",
    "    for i in range(H_student):\n",
    "      if i == idx_neuron1:\n",
    "        si_saddle = np.append(si_saddle,\n",
    "                              mu * w_out_torch_format[0][0].item())\n",
    "        continue\n",
    "      if i == idx_neuron2:\n",
    "        si_saddle = np.append(si_saddle,\n",
    "                              (1 - mu) * w_out_torch_format[0][0].item())\n",
    "        continue\n",
    "      si_saddle = np.append(si_saddle,\n",
    "                            w_out_torch_format[0][teacher_idx].item())\n",
    "      teacher_idx += 1\n",
    "\n",
    "    return si_saddle\n",
    "\n",
    "def find_saddle_line(final_weights):\n",
    "    saddle_smallest_u = construct_si_saddle(final_weights, -1)\n",
    "    saddle_largest_u = construct_si_saddle(final_weights, 2)\n",
    "    \n",
    "    saddle_line_dir = (saddle_largest_u - saddle_smallest_u) / \\\n",
    "                       np.linalg.norm(saddle_largest_u - saddle_smallest_u)\n",
    "    closest_saddle = saddle_smallest_u + saddle_line_dir * \\\n",
    "                     np.dot(saddle_line_dir, (local_min - saddle_smallest_u))\n",
    "    optimal_mu = closest_saddle[2 * H_student + idx_neuron1] / final_weights[2 * H_teacher]\n",
    "    directional_vector = local_min - closest_saddle\n",
    "    \n",
    "    return closest_saddle, optimal_mu, directional_vector"
   ]
  },
  {
   "cell_type": "code",
   "execution_count": 82,
   "id": "13ae8722-4334-46ac-891c-2fb7ea77e3ce",
   "metadata": {},
   "outputs": [
    {
     "name": "stdout",
     "output_type": "stream",
     "text": [
      "The autoreload extension is already loaded. To reload it, use:\n",
      "  %reload_ext autoreload\n"
     ]
    }
   ],
   "source": [
    "%load_ext autoreload\n",
    "%autoreload 2\n",
    "\n",
    "theorem_checker = TheoremChecker(D_in, H_teacher, D_out)\n",
    "dists = []\n",
    "\n",
    "for idx, data_point in data.iterrows():\n",
    "    # if idx != 5:\n",
    "    #     continue\n",
    "    # if idx == 20:\n",
    "    #     break\n",
    "    incoming_weights_x, incoming_weights_y, outgoing_weights = extract_weights(data_point)\n",
    "    local_min = np.array([incoming_weights_x[0], incoming_weights_y[0],\n",
    "                 incoming_weights_x[1], incoming_weights_y[1],\n",
    "                 incoming_weights_x[2], incoming_weights_y[2],\n",
    "                 incoming_weights_x[3], incoming_weights_y[3],\n",
    "                 incoming_weights_x[4], incoming_weights_y[4],\n",
    "                 outgoing_weights[0], outgoing_weights[1], outgoing_weights[2],\n",
    "                 outgoing_weights[3], outgoing_weights[4]])\n",
    "    \n",
    "    w_in = np.array([[incoming_weights_x[0], incoming_weights_y[0]],\n",
    "                      [incoming_weights_x[1], incoming_weights_y[1]],\n",
    "                      [incoming_weights_x[2], incoming_weights_y[2]],\n",
    "                      [incoming_weights_x[3], incoming_weights_y[3]],\n",
    "                      [incoming_weights_x[4], incoming_weights_y[4]]], dtype=np.float64)\n",
    "    w_out = np.array([outgoing_weights], dtype=np.float64)\n",
    "    \n",
    "    idx_neuron1, idx_neuron2 = find_closest_neurons(w_in)\n",
    "    \n",
    "    new_incoming_weights_x = [(incoming_weights_x[idx_neuron1] + \\\n",
    "                               incoming_weights_x[idx_neuron2]) / 2.0]\n",
    "    new_incoming_weights_y = [(incoming_weights_y[idx_neuron1] + \\\n",
    "                               incoming_weights_y[idx_neuron2]) / 2.0]\n",
    "    new_outgoing_weights = [(outgoing_weights[idx_neuron1] + \\\n",
    "                             outgoing_weights[idx_neuron2])]\n",
    "    \n",
    "    network_size = len(w_in)\n",
    "\n",
    "    for i in range(network_size):\n",
    "      if i == idx_neuron1 or i == idx_neuron2:\n",
    "        continue\n",
    "      new_incoming_weights_x.append(incoming_weights_x[i])\n",
    "      new_incoming_weights_y.append(incoming_weights_y[i])\n",
    "      new_outgoing_weights.append(outgoing_weights[i])\n",
    "    \n",
    "    new_w_in = torch.DoubleTensor([[new_incoming_weights_x[0], new_incoming_weights_y[0]],\n",
    "                           [new_incoming_weights_x[1], new_incoming_weights_y[1]],\n",
    "                           [new_incoming_weights_x[2], new_incoming_weights_y[2]],\n",
    "                           [new_incoming_weights_x[3], new_incoming_weights_y[3]]])\n",
    "    new_w_out = torch.DoubleTensor([new_outgoing_weights])\n",
    "    dummy_model = DummyNetwork(D_in, H_teacher, D_out, new_w_in, new_w_out)\n",
    "    \n",
    "    final_weights = train_second_order(dummy_model)\n",
    "    \n",
    "    closest_saddle, optimal_mu, _ = find_saddle_line(final_weights)\n",
    "    \n",
    "    Y, U = theorem_checker.check_si_saddle_failure_mode(final_weights)\n",
    "\n",
    "    evals, _ = jnp.linalg.eigh(optimal_mu * (1 - optimal_mu) * Y)\n",
    "    if evals[0] >= 0:\n",
    "        dists.append(jnp.linalg.norm(closest_saddle - local_min))"
   ]
  },
  {
   "cell_type": "code",
   "execution_count": 97,
   "id": "5c38d336-c545-461b-a88c-6add606185b4",
   "metadata": {},
   "outputs": [],
   "source": [
    "dists = np.array(dists)\n",
    "dists = dists[dists < 0.1]"
   ]
  },
  {
   "cell_type": "code",
   "execution_count": 102,
   "id": "8b418874-353d-4153-b241-6ce3282ebf85",
   "metadata": {},
   "outputs": [
    {
     "data": {
      "text/plain": [
       "Text(0, 0.5, 'Number of data points')"
      ]
     },
     "execution_count": 102,
     "metadata": {},
     "output_type": "execute_result"
    },
    {
     "data": {
      "image/png": "[encoded data removed]",
      "text/plain": [
       "<Figure size 432x288 with 1 Axes>"
      ]
     },
     "metadata": {
      "needs_background": "light"
     },
     "output_type": "display_data"
    }
   ],
   "source": [
    "plt.hist(dists)\n",
    "plt.xlabel('SI saddle - local min. distance')\n",
    "plt.ylabel('Number of data points')"
   ]
  },
  {
   "cell_type": "code",
   "execution_count": 99,
   "id": "f29336c4-6d4e-4408-9c6c-8cc95e220b8c",
   "metadata": {},
   "outputs": [
    {
     "data": {
      "text/plain": [
       "0.13145539906103287"
      ]
     },
     "execution_count": 99,
     "metadata": {},
     "output_type": "execute_result"
    }
   ],
   "source": [
    "len(dists) / len(data)"
   ]
  },
  {
   "cell_type": "code",
   "execution_count": null,
   "id": "f695b3a6-63df-4143-8b93-0ab010ed1f39",
   "metadata": {},
   "outputs": [],
   "source": []
  }
 ],
 "metadata": {
  "kernelspec": {
   "display_name": "Python 3 (ipykernel)",
   "language": "python",
   "name": "python3"
  },
  "language_info": {
   "codemirror_mode": {
    "name": "ipython",
    "version": 3
   },
   "file_extension": ".py",
   "mimetype": "text/x-python",
   "name": "python",
   "nbconvert_exporter": "python",
   "pygments_lexer": "ipython3",
   "version": "3.7.12"
  }
 },
 "nbformat": 4,
 "nbformat_minor": 5
}
