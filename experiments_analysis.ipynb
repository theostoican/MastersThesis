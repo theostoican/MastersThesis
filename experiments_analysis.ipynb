{
  "nbformat": 4,
  "nbformat_minor": 0,
  "metadata": {
    "colab": {
      "name": "experiments_analysis.ipynb",
      "provenance": [],
      "collapsed_sections": [],
      "toc_visible": true,
      "authorship_tag": "ABX9TyNXc44NvNFbQ5ege2nB2xaV",
      "include_colab_link": true
    },
    "kernelspec": {
      "name": "python3",
      "display_name": "Python 3"
    },
    "language_info": {
      "name": "python"
    }
  },
  "cells": [
    {
      "cell_type": "markdown",
      "metadata": {
        "id": "view-in-github",
        "colab_type": "text"
      },
      "source": [
        "<a href=\"https://colab.research.google.com/github/theostoican/MastersThesis/blob/main/experiments_analysis.ipynb\" target=\"_parent\"><img src=\"https://colab.research.google.com/assets/colab-badge.svg\" alt=\"Open In Colab\"/></a>"
      ]
    },
    {
      "cell_type": "code",
      "execution_count": 721,
      "metadata": {
        "id": "HR-JuDus4Dgg",
        "colab": {
          "base_uri": "https://localhost:8080/"
        },
        "outputId": "9564244a-605f-4b0e-bec9-1f34c931ae7d"
      },
      "outputs": [
        {
          "output_type": "stream",
          "name": "stdout",
          "text": [
            "Requirement already satisfied: dict_minimize in /usr/local/lib/python3.7/dist-packages (0.0.4)\n",
            "Requirement already satisfied: scipy>=1.4.1 in /usr/local/lib/python3.7/dist-packages (from dict_minimize) (1.4.1)\n",
            "Requirement already satisfied: numpy>=1.18.5 in /usr/local/lib/python3.7/dist-packages (from dict_minimize) (1.19.5)\n"
          ]
        }
      ],
      "source": [
        "import matplotlib.pyplot as plt\n",
        "import matplotlib\n",
        "import pandas as pd\n",
        "import numpy as np\n",
        "\n",
        "import torch\n",
        "import torch.nn as nn\n",
        "from torch.autograd import Variable\n",
        "\n",
        "!pip install dict_minimize\n",
        "from dict_minimize.torch_api import minimize\n",
        "from collections import OrderedDict"
      ]
    },
    {
      "cell_type": "markdown",
      "source": [
        "# Helpers for plotting the trajectories of the weights of the neurons"
      ],
      "metadata": {
        "id": "MKMT2fhjFIW6"
      }
    },
    {
      "cell_type": "code",
      "source": [
        "def plot_trajectories(data_row):\n",
        "  convergence_neurons_incoming_x = []\n",
        "  convergence_neurons_incoming_y = []\n",
        "  convergence_neurons_outgoing = []\n",
        "\n",
        "  for i in range(0, int(data_row['student size'])):\n",
        "    neuron_traj_x = np.fromstring(data_row['neuron_' + str(i) + '_traj_x'].values[0][1:-1], dtype=float, sep=',')\n",
        "    neuron_traj_y = np.fromstring(data_row['neuron_' + str(i) + '_traj_y'].values[0][1:-1], dtype=float, sep=',')\n",
        "    plt.plot(neuron_traj_x, neuron_traj_y)\n",
        "  \n",
        "    convergence_neurons_incoming_x.append(neuron_traj_x[-1])\n",
        "    convergence_neurons_incoming_y.append(neuron_traj_y[-1])\n",
        "\n",
        "    neuron_a = float(data_row['neuron_' + str(i) + '_a'].values[0])\n",
        "    convergence_neurons_outgoing.append(neuron_a)\n",
        "\n",
        "  teacher_neurons_x = np.fromstring(data_row['teacher_neurons_x'].values[0][1 : -1], dtype=float, sep=',')\n",
        "  teacher_neurons_y = np.fromstring(data_row['teacher_neurons_y'].values[0][1 : -1], dtype=float, sep=',')\n",
        "  plt.scatter(teacher_neurons_x, teacher_neurons_y, marker=\"*\")\n",
        "\n",
        "  plt.scatter(convergence_neurons_incoming_x,\n",
        "            convergence_neurons_incoming_y,\n",
        "            c = convergence_neurons_outgoing,\n",
        "            cmap=matplotlib.cm.jet)\n",
        "  plt.colorbar()"
      ],
      "metadata": {
        "id": "cyh_igQ37r0u"
      },
      "execution_count": 722,
      "outputs": []
    },
    {
      "cell_type": "markdown",
      "source": [
        "# Read the data from the .csv file"
      ],
      "metadata": {
        "id": "_xd7SAYBFB-c"
      }
    },
    {
      "cell_type": "code",
      "source": [
        "data = pd.read_csv('experiments_data_student_6_outgoing_1_-1.csv')\n",
        "\n",
        "# TODO: remove these check and make sure the Hessian is not complex/\n",
        "data['smallest eigenvalue'] = pd.to_numeric(data['smallest eigenvalue'], 'coerce')\n",
        "print(\"Number of complex eigenvalues:\", len(data[data['smallest eigenvalue'].isna()]))\n",
        "data = data[data['smallest eigenvalue'].notna()]\n",
        "data['loss'] = pd.to_numeric(data['loss'], 'coerce')\n",
        "data = data[data['loss'].notna()]\n",
        "data['gradient norm'] = pd.to_numeric(data['gradient norm'], 'coerce')\n",
        "data = data[data['gradient norm'].notna()]\n",
        "\n",
        "len(data)"
      ],
      "metadata": {
        "colab": {
          "base_uri": "https://localhost:8080/"
        },
        "id": "QiMGa1Ib64YR",
        "outputId": "720ca988-1a2b-448e-a095-3dd15b919818"
      },
      "execution_count": 723,
      "outputs": [
        {
          "output_type": "stream",
          "name": "stdout",
          "text": [
            "Number of complex eigenvalues: 2\n"
          ]
        },
        {
          "output_type": "execute_result",
          "data": {
            "text/plain": [
              "998"
            ]
          },
          "metadata": {},
          "execution_count": 723
        }
      ]
    },
    {
      "cell_type": "code",
      "source": [
        "data.head()"
      ],
      "metadata": {
        "colab": {
          "base_uri": "https://localhost:8080/",
          "height": 548
        },
        "id": "Lz-VFq2mPBIw",
        "outputId": "9bddf5b8-7b11-43fd-c52c-30f671d1dd8e"
      },
      "execution_count": 724,
      "outputs": [
        {
          "output_type": "execute_result",
          "data": {
            "text/html": [
              "\n",
              "  <div id=\"df-2b6293d9-da1c-41e7-9572-6c7fde08e0f1\">\n",
              "    <div class=\"colab-df-container\">\n",
              "      <div>\n",
              "<style scoped>\n",
              "    .dataframe tbody tr th:only-of-type {\n",
              "        vertical-align: middle;\n",
              "    }\n",
              "\n",
              "    .dataframe tbody tr th {\n",
              "        vertical-align: top;\n",
              "    }\n",
              "\n",
              "    .dataframe thead th {\n",
              "        text-align: right;\n",
              "    }\n",
              "</style>\n",
              "<table border=\"1\" class=\"dataframe\">\n",
              "  <thead>\n",
              "    <tr style=\"text-align: right;\">\n",
              "      <th></th>\n",
              "      <th>loss</th>\n",
              "      <th>gradient norm</th>\n",
              "      <th>smallest eigenvalue</th>\n",
              "      <th>student size</th>\n",
              "      <th>neuron_0_traj_x</th>\n",
              "      <th>neuron_0_traj_y</th>\n",
              "      <th>neuron_0_a</th>\n",
              "      <th>neuron_1_traj_x</th>\n",
              "      <th>neuron_1_traj_y</th>\n",
              "      <th>neuron_1_a</th>\n",
              "      <th>neuron_2_traj_x</th>\n",
              "      <th>neuron_2_traj_y</th>\n",
              "      <th>neuron_2_a</th>\n",
              "      <th>neuron_3_traj_x</th>\n",
              "      <th>neuron_3_traj_y</th>\n",
              "      <th>neuron_3_a</th>\n",
              "      <th>neuron_4_traj_x</th>\n",
              "      <th>neuron_4_traj_y</th>\n",
              "      <th>neuron_4_a</th>\n",
              "      <th>neuron_5_traj_x</th>\n",
              "      <th>neuron_5_traj_y</th>\n",
              "      <th>neuron_5_a</th>\n",
              "      <th>teacher_neurons_x</th>\n",
              "      <th>teacher_neurons_y</th>\n",
              "    </tr>\n",
              "  </thead>\n",
              "  <tbody>\n",
              "    <tr>\n",
              "      <th>0</th>\n",
              "      <td>7.368996e-08</td>\n",
              "      <td>2.683539e-06</td>\n",
              "      <td>-3.072414e-07</td>\n",
              "      <td>6</td>\n",
              "      <td>[0.6980545, 0.6969546, 0.69595534, 0.69495714,...</td>\n",
              "      <td>[-0.01575166, -0.0146518275, -0.013652729, -0....</td>\n",
              "      <td>-0.300093</td>\n",
              "      <td>[0.47843462, 0.47953442, 0.48053354, 0.4815314...</td>\n",
              "      <td>[0.21780246, 0.21670271, 0.21570413, 0.2147074...</td>\n",
              "      <td>0.534985</td>\n",
              "      <td>[-0.278064, -0.27916375, -0.28016242, -0.28115...</td>\n",
              "      <td>[0.22209495, 0.22099163, 0.21997482, 0.2189388...</td>\n",
              "      <td>-1.228895</td>\n",
              "      <td>[-0.5253651, -0.52426493, -0.52326477, -0.5222...</td>\n",
              "      <td>[0.11097568, 0.10987543, 0.10887405, 0.1078707...</td>\n",
              "      <td>0.701700</td>\n",
              "      <td>[-0.39972517, -0.39862496, -0.39762387, -0.396...</td>\n",
              "      <td>[-0.61575437, -0.61685455, -0.61785483, -0.618...</td>\n",
              "      <td>0.780308</td>\n",
              "      <td>[-0.036501527, -0.03760135, -0.038600408, -0.0...</td>\n",
              "      <td>[-0.49979421, -0.49869436, -0.4976945, -0.4966...</td>\n",
              "      <td>-0.488004</td>\n",
              "      <td>[0.6, -0.5, -0.2, 0.1]</td>\n",
              "      <td>[0.5, 0.5, -0.6, -0.6]</td>\n",
              "    </tr>\n",
              "    <tr>\n",
              "      <th>1</th>\n",
              "      <td>1.086262e-07</td>\n",
              "      <td>1.747063e-06</td>\n",
              "      <td>-3.806967e-08</td>\n",
              "      <td>6</td>\n",
              "      <td>[-0.6043891, -0.6032889, -0.6022887, -0.601288...</td>\n",
              "      <td>[-0.058547854, -0.059647463, -0.06064533, -0.0...</td>\n",
              "      <td>1.515955</td>\n",
              "      <td>[-0.7961307, -0.79723024, -0.79822767, -0.7992...</td>\n",
              "      <td>[-0.55460167, -0.5535022, -0.55250525, -0.5515...</td>\n",
              "      <td>-0.917856</td>\n",
              "      <td>[-0.47430068, -0.47540027, -0.4763981, -0.4773...</td>\n",
              "      <td>[-0.42227766, -0.42117822, -0.42018124, -0.419...</td>\n",
              "      <td>-0.744507</td>\n",
              "      <td>[-0.6128353, -0.61393505, -0.61493355, -0.6159...</td>\n",
              "      <td>[0.39448422, 0.39338267, 0.3923741, 0.39135426...</td>\n",
              "      <td>-0.076032</td>\n",
              "      <td>[0.8487162, 0.8476165, 0.84661824, 0.84562236,...</td>\n",
              "      <td>[0.68875355, 0.6898531, 0.69085044, 0.69184405...</td>\n",
              "      <td>-0.749196</td>\n",
              "      <td>[0.50306565, 0.50416595, 0.5051673, 0.5061707,...</td>\n",
              "      <td>[-0.1113919, -0.11249129, -0.113487914, -0.114...</td>\n",
              "      <td>0.971635</td>\n",
              "      <td>[0.6, -0.5, -0.2, 0.1]</td>\n",
              "      <td>[0.5, 0.5, -0.6, -0.6]</td>\n",
              "    </tr>\n",
              "    <tr>\n",
              "      <th>2</th>\n",
              "      <td>1.008812e-07</td>\n",
              "      <td>1.146478e-06</td>\n",
              "      <td>-6.748910e-07</td>\n",
              "      <td>6</td>\n",
              "      <td>[0.8127845, 0.81168455, 0.81068516, 0.80968654...</td>\n",
              "      <td>[0.6718052, 0.6729051, 0.6739043, 0.6749023, 0...</td>\n",
              "      <td>-0.506687</td>\n",
              "      <td>[-0.52905494, -0.52795506, -0.52695584, -0.525...</td>\n",
              "      <td>[0.571407, 0.57250684, 0.5735055, 0.5745024, 0...</td>\n",
              "      <td>0.829806</td>\n",
              "      <td>[-0.8023246, -0.80122495, -0.8002272, -0.79923...</td>\n",
              "      <td>[0.79862326, 0.7997228, 0.80072004, 0.8017135,...</td>\n",
              "      <td>-0.126239</td>\n",
              "      <td>[-0.73665804, -0.7355583, -0.73455983, -0.7335...</td>\n",
              "      <td>[0.13758999, 0.13868995, 0.13968965, 0.1406889...</td>\n",
              "      <td>-0.973729</td>\n",
              "      <td>[0.11645836, 0.11535863, 0.11436017, 0.1133638...</td>\n",
              "      <td>[0.54036874, 0.5414682, 0.5424652, 0.54345804,...</td>\n",
              "      <td>-0.202526</td>\n",
              "      <td>[0.17881507, 0.17771532, 0.17671676, 0.1757201...</td>\n",
              "      <td>[-0.11210662, -0.113206185, -0.11420382, -0.11...</td>\n",
              "      <td>0.979374</td>\n",
              "      <td>[0.6, -0.5, -0.2, 0.1]</td>\n",
              "      <td>[0.5, 0.5, -0.6, -0.6]</td>\n",
              "    </tr>\n",
              "    <tr>\n",
              "      <th>3</th>\n",
              "      <td>1.106605e-07</td>\n",
              "      <td>1.992916e-06</td>\n",
              "      <td>-6.465805e-07</td>\n",
              "      <td>6</td>\n",
              "      <td>[-0.45053408, -0.44943398, -0.44843364, -0.447...</td>\n",
              "      <td>[-0.37833294, -0.37723523, -0.376248, -0.37527...</td>\n",
              "      <td>0.735935</td>\n",
              "      <td>[0.78767174, 0.78655374, 0.7854719, 0.78431064...</td>\n",
              "      <td>[-0.7210004, -0.7221184, -0.72319984, -0.72436...</td>\n",
              "      <td>-0.735639</td>\n",
              "      <td>[-0.00064349174, -0.0017435071, -0.0027435902,...</td>\n",
              "      <td>[-0.80965626, -0.8107556, -0.81175184, -0.8127...</td>\n",
              "      <td>-0.700970</td>\n",
              "      <td>[0.42528814, 0.42638797, 0.42738724, 0.4283854...</td>\n",
              "      <td>[-0.69517016, -0.6940703, -0.693071, -0.692072...</td>\n",
              "      <td>0.734697</td>\n",
              "      <td>[0.84347874, 0.84237844, 0.8413771, 0.840374, ...</td>\n",
              "      <td>[-0.604022, -0.6051222, -0.60612285, -0.607124...</td>\n",
              "      <td>0.267892</td>\n",
              "      <td>[-0.056492925, -0.057593092, -0.05859396, -0.0...</td>\n",
              "      <td>[0.35165137, 0.35055152, 0.34955165, 0.3485517...</td>\n",
              "      <td>-0.301916</td>\n",
              "      <td>[0.6, -0.5, -0.2, 0.1]</td>\n",
              "      <td>[0.5, 0.5, -0.6, -0.6]</td>\n",
              "    </tr>\n",
              "    <tr>\n",
              "      <th>4</th>\n",
              "      <td>9.026246e-05</td>\n",
              "      <td>9.900671e-07</td>\n",
              "      <td>2.736716e-08</td>\n",
              "      <td>6</td>\n",
              "      <td>[0.67343026, 0.67233086, 0.671334, 0.6703415, ...</td>\n",
              "      <td>[-0.62559295, -0.6266925, -0.62768954, -0.6286...</td>\n",
              "      <td>-0.480798</td>\n",
              "      <td>[0.36074752, 0.361847, 0.36284435, 0.3638382, ...</td>\n",
              "      <td>[-0.23552644, -0.2344266, -0.23342751, -0.2324...</td>\n",
              "      <td>0.965822</td>\n",
              "      <td>[0.72926074, 0.73036045, 0.7313585, 0.7323539,...</td>\n",
              "      <td>[-0.54830503, -0.54720515, -0.54620606, -0.545...</td>\n",
              "      <td>0.830935</td>\n",
              "      <td>[-0.01631403, -0.017413458, -0.018410342, -0.0...</td>\n",
              "      <td>[0.106199324, 0.105099544, 0.10410077, 0.10310...</td>\n",
              "      <td>-0.416083</td>\n",
              "      <td>[-0.28019053, -0.28128996, -0.28228694, -0.283...</td>\n",
              "      <td>[0.29820317, 0.29710346, 0.29610485, 0.2951082...</td>\n",
              "      <td>-0.353398</td>\n",
              "      <td>[0.8347468, 0.83584714, 0.83684903, 0.83785367...</td>\n",
              "      <td>[0.5567817, 0.5556817, 0.5546822, 0.5536834, 0...</td>\n",
              "      <td>-0.546486</td>\n",
              "      <td>[0.6, -0.5, -0.2, 0.1]</td>\n",
              "      <td>[0.5, 0.5, -0.6, -0.6]</td>\n",
              "    </tr>\n",
              "  </tbody>\n",
              "</table>\n",
              "</div>\n",
              "      <button class=\"colab-df-convert\" onclick=\"convertToInteractive('df-2b6293d9-da1c-41e7-9572-6c7fde08e0f1')\"\n",
              "              title=\"Convert this dataframe to an interactive table.\"\n",
              "              style=\"display:none;\">\n",
              "        \n",
              "  <svg xmlns=\"http://www.w3.org/2000/svg\" height=\"24px\"viewBox=\"0 0 24 24\"\n",
              "       width=\"24px\">\n",
              "    <path d=\"M0 0h24v24H0V0z\" fill=\"none\"/>\n",
              "    <path d=\"M18.56 5.44l.94 2.06.94-2.06 2.06-.94-2.06-.94-.94-2.06-.94 2.06-2.06.94zm-11 1L8.5 8.5l.94-2.06 2.06-.94-2.06-.94L8.5 2.5l-.94 2.06-2.06.94zm10 10l.94 2.06.94-2.06 2.06-.94-2.06-.94-.94-2.06-.94 2.06-2.06.94z\"/><path d=\"M17.41 7.96l-1.37-1.37c-.4-.4-.92-.59-1.43-.59-.52 0-1.04.2-1.43.59L10.3 9.45l-7.72 7.72c-.78.78-.78 2.05 0 2.83L4 21.41c.39.39.9.59 1.41.59.51 0 1.02-.2 1.41-.59l7.78-7.78 2.81-2.81c.8-.78.8-2.07 0-2.86zM5.41 20L4 18.59l7.72-7.72 1.47 1.35L5.41 20z\"/>\n",
              "  </svg>\n",
              "      </button>\n",
              "      \n",
              "  <style>\n",
              "    .colab-df-container {\n",
              "      display:flex;\n",
              "      flex-wrap:wrap;\n",
              "      gap: 12px;\n",
              "    }\n",
              "\n",
              "    .colab-df-convert {\n",
              "      background-color: #E8F0FE;\n",
              "      border: none;\n",
              "      border-radius: 50%;\n",
              "      cursor: pointer;\n",
              "      display: none;\n",
              "      fill: #1967D2;\n",
              "      height: 32px;\n",
              "      padding: 0 0 0 0;\n",
              "      width: 32px;\n",
              "    }\n",
              "\n",
              "    .colab-df-convert:hover {\n",
              "      background-color: #E2EBFA;\n",
              "      box-shadow: 0px 1px 2px rgba(60, 64, 67, 0.3), 0px 1px 3px 1px rgba(60, 64, 67, 0.15);\n",
              "      fill: #174EA6;\n",
              "    }\n",
              "\n",
              "    [theme=dark] .colab-df-convert {\n",
              "      background-color: #3B4455;\n",
              "      fill: #D2E3FC;\n",
              "    }\n",
              "\n",
              "    [theme=dark] .colab-df-convert:hover {\n",
              "      background-color: #434B5C;\n",
              "      box-shadow: 0px 1px 3px 1px rgba(0, 0, 0, 0.15);\n",
              "      filter: drop-shadow(0px 1px 2px rgba(0, 0, 0, 0.3));\n",
              "      fill: #FFFFFF;\n",
              "    }\n",
              "  </style>\n",
              "\n",
              "      <script>\n",
              "        const buttonEl =\n",
              "          document.querySelector('#df-2b6293d9-da1c-41e7-9572-6c7fde08e0f1 button.colab-df-convert');\n",
              "        buttonEl.style.display =\n",
              "          google.colab.kernel.accessAllowed ? 'block' : 'none';\n",
              "\n",
              "        async function convertToInteractive(key) {\n",
              "          const element = document.querySelector('#df-2b6293d9-da1c-41e7-9572-6c7fde08e0f1');\n",
              "          const dataTable =\n",
              "            await google.colab.kernel.invokeFunction('convertToInteractive',\n",
              "                                                     [key], {});\n",
              "          if (!dataTable) return;\n",
              "\n",
              "          const docLinkHtml = 'Like what you see? Visit the ' +\n",
              "            '<a target=\"_blank\" href=https://colab.research.google.com/notebooks/data_table.ipynb>data table notebook</a>'\n",
              "            + ' to learn more about interactive tables.';\n",
              "          element.innerHTML = '';\n",
              "          dataTable['output_type'] = 'display_data';\n",
              "          await google.colab.output.renderOutput(dataTable, element);\n",
              "          const docLink = document.createElement('div');\n",
              "          docLink.innerHTML = docLinkHtml;\n",
              "          element.appendChild(docLink);\n",
              "        }\n",
              "      </script>\n",
              "    </div>\n",
              "  </div>\n",
              "  "
            ],
            "text/plain": [
              "           loss  gradient norm  ...       teacher_neurons_x       teacher_neurons_y\n",
              "0  7.368996e-08   2.683539e-06  ...  [0.6, -0.5, -0.2, 0.1]  [0.5, 0.5, -0.6, -0.6]\n",
              "1  1.086262e-07   1.747063e-06  ...  [0.6, -0.5, -0.2, 0.1]  [0.5, 0.5, -0.6, -0.6]\n",
              "2  1.008812e-07   1.146478e-06  ...  [0.6, -0.5, -0.2, 0.1]  [0.5, 0.5, -0.6, -0.6]\n",
              "3  1.106605e-07   1.992916e-06  ...  [0.6, -0.5, -0.2, 0.1]  [0.5, 0.5, -0.6, -0.6]\n",
              "4  9.026246e-05   9.900671e-07  ...  [0.6, -0.5, -0.2, 0.1]  [0.5, 0.5, -0.6, -0.6]\n",
              "\n",
              "[5 rows x 24 columns]"
            ]
          },
          "metadata": {},
          "execution_count": 724
        }
      ]
    },
    {
      "cell_type": "markdown",
      "source": [
        "# Second order optimization helpers"
      ],
      "metadata": {
        "id": "Wq0_8ViolcNx"
      }
    },
    {
      "cell_type": "markdown",
      "source": [
        "A dummy network that receives as input the precomputed incoming and outgoing weights and sets them directly."
      ],
      "metadata": {
        "id": "-nq_zF38llaS"
      }
    },
    {
      "cell_type": "code",
      "source": [
        "class DummyNetwork(nn.Module):\n",
        "  def __init__(self, D_in, H, D_out, w_in, w_out):\n",
        "    \"\"\"\n",
        "    In the constructor we instantiate two nn.Linear modules and assign them as\n",
        "    member variables.\n",
        "\n",
        "    D_in: input dimension\n",
        "    H: dimension of hidden layer\n",
        "    D_out: output dimension of the first layer\n",
        "    \"\"\"\n",
        "    super(DummyNetwork, self).__init__()\n",
        "    self.linear1 = nn.Linear(D_in, H, bias=False) \n",
        "    self.linear2 = nn.Linear(H, D_out, bias=False)\n",
        "    self.linear1.weight = torch.nn.Parameter(w_in)\n",
        "    self.linear2.weight = torch.nn.Parameter(w_out)\n",
        "  def forward(self, x):\n",
        "    \"\"\"\n",
        "    In the forward function we accept a Variable of input data and we must\n",
        "    return a Variable of output data. We can use Modules defined in the\n",
        "    constructor as well as arbitrary operators on Variables.\n",
        "    \"\"\"\n",
        "    h_sigmoid = torch.sigmoid(self.linear1(x))\n",
        "    y_pred = self.linear2(h_sigmoid)\n",
        "    return y_pred"
      ],
      "metadata": {
        "id": "9mR9ZDc-li1t"
      },
      "execution_count": 725,
      "outputs": []
    },
    {
      "cell_type": "markdown",
      "source": [
        "Some configuration for the model, the dataset and the corresponding labels."
      ],
      "metadata": {
        "id": "efinskp8bpTr"
      }
    },
    {
      "cell_type": "code",
      "source": [
        "class TeacherNetwork(nn.Module):\n",
        "  def __init__(self, D_in, H, D_out):\n",
        "    \"\"\"\n",
        "    In the constructor we instantiate two nn.Linear modules and assign them as\n",
        "    member variables.\n",
        "\n",
        "    D_in: input dimension\n",
        "    H: dimension of hidden layer\n",
        "    D_out: output dimension of the first layer\n",
        "    \"\"\"\n",
        "    super(TeacherNetwork, self).__init__()\n",
        "    self.linear1 = nn.Linear(D_in, H, bias=False) \n",
        "    self.linear2 = nn.Linear(H, D_out, bias=False)\n",
        "    self.linear1.weight = torch.nn.Parameter(torch.transpose(torch.Tensor([[0.6, -0.5, -0.2, 0.1], [0.5, 0.5, -0.6, -0.6]]), 0, 1))\n",
        "    self.linear2.weight = torch.nn.Parameter(torch.transpose(torch.Tensor([[1], [-1], [1], [-1]]), 0, 1))\n",
        "  def forward(self, x):\n",
        "    \"\"\"\n",
        "    In the forward function we accept a Variable of input data and we must\n",
        "    return a Variable of output data. We can use Modules defined in the\n",
        "    constructor as well as arbitrary operators on Variables.\n",
        "    \"\"\"\n",
        "    h_sigmoid = torch.sigmoid(self.linear1(x))\n",
        "    y_pred = self.linear2(h_sigmoid)\n",
        "    return y_pred"
      ],
      "metadata": {
        "id": "Hqwok2Kyc771"
      },
      "execution_count": 726,
      "outputs": []
    },
    {
      "cell_type": "code",
      "source": [
        "D_in, H_teacher, H_student, D_out = 2, 4, data['student size'].values[0], 1\n",
        "\n",
        "def construct_dataset():\n",
        "  data = []\n",
        "  for y in np.arange(-5, 5.1, .25):\n",
        "    for x in np.arange(-5, 5.1, .25):\n",
        "      data.append([x, y])\n",
        "  return data\n",
        "\n",
        "dataset = torch.Tensor(construct_dataset()) \n",
        "print(len(construct_dataset()))"
      ],
      "metadata": {
        "colab": {
          "base_uri": "https://localhost:8080/"
        },
        "id": "B_ahyjA-bu_O",
        "outputId": "136d5f59-65f9-427f-e454-09177c9323c5"
      },
      "execution_count": 727,
      "outputs": [
        {
          "output_type": "stream",
          "name": "stdout",
          "text": [
            "1681\n"
          ]
        }
      ]
    },
    {
      "cell_type": "code",
      "source": [
        "teacher_model = TeacherNetwork(D_in, H_teacher, D_out)\n",
        "y_labels = teacher_model(dataset).detach()"
      ],
      "metadata": {
        "id": "vQjZ7UIfdBbT"
      },
      "execution_count": 728,
      "outputs": []
    },
    {
      "cell_type": "markdown",
      "source": [
        "Function useful for computing the Hessian."
      ],
      "metadata": {
        "id": "Xw4duwCNddQb"
      }
    },
    {
      "cell_type": "code",
      "source": [
        "def eval_hessian(loss_grad, model):\n",
        "    cnt = 0\n",
        "    for g in loss_grad:\n",
        "        g_vector = g.contiguous().view(-1) if cnt == 0 else torch.cat([g_vector, g.contiguous().view(-1)])\n",
        "        cnt = 1\n",
        "    grad_norm = torch.norm(g_vector)\n",
        "    l = g_vector.size(0)\n",
        "    hessian = torch.zeros(l, l)\n",
        "    for idx in range(l):\n",
        "        grad2rd = torch.autograd.grad(g_vector[idx], model.parameters(), create_graph=True)\n",
        "        cnt = 0\n",
        "        for g in grad2rd: \n",
        "            g2 = g.contiguous().view(-1) if cnt == 0 else torch.cat([g2, g.contiguous().view(-1)])\n",
        "            cnt = 1\n",
        "        hessian[idx] = g2\n",
        "    hessian[:, idx] = g2\n",
        "    return grad_norm.cpu().data.numpy(), hessian.cpu().data.numpy()"
      ],
      "metadata": {
        "id": "kr6e_Wpbdctf"
      },
      "execution_count": 729,
      "outputs": []
    },
    {
      "cell_type": "markdown",
      "source": [
        "A method which computes the derivatives of the objective loss with respect to the incoming and outgoing weights."
      ],
      "metadata": {
        "id": "YV3CmyYUlyEs"
      }
    },
    {
      "cell_type": "code",
      "source": [
        "def d_loss(params):\n",
        "  w_in, w_out = params[\"w_in\"], params[\"w_out\"]\n",
        "  dummy_model = DummyNetwork(D_in, H_student, D_out, w_in, w_out)\n",
        "  obj = nn.MSELoss()(dummy_model(dataset), y_labels)\n",
        "  dw_in, dw_out = torch.autograd.grad(obj, dummy_model.parameters())\n",
        "  d_obj = OrderedDict([(\"w_in\", dw_in), (\"w_out\", dw_out)])\n",
        "  return obj, d_obj"
      ],
      "metadata": {
        "id": "S8x1IHzSlff7"
      },
      "execution_count": 730,
      "outputs": []
    },
    {
      "cell_type": "markdown",
      "source": [
        "# Case 1: positive eigenvalues"
      ],
      "metadata": {
        "id": "9DXAMxdvOmw0"
      }
    },
    {
      "cell_type": "markdown",
      "source": [
        "This is certainly:\n",
        "- either a local minimum\n",
        "- or a global minimum"
      ],
      "metadata": {
        "id": "FhESi2fzO7EY"
      }
    },
    {
      "cell_type": "code",
      "source": [
        "positive_eigenvalues_data = data[data['smallest eigenvalue'] >= 0]\n",
        "positive_eigenvalues_data.head()"
      ],
      "metadata": {
        "colab": {
          "base_uri": "https://localhost:8080/",
          "height": 548
        },
        "id": "40xpckG0OmLG",
        "outputId": "b4965169-78c7-46b3-8f0f-a15e381c7f34"
      },
      "execution_count": 731,
      "outputs": [
        {
          "output_type": "execute_result",
          "data": {
            "text/html": [
              "\n",
              "  <div id=\"df-9a71dc7e-59a5-4333-a2e1-0bdef4a14cc5\">\n",
              "    <div class=\"colab-df-container\">\n",
              "      <div>\n",
              "<style scoped>\n",
              "    .dataframe tbody tr th:only-of-type {\n",
              "        vertical-align: middle;\n",
              "    }\n",
              "\n",
              "    .dataframe tbody tr th {\n",
              "        vertical-align: top;\n",
              "    }\n",
              "\n",
              "    .dataframe thead th {\n",
              "        text-align: right;\n",
              "    }\n",
              "</style>\n",
              "<table border=\"1\" class=\"dataframe\">\n",
              "  <thead>\n",
              "    <tr style=\"text-align: right;\">\n",
              "      <th></th>\n",
              "      <th>loss</th>\n",
              "      <th>gradient norm</th>\n",
              "      <th>smallest eigenvalue</th>\n",
              "      <th>student size</th>\n",
              "      <th>neuron_0_traj_x</th>\n",
              "      <th>neuron_0_traj_y</th>\n",
              "      <th>neuron_0_a</th>\n",
              "      <th>neuron_1_traj_x</th>\n",
              "      <th>neuron_1_traj_y</th>\n",
              "      <th>neuron_1_a</th>\n",
              "      <th>neuron_2_traj_x</th>\n",
              "      <th>neuron_2_traj_y</th>\n",
              "      <th>neuron_2_a</th>\n",
              "      <th>neuron_3_traj_x</th>\n",
              "      <th>neuron_3_traj_y</th>\n",
              "      <th>neuron_3_a</th>\n",
              "      <th>neuron_4_traj_x</th>\n",
              "      <th>neuron_4_traj_y</th>\n",
              "      <th>neuron_4_a</th>\n",
              "      <th>neuron_5_traj_x</th>\n",
              "      <th>neuron_5_traj_y</th>\n",
              "      <th>neuron_5_a</th>\n",
              "      <th>teacher_neurons_x</th>\n",
              "      <th>teacher_neurons_y</th>\n",
              "    </tr>\n",
              "  </thead>\n",
              "  <tbody>\n",
              "    <tr>\n",
              "      <th>4</th>\n",
              "      <td>9.026246e-05</td>\n",
              "      <td>9.900671e-07</td>\n",
              "      <td>2.736716e-08</td>\n",
              "      <td>6</td>\n",
              "      <td>[0.67343026, 0.67233086, 0.671334, 0.6703415, ...</td>\n",
              "      <td>[-0.62559295, -0.6266925, -0.62768954, -0.6286...</td>\n",
              "      <td>-0.480798</td>\n",
              "      <td>[0.36074752, 0.361847, 0.36284435, 0.3638382, ...</td>\n",
              "      <td>[-0.23552644, -0.2344266, -0.23342751, -0.2324...</td>\n",
              "      <td>0.965822</td>\n",
              "      <td>[0.72926074, 0.73036045, 0.7313585, 0.7323539,...</td>\n",
              "      <td>[-0.54830503, -0.54720515, -0.54620606, -0.545...</td>\n",
              "      <td>0.830935</td>\n",
              "      <td>[-0.01631403, -0.017413458, -0.018410342, -0.0...</td>\n",
              "      <td>[0.106199324, 0.105099544, 0.10410077, 0.10310...</td>\n",
              "      <td>-0.416083</td>\n",
              "      <td>[-0.28019053, -0.28128996, -0.28228694, -0.283...</td>\n",
              "      <td>[0.29820317, 0.29710346, 0.29610485, 0.2951082...</td>\n",
              "      <td>-0.353398</td>\n",
              "      <td>[0.8347468, 0.83584714, 0.83684903, 0.83785367...</td>\n",
              "      <td>[0.5567817, 0.5556817, 0.5546822, 0.5536834, 0...</td>\n",
              "      <td>-0.546486</td>\n",
              "      <td>[0.6, -0.5, -0.2, 0.1]</td>\n",
              "      <td>[0.5, 0.5, -0.6, -0.6]</td>\n",
              "    </tr>\n",
              "    <tr>\n",
              "      <th>7</th>\n",
              "      <td>1.402854e-07</td>\n",
              "      <td>2.067346e-06</td>\n",
              "      <td>1.919022e-07</td>\n",
              "      <td>6</td>\n",
              "      <td>[-0.7755034, -0.7744032, -0.77340364, -0.77240...</td>\n",
              "      <td>[-0.2336052, -0.2347052, -0.23570502, -0.23670...</td>\n",
              "      <td>0.408031</td>\n",
              "      <td>[0.3885352, 0.38963437, 0.3906299, 0.39161918,...</td>\n",
              "      <td>[0.71373814, 0.7126388, 0.71164274, 0.710652, ...</td>\n",
              "      <td>-0.465399</td>\n",
              "      <td>[0.3984241, 0.39732435, 0.39632568, 0.3953288,...</td>\n",
              "      <td>[-0.40704444, -0.4081441, -0.40914232, -0.4101...</td>\n",
              "      <td>-0.698984</td>\n",
              "      <td>[0.09859049, 0.099690184, 0.10068846, 0.101684...</td>\n",
              "      <td>[-0.3339343, -0.3350336, -0.33602968, -0.33702...</td>\n",
              "      <td>0.973073</td>\n",
              "      <td>[-0.13595033, -0.13705035, -0.1380505, -0.1390...</td>\n",
              "      <td>[-0.57695246, -0.5758522, -0.574851, -0.573848...</td>\n",
              "      <td>-0.689686</td>\n",
              "      <td>[0.4930218, 0.49412206, 0.49512357, 0.4961271,...</td>\n",
              "      <td>[0.454328, 0.45322764, 0.45222583, 0.45122164,...</td>\n",
              "      <td>0.472965</td>\n",
              "      <td>[0.6, -0.5, -0.2, 0.1]</td>\n",
              "      <td>[0.5, 0.5, -0.6, -0.6]</td>\n",
              "    </tr>\n",
              "    <tr>\n",
              "      <th>9</th>\n",
              "      <td>2.766455e-07</td>\n",
              "      <td>3.115356e-06</td>\n",
              "      <td>7.796185e-08</td>\n",
              "      <td>6</td>\n",
              "      <td>[-0.32134587, -0.32024541, -0.31924298, -0.318...</td>\n",
              "      <td>[-0.20258403, -0.20368439, -0.2046862, -0.2056...</td>\n",
              "      <td>-0.555447</td>\n",
              "      <td>[0.60952467, 0.60842526, 0.60742843, 0.6064359...</td>\n",
              "      <td>[0.30937237, 0.31047156, 0.31146747, 0.3124577...</td>\n",
              "      <td>0.666453</td>\n",
              "      <td>[-0.4912904, -0.49019083, -0.48919323, -0.4881...</td>\n",
              "      <td>[-0.5285406, -0.52964, -0.5306367, -0.5316288,...</td>\n",
              "      <td>-1.007267</td>\n",
              "      <td>[0.07966131, 0.0785616, 0.07756317, 0.07656689...</td>\n",
              "      <td>[-0.7042102, -0.7031106, -0.70211285, -0.70111...</td>\n",
              "      <td>0.577087</td>\n",
              "      <td>[0.33110088, 0.3322117, 0.33326384, 0.33437282...</td>\n",
              "      <td>[-0.6604708, -0.6593711, -0.658373, -0.6573776...</td>\n",
              "      <td>0.447884</td>\n",
              "      <td>[0.65720886, 0.6561095, 0.6551133, 0.65412235,...</td>\n",
              "      <td>[0.7533205, 0.7544196, 0.7554148, 0.7564034, 0...</td>\n",
              "      <td>-0.128708</td>\n",
              "      <td>[0.6, -0.5, -0.2, 0.1]</td>\n",
              "      <td>[0.5, 0.5, -0.6, -0.6]</td>\n",
              "    </tr>\n",
              "    <tr>\n",
              "      <th>14</th>\n",
              "      <td>1.226534e-07</td>\n",
              "      <td>2.008618e-06</td>\n",
              "      <td>1.608297e-07</td>\n",
              "      <td>6</td>\n",
              "      <td>[0.22523838, 0.2241391, 0.22314294, 0.22215208...</td>\n",
              "      <td>[0.29589146, 0.29479197, 0.29379448, 0.2928005...</td>\n",
              "      <td>0.774795</td>\n",
              "      <td>[0.70528203, 0.7041822, 0.7031834, 0.70218635,...</td>\n",
              "      <td>[0.59785694, 0.598957, 0.5999566, 0.6009554, 0...</td>\n",
              "      <td>-0.741074</td>\n",
              "      <td>[-0.14219213, -0.14329173, -0.14428958, -0.145...</td>\n",
              "      <td>[0.080355704, 0.07925618, 0.07825877, 0.077264...</td>\n",
              "      <td>-0.040736</td>\n",
              "      <td>[-0.0797084, -0.08080796, -0.081805594, -0.082...</td>\n",
              "      <td>[-0.5046653, -0.5057642, -0.50675786, -0.50774...</td>\n",
              "      <td>-0.723692</td>\n",
              "      <td>[0.35252672, 0.35362652, 0.35462564, 0.3556235...</td>\n",
              "      <td>[-0.62000716, -0.6189072, -0.6179078, -0.61690...</td>\n",
              "      <td>0.951538</td>\n",
              "      <td>[-0.25257778, -0.25367734, -0.25467494, -0.255...</td>\n",
              "      <td>[-0.12443668, -0.12553595, -0.12653211, -0.127...</td>\n",
              "      <td>-0.220831</td>\n",
              "      <td>[0.6, -0.5, -0.2, 0.1]</td>\n",
              "      <td>[0.5, 0.5, -0.6, -0.6]</td>\n",
              "    </tr>\n",
              "    <tr>\n",
              "      <th>20</th>\n",
              "      <td>8.202739e-08</td>\n",
              "      <td>1.263754e-06</td>\n",
              "      <td>5.667045e-07</td>\n",
              "      <td>6</td>\n",
              "      <td>[-0.7552683, -0.75416815, -0.7531686, -0.75216...</td>\n",
              "      <td>[0.27841407, 0.27731436, 0.27631584, 0.2753192...</td>\n",
              "      <td>-0.433181</td>\n",
              "      <td>[0.53271705, 0.53381634, 0.53481215, 0.5358022...</td>\n",
              "      <td>[0.75325614, 0.7521568, 0.75116074, 0.75017005...</td>\n",
              "      <td>-0.759575</td>\n",
              "      <td>[-0.11022884, -0.109128945, -0.10812957, -0.10...</td>\n",
              "      <td>[0.043808937, 0.04270915, 0.04171031, 0.040713...</td>\n",
              "      <td>0.575051</td>\n",
              "      <td>[-0.7493745, -0.7482743, -0.74727464, -0.74627...</td>\n",
              "      <td>[0.6195689, 0.6184728, 0.6174953, 0.61655146, ...</td>\n",
              "      <td>0.754421</td>\n",
              "      <td>[0.21978968, 0.22088909, 0.22188582, 0.2228780...</td>\n",
              "      <td>[-0.47404277, -0.47514167, -0.47613567, -0.477...</td>\n",
              "      <td>-0.574304</td>\n",
              "      <td>[0.13266337, 0.13376324, 0.13476245, 0.1357605...</td>\n",
              "      <td>[0.28058463, 0.27948484, 0.2784857, 0.27748767...</td>\n",
              "      <td>0.437589</td>\n",
              "      <td>[0.6, -0.5, -0.2, 0.1]</td>\n",
              "      <td>[0.5, 0.5, -0.6, -0.6]</td>\n",
              "    </tr>\n",
              "  </tbody>\n",
              "</table>\n",
              "</div>\n",
              "      <button class=\"colab-df-convert\" onclick=\"convertToInteractive('df-9a71dc7e-59a5-4333-a2e1-0bdef4a14cc5')\"\n",
              "              title=\"Convert this dataframe to an interactive table.\"\n",
              "              style=\"display:none;\">\n",
              "        \n",
              "  <svg xmlns=\"http://www.w3.org/2000/svg\" height=\"24px\"viewBox=\"0 0 24 24\"\n",
              "       width=\"24px\">\n",
              "    <path d=\"M0 0h24v24H0V0z\" fill=\"none\"/>\n",
              "    <path d=\"M18.56 5.44l.94 2.06.94-2.06 2.06-.94-2.06-.94-.94-2.06-.94 2.06-2.06.94zm-11 1L8.5 8.5l.94-2.06 2.06-.94-2.06-.94L8.5 2.5l-.94 2.06-2.06.94zm10 10l.94 2.06.94-2.06 2.06-.94-2.06-.94-.94-2.06-.94 2.06-2.06.94z\"/><path d=\"M17.41 7.96l-1.37-1.37c-.4-.4-.92-.59-1.43-.59-.52 0-1.04.2-1.43.59L10.3 9.45l-7.72 7.72c-.78.78-.78 2.05 0 2.83L4 21.41c.39.39.9.59 1.41.59.51 0 1.02-.2 1.41-.59l7.78-7.78 2.81-2.81c.8-.78.8-2.07 0-2.86zM5.41 20L4 18.59l7.72-7.72 1.47 1.35L5.41 20z\"/>\n",
              "  </svg>\n",
              "      </button>\n",
              "      \n",
              "  <style>\n",
              "    .colab-df-container {\n",
              "      display:flex;\n",
              "      flex-wrap:wrap;\n",
              "      gap: 12px;\n",
              "    }\n",
              "\n",
              "    .colab-df-convert {\n",
              "      background-color: #E8F0FE;\n",
              "      border: none;\n",
              "      border-radius: 50%;\n",
              "      cursor: pointer;\n",
              "      display: none;\n",
              "      fill: #1967D2;\n",
              "      height: 32px;\n",
              "      padding: 0 0 0 0;\n",
              "      width: 32px;\n",
              "    }\n",
              "\n",
              "    .colab-df-convert:hover {\n",
              "      background-color: #E2EBFA;\n",
              "      box-shadow: 0px 1px 2px rgba(60, 64, 67, 0.3), 0px 1px 3px 1px rgba(60, 64, 67, 0.15);\n",
              "      fill: #174EA6;\n",
              "    }\n",
              "\n",
              "    [theme=dark] .colab-df-convert {\n",
              "      background-color: #3B4455;\n",
              "      fill: #D2E3FC;\n",
              "    }\n",
              "\n",
              "    [theme=dark] .colab-df-convert:hover {\n",
              "      background-color: #434B5C;\n",
              "      box-shadow: 0px 1px 3px 1px rgba(0, 0, 0, 0.15);\n",
              "      filter: drop-shadow(0px 1px 2px rgba(0, 0, 0, 0.3));\n",
              "      fill: #FFFFFF;\n",
              "    }\n",
              "  </style>\n",
              "\n",
              "      <script>\n",
              "        const buttonEl =\n",
              "          document.querySelector('#df-9a71dc7e-59a5-4333-a2e1-0bdef4a14cc5 button.colab-df-convert');\n",
              "        buttonEl.style.display =\n",
              "          google.colab.kernel.accessAllowed ? 'block' : 'none';\n",
              "\n",
              "        async function convertToInteractive(key) {\n",
              "          const element = document.querySelector('#df-9a71dc7e-59a5-4333-a2e1-0bdef4a14cc5');\n",
              "          const dataTable =\n",
              "            await google.colab.kernel.invokeFunction('convertToInteractive',\n",
              "                                                     [key], {});\n",
              "          if (!dataTable) return;\n",
              "\n",
              "          const docLinkHtml = 'Like what you see? Visit the ' +\n",
              "            '<a target=\"_blank\" href=https://colab.research.google.com/notebooks/data_table.ipynb>data table notebook</a>'\n",
              "            + ' to learn more about interactive tables.';\n",
              "          element.innerHTML = '';\n",
              "          dataTable['output_type'] = 'display_data';\n",
              "          await google.colab.output.renderOutput(dataTable, element);\n",
              "          const docLink = document.createElement('div');\n",
              "          docLink.innerHTML = docLinkHtml;\n",
              "          element.appendChild(docLink);\n",
              "        }\n",
              "      </script>\n",
              "    </div>\n",
              "  </div>\n",
              "  "
            ],
            "text/plain": [
              "            loss  gradient norm  ...       teacher_neurons_x       teacher_neurons_y\n",
              "4   9.026246e-05   9.900671e-07  ...  [0.6, -0.5, -0.2, 0.1]  [0.5, 0.5, -0.6, -0.6]\n",
              "7   1.402854e-07   2.067346e-06  ...  [0.6, -0.5, -0.2, 0.1]  [0.5, 0.5, -0.6, -0.6]\n",
              "9   2.766455e-07   3.115356e-06  ...  [0.6, -0.5, -0.2, 0.1]  [0.5, 0.5, -0.6, -0.6]\n",
              "14  1.226534e-07   2.008618e-06  ...  [0.6, -0.5, -0.2, 0.1]  [0.5, 0.5, -0.6, -0.6]\n",
              "20  8.202739e-08   1.263754e-06  ...  [0.6, -0.5, -0.2, 0.1]  [0.5, 0.5, -0.6, -0.6]\n",
              "\n",
              "[5 rows x 24 columns]"
            ]
          },
          "metadata": {},
          "execution_count": 731
        }
      ]
    },
    {
      "cell_type": "markdown",
      "source": [
        "## Choose the entry with the highest loss for visual inspection."
      ],
      "metadata": {
        "id": "JffMVEFai27E"
      }
    },
    {
      "cell_type": "code",
      "source": [
        "highest_loss_row = positive_eigenvalues_data[positive_eigenvalues_data['loss'] == \n",
        "                          max(positive_eigenvalues_data['loss'])]\n",
        "highest_loss_row"
      ],
      "metadata": {
        "colab": {
          "base_uri": "https://localhost:8080/",
          "height": 214
        },
        "id": "F15O8dsDi-9K",
        "outputId": "ac3f0dcc-0fc2-4d9f-d486-982eebdb2f15"
      },
      "execution_count": 732,
      "outputs": [
        {
          "output_type": "execute_result",
          "data": {
            "text/html": [
              "\n",
              "  <div id=\"df-96576154-0bf3-4b44-90d1-0e6423cefb2b\">\n",
              "    <div class=\"colab-df-container\">\n",
              "      <div>\n",
              "<style scoped>\n",
              "    .dataframe tbody tr th:only-of-type {\n",
              "        vertical-align: middle;\n",
              "    }\n",
              "\n",
              "    .dataframe tbody tr th {\n",
              "        vertical-align: top;\n",
              "    }\n",
              "\n",
              "    .dataframe thead th {\n",
              "        text-align: right;\n",
              "    }\n",
              "</style>\n",
              "<table border=\"1\" class=\"dataframe\">\n",
              "  <thead>\n",
              "    <tr style=\"text-align: right;\">\n",
              "      <th></th>\n",
              "      <th>loss</th>\n",
              "      <th>gradient norm</th>\n",
              "      <th>smallest eigenvalue</th>\n",
              "      <th>student size</th>\n",
              "      <th>neuron_0_traj_x</th>\n",
              "      <th>neuron_0_traj_y</th>\n",
              "      <th>neuron_0_a</th>\n",
              "      <th>neuron_1_traj_x</th>\n",
              "      <th>neuron_1_traj_y</th>\n",
              "      <th>neuron_1_a</th>\n",
              "      <th>neuron_2_traj_x</th>\n",
              "      <th>neuron_2_traj_y</th>\n",
              "      <th>neuron_2_a</th>\n",
              "      <th>neuron_3_traj_x</th>\n",
              "      <th>neuron_3_traj_y</th>\n",
              "      <th>neuron_3_a</th>\n",
              "      <th>neuron_4_traj_x</th>\n",
              "      <th>neuron_4_traj_y</th>\n",
              "      <th>neuron_4_a</th>\n",
              "      <th>neuron_5_traj_x</th>\n",
              "      <th>neuron_5_traj_y</th>\n",
              "      <th>neuron_5_a</th>\n",
              "      <th>teacher_neurons_x</th>\n",
              "      <th>teacher_neurons_y</th>\n",
              "    </tr>\n",
              "  </thead>\n",
              "  <tbody>\n",
              "    <tr>\n",
              "      <th>96</th>\n",
              "      <td>0.000114</td>\n",
              "      <td>0.000002</td>\n",
              "      <td>4.521153e-08</td>\n",
              "      <td>6</td>\n",
              "      <td>[-0.18988657, -0.19098668, -0.19198729, -0.192...</td>\n",
              "      <td>[-0.4577395, -0.45663914, -0.45563725, -0.4546...</td>\n",
              "      <td>-0.439335</td>\n",
              "      <td>[0.076085806, 0.07718549, 0.078183755, 0.07917...</td>\n",
              "      <td>[0.49852616, 0.49742618, 0.49642602, 0.4954258...</td>\n",
              "      <td>0.546022</td>\n",
              "      <td>[-0.2843222, -0.285422, -0.28642118, -0.287419...</td>\n",
              "      <td>[-0.40905708, -0.40795702, -0.40695682, -0.405...</td>\n",
              "      <td>-0.271234</td>\n",
              "      <td>[-0.5915655, -0.5904664, -0.58947104, -0.58848...</td>\n",
              "      <td>[-0.35449505, -0.35559425, -0.35658985, -0.357...</td>\n",
              "      <td>-0.125916</td>\n",
              "      <td>[-0.79388064, -0.7927811, -0.791784, -0.790790...</td>\n",
              "      <td>[-0.36374694, -0.36484644, -0.36584392, -0.366...</td>\n",
              "      <td>-0.061185</td>\n",
              "      <td>[0.2055226, 0.20662214, 0.20761958, 0.20861349...</td>\n",
              "      <td>[-0.35181528, -0.35291502, -0.3539138, -0.3549...</td>\n",
              "      <td>0.351647</td>\n",
              "      <td>[0.6, -0.5, -0.2, 0.1]</td>\n",
              "      <td>[0.5, 0.5, -0.6, -0.6]</td>\n",
              "    </tr>\n",
              "  </tbody>\n",
              "</table>\n",
              "</div>\n",
              "      <button class=\"colab-df-convert\" onclick=\"convertToInteractive('df-96576154-0bf3-4b44-90d1-0e6423cefb2b')\"\n",
              "              title=\"Convert this dataframe to an interactive table.\"\n",
              "              style=\"display:none;\">\n",
              "        \n",
              "  <svg xmlns=\"http://www.w3.org/2000/svg\" height=\"24px\"viewBox=\"0 0 24 24\"\n",
              "       width=\"24px\">\n",
              "    <path d=\"M0 0h24v24H0V0z\" fill=\"none\"/>\n",
              "    <path d=\"M18.56 5.44l.94 2.06.94-2.06 2.06-.94-2.06-.94-.94-2.06-.94 2.06-2.06.94zm-11 1L8.5 8.5l.94-2.06 2.06-.94-2.06-.94L8.5 2.5l-.94 2.06-2.06.94zm10 10l.94 2.06.94-2.06 2.06-.94-2.06-.94-.94-2.06-.94 2.06-2.06.94z\"/><path d=\"M17.41 7.96l-1.37-1.37c-.4-.4-.92-.59-1.43-.59-.52 0-1.04.2-1.43.59L10.3 9.45l-7.72 7.72c-.78.78-.78 2.05 0 2.83L4 21.41c.39.39.9.59 1.41.59.51 0 1.02-.2 1.41-.59l7.78-7.78 2.81-2.81c.8-.78.8-2.07 0-2.86zM5.41 20L4 18.59l7.72-7.72 1.47 1.35L5.41 20z\"/>\n",
              "  </svg>\n",
              "      </button>\n",
              "      \n",
              "  <style>\n",
              "    .colab-df-container {\n",
              "      display:flex;\n",
              "      flex-wrap:wrap;\n",
              "      gap: 12px;\n",
              "    }\n",
              "\n",
              "    .colab-df-convert {\n",
              "      background-color: #E8F0FE;\n",
              "      border: none;\n",
              "      border-radius: 50%;\n",
              "      cursor: pointer;\n",
              "      display: none;\n",
              "      fill: #1967D2;\n",
              "      height: 32px;\n",
              "      padding: 0 0 0 0;\n",
              "      width: 32px;\n",
              "    }\n",
              "\n",
              "    .colab-df-convert:hover {\n",
              "      background-color: #E2EBFA;\n",
              "      box-shadow: 0px 1px 2px rgba(60, 64, 67, 0.3), 0px 1px 3px 1px rgba(60, 64, 67, 0.15);\n",
              "      fill: #174EA6;\n",
              "    }\n",
              "\n",
              "    [theme=dark] .colab-df-convert {\n",
              "      background-color: #3B4455;\n",
              "      fill: #D2E3FC;\n",
              "    }\n",
              "\n",
              "    [theme=dark] .colab-df-convert:hover {\n",
              "      background-color: #434B5C;\n",
              "      box-shadow: 0px 1px 3px 1px rgba(0, 0, 0, 0.15);\n",
              "      filter: drop-shadow(0px 1px 2px rgba(0, 0, 0, 0.3));\n",
              "      fill: #FFFFFF;\n",
              "    }\n",
              "  </style>\n",
              "\n",
              "      <script>\n",
              "        const buttonEl =\n",
              "          document.querySelector('#df-96576154-0bf3-4b44-90d1-0e6423cefb2b button.colab-df-convert');\n",
              "        buttonEl.style.display =\n",
              "          google.colab.kernel.accessAllowed ? 'block' : 'none';\n",
              "\n",
              "        async function convertToInteractive(key) {\n",
              "          const element = document.querySelector('#df-96576154-0bf3-4b44-90d1-0e6423cefb2b');\n",
              "          const dataTable =\n",
              "            await google.colab.kernel.invokeFunction('convertToInteractive',\n",
              "                                                     [key], {});\n",
              "          if (!dataTable) return;\n",
              "\n",
              "          const docLinkHtml = 'Like what you see? Visit the ' +\n",
              "            '<a target=\"_blank\" href=https://colab.research.google.com/notebooks/data_table.ipynb>data table notebook</a>'\n",
              "            + ' to learn more about interactive tables.';\n",
              "          element.innerHTML = '';\n",
              "          dataTable['output_type'] = 'display_data';\n",
              "          await google.colab.output.renderOutput(dataTable, element);\n",
              "          const docLink = document.createElement('div');\n",
              "          docLink.innerHTML = docLinkHtml;\n",
              "          element.appendChild(docLink);\n",
              "        }\n",
              "      </script>\n",
              "    </div>\n",
              "  </div>\n",
              "  "
            ],
            "text/plain": [
              "        loss  gradient norm  ...       teacher_neurons_x       teacher_neurons_y\n",
              "96  0.000114       0.000002  ...  [0.6, -0.5, -0.2, 0.1]  [0.5, 0.5, -0.6, -0.6]\n",
              "\n",
              "[1 rows x 24 columns]"
            ]
          },
          "metadata": {},
          "execution_count": 732
        }
      ]
    },
    {
      "cell_type": "code",
      "source": [
        "plot_trajectories(highest_loss_row)"
      ],
      "metadata": {
        "colab": {
          "base_uri": "https://localhost:8080/",
          "height": 265
        },
        "id": "P253raFpjvdG",
        "outputId": "da705443-c11e-4852-f025-27bfc05fbcd4"
      },
      "execution_count": 733,
      "outputs": [
        {
          "output_type": "display_data",
          "data": {
            "image/png": "[encoded data removed]",
            "text/plain": [
              "<Figure size 432x288 with 2 Axes>"
            ]
          },
          "metadata": {
            "needs_background": "light"
          }
        }
      ]
    },
    {
      "cell_type": "markdown",
      "source": [
        "## Choose the entry with the lowest loss for visual inspection."
      ],
      "metadata": {
        "id": "EE3_hKn3i7o2"
      }
    },
    {
      "cell_type": "code",
      "source": [
        "lowest_loss_row = positive_eigenvalues_data[positive_eigenvalues_data['loss'] == \n",
        "                          min(positive_eigenvalues_data['loss'])]\n",
        "lowest_loss_row"
      ],
      "metadata": {
        "id": "gBy5opAii_kj",
        "colab": {
          "base_uri": "https://localhost:8080/",
          "height": 214
        },
        "outputId": "13c635ac-42fd-4dbd-fb84-76777933c6f8"
      },
      "execution_count": 734,
      "outputs": [
        {
          "output_type": "execute_result",
          "data": {
            "text/html": [
              "\n",
              "  <div id=\"df-6f34b761-917c-48d7-8f68-02d48091256a\">\n",
              "    <div class=\"colab-df-container\">\n",
              "      <div>\n",
              "<style scoped>\n",
              "    .dataframe tbody tr th:only-of-type {\n",
              "        vertical-align: middle;\n",
              "    }\n",
              "\n",
              "    .dataframe tbody tr th {\n",
              "        vertical-align: top;\n",
              "    }\n",
              "\n",
              "    .dataframe thead th {\n",
              "        text-align: right;\n",
              "    }\n",
              "</style>\n",
              "<table border=\"1\" class=\"dataframe\">\n",
              "  <thead>\n",
              "    <tr style=\"text-align: right;\">\n",
              "      <th></th>\n",
              "      <th>loss</th>\n",
              "      <th>gradient norm</th>\n",
              "      <th>smallest eigenvalue</th>\n",
              "      <th>student size</th>\n",
              "      <th>neuron_0_traj_x</th>\n",
              "      <th>neuron_0_traj_y</th>\n",
              "      <th>neuron_0_a</th>\n",
              "      <th>neuron_1_traj_x</th>\n",
              "      <th>neuron_1_traj_y</th>\n",
              "      <th>neuron_1_a</th>\n",
              "      <th>neuron_2_traj_x</th>\n",
              "      <th>neuron_2_traj_y</th>\n",
              "      <th>neuron_2_a</th>\n",
              "      <th>neuron_3_traj_x</th>\n",
              "      <th>neuron_3_traj_y</th>\n",
              "      <th>neuron_3_a</th>\n",
              "      <th>neuron_4_traj_x</th>\n",
              "      <th>neuron_4_traj_y</th>\n",
              "      <th>neuron_4_a</th>\n",
              "      <th>neuron_5_traj_x</th>\n",
              "      <th>neuron_5_traj_y</th>\n",
              "      <th>neuron_5_a</th>\n",
              "      <th>teacher_neurons_x</th>\n",
              "      <th>teacher_neurons_y</th>\n",
              "    </tr>\n",
              "  </thead>\n",
              "  <tbody>\n",
              "    <tr>\n",
              "      <th>146</th>\n",
              "      <td>2.940080e-09</td>\n",
              "      <td>5.828641e-07</td>\n",
              "      <td>1.564670e-07</td>\n",
              "      <td>6</td>\n",
              "      <td>[-0.7925467, -0.7914465, -0.7904459, -0.789444...</td>\n",
              "      <td>[-0.22784829, -0.22894914, -0.22995372, -0.230...</td>\n",
              "      <td>0.370681</td>\n",
              "      <td>[0.74891895, 0.7500189, 0.7510182, 0.7520166, ...</td>\n",
              "      <td>[0.14569956, 0.14678791, 0.14771865, 0.1485413...</td>\n",
              "      <td>1.003134</td>\n",
              "      <td>[0.7328748, 0.73177356, 0.73076713, 0.72975194...</td>\n",
              "      <td>[0.52823836, 0.5293396, 0.5303463, 0.5313617, ...</td>\n",
              "      <td>-0.555717</td>\n",
              "      <td>[0.7198315, 0.72092986, 0.7219207, 0.72289866,...</td>\n",
              "      <td>[0.44901675, 0.44791844, 0.44692782, 0.4459504...</td>\n",
              "      <td>-0.448735</td>\n",
              "      <td>[0.49754864, 0.49864846, 0.49964774, 0.5006460...</td>\n",
              "      <td>[-0.7890209, -0.78792083, -0.78692126, -0.7859...</td>\n",
              "      <td>0.563041</td>\n",
              "      <td>[0.65730995, 0.65620965, 0.6552083, 0.6542052,...</td>\n",
              "      <td>[-0.0879305, -0.089030765, -0.09003222, -0.091...</td>\n",
              "      <td>-0.932405</td>\n",
              "      <td>[0.6, -0.5, -0.2, 0.1]</td>\n",
              "      <td>[0.5, 0.5, -0.6, -0.6]</td>\n",
              "    </tr>\n",
              "  </tbody>\n",
              "</table>\n",
              "</div>\n",
              "      <button class=\"colab-df-convert\" onclick=\"convertToInteractive('df-6f34b761-917c-48d7-8f68-02d48091256a')\"\n",
              "              title=\"Convert this dataframe to an interactive table.\"\n",
              "              style=\"display:none;\">\n",
              "        \n",
              "  <svg xmlns=\"http://www.w3.org/2000/svg\" height=\"24px\"viewBox=\"0 0 24 24\"\n",
              "       width=\"24px\">\n",
              "    <path d=\"M0 0h24v24H0V0z\" fill=\"none\"/>\n",
              "    <path d=\"M18.56 5.44l.94 2.06.94-2.06 2.06-.94-2.06-.94-.94-2.06-.94 2.06-2.06.94zm-11 1L8.5 8.5l.94-2.06 2.06-.94-2.06-.94L8.5 2.5l-.94 2.06-2.06.94zm10 10l.94 2.06.94-2.06 2.06-.94-2.06-.94-.94-2.06-.94 2.06-2.06.94z\"/><path d=\"M17.41 7.96l-1.37-1.37c-.4-.4-.92-.59-1.43-.59-.52 0-1.04.2-1.43.59L10.3 9.45l-7.72 7.72c-.78.78-.78 2.05 0 2.83L4 21.41c.39.39.9.59 1.41.59.51 0 1.02-.2 1.41-.59l7.78-7.78 2.81-2.81c.8-.78.8-2.07 0-2.86zM5.41 20L4 18.59l7.72-7.72 1.47 1.35L5.41 20z\"/>\n",
              "  </svg>\n",
              "      </button>\n",
              "      \n",
              "  <style>\n",
              "    .colab-df-container {\n",
              "      display:flex;\n",
              "      flex-wrap:wrap;\n",
              "      gap: 12px;\n",
              "    }\n",
              "\n",
              "    .colab-df-convert {\n",
              "      background-color: #E8F0FE;\n",
              "      border: none;\n",
              "      border-radius: 50%;\n",
              "      cursor: pointer;\n",
              "      display: none;\n",
              "      fill: #1967D2;\n",
              "      height: 32px;\n",
              "      padding: 0 0 0 0;\n",
              "      width: 32px;\n",
              "    }\n",
              "\n",
              "    .colab-df-convert:hover {\n",
              "      background-color: #E2EBFA;\n",
              "      box-shadow: 0px 1px 2px rgba(60, 64, 67, 0.3), 0px 1px 3px 1px rgba(60, 64, 67, 0.15);\n",
              "      fill: #174EA6;\n",
              "    }\n",
              "\n",
              "    [theme=dark] .colab-df-convert {\n",
              "      background-color: #3B4455;\n",
              "      fill: #D2E3FC;\n",
              "    }\n",
              "\n",
              "    [theme=dark] .colab-df-convert:hover {\n",
              "      background-color: #434B5C;\n",
              "      box-shadow: 0px 1px 3px 1px rgba(0, 0, 0, 0.15);\n",
              "      filter: drop-shadow(0px 1px 2px rgba(0, 0, 0, 0.3));\n",
              "      fill: #FFFFFF;\n",
              "    }\n",
              "  </style>\n",
              "\n",
              "      <script>\n",
              "        const buttonEl =\n",
              "          document.querySelector('#df-6f34b761-917c-48d7-8f68-02d48091256a button.colab-df-convert');\n",
              "        buttonEl.style.display =\n",
              "          google.colab.kernel.accessAllowed ? 'block' : 'none';\n",
              "\n",
              "        async function convertToInteractive(key) {\n",
              "          const element = document.querySelector('#df-6f34b761-917c-48d7-8f68-02d48091256a');\n",
              "          const dataTable =\n",
              "            await google.colab.kernel.invokeFunction('convertToInteractive',\n",
              "                                                     [key], {});\n",
              "          if (!dataTable) return;\n",
              "\n",
              "          const docLinkHtml = 'Like what you see? Visit the ' +\n",
              "            '<a target=\"_blank\" href=https://colab.research.google.com/notebooks/data_table.ipynb>data table notebook</a>'\n",
              "            + ' to learn more about interactive tables.';\n",
              "          element.innerHTML = '';\n",
              "          dataTable['output_type'] = 'display_data';\n",
              "          await google.colab.output.renderOutput(dataTable, element);\n",
              "          const docLink = document.createElement('div');\n",
              "          docLink.innerHTML = docLinkHtml;\n",
              "          element.appendChild(docLink);\n",
              "        }\n",
              "      </script>\n",
              "    </div>\n",
              "  </div>\n",
              "  "
            ],
            "text/plain": [
              "             loss  ...       teacher_neurons_y\n",
              "146  2.940080e-09  ...  [0.5, 0.5, -0.6, -0.6]\n",
              "\n",
              "[1 rows x 24 columns]"
            ]
          },
          "metadata": {},
          "execution_count": 734
        }
      ]
    },
    {
      "cell_type": "code",
      "source": [
        "plot_trajectories(lowest_loss_row)"
      ],
      "metadata": {
        "id": "xT2RCqpul0Qx",
        "colab": {
          "base_uri": "https://localhost:8080/",
          "height": 269
        },
        "outputId": "c34fa8d1-a1c2-481e-fc97-1307ed37a1b5"
      },
      "execution_count": 735,
      "outputs": [
        {
          "output_type": "display_data",
          "data": {
            "image/png": "[encoded data removed]",
            "text/plain": [
              "<Figure size 432x288 with 2 Axes>"
            ]
          },
          "metadata": {
            "needs_background": "light"
          }
        }
      ]
    },
    {
      "cell_type": "markdown",
      "source": [
        "# Case 2: negative eigenvalues"
      ],
      "metadata": {
        "id": "7FRs0RtYYutP"
      }
    },
    {
      "cell_type": "code",
      "source": [
        "negative_eigenvalues_data = data[data['smallest eigenvalue'] <= 0]\n",
        "negative_eigenvalues_data.head()"
      ],
      "metadata": {
        "colab": {
          "base_uri": "https://localhost:8080/",
          "height": 548
        },
        "id": "alt8ABQ8AjWC",
        "outputId": "af8164e2-205e-45ae-dfba-a4217cc6283e"
      },
      "execution_count": 736,
      "outputs": [
        {
          "output_type": "execute_result",
          "data": {
            "text/html": [
              "\n",
              "  <div id=\"df-a1b1c5a0-dd69-4528-a386-f09b21491247\">\n",
              "    <div class=\"colab-df-container\">\n",
              "      <div>\n",
              "<style scoped>\n",
              "    .dataframe tbody tr th:only-of-type {\n",
              "        vertical-align: middle;\n",
              "    }\n",
              "\n",
              "    .dataframe tbody tr th {\n",
              "        vertical-align: top;\n",
              "    }\n",
              "\n",
              "    .dataframe thead th {\n",
              "        text-align: right;\n",
              "    }\n",
              "</style>\n",
              "<table border=\"1\" class=\"dataframe\">\n",
              "  <thead>\n",
              "    <tr style=\"text-align: right;\">\n",
              "      <th></th>\n",
              "      <th>loss</th>\n",
              "      <th>gradient norm</th>\n",
              "      <th>smallest eigenvalue</th>\n",
              "      <th>student size</th>\n",
              "      <th>neuron_0_traj_x</th>\n",
              "      <th>neuron_0_traj_y</th>\n",
              "      <th>neuron_0_a</th>\n",
              "      <th>neuron_1_traj_x</th>\n",
              "      <th>neuron_1_traj_y</th>\n",
              "      <th>neuron_1_a</th>\n",
              "      <th>neuron_2_traj_x</th>\n",
              "      <th>neuron_2_traj_y</th>\n",
              "      <th>neuron_2_a</th>\n",
              "      <th>neuron_3_traj_x</th>\n",
              "      <th>neuron_3_traj_y</th>\n",
              "      <th>neuron_3_a</th>\n",
              "      <th>neuron_4_traj_x</th>\n",
              "      <th>neuron_4_traj_y</th>\n",
              "      <th>neuron_4_a</th>\n",
              "      <th>neuron_5_traj_x</th>\n",
              "      <th>neuron_5_traj_y</th>\n",
              "      <th>neuron_5_a</th>\n",
              "      <th>teacher_neurons_x</th>\n",
              "      <th>teacher_neurons_y</th>\n",
              "    </tr>\n",
              "  </thead>\n",
              "  <tbody>\n",
              "    <tr>\n",
              "      <th>0</th>\n",
              "      <td>7.368996e-08</td>\n",
              "      <td>0.000003</td>\n",
              "      <td>-3.072414e-07</td>\n",
              "      <td>6</td>\n",
              "      <td>[0.6980545, 0.6969546, 0.69595534, 0.69495714,...</td>\n",
              "      <td>[-0.01575166, -0.0146518275, -0.013652729, -0....</td>\n",
              "      <td>-0.300093</td>\n",
              "      <td>[0.47843462, 0.47953442, 0.48053354, 0.4815314...</td>\n",
              "      <td>[0.21780246, 0.21670271, 0.21570413, 0.2147074...</td>\n",
              "      <td>0.534985</td>\n",
              "      <td>[-0.278064, -0.27916375, -0.28016242, -0.28115...</td>\n",
              "      <td>[0.22209495, 0.22099163, 0.21997482, 0.2189388...</td>\n",
              "      <td>-1.228895</td>\n",
              "      <td>[-0.5253651, -0.52426493, -0.52326477, -0.5222...</td>\n",
              "      <td>[0.11097568, 0.10987543, 0.10887405, 0.1078707...</td>\n",
              "      <td>0.701700</td>\n",
              "      <td>[-0.39972517, -0.39862496, -0.39762387, -0.396...</td>\n",
              "      <td>[-0.61575437, -0.61685455, -0.61785483, -0.618...</td>\n",
              "      <td>0.780308</td>\n",
              "      <td>[-0.036501527, -0.03760135, -0.038600408, -0.0...</td>\n",
              "      <td>[-0.49979421, -0.49869436, -0.4976945, -0.4966...</td>\n",
              "      <td>-0.488004</td>\n",
              "      <td>[0.6, -0.5, -0.2, 0.1]</td>\n",
              "      <td>[0.5, 0.5, -0.6, -0.6]</td>\n",
              "    </tr>\n",
              "    <tr>\n",
              "      <th>1</th>\n",
              "      <td>1.086262e-07</td>\n",
              "      <td>0.000002</td>\n",
              "      <td>-3.806967e-08</td>\n",
              "      <td>6</td>\n",
              "      <td>[-0.6043891, -0.6032889, -0.6022887, -0.601288...</td>\n",
              "      <td>[-0.058547854, -0.059647463, -0.06064533, -0.0...</td>\n",
              "      <td>1.515955</td>\n",
              "      <td>[-0.7961307, -0.79723024, -0.79822767, -0.7992...</td>\n",
              "      <td>[-0.55460167, -0.5535022, -0.55250525, -0.5515...</td>\n",
              "      <td>-0.917856</td>\n",
              "      <td>[-0.47430068, -0.47540027, -0.4763981, -0.4773...</td>\n",
              "      <td>[-0.42227766, -0.42117822, -0.42018124, -0.419...</td>\n",
              "      <td>-0.744507</td>\n",
              "      <td>[-0.6128353, -0.61393505, -0.61493355, -0.6159...</td>\n",
              "      <td>[0.39448422, 0.39338267, 0.3923741, 0.39135426...</td>\n",
              "      <td>-0.076032</td>\n",
              "      <td>[0.8487162, 0.8476165, 0.84661824, 0.84562236,...</td>\n",
              "      <td>[0.68875355, 0.6898531, 0.69085044, 0.69184405...</td>\n",
              "      <td>-0.749196</td>\n",
              "      <td>[0.50306565, 0.50416595, 0.5051673, 0.5061707,...</td>\n",
              "      <td>[-0.1113919, -0.11249129, -0.113487914, -0.114...</td>\n",
              "      <td>0.971635</td>\n",
              "      <td>[0.6, -0.5, -0.2, 0.1]</td>\n",
              "      <td>[0.5, 0.5, -0.6, -0.6]</td>\n",
              "    </tr>\n",
              "    <tr>\n",
              "      <th>2</th>\n",
              "      <td>1.008812e-07</td>\n",
              "      <td>0.000001</td>\n",
              "      <td>-6.748910e-07</td>\n",
              "      <td>6</td>\n",
              "      <td>[0.8127845, 0.81168455, 0.81068516, 0.80968654...</td>\n",
              "      <td>[0.6718052, 0.6729051, 0.6739043, 0.6749023, 0...</td>\n",
              "      <td>-0.506687</td>\n",
              "      <td>[-0.52905494, -0.52795506, -0.52695584, -0.525...</td>\n",
              "      <td>[0.571407, 0.57250684, 0.5735055, 0.5745024, 0...</td>\n",
              "      <td>0.829806</td>\n",
              "      <td>[-0.8023246, -0.80122495, -0.8002272, -0.79923...</td>\n",
              "      <td>[0.79862326, 0.7997228, 0.80072004, 0.8017135,...</td>\n",
              "      <td>-0.126239</td>\n",
              "      <td>[-0.73665804, -0.7355583, -0.73455983, -0.7335...</td>\n",
              "      <td>[0.13758999, 0.13868995, 0.13968965, 0.1406889...</td>\n",
              "      <td>-0.973729</td>\n",
              "      <td>[0.11645836, 0.11535863, 0.11436017, 0.1133638...</td>\n",
              "      <td>[0.54036874, 0.5414682, 0.5424652, 0.54345804,...</td>\n",
              "      <td>-0.202526</td>\n",
              "      <td>[0.17881507, 0.17771532, 0.17671676, 0.1757201...</td>\n",
              "      <td>[-0.11210662, -0.113206185, -0.11420382, -0.11...</td>\n",
              "      <td>0.979374</td>\n",
              "      <td>[0.6, -0.5, -0.2, 0.1]</td>\n",
              "      <td>[0.5, 0.5, -0.6, -0.6]</td>\n",
              "    </tr>\n",
              "    <tr>\n",
              "      <th>3</th>\n",
              "      <td>1.106605e-07</td>\n",
              "      <td>0.000002</td>\n",
              "      <td>-6.465805e-07</td>\n",
              "      <td>6</td>\n",
              "      <td>[-0.45053408, -0.44943398, -0.44843364, -0.447...</td>\n",
              "      <td>[-0.37833294, -0.37723523, -0.376248, -0.37527...</td>\n",
              "      <td>0.735935</td>\n",
              "      <td>[0.78767174, 0.78655374, 0.7854719, 0.78431064...</td>\n",
              "      <td>[-0.7210004, -0.7221184, -0.72319984, -0.72436...</td>\n",
              "      <td>-0.735639</td>\n",
              "      <td>[-0.00064349174, -0.0017435071, -0.0027435902,...</td>\n",
              "      <td>[-0.80965626, -0.8107556, -0.81175184, -0.8127...</td>\n",
              "      <td>-0.700970</td>\n",
              "      <td>[0.42528814, 0.42638797, 0.42738724, 0.4283854...</td>\n",
              "      <td>[-0.69517016, -0.6940703, -0.693071, -0.692072...</td>\n",
              "      <td>0.734697</td>\n",
              "      <td>[0.84347874, 0.84237844, 0.8413771, 0.840374, ...</td>\n",
              "      <td>[-0.604022, -0.6051222, -0.60612285, -0.607124...</td>\n",
              "      <td>0.267892</td>\n",
              "      <td>[-0.056492925, -0.057593092, -0.05859396, -0.0...</td>\n",
              "      <td>[0.35165137, 0.35055152, 0.34955165, 0.3485517...</td>\n",
              "      <td>-0.301916</td>\n",
              "      <td>[0.6, -0.5, -0.2, 0.1]</td>\n",
              "      <td>[0.5, 0.5, -0.6, -0.6]</td>\n",
              "    </tr>\n",
              "    <tr>\n",
              "      <th>5</th>\n",
              "      <td>1.114575e-07</td>\n",
              "      <td>0.000002</td>\n",
              "      <td>-4.608297e-07</td>\n",
              "      <td>6</td>\n",
              "      <td>[0.39266485, 0.39375186, 0.39467108, 0.3954455...</td>\n",
              "      <td>[-0.7363104, -0.7352233, -0.7343034, -0.733527...</td>\n",
              "      <td>-0.694181</td>\n",
              "      <td>[0.15991634, 0.1610161, 0.16201484, 0.16301182...</td>\n",
              "      <td>[0.42293245, 0.42403165, 0.42502758, 0.4260179...</td>\n",
              "      <td>1.318266</td>\n",
              "      <td>[-0.57505906, -0.5739589, -0.572959, -0.571959...</td>\n",
              "      <td>[-0.23046052, -0.22936043, -0.22835992, -0.227...</td>\n",
              "      <td>0.848714</td>\n",
              "      <td>[-0.06715804, -0.06825814, -0.06925862, -0.070...</td>\n",
              "      <td>[0.80777353, 0.80667317, 0.8056715, 0.80466765...</td>\n",
              "      <td>-0.940161</td>\n",
              "      <td>[0.32318276, 0.322083, 0.321084, 0.32008636, 0...</td>\n",
              "      <td>[0.74564785, 0.7467475, 0.7477454, 0.7487404, ...</td>\n",
              "      <td>-0.349534</td>\n",
              "      <td>[-0.08239621, -0.08349641, -0.08449748, -0.085...</td>\n",
              "      <td>[0.062958, 0.06185781, 0.060856793, 0.05985443...</td>\n",
              "      <td>-0.183105</td>\n",
              "      <td>[0.6, -0.5, -0.2, 0.1]</td>\n",
              "      <td>[0.5, 0.5, -0.6, -0.6]</td>\n",
              "    </tr>\n",
              "  </tbody>\n",
              "</table>\n",
              "</div>\n",
              "      <button class=\"colab-df-convert\" onclick=\"convertToInteractive('df-a1b1c5a0-dd69-4528-a386-f09b21491247')\"\n",
              "              title=\"Convert this dataframe to an interactive table.\"\n",
              "              style=\"display:none;\">\n",
              "        \n",
              "  <svg xmlns=\"http://www.w3.org/2000/svg\" height=\"24px\"viewBox=\"0 0 24 24\"\n",
              "       width=\"24px\">\n",
              "    <path d=\"M0 0h24v24H0V0z\" fill=\"none\"/>\n",
              "    <path d=\"M18.56 5.44l.94 2.06.94-2.06 2.06-.94-2.06-.94-.94-2.06-.94 2.06-2.06.94zm-11 1L8.5 8.5l.94-2.06 2.06-.94-2.06-.94L8.5 2.5l-.94 2.06-2.06.94zm10 10l.94 2.06.94-2.06 2.06-.94-2.06-.94-.94-2.06-.94 2.06-2.06.94z\"/><path d=\"M17.41 7.96l-1.37-1.37c-.4-.4-.92-.59-1.43-.59-.52 0-1.04.2-1.43.59L10.3 9.45l-7.72 7.72c-.78.78-.78 2.05 0 2.83L4 21.41c.39.39.9.59 1.41.59.51 0 1.02-.2 1.41-.59l7.78-7.78 2.81-2.81c.8-.78.8-2.07 0-2.86zM5.41 20L4 18.59l7.72-7.72 1.47 1.35L5.41 20z\"/>\n",
              "  </svg>\n",
              "      </button>\n",
              "      \n",
              "  <style>\n",
              "    .colab-df-container {\n",
              "      display:flex;\n",
              "      flex-wrap:wrap;\n",
              "      gap: 12px;\n",
              "    }\n",
              "\n",
              "    .colab-df-convert {\n",
              "      background-color: #E8F0FE;\n",
              "      border: none;\n",
              "      border-radius: 50%;\n",
              "      cursor: pointer;\n",
              "      display: none;\n",
              "      fill: #1967D2;\n",
              "      height: 32px;\n",
              "      padding: 0 0 0 0;\n",
              "      width: 32px;\n",
              "    }\n",
              "\n",
              "    .colab-df-convert:hover {\n",
              "      background-color: #E2EBFA;\n",
              "      box-shadow: 0px 1px 2px rgba(60, 64, 67, 0.3), 0px 1px 3px 1px rgba(60, 64, 67, 0.15);\n",
              "      fill: #174EA6;\n",
              "    }\n",
              "\n",
              "    [theme=dark] .colab-df-convert {\n",
              "      background-color: #3B4455;\n",
              "      fill: #D2E3FC;\n",
              "    }\n",
              "\n",
              "    [theme=dark] .colab-df-convert:hover {\n",
              "      background-color: #434B5C;\n",
              "      box-shadow: 0px 1px 3px 1px rgba(0, 0, 0, 0.15);\n",
              "      filter: drop-shadow(0px 1px 2px rgba(0, 0, 0, 0.3));\n",
              "      fill: #FFFFFF;\n",
              "    }\n",
              "  </style>\n",
              "\n",
              "      <script>\n",
              "        const buttonEl =\n",
              "          document.querySelector('#df-a1b1c5a0-dd69-4528-a386-f09b21491247 button.colab-df-convert');\n",
              "        buttonEl.style.display =\n",
              "          google.colab.kernel.accessAllowed ? 'block' : 'none';\n",
              "\n",
              "        async function convertToInteractive(key) {\n",
              "          const element = document.querySelector('#df-a1b1c5a0-dd69-4528-a386-f09b21491247');\n",
              "          const dataTable =\n",
              "            await google.colab.kernel.invokeFunction('convertToInteractive',\n",
              "                                                     [key], {});\n",
              "          if (!dataTable) return;\n",
              "\n",
              "          const docLinkHtml = 'Like what you see? Visit the ' +\n",
              "            '<a target=\"_blank\" href=https://colab.research.google.com/notebooks/data_table.ipynb>data table notebook</a>'\n",
              "            + ' to learn more about interactive tables.';\n",
              "          element.innerHTML = '';\n",
              "          dataTable['output_type'] = 'display_data';\n",
              "          await google.colab.output.renderOutput(dataTable, element);\n",
              "          const docLink = document.createElement('div');\n",
              "          docLink.innerHTML = docLinkHtml;\n",
              "          element.appendChild(docLink);\n",
              "        }\n",
              "      </script>\n",
              "    </div>\n",
              "  </div>\n",
              "  "
            ],
            "text/plain": [
              "           loss  gradient norm  ...       teacher_neurons_x       teacher_neurons_y\n",
              "0  7.368996e-08       0.000003  ...  [0.6, -0.5, -0.2, 0.1]  [0.5, 0.5, -0.6, -0.6]\n",
              "1  1.086262e-07       0.000002  ...  [0.6, -0.5, -0.2, 0.1]  [0.5, 0.5, -0.6, -0.6]\n",
              "2  1.008812e-07       0.000001  ...  [0.6, -0.5, -0.2, 0.1]  [0.5, 0.5, -0.6, -0.6]\n",
              "3  1.106605e-07       0.000002  ...  [0.6, -0.5, -0.2, 0.1]  [0.5, 0.5, -0.6, -0.6]\n",
              "5  1.114575e-07       0.000002  ...  [0.6, -0.5, -0.2, 0.1]  [0.5, 0.5, -0.6, -0.6]\n",
              "\n",
              "[5 rows x 24 columns]"
            ]
          },
          "metadata": {},
          "execution_count": 736
        }
      ]
    },
    {
      "cell_type": "code",
      "source": [
        "len(negative_eigenvalues_data)"
      ],
      "metadata": {
        "id": "O7FTRDbk311m",
        "outputId": "9adec425-c3f2-4a13-f8f2-b11844f250af",
        "colab": {
          "base_uri": "https://localhost:8080/"
        }
      },
      "execution_count": 737,
      "outputs": [
        {
          "output_type": "execute_result",
          "data": {
            "text/plain": [
              "692"
            ]
          },
          "metadata": {},
          "execution_count": 737
        }
      ]
    },
    {
      "cell_type": "markdown",
      "source": [
        "## Choose an experiment with the (negative) eigenvalue with the highest magnitude - indicative of a saddle."
      ],
      "metadata": {
        "id": "a80udBHNTxo3"
      }
    },
    {
      "cell_type": "code",
      "source": [
        "smallest_neg_eigenvalue_row = negative_eigenvalues_data[negative_eigenvalues_data['smallest eigenvalue'] == \n",
        "                          min(negative_eigenvalues_data['smallest eigenvalue'])]\n",
        "smallest_neg_eigenvalue_row"
      ],
      "metadata": {
        "colab": {
          "base_uri": "https://localhost:8080/",
          "height": 214
        },
        "id": "vXOCxnu_TuDy",
        "outputId": "86dadcad-9a5c-45e7-ad44-856e4f48c0a8"
      },
      "execution_count": 738,
      "outputs": [
        {
          "output_type": "execute_result",
          "data": {
            "text/html": [
              "\n",
              "  <div id=\"df-15c4de0a-dca9-4e9e-9f45-8d77196fabd1\">\n",
              "    <div class=\"colab-df-container\">\n",
              "      <div>\n",
              "<style scoped>\n",
              "    .dataframe tbody tr th:only-of-type {\n",
              "        vertical-align: middle;\n",
              "    }\n",
              "\n",
              "    .dataframe tbody tr th {\n",
              "        vertical-align: top;\n",
              "    }\n",
              "\n",
              "    .dataframe thead th {\n",
              "        text-align: right;\n",
              "    }\n",
              "</style>\n",
              "<table border=\"1\" class=\"dataframe\">\n",
              "  <thead>\n",
              "    <tr style=\"text-align: right;\">\n",
              "      <th></th>\n",
              "      <th>loss</th>\n",
              "      <th>gradient norm</th>\n",
              "      <th>smallest eigenvalue</th>\n",
              "      <th>student size</th>\n",
              "      <th>neuron_0_traj_x</th>\n",
              "      <th>neuron_0_traj_y</th>\n",
              "      <th>neuron_0_a</th>\n",
              "      <th>neuron_1_traj_x</th>\n",
              "      <th>neuron_1_traj_y</th>\n",
              "      <th>neuron_1_a</th>\n",
              "      <th>neuron_2_traj_x</th>\n",
              "      <th>neuron_2_traj_y</th>\n",
              "      <th>neuron_2_a</th>\n",
              "      <th>neuron_3_traj_x</th>\n",
              "      <th>neuron_3_traj_y</th>\n",
              "      <th>neuron_3_a</th>\n",
              "      <th>neuron_4_traj_x</th>\n",
              "      <th>neuron_4_traj_y</th>\n",
              "      <th>neuron_4_a</th>\n",
              "      <th>neuron_5_traj_x</th>\n",
              "      <th>neuron_5_traj_y</th>\n",
              "      <th>neuron_5_a</th>\n",
              "      <th>teacher_neurons_x</th>\n",
              "      <th>teacher_neurons_y</th>\n",
              "    </tr>\n",
              "  </thead>\n",
              "  <tbody>\n",
              "    <tr>\n",
              "      <th>536</th>\n",
              "      <td>0.000117</td>\n",
              "      <td>0.000002</td>\n",
              "      <td>-0.000013</td>\n",
              "      <td>6</td>\n",
              "      <td>[0.07326281, 0.07436205, 0.07535785, 0.0763478...</td>\n",
              "      <td>[-0.32001853, -0.32111785, -0.32211435, -0.323...</td>\n",
              "      <td>-0.085921</td>\n",
              "      <td>[0.63008505, 0.6311847, 0.63218266, 0.63317776...</td>\n",
              "      <td>[0.4012285, 0.40012878, 0.39913023, 0.39813367...</td>\n",
              "      <td>0.369791</td>\n",
              "      <td>[0.5624909, 0.5635905, 0.5645884, 0.56558347, ...</td>\n",
              "      <td>[0.50618035, 0.5050806, 0.50408214, 0.503086, ...</td>\n",
              "      <td>0.047371</td>\n",
              "      <td>[-0.49323797, -0.49213737, -0.49113414, -0.490...</td>\n",
              "      <td>[0.5495127, 0.55061346, 0.5516176, 0.55262727,...</td>\n",
              "      <td>-0.341841</td>\n",
              "      <td>[-0.35006642, -0.34896633, -0.34796572, -0.346...</td>\n",
              "      <td>[0.6900955, 0.6889956, 0.6879963, 0.6869981, 0...</td>\n",
              "      <td>0.384194</td>\n",
              "      <td>[-0.30538696, -0.30648682, -0.3074863, -0.3084...</td>\n",
              "      <td>[-0.031351686, -0.030251574, -0.02925098, -0.0...</td>\n",
              "      <td>-0.373595</td>\n",
              "      <td>[0.6, -0.5, -0.2, 0.1]</td>\n",
              "      <td>[0.5, 0.5, -0.6, -0.6]</td>\n",
              "    </tr>\n",
              "  </tbody>\n",
              "</table>\n",
              "</div>\n",
              "      <button class=\"colab-df-convert\" onclick=\"convertToInteractive('df-15c4de0a-dca9-4e9e-9f45-8d77196fabd1')\"\n",
              "              title=\"Convert this dataframe to an interactive table.\"\n",
              "              style=\"display:none;\">\n",
              "        \n",
              "  <svg xmlns=\"http://www.w3.org/2000/svg\" height=\"24px\"viewBox=\"0 0 24 24\"\n",
              "       width=\"24px\">\n",
              "    <path d=\"M0 0h24v24H0V0z\" fill=\"none\"/>\n",
              "    <path d=\"M18.56 5.44l.94 2.06.94-2.06 2.06-.94-2.06-.94-.94-2.06-.94 2.06-2.06.94zm-11 1L8.5 8.5l.94-2.06 2.06-.94-2.06-.94L8.5 2.5l-.94 2.06-2.06.94zm10 10l.94 2.06.94-2.06 2.06-.94-2.06-.94-.94-2.06-.94 2.06-2.06.94z\"/><path d=\"M17.41 7.96l-1.37-1.37c-.4-.4-.92-.59-1.43-.59-.52 0-1.04.2-1.43.59L10.3 9.45l-7.72 7.72c-.78.78-.78 2.05 0 2.83L4 21.41c.39.39.9.59 1.41.59.51 0 1.02-.2 1.41-.59l7.78-7.78 2.81-2.81c.8-.78.8-2.07 0-2.86zM5.41 20L4 18.59l7.72-7.72 1.47 1.35L5.41 20z\"/>\n",
              "  </svg>\n",
              "      </button>\n",
              "      \n",
              "  <style>\n",
              "    .colab-df-container {\n",
              "      display:flex;\n",
              "      flex-wrap:wrap;\n",
              "      gap: 12px;\n",
              "    }\n",
              "\n",
              "    .colab-df-convert {\n",
              "      background-color: #E8F0FE;\n",
              "      border: none;\n",
              "      border-radius: 50%;\n",
              "      cursor: pointer;\n",
              "      display: none;\n",
              "      fill: #1967D2;\n",
              "      height: 32px;\n",
              "      padding: 0 0 0 0;\n",
              "      width: 32px;\n",
              "    }\n",
              "\n",
              "    .colab-df-convert:hover {\n",
              "      background-color: #E2EBFA;\n",
              "      box-shadow: 0px 1px 2px rgba(60, 64, 67, 0.3), 0px 1px 3px 1px rgba(60, 64, 67, 0.15);\n",
              "      fill: #174EA6;\n",
              "    }\n",
              "\n",
              "    [theme=dark] .colab-df-convert {\n",
              "      background-color: #3B4455;\n",
              "      fill: #D2E3FC;\n",
              "    }\n",
              "\n",
              "    [theme=dark] .colab-df-convert:hover {\n",
              "      background-color: #434B5C;\n",
              "      box-shadow: 0px 1px 3px 1px rgba(0, 0, 0, 0.15);\n",
              "      filter: drop-shadow(0px 1px 2px rgba(0, 0, 0, 0.3));\n",
              "      fill: #FFFFFF;\n",
              "    }\n",
              "  </style>\n",
              "\n",
              "      <script>\n",
              "        const buttonEl =\n",
              "          document.querySelector('#df-15c4de0a-dca9-4e9e-9f45-8d77196fabd1 button.colab-df-convert');\n",
              "        buttonEl.style.display =\n",
              "          google.colab.kernel.accessAllowed ? 'block' : 'none';\n",
              "\n",
              "        async function convertToInteractive(key) {\n",
              "          const element = document.querySelector('#df-15c4de0a-dca9-4e9e-9f45-8d77196fabd1');\n",
              "          const dataTable =\n",
              "            await google.colab.kernel.invokeFunction('convertToInteractive',\n",
              "                                                     [key], {});\n",
              "          if (!dataTable) return;\n",
              "\n",
              "          const docLinkHtml = 'Like what you see? Visit the ' +\n",
              "            '<a target=\"_blank\" href=https://colab.research.google.com/notebooks/data_table.ipynb>data table notebook</a>'\n",
              "            + ' to learn more about interactive tables.';\n",
              "          element.innerHTML = '';\n",
              "          dataTable['output_type'] = 'display_data';\n",
              "          await google.colab.output.renderOutput(dataTable, element);\n",
              "          const docLink = document.createElement('div');\n",
              "          docLink.innerHTML = docLinkHtml;\n",
              "          element.appendChild(docLink);\n",
              "        }\n",
              "      </script>\n",
              "    </div>\n",
              "  </div>\n",
              "  "
            ],
            "text/plain": [
              "         loss  gradient norm  ...       teacher_neurons_x       teacher_neurons_y\n",
              "536  0.000117       0.000002  ...  [0.6, -0.5, -0.2, 0.1]  [0.5, 0.5, -0.6, -0.6]\n",
              "\n",
              "[1 rows x 24 columns]"
            ]
          },
          "metadata": {},
          "execution_count": 738
        }
      ]
    },
    {
      "cell_type": "code",
      "source": [
        "plot_trajectories(smallest_neg_eigenvalue_row)"
      ],
      "metadata": {
        "colab": {
          "base_uri": "https://localhost:8080/",
          "height": 265
        },
        "id": "FB1uMrp0UOx2",
        "outputId": "44f8de2f-aefe-4ed2-8636-a76f2fd2118d"
      },
      "execution_count": 739,
      "outputs": [
        {
          "output_type": "display_data",
          "data": {
            "image/png": "[encoded data removed]",
            "text/plain": [
              "<Figure size 432x288 with 2 Axes>"
            ]
          },
          "metadata": {
            "needs_background": "light"
          }
        }
      ]
    },
    {
      "cell_type": "markdown",
      "source": [
        "### Second order optimization starting with the point of convergence."
      ],
      "metadata": {
        "id": "jc6Oz4vxwh9P"
      }
    },
    {
      "cell_type": "markdown",
      "source": [
        "Firstly, we fetch the weights from the student network."
      ],
      "metadata": {
        "id": "_Ym1B09mxB24"
      }
    },
    {
      "cell_type": "code",
      "source": [
        "w_in = []\n",
        "w_out = []\n",
        "\n",
        "for i in range(0, int(smallest_neg_eigenvalue_row['student size'])):\n",
        "  neuron_traj_x = np.fromstring(smallest_neg_eigenvalue_row['neuron_' + str(i) + '_traj_x'].values[0][1:-1], dtype=float, sep=',')\n",
        "  neuron_traj_y = np.fromstring(smallest_neg_eigenvalue_row['neuron_' + str(i) + '_traj_y'].values[0][1:-1], dtype=float, sep=',')\n",
        "\n",
        "  w_in.append([neuron_traj_x[-1], neuron_traj_y[-1]])\n",
        "\n",
        "  w_out.append(float(smallest_neg_eigenvalue_row['neuron_' + str(i) + '_a'].values[0]))\n",
        "\n",
        "w_out = [w_out]\n",
        "\n",
        "print(w_in)\n",
        "print(w_out)"
      ],
      "metadata": {
        "colab": {
          "base_uri": "https://localhost:8080/"
        },
        "id": "mmdwm8sGwlAj",
        "outputId": "cab63733-5773-46c3-8896-c047b184cab9"
      },
      "execution_count": 740,
      "outputs": [
        {
          "output_type": "stream",
          "name": "stdout",
          "text": [
            "[[-0.26982093, 0.021385968], [0.9504737, 0.6333818], [0.85748494, 0.5301233], [-0.9166259, 0.7256652], [0.1619739, -0.030009301], [-0.22400174, 0.0209027]]\n",
            "[[-0.085920654, 0.36979118, 0.047371015, -0.34184116, 0.38419384, -0.3735952]]\n"
          ]
        }
      ]
    },
    {
      "cell_type": "markdown",
      "source": [
        "Secondly, we apply second order optimization from these weights.\n",
        "\n"
      ],
      "metadata": {
        "id": "4XytylW9xHQM"
      }
    },
    {
      "cell_type": "code",
      "source": [
        "params = OrderedDict([(\"w_in\", torch.Tensor(w_in)), (\"w_out\", torch.Tensor(w_out))])\n",
        "lb_dict = OrderedDict([(\"w_in\", torch.Tensor(w_in) - 1), (\"w_out\", torch.Tensor(w_out) - 1)])\n",
        "ub_dict = OrderedDict([(\"w_in\", torch.Tensor(w_in) + 1), (\"w_out\", torch.Tensor(w_out) + 1)])\n",
        "dummy_model = DummyNetwork(D_in, H_student, D_out, params[\"w_in\"], params[\"w_out\"])\n",
        "loss_before_optimization = nn.MSELoss()(dummy_model(dataset), y_labels).item()\n",
        "print('loss before optimization: ', loss_before_optimization)\n",
        "print('old params: ',params)\n",
        "# params = minimize(d_loss, params, method=\"\", lb_dict = lb_dict, ub_dict = ub_dict,\n",
        "#                   options={\"disp\": True , \"maxiter\": 10 ** 3}, tol=1e-8)\n",
        "params = minimize(d_loss, params, method=\"SLSQP\", lb_dict = lb_dict, ub_dict = ub_dict,\n",
        "                  options={\"disp\": True , \"maxiter\": 10 ** 4}, tol=1e-60)\n",
        "print('new params: ',params)"
      ],
      "metadata": {
        "colab": {
          "base_uri": "https://localhost:8080/"
        },
        "id": "zkQgI-unxHq7",
        "outputId": "27f20c06-f432-4c0e-e5ba-ab0a50fa50be"
      },
      "execution_count": 741,
      "outputs": [
        {
          "output_type": "stream",
          "name": "stdout",
          "text": [
            "loss before optimization:  0.00011658672883640975\n",
            "old params:  OrderedDict([('w_in', tensor([[-0.2698,  0.0214],\n",
            "        [ 0.9505,  0.6334],\n",
            "        [ 0.8575,  0.5301],\n",
            "        [-0.9166,  0.7257],\n",
            "        [ 0.1620, -0.0300],\n",
            "        [-0.2240,  0.0209]])), ('w_out', tensor([[-0.0859,  0.3698,  0.0474, -0.3418,  0.3842, -0.3736]]))])\n",
            "Optimization terminated successfully.    (Exit mode 0)\n",
            "            Current function value: 0.00011658669245662168\n",
            "            Iterations: 2\n",
            "            Function evaluations: 13\n",
            "            Gradient evaluations: 2\n",
            "new params:  OrderedDict([('w_in', tensor([[-0.2698,  0.0214],\n",
            "        [ 0.9505,  0.6334],\n",
            "        [ 0.8575,  0.5301],\n",
            "        [-0.9166,  0.7257],\n",
            "        [ 0.1620, -0.0300],\n",
            "        [-0.2240,  0.0209]], requires_grad=True)), ('w_out', tensor([[-0.0859,  0.3698,  0.0474, -0.3418,  0.3842, -0.3736]],\n",
            "       requires_grad=True))])\n"
          ]
        }
      ]
    },
    {
      "cell_type": "markdown",
      "source": [
        "New smallest eigenvalue after second order optimization."
      ],
      "metadata": {
        "id": "XqGxAOFHxP1q"
      }
    },
    {
      "cell_type": "code",
      "source": [
        "dummy_model = DummyNetwork(D_in, H_student, D_out, params[\"w_in\"], params[\"w_out\"])\n",
        "print('loss after optimization: ', nn.MSELoss()(dummy_model(dataset), y_labels))\n",
        "loss_grad = torch.autograd.grad(nn.MSELoss()(dummy_model(dataset), y_labels), dummy_model.parameters(), create_graph=True)\n",
        "grad_norm, hessian = eval_hessian(loss_grad, dummy_model)\n",
        "smallest_eigenvalue = np.min(np.linalg.eigvals(hessian))\n",
        "print('new smallest eigenvelue:', smallest_eigenvalue)"
      ],
      "metadata": {
        "colab": {
          "base_uri": "https://localhost:8080/"
        },
        "id": "kV6c6s6exT7I",
        "outputId": "3cbd6d08-4130-4fd4-93a7-331123c42518"
      },
      "execution_count": 742,
      "outputs": [
        {
          "output_type": "stream",
          "name": "stdout",
          "text": [
            "loss after optimization:  tensor(0.0001, grad_fn=<MseLossBackward0>)\n",
            "new smallest eigenvelue: -1.284889e-05\n"
          ]
        }
      ]
    },
    {
      "cell_type": "markdown",
      "source": [
        "## Choose an experiment with the (negative) eigenvalue with the smallest magnitude - indicative of a local/global minimum."
      ],
      "metadata": {
        "id": "oMbk4gY8VLGB"
      }
    },
    {
      "cell_type": "code",
      "source": [
        "highest_neg_eigenvalue_row = negative_eigenvalues_data[negative_eigenvalues_data['smallest eigenvalue'] == \n",
        "                          max(negative_eigenvalues_data['smallest eigenvalue'])]\n",
        "highest_neg_eigenvalue_row"
      ],
      "metadata": {
        "colab": {
          "base_uri": "https://localhost:8080/",
          "height": 214
        },
        "id": "1YECrSWnVjUH",
        "outputId": "a574c6a8-6877-45ae-b4e8-335f71790491"
      },
      "execution_count": 743,
      "outputs": [
        {
          "output_type": "execute_result",
          "data": {
            "text/html": [
              "\n",
              "  <div id=\"df-b8d3c9a7-5b26-485a-bd02-23af0e9e4ace\">\n",
              "    <div class=\"colab-df-container\">\n",
              "      <div>\n",
              "<style scoped>\n",
              "    .dataframe tbody tr th:only-of-type {\n",
              "        vertical-align: middle;\n",
              "    }\n",
              "\n",
              "    .dataframe tbody tr th {\n",
              "        vertical-align: top;\n",
              "    }\n",
              "\n",
              "    .dataframe thead th {\n",
              "        text-align: right;\n",
              "    }\n",
              "</style>\n",
              "<table border=\"1\" class=\"dataframe\">\n",
              "  <thead>\n",
              "    <tr style=\"text-align: right;\">\n",
              "      <th></th>\n",
              "      <th>loss</th>\n",
              "      <th>gradient norm</th>\n",
              "      <th>smallest eigenvalue</th>\n",
              "      <th>student size</th>\n",
              "      <th>neuron_0_traj_x</th>\n",
              "      <th>neuron_0_traj_y</th>\n",
              "      <th>neuron_0_a</th>\n",
              "      <th>neuron_1_traj_x</th>\n",
              "      <th>neuron_1_traj_y</th>\n",
              "      <th>neuron_1_a</th>\n",
              "      <th>neuron_2_traj_x</th>\n",
              "      <th>neuron_2_traj_y</th>\n",
              "      <th>neuron_2_a</th>\n",
              "      <th>neuron_3_traj_x</th>\n",
              "      <th>neuron_3_traj_y</th>\n",
              "      <th>neuron_3_a</th>\n",
              "      <th>neuron_4_traj_x</th>\n",
              "      <th>neuron_4_traj_y</th>\n",
              "      <th>neuron_4_a</th>\n",
              "      <th>neuron_5_traj_x</th>\n",
              "      <th>neuron_5_traj_y</th>\n",
              "      <th>neuron_5_a</th>\n",
              "      <th>teacher_neurons_x</th>\n",
              "      <th>teacher_neurons_y</th>\n",
              "    </tr>\n",
              "  </thead>\n",
              "  <tbody>\n",
              "    <tr>\n",
              "      <th>296</th>\n",
              "      <td>0.000114</td>\n",
              "      <td>0.000001</td>\n",
              "      <td>-1.068932e-10</td>\n",
              "      <td>6</td>\n",
              "      <td>[-0.0039440393, -0.00284374, -0.0018421245, -0...</td>\n",
              "      <td>[0.25338978, 0.25228947, 0.25128788, 0.2502841...</td>\n",
              "      <td>0.399685</td>\n",
              "      <td>[-0.3325253, -0.3314255, -0.3304262, -0.329427...</td>\n",
              "      <td>[0.750817, 0.74971706, 0.7487177, 0.7477193, 0...</td>\n",
              "      <td>0.528671</td>\n",
              "      <td>[-0.33830953, -0.33940962, -0.34041017, -0.341...</td>\n",
              "      <td>[0.489541, 0.49064082, 0.4916401, 0.49263835, ...</td>\n",
              "      <td>-0.356121</td>\n",
              "      <td>[0.30212075, 0.3010209, 0.30002123, 0.2990221,...</td>\n",
              "      <td>[-0.49131992, -0.49022007, -0.48922068, -0.488...</td>\n",
              "      <td>-0.258732</td>\n",
              "      <td>[0.43859833, 0.43749905, 0.4365028, 0.4355119,...</td>\n",
              "      <td>[-0.6636546, -0.66255546, -0.6615599, -0.66057...</td>\n",
              "      <td>0.061929</td>\n",
              "      <td>[0.26812845, 0.2670286, 0.26602894, 0.26502982...</td>\n",
              "      <td>[-0.5459701, -0.54487, -0.54387045, -0.5428715...</td>\n",
              "      <td>-0.375432</td>\n",
              "      <td>[0.6, -0.5, -0.2, 0.1]</td>\n",
              "      <td>[0.5, 0.5, -0.6, -0.6]</td>\n",
              "    </tr>\n",
              "  </tbody>\n",
              "</table>\n",
              "</div>\n",
              "      <button class=\"colab-df-convert\" onclick=\"convertToInteractive('df-b8d3c9a7-5b26-485a-bd02-23af0e9e4ace')\"\n",
              "              title=\"Convert this dataframe to an interactive table.\"\n",
              "              style=\"display:none;\">\n",
              "        \n",
              "  <svg xmlns=\"http://www.w3.org/2000/svg\" height=\"24px\"viewBox=\"0 0 24 24\"\n",
              "       width=\"24px\">\n",
              "    <path d=\"M0 0h24v24H0V0z\" fill=\"none\"/>\n",
              "    <path d=\"M18.56 5.44l.94 2.06.94-2.06 2.06-.94-2.06-.94-.94-2.06-.94 2.06-2.06.94zm-11 1L8.5 8.5l.94-2.06 2.06-.94-2.06-.94L8.5 2.5l-.94 2.06-2.06.94zm10 10l.94 2.06.94-2.06 2.06-.94-2.06-.94-.94-2.06-.94 2.06-2.06.94z\"/><path d=\"M17.41 7.96l-1.37-1.37c-.4-.4-.92-.59-1.43-.59-.52 0-1.04.2-1.43.59L10.3 9.45l-7.72 7.72c-.78.78-.78 2.05 0 2.83L4 21.41c.39.39.9.59 1.41.59.51 0 1.02-.2 1.41-.59l7.78-7.78 2.81-2.81c.8-.78.8-2.07 0-2.86zM5.41 20L4 18.59l7.72-7.72 1.47 1.35L5.41 20z\"/>\n",
              "  </svg>\n",
              "      </button>\n",
              "      \n",
              "  <style>\n",
              "    .colab-df-container {\n",
              "      display:flex;\n",
              "      flex-wrap:wrap;\n",
              "      gap: 12px;\n",
              "    }\n",
              "\n",
              "    .colab-df-convert {\n",
              "      background-color: #E8F0FE;\n",
              "      border: none;\n",
              "      border-radius: 50%;\n",
              "      cursor: pointer;\n",
              "      display: none;\n",
              "      fill: #1967D2;\n",
              "      height: 32px;\n",
              "      padding: 0 0 0 0;\n",
              "      width: 32px;\n",
              "    }\n",
              "\n",
              "    .colab-df-convert:hover {\n",
              "      background-color: #E2EBFA;\n",
              "      box-shadow: 0px 1px 2px rgba(60, 64, 67, 0.3), 0px 1px 3px 1px rgba(60, 64, 67, 0.15);\n",
              "      fill: #174EA6;\n",
              "    }\n",
              "\n",
              "    [theme=dark] .colab-df-convert {\n",
              "      background-color: #3B4455;\n",
              "      fill: #D2E3FC;\n",
              "    }\n",
              "\n",
              "    [theme=dark] .colab-df-convert:hover {\n",
              "      background-color: #434B5C;\n",
              "      box-shadow: 0px 1px 3px 1px rgba(0, 0, 0, 0.15);\n",
              "      filter: drop-shadow(0px 1px 2px rgba(0, 0, 0, 0.3));\n",
              "      fill: #FFFFFF;\n",
              "    }\n",
              "  </style>\n",
              "\n",
              "      <script>\n",
              "        const buttonEl =\n",
              "          document.querySelector('#df-b8d3c9a7-5b26-485a-bd02-23af0e9e4ace button.colab-df-convert');\n",
              "        buttonEl.style.display =\n",
              "          google.colab.kernel.accessAllowed ? 'block' : 'none';\n",
              "\n",
              "        async function convertToInteractive(key) {\n",
              "          const element = document.querySelector('#df-b8d3c9a7-5b26-485a-bd02-23af0e9e4ace');\n",
              "          const dataTable =\n",
              "            await google.colab.kernel.invokeFunction('convertToInteractive',\n",
              "                                                     [key], {});\n",
              "          if (!dataTable) return;\n",
              "\n",
              "          const docLinkHtml = 'Like what you see? Visit the ' +\n",
              "            '<a target=\"_blank\" href=https://colab.research.google.com/notebooks/data_table.ipynb>data table notebook</a>'\n",
              "            + ' to learn more about interactive tables.';\n",
              "          element.innerHTML = '';\n",
              "          dataTable['output_type'] = 'display_data';\n",
              "          await google.colab.output.renderOutput(dataTable, element);\n",
              "          const docLink = document.createElement('div');\n",
              "          docLink.innerHTML = docLinkHtml;\n",
              "          element.appendChild(docLink);\n",
              "        }\n",
              "      </script>\n",
              "    </div>\n",
              "  </div>\n",
              "  "
            ],
            "text/plain": [
              "         loss  gradient norm  ...       teacher_neurons_x       teacher_neurons_y\n",
              "296  0.000114       0.000001  ...  [0.6, -0.5, -0.2, 0.1]  [0.5, 0.5, -0.6, -0.6]\n",
              "\n",
              "[1 rows x 24 columns]"
            ]
          },
          "metadata": {},
          "execution_count": 743
        }
      ]
    },
    {
      "cell_type": "code",
      "source": [
        "plot_trajectories(highest_neg_eigenvalue_row)"
      ],
      "metadata": {
        "colab": {
          "base_uri": "https://localhost:8080/",
          "height": 269
        },
        "id": "bRy1DeCFVtL0",
        "outputId": "90014d4e-d7cb-4593-fd74-8503df83548f"
      },
      "execution_count": 744,
      "outputs": [
        {
          "output_type": "display_data",
          "data": {
            "image/png": "[encoded data removed]",
            "text/plain": [
              "<Figure size 432x288 with 2 Axes>"
            ]
          },
          "metadata": {
            "needs_background": "light"
          }
        }
      ]
    },
    {
      "cell_type": "markdown",
      "source": [
        "### Second order optimization starting with the point of convergence."
      ],
      "metadata": {
        "id": "uiozlqpZGCpL"
      }
    },
    {
      "cell_type": "markdown",
      "source": [
        "Firstly, we fetch the weights from the student network."
      ],
      "metadata": {
        "id": "UQ5ZWEzkYH34"
      }
    },
    {
      "cell_type": "code",
      "source": [
        "w_in = []\n",
        "w_out = []\n",
        "\n",
        "for i in range(0, int(highest_neg_eigenvalue_row['student size'])):\n",
        "  neuron_traj_x = np.fromstring(highest_neg_eigenvalue_row['neuron_' + str(i) + '_traj_x'].values[0][1:-1], dtype=float, sep=',')\n",
        "  neuron_traj_y = np.fromstring(highest_neg_eigenvalue_row['neuron_' + str(i) + '_traj_y'].values[0][1:-1], dtype=float, sep=',')\n",
        "\n",
        "  w_in.append([neuron_traj_x[-1], neuron_traj_y[-1]])\n",
        "\n",
        "  w_out.append(float(highest_neg_eigenvalue_row['neuron_' + str(i) + '_a'].values[0]))\n",
        "\n",
        "w_out = [w_out]\n",
        "\n",
        "print(w_in)\n",
        "print(w_out)"
      ],
      "metadata": {
        "colab": {
          "base_uri": "https://localhost:8080/"
        },
        "id": "8SkEmyt5GFS8",
        "outputId": "57de0a39-c622-4a38-8698-3069b0e58f92"
      },
      "execution_count": 745,
      "outputs": [
        {
          "output_type": "stream",
          "name": "stdout",
          "text": [
            "[[0.81760836, 0.481559], [0.11889681, -0.01725978], [-0.90624803, 0.7126862], [-0.11890284, 0.017259931], [1.7099305, 1.3994889], [-0.11890326, 0.017260088]]\n",
            "[[0.39968458, 0.5286705, -0.3561207, -0.25873223, 0.06192935, -0.37543166]]\n"
          ]
        }
      ]
    },
    {
      "cell_type": "markdown",
      "source": [
        "Secondly, we apply second order optimization from these weights.\n",
        "\n"
      ],
      "metadata": {
        "id": "Vo-8qWlnYDeJ"
      }
    },
    {
      "cell_type": "code",
      "source": [
        "params = OrderedDict([(\"w_in\", torch.Tensor(w_in)), (\"w_out\", torch.Tensor(w_out))])\n",
        "lb_dict = OrderedDict([(\"w_in\", torch.Tensor(w_in) - 1), (\"w_out\", torch.Tensor(w_out) - 1)])\n",
        "ub_dict = OrderedDict([(\"w_in\", torch.Tensor(w_in) + 1), (\"w_out\", torch.Tensor(w_out) + 1)])\n",
        "dummy_model = DummyNetwork(D_in, H_student, D_out, params[\"w_in\"], params[\"w_out\"])\n",
        "loss_before_optimization = nn.MSELoss()(dummy_model(dataset), y_labels).item()\n",
        "print('loss before optimization: ', loss_before_optimization)\n",
        "print('old params: ',params)\n",
        "# params = minimize(d_loss, params, method=\"\", lb_dict = lb_dict, ub_dict = ub_dict,\n",
        "#                   options={\"disp\": True , \"maxiter\": 10 ** 3}, tol=1e-8)\n",
        "params = minimize(d_loss, params, method=\"SLSQP\", lb_dict = lb_dict, ub_dict = ub_dict,\n",
        "                  options={\"disp\": True , \"maxiter\": 10 ** 4}, tol=1e-60)\n",
        "print('new params: ',params)"
      ],
      "metadata": {
        "colab": {
          "base_uri": "https://localhost:8080/"
        },
        "id": "wA-Otd0XYQrH",
        "outputId": "3251bfb3-6332-4622-c90e-28bed6867f32"
      },
      "execution_count": 746,
      "outputs": [
        {
          "output_type": "stream",
          "name": "stdout",
          "text": [
            "loss before optimization:  0.00011431219172663987\n",
            "old params:  OrderedDict([('w_in', tensor([[ 0.8176,  0.4816],\n",
            "        [ 0.1189, -0.0173],\n",
            "        [-0.9062,  0.7127],\n",
            "        [-0.1189,  0.0173],\n",
            "        [ 1.7099,  1.3995],\n",
            "        [-0.1189,  0.0173]])), ('w_out', tensor([[ 0.3997,  0.5287, -0.3561, -0.2587,  0.0619, -0.3754]]))])\n",
            "Optimization terminated successfully.    (Exit mode 0)\n",
            "            Current function value: 0.00011431219172663987\n",
            "            Iterations: 1\n",
            "            Function evaluations: 12\n",
            "            Gradient evaluations: 1\n",
            "new params:  OrderedDict([('w_in', tensor([[ 0.8176,  0.4816],\n",
            "        [ 0.1189, -0.0173],\n",
            "        [-0.9062,  0.7127],\n",
            "        [-0.1189,  0.0173],\n",
            "        [ 1.7099,  1.3995],\n",
            "        [-0.1189,  0.0173]], requires_grad=True)), ('w_out', tensor([[ 0.3997,  0.5287, -0.3561, -0.2587,  0.0619, -0.3754]],\n",
            "       requires_grad=True))])\n"
          ]
        }
      ]
    },
    {
      "cell_type": "markdown",
      "source": [
        "New smallest eigenvalue after second order optimization."
      ],
      "metadata": {
        "id": "VjoVQPYodRX5"
      }
    },
    {
      "cell_type": "code",
      "source": [
        "dummy_model = DummyNetwork(D_in, H_student, D_out, params[\"w_in\"], params[\"w_out\"])\n",
        "print('loss after optimization: ', nn.MSELoss()(dummy_model(dataset), y_labels))\n",
        "loss_grad = torch.autograd.grad(nn.MSELoss()(dummy_model(dataset), y_labels), dummy_model.parameters(), create_graph=True)\n",
        "grad_norm, hessian = eval_hessian(loss_grad, dummy_model)\n",
        "smallest_eigenvalue = np.min(np.linalg.eigvals(hessian))\n",
        "print('new smallest eigenvelue:', smallest_eigenvalue)"
      ],
      "metadata": {
        "colab": {
          "base_uri": "https://localhost:8080/"
        },
        "id": "FthBKCaFdVEW",
        "outputId": "a96c5d64-197f-43b3-891f-13ff8f8ed191"
      },
      "execution_count": 747,
      "outputs": [
        {
          "output_type": "stream",
          "name": "stdout",
          "text": [
            "loss after optimization:  tensor(0.0001, grad_fn=<MseLossBackward0>)\n",
            "new smallest eigenvelue: -1.1005273e-10\n"
          ]
        }
      ]
    },
    {
      "cell_type": "markdown",
      "source": [
        "# How many are global minima?"
      ],
      "metadata": {
        "id": "I3FA0ScpWg3W"
      }
    },
    {
      "cell_type": "code",
      "source": [
        "len(data[data['loss'] <= 1e-8])"
      ],
      "metadata": {
        "colab": {
          "base_uri": "https://localhost:8080/"
        },
        "id": "cvrO1jioWjea",
        "outputId": "4a3a568a-8d00-4d43-ae4d-b6eed32fa409"
      },
      "execution_count": 748,
      "outputs": [
        {
          "output_type": "execute_result",
          "data": {
            "text/plain": [
              "44"
            ]
          },
          "metadata": {},
          "execution_count": 748
        }
      ]
    }
  ]
}