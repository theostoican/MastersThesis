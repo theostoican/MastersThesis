{
  "nbformat": 4,
  "nbformat_minor": 0,
  "metadata": {
    "colab": {
      "name": "experiments_analysis.ipynb",
      "provenance": [],
      "collapsed_sections": [],
      "toc_visible": true,
      "authorship_tag": "ABX9TyPXUMZ7KmSMLesXCHG/dbxx",
      "include_colab_link": true
    },
    "kernelspec": {
      "name": "python3",
      "display_name": "Python 3"
    },
    "language_info": {
      "name": "python"
    }
  },
  "cells": [
    {
      "cell_type": "markdown",
      "metadata": {
        "id": "view-in-github",
        "colab_type": "text"
      },
      "source": [
        "<a href=\"https://colab.research.google.com/github/theostoican/MastersThesis/blob/main/experiments_analysis.ipynb\" target=\"_parent\"><img src=\"https://colab.research.google.com/assets/colab-badge.svg\" alt=\"Open In Colab\"/></a>"
      ]
    },
    {
      "cell_type": "code",
      "execution_count": 281,
      "metadata": {
        "id": "HR-JuDus4Dgg",
        "colab": {
          "base_uri": "https://localhost:8080/"
        },
        "outputId": "c69233a0-b813-4b3f-a35a-1c495ccc7097"
      },
      "outputs": [
        {
          "output_type": "stream",
          "name": "stdout",
          "text": [
            "Requirement already satisfied: dict_minimize in /usr/local/lib/python3.7/dist-packages (0.0.4)\n",
            "Requirement already satisfied: numpy>=1.18.5 in /usr/local/lib/python3.7/dist-packages (from dict_minimize) (1.19.5)\n",
            "Requirement already satisfied: scipy>=1.4.1 in /usr/local/lib/python3.7/dist-packages (from dict_minimize) (1.4.1)\n"
          ]
        }
      ],
      "source": [
        "import matplotlib.pyplot as plt\n",
        "import matplotlib\n",
        "import pandas as pd\n",
        "import numpy as np\n",
        "\n",
        "import torch\n",
        "import torch.nn as nn\n",
        "from torch.autograd import Variable\n",
        "\n",
        "!pip install dict_minimize\n",
        "from dict_minimize.torch_api import minimize\n",
        "from collections import OrderedDict"
      ]
    },
    {
      "cell_type": "markdown",
      "source": [
        "# Helpers for plotting the trajectories of the weights of the neurons"
      ],
      "metadata": {
        "id": "MKMT2fhjFIW6"
      }
    },
    {
      "cell_type": "code",
      "source": [
        "def plot_trajectories(data_row):\n",
        "  convergence_neurons_incoming_x = []\n",
        "  convergence_neurons_incoming_y = []\n",
        "  convergence_neurons_outgoing = []\n",
        "\n",
        "  for i in range(0, int(data_row['student size'])):\n",
        "    neuron_traj_x = np.fromstring(data_row['neuron_' + str(i) + '_traj_x'].values[0][1:-1], dtype=float, sep=',')\n",
        "    neuron_traj_y = np.fromstring(data_row['neuron_' + str(i) + '_traj_y'].values[0][1:-1], dtype=float, sep=',')\n",
        "    plt.plot(neuron_traj_x, neuron_traj_y)\n",
        "  \n",
        "    convergence_neurons_incoming_x.append(neuron_traj_x[-1])\n",
        "    convergence_neurons_incoming_y.append(neuron_traj_y[-1])\n",
        "\n",
        "    neuron_a = float(data_row['neuron_' + str(i) + '_a'].values[0])\n",
        "    convergence_neurons_outgoing.append(neuron_a)\n",
        "\n",
        "  teacher_neurons_x = np.fromstring(data_row['teacher_neurons_x'].values[0][1 : -1], dtype=float, sep=',')\n",
        "  teacher_neurons_y = np.fromstring(data_row['teacher_neurons_y'].values[0][1 : -1], dtype=float, sep=',')\n",
        "  plt.scatter(teacher_neurons_x, teacher_neurons_y, marker=\"*\")\n",
        "\n",
        "  plt.scatter(convergence_neurons_incoming_x,\n",
        "            convergence_neurons_incoming_y,\n",
        "            c = convergence_neurons_outgoing,\n",
        "            cmap=matplotlib.cm.jet)\n",
        "  plt.colorbar()"
      ],
      "metadata": {
        "id": "cyh_igQ37r0u"
      },
      "execution_count": 282,
      "outputs": []
    },
    {
      "cell_type": "markdown",
      "source": [
        "# Read the data from the .csv file"
      ],
      "metadata": {
        "id": "_xd7SAYBFB-c"
      }
    },
    {
      "cell_type": "code",
      "source": [
        "data = pd.read_csv('experiments_data_student_5_outgoing_1_-1.csv')\n",
        "\n",
        "# TODO: remove these check and make sure the Hessian is not complex/\n",
        "data['smallest eigenvalue'] = pd.to_numeric(data['smallest eigenvalue'], 'coerce')\n",
        "print(\"Number of complex eigenvalues:\", len(data[data['smallest eigenvalue'].isna()]))\n",
        "data = data[data['smallest eigenvalue'].notna()]\n",
        "data['loss'] = pd.to_numeric(data['loss'], 'coerce')\n",
        "data = data[data['loss'].notna()]\n",
        "data['gradient norm'] = pd.to_numeric(data['gradient norm'], 'coerce')\n",
        "data = data[data['gradient norm'].notna()]\n",
        "\n",
        "len(data)"
      ],
      "metadata": {
        "colab": {
          "base_uri": "https://localhost:8080/"
        },
        "id": "QiMGa1Ib64YR",
        "outputId": "a663eed3-2fbb-4110-aea0-3f45522b3b4e"
      },
      "execution_count": 283,
      "outputs": [
        {
          "output_type": "stream",
          "name": "stdout",
          "text": [
            "Number of complex eigenvalues: 0\n"
          ]
        },
        {
          "output_type": "execute_result",
          "data": {
            "text/plain": [
              "1000"
            ]
          },
          "metadata": {},
          "execution_count": 283
        }
      ]
    },
    {
      "cell_type": "code",
      "source": [
        "data.head()"
      ],
      "metadata": {
        "colab": {
          "base_uri": "https://localhost:8080/",
          "height": 548
        },
        "id": "Lz-VFq2mPBIw",
        "outputId": "33f89046-5057-4fd9-cefe-ff7c9684255e"
      },
      "execution_count": 284,
      "outputs": [
        {
          "output_type": "execute_result",
          "data": {
            "text/html": [
              "\n",
              "  <div id=\"df-9bde9091-3097-4a6f-a5b4-9d891cb31ab1\">\n",
              "    <div class=\"colab-df-container\">\n",
              "      <div>\n",
              "<style scoped>\n",
              "    .dataframe tbody tr th:only-of-type {\n",
              "        vertical-align: middle;\n",
              "    }\n",
              "\n",
              "    .dataframe tbody tr th {\n",
              "        vertical-align: top;\n",
              "    }\n",
              "\n",
              "    .dataframe thead th {\n",
              "        text-align: right;\n",
              "    }\n",
              "</style>\n",
              "<table border=\"1\" class=\"dataframe\">\n",
              "  <thead>\n",
              "    <tr style=\"text-align: right;\">\n",
              "      <th></th>\n",
              "      <th>loss</th>\n",
              "      <th>gradient norm</th>\n",
              "      <th>smallest eigenvalue</th>\n",
              "      <th>student size</th>\n",
              "      <th>neuron_0_traj_x</th>\n",
              "      <th>neuron_0_traj_y</th>\n",
              "      <th>neuron_0_a</th>\n",
              "      <th>neuron_1_traj_x</th>\n",
              "      <th>neuron_1_traj_y</th>\n",
              "      <th>neuron_1_a</th>\n",
              "      <th>neuron_2_traj_x</th>\n",
              "      <th>neuron_2_traj_y</th>\n",
              "      <th>neuron_2_a</th>\n",
              "      <th>neuron_3_traj_x</th>\n",
              "      <th>neuron_3_traj_y</th>\n",
              "      <th>neuron_3_a</th>\n",
              "      <th>neuron_4_traj_x</th>\n",
              "      <th>neuron_4_traj_y</th>\n",
              "      <th>neuron_4_a</th>\n",
              "      <th>teacher_neurons_x</th>\n",
              "      <th>teacher_neurons_y</th>\n",
              "    </tr>\n",
              "  </thead>\n",
              "  <tbody>\n",
              "    <tr>\n",
              "      <th>0</th>\n",
              "      <td>1.006376e-04</td>\n",
              "      <td>0.000002</td>\n",
              "      <td>1.765515e-06</td>\n",
              "      <td>5</td>\n",
              "      <td>[0.28767657, 0.28877622, 0.28977433, 0.2907698...</td>\n",
              "      <td>[-0.18215978, -0.18106024, -0.1800628, -0.1790...</td>\n",
              "      <td>0.957795</td>\n",
              "      <td>[-0.09641838, -0.09751794, -0.09851552, -0.099...</td>\n",
              "      <td>[0.028319359, 0.027219947, 0.02622314, 0.02523...</td>\n",
              "      <td>-0.703778</td>\n",
              "      <td>[0.7649002, 0.76380044, 0.762802, 0.76180565, ...</td>\n",
              "      <td>[-0.21563697, -0.21673651, -0.21773396, -0.218...</td>\n",
              "      <td>-0.613305</td>\n",
              "      <td>[-0.55468154, -0.55578107, -0.55677843, -0.557...</td>\n",
              "      <td>[-0.35145217, -0.35035077, -0.3493434, -0.3483...</td>\n",
              "      <td>-0.378024</td>\n",
              "      <td>[0.039734304, 0.038634636, 0.037636437, 0.0366...</td>\n",
              "      <td>[0.6528094, 0.65170956, 0.6507107, 0.64971346,...</td>\n",
              "      <td>0.737312</td>\n",
              "      <td>[0.6, -0.5, -0.2, 0.1]</td>\n",
              "      <td>[0.5, 0.5, -0.6, -0.6]</td>\n",
              "    </tr>\n",
              "    <tr>\n",
              "      <th>1</th>\n",
              "      <td>1.126247e-04</td>\n",
              "      <td>0.000001</td>\n",
              "      <td>9.960524e-07</td>\n",
              "      <td>5</td>\n",
              "      <td>[0.6270397, 0.6281397, 0.6291391, 0.6301378, 0...</td>\n",
              "      <td>[0.3499837, 0.3488839, 0.34788468, 0.34688655,...</td>\n",
              "      <td>0.789879</td>\n",
              "      <td>[0.7292756, 0.73037523, 0.73137325, 0.7323685,...</td>\n",
              "      <td>[-0.4977684, -0.49666855, -0.49566886, -0.4946...</td>\n",
              "      <td>-0.538845</td>\n",
              "      <td>[0.054563224, 0.055660132, 0.056642722, 0.0575...</td>\n",
              "      <td>[-0.18021291, -0.17911296, -0.17811319, -0.177...</td>\n",
              "      <td>-0.736179</td>\n",
              "      <td>[0.8172325, 0.8183327, 0.8193324, 0.820332, 0....</td>\n",
              "      <td>[0.85530114, 0.854201, 0.85320145, 0.8522023, ...</td>\n",
              "      <td>0.095402</td>\n",
              "      <td>[0.46468723, 0.46358803, 0.46259242, 0.4616029...</td>\n",
              "      <td>[-0.82113993, -0.82223946, -0.8232366, -0.8242...</td>\n",
              "      <td>0.389741</td>\n",
              "      <td>[0.6, -0.5, -0.2, 0.1]</td>\n",
              "      <td>[0.5, 0.5, -0.6, -0.6]</td>\n",
              "    </tr>\n",
              "    <tr>\n",
              "      <th>2</th>\n",
              "      <td>1.806034e-07</td>\n",
              "      <td>0.000002</td>\n",
              "      <td>3.960682e-06</td>\n",
              "      <td>5</td>\n",
              "      <td>[-0.51757467, -0.5164745, -0.5154743, -0.51447...</td>\n",
              "      <td>[-0.35152346, -0.3504236, -0.34942412, -0.3484...</td>\n",
              "      <td>-0.772029</td>\n",
              "      <td>[-0.6766824, -0.67558223, -0.674582, -0.673581...</td>\n",
              "      <td>[-0.063059926, -0.061960008, -0.06096048, -0.0...</td>\n",
              "      <td>0.755787</td>\n",
              "      <td>[0.23974037, 0.2386402, 0.23763928, 0.2366371,...</td>\n",
              "      <td>[0.63002634, 0.628926, 0.6279242, 0.62691987, ...</td>\n",
              "      <td>-1.871027</td>\n",
              "      <td>[0.7474017, 0.74850154, 0.7495002, 0.75049704,...</td>\n",
              "      <td>[-0.58115554, -0.5800557, -0.5790568, -0.57805...</td>\n",
              "      <td>0.937195</td>\n",
              "      <td>[0.8465413, 0.847641, 0.84863925, 0.8496352, 0...</td>\n",
              "      <td>[-0.36297798, -0.3618783, -0.36087987, -0.3598...</td>\n",
              "      <td>0.950076</td>\n",
              "      <td>[0.6, -0.5, -0.2, 0.1]</td>\n",
              "      <td>[0.5, 0.5, -0.6, -0.6]</td>\n",
              "    </tr>\n",
              "    <tr>\n",
              "      <th>3</th>\n",
              "      <td>7.373002e-05</td>\n",
              "      <td>0.000001</td>\n",
              "      <td>-3.081212e-06</td>\n",
              "      <td>5</td>\n",
              "      <td>[-0.6786128, -0.6797141, -0.68072075, -0.68173...</td>\n",
              "      <td>[0.43527937, 0.43417957, 0.43318036, 0.4321822...</td>\n",
              "      <td>0.637927</td>\n",
              "      <td>[0.017915964, 0.01901525, 0.020011375, 0.02100...</td>\n",
              "      <td>[-0.6100751, -0.61117464, -0.6121718, -0.61316...</td>\n",
              "      <td>-0.199785</td>\n",
              "      <td>[0.25231147, 0.2534108, 0.25440735, 0.2553993,...</td>\n",
              "      <td>[0.21730137, 0.21620166, 0.21520329, 0.2142071...</td>\n",
              "      <td>1.209803</td>\n",
              "      <td>[-0.8822162, -0.88331527, -0.88430977, -0.8852...</td>\n",
              "      <td>[-0.053145587, -0.0520458, -0.05104695, -0.050...</td>\n",
              "      <td>-1.166978</td>\n",
              "      <td>[-0.22924155, -0.23034127, -0.23133972, -0.232...</td>\n",
              "      <td>[-0.5169028, -0.5158026, -0.514803, -0.5138035...</td>\n",
              "      <td>-0.480965</td>\n",
              "      <td>[0.6, -0.5, -0.2, 0.1]</td>\n",
              "      <td>[0.5, 0.5, -0.6, -0.6]</td>\n",
              "    </tr>\n",
              "    <tr>\n",
              "      <th>4</th>\n",
              "      <td>1.449932e-07</td>\n",
              "      <td>0.000002</td>\n",
              "      <td>4.746581e-06</td>\n",
              "      <td>5</td>\n",
              "      <td>[-0.44546103, -0.44656086, -0.44756013, -0.448...</td>\n",
              "      <td>[-0.13755757, -0.13645796, -0.13546014, -0.134...</td>\n",
              "      <td>-0.955887</td>\n",
              "      <td>[-0.80359375, -0.8024913, -0.80147845, -0.8004...</td>\n",
              "      <td>[-0.41036063, -0.41146284, -0.41247454, -0.413...</td>\n",
              "      <td>0.791203</td>\n",
              "      <td>[-0.9198052, -0.91870445, -0.9177007, -0.91669...</td>\n",
              "      <td>[0.18736243, 0.18626273, 0.18526436, 0.1842682...</td>\n",
              "      <td>1.883984</td>\n",
              "      <td>[-0.90803325, -0.9091343, -0.9101399, -0.91115...</td>\n",
              "      <td>[0.46909237, 0.47019148, 0.4711866, 0.47217497...</td>\n",
              "      <td>-0.943731</td>\n",
              "      <td>[-0.11110473, -0.11220479, -0.113205105, -0.11...</td>\n",
              "      <td>[-0.3013839, -0.3002842, -0.29928556, -0.29828...</td>\n",
              "      <td>-0.775570</td>\n",
              "      <td>[0.6, -0.5, -0.2, 0.1]</td>\n",
              "      <td>[0.5, 0.5, -0.6, -0.6]</td>\n",
              "    </tr>\n",
              "  </tbody>\n",
              "</table>\n",
              "</div>\n",
              "      <button class=\"colab-df-convert\" onclick=\"convertToInteractive('df-9bde9091-3097-4a6f-a5b4-9d891cb31ab1')\"\n",
              "              title=\"Convert this dataframe to an interactive table.\"\n",
              "              style=\"display:none;\">\n",
              "        \n",
              "  <svg xmlns=\"http://www.w3.org/2000/svg\" height=\"24px\"viewBox=\"0 0 24 24\"\n",
              "       width=\"24px\">\n",
              "    <path d=\"M0 0h24v24H0V0z\" fill=\"none\"/>\n",
              "    <path d=\"M18.56 5.44l.94 2.06.94-2.06 2.06-.94-2.06-.94-.94-2.06-.94 2.06-2.06.94zm-11 1L8.5 8.5l.94-2.06 2.06-.94-2.06-.94L8.5 2.5l-.94 2.06-2.06.94zm10 10l.94 2.06.94-2.06 2.06-.94-2.06-.94-.94-2.06-.94 2.06-2.06.94z\"/><path d=\"M17.41 7.96l-1.37-1.37c-.4-.4-.92-.59-1.43-.59-.52 0-1.04.2-1.43.59L10.3 9.45l-7.72 7.72c-.78.78-.78 2.05 0 2.83L4 21.41c.39.39.9.59 1.41.59.51 0 1.02-.2 1.41-.59l7.78-7.78 2.81-2.81c.8-.78.8-2.07 0-2.86zM5.41 20L4 18.59l7.72-7.72 1.47 1.35L5.41 20z\"/>\n",
              "  </svg>\n",
              "      </button>\n",
              "      \n",
              "  <style>\n",
              "    .colab-df-container {\n",
              "      display:flex;\n",
              "      flex-wrap:wrap;\n",
              "      gap: 12px;\n",
              "    }\n",
              "\n",
              "    .colab-df-convert {\n",
              "      background-color: #E8F0FE;\n",
              "      border: none;\n",
              "      border-radius: 50%;\n",
              "      cursor: pointer;\n",
              "      display: none;\n",
              "      fill: #1967D2;\n",
              "      height: 32px;\n",
              "      padding: 0 0 0 0;\n",
              "      width: 32px;\n",
              "    }\n",
              "\n",
              "    .colab-df-convert:hover {\n",
              "      background-color: #E2EBFA;\n",
              "      box-shadow: 0px 1px 2px rgba(60, 64, 67, 0.3), 0px 1px 3px 1px rgba(60, 64, 67, 0.15);\n",
              "      fill: #174EA6;\n",
              "    }\n",
              "\n",
              "    [theme=dark] .colab-df-convert {\n",
              "      background-color: #3B4455;\n",
              "      fill: #D2E3FC;\n",
              "    }\n",
              "\n",
              "    [theme=dark] .colab-df-convert:hover {\n",
              "      background-color: #434B5C;\n",
              "      box-shadow: 0px 1px 3px 1px rgba(0, 0, 0, 0.15);\n",
              "      filter: drop-shadow(0px 1px 2px rgba(0, 0, 0, 0.3));\n",
              "      fill: #FFFFFF;\n",
              "    }\n",
              "  </style>\n",
              "\n",
              "      <script>\n",
              "        const buttonEl =\n",
              "          document.querySelector('#df-9bde9091-3097-4a6f-a5b4-9d891cb31ab1 button.colab-df-convert');\n",
              "        buttonEl.style.display =\n",
              "          google.colab.kernel.accessAllowed ? 'block' : 'none';\n",
              "\n",
              "        async function convertToInteractive(key) {\n",
              "          const element = document.querySelector('#df-9bde9091-3097-4a6f-a5b4-9d891cb31ab1');\n",
              "          const dataTable =\n",
              "            await google.colab.kernel.invokeFunction('convertToInteractive',\n",
              "                                                     [key], {});\n",
              "          if (!dataTable) return;\n",
              "\n",
              "          const docLinkHtml = 'Like what you see? Visit the ' +\n",
              "            '<a target=\"_blank\" href=https://colab.research.google.com/notebooks/data_table.ipynb>data table notebook</a>'\n",
              "            + ' to learn more about interactive tables.';\n",
              "          element.innerHTML = '';\n",
              "          dataTable['output_type'] = 'display_data';\n",
              "          await google.colab.output.renderOutput(dataTable, element);\n",
              "          const docLink = document.createElement('div');\n",
              "          docLink.innerHTML = docLinkHtml;\n",
              "          element.appendChild(docLink);\n",
              "        }\n",
              "      </script>\n",
              "    </div>\n",
              "  </div>\n",
              "  "
            ],
            "text/plain": [
              "           loss  gradient norm  ...       teacher_neurons_x       teacher_neurons_y\n",
              "0  1.006376e-04       0.000002  ...  [0.6, -0.5, -0.2, 0.1]  [0.5, 0.5, -0.6, -0.6]\n",
              "1  1.126247e-04       0.000001  ...  [0.6, -0.5, -0.2, 0.1]  [0.5, 0.5, -0.6, -0.6]\n",
              "2  1.806034e-07       0.000002  ...  [0.6, -0.5, -0.2, 0.1]  [0.5, 0.5, -0.6, -0.6]\n",
              "3  7.373002e-05       0.000001  ...  [0.6, -0.5, -0.2, 0.1]  [0.5, 0.5, -0.6, -0.6]\n",
              "4  1.449932e-07       0.000002  ...  [0.6, -0.5, -0.2, 0.1]  [0.5, 0.5, -0.6, -0.6]\n",
              "\n",
              "[5 rows x 21 columns]"
            ]
          },
          "metadata": {},
          "execution_count": 284
        }
      ]
    },
    {
      "cell_type": "markdown",
      "source": [
        "# Second order optimization helpers"
      ],
      "metadata": {
        "id": "Wq0_8ViolcNx"
      }
    },
    {
      "cell_type": "markdown",
      "source": [
        "A dummy network that receives as input the precomputed incoming and outgoing weights and sets them directly."
      ],
      "metadata": {
        "id": "-nq_zF38llaS"
      }
    },
    {
      "cell_type": "code",
      "source": [
        "class DummyNetwork(nn.Module):\n",
        "  def __init__(self, D_in, H, D_out, w_in, w_out):\n",
        "    \"\"\"\n",
        "    In the constructor we instantiate two nn.Linear modules and assign them as\n",
        "    member variables.\n",
        "\n",
        "    D_in: input dimension\n",
        "    H: dimension of hidden layer\n",
        "    D_out: output dimension of the first layer\n",
        "    \"\"\"\n",
        "    super(DummyNetwork, self).__init__()\n",
        "    self.linear1 = nn.Linear(D_in, H, bias=False) \n",
        "    self.linear2 = nn.Linear(H, D_out, bias=False)\n",
        "    self.linear1.weight = torch.nn.Parameter(w_in)\n",
        "    self.linear2.weight = torch.nn.Parameter(w_out)\n",
        "  def forward(self, x):\n",
        "    \"\"\"\n",
        "    In the forward function we accept a Variable of input data and we must\n",
        "    return a Variable of output data. We can use Modules defined in the\n",
        "    constructor as well as arbitrary operators on Variables.\n",
        "    \"\"\"\n",
        "    h_sigmoid = torch.sigmoid(self.linear1(x))\n",
        "    y_pred = self.linear2(h_sigmoid)\n",
        "    return y_pred"
      ],
      "metadata": {
        "id": "9mR9ZDc-li1t"
      },
      "execution_count": 285,
      "outputs": []
    },
    {
      "cell_type": "markdown",
      "source": [
        "Some configuration for the model, the dataset and the corresponding labels."
      ],
      "metadata": {
        "id": "efinskp8bpTr"
      }
    },
    {
      "cell_type": "code",
      "source": [
        "class TeacherNetwork(nn.Module):\n",
        "  def __init__(self, D_in, H, D_out):\n",
        "    \"\"\"\n",
        "    In the constructor we instantiate two nn.Linear modules and assign them as\n",
        "    member variables.\n",
        "\n",
        "    D_in: input dimension\n",
        "    H: dimension of hidden layer\n",
        "    D_out: output dimension of the first layer\n",
        "    \"\"\"\n",
        "    super(TeacherNetwork, self).__init__()\n",
        "    self.linear1 = nn.Linear(D_in, H, bias=False) \n",
        "    self.linear2 = nn.Linear(H, D_out, bias=False)\n",
        "    self.linear1.weight = torch.nn.Parameter(torch.transpose(torch.Tensor([[0.6, -0.5, -0.2, 0.1], [0.5, 0.5, -0.6, -0.6]]), 0, 1))\n",
        "    self.linear2.weight = torch.nn.Parameter(torch.transpose(torch.Tensor([[1], [-1], [1], [-1]]), 0, 1))\n",
        "  def forward(self, x):\n",
        "    \"\"\"\n",
        "    In the forward function we accept a Variable of input data and we must\n",
        "    return a Variable of output data. We can use Modules defined in the\n",
        "    constructor as well as arbitrary operators on Variables.\n",
        "    \"\"\"\n",
        "    h_sigmoid = torch.sigmoid(self.linear1(x))\n",
        "    y_pred = self.linear2(h_sigmoid)\n",
        "    return y_pred"
      ],
      "metadata": {
        "id": "Hqwok2Kyc771"
      },
      "execution_count": 286,
      "outputs": []
    },
    {
      "cell_type": "code",
      "source": [
        "D_in, H_teacher, H_student, D_out = 2, 4, data['student size'].values[0], 1\n",
        "\n",
        "def construct_dataset():\n",
        "  data = []\n",
        "  for y in np.arange(-5, 5.1, .25):\n",
        "    for x in np.arange(-5, 5.1, .25):\n",
        "      data.append([x, y])\n",
        "  return data\n",
        "\n",
        "dataset = torch.Tensor(construct_dataset()) \n",
        "print(len(construct_dataset()))"
      ],
      "metadata": {
        "colab": {
          "base_uri": "https://localhost:8080/"
        },
        "id": "B_ahyjA-bu_O",
        "outputId": "b7156e25-7110-41c7-942b-a88b4c1f4383"
      },
      "execution_count": 287,
      "outputs": [
        {
          "output_type": "stream",
          "name": "stdout",
          "text": [
            "1681\n"
          ]
        }
      ]
    },
    {
      "cell_type": "code",
      "source": [
        "teacher_model = TeacherNetwork(D_in, H_teacher, D_out)\n",
        "y_labels = teacher_model(dataset).detach()"
      ],
      "metadata": {
        "id": "vQjZ7UIfdBbT"
      },
      "execution_count": 288,
      "outputs": []
    },
    {
      "cell_type": "markdown",
      "source": [
        "Function useful for computing the Hessian."
      ],
      "metadata": {
        "id": "Xw4duwCNddQb"
      }
    },
    {
      "cell_type": "code",
      "source": [
        "def eval_hessian(loss_grad, model):\n",
        "    cnt = 0\n",
        "    for g in loss_grad:\n",
        "        g_vector = g.contiguous().view(-1) if cnt == 0 else torch.cat([g_vector, g.contiguous().view(-1)])\n",
        "        cnt = 1\n",
        "    grad_norm = torch.norm(g_vector)\n",
        "    l = g_vector.size(0)\n",
        "    hessian = torch.zeros(l, l)\n",
        "    for idx in range(l):\n",
        "        grad2rd = torch.autograd.grad(g_vector[idx], model.parameters(), create_graph=True)\n",
        "        cnt = 0\n",
        "        for g in grad2rd: \n",
        "            g2 = g.contiguous().view(-1) if cnt == 0 else torch.cat([g2, g.contiguous().view(-1)])\n",
        "            cnt = 1\n",
        "        hessian[idx] = g2\n",
        "    hessian = (hessian + hessian.T) / 2\n",
        "    return grad_norm.cpu().data.numpy(), hessian.cpu().data.numpy()"
      ],
      "metadata": {
        "id": "kr6e_Wpbdctf"
      },
      "execution_count": 289,
      "outputs": []
    },
    {
      "cell_type": "markdown",
      "source": [
        "A method which computes the derivatives of the objective loss with respect to the incoming and outgoing weights."
      ],
      "metadata": {
        "id": "YV3CmyYUlyEs"
      }
    },
    {
      "cell_type": "code",
      "source": [
        "def d_loss(params):\n",
        "  w_in, w_out = params[\"w_in\"], params[\"w_out\"]\n",
        "  dummy_model = DummyNetwork(D_in, H_student, D_out, w_in, w_out)\n",
        "  obj = nn.MSELoss()(dummy_model(dataset), y_labels)\n",
        "  dw_in, dw_out = torch.autograd.grad(obj, dummy_model.parameters())\n",
        "  d_obj = OrderedDict([(\"w_in\", dw_in), (\"w_out\", dw_out)])\n",
        "  return obj, d_obj"
      ],
      "metadata": {
        "id": "S8x1IHzSlff7"
      },
      "execution_count": 290,
      "outputs": []
    },
    {
      "cell_type": "markdown",
      "source": [
        "# Case 1: positive eigenvalues"
      ],
      "metadata": {
        "id": "9DXAMxdvOmw0"
      }
    },
    {
      "cell_type": "markdown",
      "source": [
        "This is certainly:\n",
        "- either a local minimum\n",
        "- or a global minimum"
      ],
      "metadata": {
        "id": "FhESi2fzO7EY"
      }
    },
    {
      "cell_type": "code",
      "source": [
        "positive_eigenvalues_data = data[data['smallest eigenvalue'] >= 0]\n",
        "positive_eigenvalues_data.head()"
      ],
      "metadata": {
        "colab": {
          "base_uri": "https://localhost:8080/",
          "height": 548
        },
        "id": "40xpckG0OmLG",
        "outputId": "72f75501-b3b4-4629-a3b9-f1d54e54e220"
      },
      "execution_count": 291,
      "outputs": [
        {
          "output_type": "execute_result",
          "data": {
            "text/html": [
              "\n",
              "  <div id=\"df-83d6a63c-3566-44f2-9201-bd392c1c1f4a\">\n",
              "    <div class=\"colab-df-container\">\n",
              "      <div>\n",
              "<style scoped>\n",
              "    .dataframe tbody tr th:only-of-type {\n",
              "        vertical-align: middle;\n",
              "    }\n",
              "\n",
              "    .dataframe tbody tr th {\n",
              "        vertical-align: top;\n",
              "    }\n",
              "\n",
              "    .dataframe thead th {\n",
              "        text-align: right;\n",
              "    }\n",
              "</style>\n",
              "<table border=\"1\" class=\"dataframe\">\n",
              "  <thead>\n",
              "    <tr style=\"text-align: right;\">\n",
              "      <th></th>\n",
              "      <th>loss</th>\n",
              "      <th>gradient norm</th>\n",
              "      <th>smallest eigenvalue</th>\n",
              "      <th>student size</th>\n",
              "      <th>neuron_0_traj_x</th>\n",
              "      <th>neuron_0_traj_y</th>\n",
              "      <th>neuron_0_a</th>\n",
              "      <th>neuron_1_traj_x</th>\n",
              "      <th>neuron_1_traj_y</th>\n",
              "      <th>neuron_1_a</th>\n",
              "      <th>neuron_2_traj_x</th>\n",
              "      <th>neuron_2_traj_y</th>\n",
              "      <th>neuron_2_a</th>\n",
              "      <th>neuron_3_traj_x</th>\n",
              "      <th>neuron_3_traj_y</th>\n",
              "      <th>neuron_3_a</th>\n",
              "      <th>neuron_4_traj_x</th>\n",
              "      <th>neuron_4_traj_y</th>\n",
              "      <th>neuron_4_a</th>\n",
              "      <th>teacher_neurons_x</th>\n",
              "      <th>teacher_neurons_y</th>\n",
              "    </tr>\n",
              "  </thead>\n",
              "  <tbody>\n",
              "    <tr>\n",
              "      <th>0</th>\n",
              "      <td>1.006376e-04</td>\n",
              "      <td>1.688412e-06</td>\n",
              "      <td>1.765515e-06</td>\n",
              "      <td>5</td>\n",
              "      <td>[0.28767657, 0.28877622, 0.28977433, 0.2907698...</td>\n",
              "      <td>[-0.18215978, -0.18106024, -0.1800628, -0.1790...</td>\n",
              "      <td>0.957795</td>\n",
              "      <td>[-0.09641838, -0.09751794, -0.09851552, -0.099...</td>\n",
              "      <td>[0.028319359, 0.027219947, 0.02622314, 0.02523...</td>\n",
              "      <td>-0.703778</td>\n",
              "      <td>[0.7649002, 0.76380044, 0.762802, 0.76180565, ...</td>\n",
              "      <td>[-0.21563697, -0.21673651, -0.21773396, -0.218...</td>\n",
              "      <td>-0.613305</td>\n",
              "      <td>[-0.55468154, -0.55578107, -0.55677843, -0.557...</td>\n",
              "      <td>[-0.35145217, -0.35035077, -0.3493434, -0.3483...</td>\n",
              "      <td>-0.378024</td>\n",
              "      <td>[0.039734304, 0.038634636, 0.037636437, 0.0366...</td>\n",
              "      <td>[0.6528094, 0.65170956, 0.6507107, 0.64971346,...</td>\n",
              "      <td>0.737312</td>\n",
              "      <td>[0.6, -0.5, -0.2, 0.1]</td>\n",
              "      <td>[0.5, 0.5, -0.6, -0.6]</td>\n",
              "    </tr>\n",
              "    <tr>\n",
              "      <th>1</th>\n",
              "      <td>1.126247e-04</td>\n",
              "      <td>1.109269e-06</td>\n",
              "      <td>9.960524e-07</td>\n",
              "      <td>5</td>\n",
              "      <td>[0.6270397, 0.6281397, 0.6291391, 0.6301378, 0...</td>\n",
              "      <td>[0.3499837, 0.3488839, 0.34788468, 0.34688655,...</td>\n",
              "      <td>0.789879</td>\n",
              "      <td>[0.7292756, 0.73037523, 0.73137325, 0.7323685,...</td>\n",
              "      <td>[-0.4977684, -0.49666855, -0.49566886, -0.4946...</td>\n",
              "      <td>-0.538845</td>\n",
              "      <td>[0.054563224, 0.055660132, 0.056642722, 0.0575...</td>\n",
              "      <td>[-0.18021291, -0.17911296, -0.17811319, -0.177...</td>\n",
              "      <td>-0.736179</td>\n",
              "      <td>[0.8172325, 0.8183327, 0.8193324, 0.820332, 0....</td>\n",
              "      <td>[0.85530114, 0.854201, 0.85320145, 0.8522023, ...</td>\n",
              "      <td>0.095402</td>\n",
              "      <td>[0.46468723, 0.46358803, 0.46259242, 0.4616029...</td>\n",
              "      <td>[-0.82113993, -0.82223946, -0.8232366, -0.8242...</td>\n",
              "      <td>0.389741</td>\n",
              "      <td>[0.6, -0.5, -0.2, 0.1]</td>\n",
              "      <td>[0.5, 0.5, -0.6, -0.6]</td>\n",
              "    </tr>\n",
              "    <tr>\n",
              "      <th>2</th>\n",
              "      <td>1.806034e-07</td>\n",
              "      <td>1.901193e-06</td>\n",
              "      <td>3.960682e-06</td>\n",
              "      <td>5</td>\n",
              "      <td>[-0.51757467, -0.5164745, -0.5154743, -0.51447...</td>\n",
              "      <td>[-0.35152346, -0.3504236, -0.34942412, -0.3484...</td>\n",
              "      <td>-0.772029</td>\n",
              "      <td>[-0.6766824, -0.67558223, -0.674582, -0.673581...</td>\n",
              "      <td>[-0.063059926, -0.061960008, -0.06096048, -0.0...</td>\n",
              "      <td>0.755787</td>\n",
              "      <td>[0.23974037, 0.2386402, 0.23763928, 0.2366371,...</td>\n",
              "      <td>[0.63002634, 0.628926, 0.6279242, 0.62691987, ...</td>\n",
              "      <td>-1.871027</td>\n",
              "      <td>[0.7474017, 0.74850154, 0.7495002, 0.75049704,...</td>\n",
              "      <td>[-0.58115554, -0.5800557, -0.5790568, -0.57805...</td>\n",
              "      <td>0.937195</td>\n",
              "      <td>[0.8465413, 0.847641, 0.84863925, 0.8496352, 0...</td>\n",
              "      <td>[-0.36297798, -0.3618783, -0.36087987, -0.3598...</td>\n",
              "      <td>0.950076</td>\n",
              "      <td>[0.6, -0.5, -0.2, 0.1]</td>\n",
              "      <td>[0.5, 0.5, -0.6, -0.6]</td>\n",
              "    </tr>\n",
              "    <tr>\n",
              "      <th>4</th>\n",
              "      <td>1.449932e-07</td>\n",
              "      <td>2.046076e-06</td>\n",
              "      <td>4.746581e-06</td>\n",
              "      <td>5</td>\n",
              "      <td>[-0.44546103, -0.44656086, -0.44756013, -0.448...</td>\n",
              "      <td>[-0.13755757, -0.13645796, -0.13546014, -0.134...</td>\n",
              "      <td>-0.955887</td>\n",
              "      <td>[-0.80359375, -0.8024913, -0.80147845, -0.8004...</td>\n",
              "      <td>[-0.41036063, -0.41146284, -0.41247454, -0.413...</td>\n",
              "      <td>0.791203</td>\n",
              "      <td>[-0.9198052, -0.91870445, -0.9177007, -0.91669...</td>\n",
              "      <td>[0.18736243, 0.18626273, 0.18526436, 0.1842682...</td>\n",
              "      <td>1.883984</td>\n",
              "      <td>[-0.90803325, -0.9091343, -0.9101399, -0.91115...</td>\n",
              "      <td>[0.46909237, 0.47019148, 0.4711866, 0.47217497...</td>\n",
              "      <td>-0.943731</td>\n",
              "      <td>[-0.11110473, -0.11220479, -0.113205105, -0.11...</td>\n",
              "      <td>[-0.3013839, -0.3002842, -0.29928556, -0.29828...</td>\n",
              "      <td>-0.775570</td>\n",
              "      <td>[0.6, -0.5, -0.2, 0.1]</td>\n",
              "      <td>[0.5, 0.5, -0.6, -0.6]</td>\n",
              "    </tr>\n",
              "    <tr>\n",
              "      <th>5</th>\n",
              "      <td>9.475512e-08</td>\n",
              "      <td>9.220086e-07</td>\n",
              "      <td>5.865642e-08</td>\n",
              "      <td>5</td>\n",
              "      <td>[0.15436018, 0.15325813, 0.15224731, 0.1512222...</td>\n",
              "      <td>[-0.15222347, -0.1511215, -0.15011103, -0.1490...</td>\n",
              "      <td>-0.998668</td>\n",
              "      <td>[0.57760036, 0.5787001, 0.5796986, 0.5806951, ...</td>\n",
              "      <td>[0.7720529, 0.77095306, 0.7699542, 0.76895696,...</td>\n",
              "      <td>0.354275</td>\n",
              "      <td>[-0.06631923, -0.06521961, -0.06422168, -0.063...</td>\n",
              "      <td>[-0.43605936, -0.43715885, -0.4381562, -0.4391...</td>\n",
              "      <td>-0.772408</td>\n",
              "      <td>[0.20043874, 0.20153858, 0.20253764, 0.2035354...</td>\n",
              "      <td>[0.48196518, 0.48086536, 0.4798661, 0.47886783...</td>\n",
              "      <td>0.650585</td>\n",
              "      <td>[0.08144486, 0.08254448, 0.08354245, 0.0845376...</td>\n",
              "      <td>[-0.15963101, -0.16073057, -0.1617282, -0.1627...</td>\n",
              "      <td>0.766216</td>\n",
              "      <td>[0.6, -0.5, -0.2, 0.1]</td>\n",
              "      <td>[0.5, 0.5, -0.6, -0.6]</td>\n",
              "    </tr>\n",
              "  </tbody>\n",
              "</table>\n",
              "</div>\n",
              "      <button class=\"colab-df-convert\" onclick=\"convertToInteractive('df-83d6a63c-3566-44f2-9201-bd392c1c1f4a')\"\n",
              "              title=\"Convert this dataframe to an interactive table.\"\n",
              "              style=\"display:none;\">\n",
              "        \n",
              "  <svg xmlns=\"http://www.w3.org/2000/svg\" height=\"24px\"viewBox=\"0 0 24 24\"\n",
              "       width=\"24px\">\n",
              "    <path d=\"M0 0h24v24H0V0z\" fill=\"none\"/>\n",
              "    <path d=\"M18.56 5.44l.94 2.06.94-2.06 2.06-.94-2.06-.94-.94-2.06-.94 2.06-2.06.94zm-11 1L8.5 8.5l.94-2.06 2.06-.94-2.06-.94L8.5 2.5l-.94 2.06-2.06.94zm10 10l.94 2.06.94-2.06 2.06-.94-2.06-.94-.94-2.06-.94 2.06-2.06.94z\"/><path d=\"M17.41 7.96l-1.37-1.37c-.4-.4-.92-.59-1.43-.59-.52 0-1.04.2-1.43.59L10.3 9.45l-7.72 7.72c-.78.78-.78 2.05 0 2.83L4 21.41c.39.39.9.59 1.41.59.51 0 1.02-.2 1.41-.59l7.78-7.78 2.81-2.81c.8-.78.8-2.07 0-2.86zM5.41 20L4 18.59l7.72-7.72 1.47 1.35L5.41 20z\"/>\n",
              "  </svg>\n",
              "      </button>\n",
              "      \n",
              "  <style>\n",
              "    .colab-df-container {\n",
              "      display:flex;\n",
              "      flex-wrap:wrap;\n",
              "      gap: 12px;\n",
              "    }\n",
              "\n",
              "    .colab-df-convert {\n",
              "      background-color: #E8F0FE;\n",
              "      border: none;\n",
              "      border-radius: 50%;\n",
              "      cursor: pointer;\n",
              "      display: none;\n",
              "      fill: #1967D2;\n",
              "      height: 32px;\n",
              "      padding: 0 0 0 0;\n",
              "      width: 32px;\n",
              "    }\n",
              "\n",
              "    .colab-df-convert:hover {\n",
              "      background-color: #E2EBFA;\n",
              "      box-shadow: 0px 1px 2px rgba(60, 64, 67, 0.3), 0px 1px 3px 1px rgba(60, 64, 67, 0.15);\n",
              "      fill: #174EA6;\n",
              "    }\n",
              "\n",
              "    [theme=dark] .colab-df-convert {\n",
              "      background-color: #3B4455;\n",
              "      fill: #D2E3FC;\n",
              "    }\n",
              "\n",
              "    [theme=dark] .colab-df-convert:hover {\n",
              "      background-color: #434B5C;\n",
              "      box-shadow: 0px 1px 3px 1px rgba(0, 0, 0, 0.15);\n",
              "      filter: drop-shadow(0px 1px 2px rgba(0, 0, 0, 0.3));\n",
              "      fill: #FFFFFF;\n",
              "    }\n",
              "  </style>\n",
              "\n",
              "      <script>\n",
              "        const buttonEl =\n",
              "          document.querySelector('#df-83d6a63c-3566-44f2-9201-bd392c1c1f4a button.colab-df-convert');\n",
              "        buttonEl.style.display =\n",
              "          google.colab.kernel.accessAllowed ? 'block' : 'none';\n",
              "\n",
              "        async function convertToInteractive(key) {\n",
              "          const element = document.querySelector('#df-83d6a63c-3566-44f2-9201-bd392c1c1f4a');\n",
              "          const dataTable =\n",
              "            await google.colab.kernel.invokeFunction('convertToInteractive',\n",
              "                                                     [key], {});\n",
              "          if (!dataTable) return;\n",
              "\n",
              "          const docLinkHtml = 'Like what you see? Visit the ' +\n",
              "            '<a target=\"_blank\" href=https://colab.research.google.com/notebooks/data_table.ipynb>data table notebook</a>'\n",
              "            + ' to learn more about interactive tables.';\n",
              "          element.innerHTML = '';\n",
              "          dataTable['output_type'] = 'display_data';\n",
              "          await google.colab.output.renderOutput(dataTable, element);\n",
              "          const docLink = document.createElement('div');\n",
              "          docLink.innerHTML = docLinkHtml;\n",
              "          element.appendChild(docLink);\n",
              "        }\n",
              "      </script>\n",
              "    </div>\n",
              "  </div>\n",
              "  "
            ],
            "text/plain": [
              "           loss  gradient norm  ...       teacher_neurons_x       teacher_neurons_y\n",
              "0  1.006376e-04   1.688412e-06  ...  [0.6, -0.5, -0.2, 0.1]  [0.5, 0.5, -0.6, -0.6]\n",
              "1  1.126247e-04   1.109269e-06  ...  [0.6, -0.5, -0.2, 0.1]  [0.5, 0.5, -0.6, -0.6]\n",
              "2  1.806034e-07   1.901193e-06  ...  [0.6, -0.5, -0.2, 0.1]  [0.5, 0.5, -0.6, -0.6]\n",
              "4  1.449932e-07   2.046076e-06  ...  [0.6, -0.5, -0.2, 0.1]  [0.5, 0.5, -0.6, -0.6]\n",
              "5  9.475512e-08   9.220086e-07  ...  [0.6, -0.5, -0.2, 0.1]  [0.5, 0.5, -0.6, -0.6]\n",
              "\n",
              "[5 rows x 21 columns]"
            ]
          },
          "metadata": {},
          "execution_count": 291
        }
      ]
    },
    {
      "cell_type": "markdown",
      "source": [
        "## Choose the entry with the highest loss for visual inspection."
      ],
      "metadata": {
        "id": "JffMVEFai27E"
      }
    },
    {
      "cell_type": "code",
      "source": [
        "highest_loss_row = positive_eigenvalues_data[positive_eigenvalues_data['loss'] == \n",
        "                          max(positive_eigenvalues_data['loss'])]\n",
        "highest_loss_row"
      ],
      "metadata": {
        "colab": {
          "base_uri": "https://localhost:8080/",
          "height": 214
        },
        "id": "F15O8dsDi-9K",
        "outputId": "5853af1d-e5d8-4b67-b1c1-94f00ed0bb32"
      },
      "execution_count": 292,
      "outputs": [
        {
          "output_type": "execute_result",
          "data": {
            "text/html": [
              "\n",
              "  <div id=\"df-022d9f3a-b5d9-4959-8066-ab432d6e3fd7\">\n",
              "    <div class=\"colab-df-container\">\n",
              "      <div>\n",
              "<style scoped>\n",
              "    .dataframe tbody tr th:only-of-type {\n",
              "        vertical-align: middle;\n",
              "    }\n",
              "\n",
              "    .dataframe tbody tr th {\n",
              "        vertical-align: top;\n",
              "    }\n",
              "\n",
              "    .dataframe thead th {\n",
              "        text-align: right;\n",
              "    }\n",
              "</style>\n",
              "<table border=\"1\" class=\"dataframe\">\n",
              "  <thead>\n",
              "    <tr style=\"text-align: right;\">\n",
              "      <th></th>\n",
              "      <th>loss</th>\n",
              "      <th>gradient norm</th>\n",
              "      <th>smallest eigenvalue</th>\n",
              "      <th>student size</th>\n",
              "      <th>neuron_0_traj_x</th>\n",
              "      <th>neuron_0_traj_y</th>\n",
              "      <th>neuron_0_a</th>\n",
              "      <th>neuron_1_traj_x</th>\n",
              "      <th>neuron_1_traj_y</th>\n",
              "      <th>neuron_1_a</th>\n",
              "      <th>neuron_2_traj_x</th>\n",
              "      <th>neuron_2_traj_y</th>\n",
              "      <th>neuron_2_a</th>\n",
              "      <th>neuron_3_traj_x</th>\n",
              "      <th>neuron_3_traj_y</th>\n",
              "      <th>neuron_3_a</th>\n",
              "      <th>neuron_4_traj_x</th>\n",
              "      <th>neuron_4_traj_y</th>\n",
              "      <th>neuron_4_a</th>\n",
              "      <th>teacher_neurons_x</th>\n",
              "      <th>teacher_neurons_y</th>\n",
              "    </tr>\n",
              "  </thead>\n",
              "  <tbody>\n",
              "    <tr>\n",
              "      <th>554</th>\n",
              "      <td>0.00012</td>\n",
              "      <td>0.000002</td>\n",
              "      <td>5.891521e-08</td>\n",
              "      <td>5</td>\n",
              "      <td>[-0.30611193, -0.30721113, -0.30820677, -0.309...</td>\n",
              "      <td>[-0.68524516, -0.6841463, -0.68315196, -0.6821...</td>\n",
              "      <td>-0.442123</td>\n",
              "      <td>[0.262923, 0.2618237, 0.26082763, 0.2598369, 0...</td>\n",
              "      <td>[0.11894119, 0.120039746, 0.12103175, 0.122012...</td>\n",
              "      <td>-0.301189</td>\n",
              "      <td>[-0.56262696, -0.56372607, -0.5647216, -0.5657...</td>\n",
              "      <td>[0.08642709, 0.0875252, 0.08851475, 0.08948958...</td>\n",
              "      <td>-0.168002</td>\n",
              "      <td>[-0.22946602, -0.22836682, -0.22737116, -0.226...</td>\n",
              "      <td>[-0.84010166, -0.8412004, -0.8421935, -0.84317...</td>\n",
              "      <td>1.200516</td>\n",
              "      <td>[-0.18552661, -0.18662581, -0.1876214, -0.1886...</td>\n",
              "      <td>[0.058314264, 0.059412554, 0.06040313, 0.06138...</td>\n",
              "      <td>-0.289486</td>\n",
              "      <td>[0.6, -0.5, -0.2, 0.1]</td>\n",
              "      <td>[0.5, 0.5, -0.6, -0.6]</td>\n",
              "    </tr>\n",
              "  </tbody>\n",
              "</table>\n",
              "</div>\n",
              "      <button class=\"colab-df-convert\" onclick=\"convertToInteractive('df-022d9f3a-b5d9-4959-8066-ab432d6e3fd7')\"\n",
              "              title=\"Convert this dataframe to an interactive table.\"\n",
              "              style=\"display:none;\">\n",
              "        \n",
              "  <svg xmlns=\"http://www.w3.org/2000/svg\" height=\"24px\"viewBox=\"0 0 24 24\"\n",
              "       width=\"24px\">\n",
              "    <path d=\"M0 0h24v24H0V0z\" fill=\"none\"/>\n",
              "    <path d=\"M18.56 5.44l.94 2.06.94-2.06 2.06-.94-2.06-.94-.94-2.06-.94 2.06-2.06.94zm-11 1L8.5 8.5l.94-2.06 2.06-.94-2.06-.94L8.5 2.5l-.94 2.06-2.06.94zm10 10l.94 2.06.94-2.06 2.06-.94-2.06-.94-.94-2.06-.94 2.06-2.06.94z\"/><path d=\"M17.41 7.96l-1.37-1.37c-.4-.4-.92-.59-1.43-.59-.52 0-1.04.2-1.43.59L10.3 9.45l-7.72 7.72c-.78.78-.78 2.05 0 2.83L4 21.41c.39.39.9.59 1.41.59.51 0 1.02-.2 1.41-.59l7.78-7.78 2.81-2.81c.8-.78.8-2.07 0-2.86zM5.41 20L4 18.59l7.72-7.72 1.47 1.35L5.41 20z\"/>\n",
              "  </svg>\n",
              "      </button>\n",
              "      \n",
              "  <style>\n",
              "    .colab-df-container {\n",
              "      display:flex;\n",
              "      flex-wrap:wrap;\n",
              "      gap: 12px;\n",
              "    }\n",
              "\n",
              "    .colab-df-convert {\n",
              "      background-color: #E8F0FE;\n",
              "      border: none;\n",
              "      border-radius: 50%;\n",
              "      cursor: pointer;\n",
              "      display: none;\n",
              "      fill: #1967D2;\n",
              "      height: 32px;\n",
              "      padding: 0 0 0 0;\n",
              "      width: 32px;\n",
              "    }\n",
              "\n",
              "    .colab-df-convert:hover {\n",
              "      background-color: #E2EBFA;\n",
              "      box-shadow: 0px 1px 2px rgba(60, 64, 67, 0.3), 0px 1px 3px 1px rgba(60, 64, 67, 0.15);\n",
              "      fill: #174EA6;\n",
              "    }\n",
              "\n",
              "    [theme=dark] .colab-df-convert {\n",
              "      background-color: #3B4455;\n",
              "      fill: #D2E3FC;\n",
              "    }\n",
              "\n",
              "    [theme=dark] .colab-df-convert:hover {\n",
              "      background-color: #434B5C;\n",
              "      box-shadow: 0px 1px 3px 1px rgba(0, 0, 0, 0.15);\n",
              "      filter: drop-shadow(0px 1px 2px rgba(0, 0, 0, 0.3));\n",
              "      fill: #FFFFFF;\n",
              "    }\n",
              "  </style>\n",
              "\n",
              "      <script>\n",
              "        const buttonEl =\n",
              "          document.querySelector('#df-022d9f3a-b5d9-4959-8066-ab432d6e3fd7 button.colab-df-convert');\n",
              "        buttonEl.style.display =\n",
              "          google.colab.kernel.accessAllowed ? 'block' : 'none';\n",
              "\n",
              "        async function convertToInteractive(key) {\n",
              "          const element = document.querySelector('#df-022d9f3a-b5d9-4959-8066-ab432d6e3fd7');\n",
              "          const dataTable =\n",
              "            await google.colab.kernel.invokeFunction('convertToInteractive',\n",
              "                                                     [key], {});\n",
              "          if (!dataTable) return;\n",
              "\n",
              "          const docLinkHtml = 'Like what you see? Visit the ' +\n",
              "            '<a target=\"_blank\" href=https://colab.research.google.com/notebooks/data_table.ipynb>data table notebook</a>'\n",
              "            + ' to learn more about interactive tables.';\n",
              "          element.innerHTML = '';\n",
              "          dataTable['output_type'] = 'display_data';\n",
              "          await google.colab.output.renderOutput(dataTable, element);\n",
              "          const docLink = document.createElement('div');\n",
              "          docLink.innerHTML = docLinkHtml;\n",
              "          element.appendChild(docLink);\n",
              "        }\n",
              "      </script>\n",
              "    </div>\n",
              "  </div>\n",
              "  "
            ],
            "text/plain": [
              "        loss  gradient norm  ...       teacher_neurons_x       teacher_neurons_y\n",
              "554  0.00012       0.000002  ...  [0.6, -0.5, -0.2, 0.1]  [0.5, 0.5, -0.6, -0.6]\n",
              "\n",
              "[1 rows x 21 columns]"
            ]
          },
          "metadata": {},
          "execution_count": 292
        }
      ]
    },
    {
      "cell_type": "code",
      "source": [
        "plot_trajectories(highest_loss_row)"
      ],
      "metadata": {
        "colab": {
          "base_uri": "https://localhost:8080/",
          "height": 269
        },
        "id": "P253raFpjvdG",
        "outputId": "2fa611dc-3cb4-4979-85e3-0b326a949cb1"
      },
      "execution_count": 293,
      "outputs": [
        {
          "output_type": "display_data",
          "data": {
            "image/png": "[encoded data removed]",
            "text/plain": [
              "<Figure size 432x288 with 2 Axes>"
            ]
          },
          "metadata": {
            "needs_background": "light"
          }
        }
      ]
    },
    {
      "cell_type": "markdown",
      "source": [
        "## Choose the entry with the lowest loss for visual inspection."
      ],
      "metadata": {
        "id": "EE3_hKn3i7o2"
      }
    },
    {
      "cell_type": "code",
      "source": [
        "lowest_loss_row = positive_eigenvalues_data[positive_eigenvalues_data['loss'] == \n",
        "                          min(positive_eigenvalues_data['loss'])]\n",
        "lowest_loss_row"
      ],
      "metadata": {
        "id": "gBy5opAii_kj",
        "colab": {
          "base_uri": "https://localhost:8080/",
          "height": 214
        },
        "outputId": "30daad9d-13d4-4945-f214-c92722d60f92"
      },
      "execution_count": 294,
      "outputs": [
        {
          "output_type": "execute_result",
          "data": {
            "text/html": [
              "\n",
              "  <div id=\"df-f52c236d-12cf-4fb6-a2a8-b6ab7b3a2630\">\n",
              "    <div class=\"colab-df-container\">\n",
              "      <div>\n",
              "<style scoped>\n",
              "    .dataframe tbody tr th:only-of-type {\n",
              "        vertical-align: middle;\n",
              "    }\n",
              "\n",
              "    .dataframe tbody tr th {\n",
              "        vertical-align: top;\n",
              "    }\n",
              "\n",
              "    .dataframe thead th {\n",
              "        text-align: right;\n",
              "    }\n",
              "</style>\n",
              "<table border=\"1\" class=\"dataframe\">\n",
              "  <thead>\n",
              "    <tr style=\"text-align: right;\">\n",
              "      <th></th>\n",
              "      <th>loss</th>\n",
              "      <th>gradient norm</th>\n",
              "      <th>smallest eigenvalue</th>\n",
              "      <th>student size</th>\n",
              "      <th>neuron_0_traj_x</th>\n",
              "      <th>neuron_0_traj_y</th>\n",
              "      <th>neuron_0_a</th>\n",
              "      <th>neuron_1_traj_x</th>\n",
              "      <th>neuron_1_traj_y</th>\n",
              "      <th>neuron_1_a</th>\n",
              "      <th>neuron_2_traj_x</th>\n",
              "      <th>neuron_2_traj_y</th>\n",
              "      <th>neuron_2_a</th>\n",
              "      <th>neuron_3_traj_x</th>\n",
              "      <th>neuron_3_traj_y</th>\n",
              "      <th>neuron_3_a</th>\n",
              "      <th>neuron_4_traj_x</th>\n",
              "      <th>neuron_4_traj_y</th>\n",
              "      <th>neuron_4_a</th>\n",
              "      <th>teacher_neurons_x</th>\n",
              "      <th>teacher_neurons_y</th>\n",
              "    </tr>\n",
              "  </thead>\n",
              "  <tbody>\n",
              "    <tr>\n",
              "      <th>226</th>\n",
              "      <td>1.717876e-10</td>\n",
              "      <td>7.971313e-07</td>\n",
              "      <td>2.930291e-07</td>\n",
              "      <td>5</td>\n",
              "      <td>[-0.7122008, -0.711101, -0.7101022, -0.7091051...</td>\n",
              "      <td>[-0.318281, -0.31938076, -0.3203797, -0.321377...</td>\n",
              "      <td>-0.999158</td>\n",
              "      <td>[-0.7135771, -0.712477, -0.71147746, -0.710478...</td>\n",
              "      <td>[0.58482254, 0.5859225, 0.5869218, 0.5879203, ...</td>\n",
              "      <td>0.998727</td>\n",
              "      <td>[-0.7779258, -0.7768258, -0.77582633, -0.77482...</td>\n",
              "      <td>[-0.58277345, -0.58387333, -0.5848725, -0.5858...</td>\n",
              "      <td>0.698262</td>\n",
              "      <td>[-0.46316257, -0.46426243, -0.4652623, -0.4662...</td>\n",
              "      <td>[0.7826747, 0.7815745, 0.78057396, 0.77957267,...</td>\n",
              "      <td>-0.998734</td>\n",
              "      <td>[-0.882863, -0.88176304, -0.88076365, -0.87976...</td>\n",
              "      <td>[-0.2913239, -0.29242375, -0.29342362, -0.2944...</td>\n",
              "      <td>0.300903</td>\n",
              "      <td>[0.6, -0.5, -0.2, 0.1]</td>\n",
              "      <td>[0.5, 0.5, -0.6, -0.6]</td>\n",
              "    </tr>\n",
              "  </tbody>\n",
              "</table>\n",
              "</div>\n",
              "      <button class=\"colab-df-convert\" onclick=\"convertToInteractive('df-f52c236d-12cf-4fb6-a2a8-b6ab7b3a2630')\"\n",
              "              title=\"Convert this dataframe to an interactive table.\"\n",
              "              style=\"display:none;\">\n",
              "        \n",
              "  <svg xmlns=\"http://www.w3.org/2000/svg\" height=\"24px\"viewBox=\"0 0 24 24\"\n",
              "       width=\"24px\">\n",
              "    <path d=\"M0 0h24v24H0V0z\" fill=\"none\"/>\n",
              "    <path d=\"M18.56 5.44l.94 2.06.94-2.06 2.06-.94-2.06-.94-.94-2.06-.94 2.06-2.06.94zm-11 1L8.5 8.5l.94-2.06 2.06-.94-2.06-.94L8.5 2.5l-.94 2.06-2.06.94zm10 10l.94 2.06.94-2.06 2.06-.94-2.06-.94-.94-2.06-.94 2.06-2.06.94z\"/><path d=\"M17.41 7.96l-1.37-1.37c-.4-.4-.92-.59-1.43-.59-.52 0-1.04.2-1.43.59L10.3 9.45l-7.72 7.72c-.78.78-.78 2.05 0 2.83L4 21.41c.39.39.9.59 1.41.59.51 0 1.02-.2 1.41-.59l7.78-7.78 2.81-2.81c.8-.78.8-2.07 0-2.86zM5.41 20L4 18.59l7.72-7.72 1.47 1.35L5.41 20z\"/>\n",
              "  </svg>\n",
              "      </button>\n",
              "      \n",
              "  <style>\n",
              "    .colab-df-container {\n",
              "      display:flex;\n",
              "      flex-wrap:wrap;\n",
              "      gap: 12px;\n",
              "    }\n",
              "\n",
              "    .colab-df-convert {\n",
              "      background-color: #E8F0FE;\n",
              "      border: none;\n",
              "      border-radius: 50%;\n",
              "      cursor: pointer;\n",
              "      display: none;\n",
              "      fill: #1967D2;\n",
              "      height: 32px;\n",
              "      padding: 0 0 0 0;\n",
              "      width: 32px;\n",
              "    }\n",
              "\n",
              "    .colab-df-convert:hover {\n",
              "      background-color: #E2EBFA;\n",
              "      box-shadow: 0px 1px 2px rgba(60, 64, 67, 0.3), 0px 1px 3px 1px rgba(60, 64, 67, 0.15);\n",
              "      fill: #174EA6;\n",
              "    }\n",
              "\n",
              "    [theme=dark] .colab-df-convert {\n",
              "      background-color: #3B4455;\n",
              "      fill: #D2E3FC;\n",
              "    }\n",
              "\n",
              "    [theme=dark] .colab-df-convert:hover {\n",
              "      background-color: #434B5C;\n",
              "      box-shadow: 0px 1px 3px 1px rgba(0, 0, 0, 0.15);\n",
              "      filter: drop-shadow(0px 1px 2px rgba(0, 0, 0, 0.3));\n",
              "      fill: #FFFFFF;\n",
              "    }\n",
              "  </style>\n",
              "\n",
              "      <script>\n",
              "        const buttonEl =\n",
              "          document.querySelector('#df-f52c236d-12cf-4fb6-a2a8-b6ab7b3a2630 button.colab-df-convert');\n",
              "        buttonEl.style.display =\n",
              "          google.colab.kernel.accessAllowed ? 'block' : 'none';\n",
              "\n",
              "        async function convertToInteractive(key) {\n",
              "          const element = document.querySelector('#df-f52c236d-12cf-4fb6-a2a8-b6ab7b3a2630');\n",
              "          const dataTable =\n",
              "            await google.colab.kernel.invokeFunction('convertToInteractive',\n",
              "                                                     [key], {});\n",
              "          if (!dataTable) return;\n",
              "\n",
              "          const docLinkHtml = 'Like what you see? Visit the ' +\n",
              "            '<a target=\"_blank\" href=https://colab.research.google.com/notebooks/data_table.ipynb>data table notebook</a>'\n",
              "            + ' to learn more about interactive tables.';\n",
              "          element.innerHTML = '';\n",
              "          dataTable['output_type'] = 'display_data';\n",
              "          await google.colab.output.renderOutput(dataTable, element);\n",
              "          const docLink = document.createElement('div');\n",
              "          docLink.innerHTML = docLinkHtml;\n",
              "          element.appendChild(docLink);\n",
              "        }\n",
              "      </script>\n",
              "    </div>\n",
              "  </div>\n",
              "  "
            ],
            "text/plain": [
              "             loss  ...       teacher_neurons_y\n",
              "226  1.717876e-10  ...  [0.5, 0.5, -0.6, -0.6]\n",
              "\n",
              "[1 rows x 21 columns]"
            ]
          },
          "metadata": {},
          "execution_count": 294
        }
      ]
    },
    {
      "cell_type": "code",
      "source": [
        "w_in = []\n",
        "w_out = []\n",
        "\n",
        "for i in range(0, int(lowest_loss_row['student size'])):\n",
        "  neuron_traj_x = np.fromstring(lowest_loss_row['neuron_' + str(i) + '_traj_x'].values[0][1:-1], dtype=float, sep=',')\n",
        "  neuron_traj_y = np.fromstring(lowest_loss_row['neuron_' + str(i) + '_traj_y'].values[0][1:-1], dtype=float, sep=',')\n",
        "\n",
        "  w_in.append([neuron_traj_x[-1], neuron_traj_y[-1]])\n",
        "\n",
        "  w_out.append(float(lowest_loss_row['neuron_' + str(i) + '_a'].values[0]))\n",
        "\n",
        "w_out = [w_out]\n",
        "\n",
        "print(w_in)\n",
        "print(w_out)"
      ],
      "metadata": {
        "colab": {
          "base_uri": "https://localhost:8080/"
        },
        "id": "FjhLy-goxr6i",
        "outputId": "a71865a4-2ded-4328-d9a1-9eec1d21609d"
      },
      "execution_count": 295,
      "outputs": [
        {
          "output_type": "stream",
          "name": "stdout",
          "text": [
            "[[-0.6002194, -0.50006455], [-0.099743515, 0.6003923], [-0.196829, -0.59945375], [-0.5002848, 0.5000267], [-0.20700243, -0.6025387]]\n",
            "[[-0.9991581, 0.9987267, 0.6982621999999999, -0.99873406, 0.30090275]]\n"
          ]
        }
      ]
    },
    {
      "cell_type": "code",
      "source": [
        "params = OrderedDict([(\"w_in\", torch.Tensor(w_in)), (\"w_out\", torch.Tensor(w_out))])\n",
        "dummy_model = DummyNetwork(D_in, H_student, D_out, params[\"w_in\"], params[\"w_out\"])"
      ],
      "metadata": {
        "id": "aCehQ_Kc48Yr"
      },
      "execution_count": 296,
      "outputs": []
    },
    {
      "cell_type": "code",
      "source": [
        "test_data = torch.Tensor([1000, 1000])\n",
        "print(dummy_model(test_data))\n",
        "print(teacher_model(test_data))"
      ],
      "metadata": {
        "colab": {
          "base_uri": "https://localhost:8080/"
        },
        "id": "22I5ptaS5VES",
        "outputId": "b2df50b7-7a6f-475c-9809-a80e88a38341"
      },
      "execution_count": 297,
      "outputs": [
        {
          "output_type": "stream",
          "name": "stdout",
          "text": [
            "tensor([0.5634], grad_fn=<SqueezeBackward3>)\n",
            "tensor([0.5000], grad_fn=<SqueezeBackward3>)\n"
          ]
        }
      ]
    },
    {
      "cell_type": "code",
      "source": [
        "plot_trajectories(lowest_loss_row)"
      ],
      "metadata": {
        "id": "xT2RCqpul0Qx",
        "colab": {
          "base_uri": "https://localhost:8080/",
          "height": 265
        },
        "outputId": "97409035-fbe9-475c-a3f5-c5116d9f2325"
      },
      "execution_count": 298,
      "outputs": [
        {
          "output_type": "display_data",
          "data": {
            "image/png": "[encoded data removed]",
            "text/plain": [
              "<Figure size 432x288 with 2 Axes>"
            ]
          },
          "metadata": {
            "needs_background": "light"
          }
        }
      ]
    },
    {
      "cell_type": "markdown",
      "source": [
        "# Case 2: negative eigenvalues"
      ],
      "metadata": {
        "id": "7FRs0RtYYutP"
      }
    },
    {
      "cell_type": "code",
      "source": [
        "negative_eigenvalues_data = data[data['smallest eigenvalue'] <= 0]\n",
        "negative_eigenvalues_data.head()"
      ],
      "metadata": {
        "colab": {
          "base_uri": "https://localhost:8080/",
          "height": 548
        },
        "id": "alt8ABQ8AjWC",
        "outputId": "99bdecb3-8b8b-4dbb-f31e-186eb490edbd"
      },
      "execution_count": 299,
      "outputs": [
        {
          "output_type": "execute_result",
          "data": {
            "text/html": [
              "\n",
              "  <div id=\"df-f27890ab-8610-4c94-8699-9021b94fb0c5\">\n",
              "    <div class=\"colab-df-container\">\n",
              "      <div>\n",
              "<style scoped>\n",
              "    .dataframe tbody tr th:only-of-type {\n",
              "        vertical-align: middle;\n",
              "    }\n",
              "\n",
              "    .dataframe tbody tr th {\n",
              "        vertical-align: top;\n",
              "    }\n",
              "\n",
              "    .dataframe thead th {\n",
              "        text-align: right;\n",
              "    }\n",
              "</style>\n",
              "<table border=\"1\" class=\"dataframe\">\n",
              "  <thead>\n",
              "    <tr style=\"text-align: right;\">\n",
              "      <th></th>\n",
              "      <th>loss</th>\n",
              "      <th>gradient norm</th>\n",
              "      <th>smallest eigenvalue</th>\n",
              "      <th>student size</th>\n",
              "      <th>neuron_0_traj_x</th>\n",
              "      <th>neuron_0_traj_y</th>\n",
              "      <th>neuron_0_a</th>\n",
              "      <th>neuron_1_traj_x</th>\n",
              "      <th>neuron_1_traj_y</th>\n",
              "      <th>neuron_1_a</th>\n",
              "      <th>neuron_2_traj_x</th>\n",
              "      <th>neuron_2_traj_y</th>\n",
              "      <th>neuron_2_a</th>\n",
              "      <th>neuron_3_traj_x</th>\n",
              "      <th>neuron_3_traj_y</th>\n",
              "      <th>neuron_3_a</th>\n",
              "      <th>neuron_4_traj_x</th>\n",
              "      <th>neuron_4_traj_y</th>\n",
              "      <th>neuron_4_a</th>\n",
              "      <th>teacher_neurons_x</th>\n",
              "      <th>teacher_neurons_y</th>\n",
              "    </tr>\n",
              "  </thead>\n",
              "  <tbody>\n",
              "    <tr>\n",
              "      <th>3</th>\n",
              "      <td>7.373002e-05</td>\n",
              "      <td>1.299365e-06</td>\n",
              "      <td>-3.081212e-06</td>\n",
              "      <td>5</td>\n",
              "      <td>[-0.6786128, -0.6797141, -0.68072075, -0.68173...</td>\n",
              "      <td>[0.43527937, 0.43417957, 0.43318036, 0.4321822...</td>\n",
              "      <td>0.637927</td>\n",
              "      <td>[0.017915964, 0.01901525, 0.020011375, 0.02100...</td>\n",
              "      <td>[-0.6100751, -0.61117464, -0.6121718, -0.61316...</td>\n",
              "      <td>-0.199785</td>\n",
              "      <td>[0.25231147, 0.2534108, 0.25440735, 0.2553993,...</td>\n",
              "      <td>[0.21730137, 0.21620166, 0.21520329, 0.2142071...</td>\n",
              "      <td>1.209803</td>\n",
              "      <td>[-0.8822162, -0.88331527, -0.88430977, -0.8852...</td>\n",
              "      <td>[-0.053145587, -0.0520458, -0.05104695, -0.050...</td>\n",
              "      <td>-1.166978</td>\n",
              "      <td>[-0.22924155, -0.23034127, -0.23133972, -0.232...</td>\n",
              "      <td>[-0.5169028, -0.5158026, -0.514803, -0.5138035...</td>\n",
              "      <td>-0.480965</td>\n",
              "      <td>[0.6, -0.5, -0.2, 0.1]</td>\n",
              "      <td>[0.5, 0.5, -0.6, -0.6]</td>\n",
              "    </tr>\n",
              "    <tr>\n",
              "      <th>12</th>\n",
              "      <td>1.148570e-04</td>\n",
              "      <td>1.947127e-06</td>\n",
              "      <td>-6.076706e-08</td>\n",
              "      <td>5</td>\n",
              "      <td>[0.88523614, 0.88633597, 0.88733476, 0.8883318...</td>\n",
              "      <td>[0.6706927, 0.6695928, 0.66859376, 0.667596, 0...</td>\n",
              "      <td>0.075265</td>\n",
              "      <td>[0.03439802, 0.033297714, 0.03229608, 0.031292...</td>\n",
              "      <td>[-0.17208314, -0.170983, -0.1699823, -0.168980...</td>\n",
              "      <td>-0.603175</td>\n",
              "      <td>[-0.27339393, -0.27449548, -0.27550375, -0.276...</td>\n",
              "      <td>[-0.60061294, -0.5995113, -0.5985031, -0.59748...</td>\n",
              "      <td>-0.200969</td>\n",
              "      <td>[0.7260444, 0.72494555, 0.72395146, 0.7229657,...</td>\n",
              "      <td>[-0.5417014, -0.542801, -0.543799, -0.5447941,...</td>\n",
              "      <td>0.343798</td>\n",
              "      <td>[0.12642407, 0.1275241, 0.12852426, 0.12952465...</td>\n",
              "      <td>[0.77003133, 0.76893115, 0.76793146, 0.7669319...</td>\n",
              "      <td>0.385074</td>\n",
              "      <td>[0.6, -0.5, -0.2, 0.1]</td>\n",
              "      <td>[0.5, 0.5, -0.6, -0.6]</td>\n",
              "    </tr>\n",
              "    <tr>\n",
              "      <th>13</th>\n",
              "      <td>1.141731e-04</td>\n",
              "      <td>9.969041e-07</td>\n",
              "      <td>-2.990608e-08</td>\n",
              "      <td>5</td>\n",
              "      <td>[0.86080384, 0.85970366, 0.85870326, 0.8577022...</td>\n",
              "      <td>[-0.6272156, -0.6283158, -0.629316, -0.6303166...</td>\n",
              "      <td>-1.455881</td>\n",
              "      <td>[-0.6480992, -0.646999, -0.64599884, -0.644998...</td>\n",
              "      <td>[-0.14023715, -0.14133722, -0.14233753, -0.143...</td>\n",
              "      <td>0.420410</td>\n",
              "      <td>[-0.557319, -0.55621904, -0.5552196, -0.554220...</td>\n",
              "      <td>[-0.80498934, -0.80608916, -0.8070881, -0.8080...</td>\n",
              "      <td>0.433547</td>\n",
              "      <td>[-0.2181974, -0.21709754, -0.21609828, -0.2151...</td>\n",
              "      <td>[0.5636673, 0.5647669, 0.5657646, 0.566759, 0....</td>\n",
              "      <td>0.479802</td>\n",
              "      <td>[0.66613173, 0.6672315, 0.66822994, 0.6692261,...</td>\n",
              "      <td>[0.32170916, 0.32060945, 0.319611, 0.3186147, ...</td>\n",
              "      <td>0.122454</td>\n",
              "      <td>[0.6, -0.5, -0.2, 0.1]</td>\n",
              "      <td>[0.5, 0.5, -0.6, -0.6]</td>\n",
              "    </tr>\n",
              "    <tr>\n",
              "      <th>19</th>\n",
              "      <td>1.735169e-07</td>\n",
              "      <td>1.551616e-06</td>\n",
              "      <td>-4.156950e-08</td>\n",
              "      <td>5</td>\n",
              "      <td>[0.17383587, 0.17493583, 0.17593554, 0.1769348...</td>\n",
              "      <td>[0.65492964, 0.6560289, 0.65702474, 0.6580148,...</td>\n",
              "      <td>0.998790</td>\n",
              "      <td>[0.6043483, 0.60324836, 0.602249, 0.6012506, 0...</td>\n",
              "      <td>[0.8840395, 0.88513935, 0.8861383, 0.88713586,...</td>\n",
              "      <td>-0.774685</td>\n",
              "      <td>[-0.8169331, -0.8158329, -0.81483275, -0.81383...</td>\n",
              "      <td>[0.19977367, 0.20087363, 0.20187332, 0.2028725...</td>\n",
              "      <td>0.762726</td>\n",
              "      <td>[-0.7117446, -0.7128448, -0.71384495, -0.71484...</td>\n",
              "      <td>[0.8463285, 0.8452283, 0.84422797, 0.8432271, ...</td>\n",
              "      <td>-0.986922</td>\n",
              "      <td>[-0.22165132, -0.22055143, -0.21955208, -0.218...</td>\n",
              "      <td>[-0.58339965, -0.5822989, -0.5812948, -0.58028...</td>\n",
              "      <td>0.000092</td>\n",
              "      <td>[0.6, -0.5, -0.2, 0.1]</td>\n",
              "      <td>[0.5, 0.5, -0.6, -0.6]</td>\n",
              "    </tr>\n",
              "    <tr>\n",
              "      <th>20</th>\n",
              "      <td>1.168536e-04</td>\n",
              "      <td>1.716826e-06</td>\n",
              "      <td>-9.012151e-07</td>\n",
              "      <td>5</td>\n",
              "      <td>[-0.48156473, -0.48266366, -0.4836579, -0.4846...</td>\n",
              "      <td>[0.87009275, 0.86899346, 0.86799765, 0.8670077...</td>\n",
              "      <td>-0.335444</td>\n",
              "      <td>[-0.22550035, -0.22439602, -0.22337356, -0.222...</td>\n",
              "      <td>[-0.042183995, -0.043288216, -0.044310063, -0....</td>\n",
              "      <td>0.331979</td>\n",
              "      <td>[0.41804266, 0.4169428, 0.41594335, 0.41494465...</td>\n",
              "      <td>[-0.38739896, -0.38629946, -0.38530195, -0.384...</td>\n",
              "      <td>0.118717</td>\n",
              "      <td>[0.06406069, 0.06296102, 0.06196284, 0.0609671...</td>\n",
              "      <td>[-0.48657867, -0.48547903, -0.4844806, -0.4834...</td>\n",
              "      <td>0.299856</td>\n",
              "      <td>[0.017664671, 0.01656477, 0.015565304, 0.01456...</td>\n",
              "      <td>[-0.732383, -0.73128283, -0.73028266, -0.72928...</td>\n",
              "      <td>-0.415097</td>\n",
              "      <td>[0.6, -0.5, -0.2, 0.1]</td>\n",
              "      <td>[0.5, 0.5, -0.6, -0.6]</td>\n",
              "    </tr>\n",
              "  </tbody>\n",
              "</table>\n",
              "</div>\n",
              "      <button class=\"colab-df-convert\" onclick=\"convertToInteractive('df-f27890ab-8610-4c94-8699-9021b94fb0c5')\"\n",
              "              title=\"Convert this dataframe to an interactive table.\"\n",
              "              style=\"display:none;\">\n",
              "        \n",
              "  <svg xmlns=\"http://www.w3.org/2000/svg\" height=\"24px\"viewBox=\"0 0 24 24\"\n",
              "       width=\"24px\">\n",
              "    <path d=\"M0 0h24v24H0V0z\" fill=\"none\"/>\n",
              "    <path d=\"M18.56 5.44l.94 2.06.94-2.06 2.06-.94-2.06-.94-.94-2.06-.94 2.06-2.06.94zm-11 1L8.5 8.5l.94-2.06 2.06-.94-2.06-.94L8.5 2.5l-.94 2.06-2.06.94zm10 10l.94 2.06.94-2.06 2.06-.94-2.06-.94-.94-2.06-.94 2.06-2.06.94z\"/><path d=\"M17.41 7.96l-1.37-1.37c-.4-.4-.92-.59-1.43-.59-.52 0-1.04.2-1.43.59L10.3 9.45l-7.72 7.72c-.78.78-.78 2.05 0 2.83L4 21.41c.39.39.9.59 1.41.59.51 0 1.02-.2 1.41-.59l7.78-7.78 2.81-2.81c.8-.78.8-2.07 0-2.86zM5.41 20L4 18.59l7.72-7.72 1.47 1.35L5.41 20z\"/>\n",
              "  </svg>\n",
              "      </button>\n",
              "      \n",
              "  <style>\n",
              "    .colab-df-container {\n",
              "      display:flex;\n",
              "      flex-wrap:wrap;\n",
              "      gap: 12px;\n",
              "    }\n",
              "\n",
              "    .colab-df-convert {\n",
              "      background-color: #E8F0FE;\n",
              "      border: none;\n",
              "      border-radius: 50%;\n",
              "      cursor: pointer;\n",
              "      display: none;\n",
              "      fill: #1967D2;\n",
              "      height: 32px;\n",
              "      padding: 0 0 0 0;\n",
              "      width: 32px;\n",
              "    }\n",
              "\n",
              "    .colab-df-convert:hover {\n",
              "      background-color: #E2EBFA;\n",
              "      box-shadow: 0px 1px 2px rgba(60, 64, 67, 0.3), 0px 1px 3px 1px rgba(60, 64, 67, 0.15);\n",
              "      fill: #174EA6;\n",
              "    }\n",
              "\n",
              "    [theme=dark] .colab-df-convert {\n",
              "      background-color: #3B4455;\n",
              "      fill: #D2E3FC;\n",
              "    }\n",
              "\n",
              "    [theme=dark] .colab-df-convert:hover {\n",
              "      background-color: #434B5C;\n",
              "      box-shadow: 0px 1px 3px 1px rgba(0, 0, 0, 0.15);\n",
              "      filter: drop-shadow(0px 1px 2px rgba(0, 0, 0, 0.3));\n",
              "      fill: #FFFFFF;\n",
              "    }\n",
              "  </style>\n",
              "\n",
              "      <script>\n",
              "        const buttonEl =\n",
              "          document.querySelector('#df-f27890ab-8610-4c94-8699-9021b94fb0c5 button.colab-df-convert');\n",
              "        buttonEl.style.display =\n",
              "          google.colab.kernel.accessAllowed ? 'block' : 'none';\n",
              "\n",
              "        async function convertToInteractive(key) {\n",
              "          const element = document.querySelector('#df-f27890ab-8610-4c94-8699-9021b94fb0c5');\n",
              "          const dataTable =\n",
              "            await google.colab.kernel.invokeFunction('convertToInteractive',\n",
              "                                                     [key], {});\n",
              "          if (!dataTable) return;\n",
              "\n",
              "          const docLinkHtml = 'Like what you see? Visit the ' +\n",
              "            '<a target=\"_blank\" href=https://colab.research.google.com/notebooks/data_table.ipynb>data table notebook</a>'\n",
              "            + ' to learn more about interactive tables.';\n",
              "          element.innerHTML = '';\n",
              "          dataTable['output_type'] = 'display_data';\n",
              "          await google.colab.output.renderOutput(dataTable, element);\n",
              "          const docLink = document.createElement('div');\n",
              "          docLink.innerHTML = docLinkHtml;\n",
              "          element.appendChild(docLink);\n",
              "        }\n",
              "      </script>\n",
              "    </div>\n",
              "  </div>\n",
              "  "
            ],
            "text/plain": [
              "            loss  gradient norm  ...       teacher_neurons_x       teacher_neurons_y\n",
              "3   7.373002e-05   1.299365e-06  ...  [0.6, -0.5, -0.2, 0.1]  [0.5, 0.5, -0.6, -0.6]\n",
              "12  1.148570e-04   1.947127e-06  ...  [0.6, -0.5, -0.2, 0.1]  [0.5, 0.5, -0.6, -0.6]\n",
              "13  1.141731e-04   9.969041e-07  ...  [0.6, -0.5, -0.2, 0.1]  [0.5, 0.5, -0.6, -0.6]\n",
              "19  1.735169e-07   1.551616e-06  ...  [0.6, -0.5, -0.2, 0.1]  [0.5, 0.5, -0.6, -0.6]\n",
              "20  1.168536e-04   1.716826e-06  ...  [0.6, -0.5, -0.2, 0.1]  [0.5, 0.5, -0.6, -0.6]\n",
              "\n",
              "[5 rows x 21 columns]"
            ]
          },
          "metadata": {},
          "execution_count": 299
        }
      ]
    },
    {
      "cell_type": "code",
      "source": [
        "len(negative_eigenvalues_data)"
      ],
      "metadata": {
        "id": "O7FTRDbk311m",
        "outputId": "51f58522-1b09-4469-ac87-bb06fde1c4a7",
        "colab": {
          "base_uri": "https://localhost:8080/"
        }
      },
      "execution_count": 300,
      "outputs": [
        {
          "output_type": "execute_result",
          "data": {
            "text/plain": [
              "347"
            ]
          },
          "metadata": {},
          "execution_count": 300
        }
      ]
    },
    {
      "cell_type": "markdown",
      "source": [
        "## Choose an experiment with the (negative) eigenvalue with the highest magnitude - indicative of a saddle."
      ],
      "metadata": {
        "id": "a80udBHNTxo3"
      }
    },
    {
      "cell_type": "code",
      "source": [
        "smallest_neg_eigenvalue_row = negative_eigenvalues_data[negative_eigenvalues_data['smallest eigenvalue'] == \n",
        "                          min(negative_eigenvalues_data['smallest eigenvalue'])]\n",
        "smallest_neg_eigenvalue_row"
      ],
      "metadata": {
        "colab": {
          "base_uri": "https://localhost:8080/",
          "height": 214
        },
        "id": "vXOCxnu_TuDy",
        "outputId": "751e87ca-baf1-46dd-802f-a1a55532352e"
      },
      "execution_count": 301,
      "outputs": [
        {
          "output_type": "execute_result",
          "data": {
            "text/html": [
              "\n",
              "  <div id=\"df-f1fefd6b-895e-4404-a9ed-9fe51c4824d8\">\n",
              "    <div class=\"colab-df-container\">\n",
              "      <div>\n",
              "<style scoped>\n",
              "    .dataframe tbody tr th:only-of-type {\n",
              "        vertical-align: middle;\n",
              "    }\n",
              "\n",
              "    .dataframe tbody tr th {\n",
              "        vertical-align: top;\n",
              "    }\n",
              "\n",
              "    .dataframe thead th {\n",
              "        text-align: right;\n",
              "    }\n",
              "</style>\n",
              "<table border=\"1\" class=\"dataframe\">\n",
              "  <thead>\n",
              "    <tr style=\"text-align: right;\">\n",
              "      <th></th>\n",
              "      <th>loss</th>\n",
              "      <th>gradient norm</th>\n",
              "      <th>smallest eigenvalue</th>\n",
              "      <th>student size</th>\n",
              "      <th>neuron_0_traj_x</th>\n",
              "      <th>neuron_0_traj_y</th>\n",
              "      <th>neuron_0_a</th>\n",
              "      <th>neuron_1_traj_x</th>\n",
              "      <th>neuron_1_traj_y</th>\n",
              "      <th>neuron_1_a</th>\n",
              "      <th>neuron_2_traj_x</th>\n",
              "      <th>neuron_2_traj_y</th>\n",
              "      <th>neuron_2_a</th>\n",
              "      <th>neuron_3_traj_x</th>\n",
              "      <th>neuron_3_traj_y</th>\n",
              "      <th>neuron_3_a</th>\n",
              "      <th>neuron_4_traj_x</th>\n",
              "      <th>neuron_4_traj_y</th>\n",
              "      <th>neuron_4_a</th>\n",
              "      <th>teacher_neurons_x</th>\n",
              "      <th>teacher_neurons_y</th>\n",
              "    </tr>\n",
              "  </thead>\n",
              "  <tbody>\n",
              "    <tr>\n",
              "      <th>526</th>\n",
              "      <td>0.000117</td>\n",
              "      <td>0.000001</td>\n",
              "      <td>-0.000026</td>\n",
              "      <td>5</td>\n",
              "      <td>[0.25112736, 0.2500276, 0.2490286, 0.24803093,...</td>\n",
              "      <td>[0.091166615, 0.0900667, 0.08906722, 0.0880684...</td>\n",
              "      <td>-0.464144</td>\n",
              "      <td>[0.31745183, 0.31635252, 0.31535605, 0.3143643...</td>\n",
              "      <td>[-0.52118725, -0.52228665, -0.52328324, -0.524...</td>\n",
              "      <td>0.019734</td>\n",
              "      <td>[0.5084672, 0.50956714, 0.51056653, 0.51156515...</td>\n",
              "      <td>[-0.6972183, -0.6961181, -0.69511795, -0.69411...</td>\n",
              "      <td>0.337408</td>\n",
              "      <td>[-0.1825558, -0.18365556, -0.1846543, -0.18565...</td>\n",
              "      <td>[0.5690135, 0.5679135, 0.5669139, 0.56591505, ...</td>\n",
              "      <td>-0.313794</td>\n",
              "      <td>[0.25387156, 0.25277206, 0.2517745, 0.25078037...</td>\n",
              "      <td>[0.4948479, 0.49374816, 0.49274948, 0.49175262...</td>\n",
              "      <td>0.420788</td>\n",
              "      <td>[0.6, -0.5, -0.2, 0.1]</td>\n",
              "      <td>[0.5, 0.5, -0.6, -0.6]</td>\n",
              "    </tr>\n",
              "  </tbody>\n",
              "</table>\n",
              "</div>\n",
              "      <button class=\"colab-df-convert\" onclick=\"convertToInteractive('df-f1fefd6b-895e-4404-a9ed-9fe51c4824d8')\"\n",
              "              title=\"Convert this dataframe to an interactive table.\"\n",
              "              style=\"display:none;\">\n",
              "        \n",
              "  <svg xmlns=\"http://www.w3.org/2000/svg\" height=\"24px\"viewBox=\"0 0 24 24\"\n",
              "       width=\"24px\">\n",
              "    <path d=\"M0 0h24v24H0V0z\" fill=\"none\"/>\n",
              "    <path d=\"M18.56 5.44l.94 2.06.94-2.06 2.06-.94-2.06-.94-.94-2.06-.94 2.06-2.06.94zm-11 1L8.5 8.5l.94-2.06 2.06-.94-2.06-.94L8.5 2.5l-.94 2.06-2.06.94zm10 10l.94 2.06.94-2.06 2.06-.94-2.06-.94-.94-2.06-.94 2.06-2.06.94z\"/><path d=\"M17.41 7.96l-1.37-1.37c-.4-.4-.92-.59-1.43-.59-.52 0-1.04.2-1.43.59L10.3 9.45l-7.72 7.72c-.78.78-.78 2.05 0 2.83L4 21.41c.39.39.9.59 1.41.59.51 0 1.02-.2 1.41-.59l7.78-7.78 2.81-2.81c.8-.78.8-2.07 0-2.86zM5.41 20L4 18.59l7.72-7.72 1.47 1.35L5.41 20z\"/>\n",
              "  </svg>\n",
              "      </button>\n",
              "      \n",
              "  <style>\n",
              "    .colab-df-container {\n",
              "      display:flex;\n",
              "      flex-wrap:wrap;\n",
              "      gap: 12px;\n",
              "    }\n",
              "\n",
              "    .colab-df-convert {\n",
              "      background-color: #E8F0FE;\n",
              "      border: none;\n",
              "      border-radius: 50%;\n",
              "      cursor: pointer;\n",
              "      display: none;\n",
              "      fill: #1967D2;\n",
              "      height: 32px;\n",
              "      padding: 0 0 0 0;\n",
              "      width: 32px;\n",
              "    }\n",
              "\n",
              "    .colab-df-convert:hover {\n",
              "      background-color: #E2EBFA;\n",
              "      box-shadow: 0px 1px 2px rgba(60, 64, 67, 0.3), 0px 1px 3px 1px rgba(60, 64, 67, 0.15);\n",
              "      fill: #174EA6;\n",
              "    }\n",
              "\n",
              "    [theme=dark] .colab-df-convert {\n",
              "      background-color: #3B4455;\n",
              "      fill: #D2E3FC;\n",
              "    }\n",
              "\n",
              "    [theme=dark] .colab-df-convert:hover {\n",
              "      background-color: #434B5C;\n",
              "      box-shadow: 0px 1px 3px 1px rgba(0, 0, 0, 0.15);\n",
              "      filter: drop-shadow(0px 1px 2px rgba(0, 0, 0, 0.3));\n",
              "      fill: #FFFFFF;\n",
              "    }\n",
              "  </style>\n",
              "\n",
              "      <script>\n",
              "        const buttonEl =\n",
              "          document.querySelector('#df-f1fefd6b-895e-4404-a9ed-9fe51c4824d8 button.colab-df-convert');\n",
              "        buttonEl.style.display =\n",
              "          google.colab.kernel.accessAllowed ? 'block' : 'none';\n",
              "\n",
              "        async function convertToInteractive(key) {\n",
              "          const element = document.querySelector('#df-f1fefd6b-895e-4404-a9ed-9fe51c4824d8');\n",
              "          const dataTable =\n",
              "            await google.colab.kernel.invokeFunction('convertToInteractive',\n",
              "                                                     [key], {});\n",
              "          if (!dataTable) return;\n",
              "\n",
              "          const docLinkHtml = 'Like what you see? Visit the ' +\n",
              "            '<a target=\"_blank\" href=https://colab.research.google.com/notebooks/data_table.ipynb>data table notebook</a>'\n",
              "            + ' to learn more about interactive tables.';\n",
              "          element.innerHTML = '';\n",
              "          dataTable['output_type'] = 'display_data';\n",
              "          await google.colab.output.renderOutput(dataTable, element);\n",
              "          const docLink = document.createElement('div');\n",
              "          docLink.innerHTML = docLinkHtml;\n",
              "          element.appendChild(docLink);\n",
              "        }\n",
              "      </script>\n",
              "    </div>\n",
              "  </div>\n",
              "  "
            ],
            "text/plain": [
              "         loss  gradient norm  ...       teacher_neurons_x       teacher_neurons_y\n",
              "526  0.000117       0.000001  ...  [0.6, -0.5, -0.2, 0.1]  [0.5, 0.5, -0.6, -0.6]\n",
              "\n",
              "[1 rows x 21 columns]"
            ]
          },
          "metadata": {},
          "execution_count": 301
        }
      ]
    },
    {
      "cell_type": "code",
      "source": [
        "plot_trajectories(smallest_neg_eigenvalue_row)"
      ],
      "metadata": {
        "colab": {
          "base_uri": "https://localhost:8080/",
          "height": 265
        },
        "id": "FB1uMrp0UOx2",
        "outputId": "49356b34-61ea-466a-d97e-c5392f6ffb3a"
      },
      "execution_count": 302,
      "outputs": [
        {
          "output_type": "display_data",
          "data": {
            "image/png": "[encoded data removed]",
            "text/plain": [
              "<Figure size 432x288 with 2 Axes>"
            ]
          },
          "metadata": {
            "needs_background": "light"
          }
        }
      ]
    },
    {
      "cell_type": "markdown",
      "source": [
        "### Second order optimization starting with the point of convergence."
      ],
      "metadata": {
        "id": "jc6Oz4vxwh9P"
      }
    },
    {
      "cell_type": "markdown",
      "source": [
        "Firstly, we fetch the weights from the student network."
      ],
      "metadata": {
        "id": "_Ym1B09mxB24"
      }
    },
    {
      "cell_type": "code",
      "source": [
        "w_in = []\n",
        "w_out = []\n",
        "\n",
        "for i in range(0, int(smallest_neg_eigenvalue_row['student size'])):\n",
        "  neuron_traj_x = np.fromstring(smallest_neg_eigenvalue_row['neuron_' + str(i) + '_traj_x'].values[0][1:-1], dtype=float, sep=',')\n",
        "  neuron_traj_y = np.fromstring(smallest_neg_eigenvalue_row['neuron_' + str(i) + '_traj_y'].values[0][1:-1], dtype=float, sep=',')\n",
        "\n",
        "  w_in.append([neuron_traj_x[-1], neuron_traj_y[-1]])\n",
        "\n",
        "  w_out.append(float(smallest_neg_eigenvalue_row['neuron_' + str(i) + '_a'].values[0]))\n",
        "\n",
        "w_out = [w_out]\n",
        "\n",
        "print(w_in)\n",
        "print(w_out)"
      ],
      "metadata": {
        "colab": {
          "base_uri": "https://localhost:8080/"
        },
        "id": "mmdwm8sGwlAj",
        "outputId": "a3d8acda-b334-405c-867e-2584fd87e05a"
      },
      "execution_count": 303,
      "outputs": [
        {
          "output_type": "stream",
          "name": "stdout",
          "text": [
            "[[-0.22891507, 0.027737318], [-0.36715215, -0.14208694], [0.91911304, -0.73121065], [-0.22889516, 0.027798353], [0.93499786, 0.62031204]]\n",
            "[[-0.46414444, 0.019733509, 0.3374083, -0.31379378, 0.42078778]]\n"
          ]
        }
      ]
    },
    {
      "cell_type": "markdown",
      "source": [
        "Secondly, we apply second order optimization from these weights.\n",
        "\n"
      ],
      "metadata": {
        "id": "4XytylW9xHQM"
      }
    },
    {
      "cell_type": "code",
      "source": [
        "params = OrderedDict([(\"w_in\", torch.Tensor(w_in)), (\"w_out\", torch.Tensor(w_out))])\n",
        "lb_dict = OrderedDict([(\"w_in\", torch.Tensor(w_in) - 1), (\"w_out\", torch.Tensor(w_out) - 1)])\n",
        "ub_dict = OrderedDict([(\"w_in\", torch.Tensor(w_in) + 1), (\"w_out\", torch.Tensor(w_out) + 1)])\n",
        "dummy_model = DummyNetwork(D_in, H_student, D_out, params[\"w_in\"], params[\"w_out\"])\n",
        "loss_before_optimization = nn.MSELoss()(dummy_model(dataset), y_labels).item()\n",
        "print('loss before optimization: ', loss_before_optimization)\n",
        "print('old params: ', params)\n",
        "# params = minimize(d_loss, params, method=\"\", lb_dict = lb_dict, ub_dict = ub_dict,\n",
        "#                   options={\"disp\": True , \"maxiter\": 10 ** 3}, tol=1e-8)\n",
        "params = minimize(d_loss, params, method=\"SLSQP\", lb_dict = lb_dict, ub_dict = ub_dict,\n",
        "                  options={\"disp\": True , \"maxiter\": 10 ** 4}, tol=1e-60)\n",
        "print('new params: ', params)"
      ],
      "metadata": {
        "colab": {
          "base_uri": "https://localhost:8080/"
        },
        "id": "zkQgI-unxHq7",
        "outputId": "29aca4a4-b9c1-4ed2-b77b-f3d890580bd1"
      },
      "execution_count": 304,
      "outputs": [
        {
          "output_type": "stream",
          "name": "stdout",
          "text": [
            "loss before optimization:  0.00011678227019729093\n",
            "old params:  OrderedDict([('w_in', tensor([[-0.2289,  0.0277],\n",
            "        [-0.3672, -0.1421],\n",
            "        [ 0.9191, -0.7312],\n",
            "        [-0.2289,  0.0278],\n",
            "        [ 0.9350,  0.6203]])), ('w_out', tensor([[-0.4641,  0.0197,  0.3374, -0.3138,  0.4208]]))])\n",
            "Optimization terminated successfully.    (Exit mode 0)\n",
            "            Current function value: 0.0001167822556453757\n",
            "            Iterations: 2\n",
            "            Function evaluations: 15\n",
            "            Gradient evaluations: 2\n",
            "new params:  OrderedDict([('w_in', tensor([[-0.2289,  0.0277],\n",
            "        [-0.3672, -0.1421],\n",
            "        [ 0.9191, -0.7312],\n",
            "        [-0.2289,  0.0278],\n",
            "        [ 0.9350,  0.6203]], requires_grad=True)), ('w_out', tensor([[-0.4641,  0.0197,  0.3374, -0.3138,  0.4208]], requires_grad=True))])\n"
          ]
        }
      ]
    },
    {
      "cell_type": "markdown",
      "source": [
        "New smallest eigenvalue after second order optimization."
      ],
      "metadata": {
        "id": "XqGxAOFHxP1q"
      }
    },
    {
      "cell_type": "code",
      "source": [
        "dummy_model = DummyNetwork(D_in, H_student, D_out, params[\"w_in\"], params[\"w_out\"])\n",
        "print('loss after optimization: ', nn.MSELoss()(dummy_model(dataset), y_labels))\n",
        "loss_grad = torch.autograd.grad(nn.MSELoss()(dummy_model(dataset), y_labels), dummy_model.parameters(), create_graph=True)\n",
        "grad_norm,   hessian = eval_hessian(loss_grad, dummy_model)\n",
        "smallest_eigenvalue = np.min(np.linalg.eigvals(hessian))\n",
        "print('new smallest eigenvelue:', smallest_eigenvalue)"
      ],
      "metadata": {
        "colab": {
          "base_uri": "https://localhost:8080/"
        },
        "id": "kV6c6s6exT7I",
        "outputId": "85903c4c-ad4d-49f6-b5ce-74df7a465008"
      },
      "execution_count": 305,
      "outputs": [
        {
          "output_type": "stream",
          "name": "stdout",
          "text": [
            "loss after optimization:  tensor(0.0001, grad_fn=<MseLossBackward0>)\n",
            "new smallest eigenvelue: -2.573106e-05\n"
          ]
        }
      ]
    },
    {
      "cell_type": "markdown",
      "source": [
        "## Choose an experiment with the (negative) eigenvalue with the smallest magnitude - indicative of a local/global minimum."
      ],
      "metadata": {
        "id": "oMbk4gY8VLGB"
      }
    },
    {
      "cell_type": "code",
      "source": [
        "highest_neg_eigenvalue_row = negative_eigenvalues_data[negative_eigenvalues_data['smallest eigenvalue'] == \n",
        "                          max(negative_eigenvalues_data['smallest eigenvalue'])]\n",
        "highest_neg_eigenvalue_row"
      ],
      "metadata": {
        "colab": {
          "base_uri": "https://localhost:8080/",
          "height": 214
        },
        "id": "1YECrSWnVjUH",
        "outputId": "166f1133-1e8d-4e63-fe5f-8fa8c9e17bff"
      },
      "execution_count": 306,
      "outputs": [
        {
          "output_type": "execute_result",
          "data": {
            "text/html": [
              "\n",
              "  <div id=\"df-b358f905-c878-4c00-8b14-b9f6d3138d94\">\n",
              "    <div class=\"colab-df-container\">\n",
              "      <div>\n",
              "<style scoped>\n",
              "    .dataframe tbody tr th:only-of-type {\n",
              "        vertical-align: middle;\n",
              "    }\n",
              "\n",
              "    .dataframe tbody tr th {\n",
              "        vertical-align: top;\n",
              "    }\n",
              "\n",
              "    .dataframe thead th {\n",
              "        text-align: right;\n",
              "    }\n",
              "</style>\n",
              "<table border=\"1\" class=\"dataframe\">\n",
              "  <thead>\n",
              "    <tr style=\"text-align: right;\">\n",
              "      <th></th>\n",
              "      <th>loss</th>\n",
              "      <th>gradient norm</th>\n",
              "      <th>smallest eigenvalue</th>\n",
              "      <th>student size</th>\n",
              "      <th>neuron_0_traj_x</th>\n",
              "      <th>neuron_0_traj_y</th>\n",
              "      <th>neuron_0_a</th>\n",
              "      <th>neuron_1_traj_x</th>\n",
              "      <th>neuron_1_traj_y</th>\n",
              "      <th>neuron_1_a</th>\n",
              "      <th>neuron_2_traj_x</th>\n",
              "      <th>neuron_2_traj_y</th>\n",
              "      <th>neuron_2_a</th>\n",
              "      <th>neuron_3_traj_x</th>\n",
              "      <th>neuron_3_traj_y</th>\n",
              "      <th>neuron_3_a</th>\n",
              "      <th>neuron_4_traj_x</th>\n",
              "      <th>neuron_4_traj_y</th>\n",
              "      <th>neuron_4_a</th>\n",
              "      <th>teacher_neurons_x</th>\n",
              "      <th>teacher_neurons_y</th>\n",
              "    </tr>\n",
              "  </thead>\n",
              "  <tbody>\n",
              "    <tr>\n",
              "      <th>735</th>\n",
              "      <td>0.000048</td>\n",
              "      <td>0.000002</td>\n",
              "      <td>-8.671902e-11</td>\n",
              "      <td>5</td>\n",
              "      <td>[-0.90857196, -0.90747195, -0.9064724, -0.9054...</td>\n",
              "      <td>[-0.004009843, -0.0029106995, -0.0019153812, -...</td>\n",
              "      <td>0.815155</td>\n",
              "      <td>[0.56349933, 0.56459904, 0.56559724, 0.5665929...</td>\n",
              "      <td>[-0.5952005, -0.59410083, -0.59310293, -0.5921...</td>\n",
              "      <td>0.331791</td>\n",
              "      <td>[0.6983309, 0.6994304, 0.70042783, 0.7014216, ...</td>\n",
              "      <td>[-0.31921273, -0.31811345, -0.31711724, -0.316...</td>\n",
              "      <td>0.221378</td>\n",
              "      <td>[-0.8815908, -0.8826906, -0.8836895, -0.884687...</td>\n",
              "      <td>[0.41154468, 0.41044503, 0.40944687, 0.4084513...</td>\n",
              "      <td>-1.442998</td>\n",
              "      <td>[-0.59875107, -0.5976512, -0.596652, -0.595653...</td>\n",
              "      <td>[0.4803276, 0.48142725, 0.48242548, 0.48342133...</td>\n",
              "      <td>0.075086</td>\n",
              "      <td>[0.6, -0.5, -0.2, 0.1]</td>\n",
              "      <td>[0.5, 0.5, -0.6, -0.6]</td>\n",
              "    </tr>\n",
              "  </tbody>\n",
              "</table>\n",
              "</div>\n",
              "      <button class=\"colab-df-convert\" onclick=\"convertToInteractive('df-b358f905-c878-4c00-8b14-b9f6d3138d94')\"\n",
              "              title=\"Convert this dataframe to an interactive table.\"\n",
              "              style=\"display:none;\">\n",
              "        \n",
              "  <svg xmlns=\"http://www.w3.org/2000/svg\" height=\"24px\"viewBox=\"0 0 24 24\"\n",
              "       width=\"24px\">\n",
              "    <path d=\"M0 0h24v24H0V0z\" fill=\"none\"/>\n",
              "    <path d=\"M18.56 5.44l.94 2.06.94-2.06 2.06-.94-2.06-.94-.94-2.06-.94 2.06-2.06.94zm-11 1L8.5 8.5l.94-2.06 2.06-.94-2.06-.94L8.5 2.5l-.94 2.06-2.06.94zm10 10l.94 2.06.94-2.06 2.06-.94-2.06-.94-.94-2.06-.94 2.06-2.06.94z\"/><path d=\"M17.41 7.96l-1.37-1.37c-.4-.4-.92-.59-1.43-.59-.52 0-1.04.2-1.43.59L10.3 9.45l-7.72 7.72c-.78.78-.78 2.05 0 2.83L4 21.41c.39.39.9.59 1.41.59.51 0 1.02-.2 1.41-.59l7.78-7.78 2.81-2.81c.8-.78.8-2.07 0-2.86zM5.41 20L4 18.59l7.72-7.72 1.47 1.35L5.41 20z\"/>\n",
              "  </svg>\n",
              "      </button>\n",
              "      \n",
              "  <style>\n",
              "    .colab-df-container {\n",
              "      display:flex;\n",
              "      flex-wrap:wrap;\n",
              "      gap: 12px;\n",
              "    }\n",
              "\n",
              "    .colab-df-convert {\n",
              "      background-color: #E8F0FE;\n",
              "      border: none;\n",
              "      border-radius: 50%;\n",
              "      cursor: pointer;\n",
              "      display: none;\n",
              "      fill: #1967D2;\n",
              "      height: 32px;\n",
              "      padding: 0 0 0 0;\n",
              "      width: 32px;\n",
              "    }\n",
              "\n",
              "    .colab-df-convert:hover {\n",
              "      background-color: #E2EBFA;\n",
              "      box-shadow: 0px 1px 2px rgba(60, 64, 67, 0.3), 0px 1px 3px 1px rgba(60, 64, 67, 0.15);\n",
              "      fill: #174EA6;\n",
              "    }\n",
              "\n",
              "    [theme=dark] .colab-df-convert {\n",
              "      background-color: #3B4455;\n",
              "      fill: #D2E3FC;\n",
              "    }\n",
              "\n",
              "    [theme=dark] .colab-df-convert:hover {\n",
              "      background-color: #434B5C;\n",
              "      box-shadow: 0px 1px 3px 1px rgba(0, 0, 0, 0.15);\n",
              "      filter: drop-shadow(0px 1px 2px rgba(0, 0, 0, 0.3));\n",
              "      fill: #FFFFFF;\n",
              "    }\n",
              "  </style>\n",
              "\n",
              "      <script>\n",
              "        const buttonEl =\n",
              "          document.querySelector('#df-b358f905-c878-4c00-8b14-b9f6d3138d94 button.colab-df-convert');\n",
              "        buttonEl.style.display =\n",
              "          google.colab.kernel.accessAllowed ? 'block' : 'none';\n",
              "\n",
              "        async function convertToInteractive(key) {\n",
              "          const element = document.querySelector('#df-b358f905-c878-4c00-8b14-b9f6d3138d94');\n",
              "          const dataTable =\n",
              "            await google.colab.kernel.invokeFunction('convertToInteractive',\n",
              "                                                     [key], {});\n",
              "          if (!dataTable) return;\n",
              "\n",
              "          const docLinkHtml = 'Like what you see? Visit the ' +\n",
              "            '<a target=\"_blank\" href=https://colab.research.google.com/notebooks/data_table.ipynb>data table notebook</a>'\n",
              "            + ' to learn more about interactive tables.';\n",
              "          element.innerHTML = '';\n",
              "          dataTable['output_type'] = 'display_data';\n",
              "          await google.colab.output.renderOutput(dataTable, element);\n",
              "          const docLink = document.createElement('div');\n",
              "          docLink.innerHTML = docLinkHtml;\n",
              "          element.appendChild(docLink);\n",
              "        }\n",
              "      </script>\n",
              "    </div>\n",
              "  </div>\n",
              "  "
            ],
            "text/plain": [
              "         loss  gradient norm  ...       teacher_neurons_x       teacher_neurons_y\n",
              "735  0.000048       0.000002  ...  [0.6, -0.5, -0.2, 0.1]  [0.5, 0.5, -0.6, -0.6]\n",
              "\n",
              "[1 rows x 21 columns]"
            ]
          },
          "metadata": {},
          "execution_count": 306
        }
      ]
    },
    {
      "cell_type": "code",
      "source": [
        "plot_trajectories(highest_neg_eigenvalue_row)"
      ],
      "metadata": {
        "colab": {
          "base_uri": "https://localhost:8080/",
          "height": 265
        },
        "id": "bRy1DeCFVtL0",
        "outputId": "a3ee169f-1c41-45b8-f9c1-a139283980a6"
      },
      "execution_count": 307,
      "outputs": [
        {
          "output_type": "display_data",
          "data": {
            "image/png": "[encoded data removed]",
            "text/plain": [
              "<Figure size 432x288 with 2 Axes>"
            ]
          },
          "metadata": {
            "needs_background": "light"
          }
        }
      ]
    },
    {
      "cell_type": "markdown",
      "source": [
        "### Second order optimization starting with the point of convergence."
      ],
      "metadata": {
        "id": "uiozlqpZGCpL"
      }
    },
    {
      "cell_type": "markdown",
      "source": [
        "Firstly, we fetch the weights from the student network."
      ],
      "metadata": {
        "id": "UQ5ZWEzkYH34"
      }
    },
    {
      "cell_type": "code",
      "source": [
        "w_in = []\n",
        "w_out = []\n",
        "\n",
        "for i in range(0, int(highest_neg_eigenvalue_row['student size'])):\n",
        "  neuron_traj_x = np.fromstring(highest_neg_eigenvalue_row['neuron_' + str(i) + '_traj_x'].values[0][1:-1], dtype=float, sep=',')\n",
        "  neuron_traj_y = np.fromstring(highest_neg_eigenvalue_row['neuron_' + str(i) + '_traj_y'].values[0][1:-1], dtype=float, sep=',')\n",
        "\n",
        "  w_in.append([neuron_traj_x[-1], neuron_traj_y[-1]])\n",
        "\n",
        "  w_out.append(float(highest_neg_eigenvalue_row['neuron_' + str(i) + '_a'].values[0]))\n",
        "\n",
        "w_out = [w_out]\n",
        "\n",
        "print(w_in)\n",
        "print(w_out)"
      ],
      "metadata": {
        "colab": {
          "base_uri": "https://localhost:8080/"
        },
        "id": "8SkEmyt5GFS8",
        "outputId": "ffb7d13e-bb8a-463a-a420-3fe6f40fb239"
      },
      "execution_count": 308,
      "outputs": [
        {
          "output_type": "stream",
          "name": "stdout",
          "text": [
            "[[-0.43876052, -0.59079546], [0.72210443, -0.60179526], [0.72210443, -0.60179526], [-0.5514223, -0.47291625], [-0.52102506, 1.8085183]]\n",
            "[[0.8151552, 0.33179128, 0.22137819, -1.4429983999999998, 0.07508643]]\n"
          ]
        }
      ]
    },
    {
      "cell_type": "markdown",
      "source": [
        "Secondly, we apply second order optimization from these weights.\n",
        "\n"
      ],
      "metadata": {
        "id": "Vo-8qWlnYDeJ"
      }
    },
    {
      "cell_type": "code",
      "source": [
        "params = OrderedDict([(\"w_in\", torch.Tensor(w_in)), (\"w_out\", torch.Tensor(w_out))])\n",
        "lb_dict = OrderedDict([(\"w_in\", torch.Tensor(w_in) - 1), (\"w_out\", torch.Tensor(w_out) - 1)])\n",
        "ub_dict = OrderedDict([(\"w_in\", torch.Tensor(w_in) + 1), (\"w_out\", torch.Tensor(w_out) + 1)])\n",
        "dummy_model = DummyNetwork(D_in, H_student, D_out, params[\"w_in\"], params[\"w_out\"])\n",
        "loss_before_optimization = nn.MSELoss()(dummy_model(dataset), y_labels).item()\n",
        "print('loss before optimization: ', loss_before_optimization)\n",
        "print('old params: ',params)\n",
        "# params = minimize(d_loss, params, method=\"\", lb_dict = lb_dict, ub_dict = ub_dict,\n",
        "#                   options={\"disp\": True , \"maxiter\": 10 ** 3}, tol=1e-8)\n",
        "params = minimize(d_loss, params, method=\"SLSQP\", lb_dict = lb_dict, ub_dict = ub_dict,\n",
        "                  options={\"disp\": True , \"maxiter\": 10 ** 4}, tol=1e-60)\n",
        "print('new params: ',params)"
      ],
      "metadata": {
        "colab": {
          "base_uri": "https://localhost:8080/"
        },
        "id": "wA-Otd0XYQrH",
        "outputId": "708520ae-b160-4fea-9723-4daf8f7fce86"
      },
      "execution_count": 309,
      "outputs": [
        {
          "output_type": "stream",
          "name": "stdout",
          "text": [
            "loss before optimization:  4.78385372844059e-05\n",
            "old params:  OrderedDict([('w_in', tensor([[-0.4388, -0.5908],\n",
            "        [ 0.7221, -0.6018],\n",
            "        [ 0.7221, -0.6018],\n",
            "        [-0.5514, -0.4729],\n",
            "        [-0.5210,  1.8085]])), ('w_out', tensor([[ 0.8152,  0.3318,  0.2214, -1.4430,  0.0751]]))])\n",
            "Optimization terminated successfully.    (Exit mode 0)\n",
            "            Current function value: 4.709375571110286e-05\n",
            "            Iterations: 85\n",
            "            Function evaluations: 107\n",
            "            Gradient evaluations: 85\n",
            "new params:  OrderedDict([('w_in', tensor([[-0.4664, -0.5500],\n",
            "        [ 0.7237, -0.6018],\n",
            "        [ 0.7235, -0.6016],\n",
            "        [-0.5255, -0.4916],\n",
            "        [-0.5236,  1.8065]], requires_grad=True)), ('w_out', tensor([[ 1.8152,  0.3316,  0.2214, -2.4422,  0.0745]], requires_grad=True))])\n"
          ]
        }
      ]
    },
    {
      "cell_type": "markdown",
      "source": [
        "New smallest eigenvalue after second order optimization."
      ],
      "metadata": {
        "id": "VjoVQPYodRX5"
      }
    },
    {
      "cell_type": "code",
      "source": [
        "dummy_model = DummyNetwork(D_in, H_student, D_out, params[\"w_in\"], params[\"w_out\"])\n",
        "print('loss after optimization: ', nn.MSELoss()(dummy_model(dataset), y_labels))\n",
        "loss_grad = torch.autograd.grad(nn.MSELoss()(dummy_model(dataset), y_labels), dummy_model.parameters(), create_graph=True)\n",
        "grad_norm, hessian = eval_hessian(loss_grad, dummy_model)\n",
        "smallest_eigenvalue = np.min(np.linalg.eigvals(hessian))\n",
        "print('new smallest eigenvelue:', smallest_eigenvalue)"
      ],
      "metadata": {
        "colab": {
          "base_uri": "https://localhost:8080/"
        },
        "id": "FthBKCaFdVEW",
        "outputId": "88877bd7-5572-4ca4-f239-b1dae4219906"
      },
      "execution_count": 310,
      "outputs": [
        {
          "output_type": "stream",
          "name": "stdout",
          "text": [
            "loss after optimization:  tensor(4.7094e-05, grad_fn=<MseLossBackward0>)\n",
            "new smallest eigenvelue: 2.277758e-07\n"
          ]
        }
      ]
    },
    {
      "cell_type": "markdown",
      "source": [
        "# How many are global minima?"
      ],
      "metadata": {
        "id": "I3FA0ScpWg3W"
      }
    },
    {
      "cell_type": "code",
      "source": [
        "len(data[data['loss'] <= 1e-8])"
      ],
      "metadata": {
        "colab": {
          "base_uri": "https://localhost:8080/"
        },
        "id": "cvrO1jioWjea",
        "outputId": "3babc3b1-12b5-4d42-9517-f96b88d5f609"
      },
      "execution_count": 311,
      "outputs": [
        {
          "output_type": "execute_result",
          "data": {
            "text/plain": [
              "33"
            ]
          },
          "metadata": {},
          "execution_count": 311
        }
      ]
    }
  ]
}